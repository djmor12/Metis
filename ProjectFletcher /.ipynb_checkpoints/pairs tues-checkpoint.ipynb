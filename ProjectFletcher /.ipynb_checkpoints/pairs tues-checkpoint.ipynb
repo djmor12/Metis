{
 "cells": [
  {
   "cell_type": "code",
   "execution_count": 3,
   "metadata": {
    "ExecuteTime": {
     "end_time": "2018-05-22T16:31:01.269390Z",
     "start_time": "2018-05-22T16:31:01.235293Z"
    }
   },
   "outputs": [],
   "source": [
    "import nltk\n",
    "from textblob import TextBlob"
   ]
  },
  {
   "cell_type": "code",
   "execution_count": 27,
   "metadata": {
    "ExecuteTime": {
     "end_time": "2018-05-22T20:07:16.607406Z",
     "start_time": "2018-05-22T20:07:16.602972Z"
    }
   },
   "outputs": [],
   "source": [
    "text = [\"wookie stormtrooper\",\n",
    "        \"wookie wookie wookie stormtrooper stormtrooper stormtrooper\",\n",
    "        \"harry potter\"]\n",
    "vect = CountVectorizer()\n",
    "data = vect.fit_transform(text).todense()"
   ]
  },
  {
   "cell_type": "code",
   "execution_count": 29,
   "metadata": {
    "ExecuteTime": {
     "end_time": "2018-05-22T20:07:56.206574Z",
     "start_time": "2018-05-22T20:07:56.202602Z"
    }
   },
   "outputs": [
    {
     "name": "stdout",
     "output_type": "stream",
     "text": [
      "['harry', 'potter', 'stormtrooper', 'wookie']\n",
      "[[0 0 1 1]\n",
      " [0 0 3 3]\n",
      " [1 1 0 0]]\n"
     ]
    }
   ],
   "source": [
    "#Bag of words approach, kinda like naive bayes\n",
    "print(vect.get_feature_names())\n",
    "print(data)"
   ]
  },
  {
   "cell_type": "code",
   "execution_count": 36,
   "metadata": {
    "ExecuteTime": {
     "end_time": "2018-05-22T20:09:25.309131Z",
     "start_time": "2018-05-22T20:09:25.306230Z"
    }
   },
   "outputs": [],
   "source": [
    "from sklearn.feature_extraction.text import TfidfVectorizer, CountVectorizer\n",
    "from sklearn.metrics.pairwise import cosine_similarity, euclidean_distances, pairwise_distances"
   ]
  },
  {
   "cell_type": "code",
   "execution_count": 37,
   "metadata": {
    "ExecuteTime": {
     "end_time": "2018-05-22T20:10:08.411632Z",
     "start_time": "2018-05-22T20:10:08.304690Z"
    }
   },
   "outputs": [
    {
     "name": "stdout",
     "output_type": "stream",
     "text": [
      "[[0.         2.82842712 2.        ]\n",
      " [2.82842712 0.         4.47213595]\n",
      " [2.         4.47213595 0.        ]]\n"
     ]
    }
   ],
   "source": [
    "print(pairwise_distances(data, metric = 'euclidean'))"
   ]
  },
  {
   "cell_type": "code",
   "execution_count": 43,
   "metadata": {
    "ExecuteTime": {
     "end_time": "2018-05-22T20:13:26.582231Z",
     "start_time": "2018-05-22T20:13:26.577703Z"
    }
   },
   "outputs": [
    {
     "name": "stdout",
     "output_type": "stream",
     "text": [
      "[[0. 0. 1.]\n",
      " [0. 0. 1.]\n",
      " [1. 1. 0.]]\n"
     ]
    }
   ],
   "source": [
    "print(pairwise_distances(data, metric = 'cosine'))\n",
    "#cosine distance is compliment of cosine similarity\n",
    "#if a document is simliar, we hope to see 0\n",
    "#cosine is a good metric for documents"
   ]
  },
  {
   "cell_type": "code",
   "execution_count": null,
   "metadata": {},
   "outputs": [],
   "source": []
  },
  {
   "cell_type": "code",
   "execution_count": 39,
   "metadata": {
    "ExecuteTime": {
     "end_time": "2018-05-22T20:10:35.619315Z",
     "start_time": "2018-05-22T20:10:35.612951Z"
    }
   },
   "outputs": [],
   "source": [
    "# Vectorise the data\n",
    "vec = TfidfVectorizer()\n",
    "X = vec.fit_transform(text) # `X` will now be a TF-IDF representation of the data, the first row of `X` corresponds to the first sentence in `data`\n",
    "\n",
    "# Calculate the pairwise cosine similarities (depending on the amount of data that you are going to have this could take a while)\n",
    "S = cosine_similarity(data)\n",
    "E = euclidean_distances(data)"
   ]
  },
  {
   "cell_type": "code",
   "execution_count": 40,
   "metadata": {
    "ExecuteTime": {
     "end_time": "2018-05-22T20:10:36.168083Z",
     "start_time": "2018-05-22T20:10:36.164386Z"
    }
   },
   "outputs": [
    {
     "data": {
      "text/plain": [
       "array([[1., 1., 0.],\n",
       "       [1., 1., 0.],\n",
       "       [0., 0., 1.]])"
      ]
     },
     "execution_count": 40,
     "metadata": {},
     "output_type": "execute_result"
    }
   ],
   "source": [
    "S"
   ]
  },
  {
   "cell_type": "code",
   "execution_count": 41,
   "metadata": {
    "ExecuteTime": {
     "end_time": "2018-05-22T20:10:36.662941Z",
     "start_time": "2018-05-22T20:10:36.659144Z"
    }
   },
   "outputs": [
    {
     "data": {
      "text/plain": [
       "array([[0.        , 2.82842712, 2.        ],\n",
       "       [2.82842712, 0.        , 4.47213595],\n",
       "       [2.        , 4.47213595, 0.        ]])"
      ]
     },
     "execution_count": 41,
     "metadata": {},
     "output_type": "execute_result"
    }
   ],
   "source": [
    "E"
   ]
  },
  {
   "cell_type": "code",
   "execution_count": 34,
   "metadata": {
    "ExecuteTime": {
     "end_time": "2018-05-22T20:09:02.228996Z",
     "start_time": "2018-05-22T20:09:02.225396Z"
    }
   },
   "outputs": [
    {
     "data": {
      "text/plain": [
       "<3x4 sparse matrix of type '<class 'numpy.float64'>'\n",
       "\twith 6 stored elements in Compressed Sparse Row format>"
      ]
     },
     "execution_count": 34,
     "metadata": {},
     "output_type": "execute_result"
    }
   ],
   "source": [
    "X"
   ]
  },
  {
   "cell_type": "code",
   "execution_count": null,
   "metadata": {},
   "outputs": [],
   "source": []
  }
 ],
 "metadata": {
  "kernelspec": {
   "display_name": "Python 3",
   "language": "python",
   "name": "python3"
  },
  "language_info": {
   "codemirror_mode": {
    "name": "ipython",
    "version": 3
   },
   "file_extension": ".py",
   "mimetype": "text/x-python",
   "name": "python",
   "nbconvert_exporter": "python",
   "pygments_lexer": "ipython3",
   "version": "3.6.4"
  }
 },
 "nbformat": 4,
 "nbformat_minor": 2
}
