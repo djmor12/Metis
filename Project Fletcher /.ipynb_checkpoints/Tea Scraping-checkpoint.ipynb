{
 "cells": [
  {
   "cell_type": "code",
   "execution_count": 223,
   "metadata": {
    "ExecuteTime": {
     "end_time": "2018-05-20T23:48:56.924518Z",
     "start_time": "2018-05-20T23:48:56.919716Z"
    }
   },
   "outputs": [],
   "source": [
    "import requests as rq\n",
    "import pandas as pd\n",
    "import numpy as np\n",
    "from bs4 import BeautifulSoup as soup\n",
    "import re\n",
    "import time\n",
    "import csv\n",
    "import pickle\n",
    "from pprint import pprint"
   ]
  },
  {
   "cell_type": "code",
   "execution_count": 226,
   "metadata": {
    "ExecuteTime": {
     "end_time": "2018-05-20T23:56:24.974728Z",
     "start_time": "2018-05-20T23:56:24.967566Z"
    }
   },
   "outputs": [],
   "source": [
    "#Proxies need to be changed each run until data is collected!\n",
    "proxies = {\n",
    "    \"http\": 'http://159.65.35.102:3128', \n",
    "    \"https\": 'http://159.65.35.102:3128'\n",
    "}\n",
    "prox2 = {\n",
    "    \"http\": 'http://206.189.4.204:8118', \n",
    "    \"https\": 'http://206.189.4.204:8118'\n",
    "}\n",
    "prox3 = {\n",
    "    \"http\": 'http://54.176.254.234:8080', \n",
    "    \"https\": 'http://54.176.254.234:8080'\n",
    "}\n",
    "prox4 = {\n",
    "    \"http\": 'http://159.65.47.178:8888', \n",
    "    \"https\": 'http://159.65.47.178:8888'\n",
    "}\n",
    "start_url = 'https://steepster.com/teas?green=on'\n",
    "search_base = 'https://steepster.com/teas?green=on&page=' #Add page number to end\n",
    "ttype_list = ['Green Tea','Black Tea','Pu-Erh Tea','Oolong Tea','White Tea','Matcha Tea','Yellow Tea']"
   ]
  },
  {
   "cell_type": "code",
   "execution_count": null,
   "metadata": {},
   "outputs": [],
   "source": [
    "response = rq.get(start_url)"
   ]
  },
  {
   "cell_type": "code",
   "execution_count": 20,
   "metadata": {
    "ExecuteTime": {
     "end_time": "2018-05-20T14:31:45.751920Z",
     "start_time": "2018-05-20T14:31:45.606735Z"
    }
   },
   "outputs": [],
   "source": [
    "response = rq.get(start_url)\n",
    "page = response.text\n",
    "mainpage = soup(page,\"lxml\")"
   ]
  },
  {
   "cell_type": "code",
   "execution_count": 22,
   "metadata": {
    "ExecuteTime": {
     "end_time": "2018-05-20T14:32:08.574399Z",
     "start_time": "2018-05-20T14:32:08.565650Z"
    }
   },
   "outputs": [],
   "source": [
    "#Getting all cases where we have a /talks url\n",
    "list_1 = mainpage.find_all(class_='entry-count')"
   ]
  },
  {
   "cell_type": "code",
   "execution_count": 160,
   "metadata": {
    "ExecuteTime": {
     "end_time": "2018-05-20T23:10:17.109565Z",
     "start_time": "2018-05-20T23:08:47.337995Z"
    }
   },
   "outputs": [
    {
     "data": {
      "text/plain": [
       "['https://steepster.com/teas/bird-pick-tea-and-herb/5862-premium-silky-green-tea',\n",
       " 'https://steepster.com/teas/capital-teas/11951-madame-butterfly-jasmine',\n",
       " 'https://steepster.com/teas/mellow-monk/9667-shaded-leaf',\n",
       " 'https://steepster.com/teas/california-tea-house/3164-white-monkey-paw',\n",
       " 'https://steepster.com/teas/david-rio/5159-tahitian-tangerine',\n",
       " 'https://steepster.com/teas/teavivre/28288-superfine-jasmine-downy-dragon-pearls-green-tea',\n",
       " 'https://steepster.com/teas/whispering-pines-tea-company/62030-high-mountain-xinyang-maojian',\n",
       " 'https://steepster.com/teas/mellow-monk/9565-top-leaf',\n",
       " 'https://steepster.com/teas/rare-tea-republic/23354-jun-chiyabari-himalayan-evergreen',\n",
       " 'https://steepster.com/teas/teagschwendner/6087-japan-matcha-hikari-powdered',\n",
       " 'https://steepster.com/teas/aiya/22367-ceremonial-matcha',\n",
       " 'https://steepster.com/teas/butiki-teas/33339-potato-pancakes-and-applesauce-holiday-series-hanukkah',\n",
       " 'https://steepster.com/teas/t2/10181-buddhas-tears',\n",
       " 'https://steepster.com/teas/dens-tea/2037-hashiri-shincha',\n",
       " 'https://steepster.com/teas/teavivre/36669-organic-nonpareil-ming-qian-dragon-well-long-jing-green-tea',\n",
       " 'https://steepster.com/teas/sleepy-leaf/44933-popcorn-tea',\n",
       " 'https://steepster.com/teas/mystea/24406-prune-et-orchidee-slash-plum-and-orchid-slash-mei-lan-chun',\n",
       " 'https://steepster.com/teas/silk-road-teas/10491-drum-mountain-clouds-and-mist-gua-shan-yun-wu',\n",
       " 'https://steepster.com/teas/wooree-tea/69275-imperial',\n",
       " 'https://steepster.com/teas/t2/28538-creamy-choc-chai',\n",
       " 'https://steepster.com/teas/mountain-rose-herbs/19196-dao-ren-peak',\n",
       " 'https://steepster.com/teas/silk-road-teas/6809-green-snail-spring-bi-luo-chun',\n",
       " 'https://steepster.com/teas/mandala-tea/18275-premium-dragon-phoenix-pearls',\n",
       " 'https://steepster.com/teas/kroger-private-selection/31572-honey-lemon-ginseng-green-tea',\n",
       " 'https://steepster.com/teas/little-red-cup-tea-co/27290-green-eyebrow-lu-mei',\n",
       " 'https://steepster.com/teas/davidstea/41290-organic-some-velvet-morning',\n",
       " 'https://steepster.com/teas/aiya/37711-premium-sencha',\n",
       " 'https://steepster.com/teas/teavivre/21769-premium-dragon-well-long-jing-green-tea',\n",
       " 'https://steepster.com/teas/yogic-chai/4524-coconut-kukicha-masala-chai',\n",
       " 'https://steepster.com/teas/red-leaf-tea/36889-caramel-matchaccino',\n",
       " 'https://steepster.com/teas/yamamotoyama/18800-ginger-tea',\n",
       " 'https://steepster.com/teas/kroger-private-selection/15714-green-tea-with-rose-petals-dimensionalitea-long-leaf-tea',\n",
       " 'https://steepster.com/teas/aiya/22366-premium-grade-matcha',\n",
       " 'https://steepster.com/teas/pure-matcha/17242-green-matcha',\n",
       " 'https://steepster.com/teas/whispering-pines-tea-company/30443-the-sleeping-bear-blend',\n",
       " 'https://steepster.com/teas/verdant-tea/30338-mrs-lis-shi-feng-dragonwell-green-tea',\n",
       " 'https://steepster.com/teas/dens-tea/7034-pineapple-sencha',\n",
       " 'https://steepster.com/teas/butiki-teas/32280-creamy-eggnog',\n",
       " 'https://steepster.com/teas/teavivre/27091-superfine-pre-ming-dragon-well-long-jing-tea',\n",
       " 'https://steepster.com/teas/butiki-teas/22564-organic-blue-nettle',\n",
       " 'https://steepster.com/teas/kyoto-obubu-tea-farms/16867-sencha-of-the-summer-sun',\n",
       " 'https://steepster.com/teas/o-cha-dot-com/2996-kagoshima-sencha-yutaka-midori',\n",
       " 'https://steepster.com/teas/sleepy-leaf/44936-jasmine-blossom-green-tea',\n",
       " 'https://steepster.com/teas/verdant-tea/20057-dragonwell-style-laoshan-green',\n",
       " 'https://steepster.com/teas/teavivre/45568-organic-nonpareil-she-qian-dragon-well-long-jing-green-tea',\n",
       " 'https://steepster.com/teas/camellia-sinensis/10261-anji-bai-cha',\n",
       " 'https://steepster.com/teas/koyu-matcha/10322-koyu-organic-premium-matcha',\n",
       " 'https://steepster.com/teas/teavivre/27492-organic-superfine-dragon-well-long-jing-green-tea',\n",
       " 'https://steepster.com/teas/verdant-tea/29087-summer-harvest-laoshan-green',\n",
       " 'https://steepster.com/teas/o-cha-dot-com/19527-uji-gyokuro-kame-jiru-shi',\n",
       " 'https://steepster.com/teas/verdant-tea/20058-spring-harvest-laoshan-green',\n",
       " 'https://steepster.com/teas/red-leaf-tea/45672-starbucks-matcha-green-tea-frappe',\n",
       " 'https://steepster.com/teas/mellow-monk/29013-yuzu-dream',\n",
       " 'https://steepster.com/teas/chai-and-mighty/78800-the-queen-of-greens',\n",
       " 'https://steepster.com/teas/dens-tea/10700-gyokuro-suimei',\n",
       " 'https://steepster.com/teas/verdant-tea/32444-laoshan-bilochun-green',\n",
       " 'https://steepster.com/teas/lupicia/11772-matcha-100g',\n",
       " 'https://steepster.com/teas/sleepy-leaf/44935-japan-sencha',\n",
       " 'https://steepster.com/teas/della-terra-teas/32336-roasted-apple',\n",
       " 'https://steepster.com/teas/mandala-tea/25258-valley-peak-ding-gu-da-fang',\n",
       " 'https://steepster.com/teas/lupicia/7851-sencha-uji',\n",
       " 'https://steepster.com/teas/ovation-teas/34896-phoenix-jasmine-pearls',\n",
       " 'https://steepster.com/teas/english-tea-store/13375-genmaicha',\n",
       " 'https://steepster.com/teas/davidstea/1691-butterfly-jasmine',\n",
       " 'https://steepster.com/teas/steepster/44404-jasmine-pearls',\n",
       " 'https://steepster.com/teas/what-cha/51913-china-zhejiang-wild-growing-dragon-well-long-jing-green-tea',\n",
       " 'https://steepster.com/teas/red-blossom-tea-company/13013-ming-qian-dragonwell-shifeng-2010',\n",
       " 'https://steepster.com/teas/teamotions/18717-find-strength-passionfruit-jasmine-green-tea',\n",
       " 'https://steepster.com/teas/loyd-tea/9147-green-sense-aromatherapy-green-and-aloe-vera',\n",
       " 'https://steepster.com/teas/davidstea/12070-spring-break',\n",
       " 'https://steepster.com/teas/teaopia/24043-ginger-green',\n",
       " 'https://steepster.com/teas/chai-and-mighty/78805-the-windsor-masala',\n",
       " 'https://steepster.com/teas/yunomi/39667-kurihara-heritage-gyokuro',\n",
       " 'https://steepster.com/teas/52teas/5233-pomegranate-green-tea',\n",
       " 'https://steepster.com/teas/dens-tea/8143-gyokuro-kin',\n",
       " 'https://steepster.com/teas/teatreasure/79395-minty-fusion-tea',\n",
       " 'https://steepster.com/teas/nannuoshan/56375-anji-bai-cha',\n",
       " 'https://steepster.com/teas/o-cha-dot-com/12893-chiran-sencha',\n",
       " 'https://steepster.com/teas/arbor-teas/4274-organic-gyokuro-green-tea',\n",
       " 'https://steepster.com/teas/yunnan-sourcing/22117-jasmine-pearls-imperial-grade-certified-organic',\n",
       " 'https://steepster.com/teas/java-tea-co/37481-the-lover',\n",
       " 'https://steepster.com/teas/mariage-freres/5839-iskandar',\n",
       " 'https://steepster.com/teas/upton-tea-imports/10241-tj10-japanese-sencha',\n",
       " 'https://steepster.com/teas/yunnan-sourcing/79706-classic-laoshan-green-tea-from-shandong-star-spring-2017',\n",
       " 'https://steepster.com/teas/camellia-sinensis/17649-matcha-sendo',\n",
       " 'https://steepster.com/teas/marukyu-koyamaen/12049-hatsu-enishi-shin-matcha-gold',\n",
       " 'https://steepster.com/teas/voila-in-frederick/29728-enchanted-forest',\n",
       " 'https://steepster.com/teas/adagio-teas/29111-cancer-the-zodiac-series',\n",
       " 'https://steepster.com/teas/yuuki-cha/23863-organic-kagoshima-sencha-saemidori',\n",
       " 'https://steepster.com/teas/steap-shoppe/29053-chamomile-and-yun-wu-green-tea-blend',\n",
       " 'https://steepster.com/teas/lupicia/8743-gyokuro-pine-breeze',\n",
       " 'https://steepster.com/teas/davidstea/15175-gyokuro-yamashiro',\n",
       " 'https://steepster.com/teas/samovar/9421-tencha-chiyo-no-sakae',\n",
       " 'https://steepster.com/teas/american-tea-room/19561-genmaicha',\n",
       " 'https://steepster.com/teas/culinary-teas/19838-cold-brew-mint-green-tea',\n",
       " 'https://steepster.com/teas/hojo-tea/64787-asamiya-sencha',\n",
       " 'https://steepster.com/teas/teaopia/22247-love-spell',\n",
       " 'https://steepster.com/teas/lupicia/5990-chestnut-green-tea',\n",
       " 'https://steepster.com/teas/domatcha/8647-organic-matcha',\n",
       " 'https://steepster.com/teas/verdant-tea/38138-mrs-lis-1st-picking-shi-feng-dragonwell',\n",
       " 'https://steepster.com/teas/verdant-tea/21312-sun-dried-jingshan-green',\n",
       " 'https://steepster.com/teas/red-leaf-tea/12982-immortalitea',\n",
       " 'https://steepster.com/teas/verdant-tea/30507-laoshan-genmaicha',\n",
       " 'https://steepster.com/teas/verdant-tea/23197-dragonwell-style-laoshan-green-autumn-harvest',\n",
       " 'https://steepster.com/teas/harney-and-sons/6006-meijiawu-lung-ching',\n",
       " 'https://steepster.com/teas/drink-t/14864-magic-moon',\n",
       " 'https://steepster.com/teas/mountain-rose-herbs/9897-jasmine-tea',\n",
       " 'https://steepster.com/teas/aiya/33940-organic-gyokuro',\n",
       " 'https://steepster.com/teas/dens-tea/4666-tencha-kuki-houjicha',\n",
       " 'https://steepster.com/teas/mabroc/27619-1001-nights',\n",
       " 'https://steepster.com/teas/discover-teas/31655-sencha-kyoto-cherry-rose-festival',\n",
       " 'https://steepster.com/teas/kettl/41279-shizuku-gyokuro',\n",
       " 'https://steepster.com/teas/tamborine-tea/7798-ginger-and-lemon',\n",
       " 'https://steepster.com/teas/seven-cups/7936-shi-feng-long-jing-2008',\n",
       " 'https://steepster.com/teas/unknown/5404-jasmin-pearl',\n",
       " 'https://steepster.com/teas/jamba-juice/13188-matcha-energy-shot-oj',\n",
       " 'https://steepster.com/teas/marukyu-koyamaen/27684-kabusecha-takamado',\n",
       " 'https://steepster.com/teas/coastal-tea-company/66682-ceremonial-drinkers-matcha',\n",
       " 'https://steepster.com/teas/the-tea-haus/26079-olaa',\n",
       " 'https://steepster.com/teas/blendbee/69120-bang-bang',\n",
       " 'https://steepster.com/teas/kensington-tea-co/34136-genmaicha',\n",
       " 'https://steepster.com/teas/home-farm-herbery/38436-caffeine-lovers-teas-of-the-world-5-pack-sampler',\n",
       " 'https://steepster.com/teas/steap-shoppe/29153-green-chai-tea',\n",
       " 'https://steepster.com/teas/teaopia/26325-coconut-creme',\n",
       " 'https://steepster.com/teas/fusion-teas/32261-pink-earl-grey',\n",
       " 'https://steepster.com/teas/verdant-tea/24154-autumn-laoshan-green',\n",
       " 'https://steepster.com/teas/butiki-teas/29759-organic-huangshan-mao-feng',\n",
       " 'https://steepster.com/teas/t2/18177-sencha-quince',\n",
       " 'https://steepster.com/teas/52teas/18704-special-pina-colada-green',\n",
       " 'https://steepster.com/teas/verdant-tea/37366-spring-harvest-laoshan-green-2013',\n",
       " 'https://steepster.com/teas/white-august/13806-rogue-wave',\n",
       " 'https://steepster.com/teas/rishi-tea/395-nishi-1st-flush-sencha',\n",
       " 'https://steepster.com/teas/joys-teaspoon/16169-mahalo',\n",
       " 'https://steepster.com/teas/the-boston-tea-company/16393-dragonwell',\n",
       " 'https://steepster.com/teas/tamborine-tea/8473-green-tea-with-dillseed',\n",
       " 'https://steepster.com/teas/tealet/32844-kyobancha-obubu',\n",
       " 'https://steepster.com/teas/tea-licious/19801-gyokuro',\n",
       " 'https://steepster.com/teas/butiki-teas/18473-genmaicha',\n",
       " 'https://steepster.com/teas/wegmans/2039-lavender-sencha',\n",
       " 'https://steepster.com/teas/blue-lantern-tea/39150-dragon-well-lung-ching',\n",
       " 'https://steepster.com/teas/its-moringa/17387-moringa',\n",
       " 'https://steepster.com/teas/moondreamtea/12555-g4',\n",
       " 'https://steepster.com/teas/seven-cups/22097-meng-ding-gan-lu-sweet-dew-organic-green-tea',\n",
       " 'https://steepster.com/teas/trader-joes/34326-organic-mint-melagne',\n",
       " 'https://steepster.com/teas/aroma-tea-shop/53651-mao-jian-2014',\n",
       " 'https://steepster.com/teas/vintage-teaworks/29233-green-tea-sauvignon',\n",
       " 'https://steepster.com/teas/mandala-tea/45147-nine-lotus',\n",
       " 'https://steepster.com/teas/empire-tea-services/13898-peach-and-apricot-green-tea',\n",
       " 'https://steepster.com/teas/yuuki-cha/22583-organic-miyazaki-kamairicha-okumidori',\n",
       " 'https://steepster.com/teas/verdant-tea/68736-laoshan-pine-needle-green',\n",
       " 'https://steepster.com/teas/golden-moon-tea/20727-golden-bi-lo',\n",
       " 'https://steepster.com/teas/teatreasure/79869-pure-chamomile-flower',\n",
       " 'https://steepster.com/teas/dryad-tea/35609-goblin-green-tea',\n",
       " 'https://steepster.com/teas/majani/32465-faraja-organic-green-tea',\n",
       " 'https://steepster.com/teas/dens-tea/519-shincha-houryoku',\n",
       " 'https://steepster.com/teas/a-quarter-to-tea/78304-peep-crispies-genmaicha',\n",
       " 'https://steepster.com/teas/gorreana/17148-green-tea',\n",
       " 'https://steepster.com/teas/what-cha/48452-nepal-1st-flush-2014-emerald-green-tea',\n",
       " 'https://steepster.com/teas/a-quarter-to-tea/68799-spumoni-green-tea',\n",
       " 'https://steepster.com/teas/blue-lantern-tea/37885-green-snail-spring-bi-luo-chun',\n",
       " 'https://steepster.com/teas/benner-tea/5817-green-tea',\n",
       " 'https://steepster.com/teas/dens-tea/15232-organic-genmaicha-whole-leaf-teabag',\n",
       " 'https://steepster.com/teas/sugimoto-america/12104-temomi-shincha',\n",
       " 'https://steepster.com/teas/simple-bodega/19884-sweet-orchid',\n",
       " 'https://steepster.com/teas/yuuki-cha/29367-kagoshima-sencha-asatsuyu',\n",
       " 'https://steepster.com/teas/mellow-monk/9626-monks-choice',\n",
       " 'https://steepster.com/teas/verdant-tea/41036-summer-harvest-laoshan-green-2013',\n",
       " 'https://steepster.com/teas/sei-mee-tea/3444-sei-mee']"
      ]
     },
     "execution_count": 160,
     "metadata": {},
     "output_type": "execute_result"
    }
   ],
   "source": [
    "def getTeas(color)\n",
    "    review_url = []\n",
    "    descpage = []\n",
    "    proxy=None\n",
    "    base = 'https://steepster.com/teas?'\n",
    "    base = base+color\n",
    "    for j in range(6):\n",
    "        response = rq.get(base+str(j+1),proxy)\n",
    "        page = response.text\n",
    "        mainpage = soup(page,\"lxml\")\n",
    "        #Getting all cases where we have a /tea url\n",
    "        list_1 = mainpage.find_all(class_='entry-count')\n",
    "        time.sleep(.5)\n",
    "        for i in list_1:\n",
    "            ret = re.findall(\"/teas/[a-zA-Z\\-/0-9]+\",str(i))\n",
    "            descpage.append(base+ret[0])\n",
    "            time.sleep(.5)\n",
    "        if j ==3:\n",
    "            proxy=proxies\n",
    "    return descpage"
   ]
  },
  {
   "cell_type": "code",
   "execution_count": 163,
   "metadata": {
    "ExecuteTime": {
     "end_time": "2018-05-20T23:11:01.949502Z",
     "start_time": "2018-05-20T23:11:01.946355Z"
    }
   },
   "outputs": [
    {
     "data": {
      "text/plain": [
       "168"
      ]
     },
     "execution_count": 163,
     "metadata": {},
     "output_type": "execute_result"
    }
   ],
   "source": [
    "len(descpage)"
   ]
  },
  {
   "cell_type": "code",
   "execution_count": 74,
   "metadata": {
    "ExecuteTime": {
     "end_time": "2018-05-20T16:09:13.148080Z",
     "start_time": "2018-05-20T16:09:12.909360Z"
    }
   },
   "outputs": [],
   "source": [
    "response = rq.get('https://steepster.com/teas/bird-pick-tea-and-herb/5862-premium-silky-green-tea')"
   ]
  },
  {
   "cell_type": "code",
   "execution_count": 75,
   "metadata": {
    "ExecuteTime": {
     "end_time": "2018-05-20T16:09:30.248788Z",
     "start_time": "2018-05-20T16:09:30.181299Z"
    }
   },
   "outputs": [],
   "source": [
    "page = response.text\n",
    "reviewp = soup(page,\"lxml\")"
   ]
  },
  {
   "cell_type": "code",
   "execution_count": 227,
   "metadata": {
    "ExecuteTime": {
     "end_time": "2018-05-20T23:56:36.925776Z",
     "start_time": "2018-05-20T23:56:36.878495Z"
    }
   },
   "outputs": [],
   "source": [
    "def getReviews(reviewpage, currenttea, proxy):\n",
    "    reviewstr=[]\n",
    "    review_list=[]\n",
    "    if str(reviewpage.find_all('div', class_='text')):\n",
    "        kj = reviewpage.find_all('a')[-14:-12]\n",
    "        reviewstr = str(reviewpage.find_all('div', class_='text')).replace('</p>\\n</span>\\n</div>, <div class=\"text\">\\n','')\\\n",
    "                .replace('\\n<p>','').replace('<br/>\\n',' ').replace('<span class=\"caps\">','')\\\n",
    "                .replace('</span>','').replace('</p>','').replace(']','').replace('\\n\\n</div>','').split('<span itemprop=\"description\">')\n",
    "        review_list += reviewstr[1:]      \n",
    "        if kj[0].get('href') == '?page=2#tasting-notes':\n",
    "            next_1 = kj[0].get('href')\n",
    "            response = rq.get(currenttea+next_1, proxy)\n",
    "            page = response.text\n",
    "            reviewp2 = soup(page,\"lxml\")\n",
    "            reviewstr = str(reviewp2.find_all('div', class_='text')).replace('</p>\\n</span>\\n</div>, <div class=\"text\">\\n','')\\\n",
    "                .replace('\\n<p>','').replace('<br/>\\n',' ').replace('<span class=\"caps\">','')\\\n",
    "                .replace('</span>','').replace('</p>','').replace(']','').replace('\\n\\n</div>','').split('<span itemprop=\"description\">')\n",
    "            review_list += reviewstr[1:] \n",
    "        time.sleep(.5)\n",
    "        if kj[1].get('href') == '?page=3#tasting-notes':\n",
    "            next_ = kj[1].get('href')\n",
    "            response = rq.get(currenttea+next_, proxy)\n",
    "            page = response.text\n",
    "            reviewp3 = soup(page,\"lxml\")\n",
    "            reviewstr = str(reviewp3.find_all('div', class_='text')).replace('</p>\\n</span>\\n</div>, <div class=\"text\">\\n','')\\\n",
    "                .replace('\\n<p>','').replace('<br/>\\n',' ').replace('<span class=\"caps\">','')\\\n",
    "                .replace('</span>','').replace('</p>','').replace(']','').replace('\\n\\n</div>','').split('<span itemprop=\"description\">')\n",
    "            review_list += reviewstr[1:]  \n",
    "        time.sleep(.5)\n",
    "    return review_list\n"
   ]
  },
  {
   "cell_type": "code",
   "execution_count": 231,
   "metadata": {
    "ExecuteTime": {
     "end_time": "2018-05-20T23:57:58.015327Z",
     "start_time": "2018-05-20T23:57:57.969040Z"
    }
   },
   "outputs": [],
   "source": [
    "def updateDict(url_list, old_dict, teatype):\n",
    "    dict_list =[]\n",
    "    count=0\n",
    "    proxy = proxies\n",
    "    for i in url_list:\n",
    "        time.sleep(.5)\n",
    "        new_dict = {}\n",
    "        teaname = ''\n",
    "        teaing = ''\n",
    "        teaflav = ''\n",
    "        tot_reviews = []\n",
    "        response = rq.get(i, proxy)\n",
    "        page = response.text\n",
    "        reviewp = soup(page,\"lxml\")\n",
    "        teaname = str(reviewp.h1).split('\"')[3]\n",
    "        teaing = str(reviewp.find_all('dd')[1]).split('>')[1].replace('</dd','')\n",
    "        teaflav = str(reviewp.find_all('dd')[2]).replace('<dd>', '').replace('</dd>', '')\n",
    "        tot_reviews = getReviews(reviewp,i,proxy)\n",
    "        new_dict['Tea Name'] =teaname\n",
    "        new_dict['Tea Ingredients'] =teaing\n",
    "        new_dict['Tea Flavors'] =teaflav\n",
    "        new_dict['Tea Reviews'] =tot_reviews\n",
    "        dict_list.append(new_dict)\n",
    "        count+=1\n",
    "        if count==8:\n",
    "            proxy=prox2\n",
    "        elif count==16:\n",
    "            proxy=prox3\n",
    "        elif count==24:\n",
    "            proxy=prox4\n",
    "        elif count==32:\n",
    "            proxy=proxies\n",
    "            count=0\n",
    "    old_dict[teatype]=dict_list\n",
    "    return old_dict"
   ]
  },
  {
   "cell_type": "code",
   "execution_count": 232,
   "metadata": {
    "ExecuteTime": {
     "end_time": "2018-05-21T00:04:42.014773Z",
     "start_time": "2018-05-20T23:57:59.367724Z"
    }
   },
   "outputs": [],
   "source": [
    "comurl = ['green=on&page=','black=on&page=','pu-erh=on&page=','oolong=on&page=','white=on&page=','matcha=on&page=','yellow=on&page=']\n",
    "tot_dict = {}\n",
    "for index, i in enumerate(comurl):\n",
    "    descpage = getTeas(i)\n",
    "    tot_dict = updateDict(descpage, tot_dict, ttype_list[index])"
   ]
  },
  {
   "cell_type": "code",
   "execution_count": 233,
   "metadata": {
    "ExecuteTime": {
     "end_time": "2018-05-21T00:07:32.033605Z",
     "start_time": "2018-05-21T00:07:32.029450Z"
    }
   },
   "outputs": [
    {
     "data": {
      "text/plain": [
       "168"
      ]
     },
     "execution_count": 233,
     "metadata": {},
     "output_type": "execute_result"
    }
   ],
   "source": [
    "for i in tot_dict:\n",
    "    print(len(i))"
   ]
  },
  {
   "cell_type": "code",
   "execution_count": 234,
   "metadata": {
    "ExecuteTime": {
     "end_time": "2018-05-21T00:08:50.665586Z",
     "start_time": "2018-05-21T00:08:50.658703Z"
    }
   },
   "outputs": [],
   "source": [
    "#Writing a pickle file to save data\n",
    "\n",
    "with open('tea_data.pkl', 'wb') as picklefile:\n",
    "    pickle.dump(tot_dict, picklefile)"
   ]
  },
  {
   "cell_type": "code",
   "execution_count": 136,
   "metadata": {
    "ExecuteTime": {
     "end_time": "2018-05-20T21:16:06.461693Z",
     "start_time": "2018-05-20T21:16:06.434455Z"
    }
   },
   "outputs": [],
   "source": [
    "if str(reviewp.find_all('div', class_='text')):\n",
    "    reviewstr = str(reviewp.find_all('div', class_='text')).replace('</p>\\n</span>\\n</div>, <div class=\"text\">\\n','')\\\n",
    "                .replace('\\n<p>','').replace('<br/>\\n',' ').replace('<span class=\"caps\">','')\\\n",
    "                .replace('</span>','').replace('</p>','').replace(']','').replace('\\n\\n</div>','').split('<span itemprop=\"description\">')\n",
    "reviewstr = reviewstr[1:] "
   ]
  },
  {
   "cell_type": "code",
   "execution_count": 149,
   "metadata": {
    "ExecuteTime": {
     "end_time": "2018-05-20T21:44:43.781014Z",
     "start_time": "2018-05-20T21:44:43.772563Z"
    }
   },
   "outputs": [
    {
     "data": {
      "text/plain": [
       "['?page=2#tasting-notes', '?page=3#tasting-notes']"
      ]
     },
     "execution_count": 149,
     "metadata": {},
     "output_type": "execute_result"
    }
   ],
   "source": [
    "turnpg = []\n",
    "specurl = currentea[0]\n",
    "kj = reviewp.find_all('a')[-14:-12]\n",
    "if kf[0] == '?page=2#tasting-notes':\n",
    "    next_ = kf[0].get('href')\n",
    "    turnpg.append(specurl+next_)\n",
    "    turnpg\n",
    "if kf[1] == '?page=3#tasting-notes':\n",
    "    next_ = kf[0].get('href')\n",
    "    turnpg.append(specurl+next_)\n",
    "    turnpg"
   ]
  },
  {
   "cell_type": "code",
   "execution_count": null,
   "metadata": {},
   "outputs": [],
   "source": []
  }
 ],
 "metadata": {
  "kernelspec": {
   "display_name": "Python 3",
   "language": "python",
   "name": "python3"
  },
  "language_info": {
   "codemirror_mode": {
    "name": "ipython",
    "version": 3
   },
   "file_extension": ".py",
   "mimetype": "text/x-python",
   "name": "python",
   "nbconvert_exporter": "python",
   "pygments_lexer": "ipython3",
   "version": "3.6.4"
  }
 },
 "nbformat": 4,
 "nbformat_minor": 2
}
