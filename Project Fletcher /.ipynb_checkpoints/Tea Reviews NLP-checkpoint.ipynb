{
 "cells": [
  {
   "cell_type": "code",
   "execution_count": 2,
   "metadata": {
    "ExecuteTime": {
     "end_time": "2018-05-22T15:00:07.458189Z",
     "start_time": "2018-05-22T15:00:05.771659Z"
    }
   },
   "outputs": [],
   "source": [
    "#Importing the packages needed for this analysis\n",
    "import pandas as pd\n",
    "import numpy as np\n",
    "import math\n",
    "from scipy import stats\n",
    "import matplotlib.pyplot as plt\n",
    "import pickle\n",
    "import seaborn as sns\n",
    "from sklearn import preprocessing\n",
    "from sklearn.metrics import mean_squared_error\n",
    "import matplotlib.pyplot as plt\n",
    "from sklearn.preprocessing import StandardScaler, RobustScaler\n",
    "from textblob import TextBlob\n",
    "from textblob.sentiments import NaiveBayesAnalyzer\n",
    "\n",
    "\n",
    "%matplotlib inline\n",
    "%config InlineBackend.figure_format = 'png'\n",
    "plt.rcParams['figure.dpi']= 400"
   ]
  },
  {
   "cell_type": "code",
   "execution_count": 3,
   "metadata": {
    "ExecuteTime": {
     "end_time": "2018-05-22T15:00:07.582596Z",
     "start_time": "2018-05-22T15:00:07.460337Z"
    }
   },
   "outputs": [
    {
     "data": {
      "text/plain": [
       "'db = client.legislation\\ntweets = db.news'"
      ]
     },
     "execution_count": 3,
     "metadata": {},
     "output_type": "execute_result"
    }
   ],
   "source": [
    "import json\n",
    "from pymongo import MongoClient\n",
    "\n",
    "client = MongoClient()\n",
    "\"\"\"db = client.legislation\n",
    "tweets = db.news\"\"\""
   ]
  },
  {
   "cell_type": "code",
   "execution_count": 4,
   "metadata": {
    "ExecuteTime": {
     "end_time": "2018-05-22T15:00:07.595954Z",
     "start_time": "2018-05-22T15:00:07.584370Z"
    }
   },
   "outputs": [],
   "source": [
    "tastingflavors = {'Spicy':['cocoa','clove', 'vanilla','pepper', 'saffron','nutmeg','licorice','menthol','cinnamon'],\\\n",
    "'Char':['ash','tar','toast','wood smoke','tobacco','fireplace','burnt food','grilled food'],\\\n",
    "'Sweet':['malt','brown sugar','candy','honey','caramel','molasses','burnt sugar','maple syrup'],\\\n",
    "'Nutty':['almond', 'peanut','walnut','chestnut','hazelnut', 'roasted nuts'],\\\n",
    "'Floral':['rose','hops','orchid','violet','jasmine','perfume','geranium','dandelion','honeysuckle','lily of the valley','orange blossom'],\\\n",
    "'Herbs':['thyme','parsley','cardamom','eucalyptus','fennel seed','coriander'],\\\n",
    "'Vegetables':['spinach','broccoli','zucchini','asparagus','garden peas','green pepper','squash blossom'],\\\n",
    "'Grass':['stems','straw','barnyard','grapeseed','fresh cut grass'],\\\n",
    "'Wood':['evergreen','bark','cedar','resin','freshly cut wood','sawdust','wet wood','driftwood','green wood','cherry wood'],\\\n",
    "'Earth':['peat','moss','musty','leather','compost','wet earth','forest floor','decaying wood'],\\\n",
    "'Mineral':['salt', 'metalllic', 'wet rocks'],\\\n",
    "'Marine':['seawood','ocean air'],\\\n",
    "'Berry':['raspberry','strawberry','blackberry', 'black currant'],\\\n",
    "'Citrus':['lemon','orange','grapefruit','citrus zest'],\\\n",
    "'Tree Fruit':['peach','pear','apricot','apple','cooked fruit','dried fruit'],\\\n",
    "'Tropical':['mango','melon','lychee', 'banana','pineapple']}\n",
    "\n",
    "wheel = {'Earthy':['Wood','Earth','Mineral','Marine'],'Vegetal':['Grass','Vegetables','Herbs'],\\\n",
    "         'Fruity':['Berry','Citrus','Tree Fruit','Tropical']}\n"
   ]
  },
  {
   "cell_type": "code",
   "execution_count": 5,
   "metadata": {
    "ExecuteTime": {
     "end_time": "2018-05-22T15:00:07.628846Z",
     "start_time": "2018-05-22T15:00:07.597766Z"
    }
   },
   "outputs": [],
   "source": [
    "#reading a pickle file reading to pick up where i left off in case something fails or i start over\n",
    "with open(\"tea_data.pkl\", 'rb') as picklefile: \n",
    "    teareview_dict = pickle.load(picklefile)"
   ]
  },
  {
   "cell_type": "code",
   "execution_count": 6,
   "metadata": {
    "ExecuteTime": {
     "end_time": "2018-05-22T15:00:08.216895Z",
     "start_time": "2018-05-22T15:00:08.211618Z"
    }
   },
   "outputs": [],
   "source": [
    "reviewcount = []\n",
    "count =0\n",
    "for i in teareview_dict:\n",
    "    count=0\n",
    "    for j in teareview_dict[i]: \n",
    "        count+=len(j['Tea Reviews'])\n",
    "    reviewcount.append(count)\n"
   ]
  },
  {
   "cell_type": "code",
   "execution_count": 7,
   "metadata": {
    "ExecuteTime": {
     "end_time": "2018-05-22T15:00:09.015846Z",
     "start_time": "2018-05-22T15:00:09.011959Z"
    }
   },
   "outputs": [
    {
     "data": {
      "text/plain": [
       "6931"
      ]
     },
     "execution_count": 7,
     "metadata": {},
     "output_type": "execute_result"
    }
   ],
   "source": [
    "sum(reviewcount)\n"
   ]
  },
  {
   "cell_type": "markdown",
   "metadata": {},
   "source": [
    "## More Data Wrangling\n",
    "\n",
    "Now that I have the dataframe imported, I am going to use NLP to work with the different reviews on certain teas to create more insights and set it up for unsupervised learning.\n",
    "\n",
    "### Tasting Considerations\n",
    "* Aroma: The odor of the tea liquor, also called the nose or fragrance. A complex aroma is often described as a bouquet. \n",
    "* Astringency: A lively and mouth-drying effect on the tongue. Not bitter, but a clean and refreshing quality. The sensation of astringency is caused by a reaction between polyphenols (tannins) and the protein in saliva. \n",
    "* Body: The tactile aspect of tea’s weight and substance in the mouth, variously subcategorized as light, medium, or full; also known as fullness. \n",
    "* Bright: A lively, clean style that refreshes the palate. \n",
    "* Character: A tea’s signature attributes depending upon origin, whether of its country, region or type. \n",
    "* Clean: Indicates purity of flavor and an absence of any off-tastes. \n",
    "* Finish: The lasting taste on your tongue after swallowing the tea. \n",
    "* Flowery: A floral nose or flavor associated with high grade teas. \n",
    "* Full: References a positive sensation of body and good heft; indicates a well-made tea, possessing color, strength, substance and roundness. \n",
    "* Malty: A sweet malt flavor that is characteristic of Assam black teas. \n",
    "* Muscatel: A flavor reminiscent of grapes, most often used to describe an exceptional characteristic found in the liquors of the finest Darjeelings. \n",
    "* Smooth: Round-bodied, fine-drinking teas. \n",
    "* Soft: Smooth, lush, and subsequently often (but not necessarily) timid in flavor; not a negative term. \n",
    "* Thick: Describes liquor having substance, but not necessarily strength. \n",
    "* Vegetal: A characteristic of green teas that might include grassy, herby or marine flavors."
   ]
  },
  {
   "cell_type": "code",
   "execution_count": 8,
   "metadata": {
    "ExecuteTime": {
     "end_time": "2018-05-22T15:00:10.644319Z",
     "start_time": "2018-05-22T15:00:10.641645Z"
    }
   },
   "outputs": [],
   "source": [
    "import nltk\n",
    "import re\n"
   ]
  },
  {
   "cell_type": "code",
   "execution_count": 9,
   "metadata": {
    "ExecuteTime": {
     "end_time": "2018-05-22T15:00:12.425932Z",
     "start_time": "2018-05-22T15:00:12.421792Z"
    }
   },
   "outputs": [
    {
     "data": {
      "text/plain": [
       "dict_keys(['Tea Name', 'Tea Ingredients', 'Tea Flavors', 'Tea Reviews'])"
      ]
     },
     "execution_count": 9,
     "metadata": {},
     "output_type": "execute_result"
    }
   ],
   "source": [
    "teareview_dict['Green Tea'][0].keys()"
   ]
  },
  {
   "cell_type": "markdown",
   "metadata": {},
   "source": [
    "### Polarity Score\n",
    "Using TextBlob, I will be creating a polarity score for each review.  This is to help weight the reviews if needed. "
   ]
  },
  {
   "cell_type": "code",
   "execution_count": 10,
   "metadata": {
    "ExecuteTime": {
     "end_time": "2018-05-22T15:00:24.690083Z",
     "start_time": "2018-05-22T15:00:14.979125Z"
    }
   },
   "outputs": [],
   "source": [
    "polarityscore = []\n",
    "for i in teareview_dict:\n",
    "    for j in teareview_dict[i]: \n",
    "        for review in j['Tea Reviews']:\n",
    "            q = TextBlob(review)\n",
    "            polarityscore.append(q.sentiment.polarity)\n",
    "        j['Polarity']=polarityscore\n",
    "        polarityscore=[]"
   ]
  },
  {
   "cell_type": "code",
   "execution_count": 11,
   "metadata": {
    "ExecuteTime": {
     "end_time": "2018-05-22T15:00:24.696458Z",
     "start_time": "2018-05-22T15:00:24.692246Z"
    }
   },
   "outputs": [
    {
     "data": {
      "text/plain": [
       "[0.24780701754385964,\n",
       " 0.215,\n",
       " 0.22731829573934836,\n",
       " 0.12239389776889774,\n",
       " 0.3666666666666667,\n",
       " 0.32083333333333336,\n",
       " 0.012499999999999999,\n",
       " 0.14273268398268396,\n",
       " 0.13819444444444445,\n",
       " 0.2731600935828877]"
      ]
     },
     "execution_count": 11,
     "metadata": {},
     "output_type": "execute_result"
    }
   ],
   "source": [
    "teareview_dict['Black Tea'][0]['Polarity']"
   ]
  },
  {
   "cell_type": "markdown",
   "metadata": {},
   "source": [
    "### Proportion Flavor Wheel and Mouthfeel\n",
    "\n",
    "Using the flavor wheel found online, I will create a flavor profile for each tea. I will need to use 1 and 2 n-grams and the tastingflavors dictionary.\n",
    "\n",
    "I also want to get any 'mouthfeel' data to see what added bonus it could give to the tea. "
   ]
  },
  {
   "cell_type": "code",
   "execution_count": 121,
   "metadata": {
    "ExecuteTime": {
     "end_time": "2018-05-22T18:49:23.700701Z",
     "start_time": "2018-05-22T18:49:23.697950Z"
    }
   },
   "outputs": [],
   "source": [
    "playlist = teareview_dict['Black Tea'][0]['Tea Reviews']"
   ]
  },
  {
   "cell_type": "code",
   "execution_count": 122,
   "metadata": {
    "ExecuteTime": {
     "end_time": "2018-05-22T18:49:23.976934Z",
     "start_time": "2018-05-22T18:49:23.961587Z"
    }
   },
   "outputs": [
    {
     "name": "stdout",
     "output_type": "stream",
     "text": [
      "['  A very rich cup yet the mouthfeel is bright and cheery.', '  As the tea cools a bit it does become slightly thicker with a heavier mouthfeel and notes of maple syrup begin to peek through.']\n"
     ]
    }
   ],
   "source": [
    "#Combining all reviews into a long string text to make it easier to pull out stop words.\n",
    "#Also pulling out sentences with 'mouthfeel' to find adj for another feature.\n",
    "supertext=\"\"\n",
    "mouthfeel = ''\n",
    "for i in playlist:\n",
    "    supertext += (' '+ i)\n",
    "    if re.findall(r\"([^[.!]]*?mouthfeel[^.]*\\.)\",i):\n",
    "        print(re.findall(r\"([^.!,]*?mouthfeel[^.!,]*\\.)\",i))\n",
    "        mouthfeel=' '.join((re.findall(r\"([^.!,]*?mouthfeel[^.!,]*\\.)\",i)))\n",
    "\n",
    "supertext = re.sub(\"[’,;:–…]\",\"\", supertext).replace(\"(\", '').replace(\".\", ' ').replace(\"!\", ' ').replace(\")\", '')\n",
    "supertext= re.sub(\"(-)\",\" \", supertext)\n",
    "supertext= re.sub(\"(chocolate)\",\"cocoa\", supertext)"
   ]
  },
  {
   "cell_type": "code",
   "execution_count": 123,
   "metadata": {
    "ExecuteTime": {
     "end_time": "2018-05-22T18:49:24.219125Z",
     "start_time": "2018-05-22T18:49:24.210422Z"
    }
   },
   "outputs": [],
   "source": [
    "mouthblob = TextBlob(mouthfeel)\n",
    "mouthadj = []\n",
    "for i in mouthblob.tags:\n",
    "    if i[1]=='JJ' or i[1]=='JJR'or i[1]=='JJS':\n",
    "        mouthadj.append(i[0])"
   ]
  },
  {
   "cell_type": "code",
   "execution_count": 124,
   "metadata": {
    "ExecuteTime": {
     "end_time": "2018-05-22T18:49:24.421445Z",
     "start_time": "2018-05-22T18:49:24.417921Z"
    }
   },
   "outputs": [
    {
     "data": {
      "text/plain": [
       "['rich', 'bright', 'heavier']"
      ]
     },
     "execution_count": 124,
     "metadata": {},
     "output_type": "execute_result"
    }
   ],
   "source": [
    "mouthadj"
   ]
  },
  {
   "cell_type": "code",
   "execution_count": 125,
   "metadata": {
    "ExecuteTime": {
     "end_time": "2018-05-22T18:49:24.628138Z",
     "start_time": "2018-05-22T18:49:24.625565Z"
    }
   },
   "outputs": [],
   "source": [
    "text = TextBlob(supertext)"
   ]
  },
  {
   "cell_type": "code",
   "execution_count": 126,
   "metadata": {
    "ExecuteTime": {
     "end_time": "2018-05-22T18:49:24.853866Z",
     "start_time": "2018-05-22T18:49:24.826088Z"
    }
   },
   "outputs": [
    {
     "data": {
      "text/plain": [
       "[('tea', 21),\n",
       " ('notes', 8),\n",
       " ('know', 7),\n",
       " ('cocoa', 7),\n",
       " ('cup', 7),\n",
       " ('pie', 6),\n",
       " ('love', 6),\n",
       " ('black', 6),\n",
       " ('really', 6),\n",
       " ('teas', 6),\n",
       " ('there', 6),\n",
       " ('good', 5),\n",
       " ('last', 5),\n",
       " ('need', 5),\n",
       " ('sweet', 5),\n",
       " ('like', 5),\n",
       " ('day', 4),\n",
       " ('much', 4),\n",
       " ('note', 4),\n",
       " ('would', 4),\n",
       " ('vacation', 4),\n",
       " ('work', 4),\n",
       " ('also', 4),\n",
       " ('sourenee', 4),\n",
       " ('harvest', 4),\n",
       " ('the', 4),\n",
       " ('everyday', 3),\n",
       " ('yet', 3),\n",
       " ('well', 3),\n",
       " ('making', 3),\n",
       " ('made', 3),\n",
       " ('years', 3),\n",
       " ('tofu', 3),\n",
       " ('dessert', 3),\n",
       " ('several', 3),\n",
       " ('butiki', 3),\n",
       " ('sometimes', 3),\n",
       " ('wonder', 3),\n",
       " ('definitely', 3),\n",
       " ('instead', 3),\n",
       " ('bit', 3),\n",
       " ('leaves', 3),\n",
       " ('right', 3),\n",
       " ('still', 3),\n",
       " ('may', 3),\n",
       " ('another', 3),\n",
       " ('time', 3),\n",
       " ('changing', 3),\n",
       " ('golden', 3),\n",
       " ('get', 3),\n",
       " ('anyone', 3),\n",
       " ('slightly', 3),\n",
       " ('rich', 3),\n",
       " ('enough', 3),\n",
       " ('even', 3),\n",
       " ('world', 2),\n",
       " ('things', 2),\n",
       " ('grateful', 2),\n",
       " ('think', 2),\n",
       " ('minutes', 2),\n",
       " ('least', 2),\n",
       " ('wish', 2),\n",
       " ('wonderful', 2),\n",
       " ('3', 2),\n",
       " ('gluten', 2),\n",
       " ('free', 2),\n",
       " ('chocolate', 2),\n",
       " ('midnight', 2),\n",
       " ('almond', 2),\n",
       " ('vegan', 2),\n",
       " ('cheesecake', 2),\n",
       " ('ever', 2),\n",
       " ('never', 2),\n",
       " ('silken', 2),\n",
       " ('believe', 2),\n",
       " ('tried', 2),\n",
       " ('real', 2),\n",
       " ('people', 2),\n",
       " ('year', 2),\n",
       " ('crust', 2),\n",
       " ('breakfast', 2),\n",
       " ('taiwanese', 2),\n",
       " ('order', 2),\n",
       " ('coming', 2),\n",
       " ('soon', 2),\n",
       " ('morning', 2),\n",
       " ('become', 2),\n",
       " ('true', 2),\n",
       " ('glad', 2),\n",
       " ('needed', 2),\n",
       " ('delicious', 2),\n",
       " ('quite', 2),\n",
       " ('malty', 2),\n",
       " ('drinking', 2),\n",
       " ('infusion', 2),\n",
       " ('astringent', 2),\n",
       " ('sure', 2),\n",
       " ('steeped', 2),\n",
       " ('week', 2),\n",
       " ('pretty', 2),\n",
       " ('back', 2),\n",
       " ('probably', 2),\n",
       " ('2', 2),\n",
       " ('weeks', 2),\n",
       " ('two', 2),\n",
       " ('including', 2),\n",
       " ('new', 2),\n",
       " ('peek', 2),\n",
       " ('hattialli', 2),\n",
       " ('thinking', 2),\n",
       " ('used', 2),\n",
       " ('water', 2),\n",
       " ('cools', 2),\n",
       " ('high', 2),\n",
       " ('quality', 2),\n",
       " ('adding', 2),\n",
       " ('da', 2),\n",
       " ('yu', 2),\n",
       " ('ling', 2),\n",
       " ('shan', 2),\n",
       " ('fantastic', 2),\n",
       " ('mi', 2),\n",
       " ('xian', 2),\n",
       " ('just', 2),\n",
       " ('little', 2),\n",
       " ('flavors', 2),\n",
       " ('getting', 2),\n",
       " ('stronger', 2),\n",
       " ('version', 2),\n",
       " ('previous', 2),\n",
       " ('caramel', 2),\n",
       " ('amazing', 2),\n",
       " ('reading', 2),\n",
       " ('hours', 2),\n",
       " ('way', 2),\n",
       " ('fill', 2),\n",
       " ('almost', 2),\n",
       " ('light', 2),\n",
       " ('lot', 2),\n",
       " ('waist', 2),\n",
       " ('night', 2),\n",
       " ('see', 2),\n",
       " ('strong', 2),\n",
       " ('going', 2),\n",
       " ('great', 2),\n",
       " ('sipdown', 2),\n",
       " ('list', 2),\n",
       " ('fruity', 2),\n",
       " ('tone', 2),\n",
       " ('potato', 2),\n",
       " ('drink', 2),\n",
       " ('mouthfeel', 2),\n",
       " ('happy', 1),\n",
       " ('gratitude', 1),\n",
       " ('everyone', 1),\n",
       " ('american', 1),\n",
       " ('holiday', 1),\n",
       " ('hope', 1),\n",
       " ('everywhere', 1),\n",
       " ('important', 1),\n",
       " ('take', 1),\n",
       " ('lives', 1),\n",
       " ('others', 1),\n",
       " ('started', 1),\n",
       " ('crusts', 1),\n",
       " ('one', 1),\n",
       " ('called', 1),\n",
       " ('originally', 1),\n",
       " ('praline', 1),\n",
       " ('decorative', 1),\n",
       " ('topping', 1),\n",
       " ('omitted', 1),\n",
       " ('millenium', 1),\n",
       " ('cookbook', 1),\n",
       " ('decadent', 1),\n",
       " ('textured', 1),\n",
       " ('eat', 1),\n",
       " ('youve', 1),\n",
       " ('‘', 1),\n",
       " ('fail', 1),\n",
       " ('share', 1),\n",
       " ('baby', 1),\n",
       " ('deal', 1),\n",
       " ('fallen', 1),\n",
       " ('knowing', 1),\n",
       " ('truth', 1),\n",
       " ('found', 1),\n",
       " ('didnt', 1),\n",
       " ('care', 1),\n",
       " ('requested', 1),\n",
       " ('every', 1),\n",
       " ('amp', 1),\n",
       " ('required', 1),\n",
       " ('part', 1),\n",
       " ('family', 1),\n",
       " ('feast', 1),\n",
       " ('took', 1),\n",
       " ('break', 1),\n",
       " ('filling', 1),\n",
       " ('hearty', 1),\n",
       " ('stacys', 1),\n",
       " ('assam', 1),\n",
       " ('reviewed', 1),\n",
       " ('times', 1),\n",
       " ('bold', 1),\n",
       " ('tasty', 1),\n",
       " ('gone', 1),\n",
       " ('foresee', 1),\n",
       " ('old', 1),\n",
       " ('favourite', 1),\n",
       " ('days', 1),\n",
       " ('let', 1),\n",
       " ('mere', 1),\n",
       " ('shadow', 1),\n",
       " ('deliciousness', 1),\n",
       " ('dug', 1),\n",
       " ('earlierjust', 1),\n",
       " ('reminder', 1),\n",
       " ('wowwwww', 1),\n",
       " ('ordered', 1),\n",
       " ('shoulda', 1),\n",
       " ('ounce', 1),\n",
       " ('strawberry', 1),\n",
       " ('oolong', 1),\n",
       " ('reminds', 1),\n",
       " ('laoshan', 1),\n",
       " ('cocoay', 1),\n",
       " ('theres', 1),\n",
       " ('fruitiness', 1),\n",
       " ('timolino', 1),\n",
       " ('write', 1),\n",
       " ('detailed', 1),\n",
       " ('tasting', 1),\n",
       " ('later', 1),\n",
       " ('winner', 1),\n",
       " ('crazy', 1),\n",
       " ('huge', 1),\n",
       " ('thin', 1),\n",
       " ('wiry', 1),\n",
       " ('unbroken', 1),\n",
       " ('fabulous', 1),\n",
       " ('second', 1),\n",
       " ('heading', 1),\n",
       " ('towards', 1),\n",
       " ('spite', 1),\n",
       " ('better', 1),\n",
       " ('immediately', 1),\n",
       " ('sitting', 1),\n",
       " ('rating', 1),\n",
       " ('tentatively', 1),\n",
       " ('placed', 1),\n",
       " ('increase', 1),\n",
       " ('upon', 1),\n",
       " ('proper', 1),\n",
       " ('evaluation', 1),\n",
       " ('busy', 1),\n",
       " ('mid', 1),\n",
       " ('start', 1),\n",
       " ('prepping', 1),\n",
       " ('office', 1),\n",
       " ('closure', 1),\n",
       " ('taking', 1),\n",
       " ('received', 1),\n",
       " ('ton', 1),\n",
       " ('here', 1),\n",
       " ('sneak', 1),\n",
       " ('changesadding', 1),\n",
       " ('paw', 1),\n",
       " ('similar', 1),\n",
       " ('lionchanging', 1),\n",
       " ('irish', 1),\n",
       " ('cream', 1),\n",
       " ('based', 1),\n",
       " ('reviews', 1),\n",
       " ('base', 1),\n",
       " ('wrong', 1),\n",
       " ('flavoring', 1),\n",
       " ('fickle', 1),\n",
       " ('challenging', 1),\n",
       " ('spot', 1),\n",
       " ('turn', 1),\n",
       " ('exchanging', 1),\n",
       " ('current', 1),\n",
       " ('limited', 1),\n",
       " ('edition', 1),\n",
       " ('hello', 1),\n",
       " ('sweetie', 1),\n",
       " ('first', 1),\n",
       " ('promotion', 1),\n",
       " ('moved', 1),\n",
       " ('slowly', 1),\n",
       " ('winter', 1),\n",
       " ('fu', 1),\n",
       " ('shou', 1),\n",
       " ('replacement', 1),\n",
       " ('baked', 1),\n",
       " ('ali', 1),\n",
       " ('warning', 1),\n",
       " ('low', 1),\n",
       " ('able', 1),\n",
       " ('run', 1),\n",
       " ('scarce', 1),\n",
       " ('moment', 1),\n",
       " ('these', 1),\n",
       " ('additions', 1),\n",
       " ('changes', 1),\n",
       " ('come', 1),\n",
       " ('works', 1),\n",
       " ('custom', 1),\n",
       " ('blend', 1),\n",
       " ('contest', 1),\n",
       " ('close', 1),\n",
       " ('finishing', 1),\n",
       " ('recipe', 1),\n",
       " ('removing', 1),\n",
       " ('arent', 1),\n",
       " ('standards', 1),\n",
       " ('rest', 1),\n",
       " ('hear', 1),\n",
       " ('suggestions', 1),\n",
       " ('believes', 1),\n",
       " ('removed', 1),\n",
       " ('collection', 1),\n",
       " ('on', 1),\n",
       " ('deeper', 1),\n",
       " ('dark', 1),\n",
       " ('isnt', 1),\n",
       " ('difference', 1),\n",
       " ('malt', 1),\n",
       " ('less', 1),\n",
       " ('stems', 1),\n",
       " ('upgrade', 1),\n",
       " ('hand', 1),\n",
       " ('cherry', 1),\n",
       " ('detectable', 1),\n",
       " ('yowza', 1),\n",
       " ('starting', 1),\n",
       " ('wouldnt', 1),\n",
       " ('vanilla', 1),\n",
       " ('convinced', 1),\n",
       " ('book', 1),\n",
       " ('sipping', 1),\n",
       " ('gaiwan', 1),\n",
       " ('top', 1),\n",
       " ('weight', 1),\n",
       " ('thats', 1),\n",
       " ('best', 1),\n",
       " ('extract', 1),\n",
       " ('goodness', 1),\n",
       " ('might', 1),\n",
       " ('seems', 1),\n",
       " ('brew', 1),\n",
       " ('steeps', 1),\n",
       " ('remain', 1),\n",
       " ('flavourful', 1),\n",
       " ('companionthis', 1),\n",
       " ('hoping', 1),\n",
       " ('disappear', 1),\n",
       " ('kind', 1),\n",
       " ('disappointed', 1),\n",
       " ('missed', 1),\n",
       " ('sale', 1),\n",
       " ('due', 1),\n",
       " ('complain', 1),\n",
       " ('4th', 1),\n",
       " ('steep', 1),\n",
       " ('went', 1),\n",
       " ('buttermilk', 1),\n",
       " ('scone', 1),\n",
       " ('details', 1),\n",
       " ('prepped', 1),\n",
       " ('according', 1),\n",
       " ('parameters', 1),\n",
       " ('tsp', 1),\n",
       " ('leaf', 1),\n",
       " ('8', 1),\n",
       " ('oz', 1),\n",
       " ('per', 1),\n",
       " ('package', 1),\n",
       " ('directions', 1),\n",
       " ('nights', 1),\n",
       " ('rough', 1),\n",
       " ('thursday', 1),\n",
       " ('becoming', 1),\n",
       " ('nurse', 1),\n",
       " ('introvert', 1),\n",
       " ('positively', 1),\n",
       " ('drained', 1),\n",
       " ('shifts', 1),\n",
       " ('recover', 1),\n",
       " ('speaking', 1),\n",
       " ('introverts', 1),\n",
       " ('discovered', 1),\n",
       " ('infj', 1),\n",
       " ('recently', 1),\n",
       " ('anybody', 1),\n",
       " ('else', 1),\n",
       " ('mbti', 1),\n",
       " ('type', 1),\n",
       " ('say', 1),\n",
       " ('explain', 1),\n",
       " ('straight', 1),\n",
       " ('bed', 1),\n",
       " ('smooth', 1),\n",
       " ('comforting', 1),\n",
       " ('something', 1),\n",
       " ('smell', 1),\n",
       " ('freshly', 1),\n",
       " ('brewed', 1),\n",
       " ('relaxes', 1),\n",
       " ('exception', 1),\n",
       " ('strange', 1),\n",
       " ('manage', 1),\n",
       " ('calming', 1),\n",
       " ('energizing', 1),\n",
       " ('simultaneously', 1),\n",
       " ('fixed', 1),\n",
       " ('steepster', 1),\n",
       " ('problem', 1),\n",
       " ('load', 1),\n",
       " ('maybe', 1),\n",
       " ('productivity', 1),\n",
       " ('overall', 1),\n",
       " ('happiness', 1),\n",
       " ('116', 1),\n",
       " ('favorite', 1),\n",
       " ('floral', 1),\n",
       " ('nicely', 1),\n",
       " ('hint', 1),\n",
       " ('hard', 1),\n",
       " ('oversteep', 1),\n",
       " ('restock', 1),\n",
       " ('perhaps', 1),\n",
       " ('friday', 1),\n",
       " ('stunning', 1),\n",
       " ('twisty', 1),\n",
       " ('wirey', 1),\n",
       " ('blue', 1),\n",
       " ('hue', 1),\n",
       " ('lovely', 1),\n",
       " ('deep', 1),\n",
       " ('amber', 1),\n",
       " ('smells', 1),\n",
       " ('omg', 1),\n",
       " ('yes', 1),\n",
       " ('for', 1),\n",
       " ('facebook', 1),\n",
       " ('friends', 1),\n",
       " ('posting', 1),\n",
       " ('review', 1),\n",
       " ('wellif', 1),\n",
       " ('understand', 1),\n",
       " ('mothers', 1),\n",
       " ('grandmothers', 1),\n",
       " ('lipton', 1),\n",
       " ('haha', 1),\n",
       " ('grandmother', 1),\n",
       " ('bless', 1),\n",
       " ('heart', 1),\n",
       " ('instant', 1),\n",
       " ('powdered', 1),\n",
       " ('daily', 1),\n",
       " ('stuff', 1),\n",
       " ('came', 1),\n",
       " ('glass', 1),\n",
       " ('jar', 1),\n",
       " ('green', 1),\n",
       " ('lid', 1),\n",
       " ('today', 1),\n",
       " ('plastic', 1),\n",
       " ('regardless', 1),\n",
       " ('delight', 1),\n",
       " ('considering', 1),\n",
       " ('trying', 1),\n",
       " ('different', 1),\n",
       " ('give', 1),\n",
       " ('aspect', 1),\n",
       " ('bake', 1),\n",
       " ('element', 1),\n",
       " ('someone', 1),\n",
       " ('spooned', 1),\n",
       " ('sugar', 1),\n",
       " ('natural', 1),\n",
       " ('sweetness', 1),\n",
       " ('honey', 1),\n",
       " ('bright', 1),\n",
       " ('cheery', 1),\n",
       " ('heavy', 1),\n",
       " ('syrupy', 1),\n",
       " ('favorites', 1),\n",
       " ('sooner', 1),\n",
       " ('added', 1),\n",
       " ('shopping', 1),\n",
       " ('slight', 1),\n",
       " ('cinnamon', 1),\n",
       " ('kick', 1),\n",
       " ('spiciness', 1),\n",
       " ('nothing', 1),\n",
       " ('weenie', 1),\n",
       " ('could', 1),\n",
       " ('handle', 1),\n",
       " ('babe', 1),\n",
       " ('oddly', 1),\n",
       " ('saffron', 1),\n",
       " ('thicker', 1),\n",
       " ('heavier', 1),\n",
       " ('maple', 1),\n",
       " ('syrup', 1),\n",
       " ('begin', 1),\n",
       " ('sounds', 1),\n",
       " ('talking', 1),\n",
       " ('rather', 1)]"
      ]
     },
     "execution_count": 126,
     "metadata": {},
     "output_type": "execute_result"
    }
   ],
   "source": [
    "sorted(text1.word_counts.items(), key = lambda tup:tup[1], reverse = True)"
   ]
  },
  {
   "cell_type": "code",
   "execution_count": 127,
   "metadata": {
    "ExecuteTime": {
     "end_time": "2018-05-22T18:49:25.076825Z",
     "start_time": "2018-05-22T18:49:25.042204Z"
    }
   },
   "outputs": [
    {
     "name": "stdout",
     "output_type": "stream",
     "text": [
      "['Happy', 'Gratitude', 'Day', 'everyone', 'World', 'know', 'American', 'holiday', 'hope', 'everywhere', 'things', 'grateful', 'everyday', 'think', 'important', 'take', 'minutes', 'least', 'day', 'grateful', 'yet', 'wish', 'wonderful', 'things', 'lives', 'others', 'well', 'started', 'day', 'making', '3', 'pie', 'crusts', 'gluten', 'free', 'One', 'pie', 'made', 'years', 'called', 'Chocolate', 'Midnight', 'Originally', 'Chocolate', 'Almond', 'Midnight', 'praline', 'almond', 'decorative', 'topping', 'omitted', 'vegan', 'Millenium', 'Cookbook', 'decadent', 'cocoa', 'cheesecake', 'textured', 'pie', 'ever', 'eat', 'never', 'know', 'made', 'silken', 'tofu', 'know', 'believe', 'youve', 'ever', 'silken', 'tofu', '‘', 'fail', 'dessert', 'believe', 'vegan', 'years', 'years', 'tried', 'share', 'Baby', 'real', 'deal', 'people', 'fallen', 'love', 'pie', 'knowing', 'tofu', 'truth', 'found', 'didnt', 'care', 'good', 'requested', 'several', 'people', 'every', 'year', '&', 'amp', 'required', 'part', 'family', 'feast', 'year', 'took', 'gluten', 'crust', 'break', 'crust', 'making', 'pie', 'filling', 'making', 'hearty', 'breakfast', 'last', 'cup', 'Stacys', 'Taiwanese', 'Assam', 'reviewed', 'several', 'times', 'bold', 'tasty', 'gone', 'foresee', 'Butiki', 'order', 'coming', 'soon', 'Sometimes', 'need', 'old', 'favourite', 'morning', 'days', 'let', 'wonder', 'tea', 'become', 'mere', 'shadow', 'true', 'deliciousness', 'glad', 'dug', 'earlierjust', 'needed', 'reminder', 'much', 'love', 'Wowwwww', 'delicious', 'Definitely', 'glad', 'ordered', 'shoulda', 'free', 'ounce', 'instead', 'Strawberry', 'Oolong', 'reminds', 'quite', 'bit', 'Laoshan', 'Black', 'malty', 'cocoay', 'theres', 'quite', 'fruitiness', 'well', 'Timolino', 'need', 'write', 'detailed', 'tasting', 'note', 'later', 'definitely', 'winner', 'leaves', 'crazy', 'huge', 'thin', 'wiry', 'unbroken', 'Fabulous', 'drinking', 'second', 'infusion', 'right', 'heading', 'towards', 'astringent', 'spite', '3', 'minutes', 'infusion', 'still', 'good', 'sure', 'would', 'better', 'steeped', 'immediately', 'instead', 'sitting', 'day', 'Rating', 'tentatively', 'placed', 'may', 'increase', 'upon', 'proper', 'evaluation', 'week', 'pretty', 'busy', 'back', 'vacation', 'mid', 'week', 'really', 'work', 'vacation', 'start', 'prepping', 'another', 'office', 'closure', 'probably', 'taking', 'another', '2', 'weeks', 'two', 'weeks', 'time', 'real', 'vacation', 'received', 'ton', 'tea', 'including', 'new', 'teas', 'also', 'changing', 'teas', 'Here', 'sneak', 'peek', 'changesAdding', 'Hattialli', 'Golden', 'Paw', 'similar', 'Hattialli', 'Golden', 'LionChanging', 'Irish', 'Cream', 'Cheesecake', 'Based', 'reviews', 'thinking', 'base', 'wrong', 'flavoring', 'used', 'everyday', 'Sourenee', 'good', 'also', 'fickle', 'pretty', 'challenging', 'get', 'tea', 'sweet', 'spot', 'turn', 'astringent', 'water', 'cools', 'much', 'Changing', 'Sourenee', 'exchanging', 'current', 'everyday', 'Sourenee', 'high', 'quality', 'limited', 'edition', 'Sourenee', 'Adding', 'Hello', 'Sweetie', 'coming', 'soon', 'first', 'promotion', 'Changing', 'Da', 'Yu', 'Ling', 'moved', 'slowly', 'Da', 'Yu', 'Ling', 'winter', 'harvest', 'Fu', 'Shou', 'Shan', 'fantastic', 'replacement', 'Adding', 'baked', 'Ali', 'Shan', 'Mi', 'Xian', 'Just', 'little', 'warning', 'low', 'Mi', 'Xian', 'right', 'able', 'get', 'run', 'scarce', 'moment', 'These', 'additions', 'changes', 'There', 'come', 'flavors', 'works', 'including', 'Custom', 'Blend', 'Contest', 'tea', 'getting', 'close', 'finishing', 'recipe', 'also', 'removing', 'flavors', 'teas', 'arent', 'standards', 'rest', 'teas', 'would', 'love', 'hear', 'suggestions', 'anyone', 'believes', 'tea', 'removed', 'collection', 'On', 'tea', 'harvest', 'slightly', 'deeper', 'dark', 'cocoa', 'note', 'There', 'really', 'isnt', 'much', 'difference', 'harvest', 'last', 'harvest', 'cocoa', 'stronger', 'malt', 'slightly', 'stronger', 'There', 'less', 'stems', 'fantastic', 'The', 'upgrade', 'version', 'hand', 'cherry', 'notes', 'detectable', 'previous', 'version', 'Yowza', 'starting', 'think', 'wouldnt', 'need', 'order', 'tea', 'Caramel', 'Vanilla', 'amazing', 'cup', 'convinced', 'need', 'Reading', 'book', 'sipping', 'last', 'two', 'hours', 'made', 'way', 'really', 'like', 'time', 'world', 'fill', 'gaiwan', 'leaves', 'really', 'fill', 'almost', 'top', 'tea', 'light', 'weight', 'thats', 'best', 'way', 'extract', 'goodness', 'know', 'might', 'seems', 'like', 'lot', 'tea', 'waist', 'waist', 'brew', 'several', 'hours', 'steeps', 'remain', 'rich', 'flavourful', 'good', 'night', 'companionThis', 'another', 'Butiki', 'hoping', 'never', 'disappear', 'See', 'previous', 'notes', 'Still', 'kind', 'disappointed', 'missed', 'Butiki', 'sale', 'due', 'vacation', 'still', 'enough', 'last', 'little', 'complain', 'much', '4th', 'steep', 'morning', 'went', 'well', 'buttermilk', 'scone', 'breakfast', 'See', 'notes', 'details', 'Prepped', 'according', 'parameters', '2', 'tsp', 'leaf', '8', 'oz', 'water', 'per', 'package', 'directions', 'The', 'last', 'nights', 'work', 'rough', 'back', 'Thursday', 'night', 'least', 'Sometimes', 'wonder', 'thinking', 'becoming', 'nurse', 'love', 'introvert', 'get', 'positively', 'drained', 'shifts', 'need', 'time', 'recover', 'Speaking', 'introverts', 'discovered', 'INFJ', 'recently', 'Anybody', 'else', 'know', 'MBTI', 'type', '?', 'say', 'explain', 'drinking', 'strong', 'cup', 'malty', 'cocoa', 'wonder', 'instead', 'going', 'straight', 'bed', 'smooth', 'rich', 'comforting', 'Something', 'smell', 'freshly', 'brewed', 'good', 'black', 'tea', 'relaxes', 'exception', 'Strange', 'tea', 'manage', 'calming', 'energizing', 'simultaneously', 'Just', 'needed', 'right', 'fixed', 'Steepster', 'work', 'problem', 'load', 'work', 'Maybe', 'great', 'productivity', 'great', 'overall', 'happiness', 'Sipdown', '116', 'lot', 'Taiwanese', 'black', 'teas', 'sipdown', 'list', 'favorite', 'sure', 'fruity', 'floral', 'nicely', 'fruity', 'notes', 'Caramel', 'sometimes', 'hint', 'cocoa', 'hard', 'really', 'oversteep', 'Definitely', 'restock', 'perhaps', 'Black', 'Friday', 'The', 'leaves', 'tea', 'stunning', 'Twisty', 'wirey', 'almost', 'blue', 'tone', 'hue', 'The', 'steeped', 'cup', 'lovely', 'deep', 'golden', 'amber', 'tone', 'smells', 'sweet', 'potato', 'cocoa', 'OMG', 'yes', 'cup', 'DELICIOUS', 'For', 'facebook', 'friends', 'may', 'reading', 'going', 'posting', 'review', 'wellif', 'used', 'really', 'high', 'quality', 'amazing', 'tea', 'like', 'understand', 'mothers', 'grandmothers', 'Lipton', 'tea', 'Haha', 'grandmother', 'bless', 'heart', 'would', 'drink', 'instant', 'powdered', 'tea', 'daily', 'know', 'stuff', 'came', 'glass', 'jar', 'green', 'lid', 'Today', 'probably', 'plastic', 'regardless', 'true', 'delight', 'anyone', 'even', 'considering', 'trying', 'different', 'black', 'tea', 'give', 'There', 'sweet', 'aspect', 'tea', 'notes', 'sweet', 'potato', 'pie', 'even', 'bake', 'element', 'sweet', 'like', 'someone', 'spooned', 'sugar', 'cup', 'natural', 'sweetness', 'There', 'strong', 'notes', 'cocoa', 'also', 'notes', 'honey', 'rich', 'cup', 'yet', 'mouthfeel', 'bright', 'cheery', 'heavy', 'syrupy', 'may', 'new', 'favorites', 'wish', 'tried', 'sooner', 'enough', 'teas', 'drink', 'added', 'shopping', 'list', 'There', 'slight', 'light', 'note', 'cinnamon', 'kick', 'spiciness', 'nothing', 'weenie', 'could', 'handle', 'love', 'babe', 'oddly', 'enough', 'even', 'getting', 'bit', 'saffron', 'note', 'tea', 'cools', 'bit', 'become', 'slightly', 'thicker', 'heavier', 'mouthfeel', 'notes', 'maple', 'syrup', 'begin', 'peek', 'know', 'sounds', 'like', 'talking', 'dessert', 'tea', 'yet', 'dessert', 'tea', 'rather', 'wonderful', 'black', 'tea', 'anyone', 'would', 'love']\n"
     ]
    }
   ],
   "source": [
    "from nltk.corpus import stopwords\n",
    "from nltk.tokenize import word_tokenize\n",
    " \n",
    "stop_words = stopwords.words('english')\n",
    "stop_words = stop_words + ['the','i','I','a','of',')','\\'', 'to', 'it','and','is','this','for', 'but', 'that', 'in', 'my', 'not','husband',\\\n",
    "            'be', 'we', 'are', 'm', 'as', 'just', 'there', 'you','all','with','me', 'few', 'will', 'on','has', 'was','many','last'\\\n",
    "              '''()''', \"'\",'!','.','It',',', '-',':','Thanksgiving','Im','youll','Ive','Its','Also','A','As','This','cant','anybody',\\\n",
    "               'go','one','everybody','dont', 'We', 'us', 'got', 'And']\n",
    "\n",
    "word_tokens = word_tokenize(supertext)\n",
    "sentence = ''\n",
    "count = 0\n",
    "tot_count = 0\n",
    "filtered_sentence = [w for w in word_tokens if not w in stop_words]\n",
    "for i in filtered_sentence:\n",
    "    sentence += (' '+i)\n",
    "\n",
    " \n",
    "\n",
    "print(filtered_sentence)\n"
   ]
  },
  {
   "cell_type": "code",
   "execution_count": 128,
   "metadata": {
    "ExecuteTime": {
     "end_time": "2018-05-22T18:49:25.578004Z",
     "start_time": "2018-05-22T18:49:25.574919Z"
    }
   },
   "outputs": [],
   "source": [
    "text1 = TextBlob(sentence)"
   ]
  },
  {
   "cell_type": "code",
   "execution_count": 133,
   "metadata": {
    "ExecuteTime": {
     "end_time": "2018-05-22T18:51:12.959536Z",
     "start_time": "2018-05-22T18:51:12.950904Z"
    }
   },
   "outputs": [],
   "source": [
    "adjlist = []\n",
    "for i in text1.tags:\n",
    "    if i[1]=='JJ' or i[1]=='JJR'or i[1]=='JJS' or i[1]=='NN'or i[1]=='NNS':\n",
    "        abb = re.sub(\"y\",\"\", i[0])\n",
    "        if(i[0] !=abb):\n",
    "            adjlist.append(abb)\n",
    "            adjlist.append(i[0])\n",
    "        else:\n",
    "            adjlist.append(i[0])"
   ]
  },
  {
   "cell_type": "code",
   "execution_count": 138,
   "metadata": {
    "ExecuteTime": {
     "end_time": "2018-05-22T19:54:54.888878Z",
     "start_time": "2018-05-22T19:54:54.885589Z"
    }
   },
   "outputs": [
    {
     "data": {
      "text/plain": [
       "TextBlob(\" Happy Gratitude Day everyone World know American holiday hope everywhere things grateful everyday think important take minutes least day grateful yet wish wonderful things lives others well started day making 3 pie crusts gluten free One pie made years called Chocolate Midnight Originally Chocolate Almond Midnight praline almond decorative topping omitted vegan Millenium Cookbook decadent cocoa cheesecake textured pie ever eat never know made silken tofu know believe youve ever silken tofu ‘ fail dessert believe vegan years years tried share Baby real deal people fallen love pie knowing tofu truth found didnt care good requested several people every year & amp required part family feast year took gluten crust break crust making pie filling making hearty breakfast last cup Stacys Taiwanese Assam reviewed several times bold tasty gone foresee Butiki order coming soon Sometimes need old favourite morning days let wonder tea become mere shadow true deliciousness glad dug earlierjust needed reminder much love Wowwwww delicious Definitely glad ordered shoulda free ounce instead Strawberry Oolong reminds quite bit Laoshan Black malty cocoay theres quite fruitiness well Timolino need write detailed tasting note later definitely winner leaves crazy huge thin wiry unbroken Fabulous drinking second infusion right heading towards astringent spite 3 minutes infusion still good sure would better steeped immediately instead sitting day Rating tentatively placed may increase upon proper evaluation week pretty busy back vacation mid week really work vacation start prepping another office closure probably taking another 2 weeks two weeks time real vacation received ton tea including new teas also changing teas Here sneak peek changesAdding Hattialli Golden Paw similar Hattialli Golden LionChanging Irish Cream Cheesecake Based reviews thinking base wrong flavoring used everyday Sourenee good also fickle pretty challenging get tea sweet spot turn astringent water cools much Changing Sourenee exchanging current everyday Sourenee high quality limited edition Sourenee Adding Hello Sweetie coming soon first promotion Changing Da Yu Ling moved slowly Da Yu Ling winter harvest Fu Shou Shan fantastic replacement Adding baked Ali Shan Mi Xian Just little warning low Mi Xian right able get run scarce moment These additions changes There come flavors works including Custom Blend Contest tea getting close finishing recipe also removing flavors teas arent standards rest teas would love hear suggestions anyone believes tea removed collection On tea harvest slightly deeper dark cocoa note There really isnt much difference harvest last harvest cocoa stronger malt slightly stronger There less stems fantastic The upgrade version hand cherry notes detectable previous version Yowza starting think wouldnt need order tea Caramel Vanilla amazing cup convinced need Reading book sipping last two hours made way really like time world fill gaiwan leaves really fill almost top tea light weight thats best way extract goodness know might seems like lot tea waist waist brew several hours steeps remain rich flavourful good night companionThis another Butiki hoping never disappear See previous notes Still kind disappointed missed Butiki sale due vacation still enough last little complain much 4th steep morning went well buttermilk scone breakfast See notes details Prepped according parameters 2 tsp leaf 8 oz water per package directions The last nights work rough back Thursday night least Sometimes wonder thinking becoming nurse love introvert get positively drained shifts need time recover Speaking introverts discovered INFJ recently Anybody else know MBTI type ? say explain drinking strong cup malty cocoa wonder instead going straight bed smooth rich comforting Something smell freshly brewed good black tea relaxes exception Strange tea manage calming energizing simultaneously Just needed right fixed Steepster work problem load work Maybe great productivity great overall happiness Sipdown 116 lot Taiwanese black teas sipdown list favorite sure fruity floral nicely fruity notes Caramel sometimes hint cocoa hard really oversteep Definitely restock perhaps Black Friday The leaves tea stunning Twisty wirey almost blue tone hue The steeped cup lovely deep golden amber tone smells sweet potato cocoa OMG yes cup DELICIOUS For facebook friends may reading going posting review wellif used really high quality amazing tea like understand mothers grandmothers Lipton tea Haha grandmother bless heart would drink instant powdered tea daily know stuff came glass jar green lid Today probably plastic regardless true delight anyone even considering trying different black tea give There sweet aspect tea notes sweet potato pie even bake element sweet like someone spooned sugar cup natural sweetness There strong notes cocoa also notes honey rich cup yet mouthfeel bright cheery heavy syrupy may new favorites wish tried sooner enough teas drink added shopping list There slight light note cinnamon kick spiciness nothing weenie could handle love babe oddly enough even getting bit saffron note tea cools bit become slightly thicker heavier mouthfeel notes maple syrup begin peek know sounds like talking dessert tea yet dessert tea rather wonderful black tea anyone would love\")"
      ]
     },
     "execution_count": 138,
     "metadata": {},
     "output_type": "execute_result"
    }
   ],
   "source": [
    "text1"
   ]
  },
  {
   "cell_type": "code",
   "execution_count": 137,
   "metadata": {
    "ExecuteTime": {
     "end_time": "2018-05-22T19:54:24.157165Z",
     "start_time": "2018-05-22T19:54:24.153366Z"
    }
   },
   "outputs": [
    {
     "data": {
      "text/plain": [
       "[]"
      ]
     },
     "execution_count": 137,
     "metadata": {},
     "output_type": "execute_result"
    }
   ],
   "source": [
    "re.findall(r\"([^[.!]]*?mouthfeel[^.]*\\.)\",text1[0])"
   ]
  },
  {
   "cell_type": "code",
   "execution_count": 120,
   "metadata": {
    "ExecuteTime": {
     "end_time": "2018-05-22T18:48:55.942586Z",
     "start_time": "2018-05-22T18:48:52.523464Z"
    }
   },
   "outputs": [
    {
     "data": {
      "text/plain": [
       "WordList(['gratitude', 'american holiday hope everywhere things', 'wonderful things', 'day making', 'pie crusts gluten', 'chocolate midnight originally chocolate almond midnight', 'praline almond', 'millenium cookbook', 'decadent cocoa cheesecake', 'silken tofu', 'silken tofu ‘', 'vegan years years', 'baby', 'tofu truth', 'didnt care good', 'part family feast year', 'gluten crust', 'crust making pie filling making', 'hearty breakfast', 'stacys taiwanese assam', 'times bold tasty', 'butiki', 'old favourite morning days', 'wonder tea', 'mere shadow', 'true deliciousness', 'wowwwww', 'definitely', 'free ounce', 'strawberry oolong', 'laoshan black', 'malty cocoay theres', 'timolino', 'winner leaves', 'crazy huge thin wiry unbroken', 'fabulous', 'astringent spite', 'minutes infusion', 'rating', 'proper evaluation week', 'vacation mid week', 'work vacation', 'office closure', 'weeks time', 'real vacation', 'ton tea', 'new teas', 'sneak peek', 'hattialli', 'paw', 'hattialli', 'lionchanging', 'cream cheesecake based', 'sourenee', 'tea sweet spot', 'astringent water cools', 'changing sourenee', 'sourenee', 'high quality', 'sourenee adding hello sweetie', 'changing da yu ling', 'da yu ling', 'winter harvest', 'fu shou shan', 'fantastic replacement', 'adding', 'ali shan mi xian', 'mi xian', 'run scarce moment', 'additions changes', 'flavors works', 'custom blend contest', 'flavors teas arent standards rest teas', 'tea harvest', 'dark cocoa note', 'difference harvest', 'harvest cocoa', 'upgrade version hand cherry', 'detectable previous version', 'yowza', 'wouldnt need order tea', 'caramel vanilla', 'amazing cup', 'reading', 'time world', 'gaiwan leaves', 'top tea', 'light weight thats', 'way extract goodness', 'lot tea waist waist brew', 'hours steeps', 'rich flavourful good night companionthis', 'butiki', 'butiki', 'steep morning', 'buttermilk scone breakfast', 'prepped', 'tsp leaf', 'oz water', 'package directions', 'nights work', 'shifts need time', 'infj', 'anybody', 'mbti', 'strong cup malty cocoa wonder', 'straight bed', 'good black tea relaxes exception', 'strange', 'tea manage', 'steepster', 'work problem load work', 'great productivity', 'great overall happiness', 'sipdown', 'taiwanese', 'black teas sipdown list', 'favorite sure fruity floral', 'caramel', 'hint cocoa', 'definitely', 'black', 'leaves tea', 'twisty', 'blue tone hue', 'lovely deep golden amber tone smells sweet potato cocoa', 'omg', 'yes cup', 'delicious', 'facebook friends', 'review wellif', 'high quality', 'amazing tea', 'mothers grandmothers', 'lipton', 'haha', 'grandmother bless heart', 'drink instant', 'glass jar green lid', 'plastic regardless', 'different black tea', 'sweet aspect tea', 'sweet potato pie', 'bake element sweet', 'sugar cup', 'natural sweetness', 'rich cup', 'bright cheery heavy syrupy', 'new favorites', 'teas drink', 'slight light note cinnamon', 'bit saffron note tea cools bit', 'maple syrup', 'dessert tea', 'dessert tea', 'wonderful black tea'])"
      ]
     },
     "execution_count": 120,
     "metadata": {},
     "output_type": "execute_result"
    }
   ],
   "source": [
    "text1.noun_phrases"
   ]
  },
  {
   "cell_type": "code",
   "execution_count": 82,
   "metadata": {
    "ExecuteTime": {
     "end_time": "2018-05-22T18:10:15.390219Z",
     "start_time": "2018-05-22T18:10:15.377148Z"
    }
   },
   "outputs": [
    {
     "data": {
      "text/plain": [
       "'Happy Gratitude'"
      ]
     },
     "execution_count": 82,
     "metadata": {},
     "output_type": "execute_result"
    }
   ],
   "source": [
    "' '.join(text1.ngrams(n=2))"
   ]
  },
  {
   "cell_type": "code",
   "execution_count": 139,
   "metadata": {
    "ExecuteTime": {
     "end_time": "2018-05-22T19:59:41.656410Z",
     "start_time": "2018-05-22T19:59:41.628483Z"
    }
   },
   "outputs": [
    {
     "ename": "IndentationError",
     "evalue": "expected an indented block (<ipython-input-139-d99852958bd0>, line 11)",
     "output_type": "error",
     "traceback": [
      "\u001b[0;36m  File \u001b[0;32m\"<ipython-input-139-d99852958bd0>\"\u001b[0;36m, line \u001b[0;32m11\u001b[0m\n\u001b[0;31m    adjlist.append(abb.lower())\u001b[0m\n\u001b[0m          ^\u001b[0m\n\u001b[0;31mIndentationError\u001b[0m\u001b[0;31m:\u001b[0m expected an indented block\n"
     ]
    }
   ],
   "source": [
    "def pullInfo(text1):\n",
    "    count=0\n",
    "    tot_count=0\n",
    "    proportion_dict = {}\n",
    "    for i in tastingflavors:\n",
    "        count=0\n",
    "        for j in text1.tags:\n",
    "            if i[1]=='JJ' or i[1]=='JJR'or i[1]=='JJS' or i[1]=='NN'or i[1]=='NNS':\n",
    "                abb = re.sub(\"y\",\"\", i[0])\n",
    "                if(i[0] !=abb):\n",
    "                    adjlist.append(abb.lower())\n",
    "                    adjlist.append(j[0].lower())\n",
    "                else:\n",
    "                    adjlist.append(j[0].lower())\n",
    "        for k in adjlist:\n",
    "            if k in tastingflavors[i]:\n",
    "                count+=1\n",
    "        for k in text1.ngrams(n=2):\n",
    "            if ' '.join(k.lower()) in tastingflavors[i]:\n",
    "                count+=1\n",
    "        tot_count+=count\n",
    "        proportion_dict[i]=count\n",
    "    for i in proportion_dict:\n",
    "        proportion_dict[i] = proportion_dict[i]/tot_count\n",
    "        \n",
    "    return proportion_dict"
   ]
  },
  {
   "cell_type": "markdown",
   "metadata": {
    "heading_collapsed": true
   },
   "source": [
    "## KMean\n",
    "Trying out KMean for no reason really."
   ]
  },
  {
   "cell_type": "code",
   "execution_count": 81,
   "metadata": {
    "ExecuteTime": {
     "end_time": "2018-05-21T23:32:55.939154Z",
     "start_time": "2018-05-21T23:32:55.935762Z"
    },
    "hidden": true
   },
   "outputs": [],
   "source": [
    "from sklearn.cluster import KMeans\n",
    "from sklearn.utils import shuffle\n",
    "from sklearn import preprocessing"
   ]
  },
  {
   "cell_type": "code",
   "execution_count": 74,
   "metadata": {
    "ExecuteTime": {
     "end_time": "2018-05-21T23:25:01.334130Z",
     "start_time": "2018-05-21T23:24:59.918634Z"
    },
    "hidden": true
   },
   "outputs": [],
   "source": [
    "teadf = pd.DataFrame()\n",
    "for i in teareview_dict:\n",
    "    for j in teareview_dict[i]:\n",
    "        newdf = pd.DataFrame(j)\n",
    "        teadf=pd.concat([teadf,newdf],ignore_index=True)"
   ]
  },
  {
   "cell_type": "code",
   "execution_count": 79,
   "metadata": {
    "ExecuteTime": {
     "end_time": "2018-05-21T23:27:09.090311Z",
     "start_time": "2018-05-21T23:27:09.064920Z"
    },
    "hidden": true
   },
   "outputs": [
    {
     "data": {
      "text/html": [
       "<div>\n",
       "<style scoped>\n",
       "    .dataframe tbody tr th:only-of-type {\n",
       "        vertical-align: middle;\n",
       "    }\n",
       "\n",
       "    .dataframe tbody tr th {\n",
       "        vertical-align: top;\n",
       "    }\n",
       "\n",
       "    .dataframe thead th {\n",
       "        text-align: right;\n",
       "    }\n",
       "</style>\n",
       "<table border=\"1\" class=\"dataframe\">\n",
       "  <thead>\n",
       "    <tr style=\"text-align: right;\">\n",
       "      <th></th>\n",
       "      <th>Polarity</th>\n",
       "      <th>Tea Flavors</th>\n",
       "      <th>Tea Ingredients</th>\n",
       "      <th>Tea Reviews</th>\n",
       "    </tr>\n",
       "    <tr>\n",
       "      <th>Tea Name</th>\n",
       "      <th></th>\n",
       "      <th></th>\n",
       "      <th></th>\n",
       "      <th></th>\n",
       "    </tr>\n",
       "  </thead>\n",
       "  <tbody>\n",
       "    <tr>\n",
       "      <th>Premium Silky Green Tea</th>\n",
       "      <td>0.415000</td>\n",
       "      <td>Earth, Vegetal, Wet Earth, Butter, Vanilla</td>\n",
       "      <td>Not available</td>\n",
       "      <td>Me: Do you want to do yoga? Hubby: Do yoga or ...</td>\n",
       "    </tr>\n",
       "    <tr>\n",
       "      <th>Premium Silky Green Tea</th>\n",
       "      <td>0.100417</td>\n",
       "      <td>Earth, Vegetal, Wet Earth, Butter, Vanilla</td>\n",
       "      <td>Not available</td>\n",
       "      <td>Guys, I’m totally stressed. There’s too much g...</td>\n",
       "    </tr>\n",
       "    <tr>\n",
       "      <th>Premium Silky Green Tea</th>\n",
       "      <td>0.204023</td>\n",
       "      <td>Earth, Vegetal, Wet Earth, Butter, Vanilla</td>\n",
       "      <td>Not available</td>\n",
       "      <td>Oh.My.Gawd. This has an AWESOME aroma! It’s li...</td>\n",
       "    </tr>\n",
       "    <tr>\n",
       "      <th>Premium Silky Green Tea</th>\n",
       "      <td>0.254630</td>\n",
       "      <td>Earth, Vegetal, Wet Earth, Butter, Vanilla</td>\n",
       "      <td>Not available</td>\n",
       "      <td>… if this isn’t an oolong, and a milk oolong a...</td>\n",
       "    </tr>\n",
       "    <tr>\n",
       "      <th>Premium Silky Green Tea</th>\n",
       "      <td>0.217424</td>\n",
       "      <td>Earth, Vegetal, Wet Earth, Butter, Vanilla</td>\n",
       "      <td>Not available</td>\n",
       "      <td>After reading ashmanra’s tasting notes on this...</td>\n",
       "    </tr>\n",
       "    <tr>\n",
       "      <th>Premium Silky Green Tea</th>\n",
       "      <td>0.156495</td>\n",
       "      <td>Earth, Vegetal, Wet Earth, Butter, Vanilla</td>\n",
       "      <td>Not available</td>\n",
       "      <td>Thanks to &lt;strong&gt;Mercuryhime&lt;/strong&gt; for thi...</td>\n",
       "    </tr>\n",
       "    <tr>\n",
       "      <th>Premium Silky Green Tea</th>\n",
       "      <td>0.196830</td>\n",
       "      <td>Earth, Vegetal, Wet Earth, Butter, Vanilla</td>\n",
       "      <td>Not available</td>\n",
       "      <td>Tea of the morning……Usually, I don’t drink gre...</td>\n",
       "    </tr>\n",
       "    <tr>\n",
       "      <th>Premium Silky Green Tea</th>\n",
       "      <td>0.173993</td>\n",
       "      <td>Earth, Vegetal, Wet Earth, Butter, Vanilla</td>\n",
       "      <td>Not available</td>\n",
       "      <td>I, like others, noticed that the leaves look a...</td>\n",
       "    </tr>\n",
       "    <tr>\n",
       "      <th>Premium Silky Green Tea</th>\n",
       "      <td>0.171533</td>\n",
       "      <td>Earth, Vegetal, Wet Earth, Butter, Vanilla</td>\n",
       "      <td>Not available</td>\n",
       "      <td>I GOT QUILTGUPPYS PACKAGE IN THE MAIL!!!!  So ...</td>\n",
       "    </tr>\n",
       "    <tr>\n",
       "      <th>Premium Silky Green Tea</th>\n",
       "      <td>0.201786</td>\n",
       "      <td>Earth, Vegetal, Wet Earth, Butter, Vanilla</td>\n",
       "      <td>Not available</td>\n",
       "      <td>Oh this is good. Beautifully good. I must agre...</td>\n",
       "    </tr>\n",
       "    <tr>\n",
       "      <th>Premium Silky Green Tea</th>\n",
       "      <td>0.112268</td>\n",
       "      <td>Earth, Vegetal, Wet Earth, Butter, Vanilla</td>\n",
       "      <td>Not available</td>\n",
       "      <td>I have no idea why Bird Pick is trying to fron...</td>\n",
       "    </tr>\n",
       "    <tr>\n",
       "      <th>Premium Silky Green Tea</th>\n",
       "      <td>0.287103</td>\n",
       "      <td>Earth, Vegetal, Wet Earth, Butter, Vanilla</td>\n",
       "      <td>Not available</td>\n",
       "      <td>This tea kind of blows my mind. I only had it ...</td>\n",
       "    </tr>\n",
       "    <tr>\n",
       "      <th>Premium Silky Green Tea</th>\n",
       "      <td>0.380201</td>\n",
       "      <td>Earth, Vegetal, Wet Earth, Butter, Vanilla</td>\n",
       "      <td>Not available</td>\n",
       "      <td>Silky Green is my absolute favorite tea from B...</td>\n",
       "    </tr>\n",
       "    <tr>\n",
       "      <th>Premium Silky Green Tea</th>\n",
       "      <td>0.296282</td>\n",
       "      <td>Earth, Vegetal, Wet Earth, Butter, Vanilla</td>\n",
       "      <td>Not available</td>\n",
       "      <td>I was captivated by the buttery sent of the le...</td>\n",
       "    </tr>\n",
       "    <tr>\n",
       "      <th>Premium Silky Green Tea</th>\n",
       "      <td>0.253667</td>\n",
       "      <td>Earth, Vegetal, Wet Earth, Butter, Vanilla</td>\n",
       "      <td>Not available</td>\n",
       "      <td>Super unique taste — truly “silky”, unlike mos...</td>\n",
       "    </tr>\n",
       "    <tr>\n",
       "      <th>Premium Silky Green Tea</th>\n",
       "      <td>1.000000</td>\n",
       "      <td>Earth, Vegetal, Wet Earth, Butter, Vanilla</td>\n",
       "      <td>Not available</td>\n",
       "      <td>OMG! This has an AWESOME aroma!</td>\n",
       "    </tr>\n",
       "    <tr>\n",
       "      <th>Premium Silky Green Tea</th>\n",
       "      <td>0.129643</td>\n",
       "      <td>Earth, Vegetal, Wet Earth, Butter, Vanilla</td>\n",
       "      <td>Not available</td>\n",
       "      <td>Very smooth, buttery, and nutty. Bit of vanill...</td>\n",
       "    </tr>\n",
       "    <tr>\n",
       "      <th>Premium Silky Green Tea</th>\n",
       "      <td>0.110000</td>\n",
       "      <td>Earth, Vegetal, Wet Earth, Butter, Vanilla</td>\n",
       "      <td>Not available</td>\n",
       "      <td>I don’t know how I would describe this tea. It...</td>\n",
       "    </tr>\n",
       "    <tr>\n",
       "      <th>Premium Silky Green Tea</th>\n",
       "      <td>-0.084722</td>\n",
       "      <td>Earth, Vegetal, Wet Earth, Butter, Vanilla</td>\n",
       "      <td>Not available</td>\n",
       "      <td>a little dry but totally relaxing!\\n\\n&lt;p class...</td>\n",
       "    </tr>\n",
       "    <tr>\n",
       "      <th>Premium Silky Green Tea</th>\n",
       "      <td>0.400000</td>\n",
       "      <td>Earth, Vegetal, Wet Earth, Butter, Vanilla</td>\n",
       "      <td>Not available</td>\n",
       "      <td>I started drinking green tea because of the he...</td>\n",
       "    </tr>\n",
       "    <tr>\n",
       "      <th>Premium Silky Green Tea</th>\n",
       "      <td>0.358333</td>\n",
       "      <td>Earth, Vegetal, Wet Earth, Butter, Vanilla</td>\n",
       "      <td>Not available</td>\n",
       "      <td>YUM! This is very good! Thank you &lt;strong&gt;Ost&lt;...</td>\n",
       "    </tr>\n",
       "    <tr>\n",
       "      <th>Premium Silky Green Tea</th>\n",
       "      <td>0.004762</td>\n",
       "      <td>Earth, Vegetal, Wet Earth, Butter, Vanilla</td>\n",
       "      <td>Not available</td>\n",
       "      <td>from the &lt;strong&gt;(Mostly) Unflavored TTB&lt;/stro...</td>\n",
       "    </tr>\n",
       "    <tr>\n",
       "      <th>Premium Silky Green Tea</th>\n",
       "      <td>-0.012745</td>\n",
       "      <td>Earth, Vegetal, Wet Earth, Butter, Vanilla</td>\n",
       "      <td>Not available</td>\n",
       "      <td>&lt;strong&gt;MzPriss’ Unflavored Tea Box – Tea #9&lt;/...</td>\n",
       "    </tr>\n",
       "    <tr>\n",
       "      <th>Premium Silky Green Tea</th>\n",
       "      <td>0.397917</td>\n",
       "      <td>Earth, Vegetal, Wet Earth, Butter, Vanilla</td>\n",
       "      <td>Not available</td>\n",
       "      <td>For some reason, I can’t get it out of my head...</td>\n",
       "    </tr>\n",
       "    <tr>\n",
       "      <th>Premium Silky Green Tea</th>\n",
       "      <td>0.400000</td>\n",
       "      <td>Earth, Vegetal, Wet Earth, Butter, Vanilla</td>\n",
       "      <td>Not available</td>\n",
       "      <td>This is the perfect green tea. It has a light ...</td>\n",
       "    </tr>\n",
       "    <tr>\n",
       "      <th>Premium Silky Green Tea</th>\n",
       "      <td>0.204167</td>\n",
       "      <td>Earth, Vegetal, Wet Earth, Butter, Vanilla</td>\n",
       "      <td>Not available</td>\n",
       "      <td>On the first brew, such a creamy flavor withou...</td>\n",
       "    </tr>\n",
       "    <tr>\n",
       "      <th>Madame Butterfly Jasmine</th>\n",
       "      <td>0.235000</td>\n",
       "      <td>Butter, Jasmine</td>\n",
       "      <td>Green Tea Leaves, Jasmine Flowers</td>\n",
       "      <td>Thanks Liberteas!Now THIS is the Jasmine for m...</td>\n",
       "    </tr>\n",
       "    <tr>\n",
       "      <th>Madame Butterfly Jasmine</th>\n",
       "      <td>0.074493</td>\n",
       "      <td>Butter, Jasmine</td>\n",
       "      <td>Green Tea Leaves, Jasmine Flowers</td>\n",
       "      <td>Not rating it yet, because I’m not sure.I was ...</td>\n",
       "    </tr>\n",
       "    <tr>\n",
       "      <th>Madame Butterfly Jasmine</th>\n",
       "      <td>0.353030</td>\n",
       "      <td>Butter, Jasmine</td>\n",
       "      <td>Green Tea Leaves, Jasmine Flowers</td>\n",
       "      <td>I LOVE this jasmine tea. It has a nice balance...</td>\n",
       "    </tr>\n",
       "    <tr>\n",
       "      <th>Madame Butterfly Jasmine</th>\n",
       "      <td>0.195486</td>\n",
       "      <td>Butter, Jasmine</td>\n",
       "      <td>Green Tea Leaves, Jasmine Flowers</td>\n",
       "      <td>Wow! What an amazing Jasmine tea. Thanks Liqui...</td>\n",
       "    </tr>\n",
       "    <tr>\n",
       "      <th>...</th>\n",
       "      <td>...</td>\n",
       "      <td>...</td>\n",
       "      <td>...</td>\n",
       "      <td>...</td>\n",
       "    </tr>\n",
       "    <tr>\n",
       "      <th>Anhui Yellow Flower</th>\n",
       "      <td>0.128864</td>\n",
       "      <td>Vegetal</td>\n",
       "      <td>Not available</td>\n",
       "      <td>The dry leaf smells like a spice shop. I smell...</td>\n",
       "    </tr>\n",
       "    <tr>\n",
       "      <th>Zhu Ye Qing</th>\n",
       "      <td>0.091209</td>\n",
       "      <td>Artichoke, Bitter</td>\n",
       "      <td>Not available</td>\n",
       "      <td>Thank you for this rarity, &lt;strong&gt;MissB&lt;/stro...</td>\n",
       "    </tr>\n",
       "    <tr>\n",
       "      <th>Zhu Ye Qing</th>\n",
       "      <td>-0.097222</td>\n",
       "      <td>Artichoke, Bitter</td>\n",
       "      <td>Not available</td>\n",
       "      <td>Eh…. I brewed this gong fu off of the recommen...</td>\n",
       "    </tr>\n",
       "    <tr>\n",
       "      <th>Huoshan Huang Ya</th>\n",
       "      <td>0.096458</td>\n",
       "      <td>&lt;dd class=\"empty\"&gt;Not available</td>\n",
       "      <td>Not available</td>\n",
       "      <td>This has got to be the lightest tea I’ve ever ...</td>\n",
       "    </tr>\n",
       "    <tr>\n",
       "      <th>Organic Lapsang Souchong</th>\n",
       "      <td>0.144907</td>\n",
       "      <td>&lt;dd class=\"empty\"&gt;Not available</td>\n",
       "      <td>Not available</td>\n",
       "      <td>This is probably a great tea—-but for a smoke ...</td>\n",
       "    </tr>\n",
       "    <tr>\n",
       "      <th>Meng Ding Huang Ya</th>\n",
       "      <td>0.226042</td>\n",
       "      <td>&lt;dd class=\"empty\"&gt;Not available</td>\n",
       "      <td>Not available</td>\n",
       "      <td>&lt;strong&gt;Doulton&lt;/strong&gt; – I love you. Thank y...</td>\n",
       "    </tr>\n",
       "    <tr>\n",
       "      <th>Meng Ding Huang Ya</th>\n",
       "      <td>0.200289</td>\n",
       "      <td>&lt;dd class=\"empty\"&gt;Not available</td>\n",
       "      <td>Not available</td>\n",
       "      <td>When I opened the lid to the brewed tea, it sm...</td>\n",
       "    </tr>\n",
       "    <tr>\n",
       "      <th>Huo Shan Huang Ya</th>\n",
       "      <td>-0.003704</td>\n",
       "      <td>&lt;dd class=\"empty\"&gt;Not available</td>\n",
       "      <td>Not available</td>\n",
       "      <td>My first yellow tea. Definitely one of the mil...</td>\n",
       "    </tr>\n",
       "    <tr>\n",
       "      <th>Tea Latte</th>\n",
       "      <td>0.200000</td>\n",
       "      <td>&lt;dd class=\"empty\"&gt;Not available</td>\n",
       "      <td>Not available</td>\n",
       "      <td>I had a pumpkin spice chai tea latte, and it w...</td>\n",
       "    </tr>\n",
       "    <tr>\n",
       "      <th>Tea Latte</th>\n",
       "      <td>0.214613</td>\n",
       "      <td>&lt;dd class=\"empty\"&gt;Not available</td>\n",
       "      <td>Not available</td>\n",
       "      <td>Being lazy; don’t feel like making a new recor...</td>\n",
       "    </tr>\n",
       "    <tr>\n",
       "      <th>Tea Latte</th>\n",
       "      <td>-0.444444</td>\n",
       "      <td>&lt;dd class=\"empty\"&gt;Not available</td>\n",
       "      <td>Not available</td>\n",
       "      <td>Backlogging from the trip to ChicagoMade with ...</td>\n",
       "    </tr>\n",
       "    <tr>\n",
       "      <th>Yellow Mountain Wild Tea (Huang Shan Mao Feng)</th>\n",
       "      <td>0.300000</td>\n",
       "      <td>&lt;dd class=\"empty\"&gt;Not available</td>\n",
       "      <td>Not available</td>\n",
       "      <td>Not a fan. Had a sort of plastic taste. Not ev...</td>\n",
       "    </tr>\n",
       "    <tr>\n",
       "      <th>Huang Da Cha</th>\n",
       "      <td>0.600000</td>\n",
       "      <td>&lt;dd class=\"empty\"&gt;Not available</td>\n",
       "      <td>Not available</td>\n",
       "      <td>I really liked it, I found it a nice change fr...</td>\n",
       "    </tr>\n",
       "    <tr>\n",
       "      <th>Huang Da Cha</th>\n",
       "      <td>0.000000</td>\n",
       "      <td>&lt;dd class=\"empty\"&gt;Not available</td>\n",
       "      <td>Not available</td>\n",
       "      <td>This one remembers me an herbal tea (Lemon bal...</td>\n",
       "    </tr>\n",
       "    <tr>\n",
       "      <th>Thè Jaune des Cinq Dynasties</th>\n",
       "      <td>0.500000</td>\n",
       "      <td>&lt;dd class=\"empty\"&gt;Not available</td>\n",
       "      <td>Not available</td>\n",
       "      <td>Well, better boil your money…</td>\n",
       "    </tr>\n",
       "    <tr>\n",
       "      <th>Organic Yellow Tea Coins</th>\n",
       "      <td>0.021875</td>\n",
       "      <td>&lt;dd class=\"empty\"&gt;Not available</td>\n",
       "      <td>Not available</td>\n",
       "      <td>I found this tea really disappointing. Since I...</td>\n",
       "    </tr>\n",
       "    <tr>\n",
       "      <th>Yellow Peach</th>\n",
       "      <td>0.423611</td>\n",
       "      <td>&lt;dd class=\"empty\"&gt;Not available</td>\n",
       "      <td>Not available</td>\n",
       "      <td>Delectable. I loved it, all three steepings th...</td>\n",
       "    </tr>\n",
       "    <tr>\n",
       "      <th>Yellow Peach</th>\n",
       "      <td>-0.077421</td>\n",
       "      <td>&lt;dd class=\"empty\"&gt;Not available</td>\n",
       "      <td>Not available</td>\n",
       "      <td>Pouring this in to my cup I got a lovely poof ...</td>\n",
       "    </tr>\n",
       "    <tr>\n",
       "      <th>Yellow Peach</th>\n",
       "      <td>0.161952</td>\n",
       "      <td>&lt;dd class=\"empty\"&gt;Not available</td>\n",
       "      <td>Not available</td>\n",
       "      <td>First yellow tea review!And I’m a bit confused...</td>\n",
       "    </tr>\n",
       "    <tr>\n",
       "      <th>Yellow Peach</th>\n",
       "      <td>-0.060858</td>\n",
       "      <td>&lt;dd class=\"empty\"&gt;Not available</td>\n",
       "      <td>Not available</td>\n",
       "      <td>I recently received this from Ashley…thanks As...</td>\n",
       "    </tr>\n",
       "    <tr>\n",
       "      <th>Yellow Peach</th>\n",
       "      <td>-0.032778</td>\n",
       "      <td>&lt;dd class=\"empty\"&gt;Not available</td>\n",
       "      <td>Not available</td>\n",
       "      <td>This was the first yellow tea I ever tried-and...</td>\n",
       "    </tr>\n",
       "    <tr>\n",
       "      <th>Fragrant Bud Yellow Tea</th>\n",
       "      <td>0.095833</td>\n",
       "      <td>&lt;dd class=\"empty\"&gt;Not available</td>\n",
       "      <td>Not available</td>\n",
       "      <td>&lt;strong&gt;GCTTB&lt;/strong&gt; I don’t know much about...</td>\n",
       "    </tr>\n",
       "    <tr>\n",
       "      <th>Fragrant Bud Yellow Tea</th>\n",
       "      <td>0.022527</td>\n",
       "      <td>&lt;dd class=\"empty\"&gt;Not available</td>\n",
       "      <td>Not available</td>\n",
       "      <td>This is the first yellow tea I have ever drank...</td>\n",
       "    </tr>\n",
       "    <tr>\n",
       "      <th>Peach Yellow Tea</th>\n",
       "      <td>-0.275000</td>\n",
       "      <td>&lt;dd class=\"empty\"&gt;Not available</td>\n",
       "      <td>Not available</td>\n",
       "      <td>GCCTB4This tea is not for me. The peach came a...</td>\n",
       "    </tr>\n",
       "    <tr>\n",
       "      <th>Peach Yellow Tea</th>\n",
       "      <td>0.208073</td>\n",
       "      <td>&lt;dd class=\"empty\"&gt;Not available</td>\n",
       "      <td>Not available</td>\n",
       "      <td>this was another from &lt;strong&gt;dexter&lt;/strong&gt; ...</td>\n",
       "    </tr>\n",
       "    <tr>\n",
       "      <th>Huo Shan Yellow Tea</th>\n",
       "      <td>0.205379</td>\n",
       "      <td>&lt;dd class=\"empty\"&gt;Not available</td>\n",
       "      <td>Not available</td>\n",
       "      <td>I’m so happy!! A few minutes ago the postman d...</td>\n",
       "    </tr>\n",
       "    <tr>\n",
       "      <th>Silver Needles of Gentleman Mountain 'Junshan Yinzhen'</th>\n",
       "      <td>0.164720</td>\n",
       "      <td>&lt;dd class=\"empty\"&gt;Not available</td>\n",
       "      <td>Not available</td>\n",
       "      <td>Today I am taking a look at the two Yellow tea...</td>\n",
       "    </tr>\n",
       "    <tr>\n",
       "      <th>Jungpana Yellow - Darjeeling Tea - First Flush, 2013</th>\n",
       "      <td>0.500000</td>\n",
       "      <td>&lt;dd class=\"empty\"&gt;Not available</td>\n",
       "      <td>Not available</td>\n",
       "      <td>I had this tea today with Greg…its quite enjoy...</td>\n",
       "    </tr>\n",
       "    <tr>\n",
       "      <th>Junshan Yellow 2015</th>\n",
       "      <td>0.465741</td>\n",
       "      <td>&lt;dd class=\"empty\"&gt;Not available</td>\n",
       "      <td>Yellow Tea Leaves</td>\n",
       "      <td>After my best friend and I went to the spa tod...</td>\n",
       "    </tr>\n",
       "    <tr>\n",
       "      <th>Yellow Sprouting 'Huoshan Huang Ya'</th>\n",
       "      <td>0.163004</td>\n",
       "      <td>&lt;dd class=\"empty\"&gt;Not available</td>\n",
       "      <td>Not available</td>\n",
       "      <td>Next up I take a look at Yellow Sprouting ‘Huo...</td>\n",
       "    </tr>\n",
       "  </tbody>\n",
       "</table>\n",
       "<p>6931 rows × 4 columns</p>\n",
       "</div>"
      ],
      "text/plain": [
       "                                                    Polarity  \\\n",
       "Tea Name                                                       \n",
       "Premium Silky Green Tea                             0.415000   \n",
       "Premium Silky Green Tea                             0.100417   \n",
       "Premium Silky Green Tea                             0.204023   \n",
       "Premium Silky Green Tea                             0.254630   \n",
       "Premium Silky Green Tea                             0.217424   \n",
       "Premium Silky Green Tea                             0.156495   \n",
       "Premium Silky Green Tea                             0.196830   \n",
       "Premium Silky Green Tea                             0.173993   \n",
       "Premium Silky Green Tea                             0.171533   \n",
       "Premium Silky Green Tea                             0.201786   \n",
       "Premium Silky Green Tea                             0.112268   \n",
       "Premium Silky Green Tea                             0.287103   \n",
       "Premium Silky Green Tea                             0.380201   \n",
       "Premium Silky Green Tea                             0.296282   \n",
       "Premium Silky Green Tea                             0.253667   \n",
       "Premium Silky Green Tea                             1.000000   \n",
       "Premium Silky Green Tea                             0.129643   \n",
       "Premium Silky Green Tea                             0.110000   \n",
       "Premium Silky Green Tea                            -0.084722   \n",
       "Premium Silky Green Tea                             0.400000   \n",
       "Premium Silky Green Tea                             0.358333   \n",
       "Premium Silky Green Tea                             0.004762   \n",
       "Premium Silky Green Tea                            -0.012745   \n",
       "Premium Silky Green Tea                             0.397917   \n",
       "Premium Silky Green Tea                             0.400000   \n",
       "Premium Silky Green Tea                             0.204167   \n",
       "Madame Butterfly Jasmine                            0.235000   \n",
       "Madame Butterfly Jasmine                            0.074493   \n",
       "Madame Butterfly Jasmine                            0.353030   \n",
       "Madame Butterfly Jasmine                            0.195486   \n",
       "...                                                      ...   \n",
       "Anhui Yellow Flower                                 0.128864   \n",
       "Zhu Ye Qing                                         0.091209   \n",
       "Zhu Ye Qing                                        -0.097222   \n",
       "Huoshan Huang Ya                                    0.096458   \n",
       "Organic Lapsang Souchong                            0.144907   \n",
       "Meng Ding Huang Ya                                  0.226042   \n",
       "Meng Ding Huang Ya                                  0.200289   \n",
       "Huo Shan Huang Ya                                  -0.003704   \n",
       "Tea Latte                                           0.200000   \n",
       "Tea Latte                                           0.214613   \n",
       "Tea Latte                                          -0.444444   \n",
       "Yellow Mountain Wild Tea (Huang Shan Mao Feng)      0.300000   \n",
       "Huang Da Cha                                        0.600000   \n",
       "Huang Da Cha                                        0.000000   \n",
       "Thè Jaune des Cinq Dynasties                        0.500000   \n",
       "Organic Yellow Tea Coins                            0.021875   \n",
       "Yellow Peach                                        0.423611   \n",
       "Yellow Peach                                       -0.077421   \n",
       "Yellow Peach                                        0.161952   \n",
       "Yellow Peach                                       -0.060858   \n",
       "Yellow Peach                                       -0.032778   \n",
       "Fragrant Bud Yellow Tea                             0.095833   \n",
       "Fragrant Bud Yellow Tea                             0.022527   \n",
       "Peach Yellow Tea                                   -0.275000   \n",
       "Peach Yellow Tea                                    0.208073   \n",
       "Huo Shan Yellow Tea                                 0.205379   \n",
       "Silver Needles of Gentleman Mountain 'Junshan Y...  0.164720   \n",
       "Jungpana Yellow - Darjeeling Tea - First Flush,...  0.500000   \n",
       "Junshan Yellow 2015                                 0.465741   \n",
       "Yellow Sprouting 'Huoshan Huang Ya'                 0.163004   \n",
       "\n",
       "                                                                                   Tea Flavors  \\\n",
       "Tea Name                                                                                         \n",
       "Premium Silky Green Tea                             Earth, Vegetal, Wet Earth, Butter, Vanilla   \n",
       "Premium Silky Green Tea                             Earth, Vegetal, Wet Earth, Butter, Vanilla   \n",
       "Premium Silky Green Tea                             Earth, Vegetal, Wet Earth, Butter, Vanilla   \n",
       "Premium Silky Green Tea                             Earth, Vegetal, Wet Earth, Butter, Vanilla   \n",
       "Premium Silky Green Tea                             Earth, Vegetal, Wet Earth, Butter, Vanilla   \n",
       "Premium Silky Green Tea                             Earth, Vegetal, Wet Earth, Butter, Vanilla   \n",
       "Premium Silky Green Tea                             Earth, Vegetal, Wet Earth, Butter, Vanilla   \n",
       "Premium Silky Green Tea                             Earth, Vegetal, Wet Earth, Butter, Vanilla   \n",
       "Premium Silky Green Tea                             Earth, Vegetal, Wet Earth, Butter, Vanilla   \n",
       "Premium Silky Green Tea                             Earth, Vegetal, Wet Earth, Butter, Vanilla   \n",
       "Premium Silky Green Tea                             Earth, Vegetal, Wet Earth, Butter, Vanilla   \n",
       "Premium Silky Green Tea                             Earth, Vegetal, Wet Earth, Butter, Vanilla   \n",
       "Premium Silky Green Tea                             Earth, Vegetal, Wet Earth, Butter, Vanilla   \n",
       "Premium Silky Green Tea                             Earth, Vegetal, Wet Earth, Butter, Vanilla   \n",
       "Premium Silky Green Tea                             Earth, Vegetal, Wet Earth, Butter, Vanilla   \n",
       "Premium Silky Green Tea                             Earth, Vegetal, Wet Earth, Butter, Vanilla   \n",
       "Premium Silky Green Tea                             Earth, Vegetal, Wet Earth, Butter, Vanilla   \n",
       "Premium Silky Green Tea                             Earth, Vegetal, Wet Earth, Butter, Vanilla   \n",
       "Premium Silky Green Tea                             Earth, Vegetal, Wet Earth, Butter, Vanilla   \n",
       "Premium Silky Green Tea                             Earth, Vegetal, Wet Earth, Butter, Vanilla   \n",
       "Premium Silky Green Tea                             Earth, Vegetal, Wet Earth, Butter, Vanilla   \n",
       "Premium Silky Green Tea                             Earth, Vegetal, Wet Earth, Butter, Vanilla   \n",
       "Premium Silky Green Tea                             Earth, Vegetal, Wet Earth, Butter, Vanilla   \n",
       "Premium Silky Green Tea                             Earth, Vegetal, Wet Earth, Butter, Vanilla   \n",
       "Premium Silky Green Tea                             Earth, Vegetal, Wet Earth, Butter, Vanilla   \n",
       "Premium Silky Green Tea                             Earth, Vegetal, Wet Earth, Butter, Vanilla   \n",
       "Madame Butterfly Jasmine                                                       Butter, Jasmine   \n",
       "Madame Butterfly Jasmine                                                       Butter, Jasmine   \n",
       "Madame Butterfly Jasmine                                                       Butter, Jasmine   \n",
       "Madame Butterfly Jasmine                                                       Butter, Jasmine   \n",
       "...                                                                                        ...   \n",
       "Anhui Yellow Flower                                                                    Vegetal   \n",
       "Zhu Ye Qing                                                                  Artichoke, Bitter   \n",
       "Zhu Ye Qing                                                                  Artichoke, Bitter   \n",
       "Huoshan Huang Ya                                               <dd class=\"empty\">Not available   \n",
       "Organic Lapsang Souchong                                       <dd class=\"empty\">Not available   \n",
       "Meng Ding Huang Ya                                             <dd class=\"empty\">Not available   \n",
       "Meng Ding Huang Ya                                             <dd class=\"empty\">Not available   \n",
       "Huo Shan Huang Ya                                              <dd class=\"empty\">Not available   \n",
       "Tea Latte                                                      <dd class=\"empty\">Not available   \n",
       "Tea Latte                                                      <dd class=\"empty\">Not available   \n",
       "Tea Latte                                                      <dd class=\"empty\">Not available   \n",
       "Yellow Mountain Wild Tea (Huang Shan Mao Feng)                 <dd class=\"empty\">Not available   \n",
       "Huang Da Cha                                                   <dd class=\"empty\">Not available   \n",
       "Huang Da Cha                                                   <dd class=\"empty\">Not available   \n",
       "Thè Jaune des Cinq Dynasties                                   <dd class=\"empty\">Not available   \n",
       "Organic Yellow Tea Coins                                       <dd class=\"empty\">Not available   \n",
       "Yellow Peach                                                   <dd class=\"empty\">Not available   \n",
       "Yellow Peach                                                   <dd class=\"empty\">Not available   \n",
       "Yellow Peach                                                   <dd class=\"empty\">Not available   \n",
       "Yellow Peach                                                   <dd class=\"empty\">Not available   \n",
       "Yellow Peach                                                   <dd class=\"empty\">Not available   \n",
       "Fragrant Bud Yellow Tea                                        <dd class=\"empty\">Not available   \n",
       "Fragrant Bud Yellow Tea                                        <dd class=\"empty\">Not available   \n",
       "Peach Yellow Tea                                               <dd class=\"empty\">Not available   \n",
       "Peach Yellow Tea                                               <dd class=\"empty\">Not available   \n",
       "Huo Shan Yellow Tea                                            <dd class=\"empty\">Not available   \n",
       "Silver Needles of Gentleman Mountain 'Junshan Y...             <dd class=\"empty\">Not available   \n",
       "Jungpana Yellow - Darjeeling Tea - First Flush,...             <dd class=\"empty\">Not available   \n",
       "Junshan Yellow 2015                                            <dd class=\"empty\">Not available   \n",
       "Yellow Sprouting 'Huoshan Huang Ya'                            <dd class=\"empty\">Not available   \n",
       "\n",
       "                                                                      Tea Ingredients  \\\n",
       "Tea Name                                                                                \n",
       "Premium Silky Green Tea                                                 Not available   \n",
       "Premium Silky Green Tea                                                 Not available   \n",
       "Premium Silky Green Tea                                                 Not available   \n",
       "Premium Silky Green Tea                                                 Not available   \n",
       "Premium Silky Green Tea                                                 Not available   \n",
       "Premium Silky Green Tea                                                 Not available   \n",
       "Premium Silky Green Tea                                                 Not available   \n",
       "Premium Silky Green Tea                                                 Not available   \n",
       "Premium Silky Green Tea                                                 Not available   \n",
       "Premium Silky Green Tea                                                 Not available   \n",
       "Premium Silky Green Tea                                                 Not available   \n",
       "Premium Silky Green Tea                                                 Not available   \n",
       "Premium Silky Green Tea                                                 Not available   \n",
       "Premium Silky Green Tea                                                 Not available   \n",
       "Premium Silky Green Tea                                                 Not available   \n",
       "Premium Silky Green Tea                                                 Not available   \n",
       "Premium Silky Green Tea                                                 Not available   \n",
       "Premium Silky Green Tea                                                 Not available   \n",
       "Premium Silky Green Tea                                                 Not available   \n",
       "Premium Silky Green Tea                                                 Not available   \n",
       "Premium Silky Green Tea                                                 Not available   \n",
       "Premium Silky Green Tea                                                 Not available   \n",
       "Premium Silky Green Tea                                                 Not available   \n",
       "Premium Silky Green Tea                                                 Not available   \n",
       "Premium Silky Green Tea                                                 Not available   \n",
       "Premium Silky Green Tea                                                 Not available   \n",
       "Madame Butterfly Jasmine                            Green Tea Leaves, Jasmine Flowers   \n",
       "Madame Butterfly Jasmine                            Green Tea Leaves, Jasmine Flowers   \n",
       "Madame Butterfly Jasmine                            Green Tea Leaves, Jasmine Flowers   \n",
       "Madame Butterfly Jasmine                            Green Tea Leaves, Jasmine Flowers   \n",
       "...                                                                               ...   \n",
       "Anhui Yellow Flower                                                     Not available   \n",
       "Zhu Ye Qing                                                             Not available   \n",
       "Zhu Ye Qing                                                             Not available   \n",
       "Huoshan Huang Ya                                                        Not available   \n",
       "Organic Lapsang Souchong                                                Not available   \n",
       "Meng Ding Huang Ya                                                      Not available   \n",
       "Meng Ding Huang Ya                                                      Not available   \n",
       "Huo Shan Huang Ya                                                       Not available   \n",
       "Tea Latte                                                               Not available   \n",
       "Tea Latte                                                               Not available   \n",
       "Tea Latte                                                               Not available   \n",
       "Yellow Mountain Wild Tea (Huang Shan Mao Feng)                          Not available   \n",
       "Huang Da Cha                                                            Not available   \n",
       "Huang Da Cha                                                            Not available   \n",
       "Thè Jaune des Cinq Dynasties                                            Not available   \n",
       "Organic Yellow Tea Coins                                                Not available   \n",
       "Yellow Peach                                                            Not available   \n",
       "Yellow Peach                                                            Not available   \n",
       "Yellow Peach                                                            Not available   \n",
       "Yellow Peach                                                            Not available   \n",
       "Yellow Peach                                                            Not available   \n",
       "Fragrant Bud Yellow Tea                                                 Not available   \n",
       "Fragrant Bud Yellow Tea                                                 Not available   \n",
       "Peach Yellow Tea                                                        Not available   \n",
       "Peach Yellow Tea                                                        Not available   \n",
       "Huo Shan Yellow Tea                                                     Not available   \n",
       "Silver Needles of Gentleman Mountain 'Junshan Y...                      Not available   \n",
       "Jungpana Yellow - Darjeeling Tea - First Flush,...                      Not available   \n",
       "Junshan Yellow 2015                                                 Yellow Tea Leaves   \n",
       "Yellow Sprouting 'Huoshan Huang Ya'                                     Not available   \n",
       "\n",
       "                                                                                          Tea Reviews  \n",
       "Tea Name                                                                                               \n",
       "Premium Silky Green Tea                             Me: Do you want to do yoga? Hubby: Do yoga or ...  \n",
       "Premium Silky Green Tea                             Guys, I’m totally stressed. There’s too much g...  \n",
       "Premium Silky Green Tea                             Oh.My.Gawd. This has an AWESOME aroma! It’s li...  \n",
       "Premium Silky Green Tea                             … if this isn’t an oolong, and a milk oolong a...  \n",
       "Premium Silky Green Tea                             After reading ashmanra’s tasting notes on this...  \n",
       "Premium Silky Green Tea                             Thanks to <strong>Mercuryhime</strong> for thi...  \n",
       "Premium Silky Green Tea                             Tea of the morning……Usually, I don’t drink gre...  \n",
       "Premium Silky Green Tea                             I, like others, noticed that the leaves look a...  \n",
       "Premium Silky Green Tea                             I GOT QUILTGUPPYS PACKAGE IN THE MAIL!!!!  So ...  \n",
       "Premium Silky Green Tea                             Oh this is good. Beautifully good. I must agre...  \n",
       "Premium Silky Green Tea                             I have no idea why Bird Pick is trying to fron...  \n",
       "Premium Silky Green Tea                             This tea kind of blows my mind. I only had it ...  \n",
       "Premium Silky Green Tea                             Silky Green is my absolute favorite tea from B...  \n",
       "Premium Silky Green Tea                             I was captivated by the buttery sent of the le...  \n",
       "Premium Silky Green Tea                             Super unique taste — truly “silky”, unlike mos...  \n",
       "Premium Silky Green Tea                                               OMG! This has an AWESOME aroma!  \n",
       "Premium Silky Green Tea                             Very smooth, buttery, and nutty. Bit of vanill...  \n",
       "Premium Silky Green Tea                             I don’t know how I would describe this tea. It...  \n",
       "Premium Silky Green Tea                             a little dry but totally relaxing!\\n\\n<p class...  \n",
       "Premium Silky Green Tea                             I started drinking green tea because of the he...  \n",
       "Premium Silky Green Tea                             YUM! This is very good! Thank you <strong>Ost<...  \n",
       "Premium Silky Green Tea                             from the <strong>(Mostly) Unflavored TTB</stro...  \n",
       "Premium Silky Green Tea                             <strong>MzPriss’ Unflavored Tea Box – Tea #9</...  \n",
       "Premium Silky Green Tea                             For some reason, I can’t get it out of my head...  \n",
       "Premium Silky Green Tea                             This is the perfect green tea. It has a light ...  \n",
       "Premium Silky Green Tea                             On the first brew, such a creamy flavor withou...  \n",
       "Madame Butterfly Jasmine                            Thanks Liberteas!Now THIS is the Jasmine for m...  \n",
       "Madame Butterfly Jasmine                            Not rating it yet, because I’m not sure.I was ...  \n",
       "Madame Butterfly Jasmine                            I LOVE this jasmine tea. It has a nice balance...  \n",
       "Madame Butterfly Jasmine                            Wow! What an amazing Jasmine tea. Thanks Liqui...  \n",
       "...                                                                                               ...  \n",
       "Anhui Yellow Flower                                 The dry leaf smells like a spice shop. I smell...  \n",
       "Zhu Ye Qing                                         Thank you for this rarity, <strong>MissB</stro...  \n",
       "Zhu Ye Qing                                         Eh…. I brewed this gong fu off of the recommen...  \n",
       "Huoshan Huang Ya                                    This has got to be the lightest tea I’ve ever ...  \n",
       "Organic Lapsang Souchong                            This is probably a great tea—-but for a smoke ...  \n",
       "Meng Ding Huang Ya                                  <strong>Doulton</strong> – I love you. Thank y...  \n",
       "Meng Ding Huang Ya                                  When I opened the lid to the brewed tea, it sm...  \n",
       "Huo Shan Huang Ya                                   My first yellow tea. Definitely one of the mil...  \n",
       "Tea Latte                                           I had a pumpkin spice chai tea latte, and it w...  \n",
       "Tea Latte                                           Being lazy; don’t feel like making a new recor...  \n",
       "Tea Latte                                           Backlogging from the trip to ChicagoMade with ...  \n",
       "Yellow Mountain Wild Tea (Huang Shan Mao Feng)      Not a fan. Had a sort of plastic taste. Not ev...  \n",
       "Huang Da Cha                                        I really liked it, I found it a nice change fr...  \n",
       "Huang Da Cha                                        This one remembers me an herbal tea (Lemon bal...  \n",
       "Thè Jaune des Cinq Dynasties                                            Well, better boil your money…  \n",
       "Organic Yellow Tea Coins                            I found this tea really disappointing. Since I...  \n",
       "Yellow Peach                                        Delectable. I loved it, all three steepings th...  \n",
       "Yellow Peach                                        Pouring this in to my cup I got a lovely poof ...  \n",
       "Yellow Peach                                        First yellow tea review!And I’m a bit confused...  \n",
       "Yellow Peach                                        I recently received this from Ashley…thanks As...  \n",
       "Yellow Peach                                        This was the first yellow tea I ever tried-and...  \n",
       "Fragrant Bud Yellow Tea                             <strong>GCTTB</strong> I don’t know much about...  \n",
       "Fragrant Bud Yellow Tea                             This is the first yellow tea I have ever drank...  \n",
       "Peach Yellow Tea                                    GCCTB4This tea is not for me. The peach came a...  \n",
       "Peach Yellow Tea                                    this was another from <strong>dexter</strong> ...  \n",
       "Huo Shan Yellow Tea                                 I’m so happy!! A few minutes ago the postman d...  \n",
       "Silver Needles of Gentleman Mountain 'Junshan Y...  Today I am taking a look at the two Yellow tea...  \n",
       "Jungpana Yellow - Darjeeling Tea - First Flush,...  I had this tea today with Greg…its quite enjoy...  \n",
       "Junshan Yellow 2015                                 After my best friend and I went to the spa tod...  \n",
       "Yellow Sprouting 'Huoshan Huang Ya'                 Next up I take a look at Yellow Sprouting ‘Huo...  \n",
       "\n",
       "[6931 rows x 4 columns]"
      ]
     },
     "execution_count": 79,
     "metadata": {},
     "output_type": "execute_result"
    }
   ],
   "source": [
    "teateadf.set_index('Tea Name')"
   ]
  },
  {
   "cell_type": "code",
   "execution_count": 109,
   "metadata": {
    "ExecuteTime": {
     "end_time": "2018-05-21T23:46:49.648399Z",
     "start_time": "2018-05-21T23:46:49.643748Z"
    },
    "hidden": true
   },
   "outputs": [],
   "source": [
    "playset = teadf[['Polarity','Tea Name']]\n",
    "playset = shuffle(playset)"
   ]
  },
  {
   "cell_type": "code",
   "execution_count": 110,
   "metadata": {
    "ExecuteTime": {
     "end_time": "2018-05-21T23:46:50.594223Z",
     "start_time": "2018-05-21T23:46:50.506911Z"
    },
    "hidden": true
   },
   "outputs": [],
   "source": [
    "le = preprocessing.LabelEncoder()\n",
    "playset['Tea Name'] = le.fit_transform(playset['Tea Name'])\n",
    "enc = preprocessing.OneHotEncoder()\n",
    "playset = enc.fit_transform(playset)"
   ]
  },
  {
   "cell_type": "code",
   "execution_count": 111,
   "metadata": {
    "ExecuteTime": {
     "end_time": "2018-05-21T23:46:51.718393Z",
     "start_time": "2018-05-21T23:46:51.418721Z"
    },
    "hidden": true,
    "scrolled": true
   },
   "outputs": [
    {
     "data": {
      "text/plain": [
       "KMeans(algorithm='auto', copy_x=True, init='k-means++', max_iter=300,\n",
       "    n_clusters=7, n_init=10, n_jobs=1, precompute_distances='auto',\n",
       "    random_state=None, tol=0.0001, verbose=0)"
      ]
     },
     "execution_count": 111,
     "metadata": {},
     "output_type": "execute_result"
    }
   ],
   "source": [
    "km = KMeans(n_clusters = 7)\n",
    "km.fit(playset)"
   ]
  },
  {
   "cell_type": "code",
   "execution_count": 112,
   "metadata": {
    "ExecuteTime": {
     "end_time": "2018-05-21T23:46:54.173738Z",
     "start_time": "2018-05-21T23:46:54.171383Z"
    },
    "hidden": true
   },
   "outputs": [],
   "source": [
    "mu_digits = km.cluster_centers_"
   ]
  },
  {
   "cell_type": "code",
   "execution_count": 113,
   "metadata": {
    "ExecuteTime": {
     "end_time": "2018-05-21T23:46:54.938081Z",
     "start_time": "2018-05-21T23:46:54.933596Z"
    },
    "hidden": true
   },
   "outputs": [
    {
     "data": {
      "text/plain": [
       "array([[1.00000000e+00, 0.00000000e+00, 1.46627566e-03, ...,\n",
       "        1.46627566e-04, 1.46627566e-04, 1.46627566e-04],\n",
       "       [1.00000000e+00, 0.00000000e+00, 0.00000000e+00, ...,\n",
       "        0.00000000e+00, 0.00000000e+00, 0.00000000e+00],\n",
       "       [1.00000000e+00, 0.00000000e+00, 0.00000000e+00, ...,\n",
       "        0.00000000e+00, 0.00000000e+00, 0.00000000e+00],\n",
       "       ...,\n",
       "       [1.00000000e+00, 0.00000000e+00, 0.00000000e+00, ...,\n",
       "        0.00000000e+00, 0.00000000e+00, 0.00000000e+00],\n",
       "       [0.00000000e+00, 1.00000000e+00, 0.00000000e+00, ...,\n",
       "        0.00000000e+00, 0.00000000e+00, 0.00000000e+00],\n",
       "       [1.00000000e+00, 0.00000000e+00, 0.00000000e+00, ...,\n",
       "        0.00000000e+00, 0.00000000e+00, 0.00000000e+00]])"
      ]
     },
     "execution_count": 113,
     "metadata": {},
     "output_type": "execute_result"
    }
   ],
   "source": [
    "mu_digits"
   ]
  },
  {
   "cell_type": "code",
   "execution_count": 114,
   "metadata": {
    "ExecuteTime": {
     "end_time": "2018-05-21T23:46:55.685071Z",
     "start_time": "2018-05-21T23:46:55.681966Z"
    },
    "hidden": true
   },
   "outputs": [],
   "source": [
    "from sklearn import metrics\n",
    "from sklearn.metrics import pairwise_distances\n",
    "from sklearn.metrics import silhouette_score"
   ]
  },
  {
   "cell_type": "code",
   "execution_count": 115,
   "metadata": {
    "ExecuteTime": {
     "end_time": "2018-05-21T23:47:46.625190Z",
     "start_time": "2018-05-21T23:46:56.426416Z"
    },
    "hidden": true
   },
   "outputs": [
    {
     "data": {
      "text/plain": [
       "KMeans(algorithm='auto', copy_x=True, init='k-means++', max_iter=300,\n",
       "    n_clusters=2, n_init=10, n_jobs=1, precompute_distances='auto',\n",
       "    random_state=1, tol=0.0001, verbose=0)"
      ]
     },
     "execution_count": 115,
     "metadata": {},
     "output_type": "execute_result"
    },
    {
     "data": {
      "text/plain": [
       "KMeans(algorithm='auto', copy_x=True, init='k-means++', max_iter=300,\n",
       "    n_clusters=3, n_init=10, n_jobs=1, precompute_distances='auto',\n",
       "    random_state=1, tol=0.0001, verbose=0)"
      ]
     },
     "execution_count": 115,
     "metadata": {},
     "output_type": "execute_result"
    },
    {
     "data": {
      "text/plain": [
       "KMeans(algorithm='auto', copy_x=True, init='k-means++', max_iter=300,\n",
       "    n_clusters=4, n_init=10, n_jobs=1, precompute_distances='auto',\n",
       "    random_state=1, tol=0.0001, verbose=0)"
      ]
     },
     "execution_count": 115,
     "metadata": {},
     "output_type": "execute_result"
    },
    {
     "data": {
      "text/plain": [
       "KMeans(algorithm='auto', copy_x=True, init='k-means++', max_iter=300,\n",
       "    n_clusters=5, n_init=10, n_jobs=1, precompute_distances='auto',\n",
       "    random_state=1, tol=0.0001, verbose=0)"
      ]
     },
     "execution_count": 115,
     "metadata": {},
     "output_type": "execute_result"
    },
    {
     "data": {
      "text/plain": [
       "KMeans(algorithm='auto', copy_x=True, init='k-means++', max_iter=300,\n",
       "    n_clusters=6, n_init=10, n_jobs=1, precompute_distances='auto',\n",
       "    random_state=1, tol=0.0001, verbose=0)"
      ]
     },
     "execution_count": 115,
     "metadata": {},
     "output_type": "execute_result"
    },
    {
     "data": {
      "text/plain": [
       "KMeans(algorithm='auto', copy_x=True, init='k-means++', max_iter=300,\n",
       "    n_clusters=7, n_init=10, n_jobs=1, precompute_distances='auto',\n",
       "    random_state=1, tol=0.0001, verbose=0)"
      ]
     },
     "execution_count": 115,
     "metadata": {},
     "output_type": "execute_result"
    },
    {
     "data": {
      "text/plain": [
       "KMeans(algorithm='auto', copy_x=True, init='k-means++', max_iter=300,\n",
       "    n_clusters=8, n_init=10, n_jobs=1, precompute_distances='auto',\n",
       "    random_state=1, tol=0.0001, verbose=0)"
      ]
     },
     "execution_count": 115,
     "metadata": {},
     "output_type": "execute_result"
    },
    {
     "data": {
      "text/plain": [
       "KMeans(algorithm='auto', copy_x=True, init='k-means++', max_iter=300,\n",
       "    n_clusters=9, n_init=10, n_jobs=1, precompute_distances='auto',\n",
       "    random_state=1, tol=0.0001, verbose=0)"
      ]
     },
     "execution_count": 115,
     "metadata": {},
     "output_type": "execute_result"
    },
    {
     "data": {
      "text/plain": [
       "KMeans(algorithm='auto', copy_x=True, init='k-means++', max_iter=300,\n",
       "    n_clusters=10, n_init=10, n_jobs=1, precompute_distances='auto',\n",
       "    random_state=1, tol=0.0001, verbose=0)"
      ]
     },
     "execution_count": 115,
     "metadata": {},
     "output_type": "execute_result"
    },
    {
     "data": {
      "text/plain": [
       "KMeans(algorithm='auto', copy_x=True, init='k-means++', max_iter=300,\n",
       "    n_clusters=11, n_init=10, n_jobs=1, precompute_distances='auto',\n",
       "    random_state=1, tol=0.0001, verbose=0)"
      ]
     },
     "execution_count": 115,
     "metadata": {},
     "output_type": "execute_result"
    },
    {
     "data": {
      "text/plain": [
       "KMeans(algorithm='auto', copy_x=True, init='k-means++', max_iter=300,\n",
       "    n_clusters=12, n_init=10, n_jobs=1, precompute_distances='auto',\n",
       "    random_state=1, tol=0.0001, verbose=0)"
      ]
     },
     "execution_count": 115,
     "metadata": {},
     "output_type": "execute_result"
    },
    {
     "data": {
      "text/plain": [
       "KMeans(algorithm='auto', copy_x=True, init='k-means++', max_iter=300,\n",
       "    n_clusters=13, n_init=10, n_jobs=1, precompute_distances='auto',\n",
       "    random_state=1, tol=0.0001, verbose=0)"
      ]
     },
     "execution_count": 115,
     "metadata": {},
     "output_type": "execute_result"
    },
    {
     "data": {
      "text/plain": [
       "KMeans(algorithm='auto', copy_x=True, init='k-means++', max_iter=300,\n",
       "    n_clusters=14, n_init=10, n_jobs=1, precompute_distances='auto',\n",
       "    random_state=1, tol=0.0001, verbose=0)"
      ]
     },
     "execution_count": 115,
     "metadata": {},
     "output_type": "execute_result"
    },
    {
     "data": {
      "text/plain": [
       "KMeans(algorithm='auto', copy_x=True, init='k-means++', max_iter=300,\n",
       "    n_clusters=15, n_init=10, n_jobs=1, precompute_distances='auto',\n",
       "    random_state=1, tol=0.0001, verbose=0)"
      ]
     },
     "execution_count": 115,
     "metadata": {},
     "output_type": "execute_result"
    },
    {
     "data": {
      "text/plain": [
       "KMeans(algorithm='auto', copy_x=True, init='k-means++', max_iter=300,\n",
       "    n_clusters=16, n_init=10, n_jobs=1, precompute_distances='auto',\n",
       "    random_state=1, tol=0.0001, verbose=0)"
      ]
     },
     "execution_count": 115,
     "metadata": {},
     "output_type": "execute_result"
    },
    {
     "data": {
      "text/plain": [
       "KMeans(algorithm='auto', copy_x=True, init='k-means++', max_iter=300,\n",
       "    n_clusters=17, n_init=10, n_jobs=1, precompute_distances='auto',\n",
       "    random_state=1, tol=0.0001, verbose=0)"
      ]
     },
     "execution_count": 115,
     "metadata": {},
     "output_type": "execute_result"
    },
    {
     "data": {
      "text/plain": [
       "KMeans(algorithm='auto', copy_x=True, init='k-means++', max_iter=300,\n",
       "    n_clusters=18, n_init=10, n_jobs=1, precompute_distances='auto',\n",
       "    random_state=1, tol=0.0001, verbose=0)"
      ]
     },
     "execution_count": 115,
     "metadata": {},
     "output_type": "execute_result"
    },
    {
     "data": {
      "text/plain": [
       "KMeans(algorithm='auto', copy_x=True, init='k-means++', max_iter=300,\n",
       "    n_clusters=19, n_init=10, n_jobs=1, precompute_distances='auto',\n",
       "    random_state=1, tol=0.0001, verbose=0)"
      ]
     },
     "execution_count": 115,
     "metadata": {},
     "output_type": "execute_result"
    }
   ],
   "source": [
    "Sil_coefs = []\n",
    "for k in range(2,20):\n",
    "    km = KMeans(n_clusters=k, random_state=1)\n",
    "    km.fit(playset)\n",
    "    labels = km.labels_\n",
    "    Sil_coefs.append(metrics.silhouette_score(playset, labels, metric='euclidean'))"
   ]
  },
  {
   "cell_type": "code",
   "execution_count": 116,
   "metadata": {
    "ExecuteTime": {
     "end_time": "2018-05-21T23:47:47.967840Z",
     "start_time": "2018-05-21T23:47:46.627059Z"
    },
    "hidden": true
   },
   "outputs": [
    {
     "data": {
      "text/plain": [
       "[<matplotlib.lines.Line2D at 0x1a15668c50>]"
      ]
     },
     "execution_count": 116,
     "metadata": {},
     "output_type": "execute_result"
    },
    {
     "data": {
      "text/plain": [
       "Text(0.5,0,'number of clusters')"
      ]
     },
     "execution_count": 116,
     "metadata": {},
     "output_type": "execute_result"
    },
    {
     "data": {
      "text/plain": [
       "Text(0,0.5,'silhouette coefficient')"
      ]
     },
     "execution_count": 116,
     "metadata": {},
     "output_type": "execute_result"
    },
    {
     "data": {
      "text/plain": [
       "([<matplotlib.axis.XTick at 0x1a10f01ac8>,\n",
       "  <matplotlib.axis.XTick at 0x1a156794e0>,\n",
       "  <matplotlib.axis.XTick at 0x1a15681a58>,\n",
       "  <matplotlib.axis.XTick at 0x1a15664518>,\n",
       "  <matplotlib.axis.XTick at 0x1a15664278>,\n",
       "  <matplotlib.axis.XTick at 0x1a15664860>,\n",
       "  <matplotlib.axis.XTick at 0x1a1565eb00>,\n",
       "  <matplotlib.axis.XTick at 0x1a1565e6d8>,\n",
       "  <matplotlib.axis.XTick at 0x1a1565cd68>],\n",
       " <a list of 9 Text xticklabel objects>)"
      ]
     },
     "execution_count": 116,
     "metadata": {},
     "output_type": "execute_result"
    },
    {
     "data": {
      "image/png": "[encoded data removed]",
      "text/plain": [
       "<matplotlib.figure.Figure at 0x1a1575ca58>"
      ]
     },
     "metadata": {},
     "output_type": "display_data"
    }
   ],
   "source": [
    "fig, ax1 = plt.subplots(1,1, figsize=(15,5), sharex=True)\n",
    "k_clusters = range(2,20)\n",
    "ax1.plot(k_clusters, Sil_coefs)\n",
    "ax1.set_xlabel('number of clusters')\n",
    "ax1.set_ylabel('silhouette coefficient')\n",
    "plt.xticks(np.arange(2, 20, step=2))\n"
   ]
  },
  {
   "cell_type": "code",
   "execution_count": null,
   "metadata": {
    "hidden": true
   },
   "outputs": [],
   "source": []
  }
 ],
 "metadata": {
  "kernelspec": {
   "display_name": "Python 3",
   "language": "python",
   "name": "python3"
  },
  "language_info": {
   "codemirror_mode": {
    "name": "ipython",
    "version": 3
   },
   "file_extension": ".py",
   "mimetype": "text/x-python",
   "name": "python",
   "nbconvert_exporter": "python",
   "pygments_lexer": "ipython3",
   "version": "3.6.4"
  }
 },
 "nbformat": 4,
 "nbformat_minor": 2
}
