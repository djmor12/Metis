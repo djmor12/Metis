{
 "cells": [
  {
   "cell_type": "code",
   "execution_count": 3,
   "metadata": {
    "ExecuteTime": {
     "end_time": "2018-05-22T16:31:01.269390Z",
     "start_time": "2018-05-22T16:31:01.235293Z"
    }
   },
   "outputs": [],
   "source": [
    "import nltk\n",
    "from textblob import TextBlob"
   ]
  },
  {
   "cell_type": "code",
   "execution_count": 4,
   "metadata": {
    "ExecuteTime": {
     "end_time": "2018-05-22T16:31:02.339549Z",
     "start_time": "2018-05-22T16:31:02.336738Z"
    }
   },
   "outputs": [],
   "source": [
    "text = [\"wookie stormtrooper\",\n",
    "        \"wookie wookie wookie stormtrooper stormtrooper stormtrooper\",\n",
    "        \"harry potter\"]"
   ]
  },
  {
   "cell_type": "code",
   "execution_count": 5,
   "metadata": {
    "ExecuteTime": {
     "end_time": "2018-05-22T16:31:59.995397Z",
     "start_time": "2018-05-22T16:31:59.992724Z"
    }
   },
   "outputs": [],
   "source": [
    "bag = ' '.join(text)"
   ]
  },
  {
   "cell_type": "code",
   "execution_count": 7,
   "metadata": {
    "ExecuteTime": {
     "end_time": "2018-05-22T16:32:24.617417Z",
     "start_time": "2018-05-22T16:32:24.614798Z"
    }
   },
   "outputs": [],
   "source": [
    "bloby = TextBlob(bag)"
   ]
  },
  {
   "cell_type": "code",
   "execution_count": 8,
   "metadata": {
    "ExecuteTime": {
     "end_time": "2018-05-22T16:32:34.224901Z",
     "start_time": "2018-05-22T16:32:34.213515Z"
    }
   },
   "outputs": [
    {
     "data": {
      "text/plain": [
       "defaultdict(int, {'harry': 1, 'potter': 1, 'stormtrooper': 4, 'wookie': 4})"
      ]
     },
     "execution_count": 8,
     "metadata": {},
     "output_type": "execute_result"
    }
   ],
   "source": [
    "bloby.word_counts"
   ]
  },
  {
   "cell_type": "code",
   "execution_count": 17,
   "metadata": {
    "ExecuteTime": {
     "end_time": "2018-05-22T16:39:07.648890Z",
     "start_time": "2018-05-22T16:39:07.646136Z"
    }
   },
   "outputs": [],
   "source": [
    "from sklearn.feature_extraction.text import TfidfVectorizer\n",
    "from sklearn.metrics.pairwise import cosine_similarity, euclidean_distances"
   ]
  },
  {
   "cell_type": "code",
   "execution_count": 18,
   "metadata": {
    "ExecuteTime": {
     "end_time": "2018-05-22T16:39:28.859737Z",
     "start_time": "2018-05-22T16:39:28.851798Z"
    }
   },
   "outputs": [],
   "source": [
    "# Vectorise the data\n",
    "vec = TfidfVectorizer()\n",
    "X = vec.fit_transform(text) # `X` will now be a TF-IDF representation of the data, the first row of `X` corresponds to the first sentence in `data`\n",
    "\n",
    "# Calculate the pairwise cosine similarities (depending on the amount of data that you are going to have this could take a while)\n",
    "S = cosine_similarity(X)\n",
    "E = euclidean_distances(X)"
   ]
  },
  {
   "cell_type": "code",
   "execution_count": 13,
   "metadata": {
    "ExecuteTime": {
     "end_time": "2018-05-22T16:36:52.151326Z",
     "start_time": "2018-05-22T16:36:52.147660Z"
    }
   },
   "outputs": [
    {
     "data": {
      "text/plain": [
       "array([[1., 1., 0.],\n",
       "       [1., 1., 0.],\n",
       "       [0., 0., 1.]])"
      ]
     },
     "execution_count": 13,
     "metadata": {},
     "output_type": "execute_result"
    }
   ],
   "source": [
    "S"
   ]
  },
  {
   "cell_type": "code",
   "execution_count": 19,
   "metadata": {
    "ExecuteTime": {
     "end_time": "2018-05-22T16:39:31.767299Z",
     "start_time": "2018-05-22T16:39:31.763447Z"
    }
   },
   "outputs": [
    {
     "data": {
      "text/plain": [
       "array([[0.        , 0.        , 1.41421356],\n",
       "       [0.        , 0.        , 1.41421356],\n",
       "       [1.41421356, 1.41421356, 0.        ]])"
      ]
     },
     "execution_count": 19,
     "metadata": {},
     "output_type": "execute_result"
    }
   ],
   "source": [
    "E"
   ]
  },
  {
   "cell_type": "code",
   "execution_count": 20,
   "metadata": {
    "ExecuteTime": {
     "end_time": "2018-05-22T16:40:12.857454Z",
     "start_time": "2018-05-22T16:40:12.854001Z"
    }
   },
   "outputs": [
    {
     "data": {
      "text/plain": [
       "<3x4 sparse matrix of type '<class 'numpy.float64'>'\n",
       "\twith 6 stored elements in Compressed Sparse Row format>"
      ]
     },
     "execution_count": 20,
     "metadata": {},
     "output_type": "execute_result"
    }
   ],
   "source": [
    "X"
   ]
  },
  {
   "cell_type": "code",
   "execution_count": null,
   "metadata": {},
   "outputs": [],
   "source": []
  }
 ],
 "metadata": {
  "kernelspec": {
   "display_name": "Python 3",
   "language": "python",
   "name": "python3"
  },
  "language_info": {
   "codemirror_mode": {
    "name": "ipython",
    "version": 3
   },
   "file_extension": ".py",
   "mimetype": "text/x-python",
   "name": "python",
   "nbconvert_exporter": "python",
   "pygments_lexer": "ipython3",
   "version": "3.6.4"
  }
 },
 "nbformat": 4,
 "nbformat_minor": 2
}
