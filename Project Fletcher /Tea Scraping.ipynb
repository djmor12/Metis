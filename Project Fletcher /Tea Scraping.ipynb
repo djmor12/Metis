{
 "cells": [
  {
   "cell_type": "code",
   "execution_count": 1,
   "metadata": {
    "ExecuteTime": {
     "end_time": "2018-05-23T15:40:38.289659Z",
     "start_time": "2018-05-23T15:40:37.527070Z"
    }
   },
   "outputs": [],
   "source": [
    "import requests as rq\n",
    "import pandas as pd\n",
    "import numpy as np\n",
    "from bs4 import BeautifulSoup as soup\n",
    "import re\n",
    "import time\n",
    "import csv\n",
    "import pickle\n",
    "from pprint import pprint"
   ]
  },
  {
   "cell_type": "code",
   "execution_count": 208,
   "metadata": {
    "ExecuteTime": {
     "end_time": "2018-05-25T17:14:39.216636Z",
     "start_time": "2018-05-25T17:14:39.209358Z"
    },
    "code_folding": []
   },
   "outputs": [],
   "source": [
    "#Proxies need to be changed each run until data is collected!\n",
    "proxies = {\n",
    "    \"http\": 'http://152.157.119.253:3128', \n",
    "    \"https\": 'http://152.157.119.253:3128'\n",
    "}\n",
    "prox2 = {\n",
    "    \"http\": 'http://54.209.135.103:3128', \n",
    "    \"https\": 'http://54.209.135.103:3128'\n",
    "}\n",
    "prox3 = {\n",
    "    \"http\": 'http://18.191.95.240:8080', \n",
    "    \"https\": 'http://18.191.95.240:8080'\n",
    "}\n",
    "prox4 = {\n",
    "    \"http\": 'http://159.65.47.178:8888', \n",
    "    \"https\": 'http://159.65.47.178:8888'\n",
    "}\n",
    "superbase = 'https://steepster.com/'\n",
    "start_url = 'https://steepster.com/teas?green=on'\n",
    "search_base = 'https://steepster.com/teas?green=on&page=' #Add page number to end\n",
    "ttype_list = ['Green Tea','Black Tea','Pu-Erh Tea','Oolong Tea','White Tea','Matcha Tea','Yellow Tea']"
   ]
  },
  {
   "cell_type": "markdown",
   "metadata": {
    "ExecuteTime": {
     "end_time": "2018-05-20T14:32:08.574399Z",
     "start_time": "2018-05-20T14:32:08.565650Z"
    }
   },
   "source": [
    "# Scraping Top Teas\n",
    "\n",
    "Using BeautifulSoup to scrape te top teas.  Pulling the items from the page, and cleaning them. Results are stored in nested dictionarys."
   ]
  },
  {
   "cell_type": "markdown",
   "metadata": {
    "ExecuteTime": {
     "end_time": "2018-05-24T20:19:35.405010Z",
     "start_time": "2018-05-24T20:19:35.395925Z"
    }
   },
   "source": [
    "## Scraping Section\n",
    "\n",
    "Scraping the first 3 pages of the following tea types: Green, Matcha, Black, White, Yellow, Pu-erh, and Oolong."
   ]
  },
  {
   "cell_type": "code",
   "execution_count": 249,
   "metadata": {
    "ExecuteTime": {
     "end_time": "2018-05-21T04:14:29.152224Z",
     "start_time": "2018-05-21T04:14:29.135274Z"
    }
   },
   "outputs": [],
   "source": [
    "def getTeas(color):\n",
    "    review_url = []\n",
    "    descpage = []\n",
    "    proxy=None\n",
    "    base = 'https://steepster.com/teas?'\n",
    "    base = base+color\n",
    "    for j in range(6):\n",
    "        response = rq.get(base+str(j+1),proxy)\n",
    "        page = response.text\n",
    "        mainpage = soup(page,\"lxml\")\n",
    "        #Getting all cases where we have a /tea url\n",
    "        list_1 = mainpage.find_all(class_='entry-count')\n",
    "        time.sleep(.5)\n",
    "        for i in list_1:\n",
    "            ret = re.findall(\"/teas/[a-zA-Z\\-/0-9]+\",str(i))\n",
    "            descpage.append(superbase+ret[0])\n",
    "            time.sleep(.5)\n",
    "        if j ==3:\n",
    "            proxy=proxies\n",
    "    return descpage"
   ]
  },
  {
   "cell_type": "code",
   "execution_count": 163,
   "metadata": {
    "ExecuteTime": {
     "end_time": "2018-05-20T23:11:01.949502Z",
     "start_time": "2018-05-20T23:11:01.946355Z"
    }
   },
   "outputs": [
    {
     "data": {
      "text/plain": [
       "168"
      ]
     },
     "execution_count": 163,
     "metadata": {},
     "output_type": "execute_result"
    }
   ],
   "source": [
    "len(descpage)"
   ]
  },
  {
   "cell_type": "code",
   "execution_count": 74,
   "metadata": {
    "ExecuteTime": {
     "end_time": "2018-05-20T16:09:13.148080Z",
     "start_time": "2018-05-20T16:09:12.909360Z"
    }
   },
   "outputs": [],
   "source": [
    "response = rq.get('https://steepster.com/teas/bird-pick-tea-and-herb/5862-premium-silky-green-tea')"
   ]
  },
  {
   "cell_type": "code",
   "execution_count": 75,
   "metadata": {
    "ExecuteTime": {
     "end_time": "2018-05-20T16:09:30.248788Z",
     "start_time": "2018-05-20T16:09:30.181299Z"
    }
   },
   "outputs": [],
   "source": [
    "page = response.text\n",
    "reviewp = soup(page,\"lxml\")"
   ]
  },
  {
   "cell_type": "code",
   "execution_count": 267,
   "metadata": {
    "ExecuteTime": {
     "end_time": "2018-05-25T19:43:21.356399Z",
     "start_time": "2018-05-25T19:43:21.310403Z"
    }
   },
   "outputs": [],
   "source": [
    "def getReviews(reviewpage, currenttea, proxy):\n",
    "    reviewstr=[]\n",
    "    review_list=[]\n",
    "    if str(reviewpage.find_all('div', class_='text')):\n",
    "        kj = reviewpage.find_all('a')[-14:-12]\n",
    "        reviewstr = str(reviewpage.find_all('div', class_='text')).replace('</p>\\n</span>\\n</div>, <div class=\"text\">\\n','')\\\n",
    "                .replace('\\n<p>','').replace('<br/>\\n',' ').replace('<span class=\"caps\">','')\\\n",
    "                .replace('</span>','').replace('</p>','').replace(']','').replace('\\n\\n</div>','').split('<span itemprop=\"description\">')\n",
    "        review_list += reviewstr[1:]      \n",
    "        if kj[0].get('href') == '?page=2#tasting-notes':\n",
    "            next_1 = kj[0].get('href')\n",
    "            response = rq.get(currenttea+next_1, proxy)\n",
    "            page = response.text\n",
    "            reviewp2 = soup(page,\"lxml\")\n",
    "            reviewstr = str(reviewp2.find_all('div', class_='text')).replace('</p>\\n</span>\\n</div>, <div class=\"text\">\\n','')\\\n",
    "                .replace('\\n<p>','').replace('<br/>\\n',' ').replace('<span class=\"caps\">','')\\\n",
    "                .replace('</span>','').replace('</p>','').replace(']','').replace('\\n\\n</div>','').split('<span itemprop=\"description\">')\n",
    "            review_list += reviewstr[1:] \n",
    "        time.sleep(.05)\n",
    "        if kj[1].get('href') == '?page=3#tasting-notes':\n",
    "            next_ = kj[1].get('href')\n",
    "            response = rq.get(currenttea+next_, proxy)\n",
    "            page = response.text\n",
    "            reviewp3 = soup(page,\"lxml\")\n",
    "            reviewstr = str(reviewp3.find_all('div', class_='text')).replace('</p>\\n</span>\\n</div>, <div class=\"text\">\\n','')\\\n",
    "                .replace('\\n<p>','').replace('<br/>\\n',' ').replace('<span class=\"caps\">','')\\\n",
    "                .replace('</span>','').replace('</p>','').replace(']','').replace('\\n\\n</div>','').split('<span itemprop=\"description\">')\n",
    "            review_list += reviewstr[1:]  \n",
    "        time.sleep(.05)\n",
    "    return review_list\n"
   ]
  },
  {
   "cell_type": "code",
   "execution_count": 239,
   "metadata": {
    "ExecuteTime": {
     "end_time": "2018-05-21T04:03:34.772509Z",
     "start_time": "2018-05-21T04:03:34.725024Z"
    }
   },
   "outputs": [],
   "source": [
    "def updateDict(url_list, old_dict, teatype):\n",
    "    dict_list =[]\n",
    "    count=0\n",
    "    proxy = proxies\n",
    "    for i in url_list:\n",
    "        time.sleep(.5)\n",
    "        new_dict = {}\n",
    "        teaname = ''\n",
    "        teaing = ''\n",
    "        teaflav = ''\n",
    "        tot_reviews = []\n",
    "        response = rq.get(i, proxy)\n",
    "        page = response.text\n",
    "        reviewp = soup(page,\"lxml\")\n",
    "        teaname = str(reviewp.h1).split('\"')[3]\n",
    "        teaing = str(reviewp.find_all('dd')[1]).split('>')[1].replace('</dd','')\n",
    "        teaflav = str(reviewp.find_all('dd')[2]).replace('<dd>', '').replace('</dd>', '')\n",
    "        tot_reviews = getReviews(reviewp,i,proxy)\n",
    "        new_dict['Tea Name'] =teaname\n",
    "        new_dict['Tea Ingredients'] =teaing\n",
    "        new_dict['Tea Flavors'] =teaflav\n",
    "        new_dict['Tea Reviews'] =tot_reviews\n",
    "        dict_list.append(new_dict)\n",
    "        count+=1\n",
    "        if count==8:\n",
    "            proxy=prox2\n",
    "        elif count==16:\n",
    "            proxy=prox3\n",
    "        elif count==24:\n",
    "            proxy=prox4\n",
    "        elif count==32:\n",
    "            proxy=proxies\n",
    "            count=0\n",
    "    old_dict[teatype]=dict_list\n",
    "    return old_dict"
   ]
  },
  {
   "cell_type": "code",
   "execution_count": 252,
   "metadata": {
    "ExecuteTime": {
     "end_time": "2018-05-21T05:11:49.435875Z",
     "start_time": "2018-05-21T04:14:51.245800Z"
    }
   },
   "outputs": [],
   "source": [
    "comurl = ['green=on&page=','black=on&page=','pu-erh=on&page=','oolong=on&page=','white=on&page=','matcha=on&page=','yellow=on&page=']\n",
    "tot_dict = {}\n",
    "for index, i in enumerate(comurl):\n",
    "    descpage = getTeas(i)\n",
    "    tot_dict = updateDict(descpage, tot_dict, ttype_list[index])"
   ]
  },
  {
   "cell_type": "code",
   "execution_count": 254,
   "metadata": {
    "ExecuteTime": {
     "end_time": "2018-05-21T05:19:15.507653Z",
     "start_time": "2018-05-21T05:19:15.502749Z"
    }
   },
   "outputs": [
    {
     "data": {
      "text/plain": [
       "['https://steepster.com//teas/rishi-tea/5683-ancient-yellow-buds',\n",
       " 'https://steepster.com//teas/teavana/43360-golden-dragon-yellow-tea',\n",
       " 'https://steepster.com//teas/mark-t-wendell/23148-huo-shan-yellow-sprouting',\n",
       " 'https://steepster.com//teas/the-jasmine-pearl-tea-merchants/40313-yellow-mu-dan',\n",
       " 'https://steepster.com//teas/davidstea/52871-yellow-gem',\n",
       " 'https://steepster.com//teas/ten-ren/30347-sun-moon-lake-high-mountain-oolong-tea',\n",
       " 'https://steepster.com//teas/mandala-tea/27557-yellow-buds-huo-shan-huang-ya',\n",
       " 'https://steepster.com//teas/august-uncommon-tea/56208-the-settlement',\n",
       " 'https://steepster.com//teas/what-cha/48466-huoshan-huang-ya-yellow',\n",
       " 'https://steepster.com//teas/harney-and-sons/21228-hunan-yellow-sprout-2012',\n",
       " 'https://steepster.com//teas/life-in-teacup/11912-meng-ding-snow-bud-xue-ya',\n",
       " 'https://steepster.com//teas/tribute-tea-company/42429-huo-mountain-yellow-buds-yellow-tea',\n",
       " 'https://steepster.com//teas/canton-tea-co/2985-meng-ding-huang-ya',\n",
       " 'https://steepster.com//teas/vital-tea-leaf/51947-supreme-yellow-sweet',\n",
       " 'https://steepster.com//teas/zen-tea/38340-fragrant-bud',\n",
       " 'https://steepster.com//teas/tealux/29887-jun-shan-yin-zhen-yellow-tea',\n",
       " 'https://steepster.com//teas/canton-tea-co/20076-huo-shan-huang-ya',\n",
       " 'https://steepster.com//teas/morning-crane-tea-for-jeong-jae-yeun/46754-jiri-mountain-wild-tea-hwang-cha',\n",
       " 'https://steepster.com//teas/upton-tea-imports/7573-huo-shan-yellow-buds',\n",
       " 'https://steepster.com//teas/new-york-city-coffee-and-tea-festival-2010/10017-coffee-and-tea-festival-nyc-2010',\n",
       " 'https://steepster.com//teas/mariage-freres/17712-yin-zhen-yellow-tea',\n",
       " 'https://steepster.com//teas/esgreen/22755-jun-shan-yin-zhen-mt-dot-jun-silver-needle',\n",
       " 'https://steepster.com//teas/mariage-freres/39624-the-jaune-lune-dor',\n",
       " 'https://steepster.com//teas/teleshopping-india/47451-easy-slim-tea',\n",
       " 'https://steepster.com//teas/tea-story/30159-yellow-tea-china',\n",
       " 'https://steepster.com//teas/china-cha-dao-douji/21123-china-cha-dao-super-grade-hunan-jun-shan-yin-zhen-yellow-tea',\n",
       " 'https://steepster.com//teas/keyway-innovations/37721-qi-teamaker',\n",
       " 'https://steepster.com//teas/what-cha/50558-darjeeling-2nd-flush-2014-jungpana-av2-yellow-tea',\n",
       " 'https://steepster.com//teas/teavivre/73795-huo-shan-huang-ya-yellow-tea',\n",
       " 'https://steepster.com//teas/harney-and-sons/6012-junshan-yinzhen-2011',\n",
       " 'https://steepster.com//teas/esgreen/22756-huo-shan-huang-ya-mt-dot-huo-yellow-sprout',\n",
       " 'https://steepster.com//teas/meimei-fine-teas/66473-meng-ding-yellow-buds',\n",
       " 'https://steepster.com//teas/dragon-tea-house/56183-nonpareil-huo-shan-huang-ya-star-yellow-buds',\n",
       " 'https://steepster.com//teas/tea-district/22490-organic-pineapple-sweet-white-tea',\n",
       " 'https://steepster.com//teas/hva-foods-plc/32742-ceylon-tea-multi-origin-tea-herbal-tea-fruit-tea-ice-tea',\n",
       " 'https://steepster.com//teas/nannuoshan/79199-jun-shan-yin-zhen',\n",
       " 'https://steepster.com//teas/darjeeling-tea-boutique/75180-black-tea',\n",
       " 'https://steepster.com//teas/harney-and-sons/44499-yellow-fairy',\n",
       " 'https://steepster.com//teas/camellia-sinensis/38823-meng-ding-huang-ya',\n",
       " 'https://steepster.com//teas/tealux/45302-huo-shan-huang-ya',\n",
       " 'https://steepster.com//teas/generation-tea/22570-2008-junshan-yinzen',\n",
       " 'https://steepster.com//teas/what-cha/55696-huoshan-huang-ya-yellow-tea',\n",
       " 'https://steepster.com//teas/adagio-teas/26039-hunan-gold',\n",
       " 'https://steepster.com//teas/shang-tea/73512-yellow-tea',\n",
       " 'https://steepster.com//teas/camellia-sinensis/37780-jun-shan-yin-zhen',\n",
       " 'https://steepster.com//teas/yunnan-sourcing/82607-certified-organic-yunnan-yellow-tea-spring-2017',\n",
       " 'https://steepster.com//teas/peony-tea-s/28483-huoshan-yellow-buds',\n",
       " 'https://steepster.com//teas/easy-slim-tea-weight-loss/71257-easy-slim-tea',\n",
       " 'https://steepster.com//teas/compass-teas/32522-beverly-hills-breakfast',\n",
       " 'https://steepster.com//teas/life-in-teacup/15215-meng-ding-yellow-bud-huang-ya-traditional-style',\n",
       " 'https://steepster.com//teas/indian-tea-industries/34489-tea-cultivation',\n",
       " 'https://steepster.com//teas/what-cha/77208-korea-jukro-semi-wild-balhyocha-tea',\n",
       " 'https://steepster.com//teas/harney-and-sons/8898-hu-shan-yellow-buds',\n",
       " 'https://steepster.com//teas/tealyra/77471-huo-shan-huang-ya-yellow',\n",
       " 'https://steepster.com//teas/what-cha/57732-huangshan-yellow-sun-yellow-tea',\n",
       " 'https://steepster.com//teas/bitterleaf-teas/77438-goldrush-2016-jinggu-yellow-tea',\n",
       " 'https://steepster.com//teas/chi-of-tea/19613-farm-fresh-huoshan-yellow-bud',\n",
       " 'https://steepster.com//teas/four-sisters-soap-and-tea-emporium/72888-memory-zest',\n",
       " 'https://steepster.com//teas/t2/15210-meng-ding-huang-ya',\n",
       " 'https://steepster.com//teas/tielka/21462-yellow-buds-yellow-tea',\n",
       " 'https://steepster.com//teas/east-pacific-tea-co/12430-yellow-spirit',\n",
       " 'https://steepster.com//teas/jas-etea/54264-2012-spring-imperial-meng-ding-huangya',\n",
       " 'https://steepster.com//teas/min-river-tea/46458-meng-ding-yellow-buds',\n",
       " 'https://steepster.com//teas/jing-tea/15593-pre-rain-jun-shan-imperial-mountain-silver-needle-yellow-tea',\n",
       " 'https://steepster.com//teas/dao-tea/11516-balhyocha-tea-master-kim-shin-ho',\n",
       " 'https://steepster.com//teas/chicago-tea-garden/15282-hwang-cha-korean-yellow-tea',\n",
       " 'https://steepster.com//teas/seven-cups/18620-mo-gan-huang-ya-yellow-tea-yellow-tea-organic-2009',\n",
       " 'https://steepster.com//teas/teas-me-cafe/27811-yellow-sparrow',\n",
       " 'https://steepster.com//teas/what-cha/68727-china-anhui-huangshan-yellow-sun-yellow-tea',\n",
       " 'https://steepster.com//teas/simply-good-tea/47575-spring-mountain',\n",
       " 'https://steepster.com//teas/dragon-tea-house/19716-premium-jun-shan-yin-zhen-yellow-tea',\n",
       " 'https://steepster.com//teas/chinalife/78584-amber-mountain',\n",
       " 'https://steepster.com//teas/trader-joes/70445-a-tasting-of-ten-teas',\n",
       " 'https://steepster.com//teas/in-tea/27083-sparrow-tongue',\n",
       " 'https://steepster.com//teas/tealyra/79224-huang-cha-yellow-tea',\n",
       " 'https://steepster.com//teas/dream-about-tea/5831-jun-shan-needle-yellow-tea',\n",
       " 'https://steepster.com//teas/tazo/47045-jun-shan-yin-zhen',\n",
       " 'https://steepster.com//teas/iti/8278-yunnan-royal-gold',\n",
       " 'https://steepster.com//teas/nothing-but-tea/8988-large-leaf-yellow-organic',\n",
       " 'https://steepster.com//teas/toads-coffee/27532-toads-lemon-verbena',\n",
       " 'https://steepster.com//teas/culinary-teas/29774-roasted-mate',\n",
       " 'https://steepster.com//teas/liquid-proust-teas/66037-honeysuckle-yellow',\n",
       " 'https://steepster.com//teas/teas-etc/5461-jun-shan',\n",
       " 'https://steepster.com//teas/what-cha/52391-krasnodar-host-tea-estate-yellow-tea',\n",
       " 'https://steepster.com//teas/coca-cola/13676-karada-meguricha',\n",
       " 'https://steepster.com//teas/teaspring/9321-jun-shan-yin-zhen',\n",
       " 'https://steepster.com//teas/harney-and-sons/82153-yellow-mu-dan',\n",
       " 'https://steepster.com//teas/jade-leaves/11675-mt-huang-sparrow-tongue',\n",
       " 'https://steepster.com//teas/fortnum-and-mason/38597-dancong-honey-orchid-oolong',\n",
       " 'https://steepster.com//teas/fava-tea-co/7507-kekecha-yellow',\n",
       " 'https://steepster.com//teas/esp-emporium/41037-kekecha-yellow-tea',\n",
       " 'https://steepster.com//teas/teaspring/6862-wei-shan-mao-jian',\n",
       " 'https://steepster.com//teas/teagschwendner/17544-china-da-zhang-shan-magnolia-organic-yellow',\n",
       " 'https://steepster.com//teas/what-cha/78905-china-anhui-huoshan-huang-ya-yellow-tea',\n",
       " 'https://steepster.com//teas/tea-trekker/6197-huo-shan-yellow-sprouting-2009-pre-qing-ming',\n",
       " 'https://steepster.com//teas/tea-and-more/83947-great-wall-of-china',\n",
       " 'https://steepster.com//teas/jn-food-co/22961-organic-barley-tea',\n",
       " 'https://steepster.com//teas/teadaw/82762-flower-fields',\n",
       " 'https://steepster.com//teas/norbu-tea/12930-2010-spring-meng-ding-huang-ya-sichuan-yellow-tea',\n",
       " 'https://steepster.com//teas/bellocq-tea-atelier/63605-huo-shan-huang-ya',\n",
       " 'https://steepster.com//teas/laura-lees-teas/37613-genmaicha-popcorn-tea',\n",
       " 'https://steepster.com//teas/the-tea-house-covent-garden/36832-china-yellow',\n",
       " 'https://steepster.com//teas/dammann-freres/63321-huoshan-huang-ya',\n",
       " 'https://steepster.com//teas/tea-trekker/6802-mengding-mountain-snow-buds-huang-ya',\n",
       " 'https://steepster.com//teas/serendipitea/40364-huo-shan-huang-ya',\n",
       " 'https://steepster.com//teas/kent-and-sussex-tea-and-coffee-company/80335-kekecha-yellow-tea',\n",
       " 'https://steepster.com//teas/teaspring/19971-huo-shan-huang-ya',\n",
       " 'https://steepster.com//teas/novartis/26246-theraflu-honey-lemon-infused-with-chamomile-and-white-tea-flavors',\n",
       " 'https://steepster.com//teas/thehuone/15468-yun-shan-yin-zhen',\n",
       " 'https://steepster.com//teas/tea-desire/45640-pomegranate-cranberry',\n",
       " 'https://steepster.com//teas/leaf/2404-yellow-tea',\n",
       " 'https://steepster.com//teas/petali-teas/73550-hua-shan-huang-ya',\n",
       " 'https://steepster.com//teas/tealyra/79225-jun-shan-yin-zhen-yellow-tea',\n",
       " 'https://steepster.com//teas/thehuone/13061-yellow-needle-yunnan',\n",
       " 'https://steepster.com//teas/upton-tea-imports/15907-zg59-heirloom-yellow-buds-organic-fair-trade',\n",
       " 'https://steepster.com//teas/upton-tea/55593-hao-shan-huang-ya-yellow-buds',\n",
       " 'https://steepster.com//teas/guilin-products/69108-high-mountain-tea',\n",
       " 'https://steepster.com//teas/the-tea-house/69184-huo-shan-huang-ya',\n",
       " 'https://steepster.com//teas/jing-tea-shop/21504-huo-shan-huang-ya',\n",
       " 'https://steepster.com//teas/esgreen/77205-huo-shan-huang-ya-mt-huo-yellow-buds',\n",
       " 'https://steepster.com//teas/house-of-tea-in-sweden-ab/81550-guang-xi-huang-ya',\n",
       " 'https://steepster.com//teas/imperial-tea-court/16923-guangdong-yellow-tea',\n",
       " 'https://steepster.com//teas/dr-teas-tea-garden/17093-rare-hou-shan-huang',\n",
       " 'https://steepster.com//teas/rosevear-tea/76567-the-emperors-reserve',\n",
       " 'https://steepster.com//teas/mahamosa-gourmet-teas-spices-and-herbs/31549-kekecha',\n",
       " 'https://steepster.com//teas/dragon-tea-house/19467-supreme-meng-ding-huang-ya',\n",
       " 'https://steepster.com//teas/teaspring/6916-meng-ding-huang-ya',\n",
       " 'https://steepster.com//teas/steepster/55939-fragrant-sprout-xiang-ya',\n",
       " 'https://steepster.com//teas/zen-tea-life/73636-ginger-lemon',\n",
       " 'https://steepster.com//teas/true-tea-club/77558-true-tea-club-subscription',\n",
       " 'https://steepster.com//teas/tan-long-tea/61693-yellow-tea-jun-shan-yin-zhen',\n",
       " 'https://steepster.com//teas/dobra-tea/9703-meng-ding-huang-ya',\n",
       " 'https://steepster.com//teas/teasource/29822-wild-kwan-yin',\n",
       " 'https://steepster.com//teas/teaspring/9322-cha-wang-jun-shan-yin-zhen',\n",
       " 'https://steepster.com//teas/upton-tea-imports/24306-zg51-yellow-tea-imperial',\n",
       " 'https://steepster.com//teas/arbor-teas/14566-organic-decaf-english-breakfast-black-tea',\n",
       " 'https://steepster.com//teas/tee-kontor-kiel/83954-gelber-tee-china-kekecha',\n",
       " 'https://steepster.com//teas/unami/63580-sichuan-huang-mao-feng',\n",
       " 'https://steepster.com//teas/silk-road/77025-mt-jun-yellow-needle',\n",
       " 'https://steepster.com//teas/forsman-tea/19289-keisarin-kruunu-emperors-yellow-tea',\n",
       " 'https://steepster.com//teas/wing-hop-fung/5536-royal-silver-needle-yellow-1400-slash-110230',\n",
       " 'https://steepster.com//teas/jing-tea/8534-huo-mountain-yellow-buds-yellow-tea',\n",
       " 'https://steepster.com//teas/silk-road-teas/15329-little-melon-seed-lu-an-gua-pian',\n",
       " 'https://steepster.com//teas/tao-tea-leaf/40242-jun-shan-yin-zhen-yellow-tea-top-grade',\n",
       " 'https://steepster.com//teas/mei-leaf/81548-amber-mountain',\n",
       " 'https://steepster.com//teas/igobazaar-ltd/21209-green-tea',\n",
       " 'https://steepster.com//teas/teasource/29823-anhui-yellow-flower',\n",
       " 'https://steepster.com//teas/the-de-cru/65187-zhu-ye-qing',\n",
       " 'https://steepster.com//teas/imperial-tea-court/5924-huoshan-huang-ya',\n",
       " 'https://steepster.com//teas/teaspring/16332-organic-lapsang-souchong',\n",
       " 'https://steepster.com//teas/dammann-freres/14517-meng-ding-huang-ya',\n",
       " 'https://steepster.com//teas/unknown/5388-huo-shan-huang-ya',\n",
       " 'https://steepster.com//teas/argo-tea/5449-tea-latte',\n",
       " 'https://steepster.com//teas/silk-road-teas/10498-yellow-mountain-wild-tea-huang-shan-mao-feng',\n",
       " 'https://steepster.com//teas/nothing-but-tea/8502-huang-da-cha',\n",
       " 'https://steepster.com//teas/mariage-freres/33567-the-jaune-des-cinq-dynasties',\n",
       " 'https://steepster.com//teas/generation-tea/17696-organic-yellow-tea-coins',\n",
       " 'https://steepster.com//teas/cajevi-dot-hr/70452-zuti-caj',\n",
       " 'https://steepster.com//teas/teagschwendner/7333-yellow-peach',\n",
       " 'https://steepster.com//teas/murchies-tea-and-coffee/43344-fragrant-bud-yellow-tea',\n",
       " 'https://steepster.com//teas/cornelia-bean/46340-peach-yellow-tea',\n",
       " 'https://steepster.com//teas/tea-adventure/34583-huo-shan-yellow-tea',\n",
       " 'https://steepster.com//teas/what-cha/72879-russia-host-tea-estate-yellow-tea',\n",
       " 'https://steepster.com//teas/quantitea/73170-silver-needles-of-gentleman-mountain-junshan-yinzhen',\n",
       " 'https://steepster.com//teas/norbu-tea/38106-jungpana-yellow-darjeeling-tea-first-flush-2013',\n",
       " 'https://steepster.com//teas/whittard-of-chelsea/45101-yellow-sun-loose-tea',\n",
       " 'https://steepster.com//teas/harney-and-sons/65534-junshan-yellow-2015',\n",
       " 'https://steepster.com//teas/quantitea/73171-yellow-sprouting-huoshan-huang-ya']"
      ]
     },
     "execution_count": 254,
     "metadata": {},
     "output_type": "execute_result"
    }
   ],
   "source": [
    "descpage"
   ]
  },
  {
   "cell_type": "code",
   "execution_count": 256,
   "metadata": {
    "ExecuteTime": {
     "end_time": "2018-05-21T05:20:19.759552Z",
     "start_time": "2018-05-21T05:20:19.753771Z"
    }
   },
   "outputs": [
    {
     "name": "stdout",
     "output_type": "stream",
     "text": [
      "168\n",
      "168\n",
      "168\n",
      "168\n",
      "168\n",
      "168\n",
      "168\n"
     ]
    }
   ],
   "source": [
    "for i in tot_dict:\n",
    "    print(len(tot_dict[i]))"
   ]
  },
  {
   "cell_type": "code",
   "execution_count": 257,
   "metadata": {
    "ExecuteTime": {
     "end_time": "2018-05-21T14:38:20.287604Z",
     "start_time": "2018-05-21T14:38:20.155325Z"
    }
   },
   "outputs": [],
   "source": [
    "#Writing a pickle file to save data\n",
    "\n",
    "with open('tea_data.pkl', 'wb') as picklefile:\n",
    "    pickle.dump(tot_dict, picklefile)"
   ]
  },
  {
   "cell_type": "code",
   "execution_count": 136,
   "metadata": {
    "ExecuteTime": {
     "end_time": "2018-05-20T21:16:06.461693Z",
     "start_time": "2018-05-20T21:16:06.434455Z"
    }
   },
   "outputs": [],
   "source": [
    "if str(reviewp.find_all('div', class_='text')):\n",
    "    reviewstr = str(reviewp.find_all('div', class_='text')).replace('</p>\\n</span>\\n</div>, <div class=\"text\">\\n','')\\\n",
    "                .replace('\\n<p>','').replace('<br/>\\n',' ').replace('<span class=\"caps\">','')\\\n",
    "                .replace('</span>','').replace('</p>','').replace(']','').replace('\\n\\n</div>','').split('<span itemprop=\"description\">')\n",
    "reviewstr = reviewstr[1:] "
   ]
  },
  {
   "cell_type": "code",
   "execution_count": 149,
   "metadata": {
    "ExecuteTime": {
     "end_time": "2018-05-20T21:44:43.781014Z",
     "start_time": "2018-05-20T21:44:43.772563Z"
    }
   },
   "outputs": [
    {
     "data": {
      "text/plain": [
       "['?page=2#tasting-notes', '?page=3#tasting-notes']"
      ]
     },
     "execution_count": 149,
     "metadata": {},
     "output_type": "execute_result"
    }
   ],
   "source": [
    "turnpg = []\n",
    "specurl = currentea[0]\n",
    "kj = reviewp.find_all('a')[-14:-12]\n",
    "if kf[0] == '?page=2#tasting-notes':\n",
    "    next_ = kf[0].get('href')\n",
    "    turnpg.append(specurl+next_)\n",
    "    turnpg\n",
    "if kf[1] == '?page=3#tasting-notes':\n",
    "    next_ = kf[0].get('href')\n",
    "    turnpg.append(specurl+next_)\n",
    "    turnpg"
   ]
  },
  {
   "cell_type": "markdown",
   "metadata": {},
   "source": [
    "## Scraping by username\n",
    "\n",
    "The amount of data will be the 50 most logged teas (of all users) that the user has reviewed."
   ]
  },
  {
   "cell_type": "code",
   "execution_count": 209,
   "metadata": {
    "ExecuteTime": {
     "end_time": "2018-05-25T17:14:50.912793Z",
     "start_time": "2018-05-25T17:14:50.908036Z"
    }
   },
   "outputs": [],
   "source": [
    "#establishing a starting point\n",
    "starturl = 'https://steepster.com/Mercuryhime/teas'\n",
    "baseurl2 = 'https://steepster.com'\n",
    "popsort = '&sort=popular'\n",
    "pagesort = '?page='\n",
    "following = 'following'\n",
    "teas = '/teas'\n",
    "#overall url build is baseurl2 + username +pagesort+ number+ popsort where the number is replaced by the page number"
   ]
  },
  {
   "cell_type": "code",
   "execution_count": 276,
   "metadata": {
    "ExecuteTime": {
     "end_time": "2018-05-25T20:29:06.347197Z",
     "start_time": "2018-05-25T20:29:06.175783Z"
    }
   },
   "outputs": [],
   "source": [
    "response = rq.get(starturl)\n",
    "page = response.text\n",
    "reviewp = soup(page,\"lxml\")"
   ]
  },
  {
   "cell_type": "code",
   "execution_count": 87,
   "metadata": {
    "ExecuteTime": {
     "end_time": "2018-05-24T22:21:57.189799Z",
     "start_time": "2018-05-24T22:21:57.177568Z"
    }
   },
   "outputs": [],
   "source": [
    "#pulling out string 3 for url, and string 4 for tea name\n",
    "teanamehtml = reviewp.find_all(class_='tea-name')\n",
    "teanameurl=[]\n",
    "teaname = []\n",
    "for i in teanamehtml:\n",
    "    qq=re.findall(r\"([^\\\"\\']*?[\\/teas][^\\\"]*)\",str(i))\n",
    "    teanameurl.append(str(qq[3]))\n",
    "    gg = re.findall(r'([^\\\"><n]*?[a-z][^<\\\"]*)', str(qq[4]))\n",
    "    teaname.append(gg[0].replace('\\n','').strip())"
   ]
  },
  {
   "cell_type": "code",
   "execution_count": 88,
   "metadata": {
    "ExecuteTime": {
     "end_time": "2018-05-24T22:21:57.581068Z",
     "start_time": "2018-05-24T22:21:57.577541Z"
    }
   },
   "outputs": [
    {
     "data": {
      "text/plain": [
       "['Laoshan Black',\n",
       " 'Fengqing Dragon Pearl Black Tea',\n",
       " 'Mi Lan Dan Cong',\n",
       " 'Momoko',\n",
       " 'Vanilla Comoro',\n",
       " 'Florence',\n",
       " 'Strawberry Seduction',\n",
       " 'Green and Fruity',\n",
       " 'Cantaloupe Bai Mu Dan',\n",
       " 'Plantation Mint']"
      ]
     },
     "execution_count": 88,
     "metadata": {},
     "output_type": "execute_result"
    }
   ],
   "source": [
    "teaname"
   ]
  },
  {
   "cell_type": "code",
   "execution_count": 89,
   "metadata": {
    "ExecuteTime": {
     "end_time": "2018-05-24T22:33:26.317690Z",
     "start_time": "2018-05-24T22:33:26.314355Z"
    }
   },
   "outputs": [
    {
     "data": {
      "text/plain": [
       "['/teas/verdant-tea/20064-laoshan-black',\n",
       " '/teas/teavivre/26683-fengqing-dragon-pearl-black-tea',\n",
       " '/teas/canton-tea-co/3054-mi-lan-dan-cong',\n",
       " '/teas/lupicia/17769-momoko',\n",
       " '/teas/harney-and-sons/3589-vanilla-comoro',\n",
       " '/teas/harney-and-sons/3515-florence',\n",
       " '/teas/element-tea/13861-strawberry-seduction',\n",
       " '/teas/davidstea/20184-green-and-fruity',\n",
       " '/teas/52teas/17100-cantaloupe-bai-mu-dan',\n",
       " '/teas/bigelow/727-plantation-mint']"
      ]
     },
     "execution_count": 89,
     "metadata": {},
     "output_type": "execute_result"
    }
   ],
   "source": [
    "teanameurl"
   ]
  },
  {
   "cell_type": "code",
   "execution_count": 273,
   "metadata": {
    "ExecuteTime": {
     "end_time": "2018-05-25T20:28:40.649365Z",
     "start_time": "2018-05-25T20:28:40.460228Z"
    }
   },
   "outputs": [],
   "source": [
    "response = rq.get('https://steepster.com/Mercuryhime/'+following)\n",
    "page = response.text\n",
    "reviewp = soup(page,\"lxml\")"
   ]
  },
  {
   "cell_type": "code",
   "execution_count": 274,
   "metadata": {
    "ExecuteTime": {
     "end_time": "2018-05-25T20:28:46.316266Z",
     "start_time": "2018-05-25T20:28:46.305801Z"
    }
   },
   "outputs": [],
   "source": [
    "kool = reviewp.find_all(class_='details')\n",
    "usernames =[]\n",
    "for i in kool:\n",
    "    qq=re.findall(r\"([^\\\"\\']*?[\\/][^\\\"]*)\",str(i))\n",
    "    usernames.append(qq[0])"
   ]
  },
  {
   "cell_type": "code",
   "execution_count": 105,
   "metadata": {
    "ExecuteTime": {
     "end_time": "2018-05-24T23:15:50.943125Z",
     "start_time": "2018-05-24T23:15:36.264951Z"
    }
   },
   "outputs": [],
   "source": [
    "for i in range(400):\n",
    "    time.sleep(.5)\n",
    "    response = rq.get('https://steepster.com/teaequalsbliss/'+following+pagesort+str(i),proxies)\n",
    "    page = response.text\n",
    "    reviewp = soup(page,\"lxml\")\n",
    "    kool = reviewp.find_all(class_='details')\n",
    "    for i in kool:\n",
    "        qq=re.findall(r\"([^\\\"\\']*?[\\/][^\\\"]*)\",str(i))\n",
    "        usernames.append(qq[0])\n",
    "usernames.append('/teaequalsbliss')"
   ]
  },
  {
   "cell_type": "code",
   "execution_count": 280,
   "metadata": {
    "ExecuteTime": {
     "end_time": "2018-05-25T20:31:37.189499Z",
     "start_time": "2018-05-25T20:31:37.127433Z"
    }
   },
   "outputs": [],
   "source": [
    "#400 users, depth of 7 tea pages\n",
    "def superTealist(users):\n",
    "    teanameurl=[]\n",
    "    newurls = []\n",
    "    teaname = []\n",
    "    score=[]\n",
    "    userdict = {}\n",
    "    count=0\n",
    "    proxy=proxies\n",
    "    for i in users:\n",
    "        time.sleep(.5)\n",
    "        teaname = []\n",
    "        scor=[]\n",
    "        for j in range(6):\n",
    "            time.sleep(.5)\n",
    "            response = rq.get('https://steepster.com'+str(i)+teas+pagesort+str(j+1)+popsort,proxy)\n",
    "            page = response.text\n",
    "            reviewp = soup(page,\"lxml\")\n",
    "            #pulling out string 3 for url, and string 4 for tea name\n",
    "            newurls = reviewp.find_all(class_='tea-name')\n",
    "            scores = reviewp.find_all(class_='rating awesome')\n",
    "            for q in scores:\n",
    "                score = re.sub(\"<div class=\\\"rating awesome\\\">\",' ',str(q))\n",
    "                score = re.sub(\"</div>\",' ',str(score)).strip()\n",
    "                scor.append(score)\n",
    "            for k in newurls:\n",
    "                qq=re.findall(r\"([^\\\"\\']*?[\\/teas][^\\\"]*)\",str(k))\n",
    "                teanameurl.append(str(qq[3]))\n",
    "                gg = re.findall(r'([^\\\"><n]*?[a-z][^<\\\"]*)', str(qq[4]))\n",
    "                teaname.append(gg[0].replace('\\n','').strip())\n",
    "        userdict[i] = [teanameurl, teaname, scor]\n",
    "        if count == 10:\n",
    "            proxy=prox2\n",
    "        elif count == 20:\n",
    "            proxy=prox3\n",
    "        elif count == 30:\n",
    "            proxy=prox4\n",
    "        elif count ==40:\n",
    "            proxy=proxies\n",
    "            count=0\n",
    "        count+=1\n",
    "    return teanameurl, teaname, userdict"
   ]
  },
  {
   "cell_type": "code",
   "execution_count": 281,
   "metadata": {
    "ExecuteTime": {
     "end_time": "2018-05-25T20:33:08.753761Z",
     "start_time": "2018-05-25T20:31:42.535356Z"
    }
   },
   "outputs": [],
   "source": [
    "teanameurl, teaname, userdict1 = superTealist(usernames)"
   ]
  },
  {
   "cell_type": "code",
   "execution_count": 282,
   "metadata": {
    "ExecuteTime": {
     "end_time": "2018-05-25T20:33:08.762574Z",
     "start_time": "2018-05-25T20:33:08.755879Z"
    }
   },
   "outputs": [],
   "source": [
    "#Writing a pickle file to save data\n",
    "\n",
    "with open('user_data.pkl', 'wb') as picklefile:\n",
    "    pickle.dump(userdict1, picklefile)"
   ]
  },
  {
   "cell_type": "code",
   "execution_count": 134,
   "metadata": {
    "ExecuteTime": {
     "end_time": "2018-05-25T00:01:21.954031Z",
     "start_time": "2018-05-25T00:01:21.944217Z"
    }
   },
   "outputs": [],
   "source": [
    "newurls = reviewp.find_all(class_='tea-name')\n",
    "for i in newurls:\n",
    "                qq=re.findall(r\"([^\\\"\\']*?[\\/teas][^\\\"]*)\",str(i))\n",
    "                teanameurl.append(str(qq[3]))\n",
    "                gg = re.findall(r'([^\\\"><n]*?[a-z][^<\\\"]*)', str(qq[4]))\n",
    "                teaname.append(gg[0].replace('\\n','').strip())"
   ]
  },
  {
   "cell_type": "code",
   "execution_count": 268,
   "metadata": {
    "ExecuteTime": {
     "end_time": "2018-05-25T19:43:26.137244Z",
     "start_time": "2018-05-25T19:43:26.051747Z"
    }
   },
   "outputs": [],
   "source": [
    "def updateDict2(url_list):\n",
    "    dict_list =[]\n",
    "    count=0\n",
    "    proxy = proxies\n",
    "    for index,i in enumerate(url_list):\n",
    "        time.sleep(.1)\n",
    "        new_dict = {}\n",
    "        teaname = ''\n",
    "        teabrand=''\n",
    "        teaing = ''\n",
    "        teaflav = ''\n",
    "        tot_reviews = []\n",
    "        if index not in [455,491,1133,2192,2304,3167]:\n",
    "            response = rq.get(baseurl2+i, proxy)\n",
    "            page = response.text\n",
    "            reviewp = soup(page,\"lxml\")\n",
    "            teaname = str(reviewp.h1).split('\"')[3]\n",
    "            teatype = str(re.findall(r\"([^\\\"><n]*?[a-z][^<\\\"]*)\",str(reviewp.find_all('dd')[0]))[3])\n",
    "            teabrand= str(re.findall(r\"([^\\\"><n]*?[A-Za-z][^<\\\"]*)\",str(reviewp.find_all(itemprop= 'name')[1]))[2])\n",
    "            tot_reviews = getReviews(reviewp,baseurl2+i,proxy)\n",
    "            new_dict['Tea Name'] =teaname\n",
    "            new_dict['Tea Brand'] = teabrand\n",
    "            new_dict['Tea Type'] =teatype\n",
    "            try:\n",
    "                teaing = str(reviewp.find_all('dd')[1]).split('>')[1].replace('</dd','')\n",
    "            except:\n",
    "                print(i)\n",
    "                print(index)\n",
    "            try:\n",
    "                teaflav = str(reviewp.find_all('dd')[2]).replace('<dd>', '').replace('</dd>', '')\n",
    "            except:\n",
    "                print(index)\n",
    "            \n",
    "            new_dict['Tea Ingredients'] =teaing\n",
    "            new_dict['Tea Flavors'] =teaflav\n",
    "            new_dict['Tea Reviews'] =tot_reviews\n",
    "            dict_list.append(new_dict)\n",
    "            count+=1\n",
    "            if count==8:\n",
    "                proxy=prox2\n",
    "            elif count==16:\n",
    "                proxy=prox3\n",
    "            elif count==24:\n",
    "                proxy=prox4\n",
    "            elif count==32:\n",
    "                proxy=proxies\n",
    "                count=0\n",
    "    return dict_list"
   ]
  },
  {
   "cell_type": "code",
   "execution_count": 270,
   "metadata": {
    "ExecuteTime": {
     "end_time": "2018-05-25T20:23:19.136762Z",
     "start_time": "2018-05-25T19:43:41.939427Z"
    },
    "scrolled": true
   },
   "outputs": [],
   "source": [
    "myset = set(teanameurl)\n",
    "teadictlist = updateDict2(myset)\n",
    "    "
   ]
  },
  {
   "cell_type": "code",
   "execution_count": null,
   "metadata": {
    "ExecuteTime": {
     "end_time": "2018-05-25T19:43:40.111277Z",
     "start_time": "2018-05-25T19:43:30.281Z"
    }
   },
   "outputs": [],
   "source": [
    "#removing the reviews not related to drinkable tea\n",
    "\"\"\"removelist = [teadictlist[455],teadictlist[491],teadictlist[1133],teadictlist[2192],teadictlist[2304],teadictlist[3167]]\n",
    "newtealist = [x for x in teadictlist if x not in removelist]\"\"\""
   ]
  },
  {
   "cell_type": "code",
   "execution_count": 283,
   "metadata": {
    "ExecuteTime": {
     "end_time": "2018-05-25T20:33:08.859546Z",
     "start_time": "2018-05-25T20:33:08.764436Z"
    }
   },
   "outputs": [],
   "source": [
    "#Writing a pickle file to save data\n",
    "\n",
    "with open('items_data.pkl', 'wb') as picklefile:\n",
    "    pickle.dump(teadictlist, picklefile)"
   ]
  },
  {
   "cell_type": "code",
   "execution_count": null,
   "metadata": {},
   "outputs": [],
   "source": []
  }
 ],
 "metadata": {
  "kernelspec": {
   "display_name": "Python 3",
   "language": "python",
   "name": "python3"
  },
  "language_info": {
   "codemirror_mode": {
    "name": "ipython",
    "version": 3
   },
   "file_extension": ".py",
   "mimetype": "text/x-python",
   "name": "python",
   "nbconvert_exporter": "python",
   "pygments_lexer": "ipython3",
   "version": "3.6.4"
  }
 },
 "nbformat": 4,
 "nbformat_minor": 2
}
