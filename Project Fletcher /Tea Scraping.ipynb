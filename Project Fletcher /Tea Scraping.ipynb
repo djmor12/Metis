{
 "cells": [
  {
   "cell_type": "code",
   "execution_count": 1,
   "metadata": {
    "ExecuteTime": {
     "end_time": "2018-05-23T15:40:38.289659Z",
     "start_time": "2018-05-23T15:40:37.527070Z"
    }
   },
   "outputs": [],
   "source": [
    "import requests as rq\n",
    "import pandas as pd\n",
    "import numpy as np\n",
    "from bs4 import BeautifulSoup as soup\n",
    "import re\n",
    "import time\n",
    "import csv\n",
    "import pickle\n",
    "from pprint import pprint"
   ]
  },
  {
   "cell_type": "code",
   "execution_count": 2,
   "metadata": {
    "ExecuteTime": {
     "end_time": "2018-05-23T15:40:38.298851Z",
     "start_time": "2018-05-23T15:40:38.291237Z"
    }
   },
   "outputs": [],
   "source": [
    "#Proxies need to be changed each run until data is collected!\n",
    "proxies = {\n",
    "    \"http\": 'http://59.65.35.102:3128', \n",
    "    \"https\": 'http://59.65.35.102:3128'\n",
    "}\n",
    "prox2 = {\n",
    "    \"http\": 'http://45.32.193.119:8118', \n",
    "    \"https\": 'http://45.32.193.119:8118'\n",
    "}\n",
    "prox3 = {\n",
    "    \"http\": 'http://66.215.16.23:8080', \n",
    "    \"https\": 'http://66.215.16.23:8080'\n",
    "}\n",
    "prox4 = {\n",
    "    \"http\": 'http://159.65.47.178:8888', \n",
    "    \"https\": 'http://159.65.47.178:8888'\n",
    "}\n",
    "superbase = 'https://steepster.com/'\n",
    "start_url = 'https://steepster.com/teas?green=on'\n",
    "search_base = 'https://steepster.com/teas?green=on&page=' #Add page number to end\n",
    "ttype_list = ['Green Tea','Black Tea','Pu-Erh Tea','Oolong Tea','White Tea','Matcha Tea','Yellow Tea']"
   ]
  },
  {
   "cell_type": "code",
   "execution_count": 3,
   "metadata": {
    "ExecuteTime": {
     "end_time": "2018-05-23T15:40:47.320799Z",
     "start_time": "2018-05-23T15:40:38.300987Z"
    }
   },
   "outputs": [],
   "source": [
    "response = rq.get('https://genius.com/Bob-the-builder-can-we-fix-it-lyrics',prox4)"
   ]
  },
  {
   "cell_type": "code",
   "execution_count": 4,
   "metadata": {
    "ExecuteTime": {
     "end_time": "2018-05-23T15:40:47.345525Z",
     "start_time": "2018-05-23T15:40:47.323454Z"
    }
   },
   "outputs": [],
   "source": [
    "page = response.text\n",
    "mainpage = soup(page,\"lxml\")"
   ]
  },
  {
   "cell_type": "code",
   "execution_count": 5,
   "metadata": {
    "ExecuteTime": {
     "end_time": "2018-05-23T15:40:47.361589Z",
     "start_time": "2018-05-23T15:40:47.347456Z"
    }
   },
   "outputs": [
    {
     "data": {
      "text/plain": [
       "'Bob the Builder!'"
      ]
     },
     "execution_count": 5,
     "metadata": {},
     "output_type": "execute_result"
    }
   ],
   "source": [
    "text = mainpage.find_all(class_='referent')\n",
    "str(text[0]).split('>')[1].replace('</a','')"
   ]
  },
  {
   "cell_type": "code",
   "execution_count": 22,
   "metadata": {
    "ExecuteTime": {
     "end_time": "2018-05-20T14:32:08.574399Z",
     "start_time": "2018-05-20T14:32:08.565650Z"
    }
   },
   "outputs": [],
   "source": [
    "#Getting all cases where we have a /talks url\n",
    "list_1 = mainpage.find_all(class_='entry-count')"
   ]
  },
  {
   "cell_type": "code",
   "execution_count": 249,
   "metadata": {
    "ExecuteTime": {
     "end_time": "2018-05-21T04:14:29.152224Z",
     "start_time": "2018-05-21T04:14:29.135274Z"
    }
   },
   "outputs": [],
   "source": [
    "def getTeas(color):\n",
    "    review_url = []\n",
    "    descpage = []\n",
    "    proxy=None\n",
    "    base = 'https://steepster.com/teas?'\n",
    "    base = base+color\n",
    "    for j in range(6):\n",
    "        response = rq.get(base+str(j+1),proxy)\n",
    "        page = response.text\n",
    "        mainpage = soup(page,\"lxml\")\n",
    "        #Getting all cases where we have a /tea url\n",
    "        list_1 = mainpage.find_all(class_='entry-count')\n",
    "        time.sleep(.5)\n",
    "        for i in list_1:\n",
    "            ret = re.findall(\"/teas/[a-zA-Z\\-/0-9]+\",str(i))\n",
    "            descpage.append(superbase+ret[0])\n",
    "            time.sleep(.5)\n",
    "        if j ==3:\n",
    "            proxy=proxies\n",
    "    return descpage"
   ]
  },
  {
   "cell_type": "code",
   "execution_count": 163,
   "metadata": {
    "ExecuteTime": {
     "end_time": "2018-05-20T23:11:01.949502Z",
     "start_time": "2018-05-20T23:11:01.946355Z"
    }
   },
   "outputs": [
    {
     "data": {
      "text/plain": [
       "168"
      ]
     },
     "execution_count": 163,
     "metadata": {},
     "output_type": "execute_result"
    }
   ],
   "source": [
    "len(descpage)"
   ]
  },
  {
   "cell_type": "code",
   "execution_count": 74,
   "metadata": {
    "ExecuteTime": {
     "end_time": "2018-05-20T16:09:13.148080Z",
     "start_time": "2018-05-20T16:09:12.909360Z"
    }
   },
   "outputs": [],
   "source": [
    "response = rq.get('https://steepster.com/teas/bird-pick-tea-and-herb/5862-premium-silky-green-tea')"
   ]
  },
  {
   "cell_type": "code",
   "execution_count": 75,
   "metadata": {
    "ExecuteTime": {
     "end_time": "2018-05-20T16:09:30.248788Z",
     "start_time": "2018-05-20T16:09:30.181299Z"
    }
   },
   "outputs": [],
   "source": [
    "page = response.text\n",
    "reviewp = soup(page,\"lxml\")"
   ]
  },
  {
   "cell_type": "code",
   "execution_count": 238,
   "metadata": {
    "ExecuteTime": {
     "end_time": "2018-05-21T04:03:32.577679Z",
     "start_time": "2018-05-21T04:03:32.528389Z"
    }
   },
   "outputs": [],
   "source": [
    "def getReviews(reviewpage, currenttea, proxy):\n",
    "    reviewstr=[]\n",
    "    review_list=[]\n",
    "    if str(reviewpage.find_all('div', class_='text')):\n",
    "        kj = reviewpage.find_all('a')[-14:-12]\n",
    "        reviewstr = str(reviewpage.find_all('div', class_='text')).replace('</p>\\n</span>\\n</div>, <div class=\"text\">\\n','')\\\n",
    "                .replace('\\n<p>','').replace('<br/>\\n',' ').replace('<span class=\"caps\">','')\\\n",
    "                .replace('</span>','').replace('</p>','').replace(']','').replace('\\n\\n</div>','').split('<span itemprop=\"description\">')\n",
    "        review_list += reviewstr[1:]      \n",
    "        if kj[0].get('href') == '?page=2#tasting-notes':\n",
    "            next_1 = kj[0].get('href')\n",
    "            response = rq.get(currenttea+next_1, proxy)\n",
    "            page = response.text\n",
    "            reviewp2 = soup(page,\"lxml\")\n",
    "            reviewstr = str(reviewp2.find_all('div', class_='text')).replace('</p>\\n</span>\\n</div>, <div class=\"text\">\\n','')\\\n",
    "                .replace('\\n<p>','').replace('<br/>\\n',' ').replace('<span class=\"caps\">','')\\\n",
    "                .replace('</span>','').replace('</p>','').replace(']','').replace('\\n\\n</div>','').split('<span itemprop=\"description\">')\n",
    "            review_list += reviewstr[1:] \n",
    "        time.sleep(.5)\n",
    "        if kj[1].get('href') == '?page=3#tasting-notes':\n",
    "            next_ = kj[1].get('href')\n",
    "            response = rq.get(currenttea+next_, proxy)\n",
    "            page = response.text\n",
    "            reviewp3 = soup(page,\"lxml\")\n",
    "            reviewstr = str(reviewp3.find_all('div', class_='text')).replace('</p>\\n</span>\\n</div>, <div class=\"text\">\\n','')\\\n",
    "                .replace('\\n<p>','').replace('<br/>\\n',' ').replace('<span class=\"caps\">','')\\\n",
    "                .replace('</span>','').replace('</p>','').replace(']','').replace('\\n\\n</div>','').split('<span itemprop=\"description\">')\n",
    "            review_list += reviewstr[1:]  \n",
    "        time.sleep(.5)\n",
    "    return review_list\n"
   ]
  },
  {
   "cell_type": "code",
   "execution_count": 239,
   "metadata": {
    "ExecuteTime": {
     "end_time": "2018-05-21T04:03:34.772509Z",
     "start_time": "2018-05-21T04:03:34.725024Z"
    }
   },
   "outputs": [],
   "source": [
    "def updateDict(url_list, old_dict, teatype):\n",
    "    dict_list =[]\n",
    "    count=0\n",
    "    proxy = proxies\n",
    "    for i in url_list:\n",
    "        time.sleep(.5)\n",
    "        new_dict = {}\n",
    "        teaname = ''\n",
    "        teaing = ''\n",
    "        teaflav = ''\n",
    "        tot_reviews = []\n",
    "        response = rq.get(i, proxy)\n",
    "        page = response.text\n",
    "        reviewp = soup(page,\"lxml\")\n",
    "        teaname = str(reviewp.h1).split('\"')[3]\n",
    "        teaing = str(reviewp.find_all('dd')[1]).split('>')[1].replace('</dd','')\n",
    "        teaflav = str(reviewp.find_all('dd')[2]).replace('<dd>', '').replace('</dd>', '')\n",
    "        tot_reviews = getReviews(reviewp,i,proxy)\n",
    "        new_dict['Tea Name'] =teaname\n",
    "        new_dict['Tea Ingredients'] =teaing\n",
    "        new_dict['Tea Flavors'] =teaflav\n",
    "        new_dict['Tea Reviews'] =tot_reviews\n",
    "        dict_list.append(new_dict)\n",
    "        count+=1\n",
    "        if count==8:\n",
    "            proxy=prox2\n",
    "        elif count==16:\n",
    "            proxy=prox3\n",
    "        elif count==24:\n",
    "            proxy=prox4\n",
    "        elif count==32:\n",
    "            proxy=proxies\n",
    "            count=0\n",
    "    old_dict[teatype]=dict_list\n",
    "    return old_dict"
   ]
  },
  {
   "cell_type": "code",
   "execution_count": 252,
   "metadata": {
    "ExecuteTime": {
     "end_time": "2018-05-21T05:11:49.435875Z",
     "start_time": "2018-05-21T04:14:51.245800Z"
    }
   },
   "outputs": [],
   "source": [
    "comurl = ['green=on&page=','black=on&page=','pu-erh=on&page=','oolong=on&page=','white=on&page=','matcha=on&page=','yellow=on&page=']\n",
    "tot_dict = {}\n",
    "for index, i in enumerate(comurl):\n",
    "    descpage = getTeas(i)\n",
    "    tot_dict = updateDict(descpage, tot_dict, ttype_list[index])"
   ]
  },
  {
   "cell_type": "code",
   "execution_count": 254,
   "metadata": {
    "ExecuteTime": {
     "end_time": "2018-05-21T05:19:15.507653Z",
     "start_time": "2018-05-21T05:19:15.502749Z"
    }
   },
   "outputs": [
    {
     "data": {
      "text/plain": [
       "['https://steepster.com//teas/rishi-tea/5683-ancient-yellow-buds',\n",
       " 'https://steepster.com//teas/teavana/43360-golden-dragon-yellow-tea',\n",
       " 'https://steepster.com//teas/mark-t-wendell/23148-huo-shan-yellow-sprouting',\n",
       " 'https://steepster.com//teas/the-jasmine-pearl-tea-merchants/40313-yellow-mu-dan',\n",
       " 'https://steepster.com//teas/davidstea/52871-yellow-gem',\n",
       " 'https://steepster.com//teas/ten-ren/30347-sun-moon-lake-high-mountain-oolong-tea',\n",
       " 'https://steepster.com//teas/mandala-tea/27557-yellow-buds-huo-shan-huang-ya',\n",
       " 'https://steepster.com//teas/august-uncommon-tea/56208-the-settlement',\n",
       " 'https://steepster.com//teas/what-cha/48466-huoshan-huang-ya-yellow',\n",
       " 'https://steepster.com//teas/harney-and-sons/21228-hunan-yellow-sprout-2012',\n",
       " 'https://steepster.com//teas/life-in-teacup/11912-meng-ding-snow-bud-xue-ya',\n",
       " 'https://steepster.com//teas/tribute-tea-company/42429-huo-mountain-yellow-buds-yellow-tea',\n",
       " 'https://steepster.com//teas/canton-tea-co/2985-meng-ding-huang-ya',\n",
       " 'https://steepster.com//teas/vital-tea-leaf/51947-supreme-yellow-sweet',\n",
       " 'https://steepster.com//teas/zen-tea/38340-fragrant-bud',\n",
       " 'https://steepster.com//teas/tealux/29887-jun-shan-yin-zhen-yellow-tea',\n",
       " 'https://steepster.com//teas/canton-tea-co/20076-huo-shan-huang-ya',\n",
       " 'https://steepster.com//teas/morning-crane-tea-for-jeong-jae-yeun/46754-jiri-mountain-wild-tea-hwang-cha',\n",
       " 'https://steepster.com//teas/upton-tea-imports/7573-huo-shan-yellow-buds',\n",
       " 'https://steepster.com//teas/new-york-city-coffee-and-tea-festival-2010/10017-coffee-and-tea-festival-nyc-2010',\n",
       " 'https://steepster.com//teas/mariage-freres/17712-yin-zhen-yellow-tea',\n",
       " 'https://steepster.com//teas/esgreen/22755-jun-shan-yin-zhen-mt-dot-jun-silver-needle',\n",
       " 'https://steepster.com//teas/mariage-freres/39624-the-jaune-lune-dor',\n",
       " 'https://steepster.com//teas/teleshopping-india/47451-easy-slim-tea',\n",
       " 'https://steepster.com//teas/tea-story/30159-yellow-tea-china',\n",
       " 'https://steepster.com//teas/china-cha-dao-douji/21123-china-cha-dao-super-grade-hunan-jun-shan-yin-zhen-yellow-tea',\n",
       " 'https://steepster.com//teas/keyway-innovations/37721-qi-teamaker',\n",
       " 'https://steepster.com//teas/what-cha/50558-darjeeling-2nd-flush-2014-jungpana-av2-yellow-tea',\n",
       " 'https://steepster.com//teas/teavivre/73795-huo-shan-huang-ya-yellow-tea',\n",
       " 'https://steepster.com//teas/harney-and-sons/6012-junshan-yinzhen-2011',\n",
       " 'https://steepster.com//teas/esgreen/22756-huo-shan-huang-ya-mt-dot-huo-yellow-sprout',\n",
       " 'https://steepster.com//teas/meimei-fine-teas/66473-meng-ding-yellow-buds',\n",
       " 'https://steepster.com//teas/dragon-tea-house/56183-nonpareil-huo-shan-huang-ya-star-yellow-buds',\n",
       " 'https://steepster.com//teas/tea-district/22490-organic-pineapple-sweet-white-tea',\n",
       " 'https://steepster.com//teas/hva-foods-plc/32742-ceylon-tea-multi-origin-tea-herbal-tea-fruit-tea-ice-tea',\n",
       " 'https://steepster.com//teas/nannuoshan/79199-jun-shan-yin-zhen',\n",
       " 'https://steepster.com//teas/darjeeling-tea-boutique/75180-black-tea',\n",
       " 'https://steepster.com//teas/harney-and-sons/44499-yellow-fairy',\n",
       " 'https://steepster.com//teas/camellia-sinensis/38823-meng-ding-huang-ya',\n",
       " 'https://steepster.com//teas/tealux/45302-huo-shan-huang-ya',\n",
       " 'https://steepster.com//teas/generation-tea/22570-2008-junshan-yinzen',\n",
       " 'https://steepster.com//teas/what-cha/55696-huoshan-huang-ya-yellow-tea',\n",
       " 'https://steepster.com//teas/adagio-teas/26039-hunan-gold',\n",
       " 'https://steepster.com//teas/shang-tea/73512-yellow-tea',\n",
       " 'https://steepster.com//teas/camellia-sinensis/37780-jun-shan-yin-zhen',\n",
       " 'https://steepster.com//teas/yunnan-sourcing/82607-certified-organic-yunnan-yellow-tea-spring-2017',\n",
       " 'https://steepster.com//teas/peony-tea-s/28483-huoshan-yellow-buds',\n",
       " 'https://steepster.com//teas/easy-slim-tea-weight-loss/71257-easy-slim-tea',\n",
       " 'https://steepster.com//teas/compass-teas/32522-beverly-hills-breakfast',\n",
       " 'https://steepster.com//teas/life-in-teacup/15215-meng-ding-yellow-bud-huang-ya-traditional-style',\n",
       " 'https://steepster.com//teas/indian-tea-industries/34489-tea-cultivation',\n",
       " 'https://steepster.com//teas/what-cha/77208-korea-jukro-semi-wild-balhyocha-tea',\n",
       " 'https://steepster.com//teas/harney-and-sons/8898-hu-shan-yellow-buds',\n",
       " 'https://steepster.com//teas/tealyra/77471-huo-shan-huang-ya-yellow',\n",
       " 'https://steepster.com//teas/what-cha/57732-huangshan-yellow-sun-yellow-tea',\n",
       " 'https://steepster.com//teas/bitterleaf-teas/77438-goldrush-2016-jinggu-yellow-tea',\n",
       " 'https://steepster.com//teas/chi-of-tea/19613-farm-fresh-huoshan-yellow-bud',\n",
       " 'https://steepster.com//teas/four-sisters-soap-and-tea-emporium/72888-memory-zest',\n",
       " 'https://steepster.com//teas/t2/15210-meng-ding-huang-ya',\n",
       " 'https://steepster.com//teas/tielka/21462-yellow-buds-yellow-tea',\n",
       " 'https://steepster.com//teas/east-pacific-tea-co/12430-yellow-spirit',\n",
       " 'https://steepster.com//teas/jas-etea/54264-2012-spring-imperial-meng-ding-huangya',\n",
       " 'https://steepster.com//teas/min-river-tea/46458-meng-ding-yellow-buds',\n",
       " 'https://steepster.com//teas/jing-tea/15593-pre-rain-jun-shan-imperial-mountain-silver-needle-yellow-tea',\n",
       " 'https://steepster.com//teas/dao-tea/11516-balhyocha-tea-master-kim-shin-ho',\n",
       " 'https://steepster.com//teas/chicago-tea-garden/15282-hwang-cha-korean-yellow-tea',\n",
       " 'https://steepster.com//teas/seven-cups/18620-mo-gan-huang-ya-yellow-tea-yellow-tea-organic-2009',\n",
       " 'https://steepster.com//teas/teas-me-cafe/27811-yellow-sparrow',\n",
       " 'https://steepster.com//teas/what-cha/68727-china-anhui-huangshan-yellow-sun-yellow-tea',\n",
       " 'https://steepster.com//teas/simply-good-tea/47575-spring-mountain',\n",
       " 'https://steepster.com//teas/dragon-tea-house/19716-premium-jun-shan-yin-zhen-yellow-tea',\n",
       " 'https://steepster.com//teas/chinalife/78584-amber-mountain',\n",
       " 'https://steepster.com//teas/trader-joes/70445-a-tasting-of-ten-teas',\n",
       " 'https://steepster.com//teas/in-tea/27083-sparrow-tongue',\n",
       " 'https://steepster.com//teas/tealyra/79224-huang-cha-yellow-tea',\n",
       " 'https://steepster.com//teas/dream-about-tea/5831-jun-shan-needle-yellow-tea',\n",
       " 'https://steepster.com//teas/tazo/47045-jun-shan-yin-zhen',\n",
       " 'https://steepster.com//teas/iti/8278-yunnan-royal-gold',\n",
       " 'https://steepster.com//teas/nothing-but-tea/8988-large-leaf-yellow-organic',\n",
       " 'https://steepster.com//teas/toads-coffee/27532-toads-lemon-verbena',\n",
       " 'https://steepster.com//teas/culinary-teas/29774-roasted-mate',\n",
       " 'https://steepster.com//teas/liquid-proust-teas/66037-honeysuckle-yellow',\n",
       " 'https://steepster.com//teas/teas-etc/5461-jun-shan',\n",
       " 'https://steepster.com//teas/what-cha/52391-krasnodar-host-tea-estate-yellow-tea',\n",
       " 'https://steepster.com//teas/coca-cola/13676-karada-meguricha',\n",
       " 'https://steepster.com//teas/teaspring/9321-jun-shan-yin-zhen',\n",
       " 'https://steepster.com//teas/harney-and-sons/82153-yellow-mu-dan',\n",
       " 'https://steepster.com//teas/jade-leaves/11675-mt-huang-sparrow-tongue',\n",
       " 'https://steepster.com//teas/fortnum-and-mason/38597-dancong-honey-orchid-oolong',\n",
       " 'https://steepster.com//teas/fava-tea-co/7507-kekecha-yellow',\n",
       " 'https://steepster.com//teas/esp-emporium/41037-kekecha-yellow-tea',\n",
       " 'https://steepster.com//teas/teaspring/6862-wei-shan-mao-jian',\n",
       " 'https://steepster.com//teas/teagschwendner/17544-china-da-zhang-shan-magnolia-organic-yellow',\n",
       " 'https://steepster.com//teas/what-cha/78905-china-anhui-huoshan-huang-ya-yellow-tea',\n",
       " 'https://steepster.com//teas/tea-trekker/6197-huo-shan-yellow-sprouting-2009-pre-qing-ming',\n",
       " 'https://steepster.com//teas/tea-and-more/83947-great-wall-of-china',\n",
       " 'https://steepster.com//teas/jn-food-co/22961-organic-barley-tea',\n",
       " 'https://steepster.com//teas/teadaw/82762-flower-fields',\n",
       " 'https://steepster.com//teas/norbu-tea/12930-2010-spring-meng-ding-huang-ya-sichuan-yellow-tea',\n",
       " 'https://steepster.com//teas/bellocq-tea-atelier/63605-huo-shan-huang-ya',\n",
       " 'https://steepster.com//teas/laura-lees-teas/37613-genmaicha-popcorn-tea',\n",
       " 'https://steepster.com//teas/the-tea-house-covent-garden/36832-china-yellow',\n",
       " 'https://steepster.com//teas/dammann-freres/63321-huoshan-huang-ya',\n",
       " 'https://steepster.com//teas/tea-trekker/6802-mengding-mountain-snow-buds-huang-ya',\n",
       " 'https://steepster.com//teas/serendipitea/40364-huo-shan-huang-ya',\n",
       " 'https://steepster.com//teas/kent-and-sussex-tea-and-coffee-company/80335-kekecha-yellow-tea',\n",
       " 'https://steepster.com//teas/teaspring/19971-huo-shan-huang-ya',\n",
       " 'https://steepster.com//teas/novartis/26246-theraflu-honey-lemon-infused-with-chamomile-and-white-tea-flavors',\n",
       " 'https://steepster.com//teas/thehuone/15468-yun-shan-yin-zhen',\n",
       " 'https://steepster.com//teas/tea-desire/45640-pomegranate-cranberry',\n",
       " 'https://steepster.com//teas/leaf/2404-yellow-tea',\n",
       " 'https://steepster.com//teas/petali-teas/73550-hua-shan-huang-ya',\n",
       " 'https://steepster.com//teas/tealyra/79225-jun-shan-yin-zhen-yellow-tea',\n",
       " 'https://steepster.com//teas/thehuone/13061-yellow-needle-yunnan',\n",
       " 'https://steepster.com//teas/upton-tea-imports/15907-zg59-heirloom-yellow-buds-organic-fair-trade',\n",
       " 'https://steepster.com//teas/upton-tea/55593-hao-shan-huang-ya-yellow-buds',\n",
       " 'https://steepster.com//teas/guilin-products/69108-high-mountain-tea',\n",
       " 'https://steepster.com//teas/the-tea-house/69184-huo-shan-huang-ya',\n",
       " 'https://steepster.com//teas/jing-tea-shop/21504-huo-shan-huang-ya',\n",
       " 'https://steepster.com//teas/esgreen/77205-huo-shan-huang-ya-mt-huo-yellow-buds',\n",
       " 'https://steepster.com//teas/house-of-tea-in-sweden-ab/81550-guang-xi-huang-ya',\n",
       " 'https://steepster.com//teas/imperial-tea-court/16923-guangdong-yellow-tea',\n",
       " 'https://steepster.com//teas/dr-teas-tea-garden/17093-rare-hou-shan-huang',\n",
       " 'https://steepster.com//teas/rosevear-tea/76567-the-emperors-reserve',\n",
       " 'https://steepster.com//teas/mahamosa-gourmet-teas-spices-and-herbs/31549-kekecha',\n",
       " 'https://steepster.com//teas/dragon-tea-house/19467-supreme-meng-ding-huang-ya',\n",
       " 'https://steepster.com//teas/teaspring/6916-meng-ding-huang-ya',\n",
       " 'https://steepster.com//teas/steepster/55939-fragrant-sprout-xiang-ya',\n",
       " 'https://steepster.com//teas/zen-tea-life/73636-ginger-lemon',\n",
       " 'https://steepster.com//teas/true-tea-club/77558-true-tea-club-subscription',\n",
       " 'https://steepster.com//teas/tan-long-tea/61693-yellow-tea-jun-shan-yin-zhen',\n",
       " 'https://steepster.com//teas/dobra-tea/9703-meng-ding-huang-ya',\n",
       " 'https://steepster.com//teas/teasource/29822-wild-kwan-yin',\n",
       " 'https://steepster.com//teas/teaspring/9322-cha-wang-jun-shan-yin-zhen',\n",
       " 'https://steepster.com//teas/upton-tea-imports/24306-zg51-yellow-tea-imperial',\n",
       " 'https://steepster.com//teas/arbor-teas/14566-organic-decaf-english-breakfast-black-tea',\n",
       " 'https://steepster.com//teas/tee-kontor-kiel/83954-gelber-tee-china-kekecha',\n",
       " 'https://steepster.com//teas/unami/63580-sichuan-huang-mao-feng',\n",
       " 'https://steepster.com//teas/silk-road/77025-mt-jun-yellow-needle',\n",
       " 'https://steepster.com//teas/forsman-tea/19289-keisarin-kruunu-emperors-yellow-tea',\n",
       " 'https://steepster.com//teas/wing-hop-fung/5536-royal-silver-needle-yellow-1400-slash-110230',\n",
       " 'https://steepster.com//teas/jing-tea/8534-huo-mountain-yellow-buds-yellow-tea',\n",
       " 'https://steepster.com//teas/silk-road-teas/15329-little-melon-seed-lu-an-gua-pian',\n",
       " 'https://steepster.com//teas/tao-tea-leaf/40242-jun-shan-yin-zhen-yellow-tea-top-grade',\n",
       " 'https://steepster.com//teas/mei-leaf/81548-amber-mountain',\n",
       " 'https://steepster.com//teas/igobazaar-ltd/21209-green-tea',\n",
       " 'https://steepster.com//teas/teasource/29823-anhui-yellow-flower',\n",
       " 'https://steepster.com//teas/the-de-cru/65187-zhu-ye-qing',\n",
       " 'https://steepster.com//teas/imperial-tea-court/5924-huoshan-huang-ya',\n",
       " 'https://steepster.com//teas/teaspring/16332-organic-lapsang-souchong',\n",
       " 'https://steepster.com//teas/dammann-freres/14517-meng-ding-huang-ya',\n",
       " 'https://steepster.com//teas/unknown/5388-huo-shan-huang-ya',\n",
       " 'https://steepster.com//teas/argo-tea/5449-tea-latte',\n",
       " 'https://steepster.com//teas/silk-road-teas/10498-yellow-mountain-wild-tea-huang-shan-mao-feng',\n",
       " 'https://steepster.com//teas/nothing-but-tea/8502-huang-da-cha',\n",
       " 'https://steepster.com//teas/mariage-freres/33567-the-jaune-des-cinq-dynasties',\n",
       " 'https://steepster.com//teas/generation-tea/17696-organic-yellow-tea-coins',\n",
       " 'https://steepster.com//teas/cajevi-dot-hr/70452-zuti-caj',\n",
       " 'https://steepster.com//teas/teagschwendner/7333-yellow-peach',\n",
       " 'https://steepster.com//teas/murchies-tea-and-coffee/43344-fragrant-bud-yellow-tea',\n",
       " 'https://steepster.com//teas/cornelia-bean/46340-peach-yellow-tea',\n",
       " 'https://steepster.com//teas/tea-adventure/34583-huo-shan-yellow-tea',\n",
       " 'https://steepster.com//teas/what-cha/72879-russia-host-tea-estate-yellow-tea',\n",
       " 'https://steepster.com//teas/quantitea/73170-silver-needles-of-gentleman-mountain-junshan-yinzhen',\n",
       " 'https://steepster.com//teas/norbu-tea/38106-jungpana-yellow-darjeeling-tea-first-flush-2013',\n",
       " 'https://steepster.com//teas/whittard-of-chelsea/45101-yellow-sun-loose-tea',\n",
       " 'https://steepster.com//teas/harney-and-sons/65534-junshan-yellow-2015',\n",
       " 'https://steepster.com//teas/quantitea/73171-yellow-sprouting-huoshan-huang-ya']"
      ]
     },
     "execution_count": 254,
     "metadata": {},
     "output_type": "execute_result"
    }
   ],
   "source": [
    "descpage"
   ]
  },
  {
   "cell_type": "code",
   "execution_count": 256,
   "metadata": {
    "ExecuteTime": {
     "end_time": "2018-05-21T05:20:19.759552Z",
     "start_time": "2018-05-21T05:20:19.753771Z"
    }
   },
   "outputs": [
    {
     "name": "stdout",
     "output_type": "stream",
     "text": [
      "168\n",
      "168\n",
      "168\n",
      "168\n",
      "168\n",
      "168\n",
      "168\n"
     ]
    }
   ],
   "source": [
    "for i in tot_dict:\n",
    "    print(len(tot_dict[i]))"
   ]
  },
  {
   "cell_type": "code",
   "execution_count": 257,
   "metadata": {
    "ExecuteTime": {
     "end_time": "2018-05-21T14:38:20.287604Z",
     "start_time": "2018-05-21T14:38:20.155325Z"
    }
   },
   "outputs": [],
   "source": [
    "#Writing a pickle file to save data\n",
    "\n",
    "with open('tea_data.pkl', 'wb') as picklefile:\n",
    "    pickle.dump(tot_dict, picklefile)"
   ]
  },
  {
   "cell_type": "code",
   "execution_count": 136,
   "metadata": {
    "ExecuteTime": {
     "end_time": "2018-05-20T21:16:06.461693Z",
     "start_time": "2018-05-20T21:16:06.434455Z"
    }
   },
   "outputs": [],
   "source": [
    "if str(reviewp.find_all('div', class_='text')):\n",
    "    reviewstr = str(reviewp.find_all('div', class_='text')).replace('</p>\\n</span>\\n</div>, <div class=\"text\">\\n','')\\\n",
    "                .replace('\\n<p>','').replace('<br/>\\n',' ').replace('<span class=\"caps\">','')\\\n",
    "                .replace('</span>','').replace('</p>','').replace(']','').replace('\\n\\n</div>','').split('<span itemprop=\"description\">')\n",
    "reviewstr = reviewstr[1:] "
   ]
  },
  {
   "cell_type": "code",
   "execution_count": 149,
   "metadata": {
    "ExecuteTime": {
     "end_time": "2018-05-20T21:44:43.781014Z",
     "start_time": "2018-05-20T21:44:43.772563Z"
    }
   },
   "outputs": [
    {
     "data": {
      "text/plain": [
       "['?page=2#tasting-notes', '?page=3#tasting-notes']"
      ]
     },
     "execution_count": 149,
     "metadata": {},
     "output_type": "execute_result"
    }
   ],
   "source": [
    "turnpg = []\n",
    "specurl = currentea[0]\n",
    "kj = reviewp.find_all('a')[-14:-12]\n",
    "if kf[0] == '?page=2#tasting-notes':\n",
    "    next_ = kf[0].get('href')\n",
    "    turnpg.append(specurl+next_)\n",
    "    turnpg\n",
    "if kf[1] == '?page=3#tasting-notes':\n",
    "    next_ = kf[0].get('href')\n",
    "    turnpg.append(specurl+next_)\n",
    "    turnpg"
   ]
  },
  {
   "cell_type": "code",
   "execution_count": null,
   "metadata": {},
   "outputs": [],
   "source": []
  }
 ],
 "metadata": {
  "kernelspec": {
   "display_name": "Python 3",
   "language": "python",
   "name": "python3"
  },
  "language_info": {
   "codemirror_mode": {
    "name": "ipython",
    "version": 3
   },
   "file_extension": ".py",
   "mimetype": "text/x-python",
   "name": "python",
   "nbconvert_exporter": "python",
   "pygments_lexer": "ipython3",
   "version": "3.6.4"
  }
 },
 "nbformat": 4,
 "nbformat_minor": 2
}
