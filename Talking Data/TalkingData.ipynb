{
 "cells": [
  {
   "cell_type": "markdown",
   "metadata": {},
   "source": [
    "# Talking Data\n",
    "\n",
    "The purpose of this project is to use mobile user data to predict the age group of the user.  The age groups are split betweeen either female or male, then from below 23,to above 43.  Here is what it looks for females: F23-, F24-26, F27-28, F29-32, F33-42, F43+. \n",
    "\n",
    "The data is from the Chinese company TalkingData. There are several data sets, each a unique csv: gender_age_train, gender_age_test, events, app_events, app_labels, label_categories and phone_brand_device_model.  "
   ]
  },
  {
   "cell_type": "code",
   "execution_count": 43,
   "metadata": {
    "ExecuteTime": {
     "end_time": "2018-05-13T18:10:17.612942Z",
     "start_time": "2018-05-13T18:10:17.512336Z"
    }
   },
   "outputs": [],
   "source": [
    "#Importing the packages needed for this analysis\n",
    "from pygeocoder import Geocoder\n",
    "import pandas as pd\n",
    "import io\n",
    "import numpy as np\n",
    "import seaborn as sns\n",
    "from sklearn.metrics import log_loss, roc_auc_score\n",
    "import pickle\n",
    "from sklearn.model_selection import train_test_split\n",
    "import math\n",
    "import re\n",
    "import reverse_geocoder as rg\n",
    "from datetime import *\n",
    "from scipy import stats\n",
    "import dateutil.parser\n",
    "from sklearn.linear_model import LogisticRegression\n",
    "from sklearn.metrics import accuracy_score, confusion_matrix, f1_score\n",
    "from sklearn.model_selection import StratifiedKFold\n",
    "from IPython.display import display\n",
    "from sklearn import preprocessing\n",
    "from googletrans import Translator\n",
    "import matplotlib.pyplot as plt\n",
    "from sklearn.model_selection import cross_val_score\n",
    "from IPython.core.interactiveshell import InteractiveShell\n",
    "import goslate\n",
    "InteractiveShell.ast_node_interactivity = \"all\"\n",
    "%matplotlib inline\n",
    "%config InlineBackend.figure_format = 'png'\n",
    "\n",
    "plt.rcParams['figure.dpi']= 450"
   ]
  },
  {
   "cell_type": "code",
   "execution_count": 2,
   "metadata": {
    "ExecuteTime": {
     "end_time": "2018-05-12T18:33:28.857678Z",
     "start_time": "2018-05-12T18:33:28.731032Z"
    }
   },
   "outputs": [
    {
     "name": "stderr",
     "output_type": "stream",
     "text": [
      "/anaconda3/lib/python3.6/site-packages/psycopg2/__init__.py:144: UserWarning: The psycopg2 wheel package will be renamed from release 2.8; in order to keep installing from binary please use \"pip install psycopg2-binary\" instead. For details see: <http://initd.org/psycopg/docs/install.html#binary-install-from-pypi>.\n",
      "  \"\"\")\n"
     ]
    }
   ],
   "source": [
    "#Connecting to SQL database on an AWS EC2 instance\n",
    "from sqlalchemy import create_engine\n",
    "import pandas as pdb\n",
    "cnx = create_engine('postgresql://djmor@34.234.69.231/djmor')"
   ]
  },
  {
   "cell_type": "code",
   "execution_count": 3,
   "metadata": {
    "ExecuteTime": {
     "end_time": "2018-05-12T18:33:30.227340Z",
     "start_time": "2018-05-12T18:33:28.859532Z"
    }
   },
   "outputs": [],
   "source": [
    "#Loading in coordinates to fast track reverse geocoding\n",
    "geo = rg.RGeocoder(mode=2, verbose=True, stream=io.StringIO(open('rg_cities1000.csv', encoding='utf-8').read()))"
   ]
  },
  {
   "cell_type": "code",
   "execution_count": 4,
   "metadata": {
    "ExecuteTime": {
     "end_time": "2018-05-12T18:33:30.234401Z",
     "start_time": "2018-05-12T18:33:30.229452Z"
    }
   },
   "outputs": [],
   "source": [
    "#List of classification types \n",
    "classes = {'F23-':0, 'F24-26':1,'F27-28':2,'F29-32':3, 'F33-42':4, 'F43+':5, 'M22-':6, 'M23-26':7, 'M27-28':8, 'M29-31':9, 'M32-38':10, 'M39+':11}\n",
    "clas = ['F23-', 'F24-26','F27-28','F29-32', 'F33-42', 'F43+', 'M22-', 'M23-26', 'M27-28', 'M29-31', 'M32-38', 'M39+']\n",
    "           "
   ]
  },
  {
   "cell_type": "code",
   "execution_count": 5,
   "metadata": {
    "ExecuteTime": {
     "end_time": "2018-05-12T18:33:51.365086Z",
     "start_time": "2018-05-12T18:33:30.236084Z"
    }
   },
   "outputs": [],
   "source": [
    "#Creating all the data frames\n",
    "device_brand = pd.read_csv('phone_brand_device_model.csv')\n",
    "applabeldf = pd.read_csv('app_labels.csv')\n",
    "labelcat = pd.read_csv('label_categories.csv')\n",
    "genderdf = pd.read_csv('gender_age_train.csv')\n",
    "eventsdf = pd.read_csv('~/Documents/events.csv')\n",
    "appevents = pd.read_csv('~/Documents/app_events.csv')\n",
    "testdf = pd.read_csv('gender_age_test.csv')"
   ]
  },
  {
   "cell_type": "code",
   "execution_count": 6,
   "metadata": {
    "ExecuteTime": {
     "end_time": "2018-05-12T18:33:51.383338Z",
     "start_time": "2018-05-12T18:33:51.367004Z"
    }
   },
   "outputs": [
    {
     "data": {
      "text/html": [
       "<div>\n",
       "<style scoped>\n",
       "    .dataframe tbody tr th:only-of-type {\n",
       "        vertical-align: middle;\n",
       "    }\n",
       "\n",
       "    .dataframe tbody tr th {\n",
       "        vertical-align: top;\n",
       "    }\n",
       "\n",
       "    .dataframe thead th {\n",
       "        text-align: right;\n",
       "    }\n",
       "</style>\n",
       "<table border=\"1\" class=\"dataframe\">\n",
       "  <thead>\n",
       "    <tr style=\"text-align: right;\">\n",
       "      <th></th>\n",
       "      <th>device_id</th>\n",
       "    </tr>\n",
       "  </thead>\n",
       "  <tbody>\n",
       "    <tr>\n",
       "      <th>0</th>\n",
       "      <td>1002079943728939269</td>\n",
       "    </tr>\n",
       "    <tr>\n",
       "      <th>1</th>\n",
       "      <td>-1547860181818787117</td>\n",
       "    </tr>\n",
       "    <tr>\n",
       "      <th>2</th>\n",
       "      <td>7374582448058474277</td>\n",
       "    </tr>\n",
       "    <tr>\n",
       "      <th>3</th>\n",
       "      <td>-6220210354783429585</td>\n",
       "    </tr>\n",
       "    <tr>\n",
       "      <th>4</th>\n",
       "      <td>-5893464122623104785</td>\n",
       "    </tr>\n",
       "  </tbody>\n",
       "</table>\n",
       "</div>"
      ],
      "text/plain": [
       "             device_id\n",
       "0  1002079943728939269\n",
       "1 -1547860181818787117\n",
       "2  7374582448058474277\n",
       "3 -6220210354783429585\n",
       "4 -5893464122623104785"
      ]
     },
     "execution_count": 6,
     "metadata": {},
     "output_type": "execute_result"
    },
    {
     "data": {
      "text/html": [
       "<div>\n",
       "<style scoped>\n",
       "    .dataframe tbody tr th:only-of-type {\n",
       "        vertical-align: middle;\n",
       "    }\n",
       "\n",
       "    .dataframe tbody tr th {\n",
       "        vertical-align: top;\n",
       "    }\n",
       "\n",
       "    .dataframe thead th {\n",
       "        text-align: right;\n",
       "    }\n",
       "</style>\n",
       "<table border=\"1\" class=\"dataframe\">\n",
       "  <thead>\n",
       "    <tr style=\"text-align: right;\">\n",
       "      <th></th>\n",
       "      <th>device_id</th>\n",
       "      <th>gender</th>\n",
       "      <th>age</th>\n",
       "      <th>group</th>\n",
       "    </tr>\n",
       "  </thead>\n",
       "  <tbody>\n",
       "    <tr>\n",
       "      <th>0</th>\n",
       "      <td>-8076087639492063270</td>\n",
       "      <td>M</td>\n",
       "      <td>35</td>\n",
       "      <td>M32-38</td>\n",
       "    </tr>\n",
       "    <tr>\n",
       "      <th>1</th>\n",
       "      <td>-2897161552818060146</td>\n",
       "      <td>M</td>\n",
       "      <td>35</td>\n",
       "      <td>M32-38</td>\n",
       "    </tr>\n",
       "    <tr>\n",
       "      <th>2</th>\n",
       "      <td>-8260683887967679142</td>\n",
       "      <td>M</td>\n",
       "      <td>35</td>\n",
       "      <td>M32-38</td>\n",
       "    </tr>\n",
       "    <tr>\n",
       "      <th>3</th>\n",
       "      <td>-4938849341048082022</td>\n",
       "      <td>M</td>\n",
       "      <td>30</td>\n",
       "      <td>M29-31</td>\n",
       "    </tr>\n",
       "    <tr>\n",
       "      <th>4</th>\n",
       "      <td>245133531816851882</td>\n",
       "      <td>M</td>\n",
       "      <td>30</td>\n",
       "      <td>M29-31</td>\n",
       "    </tr>\n",
       "  </tbody>\n",
       "</table>\n",
       "</div>"
      ],
      "text/plain": [
       "             device_id gender  age   group\n",
       "0 -8076087639492063270      M   35  M32-38\n",
       "1 -2897161552818060146      M   35  M32-38\n",
       "2 -8260683887967679142      M   35  M32-38\n",
       "3 -4938849341048082022      M   30  M29-31\n",
       "4   245133531816851882      M   30  M29-31"
      ]
     },
     "execution_count": 6,
     "metadata": {},
     "output_type": "execute_result"
    }
   ],
   "source": [
    "testdf.head()\n",
    "genderdf.head()\n"
   ]
  },
  {
   "cell_type": "code",
   "execution_count": 7,
   "metadata": {
    "ExecuteTime": {
     "end_time": "2018-05-12T18:33:51.447420Z",
     "start_time": "2018-05-12T18:33:51.385035Z"
    }
   },
   "outputs": [],
   "source": [
    "device_brand = device_brand.drop_duplicates('device_id',keep='first')\n",
    "testdf = testdf.drop_duplicates('device_id',keep='first')\n",
    "genderdf.group = genderdf.group.map(classes)"
   ]
  },
  {
   "cell_type": "code",
   "execution_count": 8,
   "metadata": {
    "ExecuteTime": {
     "end_time": "2018-05-12T18:33:51.485694Z",
     "start_time": "2018-05-12T18:33:51.449294Z"
    },
    "scrolled": true
   },
   "outputs": [
    {
     "data": {
      "text/html": [
       "<div>\n",
       "<style scoped>\n",
       "    .dataframe tbody tr th:only-of-type {\n",
       "        vertical-align: middle;\n",
       "    }\n",
       "\n",
       "    .dataframe tbody tr th {\n",
       "        vertical-align: top;\n",
       "    }\n",
       "\n",
       "    .dataframe thead th {\n",
       "        text-align: right;\n",
       "    }\n",
       "</style>\n",
       "<table border=\"1\" class=\"dataframe\">\n",
       "  <thead>\n",
       "    <tr style=\"text-align: right;\">\n",
       "      <th></th>\n",
       "      <th>device_id</th>\n",
       "      <th>phone_brand</th>\n",
       "      <th>device_model</th>\n",
       "    </tr>\n",
       "  </thead>\n",
       "  <tbody>\n",
       "    <tr>\n",
       "      <th>0</th>\n",
       "      <td>-8890648629457979026</td>\n",
       "      <td>小米</td>\n",
       "      <td>红米</td>\n",
       "    </tr>\n",
       "    <tr>\n",
       "      <th>1</th>\n",
       "      <td>1277779817574759137</td>\n",
       "      <td>小米</td>\n",
       "      <td>MI 2</td>\n",
       "    </tr>\n",
       "    <tr>\n",
       "      <th>2</th>\n",
       "      <td>5137427614288105724</td>\n",
       "      <td>三星</td>\n",
       "      <td>Galaxy S4</td>\n",
       "    </tr>\n",
       "    <tr>\n",
       "      <th>3</th>\n",
       "      <td>3669464369358936369</td>\n",
       "      <td>SUGAR</td>\n",
       "      <td>时尚手机</td>\n",
       "    </tr>\n",
       "    <tr>\n",
       "      <th>4</th>\n",
       "      <td>-5019277647504317457</td>\n",
       "      <td>三星</td>\n",
       "      <td>Galaxy Note 2</td>\n",
       "    </tr>\n",
       "  </tbody>\n",
       "</table>\n",
       "</div>"
      ],
      "text/plain": [
       "             device_id phone_brand   device_model\n",
       "0 -8890648629457979026          小米             红米\n",
       "1  1277779817574759137          小米           MI 2\n",
       "2  5137427614288105724          三星      Galaxy S4\n",
       "3  3669464369358936369       SUGAR           时尚手机\n",
       "4 -5019277647504317457          三星  Galaxy Note 2"
      ]
     },
     "execution_count": 8,
     "metadata": {},
     "output_type": "execute_result"
    },
    {
     "data": {
      "text/html": [
       "<div>\n",
       "<style scoped>\n",
       "    .dataframe tbody tr th:only-of-type {\n",
       "        vertical-align: middle;\n",
       "    }\n",
       "\n",
       "    .dataframe tbody tr th {\n",
       "        vertical-align: top;\n",
       "    }\n",
       "\n",
       "    .dataframe thead th {\n",
       "        text-align: right;\n",
       "    }\n",
       "</style>\n",
       "<table border=\"1\" class=\"dataframe\">\n",
       "  <thead>\n",
       "    <tr style=\"text-align: right;\">\n",
       "      <th></th>\n",
       "      <th>event_id</th>\n",
       "      <th>app_id</th>\n",
       "      <th>is_installed</th>\n",
       "      <th>is_active</th>\n",
       "    </tr>\n",
       "  </thead>\n",
       "  <tbody>\n",
       "    <tr>\n",
       "      <th>0</th>\n",
       "      <td>2</td>\n",
       "      <td>5927333115845830913</td>\n",
       "      <td>1</td>\n",
       "      <td>1</td>\n",
       "    </tr>\n",
       "    <tr>\n",
       "      <th>1</th>\n",
       "      <td>2</td>\n",
       "      <td>-5720078949152207372</td>\n",
       "      <td>1</td>\n",
       "      <td>0</td>\n",
       "    </tr>\n",
       "    <tr>\n",
       "      <th>2</th>\n",
       "      <td>2</td>\n",
       "      <td>-1633887856876571208</td>\n",
       "      <td>1</td>\n",
       "      <td>0</td>\n",
       "    </tr>\n",
       "    <tr>\n",
       "      <th>3</th>\n",
       "      <td>2</td>\n",
       "      <td>-653184325010919369</td>\n",
       "      <td>1</td>\n",
       "      <td>1</td>\n",
       "    </tr>\n",
       "    <tr>\n",
       "      <th>4</th>\n",
       "      <td>2</td>\n",
       "      <td>8693964245073640147</td>\n",
       "      <td>1</td>\n",
       "      <td>1</td>\n",
       "    </tr>\n",
       "  </tbody>\n",
       "</table>\n",
       "</div>"
      ],
      "text/plain": [
       "   event_id               app_id  is_installed  is_active\n",
       "0         2  5927333115845830913             1          1\n",
       "1         2 -5720078949152207372             1          0\n",
       "2         2 -1633887856876571208             1          0\n",
       "3         2  -653184325010919369             1          1\n",
       "4         2  8693964245073640147             1          1"
      ]
     },
     "execution_count": 8,
     "metadata": {},
     "output_type": "execute_result"
    },
    {
     "data": {
      "text/html": [
       "<div>\n",
       "<style scoped>\n",
       "    .dataframe tbody tr th:only-of-type {\n",
       "        vertical-align: middle;\n",
       "    }\n",
       "\n",
       "    .dataframe tbody tr th {\n",
       "        vertical-align: top;\n",
       "    }\n",
       "\n",
       "    .dataframe thead th {\n",
       "        text-align: right;\n",
       "    }\n",
       "</style>\n",
       "<table border=\"1\" class=\"dataframe\">\n",
       "  <thead>\n",
       "    <tr style=\"text-align: right;\">\n",
       "      <th></th>\n",
       "      <th>label_id</th>\n",
       "      <th>category</th>\n",
       "    </tr>\n",
       "  </thead>\n",
       "  <tbody>\n",
       "    <tr>\n",
       "      <th>0</th>\n",
       "      <td>1</td>\n",
       "      <td>NaN</td>\n",
       "    </tr>\n",
       "    <tr>\n",
       "      <th>1</th>\n",
       "      <td>2</td>\n",
       "      <td>game-game type</td>\n",
       "    </tr>\n",
       "    <tr>\n",
       "      <th>2</th>\n",
       "      <td>3</td>\n",
       "      <td>game-Game themes</td>\n",
       "    </tr>\n",
       "    <tr>\n",
       "      <th>3</th>\n",
       "      <td>4</td>\n",
       "      <td>game-Art Style</td>\n",
       "    </tr>\n",
       "    <tr>\n",
       "      <th>4</th>\n",
       "      <td>5</td>\n",
       "      <td>game-Leisure time</td>\n",
       "    </tr>\n",
       "  </tbody>\n",
       "</table>\n",
       "</div>"
      ],
      "text/plain": [
       "   label_id           category\n",
       "0         1                NaN\n",
       "1         2     game-game type\n",
       "2         3   game-Game themes\n",
       "3         4     game-Art Style\n",
       "4         5  game-Leisure time"
      ]
     },
     "execution_count": 8,
     "metadata": {},
     "output_type": "execute_result"
    },
    {
     "data": {
      "text/html": [
       "<div>\n",
       "<style scoped>\n",
       "    .dataframe tbody tr th:only-of-type {\n",
       "        vertical-align: middle;\n",
       "    }\n",
       "\n",
       "    .dataframe tbody tr th {\n",
       "        vertical-align: top;\n",
       "    }\n",
       "\n",
       "    .dataframe thead th {\n",
       "        text-align: right;\n",
       "    }\n",
       "</style>\n",
       "<table border=\"1\" class=\"dataframe\">\n",
       "  <thead>\n",
       "    <tr style=\"text-align: right;\">\n",
       "      <th></th>\n",
       "      <th>event_id</th>\n",
       "      <th>device_id</th>\n",
       "      <th>timestamp</th>\n",
       "      <th>longitude</th>\n",
       "      <th>latitude</th>\n",
       "    </tr>\n",
       "  </thead>\n",
       "  <tbody>\n",
       "    <tr>\n",
       "      <th>0</th>\n",
       "      <td>1</td>\n",
       "      <td>29182687948017175</td>\n",
       "      <td>2016-05-01 00:55:25</td>\n",
       "      <td>121.38</td>\n",
       "      <td>31.24</td>\n",
       "    </tr>\n",
       "    <tr>\n",
       "      <th>1</th>\n",
       "      <td>2</td>\n",
       "      <td>-6401643145415154744</td>\n",
       "      <td>2016-05-01 00:54:12</td>\n",
       "      <td>103.65</td>\n",
       "      <td>30.97</td>\n",
       "    </tr>\n",
       "    <tr>\n",
       "      <th>2</th>\n",
       "      <td>3</td>\n",
       "      <td>-4833982096941402721</td>\n",
       "      <td>2016-05-01 00:08:05</td>\n",
       "      <td>106.60</td>\n",
       "      <td>29.70</td>\n",
       "    </tr>\n",
       "    <tr>\n",
       "      <th>3</th>\n",
       "      <td>4</td>\n",
       "      <td>-6815121365017318426</td>\n",
       "      <td>2016-05-01 00:06:40</td>\n",
       "      <td>104.27</td>\n",
       "      <td>23.28</td>\n",
       "    </tr>\n",
       "    <tr>\n",
       "      <th>4</th>\n",
       "      <td>5</td>\n",
       "      <td>-5373797595892518570</td>\n",
       "      <td>2016-05-01 00:07:18</td>\n",
       "      <td>115.88</td>\n",
       "      <td>28.66</td>\n",
       "    </tr>\n",
       "  </tbody>\n",
       "</table>\n",
       "</div>"
      ],
      "text/plain": [
       "   event_id            device_id            timestamp  longitude  latitude\n",
       "0         1    29182687948017175  2016-05-01 00:55:25     121.38     31.24\n",
       "1         2 -6401643145415154744  2016-05-01 00:54:12     103.65     30.97\n",
       "2         3 -4833982096941402721  2016-05-01 00:08:05     106.60     29.70\n",
       "3         4 -6815121365017318426  2016-05-01 00:06:40     104.27     23.28\n",
       "4         5 -5373797595892518570  2016-05-01 00:07:18     115.88     28.66"
      ]
     },
     "execution_count": 8,
     "metadata": {},
     "output_type": "execute_result"
    },
    {
     "data": {
      "text/html": [
       "<div>\n",
       "<style scoped>\n",
       "    .dataframe tbody tr th:only-of-type {\n",
       "        vertical-align: middle;\n",
       "    }\n",
       "\n",
       "    .dataframe tbody tr th {\n",
       "        vertical-align: top;\n",
       "    }\n",
       "\n",
       "    .dataframe thead th {\n",
       "        text-align: right;\n",
       "    }\n",
       "</style>\n",
       "<table border=\"1\" class=\"dataframe\">\n",
       "  <thead>\n",
       "    <tr style=\"text-align: right;\">\n",
       "      <th></th>\n",
       "      <th>app_id</th>\n",
       "      <th>label_id</th>\n",
       "    </tr>\n",
       "  </thead>\n",
       "  <tbody>\n",
       "    <tr>\n",
       "      <th>0</th>\n",
       "      <td>7324884708820027918</td>\n",
       "      <td>251</td>\n",
       "    </tr>\n",
       "    <tr>\n",
       "      <th>1</th>\n",
       "      <td>-4494216993218550286</td>\n",
       "      <td>251</td>\n",
       "    </tr>\n",
       "    <tr>\n",
       "      <th>2</th>\n",
       "      <td>6058196446775239644</td>\n",
       "      <td>406</td>\n",
       "    </tr>\n",
       "    <tr>\n",
       "      <th>3</th>\n",
       "      <td>6058196446775239644</td>\n",
       "      <td>407</td>\n",
       "    </tr>\n",
       "    <tr>\n",
       "      <th>4</th>\n",
       "      <td>8694625920731541625</td>\n",
       "      <td>406</td>\n",
       "    </tr>\n",
       "  </tbody>\n",
       "</table>\n",
       "</div>"
      ],
      "text/plain": [
       "                app_id  label_id\n",
       "0  7324884708820027918       251\n",
       "1 -4494216993218550286       251\n",
       "2  6058196446775239644       406\n",
       "3  6058196446775239644       407\n",
       "4  8694625920731541625       406"
      ]
     },
     "execution_count": 8,
     "metadata": {},
     "output_type": "execute_result"
    }
   ],
   "source": [
    "#Getting an idea on how each df connects with each other\n",
    "device_brand.head()\n",
    "appevents.head()\n",
    "labelcat.head()\n",
    "eventsdf.head()\n",
    "applabeldf.head()"
   ]
  },
  {
   "cell_type": "code",
   "execution_count": 9,
   "metadata": {
    "ExecuteTime": {
     "end_time": "2018-05-12T18:33:51.493195Z",
     "start_time": "2018-05-12T18:33:51.487390Z"
    },
    "code_folding": []
   },
   "outputs": [],
   "source": [
    "#Translating Phone brand to English for easier comprehension\n",
    "translate = {'三星':'samsung','天语':'Ktouch','海信':'hisense','联想':'lenovo','欧比':'obi','爱派尔':'ipair','努比亚':'nubia',\\\n",
    "             '优米':'youmi','朵唯':'dowe','黑米':'heymi','锤子':'hammer','酷比魔方':'koobee','美图':'meitu','尼比鲁':'nibilu','一加':'oneplus','优购':'yougo',\\\n",
    "             '诺基亚':'nokia','金立':'jinli','中兴':'zhongxing','糖葫芦':'candy','中国移动':'ccmc','语信':'yuxin','基伍':'kiwu','青橙':'greeno','华硕':'asus',\\\n",
    "             '夏新':'panosonic','维图':'weitu','艾优尼':'aiyouni','摩托罗拉':'moto','乡米':'xiangmi','米奇':'micky','大可乐':'bigcola',\\\n",
    "             '沃普丰':'wpf','神舟':'hasse','摩乐':'mole','酷派':'kupai','飞秒':'fs','米歌':'mige','富可视':'fks','德赛':'desci','梦米':'mengmi','乐视':'lshi','小杨树':'smallt','纽曼':'newman','邦华':'banghua',\\\n",
    "             'E派':'epai','华为':'Huawei','小米':'xiaomi','魅族':'meizu', '易派':'epai','普耐尔':'pner','欧新':'ouxin','西米':'ximi','海尔':'haier','波导':'bodao','糯米':'nuomi','唯米':'weimi','酷珀':'kupo','谷歌':'google','昂达':'ada','聆韵': 'lingyun'}"
   ]
  },
  {
   "cell_type": "code",
   "execution_count": 10,
   "metadata": {
    "ExecuteTime": {
     "end_time": "2018-05-12T18:33:51.649287Z",
     "start_time": "2018-05-12T18:33:51.495105Z"
    }
   },
   "outputs": [],
   "source": [
    "#Translating phone brand from Chinese to English, can't map because not all models are in chinese(or in translate)\n",
    "translate_list=[]\n",
    "for index, i in enumerate(device_brand['phone_brand']):\n",
    "    if i in translate:\n",
    "        translate_list.append(translate[i])\n",
    "    else:\n",
    "        translate_list.append(i)"
   ]
  },
  {
   "cell_type": "code",
   "execution_count": 11,
   "metadata": {
    "ExecuteTime": {
     "end_time": "2018-05-12T18:33:51.765555Z",
     "start_time": "2018-05-12T18:33:51.651197Z"
    }
   },
   "outputs": [
    {
     "data": {
      "text/plain": [
       "186716"
      ]
     },
     "execution_count": 11,
     "metadata": {},
     "output_type": "execute_result"
    }
   ],
   "source": [
    "len(device_brand.phone_brand)\n",
    "device_brand['phone_brand']=translate_list\n"
   ]
  },
  {
   "cell_type": "markdown",
   "metadata": {
    "heading_collapsed": true
   },
   "source": [
    "### Data Wrangling\n",
    "\n",
    "Below is the code for wrangling the data out of eventsdf.  I saved it as a pickle file, so it is no longer needed."
   ]
  },
  {
   "cell_type": "code",
   "execution_count": null,
   "metadata": {
    "ExecuteTime": {
     "end_time": "2018-05-10T23:52:34.781605Z",
     "start_time": "2018-05-10T23:52:29.604Z"
    },
    "hidden": true
   },
   "outputs": [],
   "source": [
    "#Using an offline reverse geocoder to get city and country data, also this takes a long time to run...\n",
    "counter =0\n",
    "eventsdf['city'] = ''\n",
    "tup_ls = []\n",
    "for i,j in zip(eventsdf['latitude'],eventsdf['longitude']):\n",
    "        lalong = (i,j)\n",
    "        tup_ls.append(lalong)\n",
    "\n",
    "\n"
   ]
  },
  {
   "cell_type": "code",
   "execution_count": null,
   "metadata": {
    "ExecuteTime": {
     "end_time": "2018-05-10T23:52:34.782410Z",
     "start_time": "2018-05-10T23:52:30.205Z"
    },
    "hidden": true
   },
   "outputs": [],
   "source": [
    "q_list = geo.query(tup_ls)\n",
    "name_l = []\n",
    "cc_l = []\n",
    "for q in q_list:\n",
    "    name_l.append(q['name'])\n",
    "    cc_l.append(q['cc'])"
   ]
  },
  {
   "cell_type": "code",
   "execution_count": null,
   "metadata": {
    "ExecuteTime": {
     "end_time": "2018-05-10T23:52:34.783198Z",
     "start_time": "2018-05-10T23:52:30.748Z"
    },
    "hidden": true
   },
   "outputs": [],
   "source": [
    "eventsdf['city'] = name_l\n",
    "eventsdf['cc'] = cc_l"
   ]
  },
  {
   "cell_type": "code",
   "execution_count": null,
   "metadata": {
    "ExecuteTime": {
     "end_time": "2018-05-10T23:52:34.783998Z",
     "start_time": "2018-05-10T23:52:31.149Z"
    },
    "hidden": true
   },
   "outputs": [],
   "source": [
    "#Filling NaN with none for better processing\n",
    "labelcat.fillna('None', inplace = True)"
   ]
  },
  {
   "cell_type": "code",
   "execution_count": null,
   "metadata": {
    "ExecuteTime": {
     "end_time": "2018-05-10T23:52:34.785344Z",
     "start_time": "2018-05-10T23:52:31.500Z"
    },
    "hidden": true
   },
   "outputs": [],
   "source": [
    "#Pulling out Month data\n",
    "eventsdf['time_dl'] = eventsdf['timestamp'].apply(lambda x: datetime.strptime(x, '%Y-%m-%d  %H:%M:%S').time())\n",
    "eventsdf['wkday'] = eventsdf['timestamp'].apply(lambda x: datetime.strptime(x, '%Y-%m-%d  %H:%M:%S').weekday())"
   ]
  },
  {
   "cell_type": "code",
   "execution_count": null,
   "metadata": {
    "ExecuteTime": {
     "end_time": "2018-05-07T20:25:38.959496Z",
     "start_time": "2018-05-07T20:22:06.295Z"
    },
    "hidden": true
   },
   "outputs": [],
   "source": [
    "#Writing a pickle file to save data\n",
    "\n",
    "with open('eventsdf.pkl', 'wb') as picklefile:\n",
    "    pickle.dump(eventsdf, picklefile)"
   ]
  },
  {
   "cell_type": "code",
   "execution_count": null,
   "metadata": {
    "ExecuteTime": {
     "end_time": "2018-05-10T15:09:37.852729Z",
     "start_time": "2018-05-10T15:09:37.834645Z"
    },
    "hidden": true
   },
   "outputs": [],
   "source": [
    "eventsdf.shape"
   ]
  },
  {
   "cell_type": "markdown",
   "metadata": {},
   "source": [
    "## Merging the Data\n",
    "\n",
    "This section may become obsolete after I get the SQL database going, but as for now, it exists.***Delete Eventually***\n",
    "\n",
    "I will be using Inner joins to merge the data frames.  My guess is that both training and test data is in each of the auxilary columns, so I only want the intersection of the training dataframe and the auxilary dataframes.\n",
    "\n",
    "In this section, I also added some extra data.  I pulled out the datetime string and converted into into a readable datetime object.  The time of day and day of the week may not make much of a difference.  It depends on the culture of the society."
   ]
  },
  {
   "cell_type": "code",
   "execution_count": 12,
   "metadata": {
    "ExecuteTime": {
     "end_time": "2018-05-12T18:33:54.971093Z",
     "start_time": "2018-05-12T18:33:51.767442Z"
    }
   },
   "outputs": [],
   "source": [
    "#Loading DF into jupyter notebook\n",
    "eventsdf = pd.read_pickle('eventsdf.pkl')\n",
    "eventsdf = eventsdf[eventsdf['cc'] == \"CN\"]"
   ]
  },
  {
   "cell_type": "code",
   "execution_count": 13,
   "metadata": {
    "ExecuteTime": {
     "end_time": "2018-05-12T18:33:54.986820Z",
     "start_time": "2018-05-12T18:33:54.973316Z"
    }
   },
   "outputs": [],
   "source": [
    "def supermerge(dfleft):\n",
    "    result = pd.merge(dfleft, device_brand, how = 'inner', on = 'device_id')\n",
    "    print(len(result))\n",
    "    result = pd.merge(result, eventsdf, how = 'inner', on = 'device_id')\n",
    "    print(len(result))\n",
    "    result = pd.merge(result, appevents, how = 'inner', on = 'event_id')\n",
    "    print(len(result))\n",
    "    result = pd.merge(result, applabeldf, how = 'inner', on = 'app_id')\n",
    "    print(len(result))\n",
    "    result = pd.merge(result, labelcat, how = 'inner', on = 'label_id')\n",
    "    print(len(result))\n",
    "    return result"
   ]
  },
  {
   "cell_type": "code",
   "execution_count": 14,
   "metadata": {
    "ExecuteTime": {
     "end_time": "2018-05-12T18:34:31.270248Z",
     "start_time": "2018-05-12T18:33:54.988684Z"
    }
   },
   "outputs": [
    {
     "name": "stdout",
     "output_type": "stream",
     "text": [
      "74645\n",
      "828454\n",
      "4793232\n",
      "31292777\n",
      "31292777\n"
     ]
    }
   ],
   "source": [
    "traindf = supermerge(genderdf)"
   ]
  },
  {
   "cell_type": "code",
   "execution_count": 15,
   "metadata": {
    "ExecuteTime": {
     "end_time": "2018-05-12T18:35:05.596302Z",
     "start_time": "2018-05-12T18:34:31.272336Z"
    }
   },
   "outputs": [],
   "source": [
    "traindf.drop(['gender','age', 'longitude', 'latitude','label_id','event_id', 'time_dl','timestamp','cc', 'is_installed','device_id'], axis=1, inplace = True)\n",
    "traindf.app_id = traindf.app_id.apply(lambda x: str(x))\n"
   ]
  },
  {
   "cell_type": "code",
   "execution_count": 16,
   "metadata": {
    "ExecuteTime": {
     "end_time": "2018-05-12T18:35:05.615364Z",
     "start_time": "2018-05-12T18:35:05.598195Z"
    }
   },
   "outputs": [
    {
     "data": {
      "text/html": [
       "<div>\n",
       "<style scoped>\n",
       "    .dataframe tbody tr th:only-of-type {\n",
       "        vertical-align: middle;\n",
       "    }\n",
       "\n",
       "    .dataframe tbody tr th {\n",
       "        vertical-align: top;\n",
       "    }\n",
       "\n",
       "    .dataframe thead th {\n",
       "        text-align: right;\n",
       "    }\n",
       "</style>\n",
       "<table border=\"1\" class=\"dataframe\">\n",
       "  <thead>\n",
       "    <tr style=\"text-align: right;\">\n",
       "      <th></th>\n",
       "      <th>group</th>\n",
       "      <th>phone_brand</th>\n",
       "      <th>device_model</th>\n",
       "      <th>city</th>\n",
       "      <th>wkday</th>\n",
       "      <th>app_id</th>\n",
       "      <th>is_active</th>\n",
       "      <th>category</th>\n",
       "    </tr>\n",
       "  </thead>\n",
       "  <tbody>\n",
       "    <tr>\n",
       "      <th>0</th>\n",
       "      <td>4</td>\n",
       "      <td>Huawei</td>\n",
       "      <td>荣耀6 plus</td>\n",
       "      <td>Jincheng</td>\n",
       "      <td>2</td>\n",
       "      <td>4307993802327364720</td>\n",
       "      <td>0</td>\n",
       "      <td>Internet Banking</td>\n",
       "    </tr>\n",
       "    <tr>\n",
       "      <th>1</th>\n",
       "      <td>4</td>\n",
       "      <td>Huawei</td>\n",
       "      <td>荣耀6 plus</td>\n",
       "      <td>Jincheng</td>\n",
       "      <td>2</td>\n",
       "      <td>4307993802327364720</td>\n",
       "      <td>0</td>\n",
       "      <td>Internet Banking</td>\n",
       "    </tr>\n",
       "    <tr>\n",
       "      <th>2</th>\n",
       "      <td>10</td>\n",
       "      <td>Huawei</td>\n",
       "      <td>Ascend P8</td>\n",
       "      <td>Xixing</td>\n",
       "      <td>3</td>\n",
       "      <td>4307993802327364720</td>\n",
       "      <td>0</td>\n",
       "      <td>Internet Banking</td>\n",
       "    </tr>\n",
       "    <tr>\n",
       "      <th>3</th>\n",
       "      <td>10</td>\n",
       "      <td>Huawei</td>\n",
       "      <td>Ascend P8</td>\n",
       "      <td>Xixing</td>\n",
       "      <td>5</td>\n",
       "      <td>4307993802327364720</td>\n",
       "      <td>0</td>\n",
       "      <td>Internet Banking</td>\n",
       "    </tr>\n",
       "    <tr>\n",
       "      <th>4</th>\n",
       "      <td>10</td>\n",
       "      <td>Huawei</td>\n",
       "      <td>Ascend P8</td>\n",
       "      <td>Hangzhou</td>\n",
       "      <td>2</td>\n",
       "      <td>4307993802327364720</td>\n",
       "      <td>0</td>\n",
       "      <td>Internet Banking</td>\n",
       "    </tr>\n",
       "  </tbody>\n",
       "</table>\n",
       "</div>"
      ],
      "text/plain": [
       "   group phone_brand device_model      city  wkday               app_id  \\\n",
       "0      4      Huawei     荣耀6 plus  Jincheng      2  4307993802327364720   \n",
       "1      4      Huawei     荣耀6 plus  Jincheng      2  4307993802327364720   \n",
       "2     10      Huawei    Ascend P8    Xixing      3  4307993802327364720   \n",
       "3     10      Huawei    Ascend P8    Xixing      5  4307993802327364720   \n",
       "4     10      Huawei    Ascend P8  Hangzhou      2  4307993802327364720   \n",
       "\n",
       "   is_active          category  \n",
       "0          0  Internet Banking  \n",
       "1          0  Internet Banking  \n",
       "2          0  Internet Banking  \n",
       "3          0  Internet Banking  \n",
       "4          0  Internet Banking  "
      ]
     },
     "execution_count": 16,
     "metadata": {},
     "output_type": "execute_result"
    }
   ],
   "source": [
    "traindf.head()"
   ]
  },
  {
   "cell_type": "markdown",
   "metadata": {},
   "source": [
    "## Preprocessing\n",
    "\n",
    "The data has many categorical variables that we are using, so a little preprocessing is needed.  I will be using OneHotEncoder to do this for me."
   ]
  },
  {
   "cell_type": "code",
   "execution_count": 17,
   "metadata": {
    "ExecuteTime": {
     "end_time": "2018-05-12T18:35:11.010176Z",
     "start_time": "2018-05-12T18:35:05.617430Z"
    }
   },
   "outputs": [],
   "source": [
    "#split X and y into training and testing sets\n",
    "from sklearn import preprocessing\n",
    "y = traindf['group']\n",
    "X= traindf.drop(['group'], axis=1)\n"
   ]
  },
  {
   "cell_type": "code",
   "execution_count": 18,
   "metadata": {
    "ExecuteTime": {
     "end_time": "2018-05-12T18:35:11.016729Z",
     "start_time": "2018-05-12T18:35:11.012021Z"
    }
   },
   "outputs": [],
   "source": [
    "def trans(df):\n",
    "    for column in df.columns:\n",
    "        if df[column].dtype == type(object):\n",
    "            le = preprocessing.LabelEncoder()\n",
    "            df[column] = le.fit_transform(df[column])\n",
    "    return df"
   ]
  },
  {
   "cell_type": "code",
   "execution_count": 19,
   "metadata": {
    "ExecuteTime": {
     "end_time": "2018-05-12T18:37:40.982249Z",
     "start_time": "2018-05-12T18:35:11.018737Z"
    }
   },
   "outputs": [],
   "source": [
    "#encoding the values for easy decision tree use\n",
    "newtraindf = trans(X)"
   ]
  },
  {
   "cell_type": "markdown",
   "metadata": {},
   "source": [
    "### Undersampling to even out imbalanced classes\n",
    "\n",
    "The undersampling method of Cluster centroids will be employed to tame the imblanced classes."
   ]
  },
  {
   "cell_type": "code",
   "execution_count": 20,
   "metadata": {
    "ExecuteTime": {
     "end_time": "2018-05-12T18:37:41.101138Z",
     "start_time": "2018-05-12T18:37:40.984042Z"
    }
   },
   "outputs": [],
   "source": [
    "from imblearn.under_sampling import RandomUnderSampler\n",
    "rus = RandomUnderSampler(replacement=True, ratio = 'not minority', random_state=0, return_indices = True)"
   ]
  },
  {
   "cell_type": "code",
   "execution_count": 21,
   "metadata": {
    "ExecuteTime": {
     "end_time": "2018-05-12T18:37:57.553178Z",
     "start_time": "2018-05-12T18:37:41.103079Z"
    }
   },
   "outputs": [],
   "source": [
    "X_res, y_res, ind= rus.fit_sample(X,y)"
   ]
  },
  {
   "cell_type": "code",
   "execution_count": 22,
   "metadata": {
    "ExecuteTime": {
     "end_time": "2018-05-12T18:37:58.438409Z",
     "start_time": "2018-05-12T18:37:57.555263Z"
    }
   },
   "outputs": [
    {
     "data": {
      "text/plain": [
       "[Text(0,0,'F23-'),\n",
       " Text(0,0,'F24-26'),\n",
       " Text(0,0,'F27-28'),\n",
       " Text(0,0,'F29-32'),\n",
       " Text(0,0,'F33-42'),\n",
       " Text(0,0,'F43+'),\n",
       " Text(0,0,'M22-'),\n",
       " Text(0,0,'M23-26')]"
      ]
     },
     "execution_count": 22,
     "metadata": {},
     "output_type": "execute_result"
    },
    {
     "data": {
      "text/plain": [
       "[[<matplotlib.axis.XTick at 0x1a76849748>,\n",
       "  <matplotlib.axis.XTick at 0x1a7683d978>,\n",
       "  <matplotlib.axis.XTick at 0x1a76849208>,\n",
       "  <matplotlib.axis.XTick at 0x1a69a57c88>,\n",
       "  <matplotlib.axis.XTick at 0x1a69a47320>,\n",
       "  <matplotlib.axis.XTick at 0x1a69a47978>,\n",
       "  <matplotlib.axis.XTick at 0x1a69a47fd0>,\n",
       "  <matplotlib.axis.XTick at 0x1a69a41668>,\n",
       "  <matplotlib.axis.XTick at 0x1a745c4048>,\n",
       "  <matplotlib.axis.XTick at 0x1a69a41860>,\n",
       "  <matplotlib.axis.XTick at 0x1a69a41c50>,\n",
       "  <matplotlib.axis.XTick at 0x1a69a332e8>],\n",
       " (0, 12)]"
      ]
     },
     "execution_count": 22,
     "metadata": {},
     "output_type": "execute_result"
    },
    {
     "data": {
      "image/png": "[encoded data removed]",
      "text/plain": [
       "<matplotlib.figure.Figure at 0x1a745f10b8>"
      ]
     },
     "metadata": {},
     "output_type": "display_data"
    }
   ],
   "source": [
    "fig = sns.distplot(y_res, kde=False)\n",
    "fig.set_xticklabels(clas,rotation=45)\n",
    "fig.set(xlim = (0,12), xticks = range(12))\n",
    "plt.show()"
   ]
  },
  {
   "cell_type": "code",
   "execution_count": 23,
   "metadata": {
    "ExecuteTime": {
     "end_time": "2018-05-12T18:37:58.443196Z",
     "start_time": "2018-05-12T18:37:58.440189Z"
    }
   },
   "outputs": [],
   "source": [
    "Xy_df = pd.DataFrame(X_res)"
   ]
  },
  {
   "cell_type": "code",
   "execution_count": 24,
   "metadata": {
    "ExecuteTime": {
     "end_time": "2018-05-12T18:37:59.568903Z",
     "start_time": "2018-05-12T18:37:58.444787Z"
    }
   },
   "outputs": [],
   "source": [
    "X_train, X_test, y_train, y_test = train_test_split(Xy_df, y_res, test_size=0.3, random_state=30)"
   ]
  },
  {
   "cell_type": "code",
   "execution_count": 25,
   "metadata": {
    "ExecuteTime": {
     "end_time": "2018-05-12T18:37:59.574149Z",
     "start_time": "2018-05-12T18:37:59.570774Z"
    }
   },
   "outputs": [
    {
     "data": {
      "text/plain": [
       "13423.0"
      ]
     },
     "execution_count": 25,
     "metadata": {},
     "output_type": "execute_result"
    }
   ],
   "source": [
    "(13919+12927)/2"
   ]
  },
  {
   "cell_type": "code",
   "execution_count": 26,
   "metadata": {
    "ExecuteTime": {
     "end_time": "2018-05-12T18:37:59.579740Z",
     "start_time": "2018-05-12T18:37:59.576091Z"
    },
    "code_folding": []
   },
   "outputs": [],
   "source": [
    "#OHE lines, creates a sparse matrix, n_values was found using each sparse matrixs feature length\n",
    "def OHE(Xy_df):\n",
    "    enc = preprocessing.OneHotEncoder(n_values=13423)\n",
    "    newdf = enc.fit_transform(Xy_df)\n",
    "    return newdf\n"
   ]
  },
  {
   "cell_type": "code",
   "execution_count": 27,
   "metadata": {
    "ExecuteTime": {
     "end_time": "2018-05-12T18:38:02.698009Z",
     "start_time": "2018-05-12T18:37:59.581414Z"
    }
   },
   "outputs": [],
   "source": [
    "X_tren = OHE(X_train)\n",
    "X_teen = OHE(X_test)"
   ]
  },
  {
   "cell_type": "code",
   "execution_count": 28,
   "metadata": {
    "ExecuteTime": {
     "end_time": "2018-05-12T18:38:02.706027Z",
     "start_time": "2018-05-12T18:38:02.700059Z"
    }
   },
   "outputs": [
    {
     "data": {
      "text/plain": [
       "<5602884x93961 sparse matrix of type '<class 'numpy.float64'>'\n",
       "\twith 39220188 stored elements in Compressed Sparse Row format>"
      ]
     },
     "execution_count": 28,
     "metadata": {},
     "output_type": "execute_result"
    },
    {
     "data": {
      "text/plain": [
       "<2401236x93961 sparse matrix of type '<class 'numpy.float64'>'\n",
       "\twith 16808652 stored elements in Compressed Sparse Row format>"
      ]
     },
     "execution_count": 28,
     "metadata": {},
     "output_type": "execute_result"
    }
   ],
   "source": [
    "X_tren\n",
    "X_teen"
   ]
  },
  {
   "cell_type": "markdown",
   "metadata": {},
   "source": [
    "## Logistic Classification Analysis\n",
    "\n",
    "The amount of data in the dataframe will make most of the analysis long.  There are 79 million observations, and even splitting it up will make it hard.  Some of the data is in different countries, so dividing it into subsections such as Country, City and Device Brand may make it easier for analysis.  "
   ]
  },
  {
   "cell_type": "code",
   "execution_count": 29,
   "metadata": {
    "ExecuteTime": {
     "end_time": "2018-05-12T18:38:19.153191Z",
     "start_time": "2018-05-12T18:38:19.150332Z"
    }
   },
   "outputs": [],
   "source": [
    "logit = LogisticRegression()\n",
    "score=[]"
   ]
  },
  {
   "cell_type": "code",
   "execution_count": 30,
   "metadata": {
    "ExecuteTime": {
     "end_time": "2018-05-12T20:47:57.048669Z",
     "start_time": "2018-05-12T18:38:19.853500Z"
    }
   },
   "outputs": [
    {
     "data": {
      "text/plain": [
       "LogisticRegression(C=1.0, class_weight=None, dual=False, fit_intercept=True,\n",
       "          intercept_scaling=1, max_iter=100, multi_class='ovr', n_jobs=1,\n",
       "          penalty='l2', random_state=None, solver='liblinear', tol=0.0001,\n",
       "          verbose=0, warm_start=False)"
      ]
     },
     "execution_count": 30,
     "metadata": {},
     "output_type": "execute_result"
    }
   ],
   "source": [
    "logit.fit(X_tren, y_train)"
   ]
  },
  {
   "cell_type": "code",
   "execution_count": 31,
   "metadata": {
    "ExecuteTime": {
     "end_time": "2018-05-12T20:47:57.065849Z",
     "start_time": "2018-05-12T20:47:57.050557Z"
    }
   },
   "outputs": [],
   "source": [
    "logmodel = 'log_model.sav'\n",
    "pickle.dump(logit, open(logmodel, 'wb'))\n",
    "#loading pickled model data\n",
    "logit= pickle.load(open(logmodel, 'rb'))"
   ]
  },
  {
   "cell_type": "code",
   "execution_count": 32,
   "metadata": {
    "ExecuteTime": {
     "end_time": "2018-05-12T20:58:24.341429Z",
     "start_time": "2018-05-12T20:58:24.329835Z"
    }
   },
   "outputs": [],
   "source": [
    "#loading pickled model data\n",
    "logit= pickle.load(open(logmodel, 'rb'))"
   ]
  },
  {
   "cell_type": "code",
   "execution_count": 33,
   "metadata": {
    "ExecuteTime": {
     "end_time": "2018-05-12T20:58:27.129660Z",
     "start_time": "2018-05-12T20:58:26.266180Z"
    }
   },
   "outputs": [],
   "source": [
    "y_pred = logit.predict(X_teen)"
   ]
  },
  {
   "cell_type": "code",
   "execution_count": 34,
   "metadata": {
    "ExecuteTime": {
     "end_time": "2018-05-12T20:58:28.418498Z",
     "start_time": "2018-05-12T20:58:27.763081Z"
    }
   },
   "outputs": [
    {
     "data": {
      "text/plain": [
       "0.7395203969955473"
      ]
     },
     "execution_count": 34,
     "metadata": {},
     "output_type": "execute_result"
    }
   ],
   "source": [
    "f1_score(y_test, y_pred, average='micro')"
   ]
  },
  {
   "cell_type": "code",
   "execution_count": 47,
   "metadata": {
    "ExecuteTime": {
     "end_time": "2018-05-13T18:12:20.875353Z",
     "start_time": "2018-05-13T18:12:20.175131Z"
    }
   },
   "outputs": [
    {
     "ename": "ValueError",
     "evalue": "multiclass format is not supported",
     "output_type": "error",
     "traceback": [
      "\u001b[0;31m---------------------------------------------------------------------------\u001b[0m",
      "\u001b[0;31mValueError\u001b[0m                                Traceback (most recent call last)",
      "\u001b[0;32m<ipython-input-47-ca12d03318da>\u001b[0m in \u001b[0;36m<module>\u001b[0;34m()\u001b[0m\n\u001b[0;32m----> 1\u001b[0;31m \u001b[0mroc_auc_score\u001b[0m\u001b[0;34m(\u001b[0m\u001b[0my_test\u001b[0m\u001b[0;34m,\u001b[0m \u001b[0mlogit\u001b[0m\u001b[0;34m.\u001b[0m\u001b[0mpredict\u001b[0m\u001b[0;34m(\u001b[0m\u001b[0mX_teen\u001b[0m\u001b[0;34m)\u001b[0m\u001b[0;34m)\u001b[0m\u001b[0;34m\u001b[0m\u001b[0m\n\u001b[0m",
      "\u001b[0;32m/anaconda3/lib/python3.6/site-packages/sklearn/metrics/ranking.py\u001b[0m in \u001b[0;36mroc_auc_score\u001b[0;34m(y_true, y_score, average, sample_weight)\u001b[0m\n\u001b[1;32m    275\u001b[0m     return _average_binary_score(\n\u001b[1;32m    276\u001b[0m         \u001b[0m_binary_roc_auc_score\u001b[0m\u001b[0;34m,\u001b[0m \u001b[0my_true\u001b[0m\u001b[0;34m,\u001b[0m \u001b[0my_score\u001b[0m\u001b[0;34m,\u001b[0m \u001b[0maverage\u001b[0m\u001b[0;34m,\u001b[0m\u001b[0;34m\u001b[0m\u001b[0m\n\u001b[0;32m--> 277\u001b[0;31m         sample_weight=sample_weight)\n\u001b[0m\u001b[1;32m    278\u001b[0m \u001b[0;34m\u001b[0m\u001b[0m\n\u001b[1;32m    279\u001b[0m \u001b[0;34m\u001b[0m\u001b[0m\n",
      "\u001b[0;32m/anaconda3/lib/python3.6/site-packages/sklearn/metrics/base.py\u001b[0m in \u001b[0;36m_average_binary_score\u001b[0;34m(binary_metric, y_true, y_score, average, sample_weight)\u001b[0m\n\u001b[1;32m     70\u001b[0m     \u001b[0my_type\u001b[0m \u001b[0;34m=\u001b[0m \u001b[0mtype_of_target\u001b[0m\u001b[0;34m(\u001b[0m\u001b[0my_true\u001b[0m\u001b[0;34m)\u001b[0m\u001b[0;34m\u001b[0m\u001b[0m\n\u001b[1;32m     71\u001b[0m     \u001b[0;32mif\u001b[0m \u001b[0my_type\u001b[0m \u001b[0;32mnot\u001b[0m \u001b[0;32min\u001b[0m \u001b[0;34m(\u001b[0m\u001b[0;34m\"binary\"\u001b[0m\u001b[0;34m,\u001b[0m \u001b[0;34m\"multilabel-indicator\"\u001b[0m\u001b[0;34m)\u001b[0m\u001b[0;34m:\u001b[0m\u001b[0;34m\u001b[0m\u001b[0m\n\u001b[0;32m---> 72\u001b[0;31m         \u001b[0;32mraise\u001b[0m \u001b[0mValueError\u001b[0m\u001b[0;34m(\u001b[0m\u001b[0;34m\"{0} format is not supported\"\u001b[0m\u001b[0;34m.\u001b[0m\u001b[0mformat\u001b[0m\u001b[0;34m(\u001b[0m\u001b[0my_type\u001b[0m\u001b[0;34m)\u001b[0m\u001b[0;34m)\u001b[0m\u001b[0;34m\u001b[0m\u001b[0m\n\u001b[0m\u001b[1;32m     73\u001b[0m \u001b[0;34m\u001b[0m\u001b[0m\n\u001b[1;32m     74\u001b[0m     \u001b[0;32mif\u001b[0m \u001b[0my_type\u001b[0m \u001b[0;34m==\u001b[0m \u001b[0;34m\"binary\"\u001b[0m\u001b[0;34m:\u001b[0m\u001b[0;34m\u001b[0m\u001b[0m\n",
      "\u001b[0;31mValueError\u001b[0m: multiclass format is not supported"
     ]
    }
   ],
   "source": [
    "roc_auc_score(y_test, logit.predict(X_teen))"
   ]
  },
  {
   "cell_type": "code",
   "execution_count": null,
   "metadata": {
    "ExecuteTime": {
     "end_time": "2018-05-13T18:12:20.876105Z",
     "start_time": "2018-05-13T18:12:20.681Z"
    }
   },
   "outputs": [],
   "source": [
    "# confusion matrix\n",
    "confusion_matrix(y_test,y_pred)"
   ]
  },
  {
   "cell_type": "code",
   "execution_count": 48,
   "metadata": {
    "ExecuteTime": {
     "end_time": "2018-05-13T18:12:21.519812Z",
     "start_time": "2018-05-13T18:12:21.444030Z"
    }
   },
   "outputs": [
    {
     "name": "stderr",
     "output_type": "stream",
     "text": [
      "/anaconda3/lib/python3.6/site-packages/sklearn/cross_validation.py:41: DeprecationWarning: This module was deprecated in version 0.18 in favor of the model_selection module into which all the refactored classes and functions are moved. Also note that the interface of the new CV iterators are different from that of this module. This module will be removed in 0.20.\n",
      "  \"This module will be removed in 0.20.\", DeprecationWarning)\n"
     ]
    }
   ],
   "source": [
    "# Generate a confusion matrix plot: \n",
    "from sklearn import cross_validation\n",
    "def plot_confusion_matrix(cm,title='Confusion matrix', cmap=plt.cm.Reds):\n",
    "    plt.imshow(cm, interpolation='nearest',cmap=cmap)\n",
    "    plt.title(title)\n",
    "    plt.colorbar()\n",
    "    plt.tight_layout()\n",
    "    plt.ylabel('True label')\n",
    "    plt.xlabel('Predicted label')\n",
    "\n",
    "#Could be a typical function for classifying:\n",
    "\n",
    "def train_score(classifier,x,y):\n",
    "    xtrain, xtest, ytrain, ytest = cross_validation.train_test_split(x, y, test_size=0.2, random_state=1234)\n",
    "    ytrain=np.ravel(ytrain)\n",
    "    clf = classifier.fit(xtrain, ytrain)\n",
    "    # accuracy for test & train:\n",
    "    train_acc=clf.score(xtrain, ytrain)\n",
    "    test_acc=clf.score(xtest,ytest)\n",
    "    print(\"Training Data Accuracy: %0.2f\" %(train_acc))\n",
    "    print(\"Test Data Accuracy:     %0.2f\" %(test_acc))\n",
    "    \n",
    "    y_true = ytest\n",
    "    y_pred = clf.predict(xtest)\n",
    "\n",
    "\n",
    "    conf = confusion_matrix(y_true, y_pred)\n",
    "    print(conf)\n",
    "\n",
    "    print ('\\n')\n",
    "    print (\"Precision:              %0.2f\" %(conf[0, 0] / (conf[0, 0] + conf[1, 0])))\n",
    "    print (\"Recall:                 %0.2f\"% (conf[0, 0] / (conf[0, 0] + conf[0, 1])))\n",
    "    \n",
    "    cm=confusion_matrix(y_true, y_pred, labels=None)\n",
    "    \n",
    "    plt.figure()\n",
    "    plot_confusion_matrix(cm)"
   ]
  },
  {
   "cell_type": "code",
   "execution_count": null,
   "metadata": {
    "ExecuteTime": {
     "start_time": "2018-05-13T18:12:22.301Z"
    }
   },
   "outputs": [],
   "source": [
    "train_score(logit,X_train,y_train)"
   ]
  },
  {
   "cell_type": "markdown",
   "metadata": {},
   "source": [
    "## Looking at Trees\n",
    "\n",
    "Below is looking at the Decision Tree and Random Forests classification methods to see how it differs from the analysis above.\n",
    "\n"
   ]
  },
  {
   "cell_type": "code",
   "execution_count": null,
   "metadata": {
    "ExecuteTime": {
     "end_time": "2018-05-11T20:38:15.446248Z",
     "start_time": "2018-05-11T20:38:14.665Z"
    }
   },
   "outputs": [],
   "source": [
    "#split X and y into training and testing sets\n",
    "X_cat = newtraindf.iloc[ind]\n",
    "y_cat = traindf.iloc[ind].group\n",
    "X_tr, X_te, y_tr, y_te = train_test_split(X_cat, y_cat, test_size=0.3, random_state=42)"
   ]
  },
  {
   "cell_type": "code",
   "execution_count": null,
   "metadata": {
    "ExecuteTime": {
     "end_time": "2018-05-11T20:38:15.446987Z",
     "start_time": "2018-05-11T20:38:15.146Z"
    }
   },
   "outputs": [],
   "source": [
    "from sklearn.ensemble import RandomForestClassifier\n",
    "from sklearn.tree import DecisionTreeClassifier"
   ]
  },
  {
   "cell_type": "code",
   "execution_count": null,
   "metadata": {
    "ExecuteTime": {
     "end_time": "2018-05-11T20:38:15.627075Z",
     "start_time": "2018-05-11T20:38:15.623136Z"
    }
   },
   "outputs": [],
   "source": [
    "dtree = DecisionTreeClassifier(max_depth=7)\n",
    "rtree = RandomForestClassifier(max_depth=7)"
   ]
  },
  {
   "cell_type": "code",
   "execution_count": null,
   "metadata": {
    "ExecuteTime": {
     "end_time": "2018-05-11T20:38:49.175352Z",
     "start_time": "2018-05-11T20:38:16.318571Z"
    }
   },
   "outputs": [],
   "source": [
    "dmodel = dtree.fit(X_tr, y_tr)"
   ]
  },
  {
   "cell_type": "code",
   "execution_count": null,
   "metadata": {
    "ExecuteTime": {
     "end_time": "2018-05-11T20:38:15.443300Z",
     "start_time": "2018-05-11T20:38:09.793Z"
    }
   },
   "outputs": [],
   "source": [
    "#Experiement to see if i should try random forests\n",
    "from sklearn.model_selection import cross_val_score\n",
    "cross_val_score(dtree, X_trainc, y_trainc, cv=10)"
   ]
  },
  {
   "cell_type": "code",
   "execution_count": null,
   "metadata": {
    "ExecuteTime": {
     "end_time": "2018-05-11T20:38:49.799213Z",
     "start_time": "2018-05-11T20:38:49.177295Z"
    }
   },
   "outputs": [],
   "source": [
    "y_tree = dmodel.predict(X_te)"
   ]
  },
  {
   "cell_type": "code",
   "execution_count": null,
   "metadata": {
    "ExecuteTime": {
     "end_time": "2018-05-11T20:38:50.622707Z",
     "start_time": "2018-05-11T20:38:49.801090Z"
    }
   },
   "outputs": [],
   "source": [
    "f1_score(y_te, y_tree, average = 'micro')"
   ]
  },
  {
   "cell_type": "code",
   "execution_count": null,
   "metadata": {
    "ExecuteTime": {
     "end_time": "2018-05-11T20:38:52.513120Z",
     "start_time": "2018-05-11T20:38:50.624732Z"
    }
   },
   "outputs": [],
   "source": [
    "# confusion matrix\n",
    "confusion_matrix(y_te,y_tree)"
   ]
  },
  {
   "cell_type": "code",
   "execution_count": null,
   "metadata": {
    "ExecuteTime": {
     "end_time": "2018-05-11T20:41:30.199042Z",
     "start_time": "2018-05-11T20:38:52.515118Z"
    }
   },
   "outputs": [],
   "source": [
    "rmodel = rtree.fit(X_tr, y_tr)"
   ]
  },
  {
   "cell_type": "code",
   "execution_count": null,
   "metadata": {
    "ExecuteTime": {
     "end_time": "2018-05-11T20:42:08.055129Z",
     "start_time": "2018-05-11T20:42:02.321795Z"
    }
   },
   "outputs": [],
   "source": [
    "y_rtree = rmodel.predict(X_te)\n",
    "f1_score(y_te, y_rtree, average = 'macro')"
   ]
  },
  {
   "cell_type": "code",
   "execution_count": null,
   "metadata": {
    "ExecuteTime": {
     "end_time": "2018-05-11T20:41:36.465880Z",
     "start_time": "2018-05-11T20:41:36.210861Z"
    }
   },
   "outputs": [],
   "source": [
    "importances = dmodel.feature_importances_\n",
    "std = np.std([dmodel.feature_importances_ for tree in importances],axis=0)\n",
    "indices = np.argsort(importances)[::-1]\n",
    "\n",
    "# Print the feature ranking\n",
    "print(\"Feature ranking:\")\n",
    "\n",
    "for index,f in enumerate(X_tr.columns):\n",
    "    print(\"%d. %s (%f)\" % (index+1 , f, importances[indices[index]]))\n",
    "\n",
    "# Plot the feature importances of the forest\n",
    "plt.figure()\n",
    "plt.title(\"Feature importances\")\n",
    "plt.bar(range(X_tr.shape[1]), importances[indices],color=\"r\", yerr=std[indices], align=\"center\")\n",
    "plt.xticks(range(X_tr.shape[1]), X_tr.columns, rotation=45)\n",
    "plt.xlim([-1, X_tr.shape[1]])\n",
    "plt.show()"
   ]
  },
  {
   "cell_type": "code",
   "execution_count": null,
   "metadata": {
    "ExecuteTime": {
     "end_time": "2018-05-11T20:41:36.655332Z",
     "start_time": "2018-05-11T20:41:36.468048Z"
    }
   },
   "outputs": [],
   "source": [
    "importances = rmodel.feature_importances_\n",
    "std = np.std([rmodel.feature_importances_ for tree in importances],axis=0)\n",
    "indices = np.argsort(importances)[::-1]\n",
    "\n",
    "# Print the feature ranking\n",
    "print(\"Feature ranking:\")\n",
    "\n",
    "for index,f in enumerate(X_tr.columns):\n",
    "    print(\"%d. %s (%f)\" % (index+1 , f, importances[indices[index]]))\n",
    "\n",
    "# Plot the feature importances of the forest\n",
    "plt.figure()\n",
    "plt.title(\"Feature importances\")\n",
    "plt.bar(range(X_tr.shape[1]), importances[indices],color=\"r\", yerr=std[indices], align=\"center\")\n",
    "plt.xticks(range(X_tr.shape[1]), X_tr.columns, rotation=45)\n",
    "plt.xlim([-1, X_tr.shape[1]])\n",
    "plt.show()"
   ]
  },
  {
   "cell_type": "markdown",
   "metadata": {},
   "source": [
    "## Playing with Cats\n",
    "\n",
    "Trying out catboost for python.  \n",
    "Before Undersampling feature importance:\n",
    "* city: 43.66\n",
    "* device_model: 43.51\n",
    "* event_id: 12.83\n",
    "\n",
    "After resampling, while still label encoded, and while not label encoded:\n",
    "* event_id: 100\n",
    "\n",
    "After dropping event ID:\n",
    "* city: 51.67\n",
    "* device_model: 45.83\n",
    "* wkday: 2.50"
   ]
  },
  {
   "cell_type": "code",
   "execution_count": null,
   "metadata": {
    "ExecuteTime": {
     "end_time": "2018-05-12T16:56:55.100199Z",
     "start_time": "2018-05-12T16:56:23.049264Z"
    }
   },
   "outputs": [],
   "source": [
    "from catboost import CatBoostRegressor, CatBoostClassifier, Pool\n",
    "X_cat = traindf.iloc[ind].drop('group', axis=1)\n",
    "y_cat = traindf.iloc[ind].group\n",
    "X_trainc, X_testc, y_trainc, y_testc = train_test_split(X_cat, y_cat, test_size=0.3, random_state=42)"
   ]
  },
  {
   "cell_type": "code",
   "execution_count": null,
   "metadata": {
    "ExecuteTime": {
     "end_time": "2018-05-12T16:57:43.059980Z",
     "start_time": "2018-05-12T16:56:55.102870Z"
    }
   },
   "outputs": [],
   "source": [
    "categorical_features_indices = np.where(X_trainc.dtypes != np.float)[0]\n",
    "train_pool = Pool(X_trainc,y_trainc,cat_features=categorical_features_indices)\n",
    "validate_pool = Pool(X_testc, y_testc, cat_features=categorical_features_indices)"
   ]
  },
  {
   "cell_type": "code",
   "execution_count": null,
   "metadata": {
    "ExecuteTime": {
     "end_time": "2018-05-12T17:41:36.244273Z",
     "start_time": "2018-05-12T16:57:43.061920Z"
    },
    "code_folding": []
   },
   "outputs": [],
   "source": [
    "#CatBoost\n",
    "model=CatBoostClassifier(iterations=20, depth=7, learning_rate=0.1, loss_function = 'MultiClass')\n",
    "model.fit(train_pool, eval_set = (X_testc, y_testc))"
   ]
  },
  {
   "cell_type": "code",
   "execution_count": null,
   "metadata": {
    "ExecuteTime": {
     "end_time": "2018-05-12T17:42:38.941009Z",
     "start_time": "2018-05-12T17:42:31.652132Z"
    }
   },
   "outputs": [],
   "source": [
    "model.save_model('catboost_model.dump')\n",
    "feature_importances = model.get_feature_importance(train_pool)\n",
    "feature_names = X_testc.columns\n",
    "for score, name in sorted(zip(feature_importances, feature_names), reverse=True):\n",
    "    print('{}: {}'.format(name, score))"
   ]
  },
  {
   "cell_type": "code",
   "execution_count": null,
   "metadata": {
    "ExecuteTime": {
     "end_time": "2018-05-12T17:45:31.738667Z",
     "start_time": "2018-05-12T17:42:38.942822Z"
    }
   },
   "outputs": [],
   "source": [
    "eval_metrics = model.eval_metrics(validate_pool, ['AUC'], plot=True)\n",
    "print(eval_metrics['AUC'])\n"
   ]
  },
  {
   "cell_type": "code",
   "execution_count": null,
   "metadata": {},
   "outputs": [],
   "source": [
    "model.save_model('catboost_model.dump')\n",
    "model.load_model('catboost_model.dump') "
   ]
  },
  {
   "cell_type": "markdown",
   "metadata": {
    "heading_collapsed": true
   },
   "source": [
    "## Naive Bayes\n",
    "\n",
    "Trying out different models to see which is the best route to analysis. Model ran decently fast and it handled the larger set well."
   ]
  },
  {
   "cell_type": "code",
   "execution_count": 46,
   "metadata": {
    "ExecuteTime": {
     "end_time": "2018-05-13T18:11:45.729990Z",
     "start_time": "2018-05-13T18:11:40.125386Z"
    },
    "hidden": true
   },
   "outputs": [
    {
     "data": {
      "text/plain": [
       "BernoulliNB(alpha=1.0, binarize=0.0, class_prior=None, fit_prior=True)"
      ]
     },
     "execution_count": 46,
     "metadata": {},
     "output_type": "execute_result"
    },
    {
     "name": "stdout",
     "output_type": "stream",
     "text": [
      "Accuracy: 0.657\n",
      "             precision    recall  f1-score   support\n",
      "\n",
      "          0       0.69      0.74      0.72    200183\n",
      "          1       0.75      0.74      0.74    200291\n",
      "          2       0.71      0.68      0.69    200777\n",
      "          3       0.66      0.66      0.66    200128\n",
      "          4       0.64      0.66      0.65    199802\n",
      "          5       0.68      0.74      0.71    200041\n",
      "          6       0.67      0.67      0.67    199869\n",
      "          7       0.62      0.58      0.60    199606\n",
      "          8       0.63      0.64      0.63    200834\n",
      "          9       0.63      0.57      0.60    199844\n",
      "         10       0.63      0.59      0.61    199818\n",
      "         11       0.58      0.61      0.60    200043\n",
      "\n",
      "avg / total       0.66      0.66      0.66   2401236\n",
      "\n"
     ]
    }
   ],
   "source": [
    "from sklearn import naive_bayes\n",
    "from sklearn.metrics import accuracy_score, classification_report\n",
    "\n",
    "model1 = naive_bayes.BernoulliNB()\n",
    "model1.fit(X_tren, y_train)\n",
    "\n",
    "print(\"Accuracy: %.3f\"% f1_score(y_test, model1.predict(X_teen), average = 'macro'))\n",
    "print(classification_report(y_test, model1.predict(X_teen)))"
   ]
  },
  {
   "cell_type": "markdown",
   "metadata": {
    "heading_collapsed": true
   },
   "source": [
    "## Stochastic Gradient Descent\n",
    "\n",
    "Trying Stochastic Gradient Descent model to see if I can come up with better numbers."
   ]
  },
  {
   "cell_type": "code",
   "execution_count": 36,
   "metadata": {
    "ExecuteTime": {
     "end_time": "2018-05-12T20:58:46.491705Z",
     "start_time": "2018-05-12T20:58:46.488998Z"
    },
    "hidden": true
   },
   "outputs": [],
   "source": [
    "from sklearn.linear_model import SGDClassifier"
   ]
  },
  {
   "cell_type": "code",
   "execution_count": 38,
   "metadata": {
    "ExecuteTime": {
     "end_time": "2018-05-12T20:59:15.960605Z",
     "start_time": "2018-05-12T20:59:15.958111Z"
    },
    "hidden": true
   },
   "outputs": [],
   "source": [
    "sgd = SGDClassifier(loss='log',penalty = 'elasticnet', l1_ratio= .2, max_iter = 500)"
   ]
  },
  {
   "cell_type": "code",
   "execution_count": 39,
   "metadata": {
    "ExecuteTime": {
     "end_time": "2018-05-13T01:02:06.797235Z",
     "start_time": "2018-05-12T20:59:18.000467Z"
    },
    "hidden": true
   },
   "outputs": [],
   "source": [
    "sgdmod = sgd.fit(X_tren, y_train)"
   ]
  },
  {
   "cell_type": "code",
   "execution_count": 42,
   "metadata": {
    "ExecuteTime": {
     "end_time": "2018-05-13T01:06:29.044461Z",
     "start_time": "2018-05-13T01:06:29.030491Z"
    },
    "hidden": true
   },
   "outputs": [],
   "source": [
    "SGDmodel = 'SGD_model.sav'\n",
    "pickle.dump(sgdmod, open(SGDmodel, 'wb'))\n",
    "#loading pickled model data"
   ]
  },
  {
   "cell_type": "code",
   "execution_count": null,
   "metadata": {
    "hidden": true
   },
   "outputs": [],
   "source": [
    "sgdmod= pickle.load(open(SGDmodel, 'rb'))"
   ]
  },
  {
   "cell_type": "code",
   "execution_count": 40,
   "metadata": {
    "ExecuteTime": {
     "end_time": "2018-05-13T01:02:08.144055Z",
     "start_time": "2018-05-13T01:02:06.799220Z"
    },
    "hidden": true,
    "scrolled": true
   },
   "outputs": [
    {
     "data": {
      "text/plain": [
       "0.6103694097539767"
      ]
     },
     "execution_count": 40,
     "metadata": {},
     "output_type": "execute_result"
    }
   ],
   "source": [
    "f1_score(y_test, sgdmod.predict(X_teen), average = 'micro') "
   ]
  },
  {
   "cell_type": "code",
   "execution_count": 44,
   "metadata": {
    "ExecuteTime": {
     "end_time": "2018-05-13T18:10:24.606132Z",
     "start_time": "2018-05-13T18:10:23.560651Z"
    },
    "hidden": true
   },
   "outputs": [
    {
     "ename": "ValueError",
     "evalue": "multiclass format is not supported",
     "output_type": "error",
     "traceback": [
      "\u001b[0;31m---------------------------------------------------------------------------\u001b[0m",
      "\u001b[0;31mValueError\u001b[0m                                Traceback (most recent call last)",
      "\u001b[0;32m<ipython-input-44-d15cb37d9fad>\u001b[0m in \u001b[0;36m<module>\u001b[0;34m()\u001b[0m\n\u001b[0;32m----> 1\u001b[0;31m \u001b[0mroc_auc_score\u001b[0m\u001b[0;34m(\u001b[0m\u001b[0my_test\u001b[0m\u001b[0;34m,\u001b[0m \u001b[0msgdmod\u001b[0m\u001b[0;34m.\u001b[0m\u001b[0mpredict\u001b[0m\u001b[0;34m(\u001b[0m\u001b[0mX_teen\u001b[0m\u001b[0;34m)\u001b[0m\u001b[0;34m)\u001b[0m\u001b[0;34m\u001b[0m\u001b[0m\n\u001b[0m",
      "\u001b[0;32m/anaconda3/lib/python3.6/site-packages/sklearn/metrics/ranking.py\u001b[0m in \u001b[0;36mroc_auc_score\u001b[0;34m(y_true, y_score, average, sample_weight)\u001b[0m\n\u001b[1;32m    275\u001b[0m     return _average_binary_score(\n\u001b[1;32m    276\u001b[0m         \u001b[0m_binary_roc_auc_score\u001b[0m\u001b[0;34m,\u001b[0m \u001b[0my_true\u001b[0m\u001b[0;34m,\u001b[0m \u001b[0my_score\u001b[0m\u001b[0;34m,\u001b[0m \u001b[0maverage\u001b[0m\u001b[0;34m,\u001b[0m\u001b[0;34m\u001b[0m\u001b[0m\n\u001b[0;32m--> 277\u001b[0;31m         sample_weight=sample_weight)\n\u001b[0m\u001b[1;32m    278\u001b[0m \u001b[0;34m\u001b[0m\u001b[0m\n\u001b[1;32m    279\u001b[0m \u001b[0;34m\u001b[0m\u001b[0m\n",
      "\u001b[0;32m/anaconda3/lib/python3.6/site-packages/sklearn/metrics/base.py\u001b[0m in \u001b[0;36m_average_binary_score\u001b[0;34m(binary_metric, y_true, y_score, average, sample_weight)\u001b[0m\n\u001b[1;32m     70\u001b[0m     \u001b[0my_type\u001b[0m \u001b[0;34m=\u001b[0m \u001b[0mtype_of_target\u001b[0m\u001b[0;34m(\u001b[0m\u001b[0my_true\u001b[0m\u001b[0;34m)\u001b[0m\u001b[0;34m\u001b[0m\u001b[0m\n\u001b[1;32m     71\u001b[0m     \u001b[0;32mif\u001b[0m \u001b[0my_type\u001b[0m \u001b[0;32mnot\u001b[0m \u001b[0;32min\u001b[0m \u001b[0;34m(\u001b[0m\u001b[0;34m\"binary\"\u001b[0m\u001b[0;34m,\u001b[0m \u001b[0;34m\"multilabel-indicator\"\u001b[0m\u001b[0;34m)\u001b[0m\u001b[0;34m:\u001b[0m\u001b[0;34m\u001b[0m\u001b[0m\n\u001b[0;32m---> 72\u001b[0;31m         \u001b[0;32mraise\u001b[0m \u001b[0mValueError\u001b[0m\u001b[0;34m(\u001b[0m\u001b[0;34m\"{0} format is not supported\"\u001b[0m\u001b[0;34m.\u001b[0m\u001b[0mformat\u001b[0m\u001b[0;34m(\u001b[0m\u001b[0my_type\u001b[0m\u001b[0;34m)\u001b[0m\u001b[0;34m)\u001b[0m\u001b[0;34m\u001b[0m\u001b[0m\n\u001b[0m\u001b[1;32m     73\u001b[0m \u001b[0;34m\u001b[0m\u001b[0m\n\u001b[1;32m     74\u001b[0m     \u001b[0;32mif\u001b[0m \u001b[0my_type\u001b[0m \u001b[0;34m==\u001b[0m \u001b[0;34m\"binary\"\u001b[0m\u001b[0;34m:\u001b[0m\u001b[0;34m\u001b[0m\u001b[0m\n",
      "\u001b[0;31mValueError\u001b[0m: multiclass format is not supported"
     ]
    }
   ],
   "source": [
    "roc_auc_score(y_test, sgdmod.predict(X_teen))"
   ]
  },
  {
   "cell_type": "markdown",
   "metadata": {
    "heading_collapsed": true
   },
   "source": [
    "## Flask App\n",
    "\n",
    "Initiating the flask app for D3 visualization."
   ]
  },
  {
   "cell_type": "code",
   "execution_count": null,
   "metadata": {
    "hidden": true
   },
   "outputs": [],
   "source": [
    "from flask import Flask, Response\n",
    "import json\n",
    "import urllib2\n",
    "\n",
    "app = Flask(__name__)\n",
    "\n",
    "@app.route('/')\n",
    "def test():\n",
    "    return 'Everything is running!'\n",
    "\n",
    "@app.route('/projects/highpoverty/states')\n",
    "def high_poverty_states():\n",
    "    donors_choose_url = \"http://api.donorschoose.org/common/json_feed.html?highLevelPoverty=true&APIKey=DONORSCHOOSE\"\n",
    "    response = urllib2.urlopen(donors_choose_url)\n",
    "    json_response = json.load(response)\n",
    "    states = set()\n",
    "    for proposal in json_response[\"proposals\"]:\n",
    "        states.add(proposal[\"state\"])\n",
    "\n",
    "    return json.dumps(list(states))"
   ]
  },
  {
   "cell_type": "code",
   "execution_count": null,
   "metadata": {
    "ExecuteTime": {
     "end_time": "2018-05-09T22:22:20.970212Z",
     "start_time": "2018-05-09T22:22:20.941362Z"
    },
    "hidden": true
   },
   "outputs": [],
   "source": [
    "len(traindf.phone_brand.unique())"
   ]
  },
  {
   "cell_type": "code",
   "execution_count": null,
   "metadata": {
    "ExecuteTime": {
     "end_time": "2018-05-09T20:02:25.408223Z",
     "start_time": "2018-05-09T20:02:25.268340Z"
    },
    "hidden": true
   },
   "outputs": [],
   "source": [
    "traindf[traindf['group'] ==10]\n",
    "groupnum = []\n",
    "countnum = []\n",
    "for i in traindf.group.unique():\n",
    "    groupnum.append(i)\n",
    "    for j in traindf.phone_brand.unique():\n",
    "        "
   ]
  },
  {
   "cell_type": "markdown",
   "metadata": {
    "hidden": true
   },
   "source": []
  }
 ],
 "metadata": {
  "kernelspec": {
   "display_name": "Python 3",
   "language": "python",
   "name": "python3"
  },
  "language_info": {
   "codemirror_mode": {
    "name": "ipython",
    "version": 3
   },
   "file_extension": ".py",
   "mimetype": "text/x-python",
   "name": "python",
   "nbconvert_exporter": "python",
   "pygments_lexer": "ipython3",
   "version": "3.6.4"
  }
 },
 "nbformat": 4,
 "nbformat_minor": 2
}
