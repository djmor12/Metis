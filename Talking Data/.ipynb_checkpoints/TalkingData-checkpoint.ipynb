{
 "cells": [
  {
   "cell_type": "markdown",
   "metadata": {},
   "source": [
    "# Talking Data\n",
    "\n",
    "The purpose of this project is to use mobile user data to predict the age group of the user.  The age groups are split betweeen either female or male, then from below 23,to above 43.  Here is what it looks for females: F23-, F24-26, F27-28, F29-32, F33-42, F43+. \n",
    "\n",
    "The data is from the Chinese company TalkingData. There are several data sets, each a unique csv: gender_age_train, gender_age_test, events, app_events, app_labels, label_categories and phone_brand_device_model.  "
   ]
  },
  {
   "cell_type": "code",
   "execution_count": 58,
   "metadata": {
    "ExecuteTime": {
     "end_time": "2018-05-10T21:38:18.950259Z",
     "start_time": "2018-05-10T21:38:18.835023Z"
    }
   },
   "outputs": [],
   "source": [
    "#Importing the packages needed for this analysis\n",
    "from pygeocoder import Geocoder\n",
    "import pandas as pd\n",
    "import io\n",
    "import numpy as np\n",
    "import seaborn as sns\n",
    "from sklearn.metrics import log_loss\n",
    "import pickle\n",
    "from sklearn.model_selection import train_test_split\n",
    "import math\n",
    "import re\n",
    "import reverse_geocoder as rg\n",
    "from datetime import *\n",
    "from scipy import stats\n",
    "import dateutil.parser\n",
    "from sklearn.linear_model import LogisticRegression\n",
    "from sklearn.metrics import accuracy_score, confusion_matrix, f1_score\n",
    "from sklearn.model_selection import StratifiedKFold\n",
    "from IPython.display import display\n",
    "from sklearn import preprocessing\n",
    "from googletrans import Translator\n",
    "import matplotlib.pyplot as plt\n",
    "from sklearn.model_selection import cross_val_score\n",
    "from IPython.core.interactiveshell import InteractiveShell\n",
    "import goslate\n",
    "InteractiveShell.ast_node_interactivity = \"all\"\n",
    "%matplotlib inline\n",
    "%config InlineBackend.figure_format = 'png'\n",
    "\n",
    "plt.rcParams['figure.dpi']= 450"
   ]
  },
  {
   "cell_type": "code",
   "execution_count": 59,
   "metadata": {
    "ExecuteTime": {
     "end_time": "2018-05-10T21:38:22.413122Z",
     "start_time": "2018-05-10T21:38:22.389490Z"
    }
   },
   "outputs": [],
   "source": [
    "#Connecting to SQL database on an AWS EC2 instance\n",
    "from sqlalchemy import create_engine\n",
    "import pandas as pdb\n",
    "cnx = create_engine('postgresql://djmor@34.234.69.231/djmor')"
   ]
  },
  {
   "cell_type": "code",
   "execution_count": 60,
   "metadata": {
    "ExecuteTime": {
     "end_time": "2018-05-10T21:38:22.989380Z",
     "start_time": "2018-05-10T21:38:22.946627Z"
    }
   },
   "outputs": [],
   "source": [
    "#Loading in coordinates to fast track reverse geocoding\n",
    "geo = rg.RGeocoder(mode=2, verbose=True, stream=io.StringIO(open('rg_cities1000.csv', encoding='utf-8').read()))"
   ]
  },
  {
   "cell_type": "code",
   "execution_count": 61,
   "metadata": {
    "ExecuteTime": {
     "end_time": "2018-05-10T21:38:23.378475Z",
     "start_time": "2018-05-10T21:38:23.372229Z"
    }
   },
   "outputs": [],
   "source": [
    "#List of classification types \n",
    "classes = {'F23-':0, 'F24-26':1,'F27-28':2,'F29-32':3, 'F33-42':4, 'F43+':5, 'M22-':6, 'M23-26':7, 'M27-28':8, 'M29-31':9, 'M32-38':10, 'M39+':11}\n",
    "clas = ['F23-', 'F24-26','F27-28','F29-32', 'F33-42', 'F43+', 'M22-', 'M23-26', 'M27-28', 'M29-31', 'M32-38', 'M39+']\n",
    "           "
   ]
  },
  {
   "cell_type": "code",
   "execution_count": 62,
   "metadata": {
    "ExecuteTime": {
     "end_time": "2018-05-10T21:38:46.378162Z",
     "start_time": "2018-05-10T21:38:23.818979Z"
    }
   },
   "outputs": [],
   "source": [
    "#Creating all the data frames\n",
    "device_brand = pd.read_csv('phone_brand_device_model.csv')\n",
    "applabeldf = pd.read_csv('app_labels.csv')\n",
    "labelcat = pd.read_csv('label_categories.csv')\n",
    "genderdf = pd.read_csv('gender_age_train.csv')\n",
    "eventsdf = pd.read_csv('~/Documents/events.csv')\n",
    "appevents = pd.read_csv('~/Documents/app_events.csv')\n",
    "testdf = pd.read_csv('gender_age_test.csv')"
   ]
  },
  {
   "cell_type": "code",
   "execution_count": 63,
   "metadata": {
    "ExecuteTime": {
     "end_time": "2018-05-10T21:40:32.230478Z",
     "start_time": "2018-05-10T21:40:32.207128Z"
    }
   },
   "outputs": [
    {
     "data": {
      "text/html": [
       "<div>\n",
       "<style scoped>\n",
       "    .dataframe tbody tr th:only-of-type {\n",
       "        vertical-align: middle;\n",
       "    }\n",
       "\n",
       "    .dataframe tbody tr th {\n",
       "        vertical-align: top;\n",
       "    }\n",
       "\n",
       "    .dataframe thead th {\n",
       "        text-align: right;\n",
       "    }\n",
       "</style>\n",
       "<table border=\"1\" class=\"dataframe\">\n",
       "  <thead>\n",
       "    <tr style=\"text-align: right;\">\n",
       "      <th></th>\n",
       "      <th>device_id</th>\n",
       "    </tr>\n",
       "  </thead>\n",
       "  <tbody>\n",
       "    <tr>\n",
       "      <th>0</th>\n",
       "      <td>1002079943728939269</td>\n",
       "    </tr>\n",
       "    <tr>\n",
       "      <th>1</th>\n",
       "      <td>-1547860181818787117</td>\n",
       "    </tr>\n",
       "    <tr>\n",
       "      <th>2</th>\n",
       "      <td>7374582448058474277</td>\n",
       "    </tr>\n",
       "    <tr>\n",
       "      <th>3</th>\n",
       "      <td>-6220210354783429585</td>\n",
       "    </tr>\n",
       "    <tr>\n",
       "      <th>4</th>\n",
       "      <td>-5893464122623104785</td>\n",
       "    </tr>\n",
       "  </tbody>\n",
       "</table>\n",
       "</div>"
      ],
      "text/plain": [
       "             device_id\n",
       "0  1002079943728939269\n",
       "1 -1547860181818787117\n",
       "2  7374582448058474277\n",
       "3 -6220210354783429585\n",
       "4 -5893464122623104785"
      ]
     },
     "execution_count": 63,
     "metadata": {},
     "output_type": "execute_result"
    },
    {
     "data": {
      "text/html": [
       "<div>\n",
       "<style scoped>\n",
       "    .dataframe tbody tr th:only-of-type {\n",
       "        vertical-align: middle;\n",
       "    }\n",
       "\n",
       "    .dataframe tbody tr th {\n",
       "        vertical-align: top;\n",
       "    }\n",
       "\n",
       "    .dataframe thead th {\n",
       "        text-align: right;\n",
       "    }\n",
       "</style>\n",
       "<table border=\"1\" class=\"dataframe\">\n",
       "  <thead>\n",
       "    <tr style=\"text-align: right;\">\n",
       "      <th></th>\n",
       "      <th>device_id</th>\n",
       "      <th>gender</th>\n",
       "      <th>age</th>\n",
       "      <th>group</th>\n",
       "    </tr>\n",
       "  </thead>\n",
       "  <tbody>\n",
       "    <tr>\n",
       "      <th>0</th>\n",
       "      <td>-8076087639492063270</td>\n",
       "      <td>M</td>\n",
       "      <td>35</td>\n",
       "      <td>M32-38</td>\n",
       "    </tr>\n",
       "    <tr>\n",
       "      <th>1</th>\n",
       "      <td>-2897161552818060146</td>\n",
       "      <td>M</td>\n",
       "      <td>35</td>\n",
       "      <td>M32-38</td>\n",
       "    </tr>\n",
       "    <tr>\n",
       "      <th>2</th>\n",
       "      <td>-8260683887967679142</td>\n",
       "      <td>M</td>\n",
       "      <td>35</td>\n",
       "      <td>M32-38</td>\n",
       "    </tr>\n",
       "    <tr>\n",
       "      <th>3</th>\n",
       "      <td>-4938849341048082022</td>\n",
       "      <td>M</td>\n",
       "      <td>30</td>\n",
       "      <td>M29-31</td>\n",
       "    </tr>\n",
       "    <tr>\n",
       "      <th>4</th>\n",
       "      <td>245133531816851882</td>\n",
       "      <td>M</td>\n",
       "      <td>30</td>\n",
       "      <td>M29-31</td>\n",
       "    </tr>\n",
       "  </tbody>\n",
       "</table>\n",
       "</div>"
      ],
      "text/plain": [
       "             device_id gender  age   group\n",
       "0 -8076087639492063270      M   35  M32-38\n",
       "1 -2897161552818060146      M   35  M32-38\n",
       "2 -8260683887967679142      M   35  M32-38\n",
       "3 -4938849341048082022      M   30  M29-31\n",
       "4   245133531816851882      M   30  M29-31"
      ]
     },
     "execution_count": 63,
     "metadata": {},
     "output_type": "execute_result"
    },
    {
     "data": {
      "text/plain": [
       "(74645, 4)"
      ]
     },
     "execution_count": 63,
     "metadata": {},
     "output_type": "execute_result"
    }
   ],
   "source": [
    "testdf.head()\n",
    "genderdf.head()\n",
    "genderdf.shape"
   ]
  },
  {
   "cell_type": "code",
   "execution_count": 108,
   "metadata": {
    "ExecuteTime": {
     "end_time": "2018-05-10T22:19:08.448344Z",
     "start_time": "2018-05-10T22:19:08.291830Z"
    }
   },
   "outputs": [],
   "source": [
    "device_brand = device_brand.drop_duplicates('device_id',keep='first')\n",
    "testdf = testdf.drop_duplicates('device_id',keep='first')\n",
    "genderdf.group = genderdf.group.map(classes)"
   ]
  },
  {
   "cell_type": "code",
   "execution_count": 109,
   "metadata": {
    "ExecuteTime": {
     "end_time": "2018-05-10T22:19:12.334145Z",
     "start_time": "2018-05-10T22:19:12.268449Z"
    },
    "scrolled": true
   },
   "outputs": [
    {
     "data": {
      "text/html": [
       "<div>\n",
       "<style scoped>\n",
       "    .dataframe tbody tr th:only-of-type {\n",
       "        vertical-align: middle;\n",
       "    }\n",
       "\n",
       "    .dataframe tbody tr th {\n",
       "        vertical-align: top;\n",
       "    }\n",
       "\n",
       "    .dataframe thead th {\n",
       "        text-align: right;\n",
       "    }\n",
       "</style>\n",
       "<table border=\"1\" class=\"dataframe\">\n",
       "  <thead>\n",
       "    <tr style=\"text-align: right;\">\n",
       "      <th></th>\n",
       "      <th>device_id</th>\n",
       "      <th>phone_brand</th>\n",
       "      <th>device_model</th>\n",
       "    </tr>\n",
       "  </thead>\n",
       "  <tbody>\n",
       "    <tr>\n",
       "      <th>0</th>\n",
       "      <td>-8890648629457979026</td>\n",
       "      <td>xiaomi</td>\n",
       "      <td>红米</td>\n",
       "    </tr>\n",
       "    <tr>\n",
       "      <th>1</th>\n",
       "      <td>1277779817574759137</td>\n",
       "      <td>xiaomi</td>\n",
       "      <td>MI 2</td>\n",
       "    </tr>\n",
       "    <tr>\n",
       "      <th>2</th>\n",
       "      <td>5137427614288105724</td>\n",
       "      <td>samsung</td>\n",
       "      <td>Galaxy S4</td>\n",
       "    </tr>\n",
       "    <tr>\n",
       "      <th>3</th>\n",
       "      <td>3669464369358936369</td>\n",
       "      <td>SUGAR</td>\n",
       "      <td>时尚手机</td>\n",
       "    </tr>\n",
       "    <tr>\n",
       "      <th>4</th>\n",
       "      <td>-5019277647504317457</td>\n",
       "      <td>samsung</td>\n",
       "      <td>Galaxy Note 2</td>\n",
       "    </tr>\n",
       "  </tbody>\n",
       "</table>\n",
       "</div>"
      ],
      "text/plain": [
       "             device_id phone_brand   device_model\n",
       "0 -8890648629457979026      xiaomi             红米\n",
       "1  1277779817574759137      xiaomi           MI 2\n",
       "2  5137427614288105724     samsung      Galaxy S4\n",
       "3  3669464369358936369       SUGAR           时尚手机\n",
       "4 -5019277647504317457     samsung  Galaxy Note 2"
      ]
     },
     "execution_count": 109,
     "metadata": {},
     "output_type": "execute_result"
    },
    {
     "data": {
      "text/html": [
       "<div>\n",
       "<style scoped>\n",
       "    .dataframe tbody tr th:only-of-type {\n",
       "        vertical-align: middle;\n",
       "    }\n",
       "\n",
       "    .dataframe tbody tr th {\n",
       "        vertical-align: top;\n",
       "    }\n",
       "\n",
       "    .dataframe thead th {\n",
       "        text-align: right;\n",
       "    }\n",
       "</style>\n",
       "<table border=\"1\" class=\"dataframe\">\n",
       "  <thead>\n",
       "    <tr style=\"text-align: right;\">\n",
       "      <th></th>\n",
       "      <th>event_id</th>\n",
       "      <th>app_id</th>\n",
       "      <th>is_installed</th>\n",
       "      <th>is_active</th>\n",
       "    </tr>\n",
       "  </thead>\n",
       "  <tbody>\n",
       "    <tr>\n",
       "      <th>0</th>\n",
       "      <td>2</td>\n",
       "      <td>5927333115845830913</td>\n",
       "      <td>1</td>\n",
       "      <td>1</td>\n",
       "    </tr>\n",
       "    <tr>\n",
       "      <th>1</th>\n",
       "      <td>2</td>\n",
       "      <td>-5720078949152207372</td>\n",
       "      <td>1</td>\n",
       "      <td>0</td>\n",
       "    </tr>\n",
       "    <tr>\n",
       "      <th>2</th>\n",
       "      <td>2</td>\n",
       "      <td>-1633887856876571208</td>\n",
       "      <td>1</td>\n",
       "      <td>0</td>\n",
       "    </tr>\n",
       "    <tr>\n",
       "      <th>3</th>\n",
       "      <td>2</td>\n",
       "      <td>-653184325010919369</td>\n",
       "      <td>1</td>\n",
       "      <td>1</td>\n",
       "    </tr>\n",
       "    <tr>\n",
       "      <th>4</th>\n",
       "      <td>2</td>\n",
       "      <td>8693964245073640147</td>\n",
       "      <td>1</td>\n",
       "      <td>1</td>\n",
       "    </tr>\n",
       "  </tbody>\n",
       "</table>\n",
       "</div>"
      ],
      "text/plain": [
       "   event_id               app_id  is_installed  is_active\n",
       "0         2  5927333115845830913             1          1\n",
       "1         2 -5720078949152207372             1          0\n",
       "2         2 -1633887856876571208             1          0\n",
       "3         2  -653184325010919369             1          1\n",
       "4         2  8693964245073640147             1          1"
      ]
     },
     "execution_count": 109,
     "metadata": {},
     "output_type": "execute_result"
    },
    {
     "data": {
      "text/html": [
       "<div>\n",
       "<style scoped>\n",
       "    .dataframe tbody tr th:only-of-type {\n",
       "        vertical-align: middle;\n",
       "    }\n",
       "\n",
       "    .dataframe tbody tr th {\n",
       "        vertical-align: top;\n",
       "    }\n",
       "\n",
       "    .dataframe thead th {\n",
       "        text-align: right;\n",
       "    }\n",
       "</style>\n",
       "<table border=\"1\" class=\"dataframe\">\n",
       "  <thead>\n",
       "    <tr style=\"text-align: right;\">\n",
       "      <th></th>\n",
       "      <th>label_id</th>\n",
       "      <th>category</th>\n",
       "    </tr>\n",
       "  </thead>\n",
       "  <tbody>\n",
       "    <tr>\n",
       "      <th>0</th>\n",
       "      <td>1</td>\n",
       "      <td>NaN</td>\n",
       "    </tr>\n",
       "    <tr>\n",
       "      <th>1</th>\n",
       "      <td>2</td>\n",
       "      <td>game-game type</td>\n",
       "    </tr>\n",
       "    <tr>\n",
       "      <th>2</th>\n",
       "      <td>3</td>\n",
       "      <td>game-Game themes</td>\n",
       "    </tr>\n",
       "    <tr>\n",
       "      <th>3</th>\n",
       "      <td>4</td>\n",
       "      <td>game-Art Style</td>\n",
       "    </tr>\n",
       "    <tr>\n",
       "      <th>4</th>\n",
       "      <td>5</td>\n",
       "      <td>game-Leisure time</td>\n",
       "    </tr>\n",
       "  </tbody>\n",
       "</table>\n",
       "</div>"
      ],
      "text/plain": [
       "   label_id           category\n",
       "0         1                NaN\n",
       "1         2     game-game type\n",
       "2         3   game-Game themes\n",
       "3         4     game-Art Style\n",
       "4         5  game-Leisure time"
      ]
     },
     "execution_count": 109,
     "metadata": {},
     "output_type": "execute_result"
    },
    {
     "data": {
      "text/html": [
       "<div>\n",
       "<style scoped>\n",
       "    .dataframe tbody tr th:only-of-type {\n",
       "        vertical-align: middle;\n",
       "    }\n",
       "\n",
       "    .dataframe tbody tr th {\n",
       "        vertical-align: top;\n",
       "    }\n",
       "\n",
       "    .dataframe thead th {\n",
       "        text-align: right;\n",
       "    }\n",
       "</style>\n",
       "<table border=\"1\" class=\"dataframe\">\n",
       "  <thead>\n",
       "    <tr style=\"text-align: right;\">\n",
       "      <th></th>\n",
       "      <th>event_id</th>\n",
       "      <th>device_id</th>\n",
       "      <th>timestamp</th>\n",
       "      <th>longitude</th>\n",
       "      <th>latitude</th>\n",
       "      <th>city</th>\n",
       "      <th>cc</th>\n",
       "      <th>time_dl</th>\n",
       "      <th>wkday</th>\n",
       "    </tr>\n",
       "  </thead>\n",
       "  <tbody>\n",
       "    <tr>\n",
       "      <th>0</th>\n",
       "      <td>1</td>\n",
       "      <td>29182687948017175</td>\n",
       "      <td>2016-05-01 00:55:25</td>\n",
       "      <td>121.38</td>\n",
       "      <td>31.24</td>\n",
       "      <td>Changzheng</td>\n",
       "      <td>CN</td>\n",
       "      <td>00:55:25</td>\n",
       "      <td>6</td>\n",
       "    </tr>\n",
       "    <tr>\n",
       "      <th>1</th>\n",
       "      <td>2</td>\n",
       "      <td>-6401643145415154744</td>\n",
       "      <td>2016-05-01 00:54:12</td>\n",
       "      <td>103.65</td>\n",
       "      <td>30.97</td>\n",
       "      <td>Zitong</td>\n",
       "      <td>CN</td>\n",
       "      <td>00:54:12</td>\n",
       "      <td>6</td>\n",
       "    </tr>\n",
       "    <tr>\n",
       "      <th>2</th>\n",
       "      <td>3</td>\n",
       "      <td>-4833982096941402721</td>\n",
       "      <td>2016-05-01 00:08:05</td>\n",
       "      <td>106.60</td>\n",
       "      <td>29.70</td>\n",
       "      <td>Huixing</td>\n",
       "      <td>CN</td>\n",
       "      <td>00:08:05</td>\n",
       "      <td>6</td>\n",
       "    </tr>\n",
       "    <tr>\n",
       "      <th>3</th>\n",
       "      <td>4</td>\n",
       "      <td>-6815121365017318426</td>\n",
       "      <td>2016-05-01 00:06:40</td>\n",
       "      <td>104.27</td>\n",
       "      <td>23.28</td>\n",
       "      <td>Wenshan City</td>\n",
       "      <td>CN</td>\n",
       "      <td>00:06:40</td>\n",
       "      <td>6</td>\n",
       "    </tr>\n",
       "    <tr>\n",
       "      <th>4</th>\n",
       "      <td>5</td>\n",
       "      <td>-5373797595892518570</td>\n",
       "      <td>2016-05-01 00:07:18</td>\n",
       "      <td>115.88</td>\n",
       "      <td>28.66</td>\n",
       "      <td>Taohua</td>\n",
       "      <td>CN</td>\n",
       "      <td>00:07:18</td>\n",
       "      <td>6</td>\n",
       "    </tr>\n",
       "  </tbody>\n",
       "</table>\n",
       "</div>"
      ],
      "text/plain": [
       "   event_id            device_id            timestamp  longitude  latitude  \\\n",
       "0         1    29182687948017175  2016-05-01 00:55:25     121.38     31.24   \n",
       "1         2 -6401643145415154744  2016-05-01 00:54:12     103.65     30.97   \n",
       "2         3 -4833982096941402721  2016-05-01 00:08:05     106.60     29.70   \n",
       "3         4 -6815121365017318426  2016-05-01 00:06:40     104.27     23.28   \n",
       "4         5 -5373797595892518570  2016-05-01 00:07:18     115.88     28.66   \n",
       "\n",
       "           city  cc   time_dl  wkday  \n",
       "0    Changzheng  CN  00:55:25      6  \n",
       "1        Zitong  CN  00:54:12      6  \n",
       "2       Huixing  CN  00:08:05      6  \n",
       "3  Wenshan City  CN  00:06:40      6  \n",
       "4        Taohua  CN  00:07:18      6  "
      ]
     },
     "execution_count": 109,
     "metadata": {},
     "output_type": "execute_result"
    },
    {
     "data": {
      "text/html": [
       "<div>\n",
       "<style scoped>\n",
       "    .dataframe tbody tr th:only-of-type {\n",
       "        vertical-align: middle;\n",
       "    }\n",
       "\n",
       "    .dataframe tbody tr th {\n",
       "        vertical-align: top;\n",
       "    }\n",
       "\n",
       "    .dataframe thead th {\n",
       "        text-align: right;\n",
       "    }\n",
       "</style>\n",
       "<table border=\"1\" class=\"dataframe\">\n",
       "  <thead>\n",
       "    <tr style=\"text-align: right;\">\n",
       "      <th></th>\n",
       "      <th>app_id</th>\n",
       "      <th>label_id</th>\n",
       "    </tr>\n",
       "  </thead>\n",
       "  <tbody>\n",
       "    <tr>\n",
       "      <th>0</th>\n",
       "      <td>7324884708820027918</td>\n",
       "      <td>251</td>\n",
       "    </tr>\n",
       "    <tr>\n",
       "      <th>1</th>\n",
       "      <td>-4494216993218550286</td>\n",
       "      <td>251</td>\n",
       "    </tr>\n",
       "    <tr>\n",
       "      <th>2</th>\n",
       "      <td>6058196446775239644</td>\n",
       "      <td>406</td>\n",
       "    </tr>\n",
       "    <tr>\n",
       "      <th>3</th>\n",
       "      <td>6058196446775239644</td>\n",
       "      <td>407</td>\n",
       "    </tr>\n",
       "    <tr>\n",
       "      <th>4</th>\n",
       "      <td>8694625920731541625</td>\n",
       "      <td>406</td>\n",
       "    </tr>\n",
       "  </tbody>\n",
       "</table>\n",
       "</div>"
      ],
      "text/plain": [
       "                app_id  label_id\n",
       "0  7324884708820027918       251\n",
       "1 -4494216993218550286       251\n",
       "2  6058196446775239644       406\n",
       "3  6058196446775239644       407\n",
       "4  8694625920731541625       406"
      ]
     },
     "execution_count": 109,
     "metadata": {},
     "output_type": "execute_result"
    }
   ],
   "source": [
    "#Getting an idea on how each df connects with each other\n",
    "device_brand.head()\n",
    "appevents.head()\n",
    "labelcat.head()\n",
    "eventsdf.head()\n",
    "applabeldf.head()"
   ]
  },
  {
   "cell_type": "code",
   "execution_count": 110,
   "metadata": {
    "ExecuteTime": {
     "end_time": "2018-05-10T22:19:15.143244Z",
     "start_time": "2018-05-10T22:19:15.044811Z"
    },
    "code_folding": []
   },
   "outputs": [],
   "source": [
    "#Translating Phone brand to English for easier comprehension\n",
    "translate = {'三星':'samsung','天语':'Ktouch','海信':'hisense','联想':'lenovo','欧比':'obi','爱派尔':'ipair','努比亚':'nubia',\\\n",
    "             '优米':'youmi','朵唯':'dowe','黑米':'heymi','锤子':'hammer','酷比魔方':'koobee','美图':'meitu','尼比鲁':'nibilu','一加':'oneplus','优购':'yougo',\\\n",
    "             '诺基亚':'nokia','金立':'jinli','中兴':'zhongxing','糖葫芦':'candy','中国移动':'ccmc','语信':'yuxin','基伍':'kiwu','青橙':'greeno','华硕':'asus',\\\n",
    "             '夏新':'panosonic','维图':'weitu','艾优尼':'aiyouni','摩托罗拉':'moto','乡米':'xiangmi','米奇':'micky','大可乐':'bigcola',\\\n",
    "             '沃普丰':'wpf','神舟':'hasse','摩乐':'mole','酷派':'kupai','飞秒':'fs','米歌':'mige','富可视':'fks','德赛':'desci','梦米':'mengmi','乐视':'lshi','小杨树':'smallt','纽曼':'newman','邦华':'banghua',\\\n",
    "             'E派':'epai','华为':'Huawei','小米':'xiaomi','魅族':'meizu', '易派':'epai','普耐尔':'pner','欧新':'ouxin','西米':'ximi','海尔':'haier','波导':'bodao','糯米':'nuomi','唯米':'weimi','酷珀':'kupo','谷歌':'google','昂达':'ada','聆韵': 'lingyun'}"
   ]
  },
  {
   "cell_type": "code",
   "execution_count": 111,
   "metadata": {
    "ExecuteTime": {
     "end_time": "2018-05-10T22:19:15.860984Z",
     "start_time": "2018-05-10T22:19:15.726568Z"
    }
   },
   "outputs": [],
   "source": [
    "#Translating phone brand from Chinese to English, can't map because not all models are in chinese(or in translate)\n",
    "translate_list=[]\n",
    "for index, i in enumerate(device_brand['phone_brand']):\n",
    "    if i in translate:\n",
    "        translate_list.append(translate[i])\n",
    "    else:\n",
    "        translate_list.append(i)"
   ]
  },
  {
   "cell_type": "code",
   "execution_count": 112,
   "metadata": {
    "ExecuteTime": {
     "end_time": "2018-05-10T22:19:16.319914Z",
     "start_time": "2018-05-10T22:19:16.311869Z"
    }
   },
   "outputs": [
    {
     "data": {
      "text/plain": [
       "186716"
      ]
     },
     "execution_count": 112,
     "metadata": {},
     "output_type": "execute_result"
    }
   ],
   "source": [
    "len(device_brand.phone_brand)\n",
    "device_brand['phone_brand']=translate_list\n"
   ]
  },
  {
   "cell_type": "code",
   "execution_count": 69,
   "metadata": {
    "ExecuteTime": {
     "end_time": "2018-05-10T21:40:55.056223Z",
     "start_time": "2018-05-10T21:40:52.302551Z"
    }
   },
   "outputs": [],
   "source": [
    "#Using an offline reverse geocoder to get city and country data, also this takes a long time to run...\n",
    "counter =0\n",
    "eventsdf['city'] = ''\n",
    "tup_ls = []\n",
    "for i,j in zip(eventsdf['latitude'],eventsdf['longitude']):\n",
    "        lalong = (i,j)\n",
    "        tup_ls.append(lalong)\n",
    "\n",
    "\n"
   ]
  },
  {
   "cell_type": "code",
   "execution_count": null,
   "metadata": {
    "ExecuteTime": {
     "end_time": "2018-05-07T20:25:38.955433Z",
     "start_time": "2018-05-07T20:22:04.255Z"
    }
   },
   "outputs": [],
   "source": [
    "q_list = geo.query(tup_ls)\n",
    "name_l = []\n",
    "cc_l = []\n",
    "for q in q_list:\n",
    "    name_l.append(q['name'])\n",
    "    cc_l.append(q['cc'])"
   ]
  },
  {
   "cell_type": "code",
   "execution_count": null,
   "metadata": {
    "ExecuteTime": {
     "end_time": "2018-05-07T20:25:38.956504Z",
     "start_time": "2018-05-07T20:22:04.685Z"
    }
   },
   "outputs": [],
   "source": [
    "eventsdf['city'] = name_l\n",
    "eventsdf['cc'] = cc_l"
   ]
  },
  {
   "cell_type": "code",
   "execution_count": null,
   "metadata": {
    "ExecuteTime": {
     "end_time": "2018-05-07T20:25:38.957464Z",
     "start_time": "2018-05-07T20:22:05.254Z"
    }
   },
   "outputs": [],
   "source": [
    "#Filling NaN with none for better processing\n",
    "labelcat.fillna('None', inplace = True)"
   ]
  },
  {
   "cell_type": "code",
   "execution_count": null,
   "metadata": {
    "ExecuteTime": {
     "end_time": "2018-05-07T20:25:38.958502Z",
     "start_time": "2018-05-07T20:22:05.926Z"
    }
   },
   "outputs": [],
   "source": [
    "#Pulling out Month data\n",
    "eventsdf['time_dl'] = eventsdf['timestamp'].apply(lambda x: datetime.strptime(x, '%Y-%m-%d  %H:%M:%S').time())\n",
    "eventsdf['wkday'] = eventsdf['timestamp'].apply(lambda x: datetime.strptime(x, '%Y-%m-%d  %H:%M:%S').weekday())"
   ]
  },
  {
   "cell_type": "code",
   "execution_count": null,
   "metadata": {
    "ExecuteTime": {
     "end_time": "2018-05-07T20:25:38.959496Z",
     "start_time": "2018-05-07T20:22:06.295Z"
    }
   },
   "outputs": [],
   "source": [
    "#Writing a pickle file to save data\n",
    "\n",
    "with open('eventsdf.pkl', 'wb') as picklefile:\n",
    "    pickle.dump(eventsdf, picklefile)"
   ]
  },
  {
   "cell_type": "code",
   "execution_count": 27,
   "metadata": {
    "ExecuteTime": {
     "end_time": "2018-05-10T15:09:37.852729Z",
     "start_time": "2018-05-10T15:09:37.834645Z"
    }
   },
   "outputs": [
    {
     "data": {
      "text/plain": [
       "(3252950, 9)"
      ]
     },
     "execution_count": 27,
     "metadata": {},
     "output_type": "execute_result"
    }
   ],
   "source": [
    "eventsdf.shape"
   ]
  },
  {
   "cell_type": "markdown",
   "metadata": {},
   "source": [
    "## Merging the Data\n",
    "\n",
    "This section may become obsolete after I get the SQL database going, but as for now, it exists.***Delete Eventually***\n",
    "\n",
    "I will be using Inner joins to merge the data frames.  My guess is that both training and test data is in each of the auxilary columns, so I only want the intersection of the training dataframe and the auxilary dataframes.\n",
    "\n",
    "In this section, I also added some extra data.  I pulled out the datetime string and converted into into a readable datetime object.  The time of day and day of the week may not make much of a difference.  It depends on the culture of the society."
   ]
  },
  {
   "cell_type": "code",
   "execution_count": 113,
   "metadata": {
    "ExecuteTime": {
     "end_time": "2018-05-10T22:19:29.554783Z",
     "start_time": "2018-05-10T22:19:20.141198Z"
    }
   },
   "outputs": [],
   "source": [
    "#Loading DF into jupyter notebook\n",
    "eventsdf = pd.read_pickle('eventsdf.pkl')\n",
    "eventsdf = eventsdf[eventsdf['cc'] == \"CN\"]"
   ]
  },
  {
   "cell_type": "code",
   "execution_count": 114,
   "metadata": {
    "ExecuteTime": {
     "end_time": "2018-05-10T22:19:29.572773Z",
     "start_time": "2018-05-10T22:19:29.558492Z"
    }
   },
   "outputs": [],
   "source": [
    "def supermerge(dfleft):\n",
    "    result = pd.merge(dfleft, device_brand, how = 'inner', on = 'device_id')\n",
    "    print(len(result))\n",
    "    result = pd.merge(result, eventsdf, how = 'inner', on = 'device_id')\n",
    "    print(len(result))\n",
    "    result = pd.merge(result, appevents, how = 'inner', on = 'event_id')\n",
    "    print(len(result))\n",
    "    result = pd.merge(result, applabeldf, how = 'inner', on = 'app_id')\n",
    "    print(len(result))\n",
    "    result = pd.merge(result, labelcat, how = 'inner', on = 'label_id')\n",
    "    print(len(result))\n",
    "    return result"
   ]
  },
  {
   "cell_type": "code",
   "execution_count": null,
   "metadata": {
    "ExecuteTime": {
     "start_time": "2018-05-10T22:19:30.016Z"
    }
   },
   "outputs": [
    {
     "name": "stdout",
     "output_type": "stream",
     "text": [
      "74645\n",
      "828454\n",
      "4793232\n"
     ]
    }
   ],
   "source": [
    "traindf = supermerge(genderdf)"
   ]
  },
  {
   "cell_type": "code",
   "execution_count": null,
   "metadata": {
    "ExecuteTime": {
     "start_time": "2018-05-10T22:19:32.805Z"
    }
   },
   "outputs": [],
   "source": [
    "traindf.drop(['gender','age', 'longitude', 'latitude','label_id', 'time_dl','timestamp','cc', 'is_installed','device_id'], axis=1, inplace = True)\n",
    "traindf.app_id = traindf.app_id.apply(lambda x: str(x))\n",
    "traindf.event_id = traindf.event_id.apply(lambda x: str(x))"
   ]
  },
  {
   "cell_type": "code",
   "execution_count": null,
   "metadata": {
    "ExecuteTime": {
     "start_time": "2018-05-10T22:19:41.984Z"
    }
   },
   "outputs": [],
   "source": [
    "traindf.head()"
   ]
  },
  {
   "cell_type": "code",
   "execution_count": null,
   "metadata": {
    "ExecuteTime": {
     "start_time": "2018-05-10T22:19:42.275Z"
    }
   },
   "outputs": [],
   "source": [
    "len(traindf.event_id.unique())\n",
    "len(traindf.app_id.unique())\n",
    "len(traindf.category.unique())"
   ]
  },
  {
   "cell_type": "markdown",
   "metadata": {},
   "source": [
    "## Preprocessing\n",
    "\n",
    "The data has many categorical variables that we are using, so a little preprocessing is needed.  I will be using OneHotEncoder to do this for me."
   ]
  },
  {
   "cell_type": "code",
   "execution_count": null,
   "metadata": {
    "ExecuteTime": {
     "start_time": "2018-05-10T22:19:43.947Z"
    }
   },
   "outputs": [],
   "source": [
    "\n",
    "#split X and y into training and testing sets\n",
    "y = traindf['group']\n",
    "X= traindf.drop(['group'], axis=1)\n",
    "\n",
    "X_train, X_test, y_train, y_test = train_test_split(X, y, test_size=0.5, random_state=42, stratify = y)\n",
    "X_train2, X_test2, y_train2, y_test2 = train_test_split(X_train, y_train, test_size=0.5, random_state=42, stratify = y_train)\n",
    "X_train2, X_test2, y_train2, y_test2 = train_test_split(X_train2, y_train2, test_size=0.5, random_state=42, stratify = y_train2)\n",
    "X_train2, X_test2, y_train2, y_test2 = train_test_split(X_train2, y_train2, test_size=0.8, random_state=42, stratify = y_train2)\n"
   ]
  },
  {
   "cell_type": "code",
   "execution_count": 24,
   "metadata": {
    "ExecuteTime": {
     "end_time": "2018-05-10T20:41:09.032099Z",
     "start_time": "2018-05-10T20:41:07.809033Z"
    }
   },
   "outputs": [],
   "source": [
    "from sklearn import preprocessing\n",
    "import patsy\n",
    "enc = preprocessing.OneHotEncoder(sparse=False)"
   ]
  },
  {
   "cell_type": "code",
   "execution_count": 25,
   "metadata": {
    "ExecuteTime": {
     "end_time": "2018-05-10T20:41:09.039116Z",
     "start_time": "2018-05-10T20:41:09.034128Z"
    }
   },
   "outputs": [],
   "source": [
    "def trans(df):\n",
    "    for column in df.columns:\n",
    "        if df[column].dtype == type(object):\n",
    "            le = preprocessing.LabelEncoder()\n",
    "            df[column] = le.fit_transform(df[column])\n",
    "    return df"
   ]
  },
  {
   "cell_type": "code",
   "execution_count": 27,
   "metadata": {
    "ExecuteTime": {
     "end_time": "2018-05-10T20:41:19.135011Z",
     "start_time": "2018-05-10T20:41:18.968733Z"
    }
   },
   "outputs": [],
   "source": [
    "newtraindf = trans(X_train2)\n",
    "newdf = X_train2.join(y_train2)"
   ]
  },
  {
   "cell_type": "code",
   "execution_count": 29,
   "metadata": {
    "ExecuteTime": {
     "end_time": "2018-05-10T20:43:19.087395Z",
     "start_time": "2018-05-10T20:43:18.992723Z"
    }
   },
   "outputs": [],
   "source": [
    "newdf.drop('cc', axis=1, inplace=True)"
   ]
  },
  {
   "cell_type": "code",
   "execution_count": null,
   "metadata": {
    "ExecuteTime": {
     "start_time": "2018-05-10T20:31:38.594Z"
    },
    "code_folding": []
   },
   "outputs": [],
   "source": [
    "#OHE lines\n",
    "newdf = enc.fit_transform(newtraindf[['phone_brand', 'device_model', 'event_id', 'city', 'cc','wkday', 'app_id', 'category']])\n",
    "\n",
    "newdf = pd.DataFrame(newdf)\n",
    "\n",
    "newdf = newtraindf.join(newdf)\n"
   ]
  },
  {
   "cell_type": "code",
   "execution_count": null,
   "metadata": {
    "ExecuteTime": {
     "start_time": "2018-05-10T20:31:43.272Z"
    }
   },
   "outputs": [],
   "source": [
    "newdf"
   ]
  },
  {
   "cell_type": "code",
   "execution_count": null,
   "metadata": {
    "ExecuteTime": {
     "end_time": "2018-05-10T15:18:10.951122Z",
     "start_time": "2018-05-10T15:18:03.931Z"
    },
    "code_folding": []
   },
   "outputs": [],
   "source": [
    "col_name = ['phone_brand', 'device_model', 'event_id', 'city', 'cc','wkday', 'app_id', 'category']\n",
    "col_name2=[]\n",
    "for i in col_name:\n",
    "    for ind,j in enumerate(range(len(newdf[i].unique()))):\n",
    "        col_name2.append(i + ' ' + str(ind))\n",
    "    \n",
    "    \n",
    "    "
   ]
  },
  {
   "cell_type": "code",
   "execution_count": null,
   "metadata": {
    "ExecuteTime": {
     "end_time": "2018-05-10T15:18:10.951885Z",
     "start_time": "2018-05-10T15:18:04.408Z"
    }
   },
   "outputs": [],
   "source": [
    "col_name = ['group', 'phone_brand', 'device_model', 'event_id', 'city', 'cc','time_dl', 'wkday', 'app_id', 'is_active', 'category']"
   ]
  },
  {
   "cell_type": "code",
   "execution_count": null,
   "metadata": {
    "ExecuteTime": {
     "end_time": "2018-05-10T15:18:10.952610Z",
     "start_time": "2018-05-10T15:18:04.832Z"
    }
   },
   "outputs": [],
   "source": [
    "newdf.columns = (col_name+col_name2)\n",
    "newdf = newdf.drop(['phone_brand', 'device_model', 'event_id', 'city', 'cc','wkday', 'app_id', 'category'], axis=1)"
   ]
  },
  {
   "cell_type": "code",
   "execution_count": null,
   "metadata": {
    "ExecuteTime": {
     "end_time": "2018-05-10T15:18:10.953501Z",
     "start_time": "2018-05-10T15:18:05.354Z"
    }
   },
   "outputs": [],
   "source": [
    "fig = sns.distplot(newtraindf.group, kde=False)\n",
    "fig.set_xticklabels(clas,rotation=45)\n",
    "fig.set(xlim = (0,12), xticks = range(12))\n",
    "plt.show()"
   ]
  },
  {
   "cell_type": "markdown",
   "metadata": {},
   "source": [
    "## Undersampling to even out imbalanced classes\n",
    "\n",
    "The undersampling method of Cluster centroids will be employed to tame the imblanced classes."
   ]
  },
  {
   "cell_type": "code",
   "execution_count": 31,
   "metadata": {
    "ExecuteTime": {
     "end_time": "2018-05-10T20:43:37.213075Z",
     "start_time": "2018-05-10T20:43:37.101122Z"
    }
   },
   "outputs": [],
   "source": [
    "from imblearn.under_sampling import (ClusterCentroids, RandomUnderSampler, NearMiss)\n",
    "cc = ClusterCentroids(random_state = 0)\n",
    "nm = NearMiss(version=2, random_state=0)"
   ]
  },
  {
   "cell_type": "code",
   "execution_count": 68,
   "metadata": {
    "ExecuteTime": {
     "end_time": "2018-05-10T17:51:33.382817Z",
     "start_time": "2018-05-10T17:48:40.663881Z"
    }
   },
   "outputs": [],
   "source": [
    "\"\"\"y = traindf['group']\n",
    "X= traindf.drop(['group'], axis=1)\n",
    "X_train, X_test, y_train, y_test = train_test_split(X, y, test_size=0.5, random_state=42, stratify = y)\n",
    "X_train2, X_test2, y_train2, y_test2 = train_test_split(X_train, y_train, test_size=0.5, random_state=42, stratify = y_train)\n",
    "X_train2, X_test2, y_train2, y_test2 = train_test_split(X_train2, y_train2, test_size=0.5, random_state=42, stratify = y_train2)\n",
    "X_train2, X_test2, y_train2, y_test2 = train_test_split(X_train2, y_train2, test_size=0.5, random_state=42, stratify = y_train2)\n",
    "X_train2, X_test2, y_train2, y_test2 = train_test_split(X_train2, y_train2, test_size=0.5, random_state=42, stratify = y_train2)\n",
    "\n",
    "X_train2, X_test2, y_train2, y_test2 = train_test_split(X_train2, y_train2, test_size=0.8, random_state=42, stratify = y_train2)\n",
    "\"\"\"\n"
   ]
  },
  {
   "cell_type": "code",
   "execution_count": 30,
   "metadata": {
    "ExecuteTime": {
     "end_time": "2018-05-10T20:43:30.415994Z",
     "start_time": "2018-05-10T20:43:30.400645Z"
    }
   },
   "outputs": [
    {
     "ename": "NameError",
     "evalue": "name 'cc' is not defined",
     "output_type": "error",
     "traceback": [
      "\u001b[0;31m---------------------------------------------------------------------------\u001b[0m",
      "\u001b[0;31mNameError\u001b[0m                                 Traceback (most recent call last)",
      "\u001b[0;32m<ipython-input-30-b02a272338f2>\u001b[0m in \u001b[0;36m<module>\u001b[0;34m()\u001b[0m\n\u001b[0;32m----> 1\u001b[0;31m \u001b[0mX_resampled\u001b[0m\u001b[0;34m,\u001b[0m \u001b[0my_resampled\u001b[0m \u001b[0;34m=\u001b[0m \u001b[0mcc\u001b[0m\u001b[0;34m.\u001b[0m\u001b[0mfit_sample\u001b[0m\u001b[0;34m(\u001b[0m\u001b[0mnewdf\u001b[0m\u001b[0;34m)\u001b[0m\u001b[0;34m\u001b[0m\u001b[0m\n\u001b[0m",
      "\u001b[0;31mNameError\u001b[0m: name 'cc' is not defined"
     ]
    }
   ],
   "source": [
    "X_resampled, y_resampled = cc.fit_sample(X_train2, y_train2)"
   ]
  },
  {
   "cell_type": "code",
   "execution_count": 33,
   "metadata": {
    "ExecuteTime": {
     "end_time": "2018-05-10T21:03:28.904822Z",
     "start_time": "2018-05-10T20:44:03.822130Z"
    }
   },
   "outputs": [
    {
     "ename": "KeyboardInterrupt",
     "evalue": "",
     "output_type": "error",
     "traceback": [
      "\u001b[0;31m---------------------------------------------------------------------------\u001b[0m",
      "\u001b[0;31mKeyboardInterrupt\u001b[0m                         Traceback (most recent call last)",
      "\u001b[0;32m<ipython-input-33-a29306e81d87>\u001b[0m in \u001b[0;36m<module>\u001b[0;34m()\u001b[0m\n\u001b[0;32m----> 1\u001b[0;31m \u001b[0mX_res\u001b[0m\u001b[0;34m,\u001b[0m \u001b[0my_res\u001b[0m \u001b[0;34m=\u001b[0m \u001b[0mnm\u001b[0m\u001b[0;34m.\u001b[0m\u001b[0mfit_sample\u001b[0m\u001b[0;34m(\u001b[0m\u001b[0mX_train2\u001b[0m\u001b[0;34m,\u001b[0m \u001b[0my_train2\u001b[0m\u001b[0;34m)\u001b[0m\u001b[0;34m\u001b[0m\u001b[0m\n\u001b[0m",
      "\u001b[0;32m/anaconda3/lib/python3.6/site-packages/imblearn/base.py\u001b[0m in \u001b[0;36mfit_sample\u001b[0;34m(self, X, y)\u001b[0m\n\u001b[1;32m     86\u001b[0m         \"\"\"\n\u001b[1;32m     87\u001b[0m \u001b[0;34m\u001b[0m\u001b[0m\n\u001b[0;32m---> 88\u001b[0;31m         \u001b[0;32mreturn\u001b[0m \u001b[0mself\u001b[0m\u001b[0;34m.\u001b[0m\u001b[0mfit\u001b[0m\u001b[0;34m(\u001b[0m\u001b[0mX\u001b[0m\u001b[0;34m,\u001b[0m \u001b[0my\u001b[0m\u001b[0;34m)\u001b[0m\u001b[0;34m.\u001b[0m\u001b[0msample\u001b[0m\u001b[0;34m(\u001b[0m\u001b[0mX\u001b[0m\u001b[0;34m,\u001b[0m \u001b[0my\u001b[0m\u001b[0;34m)\u001b[0m\u001b[0;34m\u001b[0m\u001b[0m\n\u001b[0m\u001b[1;32m     89\u001b[0m \u001b[0;34m\u001b[0m\u001b[0m\n\u001b[1;32m     90\u001b[0m     \u001b[0;34m@\u001b[0m\u001b[0mabstractmethod\u001b[0m\u001b[0;34m\u001b[0m\u001b[0m\n",
      "\u001b[0;32m/anaconda3/lib/python3.6/site-packages/imblearn/base.py\u001b[0m in \u001b[0;36msample\u001b[0;34m(self, X, y)\u001b[0m\n\u001b[1;32m     62\u001b[0m         \u001b[0mself\u001b[0m\u001b[0;34m.\u001b[0m\u001b[0m_check_X_y\u001b[0m\u001b[0;34m(\u001b[0m\u001b[0mX\u001b[0m\u001b[0;34m,\u001b[0m \u001b[0my\u001b[0m\u001b[0;34m)\u001b[0m\u001b[0;34m\u001b[0m\u001b[0m\n\u001b[1;32m     63\u001b[0m \u001b[0;34m\u001b[0m\u001b[0m\n\u001b[0;32m---> 64\u001b[0;31m         \u001b[0;32mreturn\u001b[0m \u001b[0mself\u001b[0m\u001b[0;34m.\u001b[0m\u001b[0m_sample\u001b[0m\u001b[0;34m(\u001b[0m\u001b[0mX\u001b[0m\u001b[0;34m,\u001b[0m \u001b[0my\u001b[0m\u001b[0;34m)\u001b[0m\u001b[0;34m\u001b[0m\u001b[0m\n\u001b[0m\u001b[1;32m     65\u001b[0m \u001b[0;34m\u001b[0m\u001b[0m\n\u001b[1;32m     66\u001b[0m     \u001b[0;32mdef\u001b[0m \u001b[0mfit_sample\u001b[0m\u001b[0;34m(\u001b[0m\u001b[0mself\u001b[0m\u001b[0;34m,\u001b[0m \u001b[0mX\u001b[0m\u001b[0;34m,\u001b[0m \u001b[0my\u001b[0m\u001b[0;34m)\u001b[0m\u001b[0;34m:\u001b[0m\u001b[0;34m\u001b[0m\u001b[0m\n",
      "\u001b[0;32m/anaconda3/lib/python3.6/site-packages/imblearn/under_sampling/prototype_selection/nearmiss.py\u001b[0m in \u001b[0;36m_sample\u001b[0;34m(self, X, y)\u001b[0m\n\u001b[1;32m    287\u001b[0m                 \u001b[0;32melif\u001b[0m \u001b[0mself\u001b[0m\u001b[0;34m.\u001b[0m\u001b[0mversion\u001b[0m \u001b[0;34m==\u001b[0m \u001b[0;36m2\u001b[0m\u001b[0;34m:\u001b[0m\u001b[0;34m\u001b[0m\u001b[0m\n\u001b[1;32m    288\u001b[0m                     dist_vec, idx_vec = self.nn_.kneighbors(\n\u001b[0;32m--> 289\u001b[0;31m                         X_class, n_neighbors=target_stats[class_minority])\n\u001b[0m\u001b[1;32m    290\u001b[0m                     index_target_class = self._selection_dist_based(\n\u001b[1;32m    291\u001b[0m                         \u001b[0mX\u001b[0m\u001b[0;34m,\u001b[0m \u001b[0my\u001b[0m\u001b[0;34m,\u001b[0m \u001b[0mdist_vec\u001b[0m\u001b[0;34m,\u001b[0m \u001b[0mn_samples\u001b[0m\u001b[0;34m,\u001b[0m \u001b[0mtarget_class\u001b[0m\u001b[0;34m,\u001b[0m\u001b[0;34m\u001b[0m\u001b[0m\n",
      "\u001b[0;32m/anaconda3/lib/python3.6/site-packages/sklearn/neighbors/base.py\u001b[0m in \u001b[0;36mkneighbors\u001b[0;34m(self, X, n_neighbors, return_distance)\u001b[0m\n\u001b[1;32m    383\u001b[0m                 delayed(self._tree.query, check_pickle=False)(\n\u001b[1;32m    384\u001b[0m                     X[s], n_neighbors, return_distance)\n\u001b[0;32m--> 385\u001b[0;31m                 \u001b[0;32mfor\u001b[0m \u001b[0ms\u001b[0m \u001b[0;32min\u001b[0m \u001b[0mgen_even_slices\u001b[0m\u001b[0;34m(\u001b[0m\u001b[0mX\u001b[0m\u001b[0;34m.\u001b[0m\u001b[0mshape\u001b[0m\u001b[0;34m[\u001b[0m\u001b[0;36m0\u001b[0m\u001b[0;34m]\u001b[0m\u001b[0;34m,\u001b[0m \u001b[0mn_jobs\u001b[0m\u001b[0;34m)\u001b[0m\u001b[0;34m\u001b[0m\u001b[0m\n\u001b[0m\u001b[1;32m    386\u001b[0m             )\n\u001b[1;32m    387\u001b[0m             \u001b[0;32mif\u001b[0m \u001b[0mreturn_distance\u001b[0m\u001b[0;34m:\u001b[0m\u001b[0;34m\u001b[0m\u001b[0m\n",
      "\u001b[0;32m/anaconda3/lib/python3.6/site-packages/sklearn/externals/joblib/parallel.py\u001b[0m in \u001b[0;36m__call__\u001b[0;34m(self, iterable)\u001b[0m\n\u001b[1;32m    777\u001b[0m             \u001b[0;31m# was dispatched. In particular this covers the edge\u001b[0m\u001b[0;34m\u001b[0m\u001b[0;34m\u001b[0m\u001b[0m\n\u001b[1;32m    778\u001b[0m             \u001b[0;31m# case of Parallel used with an exhausted iterator.\u001b[0m\u001b[0;34m\u001b[0m\u001b[0;34m\u001b[0m\u001b[0m\n\u001b[0;32m--> 779\u001b[0;31m             \u001b[0;32mwhile\u001b[0m \u001b[0mself\u001b[0m\u001b[0;34m.\u001b[0m\u001b[0mdispatch_one_batch\u001b[0m\u001b[0;34m(\u001b[0m\u001b[0miterator\u001b[0m\u001b[0;34m)\u001b[0m\u001b[0;34m:\u001b[0m\u001b[0;34m\u001b[0m\u001b[0m\n\u001b[0m\u001b[1;32m    780\u001b[0m                 \u001b[0mself\u001b[0m\u001b[0;34m.\u001b[0m\u001b[0m_iterating\u001b[0m \u001b[0;34m=\u001b[0m \u001b[0;32mTrue\u001b[0m\u001b[0;34m\u001b[0m\u001b[0m\n\u001b[1;32m    781\u001b[0m             \u001b[0;32melse\u001b[0m\u001b[0;34m:\u001b[0m\u001b[0;34m\u001b[0m\u001b[0m\n",
      "\u001b[0;32m/anaconda3/lib/python3.6/site-packages/sklearn/externals/joblib/parallel.py\u001b[0m in \u001b[0;36mdispatch_one_batch\u001b[0;34m(self, iterator)\u001b[0m\n\u001b[1;32m    623\u001b[0m                 \u001b[0;32mreturn\u001b[0m \u001b[0;32mFalse\u001b[0m\u001b[0;34m\u001b[0m\u001b[0m\n\u001b[1;32m    624\u001b[0m             \u001b[0;32melse\u001b[0m\u001b[0;34m:\u001b[0m\u001b[0;34m\u001b[0m\u001b[0m\n\u001b[0;32m--> 625\u001b[0;31m                 \u001b[0mself\u001b[0m\u001b[0;34m.\u001b[0m\u001b[0m_dispatch\u001b[0m\u001b[0;34m(\u001b[0m\u001b[0mtasks\u001b[0m\u001b[0;34m)\u001b[0m\u001b[0;34m\u001b[0m\u001b[0m\n\u001b[0m\u001b[1;32m    626\u001b[0m                 \u001b[0;32mreturn\u001b[0m \u001b[0;32mTrue\u001b[0m\u001b[0;34m\u001b[0m\u001b[0m\n\u001b[1;32m    627\u001b[0m \u001b[0;34m\u001b[0m\u001b[0m\n",
      "\u001b[0;32m/anaconda3/lib/python3.6/site-packages/sklearn/externals/joblib/parallel.py\u001b[0m in \u001b[0;36m_dispatch\u001b[0;34m(self, batch)\u001b[0m\n\u001b[1;32m    586\u001b[0m         \u001b[0mdispatch_timestamp\u001b[0m \u001b[0;34m=\u001b[0m \u001b[0mtime\u001b[0m\u001b[0;34m.\u001b[0m\u001b[0mtime\u001b[0m\u001b[0;34m(\u001b[0m\u001b[0;34m)\u001b[0m\u001b[0;34m\u001b[0m\u001b[0m\n\u001b[1;32m    587\u001b[0m         \u001b[0mcb\u001b[0m \u001b[0;34m=\u001b[0m \u001b[0mBatchCompletionCallBack\u001b[0m\u001b[0;34m(\u001b[0m\u001b[0mdispatch_timestamp\u001b[0m\u001b[0;34m,\u001b[0m \u001b[0mlen\u001b[0m\u001b[0;34m(\u001b[0m\u001b[0mbatch\u001b[0m\u001b[0;34m)\u001b[0m\u001b[0;34m,\u001b[0m \u001b[0mself\u001b[0m\u001b[0;34m)\u001b[0m\u001b[0;34m\u001b[0m\u001b[0m\n\u001b[0;32m--> 588\u001b[0;31m         \u001b[0mjob\u001b[0m \u001b[0;34m=\u001b[0m \u001b[0mself\u001b[0m\u001b[0;34m.\u001b[0m\u001b[0m_backend\u001b[0m\u001b[0;34m.\u001b[0m\u001b[0mapply_async\u001b[0m\u001b[0;34m(\u001b[0m\u001b[0mbatch\u001b[0m\u001b[0;34m,\u001b[0m \u001b[0mcallback\u001b[0m\u001b[0;34m=\u001b[0m\u001b[0mcb\u001b[0m\u001b[0;34m)\u001b[0m\u001b[0;34m\u001b[0m\u001b[0m\n\u001b[0m\u001b[1;32m    589\u001b[0m         \u001b[0mself\u001b[0m\u001b[0;34m.\u001b[0m\u001b[0m_jobs\u001b[0m\u001b[0;34m.\u001b[0m\u001b[0mappend\u001b[0m\u001b[0;34m(\u001b[0m\u001b[0mjob\u001b[0m\u001b[0;34m)\u001b[0m\u001b[0;34m\u001b[0m\u001b[0m\n\u001b[1;32m    590\u001b[0m \u001b[0;34m\u001b[0m\u001b[0m\n",
      "\u001b[0;32m/anaconda3/lib/python3.6/site-packages/sklearn/externals/joblib/_parallel_backends.py\u001b[0m in \u001b[0;36mapply_async\u001b[0;34m(self, func, callback)\u001b[0m\n\u001b[1;32m    109\u001b[0m     \u001b[0;32mdef\u001b[0m \u001b[0mapply_async\u001b[0m\u001b[0;34m(\u001b[0m\u001b[0mself\u001b[0m\u001b[0;34m,\u001b[0m \u001b[0mfunc\u001b[0m\u001b[0;34m,\u001b[0m \u001b[0mcallback\u001b[0m\u001b[0;34m=\u001b[0m\u001b[0;32mNone\u001b[0m\u001b[0;34m)\u001b[0m\u001b[0;34m:\u001b[0m\u001b[0;34m\u001b[0m\u001b[0m\n\u001b[1;32m    110\u001b[0m         \u001b[0;34m\"\"\"Schedule a func to be run\"\"\"\u001b[0m\u001b[0;34m\u001b[0m\u001b[0m\n\u001b[0;32m--> 111\u001b[0;31m         \u001b[0mresult\u001b[0m \u001b[0;34m=\u001b[0m \u001b[0mImmediateResult\u001b[0m\u001b[0;34m(\u001b[0m\u001b[0mfunc\u001b[0m\u001b[0;34m)\u001b[0m\u001b[0;34m\u001b[0m\u001b[0m\n\u001b[0m\u001b[1;32m    112\u001b[0m         \u001b[0;32mif\u001b[0m \u001b[0mcallback\u001b[0m\u001b[0;34m:\u001b[0m\u001b[0;34m\u001b[0m\u001b[0m\n\u001b[1;32m    113\u001b[0m             \u001b[0mcallback\u001b[0m\u001b[0;34m(\u001b[0m\u001b[0mresult\u001b[0m\u001b[0;34m)\u001b[0m\u001b[0;34m\u001b[0m\u001b[0m\n",
      "\u001b[0;32m/anaconda3/lib/python3.6/site-packages/sklearn/externals/joblib/_parallel_backends.py\u001b[0m in \u001b[0;36m__init__\u001b[0;34m(self, batch)\u001b[0m\n\u001b[1;32m    330\u001b[0m         \u001b[0;31m# Don't delay the application, to avoid keeping the input\u001b[0m\u001b[0;34m\u001b[0m\u001b[0;34m\u001b[0m\u001b[0m\n\u001b[1;32m    331\u001b[0m         \u001b[0;31m# arguments in memory\u001b[0m\u001b[0;34m\u001b[0m\u001b[0;34m\u001b[0m\u001b[0m\n\u001b[0;32m--> 332\u001b[0;31m         \u001b[0mself\u001b[0m\u001b[0;34m.\u001b[0m\u001b[0mresults\u001b[0m \u001b[0;34m=\u001b[0m \u001b[0mbatch\u001b[0m\u001b[0;34m(\u001b[0m\u001b[0;34m)\u001b[0m\u001b[0;34m\u001b[0m\u001b[0m\n\u001b[0m\u001b[1;32m    333\u001b[0m \u001b[0;34m\u001b[0m\u001b[0m\n\u001b[1;32m    334\u001b[0m     \u001b[0;32mdef\u001b[0m \u001b[0mget\u001b[0m\u001b[0;34m(\u001b[0m\u001b[0mself\u001b[0m\u001b[0;34m)\u001b[0m\u001b[0;34m:\u001b[0m\u001b[0;34m\u001b[0m\u001b[0m\n",
      "\u001b[0;32m/anaconda3/lib/python3.6/site-packages/sklearn/externals/joblib/parallel.py\u001b[0m in \u001b[0;36m__call__\u001b[0;34m(self)\u001b[0m\n\u001b[1;32m    129\u001b[0m \u001b[0;34m\u001b[0m\u001b[0m\n\u001b[1;32m    130\u001b[0m     \u001b[0;32mdef\u001b[0m \u001b[0m__call__\u001b[0m\u001b[0;34m(\u001b[0m\u001b[0mself\u001b[0m\u001b[0;34m)\u001b[0m\u001b[0;34m:\u001b[0m\u001b[0;34m\u001b[0m\u001b[0m\n\u001b[0;32m--> 131\u001b[0;31m         \u001b[0;32mreturn\u001b[0m \u001b[0;34m[\u001b[0m\u001b[0mfunc\u001b[0m\u001b[0;34m(\u001b[0m\u001b[0;34m*\u001b[0m\u001b[0margs\u001b[0m\u001b[0;34m,\u001b[0m \u001b[0;34m**\u001b[0m\u001b[0mkwargs\u001b[0m\u001b[0;34m)\u001b[0m \u001b[0;32mfor\u001b[0m \u001b[0mfunc\u001b[0m\u001b[0;34m,\u001b[0m \u001b[0margs\u001b[0m\u001b[0;34m,\u001b[0m \u001b[0mkwargs\u001b[0m \u001b[0;32min\u001b[0m \u001b[0mself\u001b[0m\u001b[0;34m.\u001b[0m\u001b[0mitems\u001b[0m\u001b[0;34m]\u001b[0m\u001b[0;34m\u001b[0m\u001b[0m\n\u001b[0m\u001b[1;32m    132\u001b[0m \u001b[0;34m\u001b[0m\u001b[0m\n\u001b[1;32m    133\u001b[0m     \u001b[0;32mdef\u001b[0m \u001b[0m__len__\u001b[0m\u001b[0;34m(\u001b[0m\u001b[0mself\u001b[0m\u001b[0;34m)\u001b[0m\u001b[0;34m:\u001b[0m\u001b[0;34m\u001b[0m\u001b[0m\n",
      "\u001b[0;32m/anaconda3/lib/python3.6/site-packages/sklearn/externals/joblib/parallel.py\u001b[0m in \u001b[0;36m<listcomp>\u001b[0;34m(.0)\u001b[0m\n\u001b[1;32m    129\u001b[0m \u001b[0;34m\u001b[0m\u001b[0m\n\u001b[1;32m    130\u001b[0m     \u001b[0;32mdef\u001b[0m \u001b[0m__call__\u001b[0m\u001b[0;34m(\u001b[0m\u001b[0mself\u001b[0m\u001b[0;34m)\u001b[0m\u001b[0;34m:\u001b[0m\u001b[0;34m\u001b[0m\u001b[0m\n\u001b[0;32m--> 131\u001b[0;31m         \u001b[0;32mreturn\u001b[0m \u001b[0;34m[\u001b[0m\u001b[0mfunc\u001b[0m\u001b[0;34m(\u001b[0m\u001b[0;34m*\u001b[0m\u001b[0margs\u001b[0m\u001b[0;34m,\u001b[0m \u001b[0;34m**\u001b[0m\u001b[0mkwargs\u001b[0m\u001b[0;34m)\u001b[0m \u001b[0;32mfor\u001b[0m \u001b[0mfunc\u001b[0m\u001b[0;34m,\u001b[0m \u001b[0margs\u001b[0m\u001b[0;34m,\u001b[0m \u001b[0mkwargs\u001b[0m \u001b[0;32min\u001b[0m \u001b[0mself\u001b[0m\u001b[0;34m.\u001b[0m\u001b[0mitems\u001b[0m\u001b[0;34m]\u001b[0m\u001b[0;34m\u001b[0m\u001b[0m\n\u001b[0m\u001b[1;32m    132\u001b[0m \u001b[0;34m\u001b[0m\u001b[0m\n\u001b[1;32m    133\u001b[0m     \u001b[0;32mdef\u001b[0m \u001b[0m__len__\u001b[0m\u001b[0;34m(\u001b[0m\u001b[0mself\u001b[0m\u001b[0;34m)\u001b[0m\u001b[0;34m:\u001b[0m\u001b[0;34m\u001b[0m\u001b[0m\n",
      "\u001b[0;31mKeyboardInterrupt\u001b[0m: "
     ]
    }
   ],
   "source": [
    "X_res, y_res = nm.fit_sample(X_train2, y_train2)"
   ]
  },
  {
   "cell_type": "code",
   "execution_count": null,
   "metadata": {},
   "outputs": [],
   "source": [
    "resampled = X_resampled.join(y_resampled)\n",
    "fig = sns.distplot(newdf.group, kde=False)\n",
    "fig.set_xticklabels(clas,rotation=45)\n",
    "fig.set(xlim = (0,12), xticks = range(12))\n",
    "plt.show()"
   ]
  },
  {
   "cell_type": "code",
   "execution_count": null,
   "metadata": {},
   "outputs": [],
   "source": [
    "res= X_res.join(y_res)\n",
    "fig = sns.distplot(res.group, kde=False)\n",
    "fig.set_xticklabels(clas,rotation=45)\n",
    "fig.set(xlim = (0,12), xticks = range(12))\n",
    "plt.show()"
   ]
  },
  {
   "cell_type": "code",
   "execution_count": 63,
   "metadata": {
    "ExecuteTime": {
     "end_time": "2018-05-10T17:20:02.590117Z",
     "start_time": "2018-05-10T17:20:02.568284Z"
    }
   },
   "outputs": [],
   "source": [
    "def plot_resampling(X, y, sampling, ax):\n",
    "    X_res, y_res = sampling.fit_sample(X, y)\n",
    "    ax.scatter(X_res[:, 0], X_res[:, 1], c=y_res, alpha=0.8, edgecolor='k')\n",
    "    # make nice plotting\n",
    "    ax.spines['top'].set_visible(False)\n",
    "    ax.spines['right'].set_visible(False)\n",
    "    ax.get_xaxis().tick_bottom()\n",
    "    ax.get_yaxis().tick_left()\n",
    "    ax.spines['left'].set_position(('outward', 10))\n",
    "    ax.spines['bottom'].set_position(('outward', 10))\n",
    "    return Counter(y_res)"
   ]
  },
  {
   "cell_type": "code",
   "execution_count": 64,
   "metadata": {
    "ExecuteTime": {
     "end_time": "2018-05-10T17:20:03.450530Z",
     "start_time": "2018-05-10T17:20:02.962514Z"
    }
   },
   "outputs": [],
   "source": [
    "def plot_decision_function(X, y, clf, ax):\n",
    "    plot_step = 0.02\n",
    "    x_min, x_max = X[:, 0].min() - 1, X[:, 0].max() + 1\n",
    "    y_min, y_max = X[:, 1].min() - 1, X[:, 1].max() + 1\n",
    "    xx, yy = np.meshgrid(np.arange(x_min, x_max, plot_step),\n",
    "                         np.arange(y_min, y_max, plot_step))\n",
    "\n",
    "    Z = clf.predict(np.c_[xx.ravel(), yy.ravel()])\n",
    "    Z = Z.reshape(xx.shape)\n",
    "    ax.contourf(xx, yy, Z, alpha=0.4)\n",
    "    ax.scatter(X[:, 0], X[:, 1], alpha=0.8, c=y, edgecolor='k')"
   ]
  },
  {
   "cell_type": "code",
   "execution_count": 59,
   "metadata": {
    "ExecuteTime": {
     "end_time": "2018-05-10T17:10:00.112224Z",
     "start_time": "2018-05-10T16:43:54.550835Z"
    }
   },
   "outputs": [
    {
     "ename": "KeyboardInterrupt",
     "evalue": "",
     "output_type": "error",
     "traceback": [
      "\u001b[0;31m---------------------------------------------------------------------------\u001b[0m",
      "\u001b[0;31mKeyboardInterrupt\u001b[0m                         Traceback (most recent call last)",
      "\u001b[0;32m<ipython-input-59-4c7fb3f2811b>\u001b[0m in \u001b[0;36m<module>\u001b[0;34m()\u001b[0m\n\u001b[1;32m      3\u001b[0m \u001b[0mlogit\u001b[0m \u001b[0;34m=\u001b[0m \u001b[0mLogisticRegression\u001b[0m\u001b[0;34m(\u001b[0m\u001b[0;34m)\u001b[0m\u001b[0;34m\u001b[0m\u001b[0m\n\u001b[1;32m      4\u001b[0m \u001b[0mclf\u001b[0m \u001b[0;34m=\u001b[0m \u001b[0mmake_pipeline\u001b[0m\u001b[0;34m(\u001b[0m\u001b[0mcc\u001b[0m\u001b[0;34m,\u001b[0m \u001b[0mlogit\u001b[0m\u001b[0;34m)\u001b[0m\u001b[0;34m\u001b[0m\u001b[0m\n\u001b[0;32m----> 5\u001b[0;31m \u001b[0mclf\u001b[0m\u001b[0;34m.\u001b[0m\u001b[0mfit\u001b[0m\u001b[0;34m(\u001b[0m\u001b[0mX_train2\u001b[0m\u001b[0;34m,\u001b[0m \u001b[0my_train2\u001b[0m\u001b[0;34m)\u001b[0m\u001b[0;34m\u001b[0m\u001b[0m\n\u001b[0m\u001b[1;32m      6\u001b[0m \u001b[0mplot_decision_function\u001b[0m\u001b[0;34m(\u001b[0m\u001b[0mX_train2\u001b[0m\u001b[0;34m,\u001b[0m \u001b[0my_train2\u001b[0m\u001b[0;34m,\u001b[0m \u001b[0mclf\u001b[0m\u001b[0;34m,\u001b[0m \u001b[0max2\u001b[0m\u001b[0;34m)\u001b[0m\u001b[0;34m\u001b[0m\u001b[0m\n\u001b[1;32m      7\u001b[0m \u001b[0max2\u001b[0m\u001b[0;34m.\u001b[0m\u001b[0mset_title\u001b[0m\u001b[0;34m(\u001b[0m\u001b[0;34m'Decision function for {}'\u001b[0m\u001b[0;34m.\u001b[0m\u001b[0mformat\u001b[0m\u001b[0;34m(\u001b[0m\u001b[0mcc\u001b[0m\u001b[0;34m.\u001b[0m\u001b[0m__class__\u001b[0m\u001b[0;34m.\u001b[0m\u001b[0m__name__\u001b[0m\u001b[0;34m)\u001b[0m\u001b[0;34m)\u001b[0m\u001b[0;34m\u001b[0m\u001b[0m\n",
      "\u001b[0;32m/anaconda3/lib/python3.6/site-packages/imblearn/pipeline.py\u001b[0m in \u001b[0;36mfit\u001b[0;34m(self, X, y, **fit_params)\u001b[0m\n\u001b[1;32m    240\u001b[0m \u001b[0;34m\u001b[0m\u001b[0m\n\u001b[1;32m    241\u001b[0m         \"\"\"\n\u001b[0;32m--> 242\u001b[0;31m         \u001b[0mXt\u001b[0m\u001b[0;34m,\u001b[0m \u001b[0myt\u001b[0m\u001b[0;34m,\u001b[0m \u001b[0mfit_params\u001b[0m \u001b[0;34m=\u001b[0m \u001b[0mself\u001b[0m\u001b[0;34m.\u001b[0m\u001b[0m_fit\u001b[0m\u001b[0;34m(\u001b[0m\u001b[0mX\u001b[0m\u001b[0;34m,\u001b[0m \u001b[0my\u001b[0m\u001b[0;34m,\u001b[0m \u001b[0;34m**\u001b[0m\u001b[0mfit_params\u001b[0m\u001b[0;34m)\u001b[0m\u001b[0;34m\u001b[0m\u001b[0m\n\u001b[0m\u001b[1;32m    243\u001b[0m         \u001b[0;32mif\u001b[0m \u001b[0mself\u001b[0m\u001b[0;34m.\u001b[0m\u001b[0m_final_estimator\u001b[0m \u001b[0;32mis\u001b[0m \u001b[0;32mnot\u001b[0m \u001b[0;32mNone\u001b[0m\u001b[0;34m:\u001b[0m\u001b[0;34m\u001b[0m\u001b[0m\n\u001b[1;32m    244\u001b[0m             \u001b[0mself\u001b[0m\u001b[0;34m.\u001b[0m\u001b[0m_final_estimator\u001b[0m\u001b[0;34m.\u001b[0m\u001b[0mfit\u001b[0m\u001b[0;34m(\u001b[0m\u001b[0mXt\u001b[0m\u001b[0;34m,\u001b[0m \u001b[0myt\u001b[0m\u001b[0;34m,\u001b[0m \u001b[0;34m**\u001b[0m\u001b[0mfit_params\u001b[0m\u001b[0;34m)\u001b[0m\u001b[0;34m\u001b[0m\u001b[0m\n",
      "\u001b[0;32m/anaconda3/lib/python3.6/site-packages/imblearn/pipeline.py\u001b[0m in \u001b[0;36m_fit\u001b[0;34m(self, X, y, **fit_params)\u001b[0m\n\u001b[1;32m    203\u001b[0m                     Xt, yt, fitted_transformer = fit_sample_one_cached(\n\u001b[1;32m    204\u001b[0m                         \u001b[0mcloned_transformer\u001b[0m\u001b[0;34m,\u001b[0m \u001b[0mXt\u001b[0m\u001b[0;34m,\u001b[0m \u001b[0myt\u001b[0m\u001b[0;34m,\u001b[0m\u001b[0;34m\u001b[0m\u001b[0m\n\u001b[0;32m--> 205\u001b[0;31m                         **fit_params_steps[name])\n\u001b[0m\u001b[1;32m    206\u001b[0m                 \u001b[0;31m# Replace the transformer of the step with the fitted\u001b[0m\u001b[0;34m\u001b[0m\u001b[0;34m\u001b[0m\u001b[0m\n\u001b[1;32m    207\u001b[0m                 \u001b[0;31m# transformer. This is necessary when loading the transformer\u001b[0m\u001b[0;34m\u001b[0m\u001b[0;34m\u001b[0m\u001b[0m\n",
      "\u001b[0;32m/anaconda3/lib/python3.6/site-packages/sklearn/externals/joblib/memory.py\u001b[0m in \u001b[0;36m__call__\u001b[0;34m(self, *args, **kwargs)\u001b[0m\n\u001b[1;32m    360\u001b[0m \u001b[0;34m\u001b[0m\u001b[0m\n\u001b[1;32m    361\u001b[0m     \u001b[0;32mdef\u001b[0m \u001b[0m__call__\u001b[0m\u001b[0;34m(\u001b[0m\u001b[0mself\u001b[0m\u001b[0;34m,\u001b[0m \u001b[0;34m*\u001b[0m\u001b[0margs\u001b[0m\u001b[0;34m,\u001b[0m \u001b[0;34m**\u001b[0m\u001b[0mkwargs\u001b[0m\u001b[0;34m)\u001b[0m\u001b[0;34m:\u001b[0m\u001b[0;34m\u001b[0m\u001b[0m\n\u001b[0;32m--> 362\u001b[0;31m         \u001b[0;32mreturn\u001b[0m \u001b[0mself\u001b[0m\u001b[0;34m.\u001b[0m\u001b[0mfunc\u001b[0m\u001b[0;34m(\u001b[0m\u001b[0;34m*\u001b[0m\u001b[0margs\u001b[0m\u001b[0;34m,\u001b[0m \u001b[0;34m**\u001b[0m\u001b[0mkwargs\u001b[0m\u001b[0;34m)\u001b[0m\u001b[0;34m\u001b[0m\u001b[0m\n\u001b[0m\u001b[1;32m    363\u001b[0m \u001b[0;34m\u001b[0m\u001b[0m\n\u001b[1;32m    364\u001b[0m     \u001b[0;32mdef\u001b[0m \u001b[0mcall_and_shelve\u001b[0m\u001b[0;34m(\u001b[0m\u001b[0mself\u001b[0m\u001b[0;34m,\u001b[0m \u001b[0;34m*\u001b[0m\u001b[0margs\u001b[0m\u001b[0;34m,\u001b[0m \u001b[0;34m**\u001b[0m\u001b[0mkwargs\u001b[0m\u001b[0;34m)\u001b[0m\u001b[0;34m:\u001b[0m\u001b[0;34m\u001b[0m\u001b[0m\n",
      "\u001b[0;32m/anaconda3/lib/python3.6/site-packages/imblearn/pipeline.py\u001b[0m in \u001b[0;36m_fit_sample_one\u001b[0;34m(sampler, X, y, **fit_params)\u001b[0m\n\u001b[1;32m    601\u001b[0m \u001b[0;34m\u001b[0m\u001b[0m\n\u001b[1;32m    602\u001b[0m \u001b[0;32mdef\u001b[0m \u001b[0m_fit_sample_one\u001b[0m\u001b[0;34m(\u001b[0m\u001b[0msampler\u001b[0m\u001b[0;34m,\u001b[0m \u001b[0mX\u001b[0m\u001b[0;34m,\u001b[0m \u001b[0my\u001b[0m\u001b[0;34m,\u001b[0m \u001b[0;34m**\u001b[0m\u001b[0mfit_params\u001b[0m\u001b[0;34m)\u001b[0m\u001b[0;34m:\u001b[0m\u001b[0;34m\u001b[0m\u001b[0m\n\u001b[0;32m--> 603\u001b[0;31m     \u001b[0mX_res\u001b[0m\u001b[0;34m,\u001b[0m \u001b[0my_res\u001b[0m \u001b[0;34m=\u001b[0m \u001b[0msampler\u001b[0m\u001b[0;34m.\u001b[0m\u001b[0mfit_sample\u001b[0m\u001b[0;34m(\u001b[0m\u001b[0mX\u001b[0m\u001b[0;34m,\u001b[0m \u001b[0my\u001b[0m\u001b[0;34m,\u001b[0m \u001b[0;34m**\u001b[0m\u001b[0mfit_params\u001b[0m\u001b[0;34m)\u001b[0m\u001b[0;34m\u001b[0m\u001b[0m\n\u001b[0m\u001b[1;32m    604\u001b[0m \u001b[0;34m\u001b[0m\u001b[0m\n\u001b[1;32m    605\u001b[0m     \u001b[0;32mreturn\u001b[0m \u001b[0mX_res\u001b[0m\u001b[0;34m,\u001b[0m \u001b[0my_res\u001b[0m\u001b[0;34m,\u001b[0m \u001b[0msampler\u001b[0m\u001b[0;34m\u001b[0m\u001b[0m\n",
      "\u001b[0;32m/anaconda3/lib/python3.6/site-packages/imblearn/base.py\u001b[0m in \u001b[0;36mfit_sample\u001b[0;34m(self, X, y)\u001b[0m\n\u001b[1;32m     86\u001b[0m         \"\"\"\n\u001b[1;32m     87\u001b[0m \u001b[0;34m\u001b[0m\u001b[0m\n\u001b[0;32m---> 88\u001b[0;31m         \u001b[0;32mreturn\u001b[0m \u001b[0mself\u001b[0m\u001b[0;34m.\u001b[0m\u001b[0mfit\u001b[0m\u001b[0;34m(\u001b[0m\u001b[0mX\u001b[0m\u001b[0;34m,\u001b[0m \u001b[0my\u001b[0m\u001b[0;34m)\u001b[0m\u001b[0;34m.\u001b[0m\u001b[0msample\u001b[0m\u001b[0;34m(\u001b[0m\u001b[0mX\u001b[0m\u001b[0;34m,\u001b[0m \u001b[0my\u001b[0m\u001b[0;34m)\u001b[0m\u001b[0;34m\u001b[0m\u001b[0m\n\u001b[0m\u001b[1;32m     89\u001b[0m \u001b[0;34m\u001b[0m\u001b[0m\n\u001b[1;32m     90\u001b[0m     \u001b[0;34m@\u001b[0m\u001b[0mabstractmethod\u001b[0m\u001b[0;34m\u001b[0m\u001b[0m\n",
      "\u001b[0;32m/anaconda3/lib/python3.6/site-packages/imblearn/base.py\u001b[0m in \u001b[0;36msample\u001b[0;34m(self, X, y)\u001b[0m\n\u001b[1;32m     62\u001b[0m         \u001b[0mself\u001b[0m\u001b[0;34m.\u001b[0m\u001b[0m_check_X_y\u001b[0m\u001b[0;34m(\u001b[0m\u001b[0mX\u001b[0m\u001b[0;34m,\u001b[0m \u001b[0my\u001b[0m\u001b[0;34m)\u001b[0m\u001b[0;34m\u001b[0m\u001b[0m\n\u001b[1;32m     63\u001b[0m \u001b[0;34m\u001b[0m\u001b[0m\n\u001b[0;32m---> 64\u001b[0;31m         \u001b[0;32mreturn\u001b[0m \u001b[0mself\u001b[0m\u001b[0;34m.\u001b[0m\u001b[0m_sample\u001b[0m\u001b[0;34m(\u001b[0m\u001b[0mX\u001b[0m\u001b[0;34m,\u001b[0m \u001b[0my\u001b[0m\u001b[0;34m)\u001b[0m\u001b[0;34m\u001b[0m\u001b[0m\n\u001b[0m\u001b[1;32m     65\u001b[0m \u001b[0;34m\u001b[0m\u001b[0m\n\u001b[1;32m     66\u001b[0m     \u001b[0;32mdef\u001b[0m \u001b[0mfit_sample\u001b[0m\u001b[0;34m(\u001b[0m\u001b[0mself\u001b[0m\u001b[0;34m,\u001b[0m \u001b[0mX\u001b[0m\u001b[0;34m,\u001b[0m \u001b[0my\u001b[0m\u001b[0;34m)\u001b[0m\u001b[0;34m:\u001b[0m\u001b[0;34m\u001b[0m\u001b[0m\n",
      "\u001b[0;32m/anaconda3/lib/python3.6/site-packages/imblearn/under_sampling/prototype_generation/cluster_centroids.py\u001b[0m in \u001b[0;36m_sample\u001b[0;34m(self, X, y)\u001b[0m\n\u001b[1;32m    182\u001b[0m                 \u001b[0mn_samples\u001b[0m \u001b[0;34m=\u001b[0m \u001b[0mself\u001b[0m\u001b[0;34m.\u001b[0m\u001b[0mratio_\u001b[0m\u001b[0;34m[\u001b[0m\u001b[0mtarget_class\u001b[0m\u001b[0;34m]\u001b[0m\u001b[0;34m\u001b[0m\u001b[0m\n\u001b[1;32m    183\u001b[0m                 \u001b[0mself\u001b[0m\u001b[0;34m.\u001b[0m\u001b[0mestimator_\u001b[0m\u001b[0;34m.\u001b[0m\u001b[0mset_params\u001b[0m\u001b[0;34m(\u001b[0m\u001b[0;34m**\u001b[0m\u001b[0;34m{\u001b[0m\u001b[0;34m'n_clusters'\u001b[0m\u001b[0;34m:\u001b[0m \u001b[0mn_samples\u001b[0m\u001b[0;34m}\u001b[0m\u001b[0;34m)\u001b[0m\u001b[0;34m\u001b[0m\u001b[0m\n\u001b[0;32m--> 184\u001b[0;31m                 \u001b[0mself\u001b[0m\u001b[0;34m.\u001b[0m\u001b[0mestimator_\u001b[0m\u001b[0;34m.\u001b[0m\u001b[0mfit\u001b[0m\u001b[0;34m(\u001b[0m\u001b[0mX\u001b[0m\u001b[0;34m[\u001b[0m\u001b[0my\u001b[0m \u001b[0;34m==\u001b[0m \u001b[0mtarget_class\u001b[0m\u001b[0;34m]\u001b[0m\u001b[0;34m)\u001b[0m\u001b[0;34m\u001b[0m\u001b[0m\n\u001b[0m\u001b[1;32m    185\u001b[0m                 X_new, y_new = self._generate_sample(\n\u001b[1;32m    186\u001b[0m                     X, y, self.estimator_.cluster_centers_, target_class)\n",
      "\u001b[0;32m/anaconda3/lib/python3.6/site-packages/sklearn/cluster/k_means_.py\u001b[0m in \u001b[0;36mfit\u001b[0;34m(self, X, y)\u001b[0m\n\u001b[1;32m    894\u001b[0m                 \u001b[0mtol\u001b[0m\u001b[0;34m=\u001b[0m\u001b[0mself\u001b[0m\u001b[0;34m.\u001b[0m\u001b[0mtol\u001b[0m\u001b[0;34m,\u001b[0m \u001b[0mrandom_state\u001b[0m\u001b[0;34m=\u001b[0m\u001b[0mrandom_state\u001b[0m\u001b[0;34m,\u001b[0m \u001b[0mcopy_x\u001b[0m\u001b[0;34m=\u001b[0m\u001b[0mself\u001b[0m\u001b[0;34m.\u001b[0m\u001b[0mcopy_x\u001b[0m\u001b[0;34m,\u001b[0m\u001b[0;34m\u001b[0m\u001b[0m\n\u001b[1;32m    895\u001b[0m                 \u001b[0mn_jobs\u001b[0m\u001b[0;34m=\u001b[0m\u001b[0mself\u001b[0m\u001b[0;34m.\u001b[0m\u001b[0mn_jobs\u001b[0m\u001b[0;34m,\u001b[0m \u001b[0malgorithm\u001b[0m\u001b[0;34m=\u001b[0m\u001b[0mself\u001b[0m\u001b[0;34m.\u001b[0m\u001b[0malgorithm\u001b[0m\u001b[0;34m,\u001b[0m\u001b[0;34m\u001b[0m\u001b[0m\n\u001b[0;32m--> 896\u001b[0;31m                 return_n_iter=True)\n\u001b[0m\u001b[1;32m    897\u001b[0m         \u001b[0;32mreturn\u001b[0m \u001b[0mself\u001b[0m\u001b[0;34m\u001b[0m\u001b[0m\n\u001b[1;32m    898\u001b[0m \u001b[0;34m\u001b[0m\u001b[0m\n",
      "\u001b[0;32m/anaconda3/lib/python3.6/site-packages/sklearn/cluster/k_means_.py\u001b[0m in \u001b[0;36mk_means\u001b[0;34m(X, n_clusters, init, precompute_distances, n_init, max_iter, verbose, tol, random_state, copy_x, n_jobs, algorithm, return_n_iter)\u001b[0m\n\u001b[1;32m    344\u001b[0m                 \u001b[0mX\u001b[0m\u001b[0;34m,\u001b[0m \u001b[0mn_clusters\u001b[0m\u001b[0;34m,\u001b[0m \u001b[0mmax_iter\u001b[0m\u001b[0;34m=\u001b[0m\u001b[0mmax_iter\u001b[0m\u001b[0;34m,\u001b[0m \u001b[0minit\u001b[0m\u001b[0;34m=\u001b[0m\u001b[0minit\u001b[0m\u001b[0;34m,\u001b[0m \u001b[0mverbose\u001b[0m\u001b[0;34m=\u001b[0m\u001b[0mverbose\u001b[0m\u001b[0;34m,\u001b[0m\u001b[0;34m\u001b[0m\u001b[0m\n\u001b[1;32m    345\u001b[0m                 \u001b[0mprecompute_distances\u001b[0m\u001b[0;34m=\u001b[0m\u001b[0mprecompute_distances\u001b[0m\u001b[0;34m,\u001b[0m \u001b[0mtol\u001b[0m\u001b[0;34m=\u001b[0m\u001b[0mtol\u001b[0m\u001b[0;34m,\u001b[0m\u001b[0;34m\u001b[0m\u001b[0m\n\u001b[0;32m--> 346\u001b[0;31m                 x_squared_norms=x_squared_norms, random_state=random_state)\n\u001b[0m\u001b[1;32m    347\u001b[0m             \u001b[0;31m# determine if these results are the best so far\u001b[0m\u001b[0;34m\u001b[0m\u001b[0;34m\u001b[0m\u001b[0m\n\u001b[1;32m    348\u001b[0m             \u001b[0;32mif\u001b[0m \u001b[0mbest_inertia\u001b[0m \u001b[0;32mis\u001b[0m \u001b[0;32mNone\u001b[0m \u001b[0;32mor\u001b[0m \u001b[0minertia\u001b[0m \u001b[0;34m<\u001b[0m \u001b[0mbest_inertia\u001b[0m\u001b[0;34m:\u001b[0m\u001b[0;34m\u001b[0m\u001b[0m\n",
      "\u001b[0;32m/anaconda3/lib/python3.6/site-packages/sklearn/cluster/k_means_.py\u001b[0m in \u001b[0;36m_kmeans_single_elkan\u001b[0;34m(X, n_clusters, max_iter, init, verbose, x_squared_norms, random_state, tol, precompute_distances)\u001b[0m\n\u001b[1;32m    393\u001b[0m     \u001b[0;31m# init\u001b[0m\u001b[0;34m\u001b[0m\u001b[0;34m\u001b[0m\u001b[0m\n\u001b[1;32m    394\u001b[0m     centers = _init_centroids(X, n_clusters, init, random_state=random_state,\n\u001b[0;32m--> 395\u001b[0;31m                               x_squared_norms=x_squared_norms)\n\u001b[0m\u001b[1;32m    396\u001b[0m     \u001b[0mcenters\u001b[0m \u001b[0;34m=\u001b[0m \u001b[0mnp\u001b[0m\u001b[0;34m.\u001b[0m\u001b[0mascontiguousarray\u001b[0m\u001b[0;34m(\u001b[0m\u001b[0mcenters\u001b[0m\u001b[0;34m)\u001b[0m\u001b[0;34m\u001b[0m\u001b[0m\n\u001b[1;32m    397\u001b[0m     \u001b[0;32mif\u001b[0m \u001b[0mverbose\u001b[0m\u001b[0;34m:\u001b[0m\u001b[0;34m\u001b[0m\u001b[0m\n",
      "\u001b[0;32m/anaconda3/lib/python3.6/site-packages/sklearn/cluster/k_means_.py\u001b[0m in \u001b[0;36m_init_centroids\u001b[0;34m(X, k, init, random_state, x_squared_norms, init_size)\u001b[0m\n\u001b[1;32m    682\u001b[0m     \u001b[0;32mif\u001b[0m \u001b[0misinstance\u001b[0m\u001b[0;34m(\u001b[0m\u001b[0minit\u001b[0m\u001b[0;34m,\u001b[0m \u001b[0mstring_types\u001b[0m\u001b[0;34m)\u001b[0m \u001b[0;32mand\u001b[0m \u001b[0minit\u001b[0m \u001b[0;34m==\u001b[0m \u001b[0;34m'k-means++'\u001b[0m\u001b[0;34m:\u001b[0m\u001b[0;34m\u001b[0m\u001b[0m\n\u001b[1;32m    683\u001b[0m         centers = _k_init(X, k, random_state=random_state,\n\u001b[0;32m--> 684\u001b[0;31m                           x_squared_norms=x_squared_norms)\n\u001b[0m\u001b[1;32m    685\u001b[0m     \u001b[0;32melif\u001b[0m \u001b[0misinstance\u001b[0m\u001b[0;34m(\u001b[0m\u001b[0minit\u001b[0m\u001b[0;34m,\u001b[0m \u001b[0mstring_types\u001b[0m\u001b[0;34m)\u001b[0m \u001b[0;32mand\u001b[0m \u001b[0minit\u001b[0m \u001b[0;34m==\u001b[0m \u001b[0;34m'random'\u001b[0m\u001b[0;34m:\u001b[0m\u001b[0;34m\u001b[0m\u001b[0m\n\u001b[1;32m    686\u001b[0m         \u001b[0mseeds\u001b[0m \u001b[0;34m=\u001b[0m \u001b[0mrandom_state\u001b[0m\u001b[0;34m.\u001b[0m\u001b[0mpermutation\u001b[0m\u001b[0;34m(\u001b[0m\u001b[0mn_samples\u001b[0m\u001b[0;34m)\u001b[0m\u001b[0;34m[\u001b[0m\u001b[0;34m:\u001b[0m\u001b[0mk\u001b[0m\u001b[0;34m]\u001b[0m\u001b[0;34m\u001b[0m\u001b[0m\n",
      "\u001b[0;32m/anaconda3/lib/python3.6/site-packages/sklearn/cluster/k_means_.py\u001b[0m in \u001b[0;36m_k_init\u001b[0;34m(X, n_clusters, x_squared_norms, random_state, n_local_trials)\u001b[0m\n\u001b[1;32m    111\u001b[0m         \u001b[0;31m# Compute distances to center candidates\u001b[0m\u001b[0;34m\u001b[0m\u001b[0;34m\u001b[0m\u001b[0m\n\u001b[1;32m    112\u001b[0m         distance_to_candidates = euclidean_distances(\n\u001b[0;32m--> 113\u001b[0;31m             X[candidate_ids], X, Y_norm_squared=x_squared_norms, squared=True)\n\u001b[0m\u001b[1;32m    114\u001b[0m \u001b[0;34m\u001b[0m\u001b[0m\n\u001b[1;32m    115\u001b[0m         \u001b[0;31m# Decide which candidate is the best\u001b[0m\u001b[0;34m\u001b[0m\u001b[0;34m\u001b[0m\u001b[0m\n",
      "\u001b[0;32m/anaconda3/lib/python3.6/site-packages/sklearn/metrics/pairwise.py\u001b[0m in \u001b[0;36meuclidean_distances\u001b[0;34m(X, Y, Y_norm_squared, squared, X_norm_squared)\u001b[0m\n\u001b[1;32m    244\u001b[0m         \u001b[0mYY\u001b[0m \u001b[0;34m=\u001b[0m \u001b[0mrow_norms\u001b[0m\u001b[0;34m(\u001b[0m\u001b[0mY\u001b[0m\u001b[0;34m,\u001b[0m \u001b[0msquared\u001b[0m\u001b[0;34m=\u001b[0m\u001b[0;32mTrue\u001b[0m\u001b[0;34m)\u001b[0m\u001b[0;34m[\u001b[0m\u001b[0mnp\u001b[0m\u001b[0;34m.\u001b[0m\u001b[0mnewaxis\u001b[0m\u001b[0;34m,\u001b[0m \u001b[0;34m:\u001b[0m\u001b[0;34m]\u001b[0m\u001b[0;34m\u001b[0m\u001b[0m\n\u001b[1;32m    245\u001b[0m \u001b[0;34m\u001b[0m\u001b[0m\n\u001b[0;32m--> 246\u001b[0;31m     \u001b[0mdistances\u001b[0m \u001b[0;34m=\u001b[0m \u001b[0msafe_sparse_dot\u001b[0m\u001b[0;34m(\u001b[0m\u001b[0mX\u001b[0m\u001b[0;34m,\u001b[0m \u001b[0mY\u001b[0m\u001b[0;34m.\u001b[0m\u001b[0mT\u001b[0m\u001b[0;34m,\u001b[0m \u001b[0mdense_output\u001b[0m\u001b[0;34m=\u001b[0m\u001b[0;32mTrue\u001b[0m\u001b[0;34m)\u001b[0m\u001b[0;34m\u001b[0m\u001b[0m\n\u001b[0m\u001b[1;32m    247\u001b[0m     \u001b[0mdistances\u001b[0m \u001b[0;34m*=\u001b[0m \u001b[0;34m-\u001b[0m\u001b[0;36m2\u001b[0m\u001b[0;34m\u001b[0m\u001b[0m\n\u001b[1;32m    248\u001b[0m     \u001b[0mdistances\u001b[0m \u001b[0;34m+=\u001b[0m \u001b[0mXX\u001b[0m\u001b[0;34m\u001b[0m\u001b[0m\n",
      "\u001b[0;32m/anaconda3/lib/python3.6/site-packages/sklearn/utils/extmath.py\u001b[0m in \u001b[0;36msafe_sparse_dot\u001b[0;34m(a, b, dense_output)\u001b[0m\n\u001b[1;32m    138\u001b[0m         \u001b[0;32mreturn\u001b[0m \u001b[0mret\u001b[0m\u001b[0;34m\u001b[0m\u001b[0m\n\u001b[1;32m    139\u001b[0m     \u001b[0;32melse\u001b[0m\u001b[0;34m:\u001b[0m\u001b[0;34m\u001b[0m\u001b[0m\n\u001b[0;32m--> 140\u001b[0;31m         \u001b[0;32mreturn\u001b[0m \u001b[0mnp\u001b[0m\u001b[0;34m.\u001b[0m\u001b[0mdot\u001b[0m\u001b[0;34m(\u001b[0m\u001b[0ma\u001b[0m\u001b[0;34m,\u001b[0m \u001b[0mb\u001b[0m\u001b[0;34m)\u001b[0m\u001b[0;34m\u001b[0m\u001b[0m\n\u001b[0m\u001b[1;32m    141\u001b[0m \u001b[0;34m\u001b[0m\u001b[0m\n\u001b[1;32m    142\u001b[0m \u001b[0;34m\u001b[0m\u001b[0m\n",
      "\u001b[0;31mKeyboardInterrupt\u001b[0m: "
     ]
    },
    {
     "data": {
      "image/png": "[encoded data removed]",
      "text/plain": [
       "<matplotlib.figure.Figure at 0x1a51bfec50>"
      ]
     },
     "metadata": {},
     "output_type": "display_data"
    }
   ],
   "source": [
    "from imblearn.pipeline import make_pipeline\n",
    "fig, (ax2, ax3) = plt.subplots(1, 2, figsize=(20, 6))\n",
    "logit = LogisticRegression()\n",
    "clf = make_pipeline(cc, logit)\n",
    "clf.fit(X_train2, y_train2)\n",
    "plot_decision_function(X_train2, y_train2, clf, ax2)\n",
    "ax2.set_title('Decision function for {}'.format(cc.__class__.__name__))\n"
   ]
  },
  {
   "cell_type": "code",
   "execution_count": null,
   "metadata": {
    "ExecuteTime": {
     "end_time": "2018-05-10T17:34:00.872241Z",
     "start_time": "2018-05-10T17:29:04.078Z"
    }
   },
   "outputs": [],
   "source": [
    "plot_resampling(X_train2, y_train2, cc, ax3)\n",
    "ax3.set_title('Resampling using {}'.format(cc.__class__.__name__))\n"
   ]
  },
  {
   "cell_type": "markdown",
   "metadata": {},
   "source": [
    "## Logistic Classification Analysis\n",
    "\n",
    "The amount of data in the dataframe will make most of the analysis long.  There are 79 million observations, and even splitting it up will make it hard.  Some of the data is in different countries, so dividing it into subsections such as Country, City and Device Brand may make it easier for analysis.  "
   ]
  },
  {
   "cell_type": "code",
   "execution_count": 66,
   "metadata": {
    "ExecuteTime": {
     "end_time": "2018-05-10T03:01:33.025199Z",
     "start_time": "2018-05-10T03:00:46.219481Z"
    }
   },
   "outputs": [],
   "source": [
    "#STEP 1: split X and y into training and testing sets\n",
    "X_train, X_test, y_train, y_test = train_test_split(X_train2, y_train2, test_size=0.3, random_state=65, stratify=y_train2)"
   ]
  },
  {
   "cell_type": "code",
   "execution_count": 56,
   "metadata": {
    "ExecuteTime": {
     "end_time": "2018-05-09T22:32:37.376144Z",
     "start_time": "2018-05-09T22:32:37.006811Z"
    },
    "scrolled": true
   },
   "outputs": [],
   "source": [
    "\n",
    "sfk = StratifiedKFold(n_splits=3)"
   ]
  },
  {
   "cell_type": "code",
   "execution_count": 57,
   "metadata": {
    "ExecuteTime": {
     "end_time": "2018-05-09T22:32:38.572204Z",
     "start_time": "2018-05-09T22:32:38.569563Z"
    }
   },
   "outputs": [],
   "source": [
    "logit = LogisticRegression()\n",
    "score=[]"
   ]
  },
  {
   "cell_type": "code",
   "execution_count": null,
   "metadata": {},
   "outputs": [],
   "source": [
    "for train_index, test_index in skf.split(X, y):\n",
    "    X_train, X_test = X[train_index], X[test_index]\n",
    "    y_train, y_test = y[train_index], y[test_index]\n",
    "    logit.fit(X_train, y_train)\n",
    "    score.append(f1_score(y_test, y_pred, average='micro'))"
   ]
  },
  {
   "cell_type": "code",
   "execution_count": 58,
   "metadata": {
    "ExecuteTime": {
     "end_time": "2018-05-09T22:33:49.231630Z",
     "start_time": "2018-05-09T22:32:41.231970Z"
    }
   },
   "outputs": [
    {
     "data": {
      "text/plain": [
       "LogisticRegression(C=1.0, class_weight=None, dual=False, fit_intercept=True,\n",
       "          intercept_scaling=1, max_iter=100, multi_class='ovr', n_jobs=1,\n",
       "          penalty='l2', random_state=None, solver='liblinear', tol=0.0001,\n",
       "          verbose=0, warm_start=False)"
      ]
     },
     "execution_count": 58,
     "metadata": {},
     "output_type": "execute_result"
    }
   ],
   "source": [
    "logit.fit(X_train, y_train)"
   ]
  },
  {
   "cell_type": "code",
   "execution_count": 59,
   "metadata": {
    "ExecuteTime": {
     "end_time": "2018-05-09T22:33:53.618234Z",
     "start_time": "2018-05-09T22:33:49.235946Z"
    }
   },
   "outputs": [],
   "source": [
    "y_pred = logit.predict(X_test)"
   ]
  },
  {
   "cell_type": "code",
   "execution_count": 45,
   "metadata": {
    "ExecuteTime": {
     "end_time": "2018-05-09T00:21:12.781120Z",
     "start_time": "2018-05-09T00:21:12.747465Z"
    }
   },
   "outputs": [
    {
     "data": {
      "text/plain": [
       "0.9932734748170989"
      ]
     },
     "execution_count": 45,
     "metadata": {},
     "output_type": "execute_result"
    }
   ],
   "source": [
    "f1_score(y_test, y_pred, average='micro')"
   ]
  },
  {
   "cell_type": "code",
   "execution_count": 46,
   "metadata": {
    "ExecuteTime": {
     "end_time": "2018-05-09T00:21:12.846588Z",
     "start_time": "2018-05-09T00:21:12.783431Z"
    }
   },
   "outputs": [
    {
     "data": {
      "text/plain": [
       "array([[ 1125,     0,     0,     0,     0,     0,     0,     0,     0,\n",
       "            0,     0,     0],\n",
       "       [    0,  1676,     0,     0,     0,     0,     0,     0,     0,\n",
       "            0,     4,     0],\n",
       "       [    0,     0,  1269,     0,     0,     0,     0,     0,     0,\n",
       "            0,     0,     0],\n",
       "       [    0,     0,     0,  2826,     0,     0,     0,     2,     0,\n",
       "           25,     0,     0],\n",
       "       [    0,     0,     0,     8,  2917,     0,     0,    76,     0,\n",
       "           20,     5,     0],\n",
       "       [    0,     0,     0,     0,     0,  2694,     0,     0,     0,\n",
       "            0,     0,     0],\n",
       "       [    0,     0,     0,     0,     0,     0,   440,     0,     0,\n",
       "            0,     0,     0],\n",
       "       [    0,     0,     0,     0,     0,     0,     0,  6458,     0,\n",
       "           57,    27,     0],\n",
       "       [    0,     0,     0,     0,    11,     0,     0,    11,  3259,\n",
       "            0,     0,     0],\n",
       "       [    0,     0,     0,     0,     1,     0,     0,    31,     0,\n",
       "         9512,     0,     6],\n",
       "       [    0,     0,     0,     1,     0,     0,     0,     8,     0,\n",
       "            0, 23102,     0],\n",
       "       [    0,     0,     1,     0,   131,     0,     0,     0,    20,\n",
       "            0,     0, 10433]])"
      ]
     },
     "execution_count": 46,
     "metadata": {},
     "output_type": "execute_result"
    }
   ],
   "source": [
    "# confusion matrix\n",
    "confusion_matrix(y_test,y_pred)"
   ]
  },
  {
   "cell_type": "code",
   "execution_count": 102,
   "metadata": {
    "ExecuteTime": {
     "end_time": "2018-05-09T01:36:57.897064Z",
     "start_time": "2018-05-09T01:36:57.834928Z"
    }
   },
   "outputs": [
    {
     "name": "stderr",
     "output_type": "stream",
     "text": [
      "/anaconda3/lib/python3.6/site-packages/sklearn/cross_validation.py:41: DeprecationWarning: This module was deprecated in version 0.18 in favor of the model_selection module into which all the refactored classes and functions are moved. Also note that the interface of the new CV iterators are different from that of this module. This module will be removed in 0.20.\n",
      "  \"This module will be removed in 0.20.\", DeprecationWarning)\n"
     ]
    }
   ],
   "source": [
    "# Generate a confusion matrix plot: \n",
    "from sklearn import cross_validation\n",
    "def plot_confusion_matrix(cm,title='Confusion matrix', cmap=plt.cm.Reds):\n",
    "    plt.imshow(cm, interpolation='nearest',cmap=cmap)\n",
    "    plt.title(title)\n",
    "    plt.colorbar()\n",
    "    plt.tight_layout()\n",
    "    plt.ylabel('True label')\n",
    "    plt.xlabel('Predicted label')\n",
    "\n",
    "#Could be a typical function for classifying:\n",
    "\n",
    "def train_score(classifier,x,y):\n",
    "    xtrain, xtest, ytrain, ytest = cross_validation.train_test_split(x, y, test_size=0.2, random_state=1234)\n",
    "    ytrain=np.ravel(ytrain)\n",
    "    clf = classifier.fit(xtrain, ytrain)\n",
    "    # accuracy for test & train:\n",
    "    train_acc=clf.score(xtrain, ytrain)\n",
    "    test_acc=clf.score(xtest,ytest)\n",
    "    print(\"Training Data Accuracy: %0.2f\" %(train_acc))\n",
    "    print(\"Test Data Accuracy:     %0.2f\" %(test_acc))\n",
    "    \n",
    "    y_true = ytest\n",
    "    y_pred = clf.predict(xtest)\n",
    "\n",
    "\n",
    "    conf = confusion_matrix(y_true, y_pred)\n",
    "    print(conf)\n",
    "\n",
    "    print ('\\n')\n",
    "    print (\"Precision:              %0.2f\" %(conf[0, 0] / (conf[0, 0] + conf[1, 0])))\n",
    "    print (\"Recall:                 %0.2f\"% (conf[0, 0] / (conf[0, 0] + conf[0, 1])))\n",
    "    \n",
    "    cm=confusion_matrix(y_true, y_pred, labels=None)\n",
    "    \n",
    "    plt.figure()\n",
    "    plot_confusion_matrix(cm)"
   ]
  },
  {
   "cell_type": "code",
   "execution_count": 66,
   "metadata": {
    "ExecuteTime": {
     "end_time": "2018-05-09T16:58:21.501825Z",
     "start_time": "2018-05-09T16:58:21.490273Z"
    }
   },
   "outputs": [
    {
     "ename": "NameError",
     "evalue": "name 'train_score' is not defined",
     "output_type": "error",
     "traceback": [
      "\u001b[0;31m---------------------------------------------------------------------------\u001b[0m",
      "\u001b[0;31mNameError\u001b[0m                                 Traceback (most recent call last)",
      "\u001b[0;32m<ipython-input-66-dbf976fd0565>\u001b[0m in \u001b[0;36m<module>\u001b[0;34m()\u001b[0m\n\u001b[0;32m----> 1\u001b[0;31m \u001b[0mtrain_score\u001b[0m\u001b[0;34m(\u001b[0m\u001b[0mlogit\u001b[0m\u001b[0;34m,\u001b[0m\u001b[0mX_train\u001b[0m\u001b[0;34m,\u001b[0m\u001b[0my_train\u001b[0m\u001b[0;34m)\u001b[0m\u001b[0;34m\u001b[0m\u001b[0m\n\u001b[0m",
      "\u001b[0;31mNameError\u001b[0m: name 'train_score' is not defined"
     ]
    }
   ],
   "source": [
    "train_score(logit,X_train,y_train)"
   ]
  },
  {
   "cell_type": "markdown",
   "metadata": {},
   "source": [
    "## Looking at Trees\n",
    "\n",
    "Below is looking at the Decision Tree and Random Forests classification methods to see how it differs from the analysis above.\n",
    "\n"
   ]
  },
  {
   "cell_type": "code",
   "execution_count": 70,
   "metadata": {
    "ExecuteTime": {
     "end_time": "2018-05-10T03:07:36.775263Z",
     "start_time": "2018-05-10T03:05:53.843008Z"
    }
   },
   "outputs": [],
   "source": [
    "\n",
    "#split X and y into training and testing sets\n",
    "y = traindf['group']\n",
    "X= traindf.drop(['group'], axis=1)\n",
    "\n",
    "X_train2, X_test2, y_train2, y_test2 = train_test_split(X, y, test_size=0.5, random_state=42, stratify = y)"
   ]
  },
  {
   "cell_type": "code",
   "execution_count": 73,
   "metadata": {
    "ExecuteTime": {
     "end_time": "2018-05-10T03:08:50.866795Z",
     "start_time": "2018-05-10T03:08:50.861644Z"
    }
   },
   "outputs": [
    {
     "data": {
      "text/plain": [
       "39422166"
      ]
     },
     "execution_count": 73,
     "metadata": {},
     "output_type": "execute_result"
    },
    {
     "data": {
      "text/plain": [
       "39422166"
      ]
     },
     "execution_count": 73,
     "metadata": {},
     "output_type": "execute_result"
    }
   ],
   "source": [
    "len(X_train2)\n",
    "len(y_train2)"
   ]
  },
  {
   "cell_type": "code",
   "execution_count": 74,
   "metadata": {
    "ExecuteTime": {
     "end_time": "2018-05-10T03:11:07.966751Z",
     "start_time": "2018-05-10T03:10:28.624089Z"
    }
   },
   "outputs": [],
   "source": [
    "#split X and y into training and testing sets\n",
    "\n",
    "X_train3, X_test3, y_train3, y_test3 = train_test_split(X_train2, y_train2, test_size=0.3, random_state=76,stratify = y_train2)"
   ]
  },
  {
   "cell_type": "code",
   "execution_count": 75,
   "metadata": {
    "ExecuteTime": {
     "end_time": "2018-05-10T03:11:10.606807Z",
     "start_time": "2018-05-10T03:11:10.321829Z"
    }
   },
   "outputs": [],
   "source": [
    "from sklearn.ensemble import RandomForestClassifier\n",
    "from sklearn.tree import DecisionTreeClassifier"
   ]
  },
  {
   "cell_type": "code",
   "execution_count": 76,
   "metadata": {
    "ExecuteTime": {
     "end_time": "2018-05-10T03:11:11.437583Z",
     "start_time": "2018-05-10T03:11:11.433543Z"
    }
   },
   "outputs": [],
   "source": [
    "dtree = DecisionTreeClassifier(max_depth=7)\n",
    "rtree = RandomForestClassifier(max_depth=7)"
   ]
  },
  {
   "cell_type": "code",
   "execution_count": null,
   "metadata": {
    "ExecuteTime": {
     "start_time": "2018-05-10T03:11:12.284Z"
    }
   },
   "outputs": [],
   "source": [
    "dmodel = dtree.fit(X_train3, y_train3)"
   ]
  },
  {
   "cell_type": "code",
   "execution_count": null,
   "metadata": {
    "ExecuteTime": {
     "start_time": "2018-05-10T03:11:19.194Z"
    }
   },
   "outputs": [],
   "source": [
    "#Experiement to see if i should try random forests\n",
    "from sklearn.model_selection import cross_val_score\n",
    "cross_val_score(dtree, X_train3, y_train3, cv=10)"
   ]
  },
  {
   "cell_type": "code",
   "execution_count": 55,
   "metadata": {
    "ExecuteTime": {
     "end_time": "2018-05-09T00:25:25.913241Z",
     "start_time": "2018-05-09T00:25:25.889769Z"
    }
   },
   "outputs": [],
   "source": [
    "y_tree = dmodel.predict(X_test3)"
   ]
  },
  {
   "cell_type": "code",
   "execution_count": 56,
   "metadata": {
    "ExecuteTime": {
     "end_time": "2018-05-09T00:25:26.905244Z",
     "start_time": "2018-05-09T00:25:26.865910Z"
    }
   },
   "outputs": [
    {
     "data": {
      "text/plain": [
       "0.8348587796932984"
      ]
     },
     "execution_count": 56,
     "metadata": {},
     "output_type": "execute_result"
    }
   ],
   "source": [
    "f1_score(y_test3, y_tree, average = 'micro')"
   ]
  },
  {
   "cell_type": "code",
   "execution_count": 57,
   "metadata": {
    "ExecuteTime": {
     "end_time": "2018-05-09T00:25:28.225502Z",
     "start_time": "2018-05-09T00:25:28.119421Z"
    }
   },
   "outputs": [
    {
     "data": {
      "text/plain": [
       "array([[  284,    90,     0,     0,     0,     0,     0,   204,     0,\n",
       "            0,  1539,     0],\n",
       "       [    0,  3015,     0,     0,     0,     0,     0,     0,     0,\n",
       "            0,   432,     0],\n",
       "       [    0,     0,  1846,     0,     0,    63,     0,     0,     0,\n",
       "            0,   541,     0],\n",
       "       [    0,     0,     0,  4555,     0,     0,     0,     0,     0,\n",
       "           34,   783,   267],\n",
       "       [    0,     0,     0,     0,  4650,    39,     0,     0,     0,\n",
       "           73,    78,   994],\n",
       "       [    0,     0,     0,     0,     0,  1763,     0,     0,    23,\n",
       "            0,  3165,   437],\n",
       "       [    0,    18,   112,     0,     0,     0,   439,     0,     0,\n",
       "            0,   234,    85],\n",
       "       [    0,    35,     0,     0,     0,    38,     0,  9135,  2472,\n",
       "          114,  1113,   248],\n",
       "       [    0,   463,     0,     0,     0,     0,     0,    64,  5407,\n",
       "            0,   597,     0],\n",
       "       [    0,     0,     0,    76,     0,     0,     0,     0,  1273,\n",
       "        14229,  3016,   635],\n",
       "       [    0,    42,     0,     0,     0,   623,    90,     0,    72,\n",
       "            0, 44674,  1033],\n",
       "       [    0,     0,   273,     0,     0,     0,     0,    33,    36,\n",
       "          171,   122, 20464]])"
      ]
     },
     "execution_count": 57,
     "metadata": {},
     "output_type": "execute_result"
    }
   ],
   "source": [
    "# confusion matrix\n",
    "confusion_matrix(y_test3,y_tree)"
   ]
  },
  {
   "cell_type": "code",
   "execution_count": 58,
   "metadata": {
    "ExecuteTime": {
     "end_time": "2018-05-09T00:25:35.607877Z",
     "start_time": "2018-05-09T00:25:33.400574Z"
    }
   },
   "outputs": [],
   "source": [
    "rmodel = rtree.fit(X_train3, y_train3)"
   ]
  },
  {
   "cell_type": "code",
   "execution_count": 59,
   "metadata": {
    "ExecuteTime": {
     "end_time": "2018-05-09T00:25:35.839316Z",
     "start_time": "2018-05-09T00:25:35.609668Z"
    }
   },
   "outputs": [
    {
     "data": {
      "text/plain": [
       "0.7985503850775825"
      ]
     },
     "execution_count": 59,
     "metadata": {},
     "output_type": "execute_result"
    }
   ],
   "source": [
    "y_rtree = rmodel.predict(X_test3)\n",
    "f1_score(y_test3, y_rtree, average = 'micro')"
   ]
  },
  {
   "cell_type": "code",
   "execution_count": 66,
   "metadata": {
    "ExecuteTime": {
     "end_time": "2018-05-09T00:28:29.226070Z",
     "start_time": "2018-05-09T00:28:29.020998Z"
    }
   },
   "outputs": [
    {
     "name": "stdout",
     "output_type": "stream",
     "text": [
      "Feature ranking:\n",
      "1. phone_brand (0.620709)\n",
      "2. device_model (0.193125)\n",
      "3. event_id (0.175707)\n",
      "4. city (0.008205)\n",
      "5. cc (0.001855)\n",
      "6. time_dl (0.000398)\n",
      "7. wkday (0.000000)\n",
      "8. app_id (0.000000)\n",
      "9. is_active (0.000000)\n",
      "10. category (0.000000)\n"
     ]
    },
    {
     "data": {
      "text/plain": [
       "<matplotlib.figure.Figure at 0x1a32ca2320>"
      ]
     },
     "execution_count": 66,
     "metadata": {},
     "output_type": "execute_result"
    },
    {
     "data": {
      "text/plain": [
       "Text(0.5,1,'Feature importances')"
      ]
     },
     "execution_count": 66,
     "metadata": {},
     "output_type": "execute_result"
    },
    {
     "data": {
      "text/plain": [
       "<Container object of 10 artists>"
      ]
     },
     "execution_count": 66,
     "metadata": {},
     "output_type": "execute_result"
    },
    {
     "data": {
      "text/plain": [
       "([<matplotlib.axis.XTick at 0x1a296b8828>,\n",
       "  <matplotlib.axis.XTick at 0x1a296b8cc0>,\n",
       "  <matplotlib.axis.XTick at 0x1a337f6828>,\n",
       "  <matplotlib.axis.XTick at 0x1a31d187b8>,\n",
       "  <matplotlib.axis.XTick at 0x1a31d18e10>,\n",
       "  <matplotlib.axis.XTick at 0x1a31cff4a8>,\n",
       "  <matplotlib.axis.XTick at 0x1a31cffb00>,\n",
       "  <matplotlib.axis.XTick at 0x1a2e25f1d0>,\n",
       "  <matplotlib.axis.XTick at 0x1a2e25f860>,\n",
       "  <matplotlib.axis.XTick at 0x1a2e25fef0>],\n",
       " <a list of 10 Text xticklabel objects>)"
      ]
     },
     "execution_count": 66,
     "metadata": {},
     "output_type": "execute_result"
    },
    {
     "data": {
      "text/plain": [
       "(-1, 10)"
      ]
     },
     "execution_count": 66,
     "metadata": {},
     "output_type": "execute_result"
    },
    {
     "data": {
      "image/png": "[encoded data removed]",
      "text/plain": [
       "<matplotlib.figure.Figure at 0x1a32ca2320>"
      ]
     },
     "metadata": {},
     "output_type": "display_data"
    }
   ],
   "source": [
    "importances = dmodel.feature_importances_\n",
    "std = np.std([dmodel.feature_importances_ for tree in importances],axis=0)\n",
    "indices = np.argsort(importances)[::-1]\n",
    "\n",
    "# Print the feature ranking\n",
    "print(\"Feature ranking:\")\n",
    "\n",
    "for index,f in enumerate(X_train3.columns):\n",
    "    print(\"%d. %s (%f)\" % (index+1 , f, importances[indices[index]]))\n",
    "\n",
    "# Plot the feature importances of the forest\n",
    "plt.figure()\n",
    "plt.title(\"Feature importances\")\n",
    "plt.bar(range(X_train3.shape[1]), importances[indices],color=\"r\", yerr=std[indices], align=\"center\")\n",
    "plt.xticks(range(X_train3.shape[1]), X_train3.columns, rotation=45)\n",
    "plt.xlim([-1, X_train3.shape[1]])\n",
    "plt.show()"
   ]
  },
  {
   "cell_type": "code",
   "execution_count": 70,
   "metadata": {
    "ExecuteTime": {
     "end_time": "2018-05-09T00:29:46.113909Z",
     "start_time": "2018-05-09T00:29:45.903346Z"
    }
   },
   "outputs": [
    {
     "name": "stdout",
     "output_type": "stream",
     "text": [
      "Feature ranking:\n",
      "1. phone_brand (0.378319)\n",
      "2. device_model (0.264573)\n",
      "3. event_id (0.173561)\n",
      "4. city (0.063876)\n",
      "5. cc (0.053293)\n",
      "6. time_dl (0.029258)\n",
      "7. wkday (0.019971)\n",
      "8. app_id (0.013223)\n",
      "9. is_active (0.003706)\n",
      "10. category (0.000220)\n"
     ]
    },
    {
     "data": {
      "text/plain": [
       "<matplotlib.figure.Figure at 0x1a2a969da0>"
      ]
     },
     "execution_count": 70,
     "metadata": {},
     "output_type": "execute_result"
    },
    {
     "data": {
      "text/plain": [
       "Text(0.5,1,'Feature importances')"
      ]
     },
     "execution_count": 70,
     "metadata": {},
     "output_type": "execute_result"
    },
    {
     "data": {
      "text/plain": [
       "<Container object of 10 artists>"
      ]
     },
     "execution_count": 70,
     "metadata": {},
     "output_type": "execute_result"
    },
    {
     "data": {
      "text/plain": [
       "([<matplotlib.axis.XTick at 0x1a2afcbe48>,\n",
       "  <matplotlib.axis.XTick at 0x1a2f5f19b0>,\n",
       "  <matplotlib.axis.XTick at 0x1a2afeb3c8>,\n",
       "  <matplotlib.axis.XTick at 0x1a2af77780>,\n",
       "  <matplotlib.axis.XTick at 0x1a2af77dd8>,\n",
       "  <matplotlib.axis.XTick at 0x1a2985c470>,\n",
       "  <matplotlib.axis.XTick at 0x1a2985cac8>,\n",
       "  <matplotlib.axis.XTick at 0x1a29878198>,\n",
       "  <matplotlib.axis.XTick at 0x1a29878828>,\n",
       "  <matplotlib.axis.XTick at 0x1a29878eb8>],\n",
       " <a list of 10 Text xticklabel objects>)"
      ]
     },
     "execution_count": 70,
     "metadata": {},
     "output_type": "execute_result"
    },
    {
     "data": {
      "text/plain": [
       "(-1, 10)"
      ]
     },
     "execution_count": 70,
     "metadata": {},
     "output_type": "execute_result"
    },
    {
     "data": {
      "image/png": "[encoded data removed]",
      "text/plain": [
       "<matplotlib.figure.Figure at 0x1a2a969da0>"
      ]
     },
     "metadata": {},
     "output_type": "display_data"
    }
   ],
   "source": [
    "importances = rmodel.feature_importances_\n",
    "std = np.std([rmodel.feature_importances_ for tree in importances],axis=0)\n",
    "indices = np.argsort(importances)[::-1]\n",
    "\n",
    "# Print the feature ranking\n",
    "print(\"Feature ranking:\")\n",
    "\n",
    "for index,f in enumerate(X_train3.columns):\n",
    "    print(\"%d. %s (%f)\" % (index+1 , f, importances[indices[index]]))\n",
    "\n",
    "# Plot the feature importances of the forest\n",
    "plt.figure()\n",
    "plt.title(\"Feature importances\")\n",
    "plt.bar(range(X_train3.shape[1]), importances[indices],color=\"r\", yerr=std[indices], align=\"center\")\n",
    "plt.xticks(range(X_train3.shape[1]), X_train3.columns, rotation=45)\n",
    "plt.xlim([-1, X_train3.shape[1]])\n",
    "plt.show()"
   ]
  },
  {
   "cell_type": "markdown",
   "metadata": {},
   "source": [
    "## Playing with Cats\n",
    "\n",
    "Trying out catboost for python."
   ]
  },
  {
   "cell_type": "code",
   "execution_count": 107,
   "metadata": {
    "ExecuteTime": {
     "end_time": "2018-05-10T22:18:49.198492Z",
     "start_time": "2018-05-10T22:18:36.198605Z"
    }
   },
   "outputs": [
    {
     "ename": "ValueError",
     "evalue": "could not convert string to float: 'F27-28'",
     "output_type": "error",
     "traceback": [
      "\u001b[0;31m---------------------------------------------------------------------------\u001b[0m",
      "\u001b[0;31mValueError\u001b[0m                                Traceback (most recent call last)",
      "\u001b[0;32m<ipython-input-107-9bcf06b6cb17>\u001b[0m in \u001b[0;36m<module>\u001b[0;34m()\u001b[0m\n\u001b[1;32m      1\u001b[0m \u001b[0mcat\u001b[0m \u001b[0;34m=\u001b[0m \u001b[0mtraindf\u001b[0m\u001b[0;34m.\u001b[0m\u001b[0mcopy\u001b[0m\u001b[0;34m(\u001b[0m\u001b[0;34m)\u001b[0m\u001b[0;34m\u001b[0m\u001b[0m\n\u001b[1;32m      2\u001b[0m \u001b[0mcategorical_features_indices\u001b[0m \u001b[0;34m=\u001b[0m \u001b[0mnp\u001b[0m\u001b[0;34m.\u001b[0m\u001b[0mwhere\u001b[0m\u001b[0;34m(\u001b[0m\u001b[0mX_train2\u001b[0m\u001b[0;34m.\u001b[0m\u001b[0mdtypes\u001b[0m \u001b[0;34m!=\u001b[0m \u001b[0mnp\u001b[0m\u001b[0;34m.\u001b[0m\u001b[0mfloat\u001b[0m\u001b[0;34m)\u001b[0m\u001b[0;34m[\u001b[0m\u001b[0;36m0\u001b[0m\u001b[0;34m]\u001b[0m\u001b[0;34m\u001b[0m\u001b[0m\n\u001b[0;32m----> 3\u001b[0;31m \u001b[0mtrain_pool\u001b[0m \u001b[0;34m=\u001b[0m \u001b[0mPool\u001b[0m\u001b[0;34m(\u001b[0m\u001b[0mX_train2\u001b[0m\u001b[0;34m,\u001b[0m \u001b[0my_train2\u001b[0m\u001b[0;34m,\u001b[0m \u001b[0mcat_features\u001b[0m\u001b[0;34m=\u001b[0m\u001b[0mcategorical_features_indices\u001b[0m\u001b[0;34m)\u001b[0m\u001b[0;34m\u001b[0m\u001b[0m\n\u001b[0m\u001b[1;32m      4\u001b[0m \u001b[0mvalidate_pool\u001b[0m \u001b[0;34m=\u001b[0m \u001b[0mPool\u001b[0m\u001b[0;34m(\u001b[0m\u001b[0mX_test2\u001b[0m\u001b[0;34m,\u001b[0m \u001b[0my_test2\u001b[0m\u001b[0;34m,\u001b[0m \u001b[0mcat_features\u001b[0m\u001b[0;34m=\u001b[0m\u001b[0mcategorical_features_indices\u001b[0m\u001b[0;34m)\u001b[0m\u001b[0;34m\u001b[0m\u001b[0m\n",
      "\u001b[0;32m/anaconda3/lib/python3.6/site-packages/catboost/core.py\u001b[0m in \u001b[0;36m__init__\u001b[0;34m(self, data, label, cat_features, column_description, pairs, delimiter, has_header, weight, group_id, subgroup_id, pairs_weight, baseline, feature_names, thread_count)\u001b[0m\n\u001b[1;32m    221\u001b[0m                 \u001b[0mself\u001b[0m\u001b[0;34m.\u001b[0m\u001b[0m_read\u001b[0m\u001b[0;34m(\u001b[0m\u001b[0mdata\u001b[0m\u001b[0;34m,\u001b[0m \u001b[0mcolumn_description\u001b[0m\u001b[0;34m,\u001b[0m \u001b[0mpairs\u001b[0m\u001b[0;34m,\u001b[0m \u001b[0mdelimiter\u001b[0m\u001b[0;34m,\u001b[0m \u001b[0mhas_header\u001b[0m\u001b[0;34m,\u001b[0m \u001b[0mthread_count\u001b[0m\u001b[0;34m)\u001b[0m\u001b[0;34m\u001b[0m\u001b[0m\n\u001b[1;32m    222\u001b[0m             \u001b[0;32melse\u001b[0m\u001b[0;34m:\u001b[0m\u001b[0;34m\u001b[0m\u001b[0m\n\u001b[0;32m--> 223\u001b[0;31m                 \u001b[0mself\u001b[0m\u001b[0;34m.\u001b[0m\u001b[0m_init\u001b[0m\u001b[0;34m(\u001b[0m\u001b[0mdata\u001b[0m\u001b[0;34m,\u001b[0m \u001b[0mlabel\u001b[0m\u001b[0;34m,\u001b[0m \u001b[0mcat_features\u001b[0m\u001b[0;34m,\u001b[0m \u001b[0mpairs\u001b[0m\u001b[0;34m,\u001b[0m \u001b[0mweight\u001b[0m\u001b[0;34m,\u001b[0m \u001b[0mgroup_id\u001b[0m\u001b[0;34m,\u001b[0m \u001b[0msubgroup_id\u001b[0m\u001b[0;34m,\u001b[0m \u001b[0mpairs_weight\u001b[0m\u001b[0;34m,\u001b[0m \u001b[0mbaseline\u001b[0m\u001b[0;34m,\u001b[0m \u001b[0mfeature_names\u001b[0m\u001b[0;34m)\u001b[0m\u001b[0;34m\u001b[0m\u001b[0m\n\u001b[0m\u001b[1;32m    224\u001b[0m         \u001b[0msuper\u001b[0m\u001b[0;34m(\u001b[0m\u001b[0mPool\u001b[0m\u001b[0;34m,\u001b[0m \u001b[0mself\u001b[0m\u001b[0;34m)\u001b[0m\u001b[0;34m.\u001b[0m\u001b[0m__init__\u001b[0m\u001b[0;34m(\u001b[0m\u001b[0;34m)\u001b[0m\u001b[0;34m\u001b[0m\u001b[0m\n\u001b[1;32m    225\u001b[0m \u001b[0;34m\u001b[0m\u001b[0m\n",
      "\u001b[0;32m/anaconda3/lib/python3.6/site-packages/catboost/core.py\u001b[0m in \u001b[0;36m_init\u001b[0;34m(self, data_matrix, label, cat_features, pairs, weight, group_id, subgroup_id, pairs_weight, baseline, feature_names)\u001b[0m\n\u001b[1;32m    533\u001b[0m         \u001b[0;32mif\u001b[0m \u001b[0mfeature_names\u001b[0m \u001b[0;32mis\u001b[0m \u001b[0;32mnot\u001b[0m \u001b[0;32mNone\u001b[0m\u001b[0;34m:\u001b[0m\u001b[0;34m\u001b[0m\u001b[0m\n\u001b[1;32m    534\u001b[0m             \u001b[0mself\u001b[0m\u001b[0;34m.\u001b[0m\u001b[0m_check_feature_names\u001b[0m\u001b[0;34m(\u001b[0m\u001b[0mfeature_names\u001b[0m\u001b[0;34m,\u001b[0m \u001b[0mfeatures_count\u001b[0m\u001b[0;34m)\u001b[0m\u001b[0;34m\u001b[0m\u001b[0m\n\u001b[0;32m--> 535\u001b[0;31m         \u001b[0mself\u001b[0m\u001b[0;34m.\u001b[0m\u001b[0m_init_pool\u001b[0m\u001b[0;34m(\u001b[0m\u001b[0mdata_matrix\u001b[0m\u001b[0;34m,\u001b[0m \u001b[0mlabel\u001b[0m\u001b[0;34m,\u001b[0m \u001b[0mcat_features\u001b[0m\u001b[0;34m,\u001b[0m \u001b[0mpairs\u001b[0m\u001b[0;34m,\u001b[0m \u001b[0mweight\u001b[0m\u001b[0;34m,\u001b[0m \u001b[0mgroup_id\u001b[0m\u001b[0;34m,\u001b[0m \u001b[0msubgroup_id\u001b[0m\u001b[0;34m,\u001b[0m \u001b[0mpairs_weight\u001b[0m\u001b[0;34m,\u001b[0m \u001b[0mbaseline\u001b[0m\u001b[0;34m,\u001b[0m \u001b[0mfeature_names\u001b[0m\u001b[0;34m)\u001b[0m\u001b[0;34m\u001b[0m\u001b[0m\n\u001b[0m\u001b[1;32m    536\u001b[0m \u001b[0;34m\u001b[0m\u001b[0m\n\u001b[1;32m    537\u001b[0m \u001b[0;34m\u001b[0m\u001b[0m\n",
      "\u001b[0;32m_catboost.pyx\u001b[0m in \u001b[0;36m_catboost._PoolBase._init_pool\u001b[0;34m()\u001b[0m\n",
      "\u001b[0;32m_catboost.pyx\u001b[0m in \u001b[0;36m_catboost._PoolBase._init_pool\u001b[0;34m()\u001b[0m\n",
      "\u001b[0;32m_catboost.pyx\u001b[0m in \u001b[0;36m_catboost._PoolBase._set_label\u001b[0;34m()\u001b[0m\n",
      "\u001b[0;31mValueError\u001b[0m: could not convert string to float: 'F27-28'"
     ]
    }
   ],
   "source": [
    "cat = traindf.copy()\n",
    "categorical_features_indices = np.where(X_train2.dtypes != np.float)[0]\n",
    "train_pool = Pool(X_train2, y_train2, cat_features=categorical_features_indices)\n",
    "validate_pool = Pool(X_test2, y_test2, cat_features=categorical_features_indices)"
   ]
  },
  {
   "cell_type": "code",
   "execution_count": 79,
   "metadata": {
    "ExecuteTime": {
     "end_time": "2018-05-10T21:48:27.093904Z",
     "start_time": "2018-05-10T21:46:33.127503Z"
    }
   },
   "outputs": [],
   "source": [
    "from catboost import CatBoostRegressor, CatBoostClassifier, Pool\n",
    "y = cat['group']\n",
    "X= cat.drop(['group'], axis=1)\n",
    "X_trainc, X_testc, y_trainc, y_testc = train_test_split(X, y, test_size=0.5, random_state=42, stratify = y)"
   ]
  },
  {
   "cell_type": "code",
   "execution_count": 97,
   "metadata": {
    "ExecuteTime": {
     "end_time": "2018-05-10T22:01:56.033916Z",
     "start_time": "2018-05-10T22:01:56.017983Z"
    }
   },
   "outputs": [
    {
     "data": {
      "text/html": [
       "<div>\n",
       "<style scoped>\n",
       "    .dataframe tbody tr th:only-of-type {\n",
       "        vertical-align: middle;\n",
       "    }\n",
       "\n",
       "    .dataframe tbody tr th {\n",
       "        vertical-align: top;\n",
       "    }\n",
       "\n",
       "    .dataframe thead th {\n",
       "        text-align: right;\n",
       "    }\n",
       "</style>\n",
       "<table border=\"1\" class=\"dataframe\">\n",
       "  <thead>\n",
       "    <tr style=\"text-align: right;\">\n",
       "      <th></th>\n",
       "      <th>phone_brand</th>\n",
       "      <th>device_model</th>\n",
       "      <th>event_id</th>\n",
       "      <th>city</th>\n",
       "      <th>wkday</th>\n",
       "      <th>category</th>\n",
       "    </tr>\n",
       "  </thead>\n",
       "  <tbody>\n",
       "    <tr>\n",
       "      <th>2607869</th>\n",
       "      <td>Huawei</td>\n",
       "      <td>P8 Lite</td>\n",
       "      <td>902358</td>\n",
       "      <td>Zhongshanlu</td>\n",
       "      <td>5</td>\n",
       "      <td>Property Industry 2.0</td>\n",
       "    </tr>\n",
       "    <tr>\n",
       "      <th>14141448</th>\n",
       "      <td>Huawei</td>\n",
       "      <td>荣耀畅玩5X</td>\n",
       "      <td>30654</td>\n",
       "      <td>E'zhou</td>\n",
       "      <td>2</td>\n",
       "      <td>Property Industry 1.0</td>\n",
       "    </tr>\n",
       "    <tr>\n",
       "      <th>30329620</th>\n",
       "      <td>Huawei</td>\n",
       "      <td>荣耀6</td>\n",
       "      <td>3023420</td>\n",
       "      <td>Kunshan</td>\n",
       "      <td>4</td>\n",
       "      <td>Car Owners</td>\n",
       "    </tr>\n",
       "    <tr>\n",
       "      <th>9418192</th>\n",
       "      <td>vivo</td>\n",
       "      <td>X710L</td>\n",
       "      <td>2881163</td>\n",
       "      <td>Taohua</td>\n",
       "      <td>0</td>\n",
       "      <td>IMF</td>\n",
       "    </tr>\n",
       "    <tr>\n",
       "      <th>13942382</th>\n",
       "      <td>Huawei</td>\n",
       "      <td>P8 Lite</td>\n",
       "      <td>596643</td>\n",
       "      <td>Qufu</td>\n",
       "      <td>3</td>\n",
       "      <td>Property Industry 1.0</td>\n",
       "    </tr>\n",
       "  </tbody>\n",
       "</table>\n",
       "</div>"
      ],
      "text/plain": [
       "         phone_brand device_model event_id         city  wkday  \\\n",
       "2607869       Huawei      P8 Lite   902358  Zhongshanlu      5   \n",
       "14141448      Huawei       荣耀畅玩5X    30654       E'zhou      2   \n",
       "30329620      Huawei          荣耀6  3023420      Kunshan      4   \n",
       "9418192         vivo        X710L  2881163       Taohua      0   \n",
       "13942382      Huawei      P8 Lite   596643         Qufu      3   \n",
       "\n",
       "                       category  \n",
       "2607869   Property Industry 2.0  \n",
       "14141448  Property Industry 1.0  \n",
       "30329620             Car Owners  \n",
       "9418192                     IMF  \n",
       "13942382  Property Industry 1.0  "
      ]
     },
     "execution_count": 97,
     "metadata": {},
     "output_type": "execute_result"
    }
   ],
   "source": [
    "X_test2.head()"
   ]
  },
  {
   "cell_type": "code",
   "execution_count": 105,
   "metadata": {
    "ExecuteTime": {
     "end_time": "2018-05-10T22:13:26.843873Z",
     "start_time": "2018-05-10T22:13:10.468719Z"
    },
    "code_folding": []
   },
   "outputs": [
    {
     "ename": "ValueError",
     "evalue": "could not convert string to float: 'F43+'",
     "output_type": "error",
     "traceback": [
      "\u001b[0;31m---------------------------------------------------------------------------\u001b[0m",
      "\u001b[0;31mValueError\u001b[0m                                Traceback (most recent call last)",
      "\u001b[0;32m<ipython-input-105-5f16e1dbd9b9>\u001b[0m in \u001b[0;36m<module>\u001b[0;34m()\u001b[0m\n\u001b[1;32m      3\u001b[0m \u001b[0;34m\u001b[0m\u001b[0m\n\u001b[1;32m      4\u001b[0m \u001b[0mmodel\u001b[0m\u001b[0;34m=\u001b[0m\u001b[0mCatBoostClassifier\u001b[0m\u001b[0;34m(\u001b[0m\u001b[0miterations\u001b[0m\u001b[0;34m=\u001b[0m\u001b[0;36m10\u001b[0m\u001b[0;34m,\u001b[0m \u001b[0mdepth\u001b[0m\u001b[0;34m=\u001b[0m\u001b[0;36m12\u001b[0m\u001b[0;34m,\u001b[0m \u001b[0mlearning_rate\u001b[0m\u001b[0;34m=\u001b[0m\u001b[0;36m0.1\u001b[0m\u001b[0;34m,\u001b[0m \u001b[0mloss_function\u001b[0m \u001b[0;34m=\u001b[0m \u001b[0;34m'MultiClass'\u001b[0m\u001b[0;34m)\u001b[0m\u001b[0;34m\u001b[0m\u001b[0m\n\u001b[0;32m----> 5\u001b[0;31m \u001b[0mmodel\u001b[0m\u001b[0;34m.\u001b[0m\u001b[0mfit\u001b[0m\u001b[0;34m(\u001b[0m\u001b[0mX_test2\u001b[0m\u001b[0;34m,\u001b[0m \u001b[0my_test2\u001b[0m\u001b[0;34m,\u001b[0m \u001b[0mcat_features\u001b[0m\u001b[0;34m=\u001b[0m\u001b[0;34m[\u001b[0m\u001b[0;36m0\u001b[0m\u001b[0;34m,\u001b[0m\u001b[0;36m1\u001b[0m\u001b[0;34m,\u001b[0m\u001b[0;36m2\u001b[0m\u001b[0;34m,\u001b[0m\u001b[0;36m3\u001b[0m\u001b[0;34m,\u001b[0m\u001b[0;36m4\u001b[0m\u001b[0;34m,\u001b[0m\u001b[0;36m5\u001b[0m\u001b[0;34m]\u001b[0m\u001b[0;34m,\u001b[0m\u001b[0mplot\u001b[0m\u001b[0;34m=\u001b[0m\u001b[0;32mTrue\u001b[0m\u001b[0;34m)\u001b[0m\u001b[0;34m\u001b[0m\u001b[0m\n\u001b[0m",
      "\u001b[0;32m/anaconda3/lib/python3.6/site-packages/catboost/core.py\u001b[0m in \u001b[0;36mfit\u001b[0;34m(self, X, y, cat_features, sample_weight, baseline, use_best_model, eval_set, verbose, logging_level, plot, column_description, verbose_eval)\u001b[0m\n\u001b[1;32m   1682\u001b[0m         \u001b[0mmodel\u001b[0m \u001b[0;34m:\u001b[0m \u001b[0mCatBoost\u001b[0m\u001b[0;34m\u001b[0m\u001b[0m\n\u001b[1;32m   1683\u001b[0m         \"\"\"\n\u001b[0;32m-> 1684\u001b[0;31m         \u001b[0mself\u001b[0m\u001b[0;34m.\u001b[0m\u001b[0m_fit\u001b[0m\u001b[0;34m(\u001b[0m\u001b[0mX\u001b[0m\u001b[0;34m,\u001b[0m \u001b[0my\u001b[0m\u001b[0;34m,\u001b[0m \u001b[0mcat_features\u001b[0m\u001b[0;34m,\u001b[0m \u001b[0;32mNone\u001b[0m\u001b[0;34m,\u001b[0m \u001b[0msample_weight\u001b[0m\u001b[0;34m,\u001b[0m \u001b[0;32mNone\u001b[0m\u001b[0;34m,\u001b[0m \u001b[0;32mNone\u001b[0m\u001b[0;34m,\u001b[0m \u001b[0;32mNone\u001b[0m\u001b[0;34m,\u001b[0m \u001b[0mbaseline\u001b[0m\u001b[0;34m,\u001b[0m \u001b[0muse_best_model\u001b[0m\u001b[0;34m,\u001b[0m \u001b[0meval_set\u001b[0m\u001b[0;34m,\u001b[0m \u001b[0mverbose\u001b[0m\u001b[0;34m,\u001b[0m \u001b[0mlogging_level\u001b[0m\u001b[0;34m,\u001b[0m \u001b[0mplot\u001b[0m\u001b[0;34m,\u001b[0m \u001b[0mcolumn_description\u001b[0m\u001b[0;34m,\u001b[0m \u001b[0mverbose_eval\u001b[0m\u001b[0;34m)\u001b[0m\u001b[0;34m\u001b[0m\u001b[0m\n\u001b[0m\u001b[1;32m   1685\u001b[0m         \u001b[0;32mreturn\u001b[0m \u001b[0mself\u001b[0m\u001b[0;34m\u001b[0m\u001b[0m\n\u001b[1;32m   1686\u001b[0m \u001b[0;34m\u001b[0m\u001b[0m\n",
      "\u001b[0;32m/anaconda3/lib/python3.6/site-packages/catboost/core.py\u001b[0m in \u001b[0;36m_fit\u001b[0;34m(self, X, y, cat_features, pairs, sample_weight, group_id, subgroup_id, pairs_weight, baseline, use_best_model, eval_set, verbose, logging_level, plot, column_description, verbose_eval)\u001b[0m\n\u001b[1;32m    750\u001b[0m             \u001b[0mparams\u001b[0m\u001b[0;34m[\u001b[0m\u001b[0;34m'use_best_model'\u001b[0m\u001b[0;34m]\u001b[0m \u001b[0;34m=\u001b[0m \u001b[0muse_best_model\u001b[0m\u001b[0;34m\u001b[0m\u001b[0m\n\u001b[1;32m    751\u001b[0m \u001b[0;34m\u001b[0m\u001b[0m\n\u001b[0;32m--> 752\u001b[0;31m         \u001b[0mtrain_pool\u001b[0m \u001b[0;34m=\u001b[0m \u001b[0m_build_train_pool\u001b[0m\u001b[0;34m(\u001b[0m\u001b[0mX\u001b[0m\u001b[0;34m,\u001b[0m \u001b[0my\u001b[0m\u001b[0;34m,\u001b[0m \u001b[0mcat_features\u001b[0m\u001b[0;34m,\u001b[0m \u001b[0mpairs\u001b[0m\u001b[0;34m,\u001b[0m \u001b[0msample_weight\u001b[0m\u001b[0;34m,\u001b[0m \u001b[0mgroup_id\u001b[0m\u001b[0;34m,\u001b[0m \u001b[0msubgroup_id\u001b[0m\u001b[0;34m,\u001b[0m \u001b[0mpairs_weight\u001b[0m\u001b[0;34m,\u001b[0m \u001b[0mbaseline\u001b[0m\u001b[0;34m,\u001b[0m \u001b[0mcolumn_description\u001b[0m\u001b[0;34m)\u001b[0m\u001b[0;34m\u001b[0m\u001b[0m\n\u001b[0m\u001b[1;32m    753\u001b[0m         \u001b[0;32mif\u001b[0m \u001b[0mtrain_pool\u001b[0m\u001b[0;34m.\u001b[0m\u001b[0mis_empty_\u001b[0m\u001b[0;34m:\u001b[0m\u001b[0;34m\u001b[0m\u001b[0m\n\u001b[1;32m    754\u001b[0m             \u001b[0;32mraise\u001b[0m \u001b[0mCatboostError\u001b[0m\u001b[0;34m(\u001b[0m\u001b[0;34m\"X is empty.\"\u001b[0m\u001b[0;34m)\u001b[0m\u001b[0;34m\u001b[0m\u001b[0m\n",
      "\u001b[0;32m/anaconda3/lib/python3.6/site-packages/catboost/core.py\u001b[0m in \u001b[0;36m_build_train_pool\u001b[0;34m(X, y, cat_features, pairs, sample_weight, group_id, subgroup_id, pairs_weight, baseline, column_description)\u001b[0m\n\u001b[1;32m    552\u001b[0m             \u001b[0;32mraise\u001b[0m \u001b[0mCatboostError\u001b[0m\u001b[0;34m(\u001b[0m\u001b[0;34m\"y has not initialized in fit(): X is not catboost.Pool object, y must be not None in fit().\"\u001b[0m\u001b[0;34m)\u001b[0m\u001b[0;34m\u001b[0m\u001b[0m\n\u001b[1;32m    553\u001b[0m         train_pool = Pool(X, y, cat_features=cat_features, pairs=pairs, weight=sample_weight, group_id=group_id,\n\u001b[0;32m--> 554\u001b[0;31m                           subgroup_id=subgroup_id, pairs_weight=pairs_weight, baseline=baseline)\n\u001b[0m\u001b[1;32m    555\u001b[0m     \u001b[0;32mreturn\u001b[0m \u001b[0mtrain_pool\u001b[0m\u001b[0;34m\u001b[0m\u001b[0m\n\u001b[1;32m    556\u001b[0m \u001b[0;34m\u001b[0m\u001b[0m\n",
      "\u001b[0;32m/anaconda3/lib/python3.6/site-packages/catboost/core.py\u001b[0m in \u001b[0;36m__init__\u001b[0;34m(self, data, label, cat_features, column_description, pairs, delimiter, has_header, weight, group_id, subgroup_id, pairs_weight, baseline, feature_names, thread_count)\u001b[0m\n\u001b[1;32m    221\u001b[0m                 \u001b[0mself\u001b[0m\u001b[0;34m.\u001b[0m\u001b[0m_read\u001b[0m\u001b[0;34m(\u001b[0m\u001b[0mdata\u001b[0m\u001b[0;34m,\u001b[0m \u001b[0mcolumn_description\u001b[0m\u001b[0;34m,\u001b[0m \u001b[0mpairs\u001b[0m\u001b[0;34m,\u001b[0m \u001b[0mdelimiter\u001b[0m\u001b[0;34m,\u001b[0m \u001b[0mhas_header\u001b[0m\u001b[0;34m,\u001b[0m \u001b[0mthread_count\u001b[0m\u001b[0;34m)\u001b[0m\u001b[0;34m\u001b[0m\u001b[0m\n\u001b[1;32m    222\u001b[0m             \u001b[0;32melse\u001b[0m\u001b[0;34m:\u001b[0m\u001b[0;34m\u001b[0m\u001b[0m\n\u001b[0;32m--> 223\u001b[0;31m                 \u001b[0mself\u001b[0m\u001b[0;34m.\u001b[0m\u001b[0m_init\u001b[0m\u001b[0;34m(\u001b[0m\u001b[0mdata\u001b[0m\u001b[0;34m,\u001b[0m \u001b[0mlabel\u001b[0m\u001b[0;34m,\u001b[0m \u001b[0mcat_features\u001b[0m\u001b[0;34m,\u001b[0m \u001b[0mpairs\u001b[0m\u001b[0;34m,\u001b[0m \u001b[0mweight\u001b[0m\u001b[0;34m,\u001b[0m \u001b[0mgroup_id\u001b[0m\u001b[0;34m,\u001b[0m \u001b[0msubgroup_id\u001b[0m\u001b[0;34m,\u001b[0m \u001b[0mpairs_weight\u001b[0m\u001b[0;34m,\u001b[0m \u001b[0mbaseline\u001b[0m\u001b[0;34m,\u001b[0m \u001b[0mfeature_names\u001b[0m\u001b[0;34m)\u001b[0m\u001b[0;34m\u001b[0m\u001b[0m\n\u001b[0m\u001b[1;32m    224\u001b[0m         \u001b[0msuper\u001b[0m\u001b[0;34m(\u001b[0m\u001b[0mPool\u001b[0m\u001b[0;34m,\u001b[0m \u001b[0mself\u001b[0m\u001b[0;34m)\u001b[0m\u001b[0;34m.\u001b[0m\u001b[0m__init__\u001b[0m\u001b[0;34m(\u001b[0m\u001b[0;34m)\u001b[0m\u001b[0;34m\u001b[0m\u001b[0m\n\u001b[1;32m    225\u001b[0m \u001b[0;34m\u001b[0m\u001b[0m\n",
      "\u001b[0;32m/anaconda3/lib/python3.6/site-packages/catboost/core.py\u001b[0m in \u001b[0;36m_init\u001b[0;34m(self, data_matrix, label, cat_features, pairs, weight, group_id, subgroup_id, pairs_weight, baseline, feature_names)\u001b[0m\n\u001b[1;32m    533\u001b[0m         \u001b[0;32mif\u001b[0m \u001b[0mfeature_names\u001b[0m \u001b[0;32mis\u001b[0m \u001b[0;32mnot\u001b[0m \u001b[0;32mNone\u001b[0m\u001b[0;34m:\u001b[0m\u001b[0;34m\u001b[0m\u001b[0m\n\u001b[1;32m    534\u001b[0m             \u001b[0mself\u001b[0m\u001b[0;34m.\u001b[0m\u001b[0m_check_feature_names\u001b[0m\u001b[0;34m(\u001b[0m\u001b[0mfeature_names\u001b[0m\u001b[0;34m,\u001b[0m \u001b[0mfeatures_count\u001b[0m\u001b[0;34m)\u001b[0m\u001b[0;34m\u001b[0m\u001b[0m\n\u001b[0;32m--> 535\u001b[0;31m         \u001b[0mself\u001b[0m\u001b[0;34m.\u001b[0m\u001b[0m_init_pool\u001b[0m\u001b[0;34m(\u001b[0m\u001b[0mdata_matrix\u001b[0m\u001b[0;34m,\u001b[0m \u001b[0mlabel\u001b[0m\u001b[0;34m,\u001b[0m \u001b[0mcat_features\u001b[0m\u001b[0;34m,\u001b[0m \u001b[0mpairs\u001b[0m\u001b[0;34m,\u001b[0m \u001b[0mweight\u001b[0m\u001b[0;34m,\u001b[0m \u001b[0mgroup_id\u001b[0m\u001b[0;34m,\u001b[0m \u001b[0msubgroup_id\u001b[0m\u001b[0;34m,\u001b[0m \u001b[0mpairs_weight\u001b[0m\u001b[0;34m,\u001b[0m \u001b[0mbaseline\u001b[0m\u001b[0;34m,\u001b[0m \u001b[0mfeature_names\u001b[0m\u001b[0;34m)\u001b[0m\u001b[0;34m\u001b[0m\u001b[0m\n\u001b[0m\u001b[1;32m    536\u001b[0m \u001b[0;34m\u001b[0m\u001b[0m\n\u001b[1;32m    537\u001b[0m \u001b[0;34m\u001b[0m\u001b[0m\n",
      "\u001b[0;32m_catboost.pyx\u001b[0m in \u001b[0;36m_catboost._PoolBase._init_pool\u001b[0;34m()\u001b[0m\n",
      "\u001b[0;32m_catboost.pyx\u001b[0m in \u001b[0;36m_catboost._PoolBase._init_pool\u001b[0;34m()\u001b[0m\n",
      "\u001b[0;32m_catboost.pyx\u001b[0m in \u001b[0;36m_catboost._PoolBase._set_label\u001b[0;34m()\u001b[0m\n",
      "\u001b[0;31mValueError\u001b[0m: could not convert string to float: 'F43+'"
     ]
    }
   ],
   "source": [
    "#CatBoost\n",
    "\n",
    "\n",
    "model=CatBoostClassifier(iterations=10, depth=12, learning_rate=0.1, loss_function = 'MultiClass')\n",
    "model.fit(X_test2, y_test2, cat_features=[0,1,2,3,4,5],plot=True)"
   ]
  },
  {
   "cell_type": "code",
   "execution_count": 57,
   "metadata": {
    "ExecuteTime": {
     "end_time": "2018-05-10T21:34:16.453798Z",
     "start_time": "2018-05-10T21:34:11.129216Z"
    }
   },
   "outputs": [
    {
     "name": "stdout",
     "output_type": "stream",
     "text": [
      "city: 44.45448477542716\n",
      "device_model: 33.218739980992225\n",
      "event_id: 14.757314440964834\n",
      "phone_brand: 7.127827306992386\n",
      "is_active: 0.32189484248576744\n",
      "wkday: 0.1197386531376231\n",
      "cc: 0.0\n",
      "category: 0.0\n",
      "app_id: 0.0\n"
     ]
    }
   ],
   "source": [
    "\n",
    "feature_importances = model.get_feature_importance(X_test2,y_test2)\n",
    "feature_names = X_test2.columns\n",
    "for score, name in sorted(zip(feature_importances, feature_names), reverse=True):\n",
    "    print('{}: {}'.format(name, score))"
   ]
  },
  {
   "cell_type": "markdown",
   "metadata": {},
   "source": [
    "## Naive Bayes\n",
    "\n",
    "Trying out different models to see which is the best route to analysis. Model ran decently fast and it handled the larger set well."
   ]
  },
  {
   "cell_type": "code",
   "execution_count": 53,
   "metadata": {
    "ExecuteTime": {
     "end_time": "2018-05-10T21:30:44.066784Z",
     "start_time": "2018-05-10T21:30:44.032085Z"
    }
   },
   "outputs": [
    {
     "data": {
      "text/html": [
       "<div>\n",
       "<style scoped>\n",
       "    .dataframe tbody tr th:only-of-type {\n",
       "        vertical-align: middle;\n",
       "    }\n",
       "\n",
       "    .dataframe tbody tr th {\n",
       "        vertical-align: top;\n",
       "    }\n",
       "\n",
       "    .dataframe thead th {\n",
       "        text-align: right;\n",
       "    }\n",
       "</style>\n",
       "<table border=\"1\" class=\"dataframe\">\n",
       "  <thead>\n",
       "    <tr style=\"text-align: right;\">\n",
       "      <th></th>\n",
       "      <th>phone_brand</th>\n",
       "      <th>device_model</th>\n",
       "      <th>event_id</th>\n",
       "      <th>city</th>\n",
       "      <th>cc</th>\n",
       "      <th>wkday</th>\n",
       "      <th>app_id</th>\n",
       "      <th>is_active</th>\n",
       "      <th>category</th>\n",
       "    </tr>\n",
       "  </thead>\n",
       "  <tbody>\n",
       "    <tr>\n",
       "      <th>2607869</th>\n",
       "      <td>Huawei</td>\n",
       "      <td>P8 Lite</td>\n",
       "      <td>902358</td>\n",
       "      <td>Zhongshanlu</td>\n",
       "      <td>CN</td>\n",
       "      <td>5</td>\n",
       "      <td>-6689096779184407258</td>\n",
       "      <td>0</td>\n",
       "      <td>Property Industry 2.0</td>\n",
       "    </tr>\n",
       "    <tr>\n",
       "      <th>14141448</th>\n",
       "      <td>Huawei</td>\n",
       "      <td>荣耀畅玩5X</td>\n",
       "      <td>30654</td>\n",
       "      <td>E'zhou</td>\n",
       "      <td>CN</td>\n",
       "      <td>2</td>\n",
       "      <td>-7339430059748502738</td>\n",
       "      <td>0</td>\n",
       "      <td>Property Industry 1.0</td>\n",
       "    </tr>\n",
       "    <tr>\n",
       "      <th>30329620</th>\n",
       "      <td>Huawei</td>\n",
       "      <td>荣耀6</td>\n",
       "      <td>3023420</td>\n",
       "      <td>Kunshan</td>\n",
       "      <td>CN</td>\n",
       "      <td>4</td>\n",
       "      <td>3162589798101133082</td>\n",
       "      <td>0</td>\n",
       "      <td>Car Owners</td>\n",
       "    </tr>\n",
       "    <tr>\n",
       "      <th>9418192</th>\n",
       "      <td>vivo</td>\n",
       "      <td>X710L</td>\n",
       "      <td>2881163</td>\n",
       "      <td>Taohua</td>\n",
       "      <td>CN</td>\n",
       "      <td>0</td>\n",
       "      <td>2705437723590691734</td>\n",
       "      <td>0</td>\n",
       "      <td>IMF</td>\n",
       "    </tr>\n",
       "    <tr>\n",
       "      <th>13942382</th>\n",
       "      <td>Huawei</td>\n",
       "      <td>P8 Lite</td>\n",
       "      <td>596643</td>\n",
       "      <td>Qufu</td>\n",
       "      <td>CN</td>\n",
       "      <td>3</td>\n",
       "      <td>-4119123268883159259</td>\n",
       "      <td>0</td>\n",
       "      <td>Property Industry 1.0</td>\n",
       "    </tr>\n",
       "    <tr>\n",
       "      <th>14328954</th>\n",
       "      <td>Huawei</td>\n",
       "      <td>Mate 7</td>\n",
       "      <td>1750109</td>\n",
       "      <td>Huaqiao</td>\n",
       "      <td>CN</td>\n",
       "      <td>1</td>\n",
       "      <td>6379073363595815308</td>\n",
       "      <td>0</td>\n",
       "      <td>Property Industry 1.0</td>\n",
       "    </tr>\n",
       "    <tr>\n",
       "      <th>17591514</th>\n",
       "      <td>Huawei</td>\n",
       "      <td>荣耀6</td>\n",
       "      <td>1334703</td>\n",
       "      <td>Xixing</td>\n",
       "      <td>CN</td>\n",
       "      <td>5</td>\n",
       "      <td>-5167126913085374292</td>\n",
       "      <td>1</td>\n",
       "      <td>unknown</td>\n",
       "    </tr>\n",
       "    <tr>\n",
       "      <th>3659601</th>\n",
       "      <td>OPPO</td>\n",
       "      <td>Find 7</td>\n",
       "      <td>744821</td>\n",
       "      <td>Jinan</td>\n",
       "      <td>CN</td>\n",
       "      <td>4</td>\n",
       "      <td>9067865285427638445</td>\n",
       "      <td>0</td>\n",
       "      <td>Property Industry 2.0</td>\n",
       "    </tr>\n",
       "    <tr>\n",
       "      <th>1486805</th>\n",
       "      <td>vivo</td>\n",
       "      <td>Y23L</td>\n",
       "      <td>2108081</td>\n",
       "      <td>Jinan</td>\n",
       "      <td>CN</td>\n",
       "      <td>3</td>\n",
       "      <td>5927333115845830913</td>\n",
       "      <td>1</td>\n",
       "      <td>Property Industry 2.0</td>\n",
       "    </tr>\n",
       "    <tr>\n",
       "      <th>22395935</th>\n",
       "      <td>xiaomi</td>\n",
       "      <td>MI 4</td>\n",
       "      <td>2578877</td>\n",
       "      <td>Xibeiwang</td>\n",
       "      <td>CN</td>\n",
       "      <td>5</td>\n",
       "      <td>4244331088397413857</td>\n",
       "      <td>0</td>\n",
       "      <td>fashion</td>\n",
       "    </tr>\n",
       "    <tr>\n",
       "      <th>23531225</th>\n",
       "      <td>Huawei</td>\n",
       "      <td>荣耀6</td>\n",
       "      <td>2439953</td>\n",
       "      <td>Linfen</td>\n",
       "      <td>CN</td>\n",
       "      <td>4</td>\n",
       "      <td>4348659952760821294</td>\n",
       "      <td>1</td>\n",
       "      <td>Moderate profitability</td>\n",
       "    </tr>\n",
       "    <tr>\n",
       "      <th>7036461</th>\n",
       "      <td>xiaomi</td>\n",
       "      <td>MI 4</td>\n",
       "      <td>2315837</td>\n",
       "      <td>Houjie</td>\n",
       "      <td>CN</td>\n",
       "      <td>1</td>\n",
       "      <td>5203158459421976765</td>\n",
       "      <td>0</td>\n",
       "      <td>Industry tag</td>\n",
       "    </tr>\n",
       "    <tr>\n",
       "      <th>29270525</th>\n",
       "      <td>Huawei</td>\n",
       "      <td>荣耀6</td>\n",
       "      <td>753962</td>\n",
       "      <td>Renqiu</td>\n",
       "      <td>CN</td>\n",
       "      <td>0</td>\n",
       "      <td>8557198901083791098</td>\n",
       "      <td>1</td>\n",
       "      <td>convenience services</td>\n",
       "    </tr>\n",
       "    <tr>\n",
       "      <th>18089341</th>\n",
       "      <td>meizu</td>\n",
       "      <td>MX4</td>\n",
       "      <td>1079724</td>\n",
       "      <td>Jincheng</td>\n",
       "      <td>CN</td>\n",
       "      <td>2</td>\n",
       "      <td>-8504475857937456387</td>\n",
       "      <td>1</td>\n",
       "      <td>1 free</td>\n",
       "    </tr>\n",
       "    <tr>\n",
       "      <th>3774067</th>\n",
       "      <td>OPPO</td>\n",
       "      <td>R7</td>\n",
       "      <td>3206924</td>\n",
       "      <td>Zhushi</td>\n",
       "      <td>CN</td>\n",
       "      <td>1</td>\n",
       "      <td>7059931397706756640</td>\n",
       "      <td>0</td>\n",
       "      <td>Property Industry 2.0</td>\n",
       "    </tr>\n",
       "    <tr>\n",
       "      <th>26830041</th>\n",
       "      <td>Huawei</td>\n",
       "      <td>荣耀6 Plus</td>\n",
       "      <td>2325109</td>\n",
       "      <td>Binzhou</td>\n",
       "      <td>CN</td>\n",
       "      <td>3</td>\n",
       "      <td>4825363013642244956</td>\n",
       "      <td>0</td>\n",
       "      <td>Low profitability</td>\n",
       "    </tr>\n",
       "    <tr>\n",
       "      <th>12392913</th>\n",
       "      <td>Huawei</td>\n",
       "      <td>荣耀3C</td>\n",
       "      <td>2706946</td>\n",
       "      <td>Datun</td>\n",
       "      <td>CN</td>\n",
       "      <td>0</td>\n",
       "      <td>7103165589137134591</td>\n",
       "      <td>1</td>\n",
       "      <td>And the Church</td>\n",
       "    </tr>\n",
       "    <tr>\n",
       "      <th>25570317</th>\n",
       "      <td>Huawei</td>\n",
       "      <td>荣耀6 Plus</td>\n",
       "      <td>1630966</td>\n",
       "      <td>Yangzhen</td>\n",
       "      <td>CN</td>\n",
       "      <td>1</td>\n",
       "      <td>6058196446775239644</td>\n",
       "      <td>0</td>\n",
       "      <td>DS_P2P net loan</td>\n",
       "    </tr>\n",
       "    <tr>\n",
       "      <th>30329069</th>\n",
       "      <td>Huawei</td>\n",
       "      <td>荣耀6</td>\n",
       "      <td>1890544</td>\n",
       "      <td>Hutang</td>\n",
       "      <td>CN</td>\n",
       "      <td>0</td>\n",
       "      <td>3162589798101133082</td>\n",
       "      <td>0</td>\n",
       "      <td>Car Owners</td>\n",
       "    </tr>\n",
       "    <tr>\n",
       "      <th>17206923</th>\n",
       "      <td>Huawei</td>\n",
       "      <td>荣耀畅玩4C</td>\n",
       "      <td>366216</td>\n",
       "      <td>Xipu</td>\n",
       "      <td>CN</td>\n",
       "      <td>6</td>\n",
       "      <td>-3955212733485100109</td>\n",
       "      <td>1</td>\n",
       "      <td>unknown</td>\n",
       "    </tr>\n",
       "    <tr>\n",
       "      <th>2537621</th>\n",
       "      <td>Huawei</td>\n",
       "      <td>荣耀6</td>\n",
       "      <td>3178689</td>\n",
       "      <td>Kunshan</td>\n",
       "      <td>CN</td>\n",
       "      <td>4</td>\n",
       "      <td>-5720078949152207372</td>\n",
       "      <td>0</td>\n",
       "      <td>Property Industry 2.0</td>\n",
       "    </tr>\n",
       "    <tr>\n",
       "      <th>22971389</th>\n",
       "      <td>xiaomi</td>\n",
       "      <td>红米1S</td>\n",
       "      <td>2320098</td>\n",
       "      <td>Xinshi</td>\n",
       "      <td>CN</td>\n",
       "      <td>5</td>\n",
       "      <td>8388878903852543656</td>\n",
       "      <td>0</td>\n",
       "      <td>Pay</td>\n",
       "    </tr>\n",
       "    <tr>\n",
       "      <th>17210373</th>\n",
       "      <td>Huawei</td>\n",
       "      <td>荣耀6</td>\n",
       "      <td>1853553</td>\n",
       "      <td>Gongchangling</td>\n",
       "      <td>CN</td>\n",
       "      <td>0</td>\n",
       "      <td>-3955212733485100109</td>\n",
       "      <td>1</td>\n",
       "      <td>unknown</td>\n",
       "    </tr>\n",
       "    <tr>\n",
       "      <th>18860670</th>\n",
       "      <td>xiaomi</td>\n",
       "      <td>MI 4</td>\n",
       "      <td>1662152</td>\n",
       "      <td>Huamu</td>\n",
       "      <td>CN</td>\n",
       "      <td>0</td>\n",
       "      <td>6324194957022958681</td>\n",
       "      <td>0</td>\n",
       "      <td>unknown</td>\n",
       "    </tr>\n",
       "    <tr>\n",
       "      <th>6969992</th>\n",
       "      <td>vivo</td>\n",
       "      <td>X6 L</td>\n",
       "      <td>1712925</td>\n",
       "      <td>Jiahe Chengguanzhen</td>\n",
       "      <td>CN</td>\n",
       "      <td>5</td>\n",
       "      <td>-9050100410106163077</td>\n",
       "      <td>0</td>\n",
       "      <td>Industry tag</td>\n",
       "    </tr>\n",
       "    <tr>\n",
       "      <th>23719925</th>\n",
       "      <td>samsung</td>\n",
       "      <td>Galaxy Grand 2</td>\n",
       "      <td>467916</td>\n",
       "      <td>Liuzhou</td>\n",
       "      <td>CN</td>\n",
       "      <td>0</td>\n",
       "      <td>4348659952760821294</td>\n",
       "      <td>1</td>\n",
       "      <td>Low risk</td>\n",
       "    </tr>\n",
       "    <tr>\n",
       "      <th>23595383</th>\n",
       "      <td>lshi</td>\n",
       "      <td>超级手机Max</td>\n",
       "      <td>669686</td>\n",
       "      <td>Meiyuan Xincun</td>\n",
       "      <td>CN</td>\n",
       "      <td>5</td>\n",
       "      <td>-6212537830788600605</td>\n",
       "      <td>0</td>\n",
       "      <td>Moderate profitability</td>\n",
       "    </tr>\n",
       "    <tr>\n",
       "      <th>11123392</th>\n",
       "      <td>samsung</td>\n",
       "      <td>Galaxy Note 2</td>\n",
       "      <td>260607</td>\n",
       "      <td>Anwen</td>\n",
       "      <td>CN</td>\n",
       "      <td>3</td>\n",
       "      <td>-7339430059748502738</td>\n",
       "      <td>0</td>\n",
       "      <td>Custom label</td>\n",
       "    </tr>\n",
       "    <tr>\n",
       "      <th>1343786</th>\n",
       "      <td>jinli</td>\n",
       "      <td>E7</td>\n",
       "      <td>731974</td>\n",
       "      <td>Changping</td>\n",
       "      <td>CN</td>\n",
       "      <td>2</td>\n",
       "      <td>-3875126804472321228</td>\n",
       "      <td>0</td>\n",
       "      <td>Services 1</td>\n",
       "    </tr>\n",
       "    <tr>\n",
       "      <th>12283086</th>\n",
       "      <td>Huawei</td>\n",
       "      <td>荣耀6</td>\n",
       "      <td>2440700</td>\n",
       "      <td>Yueyang</td>\n",
       "      <td>CN</td>\n",
       "      <td>2</td>\n",
       "      <td>2705437723590691734</td>\n",
       "      <td>0</td>\n",
       "      <td>And the Church</td>\n",
       "    </tr>\n",
       "    <tr>\n",
       "      <th>...</th>\n",
       "      <td>...</td>\n",
       "      <td>...</td>\n",
       "      <td>...</td>\n",
       "      <td>...</td>\n",
       "      <td>...</td>\n",
       "      <td>...</td>\n",
       "      <td>...</td>\n",
       "      <td>...</td>\n",
       "      <td>...</td>\n",
       "    </tr>\n",
       "    <tr>\n",
       "      <th>17191750</th>\n",
       "      <td>Huawei</td>\n",
       "      <td>荣耀6 Plus</td>\n",
       "      <td>1343532</td>\n",
       "      <td>Nanding</td>\n",
       "      <td>CN</td>\n",
       "      <td>0</td>\n",
       "      <td>-3955212733485100109</td>\n",
       "      <td>1</td>\n",
       "      <td>unknown</td>\n",
       "    </tr>\n",
       "    <tr>\n",
       "      <th>27596182</th>\n",
       "      <td>xiaomi</td>\n",
       "      <td>红米2A</td>\n",
       "      <td>1875308</td>\n",
       "      <td>Huangbu</td>\n",
       "      <td>CN</td>\n",
       "      <td>2</td>\n",
       "      <td>-3507529970483852351</td>\n",
       "      <td>1</td>\n",
       "      <td>Science and Technology</td>\n",
       "    </tr>\n",
       "    <tr>\n",
       "      <th>19247563</th>\n",
       "      <td>Huawei</td>\n",
       "      <td>荣耀6</td>\n",
       "      <td>2102775</td>\n",
       "      <td>Xinhua</td>\n",
       "      <td>CN</td>\n",
       "      <td>5</td>\n",
       "      <td>-8942695423876075857</td>\n",
       "      <td>0</td>\n",
       "      <td>tourism product</td>\n",
       "    </tr>\n",
       "    <tr>\n",
       "      <th>25499212</th>\n",
       "      <td>Huawei</td>\n",
       "      <td>Mate 7</td>\n",
       "      <td>2284766</td>\n",
       "      <td>Luopu</td>\n",
       "      <td>CN</td>\n",
       "      <td>5</td>\n",
       "      <td>33792862810792679</td>\n",
       "      <td>0</td>\n",
       "      <td>DS_P2P net loan</td>\n",
       "    </tr>\n",
       "    <tr>\n",
       "      <th>2260050</th>\n",
       "      <td>samsung</td>\n",
       "      <td>Galaxy S6 Edge</td>\n",
       "      <td>1884186</td>\n",
       "      <td>Shenzhen</td>\n",
       "      <td>CN</td>\n",
       "      <td>4</td>\n",
       "      <td>9112463114311278255</td>\n",
       "      <td>0</td>\n",
       "      <td>Property Industry 2.0</td>\n",
       "    </tr>\n",
       "    <tr>\n",
       "      <th>892400</th>\n",
       "      <td>xiaomi</td>\n",
       "      <td>红米2A</td>\n",
       "      <td>2490710</td>\n",
       "      <td>Jimo</td>\n",
       "      <td>CN</td>\n",
       "      <td>3</td>\n",
       "      <td>3772328519196493467</td>\n",
       "      <td>0</td>\n",
       "      <td>Services 1</td>\n",
       "    </tr>\n",
       "    <tr>\n",
       "      <th>28284332</th>\n",
       "      <td>Huawei</td>\n",
       "      <td>Ascend P8</td>\n",
       "      <td>2283648</td>\n",
       "      <td>Jinan</td>\n",
       "      <td>CN</td>\n",
       "      <td>6</td>\n",
       "      <td>7499170796297973860</td>\n",
       "      <td>0</td>\n",
       "      <td>Personal Effectiveness</td>\n",
       "    </tr>\n",
       "    <tr>\n",
       "      <th>26790267</th>\n",
       "      <td>Huawei</td>\n",
       "      <td>Ascend P8</td>\n",
       "      <td>2509839</td>\n",
       "      <td>Tongde</td>\n",
       "      <td>CN</td>\n",
       "      <td>1</td>\n",
       "      <td>-8022267440849930066</td>\n",
       "      <td>0</td>\n",
       "      <td>Low profitability</td>\n",
       "    </tr>\n",
       "    <tr>\n",
       "      <th>8212098</th>\n",
       "      <td>Huawei</td>\n",
       "      <td>荣耀畅玩5X</td>\n",
       "      <td>1731074</td>\n",
       "      <td>Yangpu</td>\n",
       "      <td>CN</td>\n",
       "      <td>6</td>\n",
       "      <td>7098329372864993043</td>\n",
       "      <td>0</td>\n",
       "      <td>Internet banking</td>\n",
       "    </tr>\n",
       "    <tr>\n",
       "      <th>7800861</th>\n",
       "      <td>vivo</td>\n",
       "      <td>X5Pro</td>\n",
       "      <td>2874990</td>\n",
       "      <td>Fengcheng</td>\n",
       "      <td>CN</td>\n",
       "      <td>2</td>\n",
       "      <td>-5839858269967688123</td>\n",
       "      <td>0</td>\n",
       "      <td>Internet banking</td>\n",
       "    </tr>\n",
       "    <tr>\n",
       "      <th>15611451</th>\n",
       "      <td>xiaomi</td>\n",
       "      <td>MI 3</td>\n",
       "      <td>1898204</td>\n",
       "      <td>Baizhifang</td>\n",
       "      <td>CN</td>\n",
       "      <td>0</td>\n",
       "      <td>8693964245073640147</td>\n",
       "      <td>1</td>\n",
       "      <td>IM</td>\n",
       "    </tr>\n",
       "    <tr>\n",
       "      <th>23846656</th>\n",
       "      <td>vivo</td>\n",
       "      <td>X5L</td>\n",
       "      <td>1946228</td>\n",
       "      <td>Pingyi</td>\n",
       "      <td>CN</td>\n",
       "      <td>5</td>\n",
       "      <td>7167114343576723123</td>\n",
       "      <td>1</td>\n",
       "      <td>Low risk</td>\n",
       "    </tr>\n",
       "    <tr>\n",
       "      <th>13747767</th>\n",
       "      <td>xiaomi</td>\n",
       "      <td>MI 4</td>\n",
       "      <td>34888</td>\n",
       "      <td>Fuyang</td>\n",
       "      <td>CN</td>\n",
       "      <td>0</td>\n",
       "      <td>-4822828198118893639</td>\n",
       "      <td>0</td>\n",
       "      <td>Property Industry 1.0</td>\n",
       "    </tr>\n",
       "    <tr>\n",
       "      <th>14538889</th>\n",
       "      <td>LG</td>\n",
       "      <td>G3</td>\n",
       "      <td>1299778</td>\n",
       "      <td>Licheng</td>\n",
       "      <td>CN</td>\n",
       "      <td>0</td>\n",
       "      <td>-2466171674487304585</td>\n",
       "      <td>1</td>\n",
       "      <td>Property Industry 1.0</td>\n",
       "    </tr>\n",
       "    <tr>\n",
       "      <th>17276978</th>\n",
       "      <td>vivo</td>\n",
       "      <td>X5SL</td>\n",
       "      <td>325860</td>\n",
       "      <td>Huashan</td>\n",
       "      <td>CN</td>\n",
       "      <td>4</td>\n",
       "      <td>628020936226491308</td>\n",
       "      <td>0</td>\n",
       "      <td>unknown</td>\n",
       "    </tr>\n",
       "    <tr>\n",
       "      <th>26184394</th>\n",
       "      <td>Huawei</td>\n",
       "      <td>荣耀6 plus</td>\n",
       "      <td>1220724</td>\n",
       "      <td>Jiujie</td>\n",
       "      <td>CN</td>\n",
       "      <td>6</td>\n",
       "      <td>661439230943912987</td>\n",
       "      <td>0</td>\n",
       "      <td>P2P</td>\n",
       "    </tr>\n",
       "    <tr>\n",
       "      <th>10488114</th>\n",
       "      <td>Huawei</td>\n",
       "      <td>麦芒3S</td>\n",
       "      <td>3203281</td>\n",
       "      <td>Anning Xilu</td>\n",
       "      <td>CN</td>\n",
       "      <td>4</td>\n",
       "      <td>4348659952760821294</td>\n",
       "      <td>1</td>\n",
       "      <td>Custom label</td>\n",
       "    </tr>\n",
       "    <tr>\n",
       "      <th>9810711</th>\n",
       "      <td>xiaomi</td>\n",
       "      <td>小米note</td>\n",
       "      <td>2969951</td>\n",
       "      <td>Wushan</td>\n",
       "      <td>CN</td>\n",
       "      <td>1</td>\n",
       "      <td>4460014541697490352</td>\n",
       "      <td>0</td>\n",
       "      <td>Finance</td>\n",
       "    </tr>\n",
       "    <tr>\n",
       "      <th>30405378</th>\n",
       "      <td>Huawei</td>\n",
       "      <td>荣耀6</td>\n",
       "      <td>932727</td>\n",
       "      <td>Beijing</td>\n",
       "      <td>CN</td>\n",
       "      <td>4</td>\n",
       "      <td>-6180997085834301388</td>\n",
       "      <td>0</td>\n",
       "      <td>children books</td>\n",
       "    </tr>\n",
       "    <tr>\n",
       "      <th>1823694</th>\n",
       "      <td>Huawei</td>\n",
       "      <td>荣耀6</td>\n",
       "      <td>3241815</td>\n",
       "      <td>Duancun</td>\n",
       "      <td>CN</td>\n",
       "      <td>3</td>\n",
       "      <td>-1633938282180439957</td>\n",
       "      <td>1</td>\n",
       "      <td>Property Industry 2.0</td>\n",
       "    </tr>\n",
       "    <tr>\n",
       "      <th>6185785</th>\n",
       "      <td>贝尔丰</td>\n",
       "      <td>BF T18</td>\n",
       "      <td>2854383</td>\n",
       "      <td>Hexi</td>\n",
       "      <td>CN</td>\n",
       "      <td>4</td>\n",
       "      <td>-4532036554977283654</td>\n",
       "      <td>1</td>\n",
       "      <td>Industry tag</td>\n",
       "    </tr>\n",
       "    <tr>\n",
       "      <th>8946675</th>\n",
       "      <td>Huawei</td>\n",
       "      <td>荣耀6 Plus</td>\n",
       "      <td>2551481</td>\n",
       "      <td>Yutan</td>\n",
       "      <td>CN</td>\n",
       "      <td>5</td>\n",
       "      <td>487766649788038994</td>\n",
       "      <td>1</td>\n",
       "      <td>Low income</td>\n",
       "    </tr>\n",
       "    <tr>\n",
       "      <th>21307072</th>\n",
       "      <td>meizu</td>\n",
       "      <td>MX5</td>\n",
       "      <td>2796257</td>\n",
       "      <td>Haidian</td>\n",
       "      <td>CN</td>\n",
       "      <td>4</td>\n",
       "      <td>-1200607960388315089</td>\n",
       "      <td>0</td>\n",
       "      <td>Wealth Management</td>\n",
       "    </tr>\n",
       "    <tr>\n",
       "      <th>25499700</th>\n",
       "      <td>Huawei</td>\n",
       "      <td>荣耀畅玩4C</td>\n",
       "      <td>1837729</td>\n",
       "      <td>Jishan</td>\n",
       "      <td>CN</td>\n",
       "      <td>5</td>\n",
       "      <td>33792862810792679</td>\n",
       "      <td>1</td>\n",
       "      <td>DS_P2P net loan</td>\n",
       "    </tr>\n",
       "    <tr>\n",
       "      <th>10711602</th>\n",
       "      <td>meizu</td>\n",
       "      <td>魅蓝Note 2</td>\n",
       "      <td>268728</td>\n",
       "      <td>Cangshan</td>\n",
       "      <td>CN</td>\n",
       "      <td>2</td>\n",
       "      <td>5070413844955847732</td>\n",
       "      <td>0</td>\n",
       "      <td>Custom label</td>\n",
       "    </tr>\n",
       "    <tr>\n",
       "      <th>6961707</th>\n",
       "      <td>xiaomi</td>\n",
       "      <td>MI 4</td>\n",
       "      <td>1032876</td>\n",
       "      <td>Dianyang</td>\n",
       "      <td>CN</td>\n",
       "      <td>4</td>\n",
       "      <td>9031785013782341235</td>\n",
       "      <td>0</td>\n",
       "      <td>Industry tag</td>\n",
       "    </tr>\n",
       "    <tr>\n",
       "      <th>29557316</th>\n",
       "      <td>xiaomi</td>\n",
       "      <td>note顶配版</td>\n",
       "      <td>2843124</td>\n",
       "      <td>Dongxiaokou</td>\n",
       "      <td>CN</td>\n",
       "      <td>5</td>\n",
       "      <td>-3864848260969172656</td>\n",
       "      <td>0</td>\n",
       "      <td>stock</td>\n",
       "    </tr>\n",
       "    <tr>\n",
       "      <th>28047373</th>\n",
       "      <td>Huawei</td>\n",
       "      <td>麦芒4</td>\n",
       "      <td>2230423</td>\n",
       "      <td>Gudu</td>\n",
       "      <td>CN</td>\n",
       "      <td>6</td>\n",
       "      <td>7875772580533910613</td>\n",
       "      <td>0</td>\n",
       "      <td>mobile bank</td>\n",
       "    </tr>\n",
       "    <tr>\n",
       "      <th>3674031</th>\n",
       "      <td>samsung</td>\n",
       "      <td>Galaxy Note 4</td>\n",
       "      <td>504499</td>\n",
       "      <td>Sujiatun</td>\n",
       "      <td>CN</td>\n",
       "      <td>4</td>\n",
       "      <td>-5706273681968589839</td>\n",
       "      <td>0</td>\n",
       "      <td>Property Industry 2.0</td>\n",
       "    </tr>\n",
       "    <tr>\n",
       "      <th>18875797</th>\n",
       "      <td>xiaomi</td>\n",
       "      <td>MI 3</td>\n",
       "      <td>2284438</td>\n",
       "      <td>Quanzhou</td>\n",
       "      <td>CN</td>\n",
       "      <td>3</td>\n",
       "      <td>1175071681292443033</td>\n",
       "      <td>0</td>\n",
       "      <td>unknown</td>\n",
       "    </tr>\n",
       "  </tbody>\n",
       "</table>\n",
       "<p>3129278 rows × 9 columns</p>\n",
       "</div>"
      ],
      "text/plain": [
       "         phone_brand    device_model event_id                 city  cc  wkday  \\\n",
       "2607869       Huawei         P8 Lite   902358          Zhongshanlu  CN      5   \n",
       "14141448      Huawei          荣耀畅玩5X    30654               E'zhou  CN      2   \n",
       "30329620      Huawei             荣耀6  3023420              Kunshan  CN      4   \n",
       "9418192         vivo           X710L  2881163               Taohua  CN      0   \n",
       "13942382      Huawei         P8 Lite   596643                 Qufu  CN      3   \n",
       "14328954      Huawei          Mate 7  1750109              Huaqiao  CN      1   \n",
       "17591514      Huawei             荣耀6  1334703               Xixing  CN      5   \n",
       "3659601         OPPO          Find 7   744821                Jinan  CN      4   \n",
       "1486805         vivo            Y23L  2108081                Jinan  CN      3   \n",
       "22395935      xiaomi            MI 4  2578877            Xibeiwang  CN      5   \n",
       "23531225      Huawei             荣耀6  2439953               Linfen  CN      4   \n",
       "7036461       xiaomi            MI 4  2315837               Houjie  CN      1   \n",
       "29270525      Huawei             荣耀6   753962               Renqiu  CN      0   \n",
       "18089341       meizu             MX4  1079724             Jincheng  CN      2   \n",
       "3774067         OPPO              R7  3206924               Zhushi  CN      1   \n",
       "26830041      Huawei        荣耀6 Plus  2325109              Binzhou  CN      3   \n",
       "12392913      Huawei            荣耀3C  2706946                Datun  CN      0   \n",
       "25570317      Huawei        荣耀6 Plus  1630966             Yangzhen  CN      1   \n",
       "30329069      Huawei             荣耀6  1890544               Hutang  CN      0   \n",
       "17206923      Huawei          荣耀畅玩4C   366216                 Xipu  CN      6   \n",
       "2537621       Huawei             荣耀6  3178689              Kunshan  CN      4   \n",
       "22971389      xiaomi            红米1S  2320098               Xinshi  CN      5   \n",
       "17210373      Huawei             荣耀6  1853553        Gongchangling  CN      0   \n",
       "18860670      xiaomi            MI 4  1662152                Huamu  CN      0   \n",
       "6969992         vivo            X6 L  1712925  Jiahe Chengguanzhen  CN      5   \n",
       "23719925     samsung  Galaxy Grand 2   467916              Liuzhou  CN      0   \n",
       "23595383        lshi         超级手机Max   669686       Meiyuan Xincun  CN      5   \n",
       "11123392     samsung   Galaxy Note 2   260607                Anwen  CN      3   \n",
       "1343786        jinli              E7   731974            Changping  CN      2   \n",
       "12283086      Huawei             荣耀6  2440700              Yueyang  CN      2   \n",
       "...              ...             ...      ...                  ...  ..    ...   \n",
       "17191750      Huawei        荣耀6 Plus  1343532              Nanding  CN      0   \n",
       "27596182      xiaomi            红米2A  1875308              Huangbu  CN      2   \n",
       "19247563      Huawei             荣耀6  2102775               Xinhua  CN      5   \n",
       "25499212      Huawei          Mate 7  2284766                Luopu  CN      5   \n",
       "2260050      samsung  Galaxy S6 Edge  1884186             Shenzhen  CN      4   \n",
       "892400        xiaomi            红米2A  2490710                 Jimo  CN      3   \n",
       "28284332      Huawei       Ascend P8  2283648                Jinan  CN      6   \n",
       "26790267      Huawei       Ascend P8  2509839               Tongde  CN      1   \n",
       "8212098       Huawei          荣耀畅玩5X  1731074               Yangpu  CN      6   \n",
       "7800861         vivo           X5Pro  2874990            Fengcheng  CN      2   \n",
       "15611451      xiaomi            MI 3  1898204           Baizhifang  CN      0   \n",
       "23846656        vivo             X5L  1946228               Pingyi  CN      5   \n",
       "13747767      xiaomi            MI 4    34888               Fuyang  CN      0   \n",
       "14538889          LG              G3  1299778              Licheng  CN      0   \n",
       "17276978        vivo            X5SL   325860              Huashan  CN      4   \n",
       "26184394      Huawei        荣耀6 plus  1220724               Jiujie  CN      6   \n",
       "10488114      Huawei            麦芒3S  3203281          Anning Xilu  CN      4   \n",
       "9810711       xiaomi          小米note  2969951               Wushan  CN      1   \n",
       "30405378      Huawei             荣耀6   932727              Beijing  CN      4   \n",
       "1823694       Huawei             荣耀6  3241815              Duancun  CN      3   \n",
       "6185785          贝尔丰          BF T18  2854383                 Hexi  CN      4   \n",
       "8946675       Huawei        荣耀6 Plus  2551481                Yutan  CN      5   \n",
       "21307072       meizu             MX5  2796257              Haidian  CN      4   \n",
       "25499700      Huawei          荣耀畅玩4C  1837729               Jishan  CN      5   \n",
       "10711602       meizu        魅蓝Note 2   268728             Cangshan  CN      2   \n",
       "6961707       xiaomi            MI 4  1032876             Dianyang  CN      4   \n",
       "29557316      xiaomi         note顶配版  2843124          Dongxiaokou  CN      5   \n",
       "28047373      Huawei             麦芒4  2230423                 Gudu  CN      6   \n",
       "3674031      samsung   Galaxy Note 4   504499             Sujiatun  CN      4   \n",
       "18875797      xiaomi            MI 3  2284438             Quanzhou  CN      3   \n",
       "\n",
       "                        app_id  is_active                category  \n",
       "2607869   -6689096779184407258          0   Property Industry 2.0  \n",
       "14141448  -7339430059748502738          0   Property Industry 1.0  \n",
       "30329620   3162589798101133082          0              Car Owners  \n",
       "9418192    2705437723590691734          0                     IMF  \n",
       "13942382  -4119123268883159259          0   Property Industry 1.0  \n",
       "14328954   6379073363595815308          0   Property Industry 1.0  \n",
       "17591514  -5167126913085374292          1                 unknown  \n",
       "3659601    9067865285427638445          0   Property Industry 2.0  \n",
       "1486805    5927333115845830913          1   Property Industry 2.0  \n",
       "22395935   4244331088397413857          0                 fashion  \n",
       "23531225   4348659952760821294          1  Moderate profitability  \n",
       "7036461    5203158459421976765          0            Industry tag  \n",
       "29270525   8557198901083791098          1    convenience services  \n",
       "18089341  -8504475857937456387          1                  1 free  \n",
       "3774067    7059931397706756640          0   Property Industry 2.0  \n",
       "26830041   4825363013642244956          0       Low profitability  \n",
       "12392913   7103165589137134591          1          And the Church  \n",
       "25570317   6058196446775239644          0         DS_P2P net loan  \n",
       "30329069   3162589798101133082          0              Car Owners  \n",
       "17206923  -3955212733485100109          1                 unknown  \n",
       "2537621   -5720078949152207372          0   Property Industry 2.0  \n",
       "22971389   8388878903852543656          0                     Pay  \n",
       "17210373  -3955212733485100109          1                 unknown  \n",
       "18860670   6324194957022958681          0                 unknown  \n",
       "6969992   -9050100410106163077          0            Industry tag  \n",
       "23719925   4348659952760821294          1                Low risk  \n",
       "23595383  -6212537830788600605          0  Moderate profitability  \n",
       "11123392  -7339430059748502738          0            Custom label  \n",
       "1343786   -3875126804472321228          0              Services 1  \n",
       "12283086   2705437723590691734          0          And the Church  \n",
       "...                        ...        ...                     ...  \n",
       "17191750  -3955212733485100109          1                 unknown  \n",
       "27596182  -3507529970483852351          1  Science and Technology  \n",
       "19247563  -8942695423876075857          0         tourism product  \n",
       "25499212     33792862810792679          0         DS_P2P net loan  \n",
       "2260050    9112463114311278255          0   Property Industry 2.0  \n",
       "892400     3772328519196493467          0              Services 1  \n",
       "28284332   7499170796297973860          0  Personal Effectiveness  \n",
       "26790267  -8022267440849930066          0       Low profitability  \n",
       "8212098    7098329372864993043          0        Internet banking  \n",
       "7800861   -5839858269967688123          0        Internet banking  \n",
       "15611451   8693964245073640147          1                      IM  \n",
       "23846656   7167114343576723123          1                Low risk  \n",
       "13747767  -4822828198118893639          0   Property Industry 1.0  \n",
       "14538889  -2466171674487304585          1   Property Industry 1.0  \n",
       "17276978    628020936226491308          0                 unknown  \n",
       "26184394    661439230943912987          0                     P2P  \n",
       "10488114   4348659952760821294          1            Custom label  \n",
       "9810711    4460014541697490352          0                 Finance  \n",
       "30405378  -6180997085834301388          0          children books  \n",
       "1823694   -1633938282180439957          1   Property Industry 2.0  \n",
       "6185785   -4532036554977283654          1            Industry tag  \n",
       "8946675     487766649788038994          1              Low income  \n",
       "21307072  -1200607960388315089          0       Wealth Management  \n",
       "25499700     33792862810792679          1         DS_P2P net loan  \n",
       "10711602   5070413844955847732          0            Custom label  \n",
       "6961707    9031785013782341235          0            Industry tag  \n",
       "29557316  -3864848260969172656          0                   stock  \n",
       "28047373   7875772580533910613          0             mobile bank  \n",
       "3674031   -5706273681968589839          0   Property Industry 2.0  \n",
       "18875797   1175071681292443033          0                 unknown  \n",
       "\n",
       "[3129278 rows x 9 columns]"
      ]
     },
     "execution_count": 53,
     "metadata": {},
     "output_type": "execute_result"
    }
   ],
   "source": [
    "X_test2"
   ]
  },
  {
   "cell_type": "code",
   "execution_count": 43,
   "metadata": {
    "ExecuteTime": {
     "end_time": "2018-05-10T21:23:29.776766Z",
     "start_time": "2018-05-10T21:23:03.679892Z"
    }
   },
   "outputs": [
    {
     "data": {
      "text/plain": [
       "BernoulliNB(alpha=1.0, binarize=0.0, class_prior=None, fit_prior=True)"
      ]
     },
     "execution_count": 43,
     "metadata": {},
     "output_type": "execute_result"
    },
    {
     "ename": "ValueError",
     "evalue": "could not convert string to float: 'unknown'",
     "output_type": "error",
     "traceback": [
      "\u001b[0;31m---------------------------------------------------------------------------\u001b[0m",
      "\u001b[0;31mValueError\u001b[0m                                Traceback (most recent call last)",
      "\u001b[0;32m<ipython-input-43-f1e97bef59bc>\u001b[0m in \u001b[0;36m<module>\u001b[0;34m()\u001b[0m\n\u001b[1;32m      5\u001b[0m \u001b[0mmodel\u001b[0m\u001b[0;34m.\u001b[0m\u001b[0mfit\u001b[0m\u001b[0;34m(\u001b[0m\u001b[0mX_train2\u001b[0m\u001b[0;34m,\u001b[0m \u001b[0my_train2\u001b[0m\u001b[0;34m)\u001b[0m\u001b[0;34m\u001b[0m\u001b[0m\n\u001b[1;32m      6\u001b[0m \u001b[0;34m\u001b[0m\u001b[0m\n\u001b[0;32m----> 7\u001b[0;31m \u001b[0mprint\u001b[0m\u001b[0;34m(\u001b[0m\u001b[0;34m\"Accuracy: %.3f\"\u001b[0m\u001b[0;34m%\u001b[0m \u001b[0maccuracy_score\u001b[0m\u001b[0;34m(\u001b[0m\u001b[0my_test2\u001b[0m\u001b[0;34m,\u001b[0m \u001b[0mmodel\u001b[0m\u001b[0;34m.\u001b[0m\u001b[0mpredict\u001b[0m\u001b[0;34m(\u001b[0m\u001b[0mX_test2\u001b[0m\u001b[0;34m)\u001b[0m\u001b[0;34m)\u001b[0m\u001b[0;34m)\u001b[0m\u001b[0;34m\u001b[0m\u001b[0m\n\u001b[0m\u001b[1;32m      8\u001b[0m \u001b[0mprint\u001b[0m\u001b[0;34m(\u001b[0m\u001b[0mclassification_report\u001b[0m\u001b[0;34m(\u001b[0m\u001b[0my_test2\u001b[0m\u001b[0;34m,\u001b[0m \u001b[0mmodel\u001b[0m\u001b[0;34m.\u001b[0m\u001b[0mpredict\u001b[0m\u001b[0;34m(\u001b[0m\u001b[0mX_test2\u001b[0m\u001b[0;34m)\u001b[0m\u001b[0;34m)\u001b[0m\u001b[0;34m)\u001b[0m\u001b[0;34m\u001b[0m\u001b[0m\n",
      "\u001b[0;32m/anaconda3/lib/python3.6/site-packages/sklearn/naive_bayes.py\u001b[0m in \u001b[0;36mpredict\u001b[0;34m(self, X)\u001b[0m\n\u001b[1;32m     64\u001b[0m             \u001b[0mPredicted\u001b[0m \u001b[0mtarget\u001b[0m \u001b[0mvalues\u001b[0m \u001b[0;32mfor\u001b[0m \u001b[0mX\u001b[0m\u001b[0;34m\u001b[0m\u001b[0m\n\u001b[1;32m     65\u001b[0m         \"\"\"\n\u001b[0;32m---> 66\u001b[0;31m         \u001b[0mjll\u001b[0m \u001b[0;34m=\u001b[0m \u001b[0mself\u001b[0m\u001b[0;34m.\u001b[0m\u001b[0m_joint_log_likelihood\u001b[0m\u001b[0;34m(\u001b[0m\u001b[0mX\u001b[0m\u001b[0;34m)\u001b[0m\u001b[0;34m\u001b[0m\u001b[0m\n\u001b[0m\u001b[1;32m     67\u001b[0m         \u001b[0;32mreturn\u001b[0m \u001b[0mself\u001b[0m\u001b[0;34m.\u001b[0m\u001b[0mclasses_\u001b[0m\u001b[0;34m[\u001b[0m\u001b[0mnp\u001b[0m\u001b[0;34m.\u001b[0m\u001b[0margmax\u001b[0m\u001b[0;34m(\u001b[0m\u001b[0mjll\u001b[0m\u001b[0;34m,\u001b[0m \u001b[0maxis\u001b[0m\u001b[0;34m=\u001b[0m\u001b[0;36m1\u001b[0m\u001b[0;34m)\u001b[0m\u001b[0;34m]\u001b[0m\u001b[0;34m\u001b[0m\u001b[0m\n\u001b[1;32m     68\u001b[0m \u001b[0;34m\u001b[0m\u001b[0m\n",
      "\u001b[0;32m/anaconda3/lib/python3.6/site-packages/sklearn/naive_bayes.py\u001b[0m in \u001b[0;36m_joint_log_likelihood\u001b[0;34m(self, X)\u001b[0m\n\u001b[1;32m    824\u001b[0m         \u001b[0mcheck_is_fitted\u001b[0m\u001b[0;34m(\u001b[0m\u001b[0mself\u001b[0m\u001b[0;34m,\u001b[0m \u001b[0;34m\"classes_\"\u001b[0m\u001b[0;34m)\u001b[0m\u001b[0;34m\u001b[0m\u001b[0m\n\u001b[1;32m    825\u001b[0m \u001b[0;34m\u001b[0m\u001b[0m\n\u001b[0;32m--> 826\u001b[0;31m         \u001b[0mX\u001b[0m \u001b[0;34m=\u001b[0m \u001b[0mcheck_array\u001b[0m\u001b[0;34m(\u001b[0m\u001b[0mX\u001b[0m\u001b[0;34m,\u001b[0m \u001b[0maccept_sparse\u001b[0m\u001b[0;34m=\u001b[0m\u001b[0;34m'csr'\u001b[0m\u001b[0;34m)\u001b[0m\u001b[0;34m\u001b[0m\u001b[0m\n\u001b[0m\u001b[1;32m    827\u001b[0m \u001b[0;34m\u001b[0m\u001b[0m\n\u001b[1;32m    828\u001b[0m         \u001b[0;32mif\u001b[0m \u001b[0mself\u001b[0m\u001b[0;34m.\u001b[0m\u001b[0mbinarize\u001b[0m \u001b[0;32mis\u001b[0m \u001b[0;32mnot\u001b[0m \u001b[0;32mNone\u001b[0m\u001b[0;34m:\u001b[0m\u001b[0;34m\u001b[0m\u001b[0m\n",
      "\u001b[0;32m/anaconda3/lib/python3.6/site-packages/sklearn/utils/validation.py\u001b[0m in \u001b[0;36mcheck_array\u001b[0;34m(array, accept_sparse, dtype, order, copy, force_all_finite, ensure_2d, allow_nd, ensure_min_samples, ensure_min_features, warn_on_dtype, estimator)\u001b[0m\n\u001b[1;32m    446\u001b[0m         \u001b[0;31m# make sure we actually converted to numeric:\u001b[0m\u001b[0;34m\u001b[0m\u001b[0;34m\u001b[0m\u001b[0m\n\u001b[1;32m    447\u001b[0m         \u001b[0;32mif\u001b[0m \u001b[0mdtype_numeric\u001b[0m \u001b[0;32mand\u001b[0m \u001b[0marray\u001b[0m\u001b[0;34m.\u001b[0m\u001b[0mdtype\u001b[0m\u001b[0;34m.\u001b[0m\u001b[0mkind\u001b[0m \u001b[0;34m==\u001b[0m \u001b[0;34m\"O\"\u001b[0m\u001b[0;34m:\u001b[0m\u001b[0;34m\u001b[0m\u001b[0m\n\u001b[0;32m--> 448\u001b[0;31m             \u001b[0marray\u001b[0m \u001b[0;34m=\u001b[0m \u001b[0marray\u001b[0m\u001b[0;34m.\u001b[0m\u001b[0mastype\u001b[0m\u001b[0;34m(\u001b[0m\u001b[0mnp\u001b[0m\u001b[0;34m.\u001b[0m\u001b[0mfloat64\u001b[0m\u001b[0;34m)\u001b[0m\u001b[0;34m\u001b[0m\u001b[0m\n\u001b[0m\u001b[1;32m    449\u001b[0m         \u001b[0;32mif\u001b[0m \u001b[0;32mnot\u001b[0m \u001b[0mallow_nd\u001b[0m \u001b[0;32mand\u001b[0m \u001b[0marray\u001b[0m\u001b[0;34m.\u001b[0m\u001b[0mndim\u001b[0m \u001b[0;34m>=\u001b[0m \u001b[0;36m3\u001b[0m\u001b[0;34m:\u001b[0m\u001b[0;34m\u001b[0m\u001b[0m\n\u001b[1;32m    450\u001b[0m             raise ValueError(\"Found array with dim %d. %s expected <= 2.\"\n",
      "\u001b[0;31mValueError\u001b[0m: could not convert string to float: 'unknown'"
     ]
    }
   ],
   "source": [
    "from sklearn import naive_bayes\n",
    "from sklearn.metrics import accuracy_score, classification_report\n",
    "\n",
    "model = naive_bayes.BernoulliNB()\n",
    "model.fit(X_train2, y_train2)\n",
    "\n",
    "print(\"Accuracy: %.3f\"% accuracy_score(y_test2, model.predict(X_test2)))\n",
    "print(classification_report(y_test2, model.predict(X_test2)))\n"
   ]
  },
  {
   "cell_type": "code",
   "execution_count": 50,
   "metadata": {
    "ExecuteTime": {
     "end_time": "2018-05-09T15:18:20.638255Z",
     "start_time": "2018-05-09T15:12:08.193731Z"
    }
   },
   "outputs": [
    {
     "data": {
      "text/plain": [
       "BernoulliNB(alpha=1.0, binarize=0.0, class_prior=None, fit_prior=True)"
      ]
     },
     "execution_count": 50,
     "metadata": {},
     "output_type": "execute_result"
    },
    {
     "name": "stdout",
     "output_type": "stream",
     "text": [
      "Accuracy: 0.986\n",
      "             precision    recall  f1-score   support\n",
      "\n",
      "          0       0.99      1.00      0.99      3613\n",
      "          1       0.97      1.00      0.99      5745\n",
      "          2       0.97      1.00      0.98      4107\n",
      "          3       0.99      1.00      1.00      9531\n",
      "          4       0.96      0.97      0.96      9827\n",
      "          5       0.96      1.00      0.98      8875\n",
      "          6       0.98      0.97      0.98      1432\n",
      "          7       0.98      0.98      0.98     21780\n",
      "          8       0.95      0.97      0.96     10862\n",
      "          9       0.98      0.98      0.98     32058\n",
      "         10       1.00      0.99      0.99     77520\n",
      "         11       0.99      0.98      0.99     35167\n",
      "\n",
      "avg / total       0.99      0.99      0.99    220517\n",
      "\n"
     ]
    }
   ],
   "source": [
    "from sklearn import naive_bayes\n",
    "from sklearn.metrics import accuracy_score, classification_report\n",
    "\n",
    "model1 = naive_bayes.BernoulliNB()\n",
    "model1.fit(X_train, y_train)\n",
    "\n",
    "print(\"Accuracy: %.3f\"% accuracy_score(y_test2, model1.predict(X_test2)))\n",
    "print(classification_report(y_test2, model1.predict(X_test2)))"
   ]
  },
  {
   "cell_type": "code",
   "execution_count": 55,
   "metadata": {
    "ExecuteTime": {
     "end_time": "2018-05-09T15:23:14.950073Z",
     "start_time": "2018-05-09T15:21:44.993738Z"
    }
   },
   "outputs": [
    {
     "data": {
      "text/plain": [
       "BernoulliNB(alpha=1.0, binarize=0.0, class_prior=None, fit_prior=True)"
      ]
     },
     "execution_count": 55,
     "metadata": {},
     "output_type": "execute_result"
    }
   ],
   "source": [
    "model1 = naive_bayes.BernoulliNB()\n",
    "model1.fit(X_train, y_train)"
   ]
  },
  {
   "cell_type": "markdown",
   "metadata": {
    "heading_collapsed": true
   },
   "source": [
    "## Stochastic Gradient Descent\n",
    "\n",
    "Trying Stochastic Gradient Descent model to see if I can come up with better numbers."
   ]
  },
  {
   "cell_type": "code",
   "execution_count": 56,
   "metadata": {
    "ExecuteTime": {
     "end_time": "2018-05-09T15:25:11.242940Z",
     "start_time": "2018-05-09T15:25:10.878585Z"
    },
    "hidden": true
   },
   "outputs": [],
   "source": [
    "from sklearn.linear_model import SGDClassifier"
   ]
  },
  {
   "cell_type": "code",
   "execution_count": 63,
   "metadata": {
    "ExecuteTime": {
     "end_time": "2018-05-09T16:00:52.505063Z",
     "start_time": "2018-05-09T16:00:52.495703Z"
    },
    "hidden": true
   },
   "outputs": [],
   "source": [
    "sgd = SGDClassifier(loss='hinge',penalty = 'elasticnet', l1_ratio= .8, max_iter = 500, tol = .1)"
   ]
  },
  {
   "cell_type": "code",
   "execution_count": 64,
   "metadata": {
    "ExecuteTime": {
     "end_time": "2018-05-09T16:28:21.155225Z",
     "start_time": "2018-05-09T16:01:01.969854Z"
    },
    "hidden": true
   },
   "outputs": [],
   "source": [
    "#kills kernel\n",
    "sgdmod = sgd.fit(X_train, y_train)"
   ]
  },
  {
   "cell_type": "code",
   "execution_count": 65,
   "metadata": {
    "ExecuteTime": {
     "end_time": "2018-05-09T16:28:53.482743Z",
     "start_time": "2018-05-09T16:28:53.290254Z"
    },
    "hidden": true
   },
   "outputs": [
    {
     "ename": "NameError",
     "evalue": "name 'f1_score' is not defined",
     "output_type": "error",
     "traceback": [
      "\u001b[0;31m---------------------------------------------------------------------------\u001b[0m",
      "\u001b[0;31mNameError\u001b[0m                                 Traceback (most recent call last)",
      "\u001b[0;32m<ipython-input-65-f16b8c010977>\u001b[0m in \u001b[0;36m<module>\u001b[0;34m()\u001b[0m\n\u001b[0;32m----> 1\u001b[0;31m \u001b[0mf1_score\u001b[0m\u001b[0;34m(\u001b[0m\u001b[0my_test\u001b[0m\u001b[0;34m,\u001b[0m \u001b[0msgdmodel\u001b[0m\u001b[0;34m.\u001b[0m\u001b[0mpredict\u001b[0m\u001b[0;34m(\u001b[0m\u001b[0mX_test\u001b[0m\u001b[0;34m)\u001b[0m\u001b[0;34m)\u001b[0m\u001b[0;34m\u001b[0m\u001b[0m\n\u001b[0m",
      "\u001b[0;31mNameError\u001b[0m: name 'f1_score' is not defined"
     ]
    }
   ],
   "source": [
    "f1_score(y_test, sgdmodel.predict(X_test)) "
   ]
  },
  {
   "cell_type": "markdown",
   "metadata": {},
   "source": [
    "## Graphing\n",
    "\n",
    "Creating some graphs to better understand the data."
   ]
  },
  {
   "cell_type": "code",
   "execution_count": null,
   "metadata": {},
   "outputs": [],
   "source": []
  },
  {
   "cell_type": "code",
   "execution_count": 52,
   "metadata": {
    "ExecuteTime": {
     "end_time": "2018-05-09T22:22:20.970212Z",
     "start_time": "2018-05-09T22:22:20.941362Z"
    }
   },
   "outputs": [
    {
     "data": {
      "text/plain": [
       "19"
      ]
     },
     "execution_count": 52,
     "metadata": {},
     "output_type": "execute_result"
    }
   ],
   "source": [
    "len(traindf.phone_brand.unique())"
   ]
  },
  {
   "cell_type": "code",
   "execution_count": 40,
   "metadata": {
    "ExecuteTime": {
     "end_time": "2018-05-09T20:02:25.408223Z",
     "start_time": "2018-05-09T20:02:25.268340Z"
    }
   },
   "outputs": [
    {
     "data": {
      "text/html": [
       "<div>\n",
       "<style scoped>\n",
       "    .dataframe tbody tr th:only-of-type {\n",
       "        vertical-align: middle;\n",
       "    }\n",
       "\n",
       "    .dataframe tbody tr th {\n",
       "        vertical-align: top;\n",
       "    }\n",
       "\n",
       "    .dataframe thead th {\n",
       "        text-align: right;\n",
       "    }\n",
       "</style>\n",
       "<table border=\"1\" class=\"dataframe\">\n",
       "  <thead>\n",
       "    <tr style=\"text-align: right;\">\n",
       "      <th></th>\n",
       "      <th>group</th>\n",
       "      <th>phone_brand</th>\n",
       "      <th>device_model</th>\n",
       "      <th>event_id</th>\n",
       "      <th>city</th>\n",
       "      <th>cc</th>\n",
       "      <th>time_dl</th>\n",
       "      <th>wkday</th>\n",
       "      <th>app_id</th>\n",
       "      <th>is_active</th>\n",
       "      <th>category</th>\n",
       "    </tr>\n",
       "  </thead>\n",
       "  <tbody>\n",
       "    <tr>\n",
       "      <th>2</th>\n",
       "      <td>10</td>\n",
       "      <td>15</td>\n",
       "      <td>83</td>\n",
       "      <td>343</td>\n",
       "      <td>66</td>\n",
       "      <td>1</td>\n",
       "      <td>1643</td>\n",
       "      <td>2</td>\n",
       "      <td>1256</td>\n",
       "      <td>1</td>\n",
       "      <td>151</td>\n",
       "    </tr>\n",
       "    <tr>\n",
       "      <th>3</th>\n",
       "      <td>10</td>\n",
       "      <td>15</td>\n",
       "      <td>83</td>\n",
       "      <td>537</td>\n",
       "      <td>66</td>\n",
       "      <td>1</td>\n",
       "      <td>523</td>\n",
       "      <td>5</td>\n",
       "      <td>1256</td>\n",
       "      <td>0</td>\n",
       "      <td>151</td>\n",
       "    </tr>\n",
       "    <tr>\n",
       "      <th>4</th>\n",
       "      <td>10</td>\n",
       "      <td>15</td>\n",
       "      <td>83</td>\n",
       "      <td>1437</td>\n",
       "      <td>66</td>\n",
       "      <td>1</td>\n",
       "      <td>1402</td>\n",
       "      <td>1</td>\n",
       "      <td>1256</td>\n",
       "      <td>1</td>\n",
       "      <td>151</td>\n",
       "    </tr>\n",
       "    <tr>\n",
       "      <th>222</th>\n",
       "      <td>10</td>\n",
       "      <td>11</td>\n",
       "      <td>13</td>\n",
       "      <td>2831</td>\n",
       "      <td>34</td>\n",
       "      <td>0</td>\n",
       "      <td>414</td>\n",
       "      <td>3</td>\n",
       "      <td>1256</td>\n",
       "      <td>0</td>\n",
       "      <td>151</td>\n",
       "    </tr>\n",
       "    <tr>\n",
       "      <th>223</th>\n",
       "      <td>10</td>\n",
       "      <td>11</td>\n",
       "      <td>13</td>\n",
       "      <td>2670</td>\n",
       "      <td>90</td>\n",
       "      <td>0</td>\n",
       "      <td>2621</td>\n",
       "      <td>0</td>\n",
       "      <td>1256</td>\n",
       "      <td>1</td>\n",
       "      <td>151</td>\n",
       "    </tr>\n",
       "    <tr>\n",
       "      <th>224</th>\n",
       "      <td>10</td>\n",
       "      <td>11</td>\n",
       "      <td>13</td>\n",
       "      <td>2930</td>\n",
       "      <td>90</td>\n",
       "      <td>0</td>\n",
       "      <td>1865</td>\n",
       "      <td>1</td>\n",
       "      <td>1256</td>\n",
       "      <td>1</td>\n",
       "      <td>151</td>\n",
       "    </tr>\n",
       "    <tr>\n",
       "      <th>225</th>\n",
       "      <td>10</td>\n",
       "      <td>11</td>\n",
       "      <td>13</td>\n",
       "      <td>14</td>\n",
       "      <td>90</td>\n",
       "      <td>0</td>\n",
       "      <td>1689</td>\n",
       "      <td>1</td>\n",
       "      <td>1256</td>\n",
       "      <td>1</td>\n",
       "      <td>151</td>\n",
       "    </tr>\n",
       "    <tr>\n",
       "      <th>226</th>\n",
       "      <td>10</td>\n",
       "      <td>11</td>\n",
       "      <td>13</td>\n",
       "      <td>288</td>\n",
       "      <td>90</td>\n",
       "      <td>0</td>\n",
       "      <td>137</td>\n",
       "      <td>2</td>\n",
       "      <td>1256</td>\n",
       "      <td>0</td>\n",
       "      <td>151</td>\n",
       "    </tr>\n",
       "    <tr>\n",
       "      <th>227</th>\n",
       "      <td>10</td>\n",
       "      <td>11</td>\n",
       "      <td>13</td>\n",
       "      <td>689</td>\n",
       "      <td>90</td>\n",
       "      <td>0</td>\n",
       "      <td>2665</td>\n",
       "      <td>6</td>\n",
       "      <td>1256</td>\n",
       "      <td>0</td>\n",
       "      <td>151</td>\n",
       "    </tr>\n",
       "    <tr>\n",
       "      <th>228</th>\n",
       "      <td>10</td>\n",
       "      <td>11</td>\n",
       "      <td>13</td>\n",
       "      <td>1067</td>\n",
       "      <td>88</td>\n",
       "      <td>0</td>\n",
       "      <td>1486</td>\n",
       "      <td>0</td>\n",
       "      <td>1256</td>\n",
       "      <td>0</td>\n",
       "      <td>151</td>\n",
       "    </tr>\n",
       "    <tr>\n",
       "      <th>331</th>\n",
       "      <td>10</td>\n",
       "      <td>10</td>\n",
       "      <td>9</td>\n",
       "      <td>2577</td>\n",
       "      <td>49</td>\n",
       "      <td>1</td>\n",
       "      <td>45</td>\n",
       "      <td>2</td>\n",
       "      <td>1256</td>\n",
       "      <td>0</td>\n",
       "      <td>151</td>\n",
       "    </tr>\n",
       "    <tr>\n",
       "      <th>332</th>\n",
       "      <td>10</td>\n",
       "      <td>10</td>\n",
       "      <td>9</td>\n",
       "      <td>2463</td>\n",
       "      <td>49</td>\n",
       "      <td>1</td>\n",
       "      <td>847</td>\n",
       "      <td>0</td>\n",
       "      <td>1256</td>\n",
       "      <td>0</td>\n",
       "      <td>151</td>\n",
       "    </tr>\n",
       "    <tr>\n",
       "      <th>333</th>\n",
       "      <td>10</td>\n",
       "      <td>10</td>\n",
       "      <td>9</td>\n",
       "      <td>2838</td>\n",
       "      <td>49</td>\n",
       "      <td>1</td>\n",
       "      <td>538</td>\n",
       "      <td>6</td>\n",
       "      <td>1256</td>\n",
       "      <td>0</td>\n",
       "      <td>151</td>\n",
       "    </tr>\n",
       "    <tr>\n",
       "      <th>334</th>\n",
       "      <td>10</td>\n",
       "      <td>10</td>\n",
       "      <td>9</td>\n",
       "      <td>302</td>\n",
       "      <td>49</td>\n",
       "      <td>1</td>\n",
       "      <td>547</td>\n",
       "      <td>3</td>\n",
       "      <td>1256</td>\n",
       "      <td>0</td>\n",
       "      <td>151</td>\n",
       "    </tr>\n",
       "    <tr>\n",
       "      <th>335</th>\n",
       "      <td>10</td>\n",
       "      <td>10</td>\n",
       "      <td>9</td>\n",
       "      <td>460</td>\n",
       "      <td>66</td>\n",
       "      <td>1</td>\n",
       "      <td>848</td>\n",
       "      <td>5</td>\n",
       "      <td>1256</td>\n",
       "      <td>0</td>\n",
       "      <td>151</td>\n",
       "    </tr>\n",
       "    <tr>\n",
       "      <th>336</th>\n",
       "      <td>10</td>\n",
       "      <td>10</td>\n",
       "      <td>9</td>\n",
       "      <td>1659</td>\n",
       "      <td>49</td>\n",
       "      <td>1</td>\n",
       "      <td>1979</td>\n",
       "      <td>0</td>\n",
       "      <td>1256</td>\n",
       "      <td>0</td>\n",
       "      <td>151</td>\n",
       "    </tr>\n",
       "    <tr>\n",
       "      <th>337</th>\n",
       "      <td>10</td>\n",
       "      <td>10</td>\n",
       "      <td>9</td>\n",
       "      <td>1821</td>\n",
       "      <td>66</td>\n",
       "      <td>1</td>\n",
       "      <td>750</td>\n",
       "      <td>0</td>\n",
       "      <td>1256</td>\n",
       "      <td>0</td>\n",
       "      <td>151</td>\n",
       "    </tr>\n",
       "    <tr>\n",
       "      <th>338</th>\n",
       "      <td>10</td>\n",
       "      <td>10</td>\n",
       "      <td>9</td>\n",
       "      <td>1850</td>\n",
       "      <td>49</td>\n",
       "      <td>1</td>\n",
       "      <td>1029</td>\n",
       "      <td>0</td>\n",
       "      <td>1256</td>\n",
       "      <td>0</td>\n",
       "      <td>151</td>\n",
       "    </tr>\n",
       "    <tr>\n",
       "      <th>339</th>\n",
       "      <td>10</td>\n",
       "      <td>10</td>\n",
       "      <td>9</td>\n",
       "      <td>2387</td>\n",
       "      <td>49</td>\n",
       "      <td>1</td>\n",
       "      <td>2827</td>\n",
       "      <td>5</td>\n",
       "      <td>1256</td>\n",
       "      <td>0</td>\n",
       "      <td>151</td>\n",
       "    </tr>\n",
       "    <tr>\n",
       "      <th>340</th>\n",
       "      <td>10</td>\n",
       "      <td>10</td>\n",
       "      <td>9</td>\n",
       "      <td>2444</td>\n",
       "      <td>49</td>\n",
       "      <td>1</td>\n",
       "      <td>601</td>\n",
       "      <td>6</td>\n",
       "      <td>1256</td>\n",
       "      <td>0</td>\n",
       "      <td>151</td>\n",
       "    </tr>\n",
       "    <tr>\n",
       "      <th>341</th>\n",
       "      <td>10</td>\n",
       "      <td>10</td>\n",
       "      <td>9</td>\n",
       "      <td>2525</td>\n",
       "      <td>49</td>\n",
       "      <td>1</td>\n",
       "      <td>537</td>\n",
       "      <td>4</td>\n",
       "      <td>1256</td>\n",
       "      <td>0</td>\n",
       "      <td>151</td>\n",
       "    </tr>\n",
       "    <tr>\n",
       "      <th>342</th>\n",
       "      <td>10</td>\n",
       "      <td>10</td>\n",
       "      <td>9</td>\n",
       "      <td>2533</td>\n",
       "      <td>49</td>\n",
       "      <td>1</td>\n",
       "      <td>1553</td>\n",
       "      <td>0</td>\n",
       "      <td>1256</td>\n",
       "      <td>0</td>\n",
       "      <td>151</td>\n",
       "    </tr>\n",
       "    <tr>\n",
       "      <th>343</th>\n",
       "      <td>10</td>\n",
       "      <td>10</td>\n",
       "      <td>9</td>\n",
       "      <td>2646</td>\n",
       "      <td>49</td>\n",
       "      <td>1</td>\n",
       "      <td>483</td>\n",
       "      <td>6</td>\n",
       "      <td>1256</td>\n",
       "      <td>0</td>\n",
       "      <td>151</td>\n",
       "    </tr>\n",
       "    <tr>\n",
       "      <th>344</th>\n",
       "      <td>10</td>\n",
       "      <td>10</td>\n",
       "      <td>9</td>\n",
       "      <td>2664</td>\n",
       "      <td>49</td>\n",
       "      <td>1</td>\n",
       "      <td>2364</td>\n",
       "      <td>6</td>\n",
       "      <td>1256</td>\n",
       "      <td>0</td>\n",
       "      <td>151</td>\n",
       "    </tr>\n",
       "    <tr>\n",
       "      <th>345</th>\n",
       "      <td>10</td>\n",
       "      <td>10</td>\n",
       "      <td>9</td>\n",
       "      <td>2679</td>\n",
       "      <td>66</td>\n",
       "      <td>1</td>\n",
       "      <td>3008</td>\n",
       "      <td>1</td>\n",
       "      <td>1256</td>\n",
       "      <td>0</td>\n",
       "      <td>151</td>\n",
       "    </tr>\n",
       "    <tr>\n",
       "      <th>346</th>\n",
       "      <td>10</td>\n",
       "      <td>10</td>\n",
       "      <td>9</td>\n",
       "      <td>2854</td>\n",
       "      <td>49</td>\n",
       "      <td>1</td>\n",
       "      <td>2521</td>\n",
       "      <td>6</td>\n",
       "      <td>1256</td>\n",
       "      <td>0</td>\n",
       "      <td>151</td>\n",
       "    </tr>\n",
       "    <tr>\n",
       "      <th>347</th>\n",
       "      <td>10</td>\n",
       "      <td>10</td>\n",
       "      <td>9</td>\n",
       "      <td>2975</td>\n",
       "      <td>49</td>\n",
       "      <td>1</td>\n",
       "      <td>119</td>\n",
       "      <td>6</td>\n",
       "      <td>1256</td>\n",
       "      <td>0</td>\n",
       "      <td>151</td>\n",
       "    </tr>\n",
       "    <tr>\n",
       "      <th>348</th>\n",
       "      <td>10</td>\n",
       "      <td>10</td>\n",
       "      <td>9</td>\n",
       "      <td>3033</td>\n",
       "      <td>66</td>\n",
       "      <td>1</td>\n",
       "      <td>2109</td>\n",
       "      <td>2</td>\n",
       "      <td>1256</td>\n",
       "      <td>0</td>\n",
       "      <td>151</td>\n",
       "    </tr>\n",
       "    <tr>\n",
       "      <th>349</th>\n",
       "      <td>10</td>\n",
       "      <td>10</td>\n",
       "      <td>9</td>\n",
       "      <td>3053</td>\n",
       "      <td>49</td>\n",
       "      <td>1</td>\n",
       "      <td>810</td>\n",
       "      <td>2</td>\n",
       "      <td>1256</td>\n",
       "      <td>0</td>\n",
       "      <td>151</td>\n",
       "    </tr>\n",
       "    <tr>\n",
       "      <th>350</th>\n",
       "      <td>10</td>\n",
       "      <td>10</td>\n",
       "      <td>9</td>\n",
       "      <td>3071</td>\n",
       "      <td>49</td>\n",
       "      <td>1</td>\n",
       "      <td>122</td>\n",
       "      <td>6</td>\n",
       "      <td>1256</td>\n",
       "      <td>0</td>\n",
       "      <td>151</td>\n",
       "    </tr>\n",
       "    <tr>\n",
       "      <th>...</th>\n",
       "      <td>...</td>\n",
       "      <td>...</td>\n",
       "      <td>...</td>\n",
       "      <td>...</td>\n",
       "      <td>...</td>\n",
       "      <td>...</td>\n",
       "      <td>...</td>\n",
       "      <td>...</td>\n",
       "      <td>...</td>\n",
       "      <td>...</td>\n",
       "      <td>...</td>\n",
       "    </tr>\n",
       "    <tr>\n",
       "      <th>440917</th>\n",
       "      <td>10</td>\n",
       "      <td>15</td>\n",
       "      <td>27</td>\n",
       "      <td>852</td>\n",
       "      <td>66</td>\n",
       "      <td>1</td>\n",
       "      <td>885</td>\n",
       "      <td>1</td>\n",
       "      <td>630</td>\n",
       "      <td>0</td>\n",
       "      <td>48</td>\n",
       "    </tr>\n",
       "    <tr>\n",
       "      <th>440918</th>\n",
       "      <td>10</td>\n",
       "      <td>15</td>\n",
       "      <td>27</td>\n",
       "      <td>958</td>\n",
       "      <td>14</td>\n",
       "      <td>0</td>\n",
       "      <td>1491</td>\n",
       "      <td>2</td>\n",
       "      <td>630</td>\n",
       "      <td>0</td>\n",
       "      <td>48</td>\n",
       "    </tr>\n",
       "    <tr>\n",
       "      <th>440919</th>\n",
       "      <td>10</td>\n",
       "      <td>15</td>\n",
       "      <td>27</td>\n",
       "      <td>1165</td>\n",
       "      <td>61</td>\n",
       "      <td>0</td>\n",
       "      <td>2675</td>\n",
       "      <td>6</td>\n",
       "      <td>630</td>\n",
       "      <td>0</td>\n",
       "      <td>48</td>\n",
       "    </tr>\n",
       "    <tr>\n",
       "      <th>440920</th>\n",
       "      <td>10</td>\n",
       "      <td>15</td>\n",
       "      <td>27</td>\n",
       "      <td>1386</td>\n",
       "      <td>66</td>\n",
       "      <td>1</td>\n",
       "      <td>17</td>\n",
       "      <td>4</td>\n",
       "      <td>630</td>\n",
       "      <td>0</td>\n",
       "      <td>48</td>\n",
       "    </tr>\n",
       "    <tr>\n",
       "      <th>440921</th>\n",
       "      <td>10</td>\n",
       "      <td>15</td>\n",
       "      <td>27</td>\n",
       "      <td>1685</td>\n",
       "      <td>61</td>\n",
       "      <td>0</td>\n",
       "      <td>2663</td>\n",
       "      <td>6</td>\n",
       "      <td>630</td>\n",
       "      <td>0</td>\n",
       "      <td>48</td>\n",
       "    </tr>\n",
       "    <tr>\n",
       "      <th>440922</th>\n",
       "      <td>10</td>\n",
       "      <td>15</td>\n",
       "      <td>27</td>\n",
       "      <td>2104</td>\n",
       "      <td>61</td>\n",
       "      <td>0</td>\n",
       "      <td>597</td>\n",
       "      <td>6</td>\n",
       "      <td>630</td>\n",
       "      <td>0</td>\n",
       "      <td>48</td>\n",
       "    </tr>\n",
       "    <tr>\n",
       "      <th>440923</th>\n",
       "      <td>10</td>\n",
       "      <td>15</td>\n",
       "      <td>27</td>\n",
       "      <td>2174</td>\n",
       "      <td>14</td>\n",
       "      <td>0</td>\n",
       "      <td>117</td>\n",
       "      <td>4</td>\n",
       "      <td>630</td>\n",
       "      <td>0</td>\n",
       "      <td>48</td>\n",
       "    </tr>\n",
       "    <tr>\n",
       "      <th>440924</th>\n",
       "      <td>10</td>\n",
       "      <td>15</td>\n",
       "      <td>27</td>\n",
       "      <td>2375</td>\n",
       "      <td>66</td>\n",
       "      <td>1</td>\n",
       "      <td>696</td>\n",
       "      <td>1</td>\n",
       "      <td>630</td>\n",
       "      <td>0</td>\n",
       "      <td>48</td>\n",
       "    </tr>\n",
       "    <tr>\n",
       "      <th>440925</th>\n",
       "      <td>10</td>\n",
       "      <td>15</td>\n",
       "      <td>27</td>\n",
       "      <td>2464</td>\n",
       "      <td>61</td>\n",
       "      <td>0</td>\n",
       "      <td>469</td>\n",
       "      <td>0</td>\n",
       "      <td>917</td>\n",
       "      <td>0</td>\n",
       "      <td>63</td>\n",
       "    </tr>\n",
       "    <tr>\n",
       "      <th>440926</th>\n",
       "      <td>10</td>\n",
       "      <td>15</td>\n",
       "      <td>27</td>\n",
       "      <td>3009</td>\n",
       "      <td>66</td>\n",
       "      <td>1</td>\n",
       "      <td>878</td>\n",
       "      <td>3</td>\n",
       "      <td>917</td>\n",
       "      <td>0</td>\n",
       "      <td>63</td>\n",
       "    </tr>\n",
       "    <tr>\n",
       "      <th>440927</th>\n",
       "      <td>10</td>\n",
       "      <td>15</td>\n",
       "      <td>27</td>\n",
       "      <td>1847</td>\n",
       "      <td>66</td>\n",
       "      <td>1</td>\n",
       "      <td>797</td>\n",
       "      <td>5</td>\n",
       "      <td>917</td>\n",
       "      <td>0</td>\n",
       "      <td>63</td>\n",
       "    </tr>\n",
       "    <tr>\n",
       "      <th>440928</th>\n",
       "      <td>10</td>\n",
       "      <td>15</td>\n",
       "      <td>27</td>\n",
       "      <td>2148</td>\n",
       "      <td>66</td>\n",
       "      <td>1</td>\n",
       "      <td>998</td>\n",
       "      <td>2</td>\n",
       "      <td>917</td>\n",
       "      <td>0</td>\n",
       "      <td>63</td>\n",
       "    </tr>\n",
       "    <tr>\n",
       "      <th>440929</th>\n",
       "      <td>10</td>\n",
       "      <td>15</td>\n",
       "      <td>27</td>\n",
       "      <td>2445</td>\n",
       "      <td>61</td>\n",
       "      <td>0</td>\n",
       "      <td>543</td>\n",
       "      <td>5</td>\n",
       "      <td>917</td>\n",
       "      <td>0</td>\n",
       "      <td>63</td>\n",
       "    </tr>\n",
       "    <tr>\n",
       "      <th>440930</th>\n",
       "      <td>10</td>\n",
       "      <td>15</td>\n",
       "      <td>27</td>\n",
       "      <td>2572</td>\n",
       "      <td>66</td>\n",
       "      <td>1</td>\n",
       "      <td>1226</td>\n",
       "      <td>6</td>\n",
       "      <td>917</td>\n",
       "      <td>0</td>\n",
       "      <td>63</td>\n",
       "    </tr>\n",
       "    <tr>\n",
       "      <th>440931</th>\n",
       "      <td>10</td>\n",
       "      <td>15</td>\n",
       "      <td>27</td>\n",
       "      <td>2787</td>\n",
       "      <td>66</td>\n",
       "      <td>1</td>\n",
       "      <td>2742</td>\n",
       "      <td>5</td>\n",
       "      <td>917</td>\n",
       "      <td>0</td>\n",
       "      <td>63</td>\n",
       "    </tr>\n",
       "    <tr>\n",
       "      <th>440932</th>\n",
       "      <td>10</td>\n",
       "      <td>15</td>\n",
       "      <td>27</td>\n",
       "      <td>151</td>\n",
       "      <td>14</td>\n",
       "      <td>0</td>\n",
       "      <td>31</td>\n",
       "      <td>3</td>\n",
       "      <td>917</td>\n",
       "      <td>0</td>\n",
       "      <td>63</td>\n",
       "    </tr>\n",
       "    <tr>\n",
       "      <th>440933</th>\n",
       "      <td>10</td>\n",
       "      <td>15</td>\n",
       "      <td>27</td>\n",
       "      <td>468</td>\n",
       "      <td>66</td>\n",
       "      <td>1</td>\n",
       "      <td>2638</td>\n",
       "      <td>2</td>\n",
       "      <td>917</td>\n",
       "      <td>0</td>\n",
       "      <td>63</td>\n",
       "    </tr>\n",
       "    <tr>\n",
       "      <th>440934</th>\n",
       "      <td>10</td>\n",
       "      <td>15</td>\n",
       "      <td>27</td>\n",
       "      <td>515</td>\n",
       "      <td>14</td>\n",
       "      <td>0</td>\n",
       "      <td>688</td>\n",
       "      <td>1</td>\n",
       "      <td>917</td>\n",
       "      <td>0</td>\n",
       "      <td>63</td>\n",
       "    </tr>\n",
       "    <tr>\n",
       "      <th>440935</th>\n",
       "      <td>10</td>\n",
       "      <td>15</td>\n",
       "      <td>27</td>\n",
       "      <td>799</td>\n",
       "      <td>61</td>\n",
       "      <td>0</td>\n",
       "      <td>1632</td>\n",
       "      <td>0</td>\n",
       "      <td>917</td>\n",
       "      <td>0</td>\n",
       "      <td>63</td>\n",
       "    </tr>\n",
       "    <tr>\n",
       "      <th>440936</th>\n",
       "      <td>10</td>\n",
       "      <td>15</td>\n",
       "      <td>27</td>\n",
       "      <td>852</td>\n",
       "      <td>66</td>\n",
       "      <td>1</td>\n",
       "      <td>885</td>\n",
       "      <td>1</td>\n",
       "      <td>917</td>\n",
       "      <td>0</td>\n",
       "      <td>63</td>\n",
       "    </tr>\n",
       "    <tr>\n",
       "      <th>440937</th>\n",
       "      <td>10</td>\n",
       "      <td>15</td>\n",
       "      <td>27</td>\n",
       "      <td>958</td>\n",
       "      <td>14</td>\n",
       "      <td>0</td>\n",
       "      <td>1491</td>\n",
       "      <td>2</td>\n",
       "      <td>917</td>\n",
       "      <td>0</td>\n",
       "      <td>63</td>\n",
       "    </tr>\n",
       "    <tr>\n",
       "      <th>440938</th>\n",
       "      <td>10</td>\n",
       "      <td>15</td>\n",
       "      <td>27</td>\n",
       "      <td>1165</td>\n",
       "      <td>61</td>\n",
       "      <td>0</td>\n",
       "      <td>2675</td>\n",
       "      <td>6</td>\n",
       "      <td>917</td>\n",
       "      <td>0</td>\n",
       "      <td>63</td>\n",
       "    </tr>\n",
       "    <tr>\n",
       "      <th>440939</th>\n",
       "      <td>10</td>\n",
       "      <td>15</td>\n",
       "      <td>27</td>\n",
       "      <td>1386</td>\n",
       "      <td>66</td>\n",
       "      <td>1</td>\n",
       "      <td>17</td>\n",
       "      <td>4</td>\n",
       "      <td>917</td>\n",
       "      <td>0</td>\n",
       "      <td>63</td>\n",
       "    </tr>\n",
       "    <tr>\n",
       "      <th>440940</th>\n",
       "      <td>10</td>\n",
       "      <td>15</td>\n",
       "      <td>27</td>\n",
       "      <td>1685</td>\n",
       "      <td>61</td>\n",
       "      <td>0</td>\n",
       "      <td>2663</td>\n",
       "      <td>6</td>\n",
       "      <td>917</td>\n",
       "      <td>0</td>\n",
       "      <td>63</td>\n",
       "    </tr>\n",
       "    <tr>\n",
       "      <th>440941</th>\n",
       "      <td>10</td>\n",
       "      <td>15</td>\n",
       "      <td>27</td>\n",
       "      <td>2104</td>\n",
       "      <td>61</td>\n",
       "      <td>0</td>\n",
       "      <td>597</td>\n",
       "      <td>6</td>\n",
       "      <td>917</td>\n",
       "      <td>0</td>\n",
       "      <td>63</td>\n",
       "    </tr>\n",
       "    <tr>\n",
       "      <th>440942</th>\n",
       "      <td>10</td>\n",
       "      <td>15</td>\n",
       "      <td>27</td>\n",
       "      <td>2174</td>\n",
       "      <td>14</td>\n",
       "      <td>0</td>\n",
       "      <td>117</td>\n",
       "      <td>4</td>\n",
       "      <td>917</td>\n",
       "      <td>0</td>\n",
       "      <td>63</td>\n",
       "    </tr>\n",
       "    <tr>\n",
       "      <th>440943</th>\n",
       "      <td>10</td>\n",
       "      <td>15</td>\n",
       "      <td>27</td>\n",
       "      <td>2375</td>\n",
       "      <td>66</td>\n",
       "      <td>1</td>\n",
       "      <td>696</td>\n",
       "      <td>1</td>\n",
       "      <td>917</td>\n",
       "      <td>0</td>\n",
       "      <td>63</td>\n",
       "    </tr>\n",
       "    <tr>\n",
       "      <th>440950</th>\n",
       "      <td>10</td>\n",
       "      <td>1</td>\n",
       "      <td>52</td>\n",
       "      <td>1179</td>\n",
       "      <td>3</td>\n",
       "      <td>0</td>\n",
       "      <td>466</td>\n",
       "      <td>6</td>\n",
       "      <td>1520</td>\n",
       "      <td>1</td>\n",
       "      <td>114</td>\n",
       "    </tr>\n",
       "    <tr>\n",
       "      <th>440951</th>\n",
       "      <td>10</td>\n",
       "      <td>1</td>\n",
       "      <td>52</td>\n",
       "      <td>1944</td>\n",
       "      <td>66</td>\n",
       "      <td>1</td>\n",
       "      <td>2516</td>\n",
       "      <td>6</td>\n",
       "      <td>1520</td>\n",
       "      <td>1</td>\n",
       "      <td>114</td>\n",
       "    </tr>\n",
       "    <tr>\n",
       "      <th>440952</th>\n",
       "      <td>10</td>\n",
       "      <td>1</td>\n",
       "      <td>52</td>\n",
       "      <td>1994</td>\n",
       "      <td>66</td>\n",
       "      <td>1</td>\n",
       "      <td>2506</td>\n",
       "      <td>6</td>\n",
       "      <td>1520</td>\n",
       "      <td>1</td>\n",
       "      <td>114</td>\n",
       "    </tr>\n",
       "  </tbody>\n",
       "</table>\n",
       "<p>154950 rows × 11 columns</p>\n",
       "</div>"
      ],
      "text/plain": [
       "        group  phone_brand  device_model  event_id  city  cc  time_dl  wkday  \\\n",
       "2          10           15            83       343    66   1     1643      2   \n",
       "3          10           15            83       537    66   1      523      5   \n",
       "4          10           15            83      1437    66   1     1402      1   \n",
       "222        10           11            13      2831    34   0      414      3   \n",
       "223        10           11            13      2670    90   0     2621      0   \n",
       "224        10           11            13      2930    90   0     1865      1   \n",
       "225        10           11            13        14    90   0     1689      1   \n",
       "226        10           11            13       288    90   0      137      2   \n",
       "227        10           11            13       689    90   0     2665      6   \n",
       "228        10           11            13      1067    88   0     1486      0   \n",
       "331        10           10             9      2577    49   1       45      2   \n",
       "332        10           10             9      2463    49   1      847      0   \n",
       "333        10           10             9      2838    49   1      538      6   \n",
       "334        10           10             9       302    49   1      547      3   \n",
       "335        10           10             9       460    66   1      848      5   \n",
       "336        10           10             9      1659    49   1     1979      0   \n",
       "337        10           10             9      1821    66   1      750      0   \n",
       "338        10           10             9      1850    49   1     1029      0   \n",
       "339        10           10             9      2387    49   1     2827      5   \n",
       "340        10           10             9      2444    49   1      601      6   \n",
       "341        10           10             9      2525    49   1      537      4   \n",
       "342        10           10             9      2533    49   1     1553      0   \n",
       "343        10           10             9      2646    49   1      483      6   \n",
       "344        10           10             9      2664    49   1     2364      6   \n",
       "345        10           10             9      2679    66   1     3008      1   \n",
       "346        10           10             9      2854    49   1     2521      6   \n",
       "347        10           10             9      2975    49   1      119      6   \n",
       "348        10           10             9      3033    66   1     2109      2   \n",
       "349        10           10             9      3053    49   1      810      2   \n",
       "350        10           10             9      3071    49   1      122      6   \n",
       "...       ...          ...           ...       ...   ...  ..      ...    ...   \n",
       "440917     10           15            27       852    66   1      885      1   \n",
       "440918     10           15            27       958    14   0     1491      2   \n",
       "440919     10           15            27      1165    61   0     2675      6   \n",
       "440920     10           15            27      1386    66   1       17      4   \n",
       "440921     10           15            27      1685    61   0     2663      6   \n",
       "440922     10           15            27      2104    61   0      597      6   \n",
       "440923     10           15            27      2174    14   0      117      4   \n",
       "440924     10           15            27      2375    66   1      696      1   \n",
       "440925     10           15            27      2464    61   0      469      0   \n",
       "440926     10           15            27      3009    66   1      878      3   \n",
       "440927     10           15            27      1847    66   1      797      5   \n",
       "440928     10           15            27      2148    66   1      998      2   \n",
       "440929     10           15            27      2445    61   0      543      5   \n",
       "440930     10           15            27      2572    66   1     1226      6   \n",
       "440931     10           15            27      2787    66   1     2742      5   \n",
       "440932     10           15            27       151    14   0       31      3   \n",
       "440933     10           15            27       468    66   1     2638      2   \n",
       "440934     10           15            27       515    14   0      688      1   \n",
       "440935     10           15            27       799    61   0     1632      0   \n",
       "440936     10           15            27       852    66   1      885      1   \n",
       "440937     10           15            27       958    14   0     1491      2   \n",
       "440938     10           15            27      1165    61   0     2675      6   \n",
       "440939     10           15            27      1386    66   1       17      4   \n",
       "440940     10           15            27      1685    61   0     2663      6   \n",
       "440941     10           15            27      2104    61   0      597      6   \n",
       "440942     10           15            27      2174    14   0      117      4   \n",
       "440943     10           15            27      2375    66   1      696      1   \n",
       "440950     10            1            52      1179     3   0      466      6   \n",
       "440951     10            1            52      1944    66   1     2516      6   \n",
       "440952     10            1            52      1994    66   1     2506      6   \n",
       "\n",
       "        app_id  is_active  category  \n",
       "2         1256          1       151  \n",
       "3         1256          0       151  \n",
       "4         1256          1       151  \n",
       "222       1256          0       151  \n",
       "223       1256          1       151  \n",
       "224       1256          1       151  \n",
       "225       1256          1       151  \n",
       "226       1256          0       151  \n",
       "227       1256          0       151  \n",
       "228       1256          0       151  \n",
       "331       1256          0       151  \n",
       "332       1256          0       151  \n",
       "333       1256          0       151  \n",
       "334       1256          0       151  \n",
       "335       1256          0       151  \n",
       "336       1256          0       151  \n",
       "337       1256          0       151  \n",
       "338       1256          0       151  \n",
       "339       1256          0       151  \n",
       "340       1256          0       151  \n",
       "341       1256          0       151  \n",
       "342       1256          0       151  \n",
       "343       1256          0       151  \n",
       "344       1256          0       151  \n",
       "345       1256          0       151  \n",
       "346       1256          0       151  \n",
       "347       1256          0       151  \n",
       "348       1256          0       151  \n",
       "349       1256          0       151  \n",
       "350       1256          0       151  \n",
       "...        ...        ...       ...  \n",
       "440917     630          0        48  \n",
       "440918     630          0        48  \n",
       "440919     630          0        48  \n",
       "440920     630          0        48  \n",
       "440921     630          0        48  \n",
       "440922     630          0        48  \n",
       "440923     630          0        48  \n",
       "440924     630          0        48  \n",
       "440925     917          0        63  \n",
       "440926     917          0        63  \n",
       "440927     917          0        63  \n",
       "440928     917          0        63  \n",
       "440929     917          0        63  \n",
       "440930     917          0        63  \n",
       "440931     917          0        63  \n",
       "440932     917          0        63  \n",
       "440933     917          0        63  \n",
       "440934     917          0        63  \n",
       "440935     917          0        63  \n",
       "440936     917          0        63  \n",
       "440937     917          0        63  \n",
       "440938     917          0        63  \n",
       "440939     917          0        63  \n",
       "440940     917          0        63  \n",
       "440941     917          0        63  \n",
       "440942     917          0        63  \n",
       "440943     917          0        63  \n",
       "440950    1520          1       114  \n",
       "440951    1520          1       114  \n",
       "440952    1520          1       114  \n",
       "\n",
       "[154950 rows x 11 columns]"
      ]
     },
     "execution_count": 40,
     "metadata": {},
     "output_type": "execute_result"
    }
   ],
   "source": [
    "traindf[traindf['group'] ==10]\n",
    "groupnum = []\n",
    "countnum = []\n",
    "for i in traindf.group.unique():\n",
    "    groupnum.append(i)\n",
    "    for j in traindf.phone_brand.unique():\n",
    "        "
   ]
  },
  {
   "cell_type": "markdown",
   "metadata": {},
   "source": []
  }
 ],
 "metadata": {
  "kernelspec": {
   "display_name": "Python 3",
   "language": "python",
   "name": "python3"
  },
  "language_info": {
   "codemirror_mode": {
    "name": "ipython",
    "version": 3
   },
   "file_extension": ".py",
   "mimetype": "text/x-python",
   "name": "python",
   "nbconvert_exporter": "python",
   "pygments_lexer": "ipython3",
   "version": "3.6.4"
  }
 },
 "nbformat": 4,
 "nbformat_minor": 2
}
