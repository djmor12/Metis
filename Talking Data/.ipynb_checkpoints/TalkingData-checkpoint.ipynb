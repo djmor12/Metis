{
 "cells": [
  {
   "cell_type": "markdown",
   "metadata": {},
   "source": [
    "# Talking Data\n",
    "\n",
    "The purpose of this project is to use mobile user data to predict the age group of the user.  The age groups are split betweeen either female or male, then from below 23,to above 43.  Here is what it looks for females: F23-, F24-26, F27-28, F29-32, F33-42, F43+. \n",
    "\n",
    "The data is from the Chinese company TalkingData. There are several data sets, each a unique csv: gender_age_train, gender_age_test, events, app_events, app_labels, label_categories and phone_brand_device_model.  "
   ]
  },
  {
   "cell_type": "code",
   "execution_count": 92,
   "metadata": {
    "ExecuteTime": {
     "end_time": "2018-05-09T23:07:41.692277Z",
     "start_time": "2018-05-09T23:07:41.650573Z"
    }
   },
   "outputs": [],
   "source": [
    "#Importing the packages needed for this analysis\n",
    "from pygeocoder import Geocoder\n",
    "import pandas as pd\n",
    "import io\n",
    "import numpy as np\n",
    "import seaborn as sns\n",
    "from sklearn.metrics import log_loss\n",
    "import pickle\n",
    "import math\n",
    "import re\n",
    "import reverse_geocoder as rg\n",
    "from datetime import *\n",
    "from scipy import stats\n",
    "import dateutil.parser\n",
    "from IPython.display import display\n",
    "from sklearn import preprocessing\n",
    "from googletrans import Translator\n",
    "import matplotlib.pyplot as plt\n",
    "from sklearn.model_selection import cross_val_score\n",
    "from IPython.core.interactiveshell import InteractiveShell\n",
    "import goslate\n",
    "InteractiveShell.ast_node_interactivity = \"all\"\n",
    "%matplotlib inline\n",
    "%config InlineBackend.figure_format = 'png'\n",
    "\n",
    "plt.rcParams['figure.dpi']= 450"
   ]
  },
  {
   "cell_type": "code",
   "execution_count": 93,
   "metadata": {
    "ExecuteTime": {
     "end_time": "2018-05-09T23:07:42.081470Z",
     "start_time": "2018-05-09T23:07:42.077511Z"
    }
   },
   "outputs": [],
   "source": [
    "#Connecting to SQL database on an AWS EC2 instance\n",
    "from sqlalchemy import create_engine\n",
    "import pandas as pdb\n",
    "cnx = create_engine('postgresql://djmor@34.234.69.231/djmor')"
   ]
  },
  {
   "cell_type": "code",
   "execution_count": 94,
   "metadata": {
    "ExecuteTime": {
     "end_time": "2018-05-09T23:07:42.523495Z",
     "start_time": "2018-05-09T23:07:42.476994Z"
    }
   },
   "outputs": [],
   "source": [
    "#Loading in coordinates to fast track reverse geocoding\n",
    "geo = rg.RGeocoder(mode=2, verbose=True, stream=io.StringIO(open('rg_cities1000.csv', encoding='utf-8').read()))"
   ]
  },
  {
   "cell_type": "code",
   "execution_count": 95,
   "metadata": {
    "ExecuteTime": {
     "end_time": "2018-05-09T23:07:42.948142Z",
     "start_time": "2018-05-09T23:07:42.944021Z"
    }
   },
   "outputs": [],
   "source": [
    "#List of classification types \n",
    "classes = {'F23-':0, 'F24-26':1,'F27-28':2,'F29-32':3, 'F33-42':4, 'F43+':5, 'M22-':6, 'M23-26':7, 'M27-28':8, 'M29-31':9, 'M32-38':10, 'M39+':11}\n",
    "clas = ['F23-', 'F24-26','F27-28','F29-32', 'F33-42', 'F43+', 'M22-', 'M23-26', 'M27-28', 'M29-31', 'M32-38', 'M39+']\n",
    "           "
   ]
  },
  {
   "cell_type": "code",
   "execution_count": 96,
   "metadata": {
    "ExecuteTime": {
     "end_time": "2018-05-09T23:08:05.470719Z",
     "start_time": "2018-05-09T23:07:43.412123Z"
    }
   },
   "outputs": [],
   "source": [
    "#Creating all the data frames\n",
    "device_brand = pd.read_csv('phone_brand_device_model.csv')\n",
    "applabeldf = pd.read_csv('app_labels.csv')\n",
    "labelcat = pd.read_csv('label_categories.csv')\n",
    "genderdf = pd.read_csv('gender_age_train.csv')\n",
    "eventsdf = pd.read_csv('~/Documents/events.csv')\n",
    "appevents = pd.read_csv('~/Documents/app_events.csv')\n",
    "testdf = pd.read_csv('gender_age_test.csv')"
   ]
  },
  {
   "cell_type": "code",
   "execution_count": 97,
   "metadata": {
    "ExecuteTime": {
     "end_time": "2018-05-09T23:08:05.487230Z",
     "start_time": "2018-05-09T23:08:05.472777Z"
    }
   },
   "outputs": [
    {
     "data": {
      "text/html": [
       "<div>\n",
       "<style scoped>\n",
       "    .dataframe tbody tr th:only-of-type {\n",
       "        vertical-align: middle;\n",
       "    }\n",
       "\n",
       "    .dataframe tbody tr th {\n",
       "        vertical-align: top;\n",
       "    }\n",
       "\n",
       "    .dataframe thead th {\n",
       "        text-align: right;\n",
       "    }\n",
       "</style>\n",
       "<table border=\"1\" class=\"dataframe\">\n",
       "  <thead>\n",
       "    <tr style=\"text-align: right;\">\n",
       "      <th></th>\n",
       "      <th>device_id</th>\n",
       "    </tr>\n",
       "  </thead>\n",
       "  <tbody>\n",
       "    <tr>\n",
       "      <th>0</th>\n",
       "      <td>1002079943728939269</td>\n",
       "    </tr>\n",
       "    <tr>\n",
       "      <th>1</th>\n",
       "      <td>-1547860181818787117</td>\n",
       "    </tr>\n",
       "    <tr>\n",
       "      <th>2</th>\n",
       "      <td>7374582448058474277</td>\n",
       "    </tr>\n",
       "    <tr>\n",
       "      <th>3</th>\n",
       "      <td>-6220210354783429585</td>\n",
       "    </tr>\n",
       "    <tr>\n",
       "      <th>4</th>\n",
       "      <td>-5893464122623104785</td>\n",
       "    </tr>\n",
       "  </tbody>\n",
       "</table>\n",
       "</div>"
      ],
      "text/plain": [
       "             device_id\n",
       "0  1002079943728939269\n",
       "1 -1547860181818787117\n",
       "2  7374582448058474277\n",
       "3 -6220210354783429585\n",
       "4 -5893464122623104785"
      ]
     },
     "execution_count": 97,
     "metadata": {},
     "output_type": "execute_result"
    },
    {
     "data": {
      "text/html": [
       "<div>\n",
       "<style scoped>\n",
       "    .dataframe tbody tr th:only-of-type {\n",
       "        vertical-align: middle;\n",
       "    }\n",
       "\n",
       "    .dataframe tbody tr th {\n",
       "        vertical-align: top;\n",
       "    }\n",
       "\n",
       "    .dataframe thead th {\n",
       "        text-align: right;\n",
       "    }\n",
       "</style>\n",
       "<table border=\"1\" class=\"dataframe\">\n",
       "  <thead>\n",
       "    <tr style=\"text-align: right;\">\n",
       "      <th></th>\n",
       "      <th>device_id</th>\n",
       "      <th>gender</th>\n",
       "      <th>age</th>\n",
       "      <th>group</th>\n",
       "    </tr>\n",
       "  </thead>\n",
       "  <tbody>\n",
       "    <tr>\n",
       "      <th>0</th>\n",
       "      <td>-8076087639492063270</td>\n",
       "      <td>M</td>\n",
       "      <td>35</td>\n",
       "      <td>M32-38</td>\n",
       "    </tr>\n",
       "    <tr>\n",
       "      <th>1</th>\n",
       "      <td>-2897161552818060146</td>\n",
       "      <td>M</td>\n",
       "      <td>35</td>\n",
       "      <td>M32-38</td>\n",
       "    </tr>\n",
       "    <tr>\n",
       "      <th>2</th>\n",
       "      <td>-8260683887967679142</td>\n",
       "      <td>M</td>\n",
       "      <td>35</td>\n",
       "      <td>M32-38</td>\n",
       "    </tr>\n",
       "    <tr>\n",
       "      <th>3</th>\n",
       "      <td>-4938849341048082022</td>\n",
       "      <td>M</td>\n",
       "      <td>30</td>\n",
       "      <td>M29-31</td>\n",
       "    </tr>\n",
       "    <tr>\n",
       "      <th>4</th>\n",
       "      <td>245133531816851882</td>\n",
       "      <td>M</td>\n",
       "      <td>30</td>\n",
       "      <td>M29-31</td>\n",
       "    </tr>\n",
       "  </tbody>\n",
       "</table>\n",
       "</div>"
      ],
      "text/plain": [
       "             device_id gender  age   group\n",
       "0 -8076087639492063270      M   35  M32-38\n",
       "1 -2897161552818060146      M   35  M32-38\n",
       "2 -8260683887967679142      M   35  M32-38\n",
       "3 -4938849341048082022      M   30  M29-31\n",
       "4   245133531816851882      M   30  M29-31"
      ]
     },
     "execution_count": 97,
     "metadata": {},
     "output_type": "execute_result"
    },
    {
     "data": {
      "text/plain": [
       "(74645, 4)"
      ]
     },
     "execution_count": 97,
     "metadata": {},
     "output_type": "execute_result"
    }
   ],
   "source": [
    "testdf.head()\n",
    "genderdf.head()\n",
    "genderdf.shape"
   ]
  },
  {
   "cell_type": "code",
   "execution_count": 98,
   "metadata": {
    "ExecuteTime": {
     "end_time": "2018-05-09T23:08:05.549357Z",
     "start_time": "2018-05-09T23:08:05.488945Z"
    }
   },
   "outputs": [],
   "source": [
    "device_brand = device_brand.drop_duplicates('device_id',keep='first')\n",
    "testdf = testdf.drop_duplicates('device_id',keep='first')\n",
    "genderdf.group = genderdf.group.map(classes)"
   ]
  },
  {
   "cell_type": "code",
   "execution_count": 99,
   "metadata": {
    "ExecuteTime": {
     "end_time": "2018-05-09T23:08:05.571762Z",
     "start_time": "2018-05-09T23:08:05.551347Z"
    }
   },
   "outputs": [
    {
     "data": {
      "text/html": [
       "<div>\n",
       "<style scoped>\n",
       "    .dataframe tbody tr th:only-of-type {\n",
       "        vertical-align: middle;\n",
       "    }\n",
       "\n",
       "    .dataframe tbody tr th {\n",
       "        vertical-align: top;\n",
       "    }\n",
       "\n",
       "    .dataframe thead th {\n",
       "        text-align: right;\n",
       "    }\n",
       "</style>\n",
       "<table border=\"1\" class=\"dataframe\">\n",
       "  <thead>\n",
       "    <tr style=\"text-align: right;\">\n",
       "      <th></th>\n",
       "      <th>device_id</th>\n",
       "      <th>gender</th>\n",
       "      <th>age</th>\n",
       "      <th>group</th>\n",
       "    </tr>\n",
       "  </thead>\n",
       "  <tbody>\n",
       "    <tr>\n",
       "      <th>0</th>\n",
       "      <td>-8076087639492063270</td>\n",
       "      <td>M</td>\n",
       "      <td>35</td>\n",
       "      <td>10</td>\n",
       "    </tr>\n",
       "    <tr>\n",
       "      <th>1</th>\n",
       "      <td>-2897161552818060146</td>\n",
       "      <td>M</td>\n",
       "      <td>35</td>\n",
       "      <td>10</td>\n",
       "    </tr>\n",
       "    <tr>\n",
       "      <th>2</th>\n",
       "      <td>-8260683887967679142</td>\n",
       "      <td>M</td>\n",
       "      <td>35</td>\n",
       "      <td>10</td>\n",
       "    </tr>\n",
       "    <tr>\n",
       "      <th>3</th>\n",
       "      <td>-4938849341048082022</td>\n",
       "      <td>M</td>\n",
       "      <td>30</td>\n",
       "      <td>9</td>\n",
       "    </tr>\n",
       "    <tr>\n",
       "      <th>4</th>\n",
       "      <td>245133531816851882</td>\n",
       "      <td>M</td>\n",
       "      <td>30</td>\n",
       "      <td>9</td>\n",
       "    </tr>\n",
       "    <tr>\n",
       "      <th>5</th>\n",
       "      <td>-1297074871525174196</td>\n",
       "      <td>F</td>\n",
       "      <td>24</td>\n",
       "      <td>1</td>\n",
       "    </tr>\n",
       "    <tr>\n",
       "      <th>6</th>\n",
       "      <td>236877999787307864</td>\n",
       "      <td>M</td>\n",
       "      <td>36</td>\n",
       "      <td>10</td>\n",
       "    </tr>\n",
       "    <tr>\n",
       "      <th>7</th>\n",
       "      <td>-8098239495777311881</td>\n",
       "      <td>M</td>\n",
       "      <td>38</td>\n",
       "      <td>10</td>\n",
       "    </tr>\n",
       "    <tr>\n",
       "      <th>8</th>\n",
       "      <td>176515041953473526</td>\n",
       "      <td>M</td>\n",
       "      <td>33</td>\n",
       "      <td>10</td>\n",
       "    </tr>\n",
       "    <tr>\n",
       "      <th>9</th>\n",
       "      <td>1596610250680140042</td>\n",
       "      <td>F</td>\n",
       "      <td>36</td>\n",
       "      <td>4</td>\n",
       "    </tr>\n",
       "    <tr>\n",
       "      <th>10</th>\n",
       "      <td>9032155484127182494</td>\n",
       "      <td>M</td>\n",
       "      <td>31</td>\n",
       "      <td>9</td>\n",
       "    </tr>\n",
       "    <tr>\n",
       "      <th>11</th>\n",
       "      <td>7477216237379271436</td>\n",
       "      <td>F</td>\n",
       "      <td>37</td>\n",
       "      <td>4</td>\n",
       "    </tr>\n",
       "    <tr>\n",
       "      <th>12</th>\n",
       "      <td>2478205222798310601</td>\n",
       "      <td>F</td>\n",
       "      <td>28</td>\n",
       "      <td>2</td>\n",
       "    </tr>\n",
       "    <tr>\n",
       "      <th>13</th>\n",
       "      <td>6352067998666467520</td>\n",
       "      <td>M</td>\n",
       "      <td>32</td>\n",
       "      <td>10</td>\n",
       "    </tr>\n",
       "    <tr>\n",
       "      <th>14</th>\n",
       "      <td>-7605360767281960867</td>\n",
       "      <td>M</td>\n",
       "      <td>48</td>\n",
       "      <td>11</td>\n",
       "    </tr>\n",
       "    <tr>\n",
       "      <th>15</th>\n",
       "      <td>1508636020748379883</td>\n",
       "      <td>F</td>\n",
       "      <td>28</td>\n",
       "      <td>2</td>\n",
       "    </tr>\n",
       "    <tr>\n",
       "      <th>16</th>\n",
       "      <td>4380872794486415327</td>\n",
       "      <td>M</td>\n",
       "      <td>38</td>\n",
       "      <td>10</td>\n",
       "    </tr>\n",
       "    <tr>\n",
       "      <th>17</th>\n",
       "      <td>-1039701474753771322</td>\n",
       "      <td>M</td>\n",
       "      <td>38</td>\n",
       "      <td>10</td>\n",
       "    </tr>\n",
       "    <tr>\n",
       "      <th>18</th>\n",
       "      <td>-6876541075223249434</td>\n",
       "      <td>M</td>\n",
       "      <td>75</td>\n",
       "      <td>11</td>\n",
       "    </tr>\n",
       "    <tr>\n",
       "      <th>19</th>\n",
       "      <td>6287938418661076759</td>\n",
       "      <td>M</td>\n",
       "      <td>33</td>\n",
       "      <td>10</td>\n",
       "    </tr>\n",
       "    <tr>\n",
       "      <th>20</th>\n",
       "      <td>-6029676723224952628</td>\n",
       "      <td>F</td>\n",
       "      <td>39</td>\n",
       "      <td>4</td>\n",
       "    </tr>\n",
       "    <tr>\n",
       "      <th>21</th>\n",
       "      <td>8026504930081700361</td>\n",
       "      <td>M</td>\n",
       "      <td>25</td>\n",
       "      <td>7</td>\n",
       "    </tr>\n",
       "    <tr>\n",
       "      <th>22</th>\n",
       "      <td>1118970699362079126</td>\n",
       "      <td>M</td>\n",
       "      <td>24</td>\n",
       "      <td>7</td>\n",
       "    </tr>\n",
       "    <tr>\n",
       "      <th>23</th>\n",
       "      <td>-7271319853104672050</td>\n",
       "      <td>M</td>\n",
       "      <td>27</td>\n",
       "      <td>8</td>\n",
       "    </tr>\n",
       "    <tr>\n",
       "      <th>24</th>\n",
       "      <td>-9216966316587614491</td>\n",
       "      <td>M</td>\n",
       "      <td>29</td>\n",
       "      <td>9</td>\n",
       "    </tr>\n",
       "    <tr>\n",
       "      <th>25</th>\n",
       "      <td>-4913644674161904021</td>\n",
       "      <td>M</td>\n",
       "      <td>34</td>\n",
       "      <td>10</td>\n",
       "    </tr>\n",
       "    <tr>\n",
       "      <th>26</th>\n",
       "      <td>2313145512701915151</td>\n",
       "      <td>M</td>\n",
       "      <td>34</td>\n",
       "      <td>10</td>\n",
       "    </tr>\n",
       "    <tr>\n",
       "      <th>27</th>\n",
       "      <td>4309468945717577632</td>\n",
       "      <td>F</td>\n",
       "      <td>36</td>\n",
       "      <td>4</td>\n",
       "    </tr>\n",
       "    <tr>\n",
       "      <th>28</th>\n",
       "      <td>-4547337748907986143</td>\n",
       "      <td>M</td>\n",
       "      <td>37</td>\n",
       "      <td>10</td>\n",
       "    </tr>\n",
       "    <tr>\n",
       "      <th>29</th>\n",
       "      <td>-7216269352973401877</td>\n",
       "      <td>M</td>\n",
       "      <td>37</td>\n",
       "      <td>10</td>\n",
       "    </tr>\n",
       "    <tr>\n",
       "      <th>...</th>\n",
       "      <td>...</td>\n",
       "      <td>...</td>\n",
       "      <td>...</td>\n",
       "      <td>...</td>\n",
       "    </tr>\n",
       "    <tr>\n",
       "      <th>74615</th>\n",
       "      <td>7826033719277536366</td>\n",
       "      <td>M</td>\n",
       "      <td>28</td>\n",
       "      <td>8</td>\n",
       "    </tr>\n",
       "    <tr>\n",
       "      <th>74616</th>\n",
       "      <td>8939634378631061484</td>\n",
       "      <td>M</td>\n",
       "      <td>31</td>\n",
       "      <td>9</td>\n",
       "    </tr>\n",
       "    <tr>\n",
       "      <th>74617</th>\n",
       "      <td>1676125742207316285</td>\n",
       "      <td>F</td>\n",
       "      <td>28</td>\n",
       "      <td>2</td>\n",
       "    </tr>\n",
       "    <tr>\n",
       "      <th>74618</th>\n",
       "      <td>2627933310180294504</td>\n",
       "      <td>M</td>\n",
       "      <td>31</td>\n",
       "      <td>9</td>\n",
       "    </tr>\n",
       "    <tr>\n",
       "      <th>74619</th>\n",
       "      <td>7176422141809079294</td>\n",
       "      <td>M</td>\n",
       "      <td>23</td>\n",
       "      <td>7</td>\n",
       "    </tr>\n",
       "    <tr>\n",
       "      <th>74620</th>\n",
       "      <td>-877731366874189491</td>\n",
       "      <td>M</td>\n",
       "      <td>22</td>\n",
       "      <td>6</td>\n",
       "    </tr>\n",
       "    <tr>\n",
       "      <th>74621</th>\n",
       "      <td>-1324027033843938692</td>\n",
       "      <td>M</td>\n",
       "      <td>22</td>\n",
       "      <td>6</td>\n",
       "    </tr>\n",
       "    <tr>\n",
       "      <th>74622</th>\n",
       "      <td>-3569962198902678507</td>\n",
       "      <td>F</td>\n",
       "      <td>59</td>\n",
       "      <td>5</td>\n",
       "    </tr>\n",
       "    <tr>\n",
       "      <th>74623</th>\n",
       "      <td>2032262288045492186</td>\n",
       "      <td>F</td>\n",
       "      <td>29</td>\n",
       "      <td>3</td>\n",
       "    </tr>\n",
       "    <tr>\n",
       "      <th>74624</th>\n",
       "      <td>-6220019934264142137</td>\n",
       "      <td>M</td>\n",
       "      <td>29</td>\n",
       "      <td>9</td>\n",
       "    </tr>\n",
       "    <tr>\n",
       "      <th>74625</th>\n",
       "      <td>-4071460957162948519</td>\n",
       "      <td>F</td>\n",
       "      <td>27</td>\n",
       "      <td>2</td>\n",
       "    </tr>\n",
       "    <tr>\n",
       "      <th>74626</th>\n",
       "      <td>8012242415081116163</td>\n",
       "      <td>F</td>\n",
       "      <td>30</td>\n",
       "      <td>3</td>\n",
       "    </tr>\n",
       "    <tr>\n",
       "      <th>74627</th>\n",
       "      <td>-7513478293429751074</td>\n",
       "      <td>F</td>\n",
       "      <td>56</td>\n",
       "      <td>5</td>\n",
       "    </tr>\n",
       "    <tr>\n",
       "      <th>74628</th>\n",
       "      <td>2918022610076499795</td>\n",
       "      <td>M</td>\n",
       "      <td>26</td>\n",
       "      <td>7</td>\n",
       "    </tr>\n",
       "    <tr>\n",
       "      <th>74629</th>\n",
       "      <td>442105793738318663</td>\n",
       "      <td>M</td>\n",
       "      <td>35</td>\n",
       "      <td>10</td>\n",
       "    </tr>\n",
       "    <tr>\n",
       "      <th>74630</th>\n",
       "      <td>-2510601842775405069</td>\n",
       "      <td>F</td>\n",
       "      <td>22</td>\n",
       "      <td>0</td>\n",
       "    </tr>\n",
       "    <tr>\n",
       "      <th>74631</th>\n",
       "      <td>-2572857383593438598</td>\n",
       "      <td>F</td>\n",
       "      <td>21</td>\n",
       "      <td>0</td>\n",
       "    </tr>\n",
       "    <tr>\n",
       "      <th>74632</th>\n",
       "      <td>-5804749754315732086</td>\n",
       "      <td>M</td>\n",
       "      <td>33</td>\n",
       "      <td>10</td>\n",
       "    </tr>\n",
       "    <tr>\n",
       "      <th>74633</th>\n",
       "      <td>-4229815843211107303</td>\n",
       "      <td>M</td>\n",
       "      <td>53</td>\n",
       "      <td>11</td>\n",
       "    </tr>\n",
       "    <tr>\n",
       "      <th>74634</th>\n",
       "      <td>-8331157719771660970</td>\n",
       "      <td>M</td>\n",
       "      <td>53</td>\n",
       "      <td>11</td>\n",
       "    </tr>\n",
       "    <tr>\n",
       "      <th>74635</th>\n",
       "      <td>1728576663562073800</td>\n",
       "      <td>M</td>\n",
       "      <td>38</td>\n",
       "      <td>10</td>\n",
       "    </tr>\n",
       "    <tr>\n",
       "      <th>74636</th>\n",
       "      <td>8116314513428390753</td>\n",
       "      <td>M</td>\n",
       "      <td>25</td>\n",
       "      <td>7</td>\n",
       "    </tr>\n",
       "    <tr>\n",
       "      <th>74637</th>\n",
       "      <td>-3539330294838027409</td>\n",
       "      <td>M</td>\n",
       "      <td>25</td>\n",
       "      <td>7</td>\n",
       "    </tr>\n",
       "    <tr>\n",
       "      <th>74638</th>\n",
       "      <td>5645813107043557722</td>\n",
       "      <td>F</td>\n",
       "      <td>51</td>\n",
       "      <td>5</td>\n",
       "    </tr>\n",
       "    <tr>\n",
       "      <th>74639</th>\n",
       "      <td>-4752726726975186730</td>\n",
       "      <td>M</td>\n",
       "      <td>26</td>\n",
       "      <td>7</td>\n",
       "    </tr>\n",
       "    <tr>\n",
       "      <th>74640</th>\n",
       "      <td>4682031842235089751</td>\n",
       "      <td>M</td>\n",
       "      <td>30</td>\n",
       "      <td>9</td>\n",
       "    </tr>\n",
       "    <tr>\n",
       "      <th>74641</th>\n",
       "      <td>-9178703742877135986</td>\n",
       "      <td>M</td>\n",
       "      <td>30</td>\n",
       "      <td>9</td>\n",
       "    </tr>\n",
       "    <tr>\n",
       "      <th>74642</th>\n",
       "      <td>180946546684162312</td>\n",
       "      <td>M</td>\n",
       "      <td>20</td>\n",
       "      <td>6</td>\n",
       "    </tr>\n",
       "    <tr>\n",
       "      <th>74643</th>\n",
       "      <td>1390702386071991851</td>\n",
       "      <td>M</td>\n",
       "      <td>37</td>\n",
       "      <td>10</td>\n",
       "    </tr>\n",
       "    <tr>\n",
       "      <th>74644</th>\n",
       "      <td>89181010588227347</td>\n",
       "      <td>M</td>\n",
       "      <td>25</td>\n",
       "      <td>7</td>\n",
       "    </tr>\n",
       "  </tbody>\n",
       "</table>\n",
       "<p>74645 rows × 4 columns</p>\n",
       "</div>"
      ],
      "text/plain": [
       "                 device_id gender  age  group\n",
       "0     -8076087639492063270      M   35     10\n",
       "1     -2897161552818060146      M   35     10\n",
       "2     -8260683887967679142      M   35     10\n",
       "3     -4938849341048082022      M   30      9\n",
       "4       245133531816851882      M   30      9\n",
       "5     -1297074871525174196      F   24      1\n",
       "6       236877999787307864      M   36     10\n",
       "7     -8098239495777311881      M   38     10\n",
       "8       176515041953473526      M   33     10\n",
       "9      1596610250680140042      F   36      4\n",
       "10     9032155484127182494      M   31      9\n",
       "11     7477216237379271436      F   37      4\n",
       "12     2478205222798310601      F   28      2\n",
       "13     6352067998666467520      M   32     10\n",
       "14    -7605360767281960867      M   48     11\n",
       "15     1508636020748379883      F   28      2\n",
       "16     4380872794486415327      M   38     10\n",
       "17    -1039701474753771322      M   38     10\n",
       "18    -6876541075223249434      M   75     11\n",
       "19     6287938418661076759      M   33     10\n",
       "20    -6029676723224952628      F   39      4\n",
       "21     8026504930081700361      M   25      7\n",
       "22     1118970699362079126      M   24      7\n",
       "23    -7271319853104672050      M   27      8\n",
       "24    -9216966316587614491      M   29      9\n",
       "25    -4913644674161904021      M   34     10\n",
       "26     2313145512701915151      M   34     10\n",
       "27     4309468945717577632      F   36      4\n",
       "28    -4547337748907986143      M   37     10\n",
       "29    -7216269352973401877      M   37     10\n",
       "...                    ...    ...  ...    ...\n",
       "74615  7826033719277536366      M   28      8\n",
       "74616  8939634378631061484      M   31      9\n",
       "74617  1676125742207316285      F   28      2\n",
       "74618  2627933310180294504      M   31      9\n",
       "74619  7176422141809079294      M   23      7\n",
       "74620  -877731366874189491      M   22      6\n",
       "74621 -1324027033843938692      M   22      6\n",
       "74622 -3569962198902678507      F   59      5\n",
       "74623  2032262288045492186      F   29      3\n",
       "74624 -6220019934264142137      M   29      9\n",
       "74625 -4071460957162948519      F   27      2\n",
       "74626  8012242415081116163      F   30      3\n",
       "74627 -7513478293429751074      F   56      5\n",
       "74628  2918022610076499795      M   26      7\n",
       "74629   442105793738318663      M   35     10\n",
       "74630 -2510601842775405069      F   22      0\n",
       "74631 -2572857383593438598      F   21      0\n",
       "74632 -5804749754315732086      M   33     10\n",
       "74633 -4229815843211107303      M   53     11\n",
       "74634 -8331157719771660970      M   53     11\n",
       "74635  1728576663562073800      M   38     10\n",
       "74636  8116314513428390753      M   25      7\n",
       "74637 -3539330294838027409      M   25      7\n",
       "74638  5645813107043557722      F   51      5\n",
       "74639 -4752726726975186730      M   26      7\n",
       "74640  4682031842235089751      M   30      9\n",
       "74641 -9178703742877135986      M   30      9\n",
       "74642   180946546684162312      M   20      6\n",
       "74643  1390702386071991851      M   37     10\n",
       "74644    89181010588227347      M   25      7\n",
       "\n",
       "[74645 rows x 4 columns]"
      ]
     },
     "execution_count": 99,
     "metadata": {},
     "output_type": "execute_result"
    }
   ],
   "source": [
    "genderdf"
   ]
  },
  {
   "cell_type": "code",
   "execution_count": 100,
   "metadata": {
    "ExecuteTime": {
     "end_time": "2018-05-09T23:08:05.602554Z",
     "start_time": "2018-05-09T23:08:05.573465Z"
    },
    "scrolled": true
   },
   "outputs": [
    {
     "data": {
      "text/html": [
       "<div>\n",
       "<style scoped>\n",
       "    .dataframe tbody tr th:only-of-type {\n",
       "        vertical-align: middle;\n",
       "    }\n",
       "\n",
       "    .dataframe tbody tr th {\n",
       "        vertical-align: top;\n",
       "    }\n",
       "\n",
       "    .dataframe thead th {\n",
       "        text-align: right;\n",
       "    }\n",
       "</style>\n",
       "<table border=\"1\" class=\"dataframe\">\n",
       "  <thead>\n",
       "    <tr style=\"text-align: right;\">\n",
       "      <th></th>\n",
       "      <th>device_id</th>\n",
       "      <th>phone_brand</th>\n",
       "      <th>device_model</th>\n",
       "    </tr>\n",
       "  </thead>\n",
       "  <tbody>\n",
       "    <tr>\n",
       "      <th>0</th>\n",
       "      <td>-8890648629457979026</td>\n",
       "      <td>小米</td>\n",
       "      <td>红米</td>\n",
       "    </tr>\n",
       "    <tr>\n",
       "      <th>1</th>\n",
       "      <td>1277779817574759137</td>\n",
       "      <td>小米</td>\n",
       "      <td>MI 2</td>\n",
       "    </tr>\n",
       "    <tr>\n",
       "      <th>2</th>\n",
       "      <td>5137427614288105724</td>\n",
       "      <td>三星</td>\n",
       "      <td>Galaxy S4</td>\n",
       "    </tr>\n",
       "    <tr>\n",
       "      <th>3</th>\n",
       "      <td>3669464369358936369</td>\n",
       "      <td>SUGAR</td>\n",
       "      <td>时尚手机</td>\n",
       "    </tr>\n",
       "    <tr>\n",
       "      <th>4</th>\n",
       "      <td>-5019277647504317457</td>\n",
       "      <td>三星</td>\n",
       "      <td>Galaxy Note 2</td>\n",
       "    </tr>\n",
       "  </tbody>\n",
       "</table>\n",
       "</div>"
      ],
      "text/plain": [
       "             device_id phone_brand   device_model\n",
       "0 -8890648629457979026          小米             红米\n",
       "1  1277779817574759137          小米           MI 2\n",
       "2  5137427614288105724          三星      Galaxy S4\n",
       "3  3669464369358936369       SUGAR           时尚手机\n",
       "4 -5019277647504317457          三星  Galaxy Note 2"
      ]
     },
     "execution_count": 100,
     "metadata": {},
     "output_type": "execute_result"
    },
    {
     "data": {
      "text/html": [
       "<div>\n",
       "<style scoped>\n",
       "    .dataframe tbody tr th:only-of-type {\n",
       "        vertical-align: middle;\n",
       "    }\n",
       "\n",
       "    .dataframe tbody tr th {\n",
       "        vertical-align: top;\n",
       "    }\n",
       "\n",
       "    .dataframe thead th {\n",
       "        text-align: right;\n",
       "    }\n",
       "</style>\n",
       "<table border=\"1\" class=\"dataframe\">\n",
       "  <thead>\n",
       "    <tr style=\"text-align: right;\">\n",
       "      <th></th>\n",
       "      <th>event_id</th>\n",
       "      <th>app_id</th>\n",
       "      <th>is_installed</th>\n",
       "      <th>is_active</th>\n",
       "    </tr>\n",
       "  </thead>\n",
       "  <tbody>\n",
       "    <tr>\n",
       "      <th>0</th>\n",
       "      <td>2</td>\n",
       "      <td>5927333115845830913</td>\n",
       "      <td>1</td>\n",
       "      <td>1</td>\n",
       "    </tr>\n",
       "    <tr>\n",
       "      <th>1</th>\n",
       "      <td>2</td>\n",
       "      <td>-5720078949152207372</td>\n",
       "      <td>1</td>\n",
       "      <td>0</td>\n",
       "    </tr>\n",
       "    <tr>\n",
       "      <th>2</th>\n",
       "      <td>2</td>\n",
       "      <td>-1633887856876571208</td>\n",
       "      <td>1</td>\n",
       "      <td>0</td>\n",
       "    </tr>\n",
       "    <tr>\n",
       "      <th>3</th>\n",
       "      <td>2</td>\n",
       "      <td>-653184325010919369</td>\n",
       "      <td>1</td>\n",
       "      <td>1</td>\n",
       "    </tr>\n",
       "    <tr>\n",
       "      <th>4</th>\n",
       "      <td>2</td>\n",
       "      <td>8693964245073640147</td>\n",
       "      <td>1</td>\n",
       "      <td>1</td>\n",
       "    </tr>\n",
       "  </tbody>\n",
       "</table>\n",
       "</div>"
      ],
      "text/plain": [
       "   event_id               app_id  is_installed  is_active\n",
       "0         2  5927333115845830913             1          1\n",
       "1         2 -5720078949152207372             1          0\n",
       "2         2 -1633887856876571208             1          0\n",
       "3         2  -653184325010919369             1          1\n",
       "4         2  8693964245073640147             1          1"
      ]
     },
     "execution_count": 100,
     "metadata": {},
     "output_type": "execute_result"
    },
    {
     "data": {
      "text/html": [
       "<div>\n",
       "<style scoped>\n",
       "    .dataframe tbody tr th:only-of-type {\n",
       "        vertical-align: middle;\n",
       "    }\n",
       "\n",
       "    .dataframe tbody tr th {\n",
       "        vertical-align: top;\n",
       "    }\n",
       "\n",
       "    .dataframe thead th {\n",
       "        text-align: right;\n",
       "    }\n",
       "</style>\n",
       "<table border=\"1\" class=\"dataframe\">\n",
       "  <thead>\n",
       "    <tr style=\"text-align: right;\">\n",
       "      <th></th>\n",
       "      <th>label_id</th>\n",
       "      <th>category</th>\n",
       "    </tr>\n",
       "  </thead>\n",
       "  <tbody>\n",
       "    <tr>\n",
       "      <th>0</th>\n",
       "      <td>1</td>\n",
       "      <td>NaN</td>\n",
       "    </tr>\n",
       "    <tr>\n",
       "      <th>1</th>\n",
       "      <td>2</td>\n",
       "      <td>game-game type</td>\n",
       "    </tr>\n",
       "    <tr>\n",
       "      <th>2</th>\n",
       "      <td>3</td>\n",
       "      <td>game-Game themes</td>\n",
       "    </tr>\n",
       "    <tr>\n",
       "      <th>3</th>\n",
       "      <td>4</td>\n",
       "      <td>game-Art Style</td>\n",
       "    </tr>\n",
       "    <tr>\n",
       "      <th>4</th>\n",
       "      <td>5</td>\n",
       "      <td>game-Leisure time</td>\n",
       "    </tr>\n",
       "  </tbody>\n",
       "</table>\n",
       "</div>"
      ],
      "text/plain": [
       "   label_id           category\n",
       "0         1                NaN\n",
       "1         2     game-game type\n",
       "2         3   game-Game themes\n",
       "3         4     game-Art Style\n",
       "4         5  game-Leisure time"
      ]
     },
     "execution_count": 100,
     "metadata": {},
     "output_type": "execute_result"
    },
    {
     "data": {
      "text/html": [
       "<div>\n",
       "<style scoped>\n",
       "    .dataframe tbody tr th:only-of-type {\n",
       "        vertical-align: middle;\n",
       "    }\n",
       "\n",
       "    .dataframe tbody tr th {\n",
       "        vertical-align: top;\n",
       "    }\n",
       "\n",
       "    .dataframe thead th {\n",
       "        text-align: right;\n",
       "    }\n",
       "</style>\n",
       "<table border=\"1\" class=\"dataframe\">\n",
       "  <thead>\n",
       "    <tr style=\"text-align: right;\">\n",
       "      <th></th>\n",
       "      <th>event_id</th>\n",
       "      <th>device_id</th>\n",
       "      <th>timestamp</th>\n",
       "      <th>longitude</th>\n",
       "      <th>latitude</th>\n",
       "    </tr>\n",
       "  </thead>\n",
       "  <tbody>\n",
       "    <tr>\n",
       "      <th>0</th>\n",
       "      <td>1</td>\n",
       "      <td>29182687948017175</td>\n",
       "      <td>2016-05-01 00:55:25</td>\n",
       "      <td>121.38</td>\n",
       "      <td>31.24</td>\n",
       "    </tr>\n",
       "    <tr>\n",
       "      <th>1</th>\n",
       "      <td>2</td>\n",
       "      <td>-6401643145415154744</td>\n",
       "      <td>2016-05-01 00:54:12</td>\n",
       "      <td>103.65</td>\n",
       "      <td>30.97</td>\n",
       "    </tr>\n",
       "    <tr>\n",
       "      <th>2</th>\n",
       "      <td>3</td>\n",
       "      <td>-4833982096941402721</td>\n",
       "      <td>2016-05-01 00:08:05</td>\n",
       "      <td>106.60</td>\n",
       "      <td>29.70</td>\n",
       "    </tr>\n",
       "    <tr>\n",
       "      <th>3</th>\n",
       "      <td>4</td>\n",
       "      <td>-6815121365017318426</td>\n",
       "      <td>2016-05-01 00:06:40</td>\n",
       "      <td>104.27</td>\n",
       "      <td>23.28</td>\n",
       "    </tr>\n",
       "    <tr>\n",
       "      <th>4</th>\n",
       "      <td>5</td>\n",
       "      <td>-5373797595892518570</td>\n",
       "      <td>2016-05-01 00:07:18</td>\n",
       "      <td>115.88</td>\n",
       "      <td>28.66</td>\n",
       "    </tr>\n",
       "  </tbody>\n",
       "</table>\n",
       "</div>"
      ],
      "text/plain": [
       "   event_id            device_id            timestamp  longitude  latitude\n",
       "0         1    29182687948017175  2016-05-01 00:55:25     121.38     31.24\n",
       "1         2 -6401643145415154744  2016-05-01 00:54:12     103.65     30.97\n",
       "2         3 -4833982096941402721  2016-05-01 00:08:05     106.60     29.70\n",
       "3         4 -6815121365017318426  2016-05-01 00:06:40     104.27     23.28\n",
       "4         5 -5373797595892518570  2016-05-01 00:07:18     115.88     28.66"
      ]
     },
     "execution_count": 100,
     "metadata": {},
     "output_type": "execute_result"
    },
    {
     "data": {
      "text/html": [
       "<div>\n",
       "<style scoped>\n",
       "    .dataframe tbody tr th:only-of-type {\n",
       "        vertical-align: middle;\n",
       "    }\n",
       "\n",
       "    .dataframe tbody tr th {\n",
       "        vertical-align: top;\n",
       "    }\n",
       "\n",
       "    .dataframe thead th {\n",
       "        text-align: right;\n",
       "    }\n",
       "</style>\n",
       "<table border=\"1\" class=\"dataframe\">\n",
       "  <thead>\n",
       "    <tr style=\"text-align: right;\">\n",
       "      <th></th>\n",
       "      <th>app_id</th>\n",
       "      <th>label_id</th>\n",
       "    </tr>\n",
       "  </thead>\n",
       "  <tbody>\n",
       "    <tr>\n",
       "      <th>0</th>\n",
       "      <td>7324884708820027918</td>\n",
       "      <td>251</td>\n",
       "    </tr>\n",
       "    <tr>\n",
       "      <th>1</th>\n",
       "      <td>-4494216993218550286</td>\n",
       "      <td>251</td>\n",
       "    </tr>\n",
       "    <tr>\n",
       "      <th>2</th>\n",
       "      <td>6058196446775239644</td>\n",
       "      <td>406</td>\n",
       "    </tr>\n",
       "    <tr>\n",
       "      <th>3</th>\n",
       "      <td>6058196446775239644</td>\n",
       "      <td>407</td>\n",
       "    </tr>\n",
       "    <tr>\n",
       "      <th>4</th>\n",
       "      <td>8694625920731541625</td>\n",
       "      <td>406</td>\n",
       "    </tr>\n",
       "  </tbody>\n",
       "</table>\n",
       "</div>"
      ],
      "text/plain": [
       "                app_id  label_id\n",
       "0  7324884708820027918       251\n",
       "1 -4494216993218550286       251\n",
       "2  6058196446775239644       406\n",
       "3  6058196446775239644       407\n",
       "4  8694625920731541625       406"
      ]
     },
     "execution_count": 100,
     "metadata": {},
     "output_type": "execute_result"
    }
   ],
   "source": [
    "#Getting an idea on how each df connects with each other\n",
    "device_brand.head()\n",
    "appevents.head()\n",
    "labelcat.head()\n",
    "eventsdf.head()\n",
    "applabeldf.head()"
   ]
  },
  {
   "cell_type": "code",
   "execution_count": 101,
   "metadata": {
    "ExecuteTime": {
     "end_time": "2018-05-09T23:08:05.609769Z",
     "start_time": "2018-05-09T23:08:05.604091Z"
    },
    "code_folding": []
   },
   "outputs": [],
   "source": [
    "#Translating Phone brand to English for easier comprehension\n",
    "translate = {'三星':'samsung','天语':'Ktouch','海信':'hisense','联想':'lenovo','欧比':'obi','爱派尔':'ipair','努比亚':'nubia',\\\n",
    "             '优米':'youmi','朵唯':'dowe','黑米':'heymi','锤子':'hammer','酷比魔方':'koobee','美图':'meitu','尼比鲁':'nibilu','一加':'oneplus','优购':'yougo',\\\n",
    "             '诺基亚':'nokia','金立':'jinli','中兴':'zhongxing','糖葫芦':'candy','中国移动':'ccmc','语信':'yuxin','基伍':'kiwu','青橙':'greeno','华硕':'asus',\\\n",
    "             '夏新':'panosonic','维图':'weitu','艾优尼':'aiyouni','摩托罗拉':'moto','乡米':'xiangmi','米奇':'micky','大可乐':'bigcola',\\\n",
    "             '沃普丰':'wpf','神舟':'hasse','摩乐':'mole','酷派':'kupai','飞秒':'fs','米歌':'mige','富可视':'fks','德赛':'desci','梦米':'mengmi','乐视':'lshi','小杨树':'smallt','纽曼':'newman','邦华':'banghua',\\\n",
    "             'E派':'epai','华为':'Huawei','小米':'xiaomi','魅族':'meizu', '易派':'epai','普耐尔':'pner','欧新':'ouxin','西米':'ximi','海尔':'haier','波导':'bodao','糯米':'nuomi','唯米':'weimi','酷珀':'kupo','谷歌':'google','昂达':'ada','聆韵': 'lingyun'}"
   ]
  },
  {
   "cell_type": "code",
   "execution_count": 102,
   "metadata": {
    "ExecuteTime": {
     "end_time": "2018-05-09T23:08:05.746189Z",
     "start_time": "2018-05-09T23:08:05.611484Z"
    }
   },
   "outputs": [],
   "source": [
    "#Translating phone brand from Chinese to English, can't map because not all models are in chinese(or in translate)\n",
    "translate_list=[]\n",
    "for index, i in enumerate(device_brand['phone_brand']):\n",
    "    if i in translate:\n",
    "        translate_list.append(translate[i])\n",
    "    else:\n",
    "        translate_list.append(i)"
   ]
  },
  {
   "cell_type": "code",
   "execution_count": 103,
   "metadata": {
    "ExecuteTime": {
     "end_time": "2018-05-09T23:08:06.022254Z",
     "start_time": "2018-05-09T23:08:05.748061Z"
    }
   },
   "outputs": [],
   "source": [
    "device_brand['phone_brand']=translate_list"
   ]
  },
  {
   "cell_type": "code",
   "execution_count": null,
   "metadata": {
    "ExecuteTime": {
     "start_time": "2018-05-09T14:21:46.352Z"
    }
   },
   "outputs": [],
   "source": [
    "#Using an offline reverse geocoder to get city and country data, also this takes a long time to run...\n",
    "counter =0\n",
    "eventsdf['city'] = ''\n",
    "tup_ls = []\n",
    "for i,j in zip(eventsdf['latitude'],eventsdf['longitude']):\n",
    "        lalong = (i,j)\n",
    "        tup_ls.append(lalong)\n",
    "\n",
    "\n"
   ]
  },
  {
   "cell_type": "code",
   "execution_count": null,
   "metadata": {
    "ExecuteTime": {
     "end_time": "2018-05-07T20:25:38.955433Z",
     "start_time": "2018-05-07T20:22:04.255Z"
    }
   },
   "outputs": [],
   "source": [
    "q_list = geo.query(tup_ls)\n",
    "name_l = []\n",
    "cc_l = []\n",
    "for q in q_list:\n",
    "    name_l.append(q['name'])\n",
    "    cc_l.append(q['cc'])"
   ]
  },
  {
   "cell_type": "code",
   "execution_count": null,
   "metadata": {
    "ExecuteTime": {
     "end_time": "2018-05-07T20:25:38.956504Z",
     "start_time": "2018-05-07T20:22:04.685Z"
    }
   },
   "outputs": [],
   "source": [
    "eventsdf['city'] = name_l\n",
    "eventsdf['cc'] = cc_l"
   ]
  },
  {
   "cell_type": "code",
   "execution_count": null,
   "metadata": {
    "ExecuteTime": {
     "end_time": "2018-05-07T20:25:38.957464Z",
     "start_time": "2018-05-07T20:22:05.254Z"
    }
   },
   "outputs": [],
   "source": [
    "#Filling NaN with none for better processing\n",
    "labelcat.fillna('None', inplace = True)"
   ]
  },
  {
   "cell_type": "code",
   "execution_count": null,
   "metadata": {
    "ExecuteTime": {
     "end_time": "2018-05-07T20:25:38.958502Z",
     "start_time": "2018-05-07T20:22:05.926Z"
    }
   },
   "outputs": [],
   "source": [
    "#Pulling out Month data\n",
    "eventsdf['time_dl'] = eventsdf['timestamp'].apply(lambda x: datetime.strptime(x, '%Y-%m-%d  %H:%M:%S').time())\n",
    "eventsdf['wkday'] = eventsdf['timestamp'].apply(lambda x: datetime.strptime(x, '%Y-%m-%d  %H:%M:%S').weekday())"
   ]
  },
  {
   "cell_type": "code",
   "execution_count": null,
   "metadata": {
    "ExecuteTime": {
     "end_time": "2018-05-07T20:25:38.959496Z",
     "start_time": "2018-05-07T20:22:06.295Z"
    }
   },
   "outputs": [],
   "source": [
    "#Writing a pickle file to save data\n",
    "\n",
    "with open('eventsdf.pkl', 'wb') as picklefile:\n",
    "    pickle.dump(eventsdf, picklefile)"
   ]
  },
  {
   "cell_type": "code",
   "execution_count": null,
   "metadata": {
    "ExecuteTime": {
     "end_time": "2018-05-07T20:25:38.960300Z",
     "start_time": "2018-05-07T20:22:06.710Z"
    }
   },
   "outputs": [],
   "source": [
    "eventsdf.shape"
   ]
  },
  {
   "cell_type": "markdown",
   "metadata": {},
   "source": [
    "## Merging the Data\n",
    "\n",
    "This section may become obsolete after I get the SQL database going, but as for now, it exists.***Delete Eventually***\n",
    "\n",
    "I will be using Inner joins to merge the data frames.  My guess is that both training and test data is in each of the auxilary columns, so I only want the intersection of the training dataframe and the auxilary dataframes.\n",
    "\n",
    "In this section, I also added some extra data.  I pulled out the datetime string and converted into into a readable datetime object.  The time of day and day of the week may not make much of a difference.  It depends on the culture of the society."
   ]
  },
  {
   "cell_type": "code",
   "execution_count": 104,
   "metadata": {
    "ExecuteTime": {
     "end_time": "2018-05-09T23:08:08.157260Z",
     "start_time": "2018-05-09T23:08:06.024241Z"
    }
   },
   "outputs": [],
   "source": [
    "#Loading DF into jupyter notebook\n",
    "eventsdf = pd.read_pickle('eventsdf.pkl')"
   ]
  },
  {
   "cell_type": "code",
   "execution_count": 105,
   "metadata": {
    "ExecuteTime": {
     "end_time": "2018-05-09T23:08:08.166187Z",
     "start_time": "2018-05-09T23:08:08.159317Z"
    }
   },
   "outputs": [],
   "source": [
    "def supermerge(dfleft):\n",
    "    result = pd.merge(dfleft, device_brand, how = 'inner', on = 'device_id')\n",
    "    result = pd.merge(result, eventsdf, how = 'inner', on = 'device_id')\n",
    "    result = pd.merge(result, appevents, how = 'inner', on = 'event_id')\n",
    "    result = pd.merge(result, applabeldf, how = 'inner', on = 'app_id')\n",
    "    result = pd.merge(result, labelcat, how = 'inner', on = 'label_id')\n",
    "    return result"
   ]
  },
  {
   "cell_type": "code",
   "execution_count": 106,
   "metadata": {
    "ExecuteTime": {
     "end_time": "2018-05-09T23:10:07.880507Z",
     "start_time": "2018-05-09T23:08:08.167920Z"
    }
   },
   "outputs": [],
   "source": [
    "traindf = supermerge(genderdf)"
   ]
  },
  {
   "cell_type": "code",
   "execution_count": 43,
   "metadata": {
    "ExecuteTime": {
     "end_time": "2018-05-09T22:13:08.795345Z",
     "start_time": "2018-05-09T22:13:08.791650Z"
    }
   },
   "outputs": [
    {
     "data": {
      "text/plain": [
       "\"testdf.drop(['longitude', 'latitude','label_id', 'timestamp', 'is_installed','device_id'], axis=1, inplace = True)\\ntestdf['app_id'] = testdf['app_id'].apply(lambda x: abs(x))\""
      ]
     },
     "execution_count": 43,
     "metadata": {},
     "output_type": "execute_result"
    }
   ],
   "source": [
    "\"\"\"testdf.drop(['longitude', 'latitude','label_id', 'timestamp', 'is_installed','device_id'], axis=1, inplace = True)\n",
    "testdf['app_id'] = testdf['app_id'].apply(lambda x: abs(x))\"\"\""
   ]
  },
  {
   "cell_type": "code",
   "execution_count": 44,
   "metadata": {
    "ExecuteTime": {
     "end_time": "2018-05-09T22:13:09.458419Z",
     "start_time": "2018-05-09T22:13:08.797796Z"
    }
   },
   "outputs": [],
   "source": [
    "traindf.drop(['gender','age', 'longitude', 'latitude','label_id', 'timestamp', 'is_installed','device_id'], axis=1, inplace = True)\n",
    "traindf.app_id = traindf.app_id.apply(lambda x: str(x))\n",
    "traindf.event_id = traindf.event_id.apply(lambda x: str(x))"
   ]
  },
  {
   "cell_type": "code",
   "execution_count": 15,
   "metadata": {
    "ExecuteTime": {
     "end_time": "2018-05-09T21:44:46.249502Z",
     "start_time": "2018-05-09T21:44:46.159670Z"
    }
   },
   "outputs": [
    {
     "ename": "NameError",
     "evalue": "name 'newtraindf' is not defined",
     "output_type": "error",
     "traceback": [
      "\u001b[0;31m---------------------------------------------------------------------------\u001b[0m",
      "\u001b[0;31mNameError\u001b[0m                                 Traceback (most recent call last)",
      "\u001b[0;32m<ipython-input-15-3b12ccd6ea2d>\u001b[0m in \u001b[0;36m<module>\u001b[0;34m()\u001b[0m\n\u001b[0;32m----> 1\u001b[0;31m \u001b[0mfig\u001b[0m \u001b[0;34m=\u001b[0m \u001b[0msns\u001b[0m\u001b[0;34m.\u001b[0m\u001b[0mdistplot\u001b[0m\u001b[0;34m(\u001b[0m\u001b[0mnewtraindf\u001b[0m\u001b[0;34m.\u001b[0m\u001b[0mgroup\u001b[0m\u001b[0;34m,\u001b[0m \u001b[0mkde\u001b[0m\u001b[0;34m=\u001b[0m\u001b[0;32mFalse\u001b[0m\u001b[0;34m)\u001b[0m\u001b[0;34m\u001b[0m\u001b[0m\n\u001b[0m\u001b[1;32m      2\u001b[0m \u001b[0mfig\u001b[0m\u001b[0;34m.\u001b[0m\u001b[0mset_xticklabels\u001b[0m\u001b[0;34m(\u001b[0m\u001b[0mclas\u001b[0m\u001b[0;34m,\u001b[0m\u001b[0mrotation\u001b[0m\u001b[0;34m=\u001b[0m\u001b[0;36m45\u001b[0m\u001b[0;34m)\u001b[0m\u001b[0;34m\u001b[0m\u001b[0m\n\u001b[1;32m      3\u001b[0m \u001b[0mfig\u001b[0m\u001b[0;34m.\u001b[0m\u001b[0mset\u001b[0m\u001b[0;34m(\u001b[0m\u001b[0mxlim\u001b[0m \u001b[0;34m=\u001b[0m \u001b[0;34m(\u001b[0m\u001b[0;36m0\u001b[0m\u001b[0;34m,\u001b[0m\u001b[0;36m12\u001b[0m\u001b[0;34m)\u001b[0m\u001b[0;34m,\u001b[0m \u001b[0mxticks\u001b[0m \u001b[0;34m=\u001b[0m \u001b[0mrange\u001b[0m\u001b[0;34m(\u001b[0m\u001b[0;36m12\u001b[0m\u001b[0;34m)\u001b[0m\u001b[0;34m)\u001b[0m\u001b[0;34m\u001b[0m\u001b[0m\n\u001b[1;32m      4\u001b[0m \u001b[0mplt\u001b[0m\u001b[0;34m.\u001b[0m\u001b[0mshow\u001b[0m\u001b[0;34m(\u001b[0m\u001b[0;34m)\u001b[0m\u001b[0;34m\u001b[0m\u001b[0m\n",
      "\u001b[0;31mNameError\u001b[0m: name 'newtraindf' is not defined"
     ]
    }
   ],
   "source": [
    "fig = sns.distplot(newtraindf.group, kde=False)\n",
    "fig.set_xticklabels(clas,rotation=45)\n",
    "fig.set(xlim = (0,12), xticks = range(12))\n",
    "plt.show()"
   ]
  },
  {
   "cell_type": "code",
   "execution_count": 16,
   "metadata": {
    "ExecuteTime": {
     "end_time": "2018-05-09T21:44:59.832353Z",
     "start_time": "2018-05-09T21:44:59.779100Z"
    },
    "scrolled": true
   },
   "outputs": [
    {
     "data": {
      "text/html": [
       "<div>\n",
       "<style scoped>\n",
       "    .dataframe tbody tr th:only-of-type {\n",
       "        vertical-align: middle;\n",
       "    }\n",
       "\n",
       "    .dataframe tbody tr th {\n",
       "        vertical-align: top;\n",
       "    }\n",
       "\n",
       "    .dataframe thead th {\n",
       "        text-align: right;\n",
       "    }\n",
       "</style>\n",
       "<table border=\"1\" class=\"dataframe\">\n",
       "  <thead>\n",
       "    <tr style=\"text-align: right;\">\n",
       "      <th></th>\n",
       "      <th>group</th>\n",
       "      <th>phone_brand</th>\n",
       "      <th>device_model</th>\n",
       "      <th>event_id</th>\n",
       "      <th>city</th>\n",
       "      <th>cc</th>\n",
       "      <th>time_dl</th>\n",
       "      <th>wkday</th>\n",
       "      <th>app_id</th>\n",
       "      <th>is_active</th>\n",
       "      <th>category</th>\n",
       "    </tr>\n",
       "  </thead>\n",
       "  <tbody>\n",
       "    <tr>\n",
       "      <th>0</th>\n",
       "      <td>M32-38</td>\n",
       "      <td>小米</td>\n",
       "      <td>MI 2</td>\n",
       "      <td>2479656</td>\n",
       "      <td>Takoradi</td>\n",
       "      <td>GH</td>\n",
       "      <td>14:23:37</td>\n",
       "      <td>6</td>\n",
       "      <td>4287147352639325907</td>\n",
       "      <td>0</td>\n",
       "      <td>Services 1</td>\n",
       "    </tr>\n",
       "    <tr>\n",
       "      <th>1</th>\n",
       "      <td>F23-</td>\n",
       "      <td>vivo</td>\n",
       "      <td>X3T</td>\n",
       "      <td>1870098</td>\n",
       "      <td>Haoxinying</td>\n",
       "      <td>CN</td>\n",
       "      <td>06:56:52</td>\n",
       "      <td>2</td>\n",
       "      <td>4287147352639325907</td>\n",
       "      <td>0</td>\n",
       "      <td>Services 1</td>\n",
       "    </tr>\n",
       "    <tr>\n",
       "      <th>2</th>\n",
       "      <td>M27-28</td>\n",
       "      <td>三星</td>\n",
       "      <td>Galaxy Note 2</td>\n",
       "      <td>225143</td>\n",
       "      <td>Takoradi</td>\n",
       "      <td>GH</td>\n",
       "      <td>12:15:46</td>\n",
       "      <td>6</td>\n",
       "      <td>4287147352639325907</td>\n",
       "      <td>0</td>\n",
       "      <td>Services 1</td>\n",
       "    </tr>\n",
       "    <tr>\n",
       "      <th>3</th>\n",
       "      <td>M27-28</td>\n",
       "      <td>三星</td>\n",
       "      <td>Galaxy Note 2</td>\n",
       "      <td>1806193</td>\n",
       "      <td>Takoradi</td>\n",
       "      <td>GH</td>\n",
       "      <td>17:54:26</td>\n",
       "      <td>6</td>\n",
       "      <td>4287147352639325907</td>\n",
       "      <td>0</td>\n",
       "      <td>Services 1</td>\n",
       "    </tr>\n",
       "    <tr>\n",
       "      <th>4</th>\n",
       "      <td>M27-28</td>\n",
       "      <td>三星</td>\n",
       "      <td>Galaxy S4</td>\n",
       "      <td>1555772</td>\n",
       "      <td>Mumford</td>\n",
       "      <td>GH</td>\n",
       "      <td>18:13:28</td>\n",
       "      <td>4</td>\n",
       "      <td>4287147352639325907</td>\n",
       "      <td>1</td>\n",
       "      <td>Services 1</td>\n",
       "    </tr>\n",
       "  </tbody>\n",
       "</table>\n",
       "</div>"
      ],
      "text/plain": [
       "    group phone_brand   device_model event_id        city  cc   time_dl  \\\n",
       "0  M32-38          小米           MI 2  2479656    Takoradi  GH  14:23:37   \n",
       "1    F23-        vivo            X3T  1870098  Haoxinying  CN  06:56:52   \n",
       "2  M27-28          三星  Galaxy Note 2   225143    Takoradi  GH  12:15:46   \n",
       "3  M27-28          三星  Galaxy Note 2  1806193    Takoradi  GH  17:54:26   \n",
       "4  M27-28          三星      Galaxy S4  1555772     Mumford  GH  18:13:28   \n",
       "\n",
       "   wkday               app_id  is_active    category  \n",
       "0      6  4287147352639325907          0  Services 1  \n",
       "1      2  4287147352639325907          0  Services 1  \n",
       "2      6  4287147352639325907          0  Services 1  \n",
       "3      6  4287147352639325907          0  Services 1  \n",
       "4      4  4287147352639325907          1  Services 1  "
      ]
     },
     "execution_count": 16,
     "metadata": {},
     "output_type": "execute_result"
    },
    {
     "data": {
      "text/html": [
       "<div>\n",
       "<style scoped>\n",
       "    .dataframe tbody tr th:only-of-type {\n",
       "        vertical-align: middle;\n",
       "    }\n",
       "\n",
       "    .dataframe tbody tr th {\n",
       "        vertical-align: top;\n",
       "    }\n",
       "\n",
       "    .dataframe thead th {\n",
       "        text-align: right;\n",
       "    }\n",
       "</style>\n",
       "<table border=\"1\" class=\"dataframe\">\n",
       "  <thead>\n",
       "    <tr style=\"text-align: right;\">\n",
       "      <th></th>\n",
       "      <th>device_id</th>\n",
       "    </tr>\n",
       "  </thead>\n",
       "  <tbody>\n",
       "    <tr>\n",
       "      <th>0</th>\n",
       "      <td>1002079943728939269</td>\n",
       "    </tr>\n",
       "    <tr>\n",
       "      <th>1</th>\n",
       "      <td>-1547860181818787117</td>\n",
       "    </tr>\n",
       "    <tr>\n",
       "      <th>2</th>\n",
       "      <td>7374582448058474277</td>\n",
       "    </tr>\n",
       "    <tr>\n",
       "      <th>3</th>\n",
       "      <td>-6220210354783429585</td>\n",
       "    </tr>\n",
       "    <tr>\n",
       "      <th>4</th>\n",
       "      <td>-5893464122623104785</td>\n",
       "    </tr>\n",
       "  </tbody>\n",
       "</table>\n",
       "</div>"
      ],
      "text/plain": [
       "             device_id\n",
       "0  1002079943728939269\n",
       "1 -1547860181818787117\n",
       "2  7374582448058474277\n",
       "3 -6220210354783429585\n",
       "4 -5893464122623104785"
      ]
     },
     "execution_count": 16,
     "metadata": {},
     "output_type": "execute_result"
    }
   ],
   "source": [
    "traindf.head()\n",
    "testdf.head()"
   ]
  },
  {
   "cell_type": "markdown",
   "metadata": {},
   "source": [
    "## Preprocessing\n",
    "\n",
    "The data has many categorical variables that we are using, so a little preprocessing is needed.  I will be using OneHotEncoder to do this for me."
   ]
  },
  {
   "cell_type": "code",
   "execution_count": 45,
   "metadata": {
    "ExecuteTime": {
     "end_time": "2018-05-09T22:13:19.117467Z",
     "start_time": "2018-05-09T22:13:19.114420Z"
    }
   },
   "outputs": [],
   "source": [
    "from sklearn import preprocessing\n",
    "import patsy\n",
    "enc = preprocessing.OneHotEncoder(sparse=False)"
   ]
  },
  {
   "cell_type": "code",
   "execution_count": 46,
   "metadata": {
    "ExecuteTime": {
     "end_time": "2018-05-09T22:13:19.814888Z",
     "start_time": "2018-05-09T22:13:19.809758Z"
    }
   },
   "outputs": [],
   "source": [
    "def trans(df):\n",
    "    for column in df.columns:\n",
    "        if df[column].dtype == type(object):\n",
    "            le = preprocessing.LabelEncoder()\n",
    "            df[column] = le.fit_transform(df[column])\n",
    "    return df"
   ]
  },
  {
   "cell_type": "code",
   "execution_count": 47,
   "metadata": {
    "ExecuteTime": {
     "end_time": "2018-05-09T22:13:23.381203Z",
     "start_time": "2018-05-09T22:13:20.657609Z"
    }
   },
   "outputs": [],
   "source": [
    "newtraindf = trans(traindf)"
   ]
  },
  {
   "cell_type": "code",
   "execution_count": 48,
   "metadata": {
    "ExecuteTime": {
     "end_time": "2018-05-09T22:15:32.580089Z",
     "start_time": "2018-05-09T22:13:24.953512Z"
    }
   },
   "outputs": [],
   "source": [
    "#OHE lines\n",
    "newdf= enc.fit_transform(traindf[['phone_brand', 'device_model', 'event_id', 'city', 'cc','wkday', 'app_id', 'category']])\n",
    "newdf = pd.DataFrame(newdf)\n",
    "newdf = newtraindf.join(newdf)"
   ]
  },
  {
   "cell_type": "code",
   "execution_count": 49,
   "metadata": {
    "ExecuteTime": {
     "end_time": "2018-05-09T22:15:32.735474Z",
     "start_time": "2018-05-09T22:15:32.597399Z"
    },
    "code_folding": []
   },
   "outputs": [],
   "source": [
    "col_name = ['phone_brand', 'device_model', 'event_id', 'city', 'cc','wkday', 'app_id', 'category']\n",
    "col_name2=[]\n",
    "for i in col_name:\n",
    "    for ind,j in enumerate(range(len(newdf[i].unique()))):\n",
    "        col_name2.append(i + ' ' + str(ind))\n",
    "    \n",
    "    \n",
    "    "
   ]
  },
  {
   "cell_type": "code",
   "execution_count": 50,
   "metadata": {
    "ExecuteTime": {
     "end_time": "2018-05-09T22:15:32.745943Z",
     "start_time": "2018-05-09T22:15:32.739579Z"
    }
   },
   "outputs": [],
   "source": [
    "col_name = ['group', 'phone_brand', 'device_model', 'event_id', 'city', 'cc','time_dl', 'wkday', 'app_id', 'is_active', 'category']"
   ]
  },
  {
   "cell_type": "code",
   "execution_count": 51,
   "metadata": {
    "ExecuteTime": {
     "end_time": "2018-05-09T22:16:09.709253Z",
     "start_time": "2018-05-09T22:15:32.748852Z"
    }
   },
   "outputs": [],
   "source": [
    "newdf.columns = (col_name+col_name2)\n",
    "newdf = newdf.drop(['phone_brand', 'device_model', 'event_id', 'city', 'cc','wkday', 'app_id', 'category'], axis=1)"
   ]
  },
  {
   "cell_type": "code",
   "execution_count": 29,
   "metadata": {
    "ExecuteTime": {
     "end_time": "2018-05-09T17:25:53.142934Z",
     "start_time": "2018-05-09T17:25:53.091779Z"
    }
   },
   "outputs": [
    {
     "data": {
      "text/html": [
       "<div>\n",
       "<style scoped>\n",
       "    .dataframe tbody tr th:only-of-type {\n",
       "        vertical-align: middle;\n",
       "    }\n",
       "\n",
       "    .dataframe tbody tr th {\n",
       "        vertical-align: top;\n",
       "    }\n",
       "\n",
       "    .dataframe thead th {\n",
       "        text-align: right;\n",
       "    }\n",
       "</style>\n",
       "<table border=\"1\" class=\"dataframe\">\n",
       "  <thead>\n",
       "    <tr style=\"text-align: right;\">\n",
       "      <th></th>\n",
       "      <th>group</th>\n",
       "      <th>time_dl</th>\n",
       "      <th>is_active</th>\n",
       "      <th>phone_brand 0</th>\n",
       "      <th>phone_brand 1</th>\n",
       "      <th>phone_brand 2</th>\n",
       "      <th>phone_brand 3</th>\n",
       "      <th>phone_brand 4</th>\n",
       "      <th>phone_brand 5</th>\n",
       "      <th>phone_brand 6</th>\n",
       "      <th>...</th>\n",
       "      <th>category 315</th>\n",
       "      <th>category 316</th>\n",
       "      <th>category 317</th>\n",
       "      <th>category 318</th>\n",
       "      <th>category 319</th>\n",
       "      <th>category 320</th>\n",
       "      <th>category 321</th>\n",
       "      <th>category 322</th>\n",
       "      <th>category 323</th>\n",
       "      <th>category 324</th>\n",
       "    </tr>\n",
       "  </thead>\n",
       "  <tbody>\n",
       "    <tr>\n",
       "      <th>0</th>\n",
       "      <td>3</td>\n",
       "      <td>2977</td>\n",
       "      <td>1</td>\n",
       "      <td>0.0</td>\n",
       "      <td>0.0</td>\n",
       "      <td>0.0</td>\n",
       "      <td>0.0</td>\n",
       "      <td>0.0</td>\n",
       "      <td>0.0</td>\n",
       "      <td>0.0</td>\n",
       "      <td>...</td>\n",
       "      <td>0.0</td>\n",
       "      <td>0.0</td>\n",
       "      <td>0.0</td>\n",
       "      <td>0.0</td>\n",
       "      <td>0.0</td>\n",
       "      <td>0.0</td>\n",
       "      <td>0.0</td>\n",
       "      <td>0.0</td>\n",
       "      <td>0.0</td>\n",
       "      <td>0.0</td>\n",
       "    </tr>\n",
       "    <tr>\n",
       "      <th>1</th>\n",
       "      <td>11</td>\n",
       "      <td>2448</td>\n",
       "      <td>1</td>\n",
       "      <td>0.0</td>\n",
       "      <td>0.0</td>\n",
       "      <td>0.0</td>\n",
       "      <td>0.0</td>\n",
       "      <td>0.0</td>\n",
       "      <td>0.0</td>\n",
       "      <td>0.0</td>\n",
       "      <td>...</td>\n",
       "      <td>0.0</td>\n",
       "      <td>0.0</td>\n",
       "      <td>0.0</td>\n",
       "      <td>0.0</td>\n",
       "      <td>0.0</td>\n",
       "      <td>0.0</td>\n",
       "      <td>0.0</td>\n",
       "      <td>0.0</td>\n",
       "      <td>0.0</td>\n",
       "      <td>0.0</td>\n",
       "    </tr>\n",
       "    <tr>\n",
       "      <th>2</th>\n",
       "      <td>10</td>\n",
       "      <td>1643</td>\n",
       "      <td>1</td>\n",
       "      <td>0.0</td>\n",
       "      <td>0.0</td>\n",
       "      <td>0.0</td>\n",
       "      <td>0.0</td>\n",
       "      <td>0.0</td>\n",
       "      <td>0.0</td>\n",
       "      <td>0.0</td>\n",
       "      <td>...</td>\n",
       "      <td>0.0</td>\n",
       "      <td>0.0</td>\n",
       "      <td>0.0</td>\n",
       "      <td>0.0</td>\n",
       "      <td>0.0</td>\n",
       "      <td>0.0</td>\n",
       "      <td>0.0</td>\n",
       "      <td>0.0</td>\n",
       "      <td>0.0</td>\n",
       "      <td>0.0</td>\n",
       "    </tr>\n",
       "    <tr>\n",
       "      <th>3</th>\n",
       "      <td>10</td>\n",
       "      <td>523</td>\n",
       "      <td>0</td>\n",
       "      <td>0.0</td>\n",
       "      <td>0.0</td>\n",
       "      <td>0.0</td>\n",
       "      <td>0.0</td>\n",
       "      <td>0.0</td>\n",
       "      <td>0.0</td>\n",
       "      <td>0.0</td>\n",
       "      <td>...</td>\n",
       "      <td>0.0</td>\n",
       "      <td>0.0</td>\n",
       "      <td>0.0</td>\n",
       "      <td>0.0</td>\n",
       "      <td>0.0</td>\n",
       "      <td>0.0</td>\n",
       "      <td>0.0</td>\n",
       "      <td>0.0</td>\n",
       "      <td>0.0</td>\n",
       "      <td>0.0</td>\n",
       "    </tr>\n",
       "    <tr>\n",
       "      <th>4</th>\n",
       "      <td>10</td>\n",
       "      <td>1402</td>\n",
       "      <td>1</td>\n",
       "      <td>0.0</td>\n",
       "      <td>0.0</td>\n",
       "      <td>0.0</td>\n",
       "      <td>0.0</td>\n",
       "      <td>0.0</td>\n",
       "      <td>0.0</td>\n",
       "      <td>0.0</td>\n",
       "      <td>...</td>\n",
       "      <td>0.0</td>\n",
       "      <td>0.0</td>\n",
       "      <td>0.0</td>\n",
       "      <td>0.0</td>\n",
       "      <td>0.0</td>\n",
       "      <td>0.0</td>\n",
       "      <td>0.0</td>\n",
       "      <td>0.0</td>\n",
       "      <td>0.0</td>\n",
       "      <td>0.0</td>\n",
       "    </tr>\n",
       "  </tbody>\n",
       "</table>\n",
       "<p>5 rows × 5340 columns</p>\n",
       "</div>"
      ],
      "text/plain": [
       "   group  time_dl  is_active  phone_brand 0  phone_brand 1  phone_brand 2  \\\n",
       "0      3     2977          1            0.0            0.0            0.0   \n",
       "1     11     2448          1            0.0            0.0            0.0   \n",
       "2     10     1643          1            0.0            0.0            0.0   \n",
       "3     10      523          0            0.0            0.0            0.0   \n",
       "4     10     1402          1            0.0            0.0            0.0   \n",
       "\n",
       "   phone_brand 3  phone_brand 4  phone_brand 5  phone_brand 6      ...       \\\n",
       "0            0.0            0.0            0.0            0.0      ...        \n",
       "1            0.0            0.0            0.0            0.0      ...        \n",
       "2            0.0            0.0            0.0            0.0      ...        \n",
       "3            0.0            0.0            0.0            0.0      ...        \n",
       "4            0.0            0.0            0.0            0.0      ...        \n",
       "\n",
       "   category 315  category 316  category 317  category 318  category 319  \\\n",
       "0           0.0           0.0           0.0           0.0           0.0   \n",
       "1           0.0           0.0           0.0           0.0           0.0   \n",
       "2           0.0           0.0           0.0           0.0           0.0   \n",
       "3           0.0           0.0           0.0           0.0           0.0   \n",
       "4           0.0           0.0           0.0           0.0           0.0   \n",
       "\n",
       "   category 320  category 321  category 322  category 323  category 324  \n",
       "0           0.0           0.0           0.0           0.0           0.0  \n",
       "1           0.0           0.0           0.0           0.0           0.0  \n",
       "2           0.0           0.0           0.0           0.0           0.0  \n",
       "3           0.0           0.0           0.0           0.0           0.0  \n",
       "4           0.0           0.0           0.0           0.0           0.0  \n",
       "\n",
       "[5 rows x 5340 columns]"
      ]
     },
     "execution_count": 29,
     "metadata": {},
     "output_type": "execute_result"
    }
   ],
   "source": [
    "newdf.head()\n"
   ]
  },
  {
   "cell_type": "code",
   "execution_count": null,
   "metadata": {},
   "outputs": [],
   "source": [
    "y = newdf['group']\n",
    "X= newdf.drop(['group'], axis=1)"
   ]
  },
  {
   "cell_type": "code",
   "execution_count": 13,
   "metadata": {
    "ExecuteTime": {
     "end_time": "2018-05-09T21:32:39.383839Z",
     "start_time": "2018-05-09T21:32:38.919308Z"
    }
   },
   "outputs": [
    {
     "ename": "NameError",
     "evalue": "name 'X' is not defined",
     "output_type": "error",
     "traceback": [
      "\u001b[0;31m---------------------------------------------------------------------------\u001b[0m",
      "\u001b[0;31mNameError\u001b[0m                                 Traceback (most recent call last)",
      "\u001b[0;32m<ipython-input-13-bb4afebd053a>\u001b[0m in \u001b[0;36m<module>\u001b[0;34m()\u001b[0m\n\u001b[1;32m      1\u001b[0m \u001b[0;32mfrom\u001b[0m \u001b[0msklearn\u001b[0m\u001b[0;34m.\u001b[0m\u001b[0mmodel_selection\u001b[0m \u001b[0;32mimport\u001b[0m \u001b[0mGroupShuffleSplit\u001b[0m\u001b[0;34m\u001b[0m\u001b[0m\n\u001b[1;32m      2\u001b[0m \u001b[0mgss\u001b[0m \u001b[0;34m=\u001b[0m \u001b[0mGroupShuffleSplit\u001b[0m\u001b[0;34m(\u001b[0m\u001b[0mn_splits\u001b[0m \u001b[0;34m=\u001b[0m \u001b[0;36m12\u001b[0m\u001b[0;34m,\u001b[0m\u001b[0mtest_size\u001b[0m \u001b[0;34m=\u001b[0m \u001b[0;36m.2\u001b[0m\u001b[0;34m)\u001b[0m\u001b[0;34m\u001b[0m\u001b[0m\n\u001b[0;32m----> 3\u001b[0;31m \u001b[0msplits\u001b[0m \u001b[0;34m=\u001b[0m \u001b[0mgss\u001b[0m\u001b[0;34m.\u001b[0m\u001b[0msplit\u001b[0m\u001b[0;34m(\u001b[0m\u001b[0mX\u001b[0m\u001b[0;34m,\u001b[0m\u001b[0my\u001b[0m\u001b[0;34m,\u001b[0m\u001b[0mclas\u001b[0m\u001b[0;34m)\u001b[0m\u001b[0;34m\u001b[0m\u001b[0m\n\u001b[0m",
      "\u001b[0;31mNameError\u001b[0m: name 'X' is not defined"
     ]
    }
   ],
   "source": [
    "from sklearn.model_selection import GroupShuffleSplit\n",
    "gss = GroupShuffleSplit(n_splits = 12,test_size = .2)\n",
    "splits = gss.split(X,y,groups = range(len(X.phone_brand.unique())))"
   ]
  },
  {
   "cell_type": "code",
   "execution_count": 50,
   "metadata": {
    "ExecuteTime": {
     "end_time": "2018-05-09T20:53:02.919304Z",
     "start_time": "2018-05-09T20:53:02.905239Z"
    }
   },
   "outputs": [
    {
     "ename": "ValueError",
     "evalue": "Found input variables with inconsistent numbers of samples: [441034, 441034, 12]",
     "output_type": "error",
     "traceback": [
      "\u001b[0;31m---------------------------------------------------------------------------\u001b[0m",
      "\u001b[0;31mValueError\u001b[0m                                Traceback (most recent call last)",
      "\u001b[0;32m<ipython-input-50-9d474655e038>\u001b[0m in \u001b[0;36m<module>\u001b[0;34m()\u001b[0m\n\u001b[0;32m----> 1\u001b[0;31m \u001b[0;32mfor\u001b[0m \u001b[0mtrain_idx\u001b[0m\u001b[0;34m,\u001b[0m \u001b[0mval_idx\u001b[0m \u001b[0;32min\u001b[0m \u001b[0msplits\u001b[0m\u001b[0;34m:\u001b[0m\u001b[0;34m\u001b[0m\u001b[0m\n\u001b[0m\u001b[1;32m      2\u001b[0m     \u001b[0mprint\u001b[0m\u001b[0;34m(\u001b[0m\u001b[0mtrain_idx\u001b[0m\u001b[0;34m)\u001b[0m\u001b[0;34m\u001b[0m\u001b[0m\n\u001b[1;32m      3\u001b[0m     \u001b[0mprint\u001b[0m\u001b[0;34m(\u001b[0m\u001b[0mcal_idx\u001b[0m\u001b[0;34m)\u001b[0m\u001b[0;34m\u001b[0m\u001b[0m\n",
      "\u001b[0;32m/anaconda3/lib/python3.6/site-packages/sklearn/model_selection/_split.py\u001b[0m in \u001b[0;36msplit\u001b[0;34m(self, X, y, groups)\u001b[0m\n\u001b[1;32m   1201\u001b[0m         \u001b[0mto\u001b[0m \u001b[0man\u001b[0m \u001b[0minteger\u001b[0m\u001b[0;34m.\u001b[0m\u001b[0;34m\u001b[0m\u001b[0m\n\u001b[1;32m   1202\u001b[0m         \"\"\"\n\u001b[0;32m-> 1203\u001b[0;31m         \u001b[0mX\u001b[0m\u001b[0;34m,\u001b[0m \u001b[0my\u001b[0m\u001b[0;34m,\u001b[0m \u001b[0mgroups\u001b[0m \u001b[0;34m=\u001b[0m \u001b[0mindexable\u001b[0m\u001b[0;34m(\u001b[0m\u001b[0mX\u001b[0m\u001b[0;34m,\u001b[0m \u001b[0my\u001b[0m\u001b[0;34m,\u001b[0m \u001b[0mgroups\u001b[0m\u001b[0;34m)\u001b[0m\u001b[0;34m\u001b[0m\u001b[0m\n\u001b[0m\u001b[1;32m   1204\u001b[0m         \u001b[0;32mfor\u001b[0m \u001b[0mtrain\u001b[0m\u001b[0;34m,\u001b[0m \u001b[0mtest\u001b[0m \u001b[0;32min\u001b[0m \u001b[0mself\u001b[0m\u001b[0;34m.\u001b[0m\u001b[0m_iter_indices\u001b[0m\u001b[0;34m(\u001b[0m\u001b[0mX\u001b[0m\u001b[0;34m,\u001b[0m \u001b[0my\u001b[0m\u001b[0;34m,\u001b[0m \u001b[0mgroups\u001b[0m\u001b[0;34m)\u001b[0m\u001b[0;34m:\u001b[0m\u001b[0;34m\u001b[0m\u001b[0m\n\u001b[1;32m   1205\u001b[0m             \u001b[0;32myield\u001b[0m \u001b[0mtrain\u001b[0m\u001b[0;34m,\u001b[0m \u001b[0mtest\u001b[0m\u001b[0;34m\u001b[0m\u001b[0m\n",
      "\u001b[0;32m/anaconda3/lib/python3.6/site-packages/sklearn/utils/validation.py\u001b[0m in \u001b[0;36mindexable\u001b[0;34m(*iterables)\u001b[0m\n\u001b[1;32m    227\u001b[0m         \u001b[0;32melse\u001b[0m\u001b[0;34m:\u001b[0m\u001b[0;34m\u001b[0m\u001b[0m\n\u001b[1;32m    228\u001b[0m             \u001b[0mresult\u001b[0m\u001b[0;34m.\u001b[0m\u001b[0mappend\u001b[0m\u001b[0;34m(\u001b[0m\u001b[0mnp\u001b[0m\u001b[0;34m.\u001b[0m\u001b[0marray\u001b[0m\u001b[0;34m(\u001b[0m\u001b[0mX\u001b[0m\u001b[0;34m)\u001b[0m\u001b[0;34m)\u001b[0m\u001b[0;34m\u001b[0m\u001b[0m\n\u001b[0;32m--> 229\u001b[0;31m     \u001b[0mcheck_consistent_length\u001b[0m\u001b[0;34m(\u001b[0m\u001b[0;34m*\u001b[0m\u001b[0mresult\u001b[0m\u001b[0;34m)\u001b[0m\u001b[0;34m\u001b[0m\u001b[0m\n\u001b[0m\u001b[1;32m    230\u001b[0m     \u001b[0;32mreturn\u001b[0m \u001b[0mresult\u001b[0m\u001b[0;34m\u001b[0m\u001b[0m\n\u001b[1;32m    231\u001b[0m \u001b[0;34m\u001b[0m\u001b[0m\n",
      "\u001b[0;32m/anaconda3/lib/python3.6/site-packages/sklearn/utils/validation.py\u001b[0m in \u001b[0;36mcheck_consistent_length\u001b[0;34m(*arrays)\u001b[0m\n\u001b[1;32m    202\u001b[0m     \u001b[0;32mif\u001b[0m \u001b[0mlen\u001b[0m\u001b[0;34m(\u001b[0m\u001b[0muniques\u001b[0m\u001b[0;34m)\u001b[0m \u001b[0;34m>\u001b[0m \u001b[0;36m1\u001b[0m\u001b[0;34m:\u001b[0m\u001b[0;34m\u001b[0m\u001b[0m\n\u001b[1;32m    203\u001b[0m         raise ValueError(\"Found input variables with inconsistent numbers of\"\n\u001b[0;32m--> 204\u001b[0;31m                          \" samples: %r\" % [int(l) for l in lengths])\n\u001b[0m\u001b[1;32m    205\u001b[0m \u001b[0;34m\u001b[0m\u001b[0m\n\u001b[1;32m    206\u001b[0m \u001b[0;34m\u001b[0m\u001b[0m\n",
      "\u001b[0;31mValueError\u001b[0m: Found input variables with inconsistent numbers of samples: [441034, 441034, 12]"
     ]
    }
   ],
   "source": [
    "for train_idx, val_idx in splits:\n",
    "    print(train_idx)\n",
    "    print(cal_idx)"
   ]
  },
  {
   "cell_type": "code",
   "execution_count": 53,
   "metadata": {
    "ExecuteTime": {
     "end_time": "2018-05-09T22:26:04.830048Z",
     "start_time": "2018-05-09T22:24:22.736867Z"
    },
    "code_folding": []
   },
   "outputs": [],
   "source": [
    "\n",
    "#split X and y into training and testing sets\n",
    "y = newdf['group']\n",
    "X= newdf.drop(['group'], axis=1)\n",
    "from sklearn.model_selection import train_test_split\n",
    "X_train2, X_test2, y_train2, y_test2 = train_test_split(X, y, test_size=0.5, random_state=42, stratify = y)"
   ]
  },
  {
   "cell_type": "markdown",
   "metadata": {},
   "source": [
    "## Logistic Classification Analysis\n",
    "\n",
    "The amount of data in the dataframe will make most of the analysis long.  There are 79 million observations, and even splitting it up will make it hard.  Some of the data is in different countries, so dividing it into subsections such as Country, City and Device Brand may make it easier for analysis.  "
   ]
  },
  {
   "cell_type": "code",
   "execution_count": 55,
   "metadata": {
    "ExecuteTime": {
     "end_time": "2018-05-09T22:32:10.633308Z",
     "start_time": "2018-05-09T22:31:45.818657Z"
    }
   },
   "outputs": [],
   "source": [
    "#STEP 1: split X and y into training and testing sets\n",
    "X_train, X_test, y_train, y_test = train_test_split(X_train2, y_train2, test_size=0.3, random_state=65, stratify=y_train2)"
   ]
  },
  {
   "cell_type": "code",
   "execution_count": 56,
   "metadata": {
    "ExecuteTime": {
     "end_time": "2018-05-09T22:32:37.376144Z",
     "start_time": "2018-05-09T22:32:37.006811Z"
    },
    "scrolled": true
   },
   "outputs": [],
   "source": [
    "from sklearn.linear_model import LogisticRegression\n",
    "from sklearn.metrics import accuracy_score, confusion_matrix, f1_score\n",
    "from sklearn.model_selection import StratifiedKFold\n",
    "sfk = StratifiedKFold(n_splits=3)"
   ]
  },
  {
   "cell_type": "code",
   "execution_count": 57,
   "metadata": {
    "ExecuteTime": {
     "end_time": "2018-05-09T22:32:38.572204Z",
     "start_time": "2018-05-09T22:32:38.569563Z"
    }
   },
   "outputs": [],
   "source": [
    "logit = LogisticRegression()\n",
    "score=[]"
   ]
  },
  {
   "cell_type": "code",
   "execution_count": null,
   "metadata": {},
   "outputs": [],
   "source": [
    "for train_index, test_index in skf.split(X, y):\n",
    "    X_train, X_test = X[train_index], X[test_index]\n",
    "    y_train, y_test = y[train_index], y[test_index]\n",
    "    logit.fit(X_train, y_train)\n",
    "    score.append(f1_score(y_test, y_pred, average='micro'))"
   ]
  },
  {
   "cell_type": "code",
   "execution_count": 58,
   "metadata": {
    "ExecuteTime": {
     "end_time": "2018-05-09T22:33:49.231630Z",
     "start_time": "2018-05-09T22:32:41.231970Z"
    }
   },
   "outputs": [
    {
     "data": {
      "text/plain": [
       "LogisticRegression(C=1.0, class_weight=None, dual=False, fit_intercept=True,\n",
       "          intercept_scaling=1, max_iter=100, multi_class='ovr', n_jobs=1,\n",
       "          penalty='l2', random_state=None, solver='liblinear', tol=0.0001,\n",
       "          verbose=0, warm_start=False)"
      ]
     },
     "execution_count": 58,
     "metadata": {},
     "output_type": "execute_result"
    }
   ],
   "source": [
    "logit.fit(X_train, y_train)"
   ]
  },
  {
   "cell_type": "code",
   "execution_count": 59,
   "metadata": {
    "ExecuteTime": {
     "end_time": "2018-05-09T22:33:53.618234Z",
     "start_time": "2018-05-09T22:33:49.235946Z"
    }
   },
   "outputs": [],
   "source": [
    "y_pred = logit.predict(X_test)"
   ]
  },
  {
   "cell_type": "code",
   "execution_count": 45,
   "metadata": {
    "ExecuteTime": {
     "end_time": "2018-05-09T00:21:12.781120Z",
     "start_time": "2018-05-09T00:21:12.747465Z"
    }
   },
   "outputs": [
    {
     "data": {
      "text/plain": [
       "0.9932734748170989"
      ]
     },
     "execution_count": 45,
     "metadata": {},
     "output_type": "execute_result"
    }
   ],
   "source": [
    "f1_score(y_test, y_pred, average='micro')"
   ]
  },
  {
   "cell_type": "code",
   "execution_count": 46,
   "metadata": {
    "ExecuteTime": {
     "end_time": "2018-05-09T00:21:12.846588Z",
     "start_time": "2018-05-09T00:21:12.783431Z"
    }
   },
   "outputs": [
    {
     "data": {
      "text/plain": [
       "array([[ 1125,     0,     0,     0,     0,     0,     0,     0,     0,\n",
       "            0,     0,     0],\n",
       "       [    0,  1676,     0,     0,     0,     0,     0,     0,     0,\n",
       "            0,     4,     0],\n",
       "       [    0,     0,  1269,     0,     0,     0,     0,     0,     0,\n",
       "            0,     0,     0],\n",
       "       [    0,     0,     0,  2826,     0,     0,     0,     2,     0,\n",
       "           25,     0,     0],\n",
       "       [    0,     0,     0,     8,  2917,     0,     0,    76,     0,\n",
       "           20,     5,     0],\n",
       "       [    0,     0,     0,     0,     0,  2694,     0,     0,     0,\n",
       "            0,     0,     0],\n",
       "       [    0,     0,     0,     0,     0,     0,   440,     0,     0,\n",
       "            0,     0,     0],\n",
       "       [    0,     0,     0,     0,     0,     0,     0,  6458,     0,\n",
       "           57,    27,     0],\n",
       "       [    0,     0,     0,     0,    11,     0,     0,    11,  3259,\n",
       "            0,     0,     0],\n",
       "       [    0,     0,     0,     0,     1,     0,     0,    31,     0,\n",
       "         9512,     0,     6],\n",
       "       [    0,     0,     0,     1,     0,     0,     0,     8,     0,\n",
       "            0, 23102,     0],\n",
       "       [    0,     0,     1,     0,   131,     0,     0,     0,    20,\n",
       "            0,     0, 10433]])"
      ]
     },
     "execution_count": 46,
     "metadata": {},
     "output_type": "execute_result"
    }
   ],
   "source": [
    "# confusion matrix\n",
    "confusion_matrix(y_test,y_pred)"
   ]
  },
  {
   "cell_type": "code",
   "execution_count": 102,
   "metadata": {
    "ExecuteTime": {
     "end_time": "2018-05-09T01:36:57.897064Z",
     "start_time": "2018-05-09T01:36:57.834928Z"
    }
   },
   "outputs": [
    {
     "name": "stderr",
     "output_type": "stream",
     "text": [
      "/anaconda3/lib/python3.6/site-packages/sklearn/cross_validation.py:41: DeprecationWarning: This module was deprecated in version 0.18 in favor of the model_selection module into which all the refactored classes and functions are moved. Also note that the interface of the new CV iterators are different from that of this module. This module will be removed in 0.20.\n",
      "  \"This module will be removed in 0.20.\", DeprecationWarning)\n"
     ]
    }
   ],
   "source": [
    "# Generate a confusion matrix plot: \n",
    "from sklearn import cross_validation\n",
    "def plot_confusion_matrix(cm,title='Confusion matrix', cmap=plt.cm.Reds):\n",
    "    plt.imshow(cm, interpolation='nearest',cmap=cmap)\n",
    "    plt.title(title)\n",
    "    plt.colorbar()\n",
    "    plt.tight_layout()\n",
    "    plt.ylabel('True label')\n",
    "    plt.xlabel('Predicted label')\n",
    "\n",
    "#Could be a typical function for classifying:\n",
    "\n",
    "def train_score(classifier,x,y):\n",
    "    xtrain, xtest, ytrain, ytest = cross_validation.train_test_split(x, y, test_size=0.2, random_state=1234)\n",
    "    ytrain=np.ravel(ytrain)\n",
    "    clf = classifier.fit(xtrain, ytrain)\n",
    "    # accuracy for test & train:\n",
    "    train_acc=clf.score(xtrain, ytrain)\n",
    "    test_acc=clf.score(xtest,ytest)\n",
    "    print(\"Training Data Accuracy: %0.2f\" %(train_acc))\n",
    "    print(\"Test Data Accuracy:     %0.2f\" %(test_acc))\n",
    "    \n",
    "    y_true = ytest\n",
    "    y_pred = clf.predict(xtest)\n",
    "\n",
    "\n",
    "    conf = confusion_matrix(y_true, y_pred)\n",
    "    print(conf)\n",
    "\n",
    "    print ('\\n')\n",
    "    print (\"Precision:              %0.2f\" %(conf[0, 0] / (conf[0, 0] + conf[1, 0])))\n",
    "    print (\"Recall:                 %0.2f\"% (conf[0, 0] / (conf[0, 0] + conf[0, 1])))\n",
    "    \n",
    "    cm=confusion_matrix(y_true, y_pred, labels=None)\n",
    "    \n",
    "    plt.figure()\n",
    "    plot_confusion_matrix(cm)"
   ]
  },
  {
   "cell_type": "code",
   "execution_count": 66,
   "metadata": {
    "ExecuteTime": {
     "end_time": "2018-05-09T16:58:21.501825Z",
     "start_time": "2018-05-09T16:58:21.490273Z"
    }
   },
   "outputs": [
    {
     "ename": "NameError",
     "evalue": "name 'train_score' is not defined",
     "output_type": "error",
     "traceback": [
      "\u001b[0;31m---------------------------------------------------------------------------\u001b[0m",
      "\u001b[0;31mNameError\u001b[0m                                 Traceback (most recent call last)",
      "\u001b[0;32m<ipython-input-66-dbf976fd0565>\u001b[0m in \u001b[0;36m<module>\u001b[0;34m()\u001b[0m\n\u001b[0;32m----> 1\u001b[0;31m \u001b[0mtrain_score\u001b[0m\u001b[0;34m(\u001b[0m\u001b[0mlogit\u001b[0m\u001b[0;34m,\u001b[0m\u001b[0mX_train\u001b[0m\u001b[0;34m,\u001b[0m\u001b[0my_train\u001b[0m\u001b[0;34m)\u001b[0m\u001b[0;34m\u001b[0m\u001b[0m\n\u001b[0m",
      "\u001b[0;31mNameError\u001b[0m: name 'train_score' is not defined"
     ]
    }
   ],
   "source": [
    "train_score(logit,X_train,y_train)"
   ]
  },
  {
   "cell_type": "markdown",
   "metadata": {},
   "source": [
    "## Looking at Trees\n",
    "\n",
    "Below is looking at the Decision Tree and Random Forests classification methods to see how it differs from the analysis above.\n",
    "\n"
   ]
  },
  {
   "cell_type": "code",
   "execution_count": 50,
   "metadata": {
    "ExecuteTime": {
     "end_time": "2018-05-09T00:25:09.740983Z",
     "start_time": "2018-05-09T00:25:09.553760Z"
    }
   },
   "outputs": [],
   "source": [
    "#split X and y into training and testing sets\n",
    "y = traindf['group']\n",
    "X= traindf.drop(['group'], axis=1)\n",
    "from sklearn.model_selection import train_test_split\n",
    "X_train3, X_test3, y_train3, y_test3 = train_test_split(X, y, test_size=0.3, random_state=42)"
   ]
  },
  {
   "cell_type": "code",
   "execution_count": 51,
   "metadata": {
    "ExecuteTime": {
     "end_time": "2018-05-09T00:25:11.419961Z",
     "start_time": "2018-05-09T00:25:11.347799Z"
    }
   },
   "outputs": [],
   "source": [
    "from sklearn.ensemble import RandomForestClassifier\n",
    "from sklearn.tree import DecisionTreeClassifier"
   ]
  },
  {
   "cell_type": "code",
   "execution_count": 52,
   "metadata": {
    "ExecuteTime": {
     "end_time": "2018-05-09T00:25:15.069342Z",
     "start_time": "2018-05-09T00:25:15.066202Z"
    }
   },
   "outputs": [],
   "source": [
    "dtree = DecisionTreeClassifier(max_depth=7)\n",
    "rtree = RandomForestClassifier(max_depth=7)"
   ]
  },
  {
   "cell_type": "code",
   "execution_count": 53,
   "metadata": {
    "ExecuteTime": {
     "end_time": "2018-05-09T00:25:18.063778Z",
     "start_time": "2018-05-09T00:25:17.466238Z"
    }
   },
   "outputs": [],
   "source": [
    "dmodel = dtree.fit(X_train3, y_train3)"
   ]
  },
  {
   "cell_type": "code",
   "execution_count": 54,
   "metadata": {
    "ExecuteTime": {
     "end_time": "2018-05-09T00:25:24.459425Z",
     "start_time": "2018-05-09T00:25:18.732011Z"
    }
   },
   "outputs": [
    {
     "data": {
      "text/plain": [
       "array([0.83492567, 0.83813194, 0.838904  , 0.83724169, 0.83578415,\n",
       "       0.83924465, 0.83501247, 0.83462373, 0.83757167, 0.83372752])"
      ]
     },
     "execution_count": 54,
     "metadata": {},
     "output_type": "execute_result"
    }
   ],
   "source": [
    "#Experiement to see if i should try random forests\n",
    "from sklearn.model_selection import cross_val_score\n",
    "cross_val_score(dtree, X_train3, y_train3, cv=10)"
   ]
  },
  {
   "cell_type": "code",
   "execution_count": 55,
   "metadata": {
    "ExecuteTime": {
     "end_time": "2018-05-09T00:25:25.913241Z",
     "start_time": "2018-05-09T00:25:25.889769Z"
    }
   },
   "outputs": [],
   "source": [
    "y_tree = dmodel.predict(X_test3)"
   ]
  },
  {
   "cell_type": "code",
   "execution_count": 56,
   "metadata": {
    "ExecuteTime": {
     "end_time": "2018-05-09T00:25:26.905244Z",
     "start_time": "2018-05-09T00:25:26.865910Z"
    }
   },
   "outputs": [
    {
     "data": {
      "text/plain": [
       "0.8348587796932984"
      ]
     },
     "execution_count": 56,
     "metadata": {},
     "output_type": "execute_result"
    }
   ],
   "source": [
    "f1_score(y_test3, y_tree, average = 'micro')"
   ]
  },
  {
   "cell_type": "code",
   "execution_count": 57,
   "metadata": {
    "ExecuteTime": {
     "end_time": "2018-05-09T00:25:28.225502Z",
     "start_time": "2018-05-09T00:25:28.119421Z"
    }
   },
   "outputs": [
    {
     "data": {
      "text/plain": [
       "array([[  284,    90,     0,     0,     0,     0,     0,   204,     0,\n",
       "            0,  1539,     0],\n",
       "       [    0,  3015,     0,     0,     0,     0,     0,     0,     0,\n",
       "            0,   432,     0],\n",
       "       [    0,     0,  1846,     0,     0,    63,     0,     0,     0,\n",
       "            0,   541,     0],\n",
       "       [    0,     0,     0,  4555,     0,     0,     0,     0,     0,\n",
       "           34,   783,   267],\n",
       "       [    0,     0,     0,     0,  4650,    39,     0,     0,     0,\n",
       "           73,    78,   994],\n",
       "       [    0,     0,     0,     0,     0,  1763,     0,     0,    23,\n",
       "            0,  3165,   437],\n",
       "       [    0,    18,   112,     0,     0,     0,   439,     0,     0,\n",
       "            0,   234,    85],\n",
       "       [    0,    35,     0,     0,     0,    38,     0,  9135,  2472,\n",
       "          114,  1113,   248],\n",
       "       [    0,   463,     0,     0,     0,     0,     0,    64,  5407,\n",
       "            0,   597,     0],\n",
       "       [    0,     0,     0,    76,     0,     0,     0,     0,  1273,\n",
       "        14229,  3016,   635],\n",
       "       [    0,    42,     0,     0,     0,   623,    90,     0,    72,\n",
       "            0, 44674,  1033],\n",
       "       [    0,     0,   273,     0,     0,     0,     0,    33,    36,\n",
       "          171,   122, 20464]])"
      ]
     },
     "execution_count": 57,
     "metadata": {},
     "output_type": "execute_result"
    }
   ],
   "source": [
    "# confusion matrix\n",
    "confusion_matrix(y_test3,y_tree)"
   ]
  },
  {
   "cell_type": "code",
   "execution_count": 58,
   "metadata": {
    "ExecuteTime": {
     "end_time": "2018-05-09T00:25:35.607877Z",
     "start_time": "2018-05-09T00:25:33.400574Z"
    }
   },
   "outputs": [],
   "source": [
    "rmodel = rtree.fit(X_train3, y_train3)"
   ]
  },
  {
   "cell_type": "code",
   "execution_count": 59,
   "metadata": {
    "ExecuteTime": {
     "end_time": "2018-05-09T00:25:35.839316Z",
     "start_time": "2018-05-09T00:25:35.609668Z"
    }
   },
   "outputs": [
    {
     "data": {
      "text/plain": [
       "0.7985503850775825"
      ]
     },
     "execution_count": 59,
     "metadata": {},
     "output_type": "execute_result"
    }
   ],
   "source": [
    "y_rtree = rmodel.predict(X_test3)\n",
    "f1_score(y_test3, y_rtree, average = 'micro')"
   ]
  },
  {
   "cell_type": "code",
   "execution_count": 66,
   "metadata": {
    "ExecuteTime": {
     "end_time": "2018-05-09T00:28:29.226070Z",
     "start_time": "2018-05-09T00:28:29.020998Z"
    }
   },
   "outputs": [
    {
     "name": "stdout",
     "output_type": "stream",
     "text": [
      "Feature ranking:\n",
      "1. phone_brand (0.620709)\n",
      "2. device_model (0.193125)\n",
      "3. event_id (0.175707)\n",
      "4. city (0.008205)\n",
      "5. cc (0.001855)\n",
      "6. time_dl (0.000398)\n",
      "7. wkday (0.000000)\n",
      "8. app_id (0.000000)\n",
      "9. is_active (0.000000)\n",
      "10. category (0.000000)\n"
     ]
    },
    {
     "data": {
      "text/plain": [
       "<matplotlib.figure.Figure at 0x1a32ca2320>"
      ]
     },
     "execution_count": 66,
     "metadata": {},
     "output_type": "execute_result"
    },
    {
     "data": {
      "text/plain": [
       "Text(0.5,1,'Feature importances')"
      ]
     },
     "execution_count": 66,
     "metadata": {},
     "output_type": "execute_result"
    },
    {
     "data": {
      "text/plain": [
       "<Container object of 10 artists>"
      ]
     },
     "execution_count": 66,
     "metadata": {},
     "output_type": "execute_result"
    },
    {
     "data": {
      "text/plain": [
       "([<matplotlib.axis.XTick at 0x1a296b8828>,\n",
       "  <matplotlib.axis.XTick at 0x1a296b8cc0>,\n",
       "  <matplotlib.axis.XTick at 0x1a337f6828>,\n",
       "  <matplotlib.axis.XTick at 0x1a31d187b8>,\n",
       "  <matplotlib.axis.XTick at 0x1a31d18e10>,\n",
       "  <matplotlib.axis.XTick at 0x1a31cff4a8>,\n",
       "  <matplotlib.axis.XTick at 0x1a31cffb00>,\n",
       "  <matplotlib.axis.XTick at 0x1a2e25f1d0>,\n",
       "  <matplotlib.axis.XTick at 0x1a2e25f860>,\n",
       "  <matplotlib.axis.XTick at 0x1a2e25fef0>],\n",
       " <a list of 10 Text xticklabel objects>)"
      ]
     },
     "execution_count": 66,
     "metadata": {},
     "output_type": "execute_result"
    },
    {
     "data": {
      "text/plain": [
       "(-1, 10)"
      ]
     },
     "execution_count": 66,
     "metadata": {},
     "output_type": "execute_result"
    },
    {
     "data": {
      "image/png": "[encoded data removed]",
      "text/plain": [
       "<matplotlib.figure.Figure at 0x1a32ca2320>"
      ]
     },
     "metadata": {},
     "output_type": "display_data"
    }
   ],
   "source": [
    "importances = dmodel.feature_importances_\n",
    "std = np.std([dmodel.feature_importances_ for tree in importances],axis=0)\n",
    "indices = np.argsort(importances)[::-1]\n",
    "\n",
    "# Print the feature ranking\n",
    "print(\"Feature ranking:\")\n",
    "\n",
    "for index,f in enumerate(X_train3.columns):\n",
    "    print(\"%d. %s (%f)\" % (index+1 , f, importances[indices[index]]))\n",
    "\n",
    "# Plot the feature importances of the forest\n",
    "plt.figure()\n",
    "plt.title(\"Feature importances\")\n",
    "plt.bar(range(X_train3.shape[1]), importances[indices],color=\"r\", yerr=std[indices], align=\"center\")\n",
    "plt.xticks(range(X_train3.shape[1]), X_train3.columns, rotation=45)\n",
    "plt.xlim([-1, X_train3.shape[1]])\n",
    "plt.show()"
   ]
  },
  {
   "cell_type": "code",
   "execution_count": 70,
   "metadata": {
    "ExecuteTime": {
     "end_time": "2018-05-09T00:29:46.113909Z",
     "start_time": "2018-05-09T00:29:45.903346Z"
    }
   },
   "outputs": [
    {
     "name": "stdout",
     "output_type": "stream",
     "text": [
      "Feature ranking:\n",
      "1. phone_brand (0.378319)\n",
      "2. device_model (0.264573)\n",
      "3. event_id (0.173561)\n",
      "4. city (0.063876)\n",
      "5. cc (0.053293)\n",
      "6. time_dl (0.029258)\n",
      "7. wkday (0.019971)\n",
      "8. app_id (0.013223)\n",
      "9. is_active (0.003706)\n",
      "10. category (0.000220)\n"
     ]
    },
    {
     "data": {
      "text/plain": [
       "<matplotlib.figure.Figure at 0x1a2a969da0>"
      ]
     },
     "execution_count": 70,
     "metadata": {},
     "output_type": "execute_result"
    },
    {
     "data": {
      "text/plain": [
       "Text(0.5,1,'Feature importances')"
      ]
     },
     "execution_count": 70,
     "metadata": {},
     "output_type": "execute_result"
    },
    {
     "data": {
      "text/plain": [
       "<Container object of 10 artists>"
      ]
     },
     "execution_count": 70,
     "metadata": {},
     "output_type": "execute_result"
    },
    {
     "data": {
      "text/plain": [
       "([<matplotlib.axis.XTick at 0x1a2afcbe48>,\n",
       "  <matplotlib.axis.XTick at 0x1a2f5f19b0>,\n",
       "  <matplotlib.axis.XTick at 0x1a2afeb3c8>,\n",
       "  <matplotlib.axis.XTick at 0x1a2af77780>,\n",
       "  <matplotlib.axis.XTick at 0x1a2af77dd8>,\n",
       "  <matplotlib.axis.XTick at 0x1a2985c470>,\n",
       "  <matplotlib.axis.XTick at 0x1a2985cac8>,\n",
       "  <matplotlib.axis.XTick at 0x1a29878198>,\n",
       "  <matplotlib.axis.XTick at 0x1a29878828>,\n",
       "  <matplotlib.axis.XTick at 0x1a29878eb8>],\n",
       " <a list of 10 Text xticklabel objects>)"
      ]
     },
     "execution_count": 70,
     "metadata": {},
     "output_type": "execute_result"
    },
    {
     "data": {
      "text/plain": [
       "(-1, 10)"
      ]
     },
     "execution_count": 70,
     "metadata": {},
     "output_type": "execute_result"
    },
    {
     "data": {
      "image/png": "[encoded data removed]",
      "text/plain": [
       "<matplotlib.figure.Figure at 0x1a2a969da0>"
      ]
     },
     "metadata": {},
     "output_type": "display_data"
    }
   ],
   "source": [
    "importances = rmodel.feature_importances_\n",
    "std = np.std([rmodel.feature_importances_ for tree in importances],axis=0)\n",
    "indices = np.argsort(importances)[::-1]\n",
    "\n",
    "# Print the feature ranking\n",
    "print(\"Feature ranking:\")\n",
    "\n",
    "for index,f in enumerate(X_train3.columns):\n",
    "    print(\"%d. %s (%f)\" % (index+1 , f, importances[indices[index]]))\n",
    "\n",
    "# Plot the feature importances of the forest\n",
    "plt.figure()\n",
    "plt.title(\"Feature importances\")\n",
    "plt.bar(range(X_train3.shape[1]), importances[indices],color=\"r\", yerr=std[indices], align=\"center\")\n",
    "plt.xticks(range(X_train3.shape[1]), X_train3.columns, rotation=45)\n",
    "plt.xlim([-1, X_train3.shape[1]])\n",
    "plt.show()"
   ]
  },
  {
   "cell_type": "markdown",
   "metadata": {},
   "source": [
    "## Playing with Cats\n",
    "\n",
    "Trying out catboost for python."
   ]
  },
  {
   "cell_type": "code",
   "execution_count": null,
   "metadata": {
    "ExecuteTime": {
     "start_time": "2018-05-09T23:12:03.696Z"
    }
   },
   "outputs": [],
   "source": [
    "cat = traindf.drop(['gender','age', 'longitude', 'latitude','label_id', 'timestamp','time_dl', 'is_installed','device_id'], axis=1)\n",
    "\n"
   ]
  },
  {
   "cell_type": "code",
   "execution_count": null,
   "metadata": {
    "ExecuteTime": {
     "start_time": "2018-05-09T23:12:12.311Z"
    }
   },
   "outputs": [],
   "source": [
    "#CatBoost\n",
    "from catboost import CatBoostRegressor, CatBoostClassifier, Pool\n",
    "y = cat['group']\n",
    "X= cat.drop(['group'], axis=1)\n",
    "X_trainc, X_testc, y_trainc, y_testc = train_test_split(X, y, test_size=0.3, random_state=42, stratify = y)\n",
    "categorical_features_indices = np.where(X_trainc.dtypes != np.float)[0]\n",
    "\n",
    "model=CatBoostClassifier(iterations=10, depth=3, learning_rate=0.1)\n",
    "model.fit(X_trainc, y_trainc,cat_features=categorical_features_indices,eval_set=(X_testc, y_testc),plot=True)"
   ]
  },
  {
   "cell_type": "code",
   "execution_count": null,
   "metadata": {
    "ExecuteTime": {
     "start_time": "2018-05-09T23:12:12.902Z"
    }
   },
   "outputs": [],
   "source": [
    "train_pool = Pool(X_trainc, y_trainc, cat_features=categorical_features_indices)\n",
    "\n",
    "model=CatBoostClassifier(iterations=10, depth=3, learning_rate=0.1).fit(train_pool, logging_level='Silent')\n",
    "feature_importances = model.get_feature_importance(train_pool)\n",
    "feature_names = X_trainc.columns\n",
    "for score, name in sorted(zip(feature_importances, feature_names), reverse=True):\n",
    "    print('{}: {}'.format(name, score))"
   ]
  },
  {
   "cell_type": "markdown",
   "metadata": {
    "heading_collapsed": true
   },
   "source": [
    "## Naive Bayes\n",
    "\n",
    "Trying out different models to see which is the best route to analysis. Model ran decnetly fast and it handled the larger set well."
   ]
  },
  {
   "cell_type": "code",
   "execution_count": 49,
   "metadata": {
    "ExecuteTime": {
     "end_time": "2018-05-09T15:05:37.963195Z",
     "start_time": "2018-05-09T15:03:10.111893Z"
    },
    "hidden": true
   },
   "outputs": [
    {
     "data": {
      "text/plain": [
       "BernoulliNB(alpha=1.0, binarize=0.0, class_prior=None, fit_prior=True)"
      ]
     },
     "execution_count": 49,
     "metadata": {},
     "output_type": "execute_result"
    },
    {
     "name": "stdout",
     "output_type": "stream",
     "text": [
      "Accuracy: 0.987\n",
      "             precision    recall  f1-score   support\n",
      "\n",
      "          0       0.98      1.00      0.99      1125\n",
      "          1       0.97      1.00      0.99      1680\n",
      "          2       0.97      1.00      0.99      1269\n",
      "          3       0.99      1.00      1.00      2853\n",
      "          4       0.96      0.97      0.96      3026\n",
      "          5       0.97      1.00      0.98      2694\n",
      "          6       0.99      0.98      0.98       440\n",
      "          7       0.98      0.98      0.98      6542\n",
      "          8       0.95      0.97      0.96      3281\n",
      "          9       0.99      0.98      0.98      9550\n",
      "         10       1.00      0.99      1.00     23111\n",
      "         11       0.99      0.99      0.99     10585\n",
      "\n",
      "avg / total       0.99      0.99      0.99     66156\n",
      "\n"
     ]
    }
   ],
   "source": [
    "from sklearn import naive_bayes\n",
    "from sklearn.metrics import accuracy_score, classification_report\n",
    "\n",
    "model = naive_bayes.BernoulliNB()\n",
    "model.fit(X_train, y_train)\n",
    "\n",
    "print(\"Accuracy: %.3f\"% accuracy_score(y_test, model.predict(X_test)))\n",
    "print(classification_report(y_test, model.predict(X_test)))\n"
   ]
  },
  {
   "cell_type": "code",
   "execution_count": 50,
   "metadata": {
    "ExecuteTime": {
     "end_time": "2018-05-09T15:18:20.638255Z",
     "start_time": "2018-05-09T15:12:08.193731Z"
    },
    "hidden": true
   },
   "outputs": [
    {
     "data": {
      "text/plain": [
       "BernoulliNB(alpha=1.0, binarize=0.0, class_prior=None, fit_prior=True)"
      ]
     },
     "execution_count": 50,
     "metadata": {},
     "output_type": "execute_result"
    },
    {
     "name": "stdout",
     "output_type": "stream",
     "text": [
      "Accuracy: 0.986\n",
      "             precision    recall  f1-score   support\n",
      "\n",
      "          0       0.99      1.00      0.99      3613\n",
      "          1       0.97      1.00      0.99      5745\n",
      "          2       0.97      1.00      0.98      4107\n",
      "          3       0.99      1.00      1.00      9531\n",
      "          4       0.96      0.97      0.96      9827\n",
      "          5       0.96      1.00      0.98      8875\n",
      "          6       0.98      0.97      0.98      1432\n",
      "          7       0.98      0.98      0.98     21780\n",
      "          8       0.95      0.97      0.96     10862\n",
      "          9       0.98      0.98      0.98     32058\n",
      "         10       1.00      0.99      0.99     77520\n",
      "         11       0.99      0.98      0.99     35167\n",
      "\n",
      "avg / total       0.99      0.99      0.99    220517\n",
      "\n"
     ]
    }
   ],
   "source": [
    "from sklearn import naive_bayes\n",
    "from sklearn.metrics import accuracy_score, classification_report\n",
    "\n",
    "model1 = naive_bayes.BernoulliNB()\n",
    "model1.fit(X_train, y_train)\n",
    "\n",
    "print(\"Accuracy: %.3f\"% accuracy_score(y_test2, model1.predict(X_test2)))\n",
    "print(classification_report(y_test2, model1.predict(X_test2)))"
   ]
  },
  {
   "cell_type": "code",
   "execution_count": 55,
   "metadata": {
    "ExecuteTime": {
     "end_time": "2018-05-09T15:23:14.950073Z",
     "start_time": "2018-05-09T15:21:44.993738Z"
    },
    "hidden": true
   },
   "outputs": [
    {
     "data": {
      "text/plain": [
       "BernoulliNB(alpha=1.0, binarize=0.0, class_prior=None, fit_prior=True)"
      ]
     },
     "execution_count": 55,
     "metadata": {},
     "output_type": "execute_result"
    }
   ],
   "source": [
    "model1 = naive_bayes.BernoulliNB()\n",
    "model1.fit(X_train, y_train)"
   ]
  },
  {
   "cell_type": "markdown",
   "metadata": {
    "heading_collapsed": true
   },
   "source": [
    "## Stochastic Gradient Descent\n",
    "\n",
    "Trying Stochastic Gradient Descent model to see if I can come up with better numbers."
   ]
  },
  {
   "cell_type": "code",
   "execution_count": 56,
   "metadata": {
    "ExecuteTime": {
     "end_time": "2018-05-09T15:25:11.242940Z",
     "start_time": "2018-05-09T15:25:10.878585Z"
    },
    "hidden": true
   },
   "outputs": [],
   "source": [
    "from sklearn.linear_model import SGDClassifier"
   ]
  },
  {
   "cell_type": "code",
   "execution_count": 63,
   "metadata": {
    "ExecuteTime": {
     "end_time": "2018-05-09T16:00:52.505063Z",
     "start_time": "2018-05-09T16:00:52.495703Z"
    },
    "hidden": true
   },
   "outputs": [],
   "source": [
    "sgd = SGDClassifier(loss='hinge',penalty = 'elasticnet', l1_ratio= .8, max_iter = 500, tol = .1)"
   ]
  },
  {
   "cell_type": "code",
   "execution_count": 64,
   "metadata": {
    "ExecuteTime": {
     "end_time": "2018-05-09T16:28:21.155225Z",
     "start_time": "2018-05-09T16:01:01.969854Z"
    },
    "hidden": true
   },
   "outputs": [],
   "source": [
    "#kills kernel\n",
    "sgdmod = sgd.fit(X_train, y_train)"
   ]
  },
  {
   "cell_type": "code",
   "execution_count": 65,
   "metadata": {
    "ExecuteTime": {
     "end_time": "2018-05-09T16:28:53.482743Z",
     "start_time": "2018-05-09T16:28:53.290254Z"
    },
    "hidden": true
   },
   "outputs": [
    {
     "ename": "NameError",
     "evalue": "name 'f1_score' is not defined",
     "output_type": "error",
     "traceback": [
      "\u001b[0;31m---------------------------------------------------------------------------\u001b[0m",
      "\u001b[0;31mNameError\u001b[0m                                 Traceback (most recent call last)",
      "\u001b[0;32m<ipython-input-65-f16b8c010977>\u001b[0m in \u001b[0;36m<module>\u001b[0;34m()\u001b[0m\n\u001b[0;32m----> 1\u001b[0;31m \u001b[0mf1_score\u001b[0m\u001b[0;34m(\u001b[0m\u001b[0my_test\u001b[0m\u001b[0;34m,\u001b[0m \u001b[0msgdmodel\u001b[0m\u001b[0;34m.\u001b[0m\u001b[0mpredict\u001b[0m\u001b[0;34m(\u001b[0m\u001b[0mX_test\u001b[0m\u001b[0;34m)\u001b[0m\u001b[0;34m)\u001b[0m\u001b[0;34m\u001b[0m\u001b[0m\n\u001b[0m",
      "\u001b[0;31mNameError\u001b[0m: name 'f1_score' is not defined"
     ]
    }
   ],
   "source": [
    "f1_score(y_test, sgdmodel.predict(X_test)) "
   ]
  },
  {
   "cell_type": "markdown",
   "metadata": {},
   "source": [
    "## Graphing\n",
    "\n",
    "Creating some graphs to better understand the data."
   ]
  },
  {
   "cell_type": "code",
   "execution_count": 52,
   "metadata": {
    "ExecuteTime": {
     "end_time": "2018-05-09T22:22:20.970212Z",
     "start_time": "2018-05-09T22:22:20.941362Z"
    }
   },
   "outputs": [
    {
     "data": {
      "text/plain": [
       "19"
      ]
     },
     "execution_count": 52,
     "metadata": {},
     "output_type": "execute_result"
    }
   ],
   "source": [
    "len(traindf.phone_brand.unique())"
   ]
  },
  {
   "cell_type": "code",
   "execution_count": 40,
   "metadata": {
    "ExecuteTime": {
     "end_time": "2018-05-09T20:02:25.408223Z",
     "start_time": "2018-05-09T20:02:25.268340Z"
    }
   },
   "outputs": [
    {
     "data": {
      "text/html": [
       "<div>\n",
       "<style scoped>\n",
       "    .dataframe tbody tr th:only-of-type {\n",
       "        vertical-align: middle;\n",
       "    }\n",
       "\n",
       "    .dataframe tbody tr th {\n",
       "        vertical-align: top;\n",
       "    }\n",
       "\n",
       "    .dataframe thead th {\n",
       "        text-align: right;\n",
       "    }\n",
       "</style>\n",
       "<table border=\"1\" class=\"dataframe\">\n",
       "  <thead>\n",
       "    <tr style=\"text-align: right;\">\n",
       "      <th></th>\n",
       "      <th>group</th>\n",
       "      <th>phone_brand</th>\n",
       "      <th>device_model</th>\n",
       "      <th>event_id</th>\n",
       "      <th>city</th>\n",
       "      <th>cc</th>\n",
       "      <th>time_dl</th>\n",
       "      <th>wkday</th>\n",
       "      <th>app_id</th>\n",
       "      <th>is_active</th>\n",
       "      <th>category</th>\n",
       "    </tr>\n",
       "  </thead>\n",
       "  <tbody>\n",
       "    <tr>\n",
       "      <th>2</th>\n",
       "      <td>10</td>\n",
       "      <td>15</td>\n",
       "      <td>83</td>\n",
       "      <td>343</td>\n",
       "      <td>66</td>\n",
       "      <td>1</td>\n",
       "      <td>1643</td>\n",
       "      <td>2</td>\n",
       "      <td>1256</td>\n",
       "      <td>1</td>\n",
       "      <td>151</td>\n",
       "    </tr>\n",
       "    <tr>\n",
       "      <th>3</th>\n",
       "      <td>10</td>\n",
       "      <td>15</td>\n",
       "      <td>83</td>\n",
       "      <td>537</td>\n",
       "      <td>66</td>\n",
       "      <td>1</td>\n",
       "      <td>523</td>\n",
       "      <td>5</td>\n",
       "      <td>1256</td>\n",
       "      <td>0</td>\n",
       "      <td>151</td>\n",
       "    </tr>\n",
       "    <tr>\n",
       "      <th>4</th>\n",
       "      <td>10</td>\n",
       "      <td>15</td>\n",
       "      <td>83</td>\n",
       "      <td>1437</td>\n",
       "      <td>66</td>\n",
       "      <td>1</td>\n",
       "      <td>1402</td>\n",
       "      <td>1</td>\n",
       "      <td>1256</td>\n",
       "      <td>1</td>\n",
       "      <td>151</td>\n",
       "    </tr>\n",
       "    <tr>\n",
       "      <th>222</th>\n",
       "      <td>10</td>\n",
       "      <td>11</td>\n",
       "      <td>13</td>\n",
       "      <td>2831</td>\n",
       "      <td>34</td>\n",
       "      <td>0</td>\n",
       "      <td>414</td>\n",
       "      <td>3</td>\n",
       "      <td>1256</td>\n",
       "      <td>0</td>\n",
       "      <td>151</td>\n",
       "    </tr>\n",
       "    <tr>\n",
       "      <th>223</th>\n",
       "      <td>10</td>\n",
       "      <td>11</td>\n",
       "      <td>13</td>\n",
       "      <td>2670</td>\n",
       "      <td>90</td>\n",
       "      <td>0</td>\n",
       "      <td>2621</td>\n",
       "      <td>0</td>\n",
       "      <td>1256</td>\n",
       "      <td>1</td>\n",
       "      <td>151</td>\n",
       "    </tr>\n",
       "    <tr>\n",
       "      <th>224</th>\n",
       "      <td>10</td>\n",
       "      <td>11</td>\n",
       "      <td>13</td>\n",
       "      <td>2930</td>\n",
       "      <td>90</td>\n",
       "      <td>0</td>\n",
       "      <td>1865</td>\n",
       "      <td>1</td>\n",
       "      <td>1256</td>\n",
       "      <td>1</td>\n",
       "      <td>151</td>\n",
       "    </tr>\n",
       "    <tr>\n",
       "      <th>225</th>\n",
       "      <td>10</td>\n",
       "      <td>11</td>\n",
       "      <td>13</td>\n",
       "      <td>14</td>\n",
       "      <td>90</td>\n",
       "      <td>0</td>\n",
       "      <td>1689</td>\n",
       "      <td>1</td>\n",
       "      <td>1256</td>\n",
       "      <td>1</td>\n",
       "      <td>151</td>\n",
       "    </tr>\n",
       "    <tr>\n",
       "      <th>226</th>\n",
       "      <td>10</td>\n",
       "      <td>11</td>\n",
       "      <td>13</td>\n",
       "      <td>288</td>\n",
       "      <td>90</td>\n",
       "      <td>0</td>\n",
       "      <td>137</td>\n",
       "      <td>2</td>\n",
       "      <td>1256</td>\n",
       "      <td>0</td>\n",
       "      <td>151</td>\n",
       "    </tr>\n",
       "    <tr>\n",
       "      <th>227</th>\n",
       "      <td>10</td>\n",
       "      <td>11</td>\n",
       "      <td>13</td>\n",
       "      <td>689</td>\n",
       "      <td>90</td>\n",
       "      <td>0</td>\n",
       "      <td>2665</td>\n",
       "      <td>6</td>\n",
       "      <td>1256</td>\n",
       "      <td>0</td>\n",
       "      <td>151</td>\n",
       "    </tr>\n",
       "    <tr>\n",
       "      <th>228</th>\n",
       "      <td>10</td>\n",
       "      <td>11</td>\n",
       "      <td>13</td>\n",
       "      <td>1067</td>\n",
       "      <td>88</td>\n",
       "      <td>0</td>\n",
       "      <td>1486</td>\n",
       "      <td>0</td>\n",
       "      <td>1256</td>\n",
       "      <td>0</td>\n",
       "      <td>151</td>\n",
       "    </tr>\n",
       "    <tr>\n",
       "      <th>331</th>\n",
       "      <td>10</td>\n",
       "      <td>10</td>\n",
       "      <td>9</td>\n",
       "      <td>2577</td>\n",
       "      <td>49</td>\n",
       "      <td>1</td>\n",
       "      <td>45</td>\n",
       "      <td>2</td>\n",
       "      <td>1256</td>\n",
       "      <td>0</td>\n",
       "      <td>151</td>\n",
       "    </tr>\n",
       "    <tr>\n",
       "      <th>332</th>\n",
       "      <td>10</td>\n",
       "      <td>10</td>\n",
       "      <td>9</td>\n",
       "      <td>2463</td>\n",
       "      <td>49</td>\n",
       "      <td>1</td>\n",
       "      <td>847</td>\n",
       "      <td>0</td>\n",
       "      <td>1256</td>\n",
       "      <td>0</td>\n",
       "      <td>151</td>\n",
       "    </tr>\n",
       "    <tr>\n",
       "      <th>333</th>\n",
       "      <td>10</td>\n",
       "      <td>10</td>\n",
       "      <td>9</td>\n",
       "      <td>2838</td>\n",
       "      <td>49</td>\n",
       "      <td>1</td>\n",
       "      <td>538</td>\n",
       "      <td>6</td>\n",
       "      <td>1256</td>\n",
       "      <td>0</td>\n",
       "      <td>151</td>\n",
       "    </tr>\n",
       "    <tr>\n",
       "      <th>334</th>\n",
       "      <td>10</td>\n",
       "      <td>10</td>\n",
       "      <td>9</td>\n",
       "      <td>302</td>\n",
       "      <td>49</td>\n",
       "      <td>1</td>\n",
       "      <td>547</td>\n",
       "      <td>3</td>\n",
       "      <td>1256</td>\n",
       "      <td>0</td>\n",
       "      <td>151</td>\n",
       "    </tr>\n",
       "    <tr>\n",
       "      <th>335</th>\n",
       "      <td>10</td>\n",
       "      <td>10</td>\n",
       "      <td>9</td>\n",
       "      <td>460</td>\n",
       "      <td>66</td>\n",
       "      <td>1</td>\n",
       "      <td>848</td>\n",
       "      <td>5</td>\n",
       "      <td>1256</td>\n",
       "      <td>0</td>\n",
       "      <td>151</td>\n",
       "    </tr>\n",
       "    <tr>\n",
       "      <th>336</th>\n",
       "      <td>10</td>\n",
       "      <td>10</td>\n",
       "      <td>9</td>\n",
       "      <td>1659</td>\n",
       "      <td>49</td>\n",
       "      <td>1</td>\n",
       "      <td>1979</td>\n",
       "      <td>0</td>\n",
       "      <td>1256</td>\n",
       "      <td>0</td>\n",
       "      <td>151</td>\n",
       "    </tr>\n",
       "    <tr>\n",
       "      <th>337</th>\n",
       "      <td>10</td>\n",
       "      <td>10</td>\n",
       "      <td>9</td>\n",
       "      <td>1821</td>\n",
       "      <td>66</td>\n",
       "      <td>1</td>\n",
       "      <td>750</td>\n",
       "      <td>0</td>\n",
       "      <td>1256</td>\n",
       "      <td>0</td>\n",
       "      <td>151</td>\n",
       "    </tr>\n",
       "    <tr>\n",
       "      <th>338</th>\n",
       "      <td>10</td>\n",
       "      <td>10</td>\n",
       "      <td>9</td>\n",
       "      <td>1850</td>\n",
       "      <td>49</td>\n",
       "      <td>1</td>\n",
       "      <td>1029</td>\n",
       "      <td>0</td>\n",
       "      <td>1256</td>\n",
       "      <td>0</td>\n",
       "      <td>151</td>\n",
       "    </tr>\n",
       "    <tr>\n",
       "      <th>339</th>\n",
       "      <td>10</td>\n",
       "      <td>10</td>\n",
       "      <td>9</td>\n",
       "      <td>2387</td>\n",
       "      <td>49</td>\n",
       "      <td>1</td>\n",
       "      <td>2827</td>\n",
       "      <td>5</td>\n",
       "      <td>1256</td>\n",
       "      <td>0</td>\n",
       "      <td>151</td>\n",
       "    </tr>\n",
       "    <tr>\n",
       "      <th>340</th>\n",
       "      <td>10</td>\n",
       "      <td>10</td>\n",
       "      <td>9</td>\n",
       "      <td>2444</td>\n",
       "      <td>49</td>\n",
       "      <td>1</td>\n",
       "      <td>601</td>\n",
       "      <td>6</td>\n",
       "      <td>1256</td>\n",
       "      <td>0</td>\n",
       "      <td>151</td>\n",
       "    </tr>\n",
       "    <tr>\n",
       "      <th>341</th>\n",
       "      <td>10</td>\n",
       "      <td>10</td>\n",
       "      <td>9</td>\n",
       "      <td>2525</td>\n",
       "      <td>49</td>\n",
       "      <td>1</td>\n",
       "      <td>537</td>\n",
       "      <td>4</td>\n",
       "      <td>1256</td>\n",
       "      <td>0</td>\n",
       "      <td>151</td>\n",
       "    </tr>\n",
       "    <tr>\n",
       "      <th>342</th>\n",
       "      <td>10</td>\n",
       "      <td>10</td>\n",
       "      <td>9</td>\n",
       "      <td>2533</td>\n",
       "      <td>49</td>\n",
       "      <td>1</td>\n",
       "      <td>1553</td>\n",
       "      <td>0</td>\n",
       "      <td>1256</td>\n",
       "      <td>0</td>\n",
       "      <td>151</td>\n",
       "    </tr>\n",
       "    <tr>\n",
       "      <th>343</th>\n",
       "      <td>10</td>\n",
       "      <td>10</td>\n",
       "      <td>9</td>\n",
       "      <td>2646</td>\n",
       "      <td>49</td>\n",
       "      <td>1</td>\n",
       "      <td>483</td>\n",
       "      <td>6</td>\n",
       "      <td>1256</td>\n",
       "      <td>0</td>\n",
       "      <td>151</td>\n",
       "    </tr>\n",
       "    <tr>\n",
       "      <th>344</th>\n",
       "      <td>10</td>\n",
       "      <td>10</td>\n",
       "      <td>9</td>\n",
       "      <td>2664</td>\n",
       "      <td>49</td>\n",
       "      <td>1</td>\n",
       "      <td>2364</td>\n",
       "      <td>6</td>\n",
       "      <td>1256</td>\n",
       "      <td>0</td>\n",
       "      <td>151</td>\n",
       "    </tr>\n",
       "    <tr>\n",
       "      <th>345</th>\n",
       "      <td>10</td>\n",
       "      <td>10</td>\n",
       "      <td>9</td>\n",
       "      <td>2679</td>\n",
       "      <td>66</td>\n",
       "      <td>1</td>\n",
       "      <td>3008</td>\n",
       "      <td>1</td>\n",
       "      <td>1256</td>\n",
       "      <td>0</td>\n",
       "      <td>151</td>\n",
       "    </tr>\n",
       "    <tr>\n",
       "      <th>346</th>\n",
       "      <td>10</td>\n",
       "      <td>10</td>\n",
       "      <td>9</td>\n",
       "      <td>2854</td>\n",
       "      <td>49</td>\n",
       "      <td>1</td>\n",
       "      <td>2521</td>\n",
       "      <td>6</td>\n",
       "      <td>1256</td>\n",
       "      <td>0</td>\n",
       "      <td>151</td>\n",
       "    </tr>\n",
       "    <tr>\n",
       "      <th>347</th>\n",
       "      <td>10</td>\n",
       "      <td>10</td>\n",
       "      <td>9</td>\n",
       "      <td>2975</td>\n",
       "      <td>49</td>\n",
       "      <td>1</td>\n",
       "      <td>119</td>\n",
       "      <td>6</td>\n",
       "      <td>1256</td>\n",
       "      <td>0</td>\n",
       "      <td>151</td>\n",
       "    </tr>\n",
       "    <tr>\n",
       "      <th>348</th>\n",
       "      <td>10</td>\n",
       "      <td>10</td>\n",
       "      <td>9</td>\n",
       "      <td>3033</td>\n",
       "      <td>66</td>\n",
       "      <td>1</td>\n",
       "      <td>2109</td>\n",
       "      <td>2</td>\n",
       "      <td>1256</td>\n",
       "      <td>0</td>\n",
       "      <td>151</td>\n",
       "    </tr>\n",
       "    <tr>\n",
       "      <th>349</th>\n",
       "      <td>10</td>\n",
       "      <td>10</td>\n",
       "      <td>9</td>\n",
       "      <td>3053</td>\n",
       "      <td>49</td>\n",
       "      <td>1</td>\n",
       "      <td>810</td>\n",
       "      <td>2</td>\n",
       "      <td>1256</td>\n",
       "      <td>0</td>\n",
       "      <td>151</td>\n",
       "    </tr>\n",
       "    <tr>\n",
       "      <th>350</th>\n",
       "      <td>10</td>\n",
       "      <td>10</td>\n",
       "      <td>9</td>\n",
       "      <td>3071</td>\n",
       "      <td>49</td>\n",
       "      <td>1</td>\n",
       "      <td>122</td>\n",
       "      <td>6</td>\n",
       "      <td>1256</td>\n",
       "      <td>0</td>\n",
       "      <td>151</td>\n",
       "    </tr>\n",
       "    <tr>\n",
       "      <th>...</th>\n",
       "      <td>...</td>\n",
       "      <td>...</td>\n",
       "      <td>...</td>\n",
       "      <td>...</td>\n",
       "      <td>...</td>\n",
       "      <td>...</td>\n",
       "      <td>...</td>\n",
       "      <td>...</td>\n",
       "      <td>...</td>\n",
       "      <td>...</td>\n",
       "      <td>...</td>\n",
       "    </tr>\n",
       "    <tr>\n",
       "      <th>440917</th>\n",
       "      <td>10</td>\n",
       "      <td>15</td>\n",
       "      <td>27</td>\n",
       "      <td>852</td>\n",
       "      <td>66</td>\n",
       "      <td>1</td>\n",
       "      <td>885</td>\n",
       "      <td>1</td>\n",
       "      <td>630</td>\n",
       "      <td>0</td>\n",
       "      <td>48</td>\n",
       "    </tr>\n",
       "    <tr>\n",
       "      <th>440918</th>\n",
       "      <td>10</td>\n",
       "      <td>15</td>\n",
       "      <td>27</td>\n",
       "      <td>958</td>\n",
       "      <td>14</td>\n",
       "      <td>0</td>\n",
       "      <td>1491</td>\n",
       "      <td>2</td>\n",
       "      <td>630</td>\n",
       "      <td>0</td>\n",
       "      <td>48</td>\n",
       "    </tr>\n",
       "    <tr>\n",
       "      <th>440919</th>\n",
       "      <td>10</td>\n",
       "      <td>15</td>\n",
       "      <td>27</td>\n",
       "      <td>1165</td>\n",
       "      <td>61</td>\n",
       "      <td>0</td>\n",
       "      <td>2675</td>\n",
       "      <td>6</td>\n",
       "      <td>630</td>\n",
       "      <td>0</td>\n",
       "      <td>48</td>\n",
       "    </tr>\n",
       "    <tr>\n",
       "      <th>440920</th>\n",
       "      <td>10</td>\n",
       "      <td>15</td>\n",
       "      <td>27</td>\n",
       "      <td>1386</td>\n",
       "      <td>66</td>\n",
       "      <td>1</td>\n",
       "      <td>17</td>\n",
       "      <td>4</td>\n",
       "      <td>630</td>\n",
       "      <td>0</td>\n",
       "      <td>48</td>\n",
       "    </tr>\n",
       "    <tr>\n",
       "      <th>440921</th>\n",
       "      <td>10</td>\n",
       "      <td>15</td>\n",
       "      <td>27</td>\n",
       "      <td>1685</td>\n",
       "      <td>61</td>\n",
       "      <td>0</td>\n",
       "      <td>2663</td>\n",
       "      <td>6</td>\n",
       "      <td>630</td>\n",
       "      <td>0</td>\n",
       "      <td>48</td>\n",
       "    </tr>\n",
       "    <tr>\n",
       "      <th>440922</th>\n",
       "      <td>10</td>\n",
       "      <td>15</td>\n",
       "      <td>27</td>\n",
       "      <td>2104</td>\n",
       "      <td>61</td>\n",
       "      <td>0</td>\n",
       "      <td>597</td>\n",
       "      <td>6</td>\n",
       "      <td>630</td>\n",
       "      <td>0</td>\n",
       "      <td>48</td>\n",
       "    </tr>\n",
       "    <tr>\n",
       "      <th>440923</th>\n",
       "      <td>10</td>\n",
       "      <td>15</td>\n",
       "      <td>27</td>\n",
       "      <td>2174</td>\n",
       "      <td>14</td>\n",
       "      <td>0</td>\n",
       "      <td>117</td>\n",
       "      <td>4</td>\n",
       "      <td>630</td>\n",
       "      <td>0</td>\n",
       "      <td>48</td>\n",
       "    </tr>\n",
       "    <tr>\n",
       "      <th>440924</th>\n",
       "      <td>10</td>\n",
       "      <td>15</td>\n",
       "      <td>27</td>\n",
       "      <td>2375</td>\n",
       "      <td>66</td>\n",
       "      <td>1</td>\n",
       "      <td>696</td>\n",
       "      <td>1</td>\n",
       "      <td>630</td>\n",
       "      <td>0</td>\n",
       "      <td>48</td>\n",
       "    </tr>\n",
       "    <tr>\n",
       "      <th>440925</th>\n",
       "      <td>10</td>\n",
       "      <td>15</td>\n",
       "      <td>27</td>\n",
       "      <td>2464</td>\n",
       "      <td>61</td>\n",
       "      <td>0</td>\n",
       "      <td>469</td>\n",
       "      <td>0</td>\n",
       "      <td>917</td>\n",
       "      <td>0</td>\n",
       "      <td>63</td>\n",
       "    </tr>\n",
       "    <tr>\n",
       "      <th>440926</th>\n",
       "      <td>10</td>\n",
       "      <td>15</td>\n",
       "      <td>27</td>\n",
       "      <td>3009</td>\n",
       "      <td>66</td>\n",
       "      <td>1</td>\n",
       "      <td>878</td>\n",
       "      <td>3</td>\n",
       "      <td>917</td>\n",
       "      <td>0</td>\n",
       "      <td>63</td>\n",
       "    </tr>\n",
       "    <tr>\n",
       "      <th>440927</th>\n",
       "      <td>10</td>\n",
       "      <td>15</td>\n",
       "      <td>27</td>\n",
       "      <td>1847</td>\n",
       "      <td>66</td>\n",
       "      <td>1</td>\n",
       "      <td>797</td>\n",
       "      <td>5</td>\n",
       "      <td>917</td>\n",
       "      <td>0</td>\n",
       "      <td>63</td>\n",
       "    </tr>\n",
       "    <tr>\n",
       "      <th>440928</th>\n",
       "      <td>10</td>\n",
       "      <td>15</td>\n",
       "      <td>27</td>\n",
       "      <td>2148</td>\n",
       "      <td>66</td>\n",
       "      <td>1</td>\n",
       "      <td>998</td>\n",
       "      <td>2</td>\n",
       "      <td>917</td>\n",
       "      <td>0</td>\n",
       "      <td>63</td>\n",
       "    </tr>\n",
       "    <tr>\n",
       "      <th>440929</th>\n",
       "      <td>10</td>\n",
       "      <td>15</td>\n",
       "      <td>27</td>\n",
       "      <td>2445</td>\n",
       "      <td>61</td>\n",
       "      <td>0</td>\n",
       "      <td>543</td>\n",
       "      <td>5</td>\n",
       "      <td>917</td>\n",
       "      <td>0</td>\n",
       "      <td>63</td>\n",
       "    </tr>\n",
       "    <tr>\n",
       "      <th>440930</th>\n",
       "      <td>10</td>\n",
       "      <td>15</td>\n",
       "      <td>27</td>\n",
       "      <td>2572</td>\n",
       "      <td>66</td>\n",
       "      <td>1</td>\n",
       "      <td>1226</td>\n",
       "      <td>6</td>\n",
       "      <td>917</td>\n",
       "      <td>0</td>\n",
       "      <td>63</td>\n",
       "    </tr>\n",
       "    <tr>\n",
       "      <th>440931</th>\n",
       "      <td>10</td>\n",
       "      <td>15</td>\n",
       "      <td>27</td>\n",
       "      <td>2787</td>\n",
       "      <td>66</td>\n",
       "      <td>1</td>\n",
       "      <td>2742</td>\n",
       "      <td>5</td>\n",
       "      <td>917</td>\n",
       "      <td>0</td>\n",
       "      <td>63</td>\n",
       "    </tr>\n",
       "    <tr>\n",
       "      <th>440932</th>\n",
       "      <td>10</td>\n",
       "      <td>15</td>\n",
       "      <td>27</td>\n",
       "      <td>151</td>\n",
       "      <td>14</td>\n",
       "      <td>0</td>\n",
       "      <td>31</td>\n",
       "      <td>3</td>\n",
       "      <td>917</td>\n",
       "      <td>0</td>\n",
       "      <td>63</td>\n",
       "    </tr>\n",
       "    <tr>\n",
       "      <th>440933</th>\n",
       "      <td>10</td>\n",
       "      <td>15</td>\n",
       "      <td>27</td>\n",
       "      <td>468</td>\n",
       "      <td>66</td>\n",
       "      <td>1</td>\n",
       "      <td>2638</td>\n",
       "      <td>2</td>\n",
       "      <td>917</td>\n",
       "      <td>0</td>\n",
       "      <td>63</td>\n",
       "    </tr>\n",
       "    <tr>\n",
       "      <th>440934</th>\n",
       "      <td>10</td>\n",
       "      <td>15</td>\n",
       "      <td>27</td>\n",
       "      <td>515</td>\n",
       "      <td>14</td>\n",
       "      <td>0</td>\n",
       "      <td>688</td>\n",
       "      <td>1</td>\n",
       "      <td>917</td>\n",
       "      <td>0</td>\n",
       "      <td>63</td>\n",
       "    </tr>\n",
       "    <tr>\n",
       "      <th>440935</th>\n",
       "      <td>10</td>\n",
       "      <td>15</td>\n",
       "      <td>27</td>\n",
       "      <td>799</td>\n",
       "      <td>61</td>\n",
       "      <td>0</td>\n",
       "      <td>1632</td>\n",
       "      <td>0</td>\n",
       "      <td>917</td>\n",
       "      <td>0</td>\n",
       "      <td>63</td>\n",
       "    </tr>\n",
       "    <tr>\n",
       "      <th>440936</th>\n",
       "      <td>10</td>\n",
       "      <td>15</td>\n",
       "      <td>27</td>\n",
       "      <td>852</td>\n",
       "      <td>66</td>\n",
       "      <td>1</td>\n",
       "      <td>885</td>\n",
       "      <td>1</td>\n",
       "      <td>917</td>\n",
       "      <td>0</td>\n",
       "      <td>63</td>\n",
       "    </tr>\n",
       "    <tr>\n",
       "      <th>440937</th>\n",
       "      <td>10</td>\n",
       "      <td>15</td>\n",
       "      <td>27</td>\n",
       "      <td>958</td>\n",
       "      <td>14</td>\n",
       "      <td>0</td>\n",
       "      <td>1491</td>\n",
       "      <td>2</td>\n",
       "      <td>917</td>\n",
       "      <td>0</td>\n",
       "      <td>63</td>\n",
       "    </tr>\n",
       "    <tr>\n",
       "      <th>440938</th>\n",
       "      <td>10</td>\n",
       "      <td>15</td>\n",
       "      <td>27</td>\n",
       "      <td>1165</td>\n",
       "      <td>61</td>\n",
       "      <td>0</td>\n",
       "      <td>2675</td>\n",
       "      <td>6</td>\n",
       "      <td>917</td>\n",
       "      <td>0</td>\n",
       "      <td>63</td>\n",
       "    </tr>\n",
       "    <tr>\n",
       "      <th>440939</th>\n",
       "      <td>10</td>\n",
       "      <td>15</td>\n",
       "      <td>27</td>\n",
       "      <td>1386</td>\n",
       "      <td>66</td>\n",
       "      <td>1</td>\n",
       "      <td>17</td>\n",
       "      <td>4</td>\n",
       "      <td>917</td>\n",
       "      <td>0</td>\n",
       "      <td>63</td>\n",
       "    </tr>\n",
       "    <tr>\n",
       "      <th>440940</th>\n",
       "      <td>10</td>\n",
       "      <td>15</td>\n",
       "      <td>27</td>\n",
       "      <td>1685</td>\n",
       "      <td>61</td>\n",
       "      <td>0</td>\n",
       "      <td>2663</td>\n",
       "      <td>6</td>\n",
       "      <td>917</td>\n",
       "      <td>0</td>\n",
       "      <td>63</td>\n",
       "    </tr>\n",
       "    <tr>\n",
       "      <th>440941</th>\n",
       "      <td>10</td>\n",
       "      <td>15</td>\n",
       "      <td>27</td>\n",
       "      <td>2104</td>\n",
       "      <td>61</td>\n",
       "      <td>0</td>\n",
       "      <td>597</td>\n",
       "      <td>6</td>\n",
       "      <td>917</td>\n",
       "      <td>0</td>\n",
       "      <td>63</td>\n",
       "    </tr>\n",
       "    <tr>\n",
       "      <th>440942</th>\n",
       "      <td>10</td>\n",
       "      <td>15</td>\n",
       "      <td>27</td>\n",
       "      <td>2174</td>\n",
       "      <td>14</td>\n",
       "      <td>0</td>\n",
       "      <td>117</td>\n",
       "      <td>4</td>\n",
       "      <td>917</td>\n",
       "      <td>0</td>\n",
       "      <td>63</td>\n",
       "    </tr>\n",
       "    <tr>\n",
       "      <th>440943</th>\n",
       "      <td>10</td>\n",
       "      <td>15</td>\n",
       "      <td>27</td>\n",
       "      <td>2375</td>\n",
       "      <td>66</td>\n",
       "      <td>1</td>\n",
       "      <td>696</td>\n",
       "      <td>1</td>\n",
       "      <td>917</td>\n",
       "      <td>0</td>\n",
       "      <td>63</td>\n",
       "    </tr>\n",
       "    <tr>\n",
       "      <th>440950</th>\n",
       "      <td>10</td>\n",
       "      <td>1</td>\n",
       "      <td>52</td>\n",
       "      <td>1179</td>\n",
       "      <td>3</td>\n",
       "      <td>0</td>\n",
       "      <td>466</td>\n",
       "      <td>6</td>\n",
       "      <td>1520</td>\n",
       "      <td>1</td>\n",
       "      <td>114</td>\n",
       "    </tr>\n",
       "    <tr>\n",
       "      <th>440951</th>\n",
       "      <td>10</td>\n",
       "      <td>1</td>\n",
       "      <td>52</td>\n",
       "      <td>1944</td>\n",
       "      <td>66</td>\n",
       "      <td>1</td>\n",
       "      <td>2516</td>\n",
       "      <td>6</td>\n",
       "      <td>1520</td>\n",
       "      <td>1</td>\n",
       "      <td>114</td>\n",
       "    </tr>\n",
       "    <tr>\n",
       "      <th>440952</th>\n",
       "      <td>10</td>\n",
       "      <td>1</td>\n",
       "      <td>52</td>\n",
       "      <td>1994</td>\n",
       "      <td>66</td>\n",
       "      <td>1</td>\n",
       "      <td>2506</td>\n",
       "      <td>6</td>\n",
       "      <td>1520</td>\n",
       "      <td>1</td>\n",
       "      <td>114</td>\n",
       "    </tr>\n",
       "  </tbody>\n",
       "</table>\n",
       "<p>154950 rows × 11 columns</p>\n",
       "</div>"
      ],
      "text/plain": [
       "        group  phone_brand  device_model  event_id  city  cc  time_dl  wkday  \\\n",
       "2          10           15            83       343    66   1     1643      2   \n",
       "3          10           15            83       537    66   1      523      5   \n",
       "4          10           15            83      1437    66   1     1402      1   \n",
       "222        10           11            13      2831    34   0      414      3   \n",
       "223        10           11            13      2670    90   0     2621      0   \n",
       "224        10           11            13      2930    90   0     1865      1   \n",
       "225        10           11            13        14    90   0     1689      1   \n",
       "226        10           11            13       288    90   0      137      2   \n",
       "227        10           11            13       689    90   0     2665      6   \n",
       "228        10           11            13      1067    88   0     1486      0   \n",
       "331        10           10             9      2577    49   1       45      2   \n",
       "332        10           10             9      2463    49   1      847      0   \n",
       "333        10           10             9      2838    49   1      538      6   \n",
       "334        10           10             9       302    49   1      547      3   \n",
       "335        10           10             9       460    66   1      848      5   \n",
       "336        10           10             9      1659    49   1     1979      0   \n",
       "337        10           10             9      1821    66   1      750      0   \n",
       "338        10           10             9      1850    49   1     1029      0   \n",
       "339        10           10             9      2387    49   1     2827      5   \n",
       "340        10           10             9      2444    49   1      601      6   \n",
       "341        10           10             9      2525    49   1      537      4   \n",
       "342        10           10             9      2533    49   1     1553      0   \n",
       "343        10           10             9      2646    49   1      483      6   \n",
       "344        10           10             9      2664    49   1     2364      6   \n",
       "345        10           10             9      2679    66   1     3008      1   \n",
       "346        10           10             9      2854    49   1     2521      6   \n",
       "347        10           10             9      2975    49   1      119      6   \n",
       "348        10           10             9      3033    66   1     2109      2   \n",
       "349        10           10             9      3053    49   1      810      2   \n",
       "350        10           10             9      3071    49   1      122      6   \n",
       "...       ...          ...           ...       ...   ...  ..      ...    ...   \n",
       "440917     10           15            27       852    66   1      885      1   \n",
       "440918     10           15            27       958    14   0     1491      2   \n",
       "440919     10           15            27      1165    61   0     2675      6   \n",
       "440920     10           15            27      1386    66   1       17      4   \n",
       "440921     10           15            27      1685    61   0     2663      6   \n",
       "440922     10           15            27      2104    61   0      597      6   \n",
       "440923     10           15            27      2174    14   0      117      4   \n",
       "440924     10           15            27      2375    66   1      696      1   \n",
       "440925     10           15            27      2464    61   0      469      0   \n",
       "440926     10           15            27      3009    66   1      878      3   \n",
       "440927     10           15            27      1847    66   1      797      5   \n",
       "440928     10           15            27      2148    66   1      998      2   \n",
       "440929     10           15            27      2445    61   0      543      5   \n",
       "440930     10           15            27      2572    66   1     1226      6   \n",
       "440931     10           15            27      2787    66   1     2742      5   \n",
       "440932     10           15            27       151    14   0       31      3   \n",
       "440933     10           15            27       468    66   1     2638      2   \n",
       "440934     10           15            27       515    14   0      688      1   \n",
       "440935     10           15            27       799    61   0     1632      0   \n",
       "440936     10           15            27       852    66   1      885      1   \n",
       "440937     10           15            27       958    14   0     1491      2   \n",
       "440938     10           15            27      1165    61   0     2675      6   \n",
       "440939     10           15            27      1386    66   1       17      4   \n",
       "440940     10           15            27      1685    61   0     2663      6   \n",
       "440941     10           15            27      2104    61   0      597      6   \n",
       "440942     10           15            27      2174    14   0      117      4   \n",
       "440943     10           15            27      2375    66   1      696      1   \n",
       "440950     10            1            52      1179     3   0      466      6   \n",
       "440951     10            1            52      1944    66   1     2516      6   \n",
       "440952     10            1            52      1994    66   1     2506      6   \n",
       "\n",
       "        app_id  is_active  category  \n",
       "2         1256          1       151  \n",
       "3         1256          0       151  \n",
       "4         1256          1       151  \n",
       "222       1256          0       151  \n",
       "223       1256          1       151  \n",
       "224       1256          1       151  \n",
       "225       1256          1       151  \n",
       "226       1256          0       151  \n",
       "227       1256          0       151  \n",
       "228       1256          0       151  \n",
       "331       1256          0       151  \n",
       "332       1256          0       151  \n",
       "333       1256          0       151  \n",
       "334       1256          0       151  \n",
       "335       1256          0       151  \n",
       "336       1256          0       151  \n",
       "337       1256          0       151  \n",
       "338       1256          0       151  \n",
       "339       1256          0       151  \n",
       "340       1256          0       151  \n",
       "341       1256          0       151  \n",
       "342       1256          0       151  \n",
       "343       1256          0       151  \n",
       "344       1256          0       151  \n",
       "345       1256          0       151  \n",
       "346       1256          0       151  \n",
       "347       1256          0       151  \n",
       "348       1256          0       151  \n",
       "349       1256          0       151  \n",
       "350       1256          0       151  \n",
       "...        ...        ...       ...  \n",
       "440917     630          0        48  \n",
       "440918     630          0        48  \n",
       "440919     630          0        48  \n",
       "440920     630          0        48  \n",
       "440921     630          0        48  \n",
       "440922     630          0        48  \n",
       "440923     630          0        48  \n",
       "440924     630          0        48  \n",
       "440925     917          0        63  \n",
       "440926     917          0        63  \n",
       "440927     917          0        63  \n",
       "440928     917          0        63  \n",
       "440929     917          0        63  \n",
       "440930     917          0        63  \n",
       "440931     917          0        63  \n",
       "440932     917          0        63  \n",
       "440933     917          0        63  \n",
       "440934     917          0        63  \n",
       "440935     917          0        63  \n",
       "440936     917          0        63  \n",
       "440937     917          0        63  \n",
       "440938     917          0        63  \n",
       "440939     917          0        63  \n",
       "440940     917          0        63  \n",
       "440941     917          0        63  \n",
       "440942     917          0        63  \n",
       "440943     917          0        63  \n",
       "440950    1520          1       114  \n",
       "440951    1520          1       114  \n",
       "440952    1520          1       114  \n",
       "\n",
       "[154950 rows x 11 columns]"
      ]
     },
     "execution_count": 40,
     "metadata": {},
     "output_type": "execute_result"
    }
   ],
   "source": [
    "traindf[traindf['group'] ==10]\n",
    "groupnum = []\n",
    "countnum = []\n",
    "for i in traindf.group.unique():\n",
    "    groupnum.append(i)\n",
    "    for j in traindf.phone_brand.unique():\n",
    "        "
   ]
  },
  {
   "cell_type": "code",
   "execution_count": null,
   "metadata": {},
   "outputs": [],
   "source": []
  }
 ],
 "metadata": {
  "kernelspec": {
   "display_name": "Python 3",
   "language": "python",
   "name": "python3"
  },
  "language_info": {
   "codemirror_mode": {
    "name": "ipython",
    "version": 3
   },
   "file_extension": ".py",
   "mimetype": "text/x-python",
   "name": "python",
   "nbconvert_exporter": "python",
   "pygments_lexer": "ipython3",
   "version": "3.6.4"
  }
 },
 "nbformat": 4,
 "nbformat_minor": 2
}
