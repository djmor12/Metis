{
 "cells": [
  {
   "cell_type": "code",
   "execution_count": 2,
   "metadata": {
    "ExecuteTime": {
     "end_time": "2018-05-15T22:21:50.265662Z",
     "start_time": "2018-05-15T22:13:34.577333Z"
    }
   },
   "outputs": [
    {
     "name": "stderr",
     "output_type": "stream",
     "text": [
      " * Running on http://0.0.0.0:5000/ (Press CTRL+C to quit)\n",
      "127.0.0.1 - - [15/May/2018 15:13:37] \"GET / HTTP/1.1\" 200 -\n",
      "127.0.0.1 - - [15/May/2018 15:13:37] \"GET /style.css HTTP/1.1\" 404 -\n",
      "127.0.0.1 - - [15/May/2018 15:13:37] \"GET /drop_down.js HTTP/1.1\" 404 -\n",
      "127.0.0.1 - - [15/May/2018 15:13:37] \"GET /mod_dd.js HTTP/1.1\" 404 -\n",
      "127.0.0.1 - - [15/May/2018 15:13:37] \"GET /citydd.js HTTP/1.1\" 404 -\n",
      "127.0.0.1 - - [15/May/2018 15:13:37] \"GET /drop_down.js HTTP/1.1\" 404 -\n",
      "127.0.0.1 - - [15/May/2018 15:13:37] \"GET /mod_dd.js HTTP/1.1\" 404 -\n",
      "127.0.0.1 - - [15/May/2018 15:13:37] \"GET /citydd.js HTTP/1.1\" 404 -\n",
      "127.0.0.1 - - [15/May/2018 15:18:56] \"GET / HTTP/1.1\" 200 -\n",
      "127.0.0.1 - - [15/May/2018 15:18:56] \"GET /style.css HTTP/1.1\" 404 -\n",
      "127.0.0.1 - - [15/May/2018 15:18:56] \"GET /drop_down.js HTTP/1.1\" 404 -\n",
      "127.0.0.1 - - [15/May/2018 15:18:56] \"GET /mod_dd.js HTTP/1.1\" 404 -\n",
      "127.0.0.1 - - [15/May/2018 15:18:56] \"GET /citydd.js HTTP/1.1\" 404 -\n",
      "127.0.0.1 - - [15/May/2018 15:18:56] \"GET /drop_down.js HTTP/1.1\" 404 -\n",
      "127.0.0.1 - - [15/May/2018 15:18:56] \"GET /drop_down.js HTTP/1.1\" 404 -\n",
      "127.0.0.1 - - [15/May/2018 15:18:56] \"GET /mod_dd.js HTTP/1.1\" 404 -\n",
      "127.0.0.1 - - [15/May/2018 15:18:56] \"GET /citydd.js HTTP/1.1\" 404 -\n",
      "127.0.0.1 - - [15/May/2018 15:20:30] \"GET / HTTP/1.1\" 200 -\n",
      "127.0.0.1 - - [15/May/2018 15:20:30] \"GET /style.css HTTP/1.1\" 404 -\n",
      "127.0.0.1 - - [15/May/2018 15:20:30] \"GET /drop_down.js HTTP/1.1\" 404 -\n",
      "127.0.0.1 - - [15/May/2018 15:20:30] \"GET /mod_dd.js HTTP/1.1\" 404 -\n",
      "127.0.0.1 - - [15/May/2018 15:20:30] \"GET /citydd.js HTTP/1.1\" 404 -\n",
      "127.0.0.1 - - [15/May/2018 15:20:30] \"GET /drop_down.js HTTP/1.1\" 404 -\n",
      "127.0.0.1 - - [15/May/2018 15:20:30] \"GET /mod_dd.js HTTP/1.1\" 404 -\n",
      "127.0.0.1 - - [15/May/2018 15:20:30] \"GET /citydd.js HTTP/1.1\" 404 -\n",
      " * Running on http://127.0.0.1:5000/ (Press CTRL+C to quit)\n",
      " * Restarting with stat\n"
     ]
    },
    {
     "ename": "SystemExit",
     "evalue": "1",
     "output_type": "error",
     "traceback": [
      "An exception has occurred, use %tb to see the full traceback.\n",
      "\u001b[0;31mSystemExit\u001b[0m\u001b[0;31m:\u001b[0m 1\n"
     ]
    },
    {
     "name": "stderr",
     "output_type": "stream",
     "text": [
      "/anaconda3/lib/python3.6/site-packages/IPython/core/interactiveshell.py:2918: UserWarning: To exit: use 'exit', 'quit', or Ctrl-D.\n",
      "  warn(\"To exit: use 'exit', 'quit', or Ctrl-D.\", stacklevel=1)\n"
     ]
    }
   ],
   "source": [
    "from flask import Flask, Response\n",
    "import json\n",
    "from catboost import CatBoostRegressor, CatBoostClassifier, Pool\n",
    "#import urllib2\n",
    "\n",
    "app = Flask(__name__)\n",
    "\n",
    "#CatBoost\n",
    "model=CatBoostClassifier(iterations=20, depth=7, learning_rate=0.1, loss_function = 'MultiClass')\n",
    "model.load_model('catboost_model3.dump') \n",
    "@app.route(\"/\")\n",
    "def viz_page():\n",
    "    \"\"\"\n",
    "    Homepage: serve our visualization page\n",
    "    \"\"\"\n",
    "    with open(\"index.html\", 'r') as viz_file:\n",
    "        return viz_file.read()\n",
    "\n",
    "@app.route(\"/score\", methods=[\"POST\"])\n",
    "def score():\n",
    "    \"\"\"\n",
    "    When A POST request with json data is made to this uri,\n",
    "    Read the example from the json, predict probability and\n",
    "    send it with a response\n",
    "    \"\"\"\n",
    "    # Get decision score for our example that came with the request\n",
    "    data = flask.request.json\n",
    "    x = np.matrix(data[\"example\"])\n",
    "    score = model.predict_proba(x)\n",
    "    # Put the result in a nice dict so we can send it as json\n",
    "    results = {\"score\": score[0,1]}\n",
    "    return flask.jsonify(results)\n",
    "\n",
    "#--------- RUN WEB APP SERVER ------------#\n",
    "\n",
    "# Start the app server on port 80\n",
    "# (The default website port)\n",
    "#app.run(host='0.0.0.0')\n",
    "#app.run(debug=True)"
   ]
  },
  {
   "cell_type": "code",
   "execution_count": null,
   "metadata": {},
   "outputs": [],
   "source": []
  }
 ],
 "metadata": {
  "kernelspec": {
   "display_name": "Python 3",
   "language": "python",
   "name": "python3"
  },
  "language_info": {
   "codemirror_mode": {
    "name": "ipython",
    "version": 3
   },
   "file_extension": ".py",
   "mimetype": "text/x-python",
   "name": "python",
   "nbconvert_exporter": "python",
   "pygments_lexer": "ipython3",
   "version": "3.6.4"
  }
 },
 "nbformat": 4,
 "nbformat_minor": 2
}
