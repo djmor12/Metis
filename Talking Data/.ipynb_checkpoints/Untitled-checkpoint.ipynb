{
 "cells": [
  {
   "cell_type": "code",
   "execution_count": 11,
   "metadata": {
    "ExecuteTime": {
     "end_time": "2018-06-14T18:04:09.084262Z",
     "start_time": "2018-06-14T18:04:09.080626Z"
    }
   },
   "outputs": [],
   "source": [
    "T = [[0,4,9,3,1,2], [4,0,2,1,4,2],[9,2,0,7,2,1],[3,1,7,0,6,6],[1,4,2,6,0,2],[2,2,1,6,2,0]]"
   ]
  },
  {
   "cell_type": "code",
   "execution_count": 30,
   "metadata": {
    "ExecuteTime": {
     "end_time": "2018-06-14T18:18:13.790331Z",
     "start_time": "2018-06-14T18:18:13.783735Z"
    }
   },
   "outputs": [],
   "source": [
    "import numpy as np\n",
    "def short(start, dest, stops=1):\n",
    "    dist = []\n",
    "    for i in range(len(T)):\n",
    "        for j in range(len(T)):\n",
    "            sum1 = T[i][start]+T[j][i]+T[j][dest]\n",
    "            dist.append(sum1)\n",
    "    print(dist)\n",
    "    return min(dist)"
   ]
  },
  {
   "cell_type": "code",
   "execution_count": 34,
   "metadata": {
    "ExecuteTime": {
     "end_time": "2018-06-14T18:21:39.163618Z",
     "start_time": "2018-06-14T18:21:39.159596Z"
    }
   },
   "outputs": [
    {
     "name": "stdout",
     "output_type": "stream",
     "text": [
      "[4, 4, 11, 4, 5, 4]\n"
     ]
    },
    {
     "data": {
      "text/plain": [
       "4"
      ]
     },
     "execution_count": 34,
     "metadata": {},
     "output_type": "execute_result"
    }
   ],
   "source": [
    "short(0,1)"
   ]
  },
  {
   "cell_type": "code",
   "execution_count": null,
   "metadata": {},
   "outputs": [],
   "source": []
  }
 ],
 "metadata": {
  "kernelspec": {
   "display_name": "Python 3",
   "language": "python",
   "name": "python3"
  },
  "language_info": {
   "codemirror_mode": {
    "name": "ipython",
    "version": 3
   },
   "file_extension": ".py",
   "mimetype": "text/x-python",
   "name": "python",
   "nbconvert_exporter": "python",
   "pygments_lexer": "ipython3",
   "version": "3.6.4"
  }
 },
 "nbformat": 4,
 "nbformat_minor": 2
}
