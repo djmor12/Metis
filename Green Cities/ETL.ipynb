{
 "cells": [
  {
   "cell_type": "code",
   "execution_count": 560,
   "metadata": {
    "ExecuteTime": {
     "end_time": "2018-06-08T00:55:13.718465Z",
     "start_time": "2018-06-08T00:55:13.387540Z"
    }
   },
   "outputs": [],
   "source": [
    "import pandas as pd\n",
    "import numpy as np\n",
    "import os\n",
    "import re\n",
    "import pickle\n",
    "from bs4 import BeautifulSoup as soup\n",
    "import requests as rq\n",
    "import time\n",
    "import h5py\n",
    "import scipy as sp\n",
    "import scipy.stats\n",
    "import datetime\n",
    "from datetime import date\n",
    "import matplotlib.pyplot as plt\n",
    "import seaborn as sn"
   ]
  },
  {
   "cell_type": "markdown",
   "metadata": {},
   "source": [
    "# EDA"
   ]
  },
  {
   "cell_type": "markdown",
   "metadata": {
    "heading_collapsed": true
   },
   "source": [
    "## Pulling in Data\n",
    "\n",
    "The data collected is a mix of HDF5, csv and web scraped data about the Bay area.  The CSVs are for particle concentraions, HDF5s for CO2 ppm, and the web scraped data is for empty lot/apartments for sale in the San Fransisco."
   ]
  },
  {
   "cell_type": "code",
   "execution_count": 323,
   "metadata": {
    "ExecuteTime": {
     "end_time": "2018-06-07T22:58:55.920463Z",
     "start_time": "2018-06-07T22:58:55.910923Z"
    },
    "hidden": true
   },
   "outputs": [],
   "source": [
    "#starting off by reading in the csv files\n",
    "aqcsvs = []\n",
    "aqcsvs += ['../../../../Documents/largecsvs/others/'+each for each in os.listdir('../../../../Documents/largecsvs/others/') if each.endswith('.csv')]\n",
    "\n",
    "part = []\n",
    "part += ['../../../../Documents/largecsvs/particle/'+each for each in os.listdir('../../../../Documents/largecsvs/particle/') if each.endswith('csv')]\n",
    "#getting all H5 files for the project\n",
    "results = []\n",
    "results += ['../../../../Downloads/'+each for each in os.listdir('../../../../Downloads/') if each.endswith('.h5')]"
   ]
  },
  {
   "cell_type": "code",
   "execution_count": 324,
   "metadata": {
    "ExecuteTime": {
     "end_time": "2018-06-07T22:58:56.435810Z",
     "start_time": "2018-06-07T22:58:56.432165Z"
    },
    "hidden": true
   },
   "outputs": [],
   "source": [
    "aqcsvs=sorted(aqcsvs)\n",
    "part=sorted(part)"
   ]
  },
  {
   "cell_type": "code",
   "execution_count": 325,
   "metadata": {
    "ExecuteTime": {
     "end_time": "2018-06-07T22:58:56.854005Z",
     "start_time": "2018-06-07T22:58:56.846102Z"
    },
    "hidden": true
   },
   "outputs": [],
   "source": [
    "weatherdf = pd.read_csv('weather/1367384.csv')"
   ]
  },
  {
   "cell_type": "code",
   "execution_count": 326,
   "metadata": {
    "ExecuteTime": {
     "end_time": "2018-06-07T22:58:57.291938Z",
     "start_time": "2018-06-07T22:58:57.286800Z"
    },
    "hidden": true
   },
   "outputs": [],
   "source": [
    "weatherdf.drop(['STATION', 'NAME','ELEVATION', 'SNWD', 'TOBS'], axis=1, inplace=True)\n",
    "weatherdf = weatherdf.fillna(0)"
   ]
  },
  {
   "cell_type": "code",
   "execution_count": 327,
   "metadata": {
    "ExecuteTime": {
     "end_time": "2018-06-07T22:58:57.683958Z",
     "start_time": "2018-06-07T22:58:57.670945Z"
    },
    "hidden": true
   },
   "outputs": [
    {
     "data": {
      "text/html": [
       "<div>\n",
       "<style scoped>\n",
       "    .dataframe tbody tr th:only-of-type {\n",
       "        vertical-align: middle;\n",
       "    }\n",
       "\n",
       "    .dataframe tbody tr th {\n",
       "        vertical-align: top;\n",
       "    }\n",
       "\n",
       "    .dataframe thead th {\n",
       "        text-align: right;\n",
       "    }\n",
       "</style>\n",
       "<table border=\"1\" class=\"dataframe\">\n",
       "  <thead>\n",
       "    <tr style=\"text-align: right;\">\n",
       "      <th></th>\n",
       "      <th>LATITUDE</th>\n",
       "      <th>LONGITUDE</th>\n",
       "      <th>DATE</th>\n",
       "      <th>PRCP</th>\n",
       "      <th>SNOW</th>\n",
       "      <th>TAVG</th>\n",
       "      <th>TMAX</th>\n",
       "      <th>TMIN</th>\n",
       "    </tr>\n",
       "  </thead>\n",
       "  <tbody>\n",
       "    <tr>\n",
       "      <th>0</th>\n",
       "      <td>37.7705</td>\n",
       "      <td>-122.4269</td>\n",
       "      <td>2014-01-01</td>\n",
       "      <td>0.0</td>\n",
       "      <td>0.0</td>\n",
       "      <td>0.0</td>\n",
       "      <td>63.0</td>\n",
       "      <td>44.0</td>\n",
       "    </tr>\n",
       "    <tr>\n",
       "      <th>1</th>\n",
       "      <td>37.7705</td>\n",
       "      <td>-122.4269</td>\n",
       "      <td>2014-01-02</td>\n",
       "      <td>0.0</td>\n",
       "      <td>0.0</td>\n",
       "      <td>0.0</td>\n",
       "      <td>63.0</td>\n",
       "      <td>48.0</td>\n",
       "    </tr>\n",
       "    <tr>\n",
       "      <th>2</th>\n",
       "      <td>37.7705</td>\n",
       "      <td>-122.4269</td>\n",
       "      <td>2014-01-03</td>\n",
       "      <td>0.0</td>\n",
       "      <td>0.0</td>\n",
       "      <td>0.0</td>\n",
       "      <td>64.0</td>\n",
       "      <td>49.0</td>\n",
       "    </tr>\n",
       "    <tr>\n",
       "      <th>3</th>\n",
       "      <td>37.7705</td>\n",
       "      <td>-122.4269</td>\n",
       "      <td>2014-01-04</td>\n",
       "      <td>0.0</td>\n",
       "      <td>0.0</td>\n",
       "      <td>0.0</td>\n",
       "      <td>66.0</td>\n",
       "      <td>46.0</td>\n",
       "    </tr>\n",
       "    <tr>\n",
       "      <th>4</th>\n",
       "      <td>37.7705</td>\n",
       "      <td>-122.4269</td>\n",
       "      <td>2014-01-05</td>\n",
       "      <td>0.0</td>\n",
       "      <td>0.0</td>\n",
       "      <td>0.0</td>\n",
       "      <td>66.0</td>\n",
       "      <td>48.0</td>\n",
       "    </tr>\n",
       "  </tbody>\n",
       "</table>\n",
       "</div>"
      ],
      "text/plain": [
       "   LATITUDE  LONGITUDE        DATE  PRCP  SNOW  TAVG  TMAX  TMIN\n",
       "0   37.7705  -122.4269  2014-01-01   0.0   0.0   0.0  63.0  44.0\n",
       "1   37.7705  -122.4269  2014-01-02   0.0   0.0   0.0  63.0  48.0\n",
       "2   37.7705  -122.4269  2014-01-03   0.0   0.0   0.0  64.0  49.0\n",
       "3   37.7705  -122.4269  2014-01-04   0.0   0.0   0.0  66.0  46.0\n",
       "4   37.7705  -122.4269  2014-01-05   0.0   0.0   0.0  66.0  48.0"
      ]
     },
     "execution_count": 327,
     "metadata": {},
     "output_type": "execute_result"
    }
   ],
   "source": [
    "weatherdf.head()"
   ]
  },
  {
   "cell_type": "code",
   "execution_count": 328,
   "metadata": {
    "ExecuteTime": {
     "end_time": "2018-06-07T22:58:58.101621Z",
     "start_time": "2018-06-07T22:58:58.098372Z"
    },
    "hidden": true
   },
   "outputs": [
    {
     "data": {
      "text/plain": [
       "['../../../../Documents/largecsvs/particle/Pdaily_88101_2014.csv',\n",
       " '../../../../Documents/largecsvs/particle/Pdaily_88101_2015.csv',\n",
       " '../../../../Documents/largecsvs/particle/Pdaily_88101_2016.csv',\n",
       " '../../../../Documents/largecsvs/particle/Pdaily_88101_2017.csv',\n",
       " '../../../../Documents/largecsvs/particle/Pdaily_88101_2018.csv']"
      ]
     },
     "execution_count": 328,
     "metadata": {},
     "output_type": "execute_result"
    }
   ],
   "source": [
    "part[]"
   ]
  },
  {
   "cell_type": "code",
   "execution_count": 486,
   "metadata": {
    "ExecuteTime": {
     "end_time": "2018-06-08T00:09:04.966570Z",
     "start_time": "2018-06-08T00:08:53.203523Z"
    },
    "hidden": true
   },
   "outputs": [
    {
     "name": "stderr",
     "output_type": "stream",
     "text": [
      "/anaconda3/lib/python3.6/site-packages/IPython/core/interactiveshell.py:2728: DtypeWarning: Columns (27) have mixed types. Specify dtype option on import or set low_memory=False.\n",
      "  interactivity=interactivity, compiler=compiler, result=result)\n"
     ]
    }
   ],
   "source": [
    "pdf=pd.read_csv(part[0])\n",
    "\n",
    "for i in range(1,len(part)):\n",
    "    temp = pd.read_csv(part[i])\n",
    "    pdf = pd.concat([pdf,temp], ignore_index=True)"
   ]
  },
  {
   "cell_type": "code",
   "execution_count": 487,
   "metadata": {
    "ExecuteTime": {
     "end_time": "2018-06-08T00:09:06.129113Z",
     "start_time": "2018-06-08T00:09:04.968628Z"
    },
    "hidden": true
   },
   "outputs": [],
   "source": [
    "#Filtering out unneed data\n",
    "pdf = pdf[pdf['State Name']=='California']\n",
    "pdf = pdf[pdf['CBSA Name']=='San Francisco-Oakland-Hayward, CA']\n",
    "pdf = pdf[pdf['City Name'].isin(['Oakland','Richmond','San Pablo','San Francisco','San Rafael'])]\n",
    "pdf.drop(['State Code', 'County Code', 'Site Num', 'Parameter Code', 'POC', 'Datum', 'Sample Duration',\n",
    "       'Pollutant Standard', 'Units of Measure', 'Event Type',\n",
    "       'Observation Count', 'Observation Percent', 'AQI', 'Method Code', 'Method Name',\n",
    "       'Local Site Name', 'Address', 'State Name','City Name',\n",
    "       'CBSA Name', 'Date of Last Change'], axis=1, inplace=True)\n",
    "\n",
    "pdf.reset_index(drop=True,inplace=True)"
   ]
  },
  {
   "cell_type": "code",
   "execution_count": 489,
   "metadata": {
    "ExecuteTime": {
     "end_time": "2018-06-08T00:09:15.820849Z",
     "start_time": "2018-06-08T00:09:15.817611Z"
    },
    "hidden": true
   },
   "outputs": [
    {
     "data": {
      "text/plain": [
       "17711"
      ]
     },
     "execution_count": 489,
     "metadata": {},
     "output_type": "execute_result"
    }
   ],
   "source": [
    "len(pdf)"
   ]
  },
  {
   "cell_type": "code",
   "execution_count": 490,
   "metadata": {
    "ExecuteTime": {
     "end_time": "2018-06-08T00:09:18.390357Z",
     "start_time": "2018-06-08T00:09:18.386674Z"
    },
    "hidden": true
   },
   "outputs": [
    {
     "data": {
      "text/plain": [
       "18132"
      ]
     },
     "execution_count": 490,
     "metadata": {},
     "output_type": "execute_result"
    }
   ],
   "source": [
    "len(codf)"
   ]
  },
  {
   "cell_type": "code",
   "execution_count": 491,
   "metadata": {
    "ExecuteTime": {
     "end_time": "2018-06-08T00:09:32.878404Z",
     "start_time": "2018-06-08T00:09:32.874322Z"
    },
    "hidden": true
   },
   "outputs": [
    {
     "data": {
      "text/plain": [
       "['../../../../Documents/largecsvs/others/COdaily_42101_2014.csv',\n",
       " '../../../../Documents/largecsvs/others/COdaily_42101_2015.csv',\n",
       " '../../../../Documents/largecsvs/others/COdaily_42101_2016.csv',\n",
       " '../../../../Documents/largecsvs/others/COdaily_42101_2017.csv',\n",
       " '../../../../Documents/largecsvs/others/COdaily_42101_2018.csv',\n",
       " '../../../../Documents/largecsvs/others/Odaily_44201_2014.csv',\n",
       " '../../../../Documents/largecsvs/others/Odaily_44201_2015.csv',\n",
       " '../../../../Documents/largecsvs/others/Odaily_44201_2016.csv',\n",
       " '../../../../Documents/largecsvs/others/Odaily_44201_2017.csv',\n",
       " '../../../../Documents/largecsvs/others/Odaily_44201_2018.csv',\n",
       " '../../../../Documents/largecsvs/others/SOdaily_42401_2014.csv',\n",
       " '../../../../Documents/largecsvs/others/SOdaily_42401_2015.csv',\n",
       " '../../../../Documents/largecsvs/others/SOdaily_42401_2016.csv',\n",
       " '../../../../Documents/largecsvs/others/SOdaily_42401_2017.csv',\n",
       " '../../../../Documents/largecsvs/others/SOdaily_42401_2018.csv',\n",
       " '../../../../Documents/largecsvs/others/daily_aqi_by_cbsa_2014.csv',\n",
       " '../../../../Documents/largecsvs/others/daily_aqi_by_cbsa_2015.csv',\n",
       " '../../../../Documents/largecsvs/others/daily_aqi_by_cbsa_2016.csv',\n",
       " '../../../../Documents/largecsvs/others/daily_aqi_by_cbsa_2017.csv',\n",
       " '../../../../Documents/largecsvs/others/daily_aqi_by_cbsa_2018.csv',\n",
       " '../../../../Documents/largecsvs/others/daily_aqi_by_county_2014.csv',\n",
       " '../../../../Documents/largecsvs/others/daily_aqi_by_county_2015.csv',\n",
       " '../../../../Documents/largecsvs/others/daily_aqi_by_county_2016.csv',\n",
       " '../../../../Documents/largecsvs/others/daily_aqi_by_county_2017.csv',\n",
       " '../../../../Documents/largecsvs/others/daily_aqi_by_county_2018.csv']"
      ]
     },
     "execution_count": 491,
     "metadata": {},
     "output_type": "execute_result"
    }
   ],
   "source": [
    "aqcsvs"
   ]
  },
  {
   "cell_type": "code",
   "execution_count": 492,
   "metadata": {
    "ExecuteTime": {
     "end_time": "2018-06-08T00:10:18.551274Z",
     "start_time": "2018-06-08T00:09:33.135771Z"
    },
    "hidden": true
   },
   "outputs": [],
   "source": [
    "#Creating a 3 dataframes based on which ones I will need, 2 are needed from this call\n",
    "aq=pd.read_csv(aqcsvs[0])\n",
    "\n",
    "for i in range(1,len(aqcsvs)):\n",
    "    if i==15:\n",
    "        aq2=pd.read_csv(aqcsvs[i])\n",
    "    elif i>15 and i<=20:\n",
    "        temp = pd.read_csv(aqcsvs[i])\n",
    "        aq2 = pd.concat([aq2,temp], ignore_index=True)\n",
    "    elif i==21:\n",
    "        aq3=pd.read_csv(aqcsvs[i])\n",
    "    elif i>21:\n",
    "        temp = pd.read_csv(aqcsvs[i])\n",
    "        aq3 = pd.concat([aq3,temp], ignore_index=True)\n",
    "    else:\n",
    "        temp = pd.read_csv(aqcsvs[i])\n",
    "        aq = pd.concat([aq,temp], ignore_index=True)"
   ]
  },
  {
   "cell_type": "code",
   "execution_count": 493,
   "metadata": {
    "ExecuteTime": {
     "end_time": "2018-06-08T00:10:21.046317Z",
     "start_time": "2018-06-08T00:10:18.553663Z"
    },
    "hidden": true
   },
   "outputs": [],
   "source": [
    "#Filtering out unneed data\n",
    "aq = aq[aq['State Name']=='California']\n",
    "aq = aq[aq['CBSA Name']=='San Francisco-Oakland-Hayward, CA']\n",
    "aq = aq[aq['City Name'].isin(['Oakland','Richmond','San Pablo','San Francisco','San Rafael'])]\n",
    "aq.drop(['State Code', 'County Code', 'Site Num', 'Parameter Code', 'POC', 'Datum', 'Sample Duration',\n",
    "       'Pollutant Standard', 'Units of Measure', 'Event Type',\n",
    "       'Observation Count', 'Observation Percent', 'AQI', 'Method Code', 'Method Name',\n",
    "       'Local Site Name', 'Address', 'State Name','City Name',\n",
    "       'CBSA Name', 'Date of Last Change'], axis=1, inplace=True)\n",
    "#filtering to relevant cities\n",
    "aq.reset_index(drop=True,inplace=True)"
   ]
  },
  {
   "cell_type": "code",
   "execution_count": 494,
   "metadata": {
    "ExecuteTime": {
     "end_time": "2018-06-08T00:10:21.080892Z",
     "start_time": "2018-06-08T00:10:21.048605Z"
    },
    "hidden": true
   },
   "outputs": [],
   "source": [
    "codf = aq[aq['Parameter Name']=='Carbon monoxide']\n",
    "ozdf= aq[aq['Parameter Name']=='Ozone']\n",
    "sodf= aq[aq['Parameter Name']=='Sulfur dioxide']\n"
   ]
  },
  {
   "cell_type": "code",
   "execution_count": 495,
   "metadata": {
    "ExecuteTime": {
     "end_time": "2018-06-08T00:10:21.248839Z",
     "start_time": "2018-06-08T00:10:21.082879Z"
    },
    "hidden": true
   },
   "outputs": [
    {
     "data": {
      "text/plain": [
       "Index(['county Name', 'Date', 'AQI', 'Category', 'Defining Parameter'], dtype='object')"
      ]
     },
     "execution_count": 495,
     "metadata": {},
     "output_type": "execute_result"
    }
   ],
   "source": [
    "aq3 = aq3[['county Name', 'Date', 'AQI','Category', 'Defining Parameter']]\n",
    "aq3.columns"
   ]
  },
  {
   "cell_type": "code",
   "execution_count": 496,
   "metadata": {
    "ExecuteTime": {
     "end_time": "2018-06-08T00:10:21.299223Z",
     "start_time": "2018-06-08T00:10:21.250425Z"
    },
    "hidden": true
   },
   "outputs": [
    {
     "data": {
      "text/html": [
       "<div>\n",
       "<style scoped>\n",
       "    .dataframe tbody tr th:only-of-type {\n",
       "        vertical-align: middle;\n",
       "    }\n",
       "\n",
       "    .dataframe tbody tr th {\n",
       "        vertical-align: top;\n",
       "    }\n",
       "\n",
       "    .dataframe thead th {\n",
       "        text-align: right;\n",
       "    }\n",
       "</style>\n",
       "<table border=\"1\" class=\"dataframe\">\n",
       "  <thead>\n",
       "    <tr style=\"text-align: right;\">\n",
       "      <th></th>\n",
       "      <th>county Name</th>\n",
       "      <th>Date</th>\n",
       "      <th>AQI</th>\n",
       "      <th>Category</th>\n",
       "      <th>Defining Parameter</th>\n",
       "    </tr>\n",
       "  </thead>\n",
       "  <tbody>\n",
       "    <tr>\n",
       "      <th>0</th>\n",
       "      <td>Alameda</td>\n",
       "      <td>2015-01-01</td>\n",
       "      <td>61</td>\n",
       "      <td>Moderate</td>\n",
       "      <td>PM2.5</td>\n",
       "    </tr>\n",
       "    <tr>\n",
       "      <th>1</th>\n",
       "      <td>Alameda</td>\n",
       "      <td>2015-01-02</td>\n",
       "      <td>76</td>\n",
       "      <td>Moderate</td>\n",
       "      <td>PM2.5</td>\n",
       "    </tr>\n",
       "    <tr>\n",
       "      <th>2</th>\n",
       "      <td>Alameda</td>\n",
       "      <td>2015-01-03</td>\n",
       "      <td>96</td>\n",
       "      <td>Moderate</td>\n",
       "      <td>PM2.5</td>\n",
       "    </tr>\n",
       "    <tr>\n",
       "      <th>3</th>\n",
       "      <td>Alameda</td>\n",
       "      <td>2015-01-04</td>\n",
       "      <td>99</td>\n",
       "      <td>Moderate</td>\n",
       "      <td>PM2.5</td>\n",
       "    </tr>\n",
       "    <tr>\n",
       "      <th>4</th>\n",
       "      <td>Alameda</td>\n",
       "      <td>2015-01-05</td>\n",
       "      <td>91</td>\n",
       "      <td>Moderate</td>\n",
       "      <td>PM2.5</td>\n",
       "    </tr>\n",
       "  </tbody>\n",
       "</table>\n",
       "</div>"
      ],
      "text/plain": [
       "  county Name        Date  AQI  Category Defining Parameter\n",
       "0     Alameda  2015-01-01   61  Moderate              PM2.5\n",
       "1     Alameda  2015-01-02   76  Moderate              PM2.5\n",
       "2     Alameda  2015-01-03   96  Moderate              PM2.5\n",
       "3     Alameda  2015-01-04   99  Moderate              PM2.5\n",
       "4     Alameda  2015-01-05   91  Moderate              PM2.5"
      ]
     },
     "execution_count": 496,
     "metadata": {},
     "output_type": "execute_result"
    }
   ],
   "source": [
    "#Filtering out unneed data\n",
    "aq3 = aq3[aq3['county Name'].isin(aq['County Name'].unique())]\n",
    "#filtering to relevant cities\n",
    "aq3.reset_index(drop=True,inplace=True)\n",
    "aq3.head()"
   ]
  },
  {
   "cell_type": "code",
   "execution_count": 507,
   "metadata": {
    "ExecuteTime": {
     "end_time": "2018-06-08T00:11:47.406252Z",
     "start_time": "2018-06-08T00:11:47.399929Z"
    },
    "hidden": true
   },
   "outputs": [],
   "source": [
    "codf.columns=['Latitude', 'Longitude', 'Param Name', 'Date Local',\n",
    "       'CO Mean', 'CO Max Value', 'CO Max Hour','County Name']\n",
    "ozdf.columns=['Latitude', 'Longitude', 'Param Name2', 'Date Local',\n",
    "       'Oz Mean', 'Oz Max Value', 'Oz Max Hour','County Name']\n",
    "sodf.columns=['Latitude', 'Longitude', 'Param Name3', 'Date Local',\n",
    "       'SO Mean', 'SO Max Value', 'SO Max Hour','County Name']\n",
    "aq3.columns=['County Name', 'Date Local', 'AQI', 'Category', 'AQ Defining Parameter']\n",
    "pdf.columns =['Latitude', 'Longitude', 'Param Name4', 'Date Local','Part Mean', 'Part Max Value', 'Part Max Hour','County Name']\n"
   ]
  },
  {
   "cell_type": "code",
   "execution_count": 498,
   "metadata": {
    "ExecuteTime": {
     "end_time": "2018-06-08T00:10:21.383539Z",
     "start_time": "2018-06-08T00:10:21.312066Z"
    },
    "hidden": true
   },
   "outputs": [],
   "source": [
    "aq = pd.merge(codf,ozdf, on=['Latitude', 'Longitude', 'Date Local','County Name'])\n",
    "aq2 = pd.merge(aq,sodf, on=['Latitude', 'Longitude', 'Date Local','County Name'])\n"
   ]
  },
  {
   "cell_type": "code",
   "execution_count": 500,
   "metadata": {
    "ExecuteTime": {
     "end_time": "2018-06-08T00:10:39.840891Z",
     "start_time": "2018-06-08T00:10:39.810569Z"
    },
    "hidden": true
   },
   "outputs": [],
   "source": [
    "qq = pd.merge(aq2,qq, how='inner', on=['Latitude', 'Longitude', 'Date Local','County Name'])\n"
   ]
  },
  {
   "cell_type": "code",
   "execution_count": 508,
   "metadata": {
    "ExecuteTime": {
     "end_time": "2018-06-08T00:11:56.933227Z",
     "start_time": "2018-06-08T00:11:56.918563Z"
    },
    "hidden": true
   },
   "outputs": [],
   "source": [
    "aq = pd.merge(qq,aq3, on=['Date Local','County Name'])"
   ]
  },
  {
   "cell_type": "code",
   "execution_count": 547,
   "metadata": {
    "ExecuteTime": {
     "end_time": "2018-06-08T00:35:21.972638Z",
     "start_time": "2018-06-08T00:35:21.969123Z"
    },
    "hidden": true
   },
   "outputs": [],
   "source": [
    "aq['Date Local'] = pd.to_datetime(aq['Date Local'])"
   ]
  },
  {
   "cell_type": "code",
   "execution_count": 548,
   "metadata": {
    "ExecuteTime": {
     "end_time": "2018-06-08T00:35:55.485381Z",
     "start_time": "2018-06-08T00:35:55.424447Z"
    },
    "hidden": true
   },
   "outputs": [],
   "source": [
    "aq['Date Local'] =[x.date() for x in aq['Date Local']]"
   ]
  },
  {
   "cell_type": "code",
   "execution_count": 511,
   "metadata": {
    "ExecuteTime": {
     "end_time": "2018-06-08T00:12:52.454831Z",
     "start_time": "2018-06-08T00:12:52.448597Z"
    },
    "hidden": true
   },
   "outputs": [],
   "source": [
    "aq.drop(['Param Name', 'County Name', 'Param Name2','Param Name3','Param Name4'], axis=1, inplace = True)"
   ]
  },
  {
   "cell_type": "code",
   "execution_count": 549,
   "metadata": {
    "ExecuteTime": {
     "end_time": "2018-06-08T00:35:58.186998Z",
     "start_time": "2018-06-08T00:35:58.158878Z"
    },
    "hidden": true
   },
   "outputs": [
    {
     "data": {
      "text/html": [
       "<div>\n",
       "<style scoped>\n",
       "    .dataframe tbody tr th:only-of-type {\n",
       "        vertical-align: middle;\n",
       "    }\n",
       "\n",
       "    .dataframe tbody tr th {\n",
       "        vertical-align: top;\n",
       "    }\n",
       "\n",
       "    .dataframe thead th {\n",
       "        text-align: right;\n",
       "    }\n",
       "</style>\n",
       "<table border=\"1\" class=\"dataframe\">\n",
       "  <thead>\n",
       "    <tr style=\"text-align: right;\">\n",
       "      <th></th>\n",
       "      <th>Latitude</th>\n",
       "      <th>Longitude</th>\n",
       "      <th>Date Local</th>\n",
       "      <th>CO Mean</th>\n",
       "      <th>CO Max Value</th>\n",
       "      <th>CO Max Hour</th>\n",
       "      <th>Oz Mean</th>\n",
       "      <th>Oz Max Value</th>\n",
       "      <th>Oz Max Hour</th>\n",
       "      <th>SO Mean</th>\n",
       "      <th>SO Max Value</th>\n",
       "      <th>SO Max Hour</th>\n",
       "      <th>Part Mean</th>\n",
       "      <th>Part Max Value</th>\n",
       "      <th>Part Max Hour</th>\n",
       "      <th>AQI</th>\n",
       "      <th>Category</th>\n",
       "      <th>AQ Defining Parameter</th>\n",
       "    </tr>\n",
       "  </thead>\n",
       "  <tbody>\n",
       "    <tr>\n",
       "      <th>6988</th>\n",
       "      <td>37.814781</td>\n",
       "      <td>-122.282347</td>\n",
       "      <td>2016-07-15</td>\n",
       "      <td>0.150000</td>\n",
       "      <td>0.3</td>\n",
       "      <td>9</td>\n",
       "      <td>0.021444</td>\n",
       "      <td>0.023</td>\n",
       "      <td>7</td>\n",
       "      <td>0.870000</td>\n",
       "      <td>1.1</td>\n",
       "      <td>10</td>\n",
       "      <td>7.000000</td>\n",
       "      <td>12.0</td>\n",
       "      <td>1</td>\n",
       "      <td>101</td>\n",
       "      <td>Unhealthy for Sensitive Groups</td>\n",
       "      <td>Ozone</td>\n",
       "    </tr>\n",
       "    <tr>\n",
       "      <th>3011</th>\n",
       "      <td>37.960400</td>\n",
       "      <td>-122.356811</td>\n",
       "      <td>2015-02-01</td>\n",
       "      <td>0.537500</td>\n",
       "      <td>0.6</td>\n",
       "      <td>0</td>\n",
       "      <td>0.014353</td>\n",
       "      <td>0.022</td>\n",
       "      <td>11</td>\n",
       "      <td>1.600000</td>\n",
       "      <td>3.3</td>\n",
       "      <td>17</td>\n",
       "      <td>17.200000</td>\n",
       "      <td>17.2</td>\n",
       "      <td>0</td>\n",
       "      <td>66</td>\n",
       "      <td>Moderate</td>\n",
       "      <td>PM2.5</td>\n",
       "    </tr>\n",
       "    <tr>\n",
       "      <th>3412</th>\n",
       "      <td>37.960400</td>\n",
       "      <td>-122.356811</td>\n",
       "      <td>2015-03-24</td>\n",
       "      <td>0.504348</td>\n",
       "      <td>0.7</td>\n",
       "      <td>5</td>\n",
       "      <td>0.029353</td>\n",
       "      <td>0.036</td>\n",
       "      <td>8</td>\n",
       "      <td>0.895455</td>\n",
       "      <td>1.5</td>\n",
       "      <td>8</td>\n",
       "      <td>4.041667</td>\n",
       "      <td>10.0</td>\n",
       "      <td>6</td>\n",
       "      <td>39</td>\n",
       "      <td>Good</td>\n",
       "      <td>Ozone</td>\n",
       "    </tr>\n",
       "    <tr>\n",
       "      <th>6570</th>\n",
       "      <td>37.814781</td>\n",
       "      <td>-122.282347</td>\n",
       "      <td>2016-05-22</td>\n",
       "      <td>0.200000</td>\n",
       "      <td>0.2</td>\n",
       "      <td>0</td>\n",
       "      <td>0.024294</td>\n",
       "      <td>0.028</td>\n",
       "      <td>7</td>\n",
       "      <td>0.583333</td>\n",
       "      <td>0.7</td>\n",
       "      <td>11</td>\n",
       "      <td>3.166667</td>\n",
       "      <td>8.0</td>\n",
       "      <td>0</td>\n",
       "      <td>31</td>\n",
       "      <td>Good</td>\n",
       "      <td>Ozone</td>\n",
       "    </tr>\n",
       "    <tr>\n",
       "      <th>1427</th>\n",
       "      <td>37.814781</td>\n",
       "      <td>-122.282347</td>\n",
       "      <td>2015-07-14</td>\n",
       "      <td>0.308696</td>\n",
       "      <td>0.4</td>\n",
       "      <td>8</td>\n",
       "      <td>0.020412</td>\n",
       "      <td>0.022</td>\n",
       "      <td>15</td>\n",
       "      <td>0.000000</td>\n",
       "      <td>0.0</td>\n",
       "      <td>2</td>\n",
       "      <td>5.200000</td>\n",
       "      <td>5.2</td>\n",
       "      <td>0</td>\n",
       "      <td>29</td>\n",
       "      <td>Good</td>\n",
       "      <td>Ozone</td>\n",
       "    </tr>\n",
       "    <tr>\n",
       "      <th>8630</th>\n",
       "      <td>37.960400</td>\n",
       "      <td>-122.356811</td>\n",
       "      <td>2016-03-15</td>\n",
       "      <td>0.475000</td>\n",
       "      <td>0.6</td>\n",
       "      <td>7</td>\n",
       "      <td>0.026235</td>\n",
       "      <td>0.038</td>\n",
       "      <td>11</td>\n",
       "      <td>0.814286</td>\n",
       "      <td>1.9</td>\n",
       "      <td>17</td>\n",
       "      <td>6.208333</td>\n",
       "      <td>15.0</td>\n",
       "      <td>18</td>\n",
       "      <td>39</td>\n",
       "      <td>Good</td>\n",
       "      <td>Ozone</td>\n",
       "    </tr>\n",
       "    <tr>\n",
       "      <th>7359</th>\n",
       "      <td>37.814781</td>\n",
       "      <td>-122.282347</td>\n",
       "      <td>2016-09-07</td>\n",
       "      <td>0.457895</td>\n",
       "      <td>0.9</td>\n",
       "      <td>6</td>\n",
       "      <td>0.019600</td>\n",
       "      <td>0.028</td>\n",
       "      <td>9</td>\n",
       "      <td>0.640000</td>\n",
       "      <td>0.9</td>\n",
       "      <td>14</td>\n",
       "      <td>15.600000</td>\n",
       "      <td>15.6</td>\n",
       "      <td>0</td>\n",
       "      <td>67</td>\n",
       "      <td>Moderate</td>\n",
       "      <td>PM2.5</td>\n",
       "    </tr>\n",
       "    <tr>\n",
       "      <th>12955</th>\n",
       "      <td>37.814781</td>\n",
       "      <td>-122.282347</td>\n",
       "      <td>2017-10-15</td>\n",
       "      <td>0.617391</td>\n",
       "      <td>1.0</td>\n",
       "      <td>2</td>\n",
       "      <td>0.018529</td>\n",
       "      <td>0.040</td>\n",
       "      <td>8</td>\n",
       "      <td>0.414286</td>\n",
       "      <td>0.7</td>\n",
       "      <td>17</td>\n",
       "      <td>13.100000</td>\n",
       "      <td>13.1</td>\n",
       "      <td>0</td>\n",
       "      <td>74</td>\n",
       "      <td>Moderate</td>\n",
       "      <td>Ozone</td>\n",
       "    </tr>\n",
       "    <tr>\n",
       "      <th>14818</th>\n",
       "      <td>37.960400</td>\n",
       "      <td>-122.356811</td>\n",
       "      <td>2017-06-07</td>\n",
       "      <td>0.300000</td>\n",
       "      <td>0.3</td>\n",
       "      <td>0</td>\n",
       "      <td>0.023118</td>\n",
       "      <td>0.028</td>\n",
       "      <td>7</td>\n",
       "      <td>0.014286</td>\n",
       "      <td>0.1</td>\n",
       "      <td>23</td>\n",
       "      <td>8.500000</td>\n",
       "      <td>12.0</td>\n",
       "      <td>7</td>\n",
       "      <td>42</td>\n",
       "      <td>Good</td>\n",
       "      <td>PM2.5</td>\n",
       "    </tr>\n",
       "    <tr>\n",
       "      <th>11484</th>\n",
       "      <td>37.814781</td>\n",
       "      <td>-122.282347</td>\n",
       "      <td>2017-03-29</td>\n",
       "      <td>0.573913</td>\n",
       "      <td>1.3</td>\n",
       "      <td>6</td>\n",
       "      <td>0.026000</td>\n",
       "      <td>0.032</td>\n",
       "      <td>10</td>\n",
       "      <td>1.540909</td>\n",
       "      <td>6.3</td>\n",
       "      <td>9</td>\n",
       "      <td>15.833333</td>\n",
       "      <td>23.0</td>\n",
       "      <td>9</td>\n",
       "      <td>59</td>\n",
       "      <td>Moderate</td>\n",
       "      <td>PM2.5</td>\n",
       "    </tr>\n",
       "  </tbody>\n",
       "</table>\n",
       "</div>"
      ],
      "text/plain": [
       "        Latitude   Longitude  Date Local   CO Mean  CO Max Value  CO Max Hour  \\\n",
       "6988   37.814781 -122.282347  2016-07-15  0.150000           0.3            9   \n",
       "3011   37.960400 -122.356811  2015-02-01  0.537500           0.6            0   \n",
       "3412   37.960400 -122.356811  2015-03-24  0.504348           0.7            5   \n",
       "6570   37.814781 -122.282347  2016-05-22  0.200000           0.2            0   \n",
       "1427   37.814781 -122.282347  2015-07-14  0.308696           0.4            8   \n",
       "8630   37.960400 -122.356811  2016-03-15  0.475000           0.6            7   \n",
       "7359   37.814781 -122.282347  2016-09-07  0.457895           0.9            6   \n",
       "12955  37.814781 -122.282347  2017-10-15  0.617391           1.0            2   \n",
       "14818  37.960400 -122.356811  2017-06-07  0.300000           0.3            0   \n",
       "11484  37.814781 -122.282347  2017-03-29  0.573913           1.3            6   \n",
       "\n",
       "        Oz Mean  Oz Max Value  Oz Max Hour   SO Mean  SO Max Value  \\\n",
       "6988   0.021444         0.023            7  0.870000           1.1   \n",
       "3011   0.014353         0.022           11  1.600000           3.3   \n",
       "3412   0.029353         0.036            8  0.895455           1.5   \n",
       "6570   0.024294         0.028            7  0.583333           0.7   \n",
       "1427   0.020412         0.022           15  0.000000           0.0   \n",
       "8630   0.026235         0.038           11  0.814286           1.9   \n",
       "7359   0.019600         0.028            9  0.640000           0.9   \n",
       "12955  0.018529         0.040            8  0.414286           0.7   \n",
       "14818  0.023118         0.028            7  0.014286           0.1   \n",
       "11484  0.026000         0.032           10  1.540909           6.3   \n",
       "\n",
       "       SO Max Hour  Part Mean  Part Max Value  Part Max Hour  AQI  \\\n",
       "6988            10   7.000000            12.0              1  101   \n",
       "3011            17  17.200000            17.2              0   66   \n",
       "3412             8   4.041667            10.0              6   39   \n",
       "6570            11   3.166667             8.0              0   31   \n",
       "1427             2   5.200000             5.2              0   29   \n",
       "8630            17   6.208333            15.0             18   39   \n",
       "7359            14  15.600000            15.6              0   67   \n",
       "12955           17  13.100000            13.1              0   74   \n",
       "14818           23   8.500000            12.0              7   42   \n",
       "11484            9  15.833333            23.0              9   59   \n",
       "\n",
       "                             Category AQ Defining Parameter  \n",
       "6988   Unhealthy for Sensitive Groups                 Ozone  \n",
       "3011                         Moderate                 PM2.5  \n",
       "3412                             Good                 Ozone  \n",
       "6570                             Good                 Ozone  \n",
       "1427                             Good                 Ozone  \n",
       "8630                             Good                 Ozone  \n",
       "7359                         Moderate                 PM2.5  \n",
       "12955                        Moderate                 Ozone  \n",
       "14818                            Good                 PM2.5  \n",
       "11484                        Moderate                 PM2.5  "
      ]
     },
     "execution_count": 549,
     "metadata": {},
     "output_type": "execute_result"
    }
   ],
   "source": [
    "aq.sample(10)"
   ]
  },
  {
   "cell_type": "code",
   "execution_count": 550,
   "metadata": {
    "ExecuteTime": {
     "end_time": "2018-06-08T00:36:08.213795Z",
     "start_time": "2018-06-08T00:36:08.182450Z"
    },
    "hidden": true
   },
   "outputs": [],
   "source": [
    "\"\"\"#Writing a pickle file to save data\n",
    "import pickle\n",
    "with open('climate_data.pkl', 'wb') as picklefile:\n",
    "    pickle.dump(aq, picklefile)\"\"\""
   ]
  },
  {
   "cell_type": "code",
   "execution_count": 22,
   "metadata": {
    "ExecuteTime": {
     "end_time": "2018-06-07T01:22:07.831478Z",
     "start_time": "2018-06-07T01:22:07.816824Z"
    },
    "hidden": true
   },
   "outputs": [],
   "source": [
    "def h5ToDF(file):\n",
    "    f = h5py.File(file, 'r')\n",
    "    date = [pd.to_datetime(str(x).replace('b\\'','').replace('\\'','')) for x in list(f['RetrievalHeader']['retrieval_time_string'])]\n",
    "    latlong = [(x,y) for x,y in zip(f['RetrievalGeometry']['retrieval_latitude_geoid'],f['RetrievalGeometry']['retrieval_longitude_geoid'])]\n",
    "    co2ppm = list(f['RetrievalResults']['xco2'])\n",
    "    co2_uncert = [x*10**6 for x in list(f['RetrievalResults']['xco2_uncert'])]\n",
    "    df = pd.DataFrame({'date':date,\n",
    "        'latlong': latlong,\n",
    "        'co2ppm': co2ppm,\n",
    "        'co2_uncert': co2_uncert\n",
    "    })\n",
    "    return df\n",
    "                                                                                    \n",
    "                                                                                    \n",
    "                                                                                    "
   ]
  },
  {
   "cell_type": "code",
   "execution_count": 23,
   "metadata": {
    "ExecuteTime": {
     "end_time": "2018-06-07T01:30:23.674676Z",
     "start_time": "2018-06-07T01:22:08.423032Z"
    },
    "hidden": true
   },
   "outputs": [],
   "source": [
    "df = f = h5py.File(results[0], 'r')\n",
    "date = [pd.to_datetime(str(x).replace('b\\'','').replace('\\'','')) for x in list(f['RetrievalHeader']['retrieval_time_string'])]\n",
    "latlong = [(x,y) for x,y in zip(f['RetrievalGeometry']['retrieval_latitude_geoid'],f['RetrievalGeometry']['retrieval_longitude_geoid'])]\n",
    "co2ppm = list(f['RetrievalResults']['xco2'])\n",
    "co2_uncert = [x*10**6 for x in list(f['RetrievalResults']['xco2_uncert'])]\n",
    "df = pd.DataFrame({'date':date,\n",
    "                'latlong': latlong,\n",
    "                'co2ppm': co2ppm,\n",
    "                'co2_uncert': co2_uncert})\n",
    "for i in range(1,len(results)):\n",
    "    df.append(h5ToDF(results[i]))"
   ]
  },
  {
   "cell_type": "code",
   "execution_count": 24,
   "metadata": {
    "ExecuteTime": {
     "end_time": "2018-06-07T01:30:48.590624Z",
     "start_time": "2018-06-07T01:30:48.583846Z"
    },
    "hidden": true
   },
   "outputs": [],
   "source": [
    "df['co2ppm'] = [x*10**6 for x in df['co2ppm']]"
   ]
  },
  {
   "cell_type": "code",
   "execution_count": 28,
   "metadata": {
    "ExecuteTime": {
     "end_time": "2018-06-07T01:31:55.765803Z",
     "start_time": "2018-06-07T01:31:55.757549Z"
    },
    "hidden": true
   },
   "outputs": [],
   "source": [
    "df['co2_uncert'] = [float(x) for x in df['co2_uncert']]"
   ]
  },
  {
   "cell_type": "code",
   "execution_count": 542,
   "metadata": {
    "ExecuteTime": {
     "end_time": "2018-06-08T00:33:42.896924Z",
     "start_time": "2018-06-08T00:33:42.811019Z"
    },
    "hidden": true
   },
   "outputs": [],
   "source": [
    "df['date'] = [x.date() for x in df['date']]"
   ]
  },
  {
   "cell_type": "code",
   "execution_count": 544,
   "metadata": {
    "ExecuteTime": {
     "end_time": "2018-06-08T00:34:15.595964Z",
     "start_time": "2018-06-08T00:34:15.585471Z"
    },
    "hidden": true
   },
   "outputs": [
    {
     "data": {
      "text/html": [
       "<div>\n",
       "<style scoped>\n",
       "    .dataframe tbody tr th:only-of-type {\n",
       "        vertical-align: middle;\n",
       "    }\n",
       "\n",
       "    .dataframe tbody tr th {\n",
       "        vertical-align: top;\n",
       "    }\n",
       "\n",
       "    .dataframe thead th {\n",
       "        text-align: right;\n",
       "    }\n",
       "</style>\n",
       "<table border=\"1\" class=\"dataframe\">\n",
       "  <thead>\n",
       "    <tr style=\"text-align: right;\">\n",
       "      <th></th>\n",
       "      <th>co2_uncert</th>\n",
       "      <th>co2ppm</th>\n",
       "      <th>date</th>\n",
       "      <th>latlong</th>\n",
       "    </tr>\n",
       "  </thead>\n",
       "  <tbody>\n",
       "    <tr>\n",
       "      <th>0</th>\n",
       "      <td>0.886318</td>\n",
       "      <td>402.186939</td>\n",
       "      <td>2016-11-13</td>\n",
       "      <td>(-83.56647, 38.90449)</td>\n",
       "    </tr>\n",
       "    <tr>\n",
       "      <th>1</th>\n",
       "      <td>0.786782</td>\n",
       "      <td>398.468226</td>\n",
       "      <td>2016-11-13</td>\n",
       "      <td>(-83.59027, 39.013676)</td>\n",
       "    </tr>\n",
       "    <tr>\n",
       "      <th>2</th>\n",
       "      <td>0.780767</td>\n",
       "      <td>396.430114</td>\n",
       "      <td>2016-11-13</td>\n",
       "      <td>(-83.61452, 39.12222)</td>\n",
       "    </tr>\n",
       "    <tr>\n",
       "      <th>3</th>\n",
       "      <td>0.777430</td>\n",
       "      <td>398.074626</td>\n",
       "      <td>2016-11-13</td>\n",
       "      <td>(-83.46712, 38.238407)</td>\n",
       "    </tr>\n",
       "    <tr>\n",
       "      <th>4</th>\n",
       "      <td>0.799400</td>\n",
       "      <td>399.525161</td>\n",
       "      <td>2016-11-13</td>\n",
       "      <td>(-83.51127, 38.46135)</td>\n",
       "    </tr>\n",
       "  </tbody>\n",
       "</table>\n",
       "</div>"
      ],
      "text/plain": [
       "   co2_uncert      co2ppm        date                 latlong\n",
       "0    0.886318  402.186939  2016-11-13   (-83.56647, 38.90449)\n",
       "1    0.786782  398.468226  2016-11-13  (-83.59027, 39.013676)\n",
       "2    0.780767  396.430114  2016-11-13   (-83.61452, 39.12222)\n",
       "3    0.777430  398.074626  2016-11-13  (-83.46712, 38.238407)\n",
       "4    0.799400  399.525161  2016-11-13   (-83.51127, 38.46135)"
      ]
     },
     "execution_count": 544,
     "metadata": {},
     "output_type": "execute_result"
    }
   ],
   "source": [
    "df.head()"
   ]
  },
  {
   "cell_type": "code",
   "execution_count": 551,
   "metadata": {
    "ExecuteTime": {
     "end_time": "2018-06-08T00:37:43.943066Z",
     "start_time": "2018-06-08T00:37:43.776994Z"
    },
    "hidden": true
   },
   "outputs": [],
   "source": [
    "\"\"\"#Writing a pickle file to save data\n",
    "import pickle\n",
    "with open('my_data.pkl', 'wb') as picklefile:\n",
    "    pickle.dump(df, picklefile)\"\"\""
   ]
  },
  {
   "cell_type": "code",
   "execution_count": 529,
   "metadata": {
    "ExecuteTime": {
     "end_time": "2018-06-08T00:26:39.888078Z",
     "start_time": "2018-06-08T00:26:39.860898Z"
    },
    "hidden": true
   },
   "outputs": [],
   "source": [
    "#reading in the list of tea dictionaries, each being by itself\n",
    "with open('my_data.pkl', 'rb') as picklefile:\n",
    "    df = pickle.load(picklefile)"
   ]
  },
  {
   "cell_type": "code",
   "execution_count": null,
   "metadata": {
    "ExecuteTime": {
     "end_time": "2018-06-06T21:05:26.517792Z",
     "start_time": "2018-06-06T20:57:32.392Z"
    },
    "hidden": true
   },
   "outputs": [],
   "source": [
    "#list(f['RetrievalGeometry']['retrieval_latitude_geoid'])"
   ]
  },
  {
   "cell_type": "markdown",
   "metadata": {
    "heading_collapsed": true
   },
   "source": [
    "## Web Scraping\n",
    "\n",
    "Pulling data from loopnet.com for areas where we can greenify citys (make them more environmentally friendly). "
   ]
  },
  {
   "cell_type": "code",
   "execution_count": 97,
   "metadata": {
    "ExecuteTime": {
     "end_time": "2018-06-06T21:08:33.939612Z",
     "start_time": "2018-06-06T21:08:33.936581Z"
    },
    "hidden": true
   },
   "outputs": [],
   "source": [
    "#initializing sites that I will pull from\n",
    "flexspace = 'http://www.loopnet.com/california/san-francisco_flex-space-for-sale/'\n",
    "land = 'http://www.loopnet.com/california/san-francisco_land-for-sale/'\n",
    "apts = 'http://www.loopnet.com/california/san-francisco_apartment-buildings-for-sale/'"
   ]
  },
  {
   "cell_type": "code",
   "execution_count": 98,
   "metadata": {
    "ExecuteTime": {
     "end_time": "2018-06-06T21:08:35.908180Z",
     "start_time": "2018-06-06T21:08:34.431577Z"
    },
    "hidden": true
   },
   "outputs": [],
   "source": [
    "response = rq.get(land)\n",
    "page = response.text\n",
    "reviewp = soup(page,\"lxml\")\n"
   ]
  },
  {
   "cell_type": "code",
   "execution_count": 99,
   "metadata": {
    "ExecuteTime": {
     "end_time": "2018-06-06T21:08:35.926690Z",
     "start_time": "2018-06-06T21:08:35.910250Z"
    },
    "hidden": true
   },
   "outputs": [
    {
     "data": {
      "text/plain": [
       "[<span class=\"listingTitle\">0.05 Acre Site for Proposed Apartments</span>,\n",
       " <span class=\"listingTitle\">1228 Folsom Street</span>,\n",
       " <span class=\"listingTitle\">1876 Oakdale Ave</span>,\n",
       " <span class=\"listingTitle\">1791 Mission Street</span>,\n",
       " <span class=\"listingTitle\">240 7th St</span>,\n",
       " <span class=\"listingTitle\">1924 Mission St</span>,\n",
       " <span class=\"listingTitle\">2435-2445 16th St</span>,\n",
       " <span class=\"listingTitle\">Topaz Way</span>,\n",
       " <span class=\"listingTitle\">Portfolio of 4 Properties</span>,\n",
       " <span class=\"listingTitle\">1234 Shoreline Hwy</span>,\n",
       " <span class=\"listingTitle\">81 Ervine St</span>,\n",
       " <span class=\"listingTitle\">OCTAVIA M+N</span>,\n",
       " <span class=\"listingTitle\">250 Church St</span>,\n",
       " <span class=\"listingTitle\">Mission and 22nd</span>]"
      ]
     },
     "execution_count": 99,
     "metadata": {},
     "output_type": "execute_result"
    }
   ],
   "source": [
    "reviewp.find_all(class_='listingTitle')"
   ]
  },
  {
   "cell_type": "code",
   "execution_count": null,
   "metadata": {
    "hidden": true
   },
   "outputs": [],
   "source": []
  },
  {
   "cell_type": "markdown",
   "metadata": {},
   "source": [
    "## Exploring\n",
    "\n",
    "Exploring the data, kicking out points that are wrong based on the error and other stats."
   ]
  },
  {
   "cell_type": "code",
   "execution_count": 552,
   "metadata": {
    "ExecuteTime": {
     "end_time": "2018-06-08T00:37:53.187272Z",
     "start_time": "2018-06-08T00:37:53.152760Z"
    }
   },
   "outputs": [],
   "source": [
    "#pulling in CO2 data\n",
    "with open('my_data.pkl', 'rb') as picklefile:\n",
    "    df = pickle.load(picklefile)"
   ]
  },
  {
   "cell_type": "code",
   "execution_count": 553,
   "metadata": {
    "ExecuteTime": {
     "end_time": "2018-06-08T00:37:53.692572Z",
     "start_time": "2018-06-08T00:37:53.678477Z"
    }
   },
   "outputs": [],
   "source": [
    "#pulling in climate data\n",
    "with open('climate_data.pkl', 'rb') as picklefile:\n",
    "    aq = pickle.load(picklefile)"
   ]
  },
  {
   "cell_type": "code",
   "execution_count": 554,
   "metadata": {
    "ExecuteTime": {
     "end_time": "2018-06-08T00:37:55.578510Z",
     "start_time": "2018-06-08T00:37:55.568037Z"
    }
   },
   "outputs": [
    {
     "data": {
      "text/html": [
       "<div>\n",
       "<style scoped>\n",
       "    .dataframe tbody tr th:only-of-type {\n",
       "        vertical-align: middle;\n",
       "    }\n",
       "\n",
       "    .dataframe tbody tr th {\n",
       "        vertical-align: top;\n",
       "    }\n",
       "\n",
       "    .dataframe thead th {\n",
       "        text-align: right;\n",
       "    }\n",
       "</style>\n",
       "<table border=\"1\" class=\"dataframe\">\n",
       "  <thead>\n",
       "    <tr style=\"text-align: right;\">\n",
       "      <th></th>\n",
       "      <th>co2_uncert</th>\n",
       "      <th>co2ppm</th>\n",
       "      <th>date</th>\n",
       "      <th>latlong</th>\n",
       "    </tr>\n",
       "  </thead>\n",
       "  <tbody>\n",
       "    <tr>\n",
       "      <th>0</th>\n",
       "      <td>0.886318</td>\n",
       "      <td>402.186939</td>\n",
       "      <td>2016-11-13</td>\n",
       "      <td>(-83.56647, 38.90449)</td>\n",
       "    </tr>\n",
       "    <tr>\n",
       "      <th>1</th>\n",
       "      <td>0.786782</td>\n",
       "      <td>398.468226</td>\n",
       "      <td>2016-11-13</td>\n",
       "      <td>(-83.59027, 39.013676)</td>\n",
       "    </tr>\n",
       "    <tr>\n",
       "      <th>2</th>\n",
       "      <td>0.780767</td>\n",
       "      <td>396.430114</td>\n",
       "      <td>2016-11-13</td>\n",
       "      <td>(-83.61452, 39.12222)</td>\n",
       "    </tr>\n",
       "    <tr>\n",
       "      <th>3</th>\n",
       "      <td>0.777430</td>\n",
       "      <td>398.074626</td>\n",
       "      <td>2016-11-13</td>\n",
       "      <td>(-83.46712, 38.238407)</td>\n",
       "    </tr>\n",
       "    <tr>\n",
       "      <th>4</th>\n",
       "      <td>0.799400</td>\n",
       "      <td>399.525161</td>\n",
       "      <td>2016-11-13</td>\n",
       "      <td>(-83.51127, 38.46135)</td>\n",
       "    </tr>\n",
       "  </tbody>\n",
       "</table>\n",
       "</div>"
      ],
      "text/plain": [
       "   co2_uncert      co2ppm        date                 latlong\n",
       "0    0.886318  402.186939  2016-11-13   (-83.56647, 38.90449)\n",
       "1    0.786782  398.468226  2016-11-13  (-83.59027, 39.013676)\n",
       "2    0.780767  396.430114  2016-11-13   (-83.61452, 39.12222)\n",
       "3    0.777430  398.074626  2016-11-13  (-83.46712, 38.238407)\n",
       "4    0.799400  399.525161  2016-11-13   (-83.51127, 38.46135)"
      ]
     },
     "execution_count": 554,
     "metadata": {},
     "output_type": "execute_result"
    }
   ],
   "source": [
    "df.head()"
   ]
  },
  {
   "cell_type": "code",
   "execution_count": 559,
   "metadata": {
    "ExecuteTime": {
     "end_time": "2018-06-08T00:50:59.256774Z",
     "start_time": "2018-06-08T00:50:59.251422Z"
    }
   },
   "outputs": [
    {
     "data": {
      "text/plain": [
       "array([datetime.date(2015, 1, 1), datetime.date(2015, 1, 2),\n",
       "       datetime.date(2015, 1, 3), ..., datetime.date(2018, 2, 27),\n",
       "       datetime.date(2018, 2, 28), datetime.date(2018, 1, 16)],\n",
       "      dtype=object)"
      ]
     },
     "execution_count": 559,
     "metadata": {},
     "output_type": "execute_result"
    }
   ],
   "source": [
    "aq['Date Local'].unique()"
   ]
  },
  {
   "cell_type": "code",
   "execution_count": 556,
   "metadata": {
    "ExecuteTime": {
     "end_time": "2018-06-08T00:50:27.352407Z",
     "start_time": "2018-06-08T00:50:27.344125Z"
    }
   },
   "outputs": [
    {
     "name": "stdout",
     "output_type": "stream",
     "text": [
      "Max: 13.534934623748995\n",
      "Min: 0.1912240037427182\n",
      "Average: 0.4512936642967768\n",
      "Median: 0.4234372852351953\n"
     ]
    }
   ],
   "source": [
    "print('Max: '+ str(max(df['co2_uncert'])))\n",
    "print('Min: ' + str(min(df['co2_uncert'])))\n",
    "print('Average: '+ str(np.average(df['co2_uncert'])))\n",
    "print('Median: '+ str(np.median(df['co2_uncert'])))"
   ]
  },
  {
   "cell_type": "code",
   "execution_count": 587,
   "metadata": {
    "ExecuteTime": {
     "end_time": "2018-06-08T01:07:09.019933Z",
     "start_time": "2018-06-08T01:07:09.013561Z"
    }
   },
   "outputs": [
    {
     "name": "stdout",
     "output_type": "stream",
     "text": [
      "Max: 56.083333\n",
      "Min: -3.4782610000000003\n",
      "Average: 9.242633459436668\n",
      "Median: 8.173912999999999\n"
     ]
    }
   ],
   "source": [
    "print('Max: '+ str(max(aq['Part Mean'])))\n",
    "print('Min: ' + str(min(aq['Part Mean'])))\n",
    "print('Average: '+ str(np.average(aq['Part Mean'])))\n",
    "print('Median: '+ str(np.median(aq['Part Mean'])))"
   ]
  },
  {
   "cell_type": "code",
   "execution_count": 579,
   "metadata": {
    "ExecuteTime": {
     "end_time": "2018-06-08T01:04:57.313597Z",
     "start_time": "2018-06-08T01:04:57.309237Z"
    }
   },
   "outputs": [
    {
     "data": {
      "text/plain": [
       "2.15"
      ]
     },
     "execution_count": 579,
     "metadata": {},
     "output_type": "execute_result"
    }
   ],
   "source": [
    "np.percentile(aq['SO Mean'], 99)"
   ]
  },
  {
   "cell_type": "code",
   "execution_count": 593,
   "metadata": {
    "ExecuteTime": {
     "end_time": "2018-06-08T01:09:15.787380Z",
     "start_time": "2018-06-08T01:09:15.773735Z"
    }
   },
   "outputs": [],
   "source": [
    "#Removing Outliers because of large error associated with the calculation\n",
    "df= (df[df['co2_uncert']<1.04])\n",
    "aq = aq[(aq['CO Mean']>0.05)]\n",
    "aq = aq[(aq['Oz Mean']>0.001)]\n",
    "aq = aq[(aq['Part Mean']>0) & (aq['Part Mean']<40)]\n",
    "aq = aq[(aq['SO Mean']>0.03) & (aq['SO Mean']<1)]"
   ]
  },
  {
   "cell_type": "code",
   "execution_count": 565,
   "metadata": {
    "ExecuteTime": {
     "end_time": "2018-06-08T00:56:48.111045Z",
     "start_time": "2018-06-08T00:56:48.106907Z"
    }
   },
   "outputs": [
    {
     "data": {
      "text/plain": [
       "datetime.date(2016, 11, 13)"
      ]
     },
     "execution_count": 565,
     "metadata": {},
     "output_type": "execute_result"
    }
   ],
   "source": [
    "df['date'][0]"
   ]
  },
  {
   "cell_type": "code",
   "execution_count": 567,
   "metadata": {
    "ExecuteTime": {
     "end_time": "2018-06-08T00:57:36.489847Z",
     "start_time": "2018-06-08T00:57:36.190405Z"
    }
   },
   "outputs": [
    {
     "data": {
      "text/plain": [
       "<matplotlib.collections.PathCollection at 0x1a205976d8>"
      ]
     },
     "execution_count": 567,
     "metadata": {},
     "output_type": "execute_result"
    },
    {
     "data": {
      "image/png": "[encoded data removed]",
      "text/plain": [
       "<matplotlib.figure.Figure at 0x1a1aebe828>"
      ]
     },
     "metadata": {},
     "output_type": "display_data"
    }
   ],
   "source": [
    "plt.scatter(df.index,df['co2ppm'])"
   ]
  },
  {
   "cell_type": "code",
   "execution_count": 568,
   "metadata": {
    "ExecuteTime": {
     "end_time": "2018-06-08T01:00:38.608582Z",
     "start_time": "2018-06-08T01:00:38.588287Z"
    }
   },
   "outputs": [
    {
     "data": {
      "text/html": [
       "<div>\n",
       "<style scoped>\n",
       "    .dataframe tbody tr th:only-of-type {\n",
       "        vertical-align: middle;\n",
       "    }\n",
       "\n",
       "    .dataframe tbody tr th {\n",
       "        vertical-align: top;\n",
       "    }\n",
       "\n",
       "    .dataframe thead th {\n",
       "        text-align: right;\n",
       "    }\n",
       "</style>\n",
       "<table border=\"1\" class=\"dataframe\">\n",
       "  <thead>\n",
       "    <tr style=\"text-align: right;\">\n",
       "      <th></th>\n",
       "      <th>Latitude</th>\n",
       "      <th>Longitude</th>\n",
       "      <th>Date Local</th>\n",
       "      <th>CO Mean</th>\n",
       "      <th>CO Max Value</th>\n",
       "      <th>CO Max Hour</th>\n",
       "      <th>Oz Mean</th>\n",
       "      <th>Oz Max Value</th>\n",
       "      <th>Oz Max Hour</th>\n",
       "      <th>SO Mean</th>\n",
       "      <th>SO Max Value</th>\n",
       "      <th>SO Max Hour</th>\n",
       "      <th>Part Mean</th>\n",
       "      <th>Part Max Value</th>\n",
       "      <th>Part Max Hour</th>\n",
       "      <th>AQI</th>\n",
       "      <th>Category</th>\n",
       "      <th>AQ Defining Parameter</th>\n",
       "    </tr>\n",
       "  </thead>\n",
       "  <tbody>\n",
       "    <tr>\n",
       "      <th>0</th>\n",
       "      <td>37.814781</td>\n",
       "      <td>-122.282347</td>\n",
       "      <td>2015-01-01</td>\n",
       "      <td>0.708696</td>\n",
       "      <td>2.2</td>\n",
       "      <td>21</td>\n",
       "      <td>0.015882</td>\n",
       "      <td>0.034</td>\n",
       "      <td>9</td>\n",
       "      <td>1.050000</td>\n",
       "      <td>1.5</td>\n",
       "      <td>16</td>\n",
       "      <td>13.0</td>\n",
       "      <td>35.0</td>\n",
       "      <td>21</td>\n",
       "      <td>61</td>\n",
       "      <td>Moderate</td>\n",
       "      <td>PM2.5</td>\n",
       "    </tr>\n",
       "    <tr>\n",
       "      <th>1</th>\n",
       "      <td>37.814781</td>\n",
       "      <td>-122.282347</td>\n",
       "      <td>2015-01-01</td>\n",
       "      <td>0.708696</td>\n",
       "      <td>2.2</td>\n",
       "      <td>21</td>\n",
       "      <td>0.015882</td>\n",
       "      <td>0.034</td>\n",
       "      <td>9</td>\n",
       "      <td>1.050000</td>\n",
       "      <td>1.5</td>\n",
       "      <td>16</td>\n",
       "      <td>13.0</td>\n",
       "      <td>13.0</td>\n",
       "      <td>0</td>\n",
       "      <td>61</td>\n",
       "      <td>Moderate</td>\n",
       "      <td>PM2.5</td>\n",
       "    </tr>\n",
       "    <tr>\n",
       "      <th>2</th>\n",
       "      <td>37.814781</td>\n",
       "      <td>-122.282347</td>\n",
       "      <td>2015-01-01</td>\n",
       "      <td>0.708696</td>\n",
       "      <td>2.2</td>\n",
       "      <td>21</td>\n",
       "      <td>0.015882</td>\n",
       "      <td>0.034</td>\n",
       "      <td>9</td>\n",
       "      <td>1.042857</td>\n",
       "      <td>1.4</td>\n",
       "      <td>23</td>\n",
       "      <td>13.0</td>\n",
       "      <td>35.0</td>\n",
       "      <td>21</td>\n",
       "      <td>61</td>\n",
       "      <td>Moderate</td>\n",
       "      <td>PM2.5</td>\n",
       "    </tr>\n",
       "    <tr>\n",
       "      <th>3</th>\n",
       "      <td>37.814781</td>\n",
       "      <td>-122.282347</td>\n",
       "      <td>2015-01-01</td>\n",
       "      <td>0.708696</td>\n",
       "      <td>2.2</td>\n",
       "      <td>21</td>\n",
       "      <td>0.015882</td>\n",
       "      <td>0.034</td>\n",
       "      <td>9</td>\n",
       "      <td>1.042857</td>\n",
       "      <td>1.4</td>\n",
       "      <td>23</td>\n",
       "      <td>13.0</td>\n",
       "      <td>13.0</td>\n",
       "      <td>0</td>\n",
       "      <td>61</td>\n",
       "      <td>Moderate</td>\n",
       "      <td>PM2.5</td>\n",
       "    </tr>\n",
       "    <tr>\n",
       "      <th>4</th>\n",
       "      <td>37.814781</td>\n",
       "      <td>-122.282347</td>\n",
       "      <td>2015-01-01</td>\n",
       "      <td>0.533333</td>\n",
       "      <td>1.3</td>\n",
       "      <td>23</td>\n",
       "      <td>0.015882</td>\n",
       "      <td>0.034</td>\n",
       "      <td>9</td>\n",
       "      <td>1.050000</td>\n",
       "      <td>1.5</td>\n",
       "      <td>16</td>\n",
       "      <td>13.0</td>\n",
       "      <td>35.0</td>\n",
       "      <td>21</td>\n",
       "      <td>61</td>\n",
       "      <td>Moderate</td>\n",
       "      <td>PM2.5</td>\n",
       "    </tr>\n",
       "  </tbody>\n",
       "</table>\n",
       "</div>"
      ],
      "text/plain": [
       "    Latitude   Longitude  Date Local   CO Mean  CO Max Value  CO Max Hour  \\\n",
       "0  37.814781 -122.282347  2015-01-01  0.708696           2.2           21   \n",
       "1  37.814781 -122.282347  2015-01-01  0.708696           2.2           21   \n",
       "2  37.814781 -122.282347  2015-01-01  0.708696           2.2           21   \n",
       "3  37.814781 -122.282347  2015-01-01  0.708696           2.2           21   \n",
       "4  37.814781 -122.282347  2015-01-01  0.533333           1.3           23   \n",
       "\n",
       "    Oz Mean  Oz Max Value  Oz Max Hour   SO Mean  SO Max Value  SO Max Hour  \\\n",
       "0  0.015882         0.034            9  1.050000           1.5           16   \n",
       "1  0.015882         0.034            9  1.050000           1.5           16   \n",
       "2  0.015882         0.034            9  1.042857           1.4           23   \n",
       "3  0.015882         0.034            9  1.042857           1.4           23   \n",
       "4  0.015882         0.034            9  1.050000           1.5           16   \n",
       "\n",
       "   Part Mean  Part Max Value  Part Max Hour  AQI  Category  \\\n",
       "0       13.0            35.0             21   61  Moderate   \n",
       "1       13.0            13.0              0   61  Moderate   \n",
       "2       13.0            35.0             21   61  Moderate   \n",
       "3       13.0            13.0              0   61  Moderate   \n",
       "4       13.0            35.0             21   61  Moderate   \n",
       "\n",
       "  AQ Defining Parameter  \n",
       "0                 PM2.5  \n",
       "1                 PM2.5  \n",
       "2                 PM2.5  \n",
       "3                 PM2.5  \n",
       "4                 PM2.5  "
      ]
     },
     "execution_count": 568,
     "metadata": {},
     "output_type": "execute_result"
    }
   ],
   "source": [
    "aq.head()"
   ]
  },
  {
   "cell_type": "code",
   "execution_count": 592,
   "metadata": {
    "ExecuteTime": {
     "end_time": "2018-06-08T01:09:02.442975Z",
     "start_time": "2018-06-08T01:09:02.225343Z"
    }
   },
   "outputs": [
    {
     "data": {
      "text/plain": [
       "<matplotlib.collections.PathCollection at 0x1a2af00748>"
      ]
     },
     "execution_count": 592,
     "metadata": {},
     "output_type": "execute_result"
    },
    {
     "data": {
      "image/png": "[encoded data removed]",
      "text/plain": [
       "<matplotlib.figure.Figure at 0x1a24af2588>"
      ]
     },
     "metadata": {},
     "output_type": "display_data"
    }
   ],
   "source": [
    "plt.scatter(aq.index,aq['Part Mean'])"
   ]
  },
  {
   "cell_type": "code",
   "execution_count": null,
   "metadata": {},
   "outputs": [],
   "source": []
  }
 ],
 "metadata": {
  "kernelspec": {
   "display_name": "Python 3",
   "language": "python",
   "name": "python3"
  },
  "language_info": {
   "codemirror_mode": {
    "name": "ipython",
    "version": 3
   },
   "file_extension": ".py",
   "mimetype": "text/x-python",
   "name": "python",
   "nbconvert_exporter": "python",
   "pygments_lexer": "ipython3",
   "version": "3.6.4"
  }
 },
 "nbformat": 4,
 "nbformat_minor": 2
}
