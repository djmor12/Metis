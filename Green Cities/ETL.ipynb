{
 "cells": [
  {
   "cell_type": "code",
   "execution_count": 34,
   "metadata": {
    "ExecuteTime": {
     "end_time": "2018-06-07T01:34:09.151690Z",
     "start_time": "2018-06-07T01:34:08.816270Z"
    }
   },
   "outputs": [],
   "source": [
    "import pandas as pd\n",
    "import numpy as np\n",
    "import os\n",
    "import re\n",
    "import pickle\n",
    "from bs4 import BeautifulSoup as soup\n",
    "import requests as rq\n",
    "import time\n",
    "import h5py\n",
    "import scipy as sp\n",
    "import scipy.stats"
   ]
  },
  {
   "cell_type": "markdown",
   "metadata": {},
   "source": [
    "# EDA"
   ]
  },
  {
   "cell_type": "markdown",
   "metadata": {},
   "source": [
    "## Pulling in Data\n",
    "\n",
    "The data collected is a mix of HDF5, csv and web scraped data about the Bay area.  The CSVs are for particle concentraions, HDF5s for CO2 ppm, and the web scraped data is for empty lot/apartments for sale in the San Fransisco."
   ]
  },
  {
   "cell_type": "code",
   "execution_count": 213,
   "metadata": {
    "ExecuteTime": {
     "end_time": "2018-06-07T21:30:37.678161Z",
     "start_time": "2018-06-07T21:30:37.669694Z"
    }
   },
   "outputs": [],
   "source": [
    "#starting off by reading in the csv files\n",
    "aqcsvs = []\n",
    "aqcsvs += ['../../../../Documents/largecsvs/others/'+each for each in os.listdir('../../../../Documents/largecsvs/pothers/') if each.endswith('.csv')]\n",
    "\n",
    "part = []\n",
    "part += ['../../../../Documents/largecsvs/particle/'+each for each in os.listdir('../../../../Documents/largecsvs/particle/') if each.endswith('csv')]\n",
    "#getting all H5 files for the project\n",
    "results = []\n",
    "results += ['../../../../Downloads/'+each for each in os.listdir('../../../../Downloads/') if each.endswith('.h5')]"
   ]
  },
  {
   "cell_type": "code",
   "execution_count": 214,
   "metadata": {
    "ExecuteTime": {
     "end_time": "2018-06-07T21:30:51.760192Z",
     "start_time": "2018-06-07T21:30:51.757383Z"
    }
   },
   "outputs": [],
   "source": [
    "aqcsvs=sorted(aqcsvs)\n",
    "part=sorted(part)"
   ]
  },
  {
   "cell_type": "code",
   "execution_count": 99,
   "metadata": {
    "ExecuteTime": {
     "end_time": "2018-06-07T20:04:46.298402Z",
     "start_time": "2018-06-07T20:04:46.289455Z"
    }
   },
   "outputs": [],
   "source": [
    "weatherdf = pd.read_csv('weather/1367384.csv')"
   ]
  },
  {
   "cell_type": "code",
   "execution_count": 105,
   "metadata": {
    "ExecuteTime": {
     "end_time": "2018-06-07T20:05:49.159982Z",
     "start_time": "2018-06-07T20:05:49.155516Z"
    }
   },
   "outputs": [],
   "source": [
    "weatherdf.drop(['STATION', 'NAME','ELEVATION', 'SNWD', 'TOBS'], axis=1, inplace=True)\n",
    "weatherdf = weatherdf.fillna(0)"
   ]
  },
  {
   "cell_type": "code",
   "execution_count": 110,
   "metadata": {
    "ExecuteTime": {
     "end_time": "2018-06-07T20:10:11.964626Z",
     "start_time": "2018-06-07T20:10:11.951932Z"
    }
   },
   "outputs": [
    {
     "data": {
      "text/html": [
       "<div>\n",
       "<style scoped>\n",
       "    .dataframe tbody tr th:only-of-type {\n",
       "        vertical-align: middle;\n",
       "    }\n",
       "\n",
       "    .dataframe tbody tr th {\n",
       "        vertical-align: top;\n",
       "    }\n",
       "\n",
       "    .dataframe thead th {\n",
       "        text-align: right;\n",
       "    }\n",
       "</style>\n",
       "<table border=\"1\" class=\"dataframe\">\n",
       "  <thead>\n",
       "    <tr style=\"text-align: right;\">\n",
       "      <th></th>\n",
       "      <th>LATITUDE</th>\n",
       "      <th>LONGITUDE</th>\n",
       "      <th>DATE</th>\n",
       "      <th>PRCP</th>\n",
       "      <th>SNOW</th>\n",
       "      <th>TAVG</th>\n",
       "      <th>TMAX</th>\n",
       "      <th>TMIN</th>\n",
       "    </tr>\n",
       "  </thead>\n",
       "  <tbody>\n",
       "    <tr>\n",
       "      <th>0</th>\n",
       "      <td>37.7705</td>\n",
       "      <td>-122.4269</td>\n",
       "      <td>2014-01-01</td>\n",
       "      <td>0.0</td>\n",
       "      <td>0.0</td>\n",
       "      <td>0.0</td>\n",
       "      <td>63.0</td>\n",
       "      <td>44.0</td>\n",
       "    </tr>\n",
       "    <tr>\n",
       "      <th>1</th>\n",
       "      <td>37.7705</td>\n",
       "      <td>-122.4269</td>\n",
       "      <td>2014-01-02</td>\n",
       "      <td>0.0</td>\n",
       "      <td>0.0</td>\n",
       "      <td>0.0</td>\n",
       "      <td>63.0</td>\n",
       "      <td>48.0</td>\n",
       "    </tr>\n",
       "    <tr>\n",
       "      <th>2</th>\n",
       "      <td>37.7705</td>\n",
       "      <td>-122.4269</td>\n",
       "      <td>2014-01-03</td>\n",
       "      <td>0.0</td>\n",
       "      <td>0.0</td>\n",
       "      <td>0.0</td>\n",
       "      <td>64.0</td>\n",
       "      <td>49.0</td>\n",
       "    </tr>\n",
       "    <tr>\n",
       "      <th>3</th>\n",
       "      <td>37.7705</td>\n",
       "      <td>-122.4269</td>\n",
       "      <td>2014-01-04</td>\n",
       "      <td>0.0</td>\n",
       "      <td>0.0</td>\n",
       "      <td>0.0</td>\n",
       "      <td>66.0</td>\n",
       "      <td>46.0</td>\n",
       "    </tr>\n",
       "    <tr>\n",
       "      <th>4</th>\n",
       "      <td>37.7705</td>\n",
       "      <td>-122.4269</td>\n",
       "      <td>2014-01-05</td>\n",
       "      <td>0.0</td>\n",
       "      <td>0.0</td>\n",
       "      <td>0.0</td>\n",
       "      <td>66.0</td>\n",
       "      <td>48.0</td>\n",
       "    </tr>\n",
       "  </tbody>\n",
       "</table>\n",
       "</div>"
      ],
      "text/plain": [
       "   LATITUDE  LONGITUDE        DATE  PRCP  SNOW  TAVG  TMAX  TMIN\n",
       "0   37.7705  -122.4269  2014-01-01   0.0   0.0   0.0  63.0  44.0\n",
       "1   37.7705  -122.4269  2014-01-02   0.0   0.0   0.0  63.0  48.0\n",
       "2   37.7705  -122.4269  2014-01-03   0.0   0.0   0.0  64.0  49.0\n",
       "3   37.7705  -122.4269  2014-01-04   0.0   0.0   0.0  66.0  46.0\n",
       "4   37.7705  -122.4269  2014-01-05   0.0   0.0   0.0  66.0  48.0"
      ]
     },
     "execution_count": 110,
     "metadata": {},
     "output_type": "execute_result"
    }
   ],
   "source": [
    "weatherdf.head()"
   ]
  },
  {
   "cell_type": "code",
   "execution_count": 221,
   "metadata": {
    "ExecuteTime": {
     "end_time": "2018-06-07T21:33:04.884624Z",
     "start_time": "2018-06-07T21:33:04.880716Z"
    }
   },
   "outputs": [
    {
     "data": {
      "text/plain": [
       "['COdaily_42101_2014.csv',\n",
       " 'COdaily_42101_2015.csv',\n",
       " 'COdaily_42101_2016.csv',\n",
       " 'COdaily_42101_2017.csv',\n",
       " 'COdaily_42101_2018.csv',\n",
       " 'Odaily_44201_2014.csv',\n",
       " 'Odaily_44201_2015.csv',\n",
       " 'Odaily_44201_2016.csv',\n",
       " 'Odaily_44201_2017.csv',\n",
       " 'Odaily_44201_2018.csv',\n",
       " 'SOdaily_42401_2014.csv',\n",
       " 'SOdaily_42401_2015.csv',\n",
       " 'SOdaily_42401_2016.csv',\n",
       " 'SOdaily_42401_2017.csv',\n",
       " 'SOdaily_42401_2018.csv',\n",
       " 'daily_aqi_by_cbsa_2014.csv',\n",
       " 'daily_aqi_by_cbsa_2015.csv',\n",
       " 'daily_aqi_by_cbsa_2016.csv',\n",
       " 'daily_aqi_by_cbsa_2017.csv',\n",
       " 'daily_aqi_by_cbsa_2018.csv']"
      ]
     },
     "execution_count": 221,
     "metadata": {},
     "output_type": "execute_result"
    }
   ],
   "source": [
    "aqcsvs"
   ]
  },
  {
   "cell_type": "code",
   "execution_count": 233,
   "metadata": {
    "ExecuteTime": {
     "end_time": "2018-06-07T21:46:00.950348Z",
     "start_time": "2018-06-07T21:45:16.154591Z"
    }
   },
   "outputs": [],
   "source": [
    "aq=pd.read_csv(aqcsvs[0])\n",
    "\n",
    "for i in range(1,len(aqcsvs)):\n",
    "    if i==15:\n",
    "        aq2=pd.read_csv(aqcsvs[i])\n",
    "    elif i>14:\n",
    "        temp = pd.read_csv(aqcsvs[i])\n",
    "        aq2 = pd.concat([aq2,temp], ignore_index=True)\n",
    "    else:\n",
    "        temp = pd.read_csv(aqcsvs[i])\n",
    "        aq = pd.concat([aq,temp], ignore_index=True)"
   ]
  },
  {
   "cell_type": "code",
   "execution_count": 234,
   "metadata": {
    "ExecuteTime": {
     "end_time": "2018-06-07T21:46:00.980229Z",
     "start_time": "2018-06-07T21:46:00.952228Z"
    }
   },
   "outputs": [
    {
     "data": {
      "text/html": [
       "<div>\n",
       "<style scoped>\n",
       "    .dataframe tbody tr th:only-of-type {\n",
       "        vertical-align: middle;\n",
       "    }\n",
       "\n",
       "    .dataframe tbody tr th {\n",
       "        vertical-align: top;\n",
       "    }\n",
       "\n",
       "    .dataframe thead th {\n",
       "        text-align: right;\n",
       "    }\n",
       "</style>\n",
       "<table border=\"1\" class=\"dataframe\">\n",
       "  <thead>\n",
       "    <tr style=\"text-align: right;\">\n",
       "      <th></th>\n",
       "      <th>State Code</th>\n",
       "      <th>County Code</th>\n",
       "      <th>Site Num</th>\n",
       "      <th>Parameter Code</th>\n",
       "      <th>POC</th>\n",
       "      <th>Latitude</th>\n",
       "      <th>Longitude</th>\n",
       "      <th>Datum</th>\n",
       "      <th>Parameter Name</th>\n",
       "      <th>Sample Duration</th>\n",
       "      <th>...</th>\n",
       "      <th>AQI</th>\n",
       "      <th>Method Code</th>\n",
       "      <th>Method Name</th>\n",
       "      <th>Local Site Name</th>\n",
       "      <th>Address</th>\n",
       "      <th>State Name</th>\n",
       "      <th>County Name</th>\n",
       "      <th>City Name</th>\n",
       "      <th>CBSA Name</th>\n",
       "      <th>Date of Last Change</th>\n",
       "    </tr>\n",
       "  </thead>\n",
       "  <tbody>\n",
       "    <tr>\n",
       "      <th>0</th>\n",
       "      <td>1</td>\n",
       "      <td>73</td>\n",
       "      <td>23</td>\n",
       "      <td>42101</td>\n",
       "      <td>2</td>\n",
       "      <td>33.553056</td>\n",
       "      <td>-86.815</td>\n",
       "      <td>WGS84</td>\n",
       "      <td>Carbon monoxide</td>\n",
       "      <td>1 HOUR</td>\n",
       "      <td>...</td>\n",
       "      <td>NaN</td>\n",
       "      <td>93.0</td>\n",
       "      <td>INSTRUMENTAL - GAS FILTER CORRELATION CO ANALYZER</td>\n",
       "      <td>North Birmingham</td>\n",
       "      <td>NO. B'HAM,SOU R.R., 3009 28TH ST. NO.</td>\n",
       "      <td>Alabama</td>\n",
       "      <td>Jefferson</td>\n",
       "      <td>Birmingham</td>\n",
       "      <td>Birmingham-Hoover, AL</td>\n",
       "      <td>2016-08-26</td>\n",
       "    </tr>\n",
       "    <tr>\n",
       "      <th>1</th>\n",
       "      <td>1</td>\n",
       "      <td>73</td>\n",
       "      <td>23</td>\n",
       "      <td>42101</td>\n",
       "      <td>2</td>\n",
       "      <td>33.553056</td>\n",
       "      <td>-86.815</td>\n",
       "      <td>WGS84</td>\n",
       "      <td>Carbon monoxide</td>\n",
       "      <td>1 HOUR</td>\n",
       "      <td>...</td>\n",
       "      <td>NaN</td>\n",
       "      <td>93.0</td>\n",
       "      <td>INSTRUMENTAL - GAS FILTER CORRELATION CO ANALYZER</td>\n",
       "      <td>North Birmingham</td>\n",
       "      <td>NO. B'HAM,SOU R.R., 3009 28TH ST. NO.</td>\n",
       "      <td>Alabama</td>\n",
       "      <td>Jefferson</td>\n",
       "      <td>Birmingham</td>\n",
       "      <td>Birmingham-Hoover, AL</td>\n",
       "      <td>2016-08-26</td>\n",
       "    </tr>\n",
       "    <tr>\n",
       "      <th>2</th>\n",
       "      <td>1</td>\n",
       "      <td>73</td>\n",
       "      <td>23</td>\n",
       "      <td>42101</td>\n",
       "      <td>2</td>\n",
       "      <td>33.553056</td>\n",
       "      <td>-86.815</td>\n",
       "      <td>WGS84</td>\n",
       "      <td>Carbon monoxide</td>\n",
       "      <td>1 HOUR</td>\n",
       "      <td>...</td>\n",
       "      <td>NaN</td>\n",
       "      <td>93.0</td>\n",
       "      <td>INSTRUMENTAL - GAS FILTER CORRELATION CO ANALYZER</td>\n",
       "      <td>North Birmingham</td>\n",
       "      <td>NO. B'HAM,SOU R.R., 3009 28TH ST. NO.</td>\n",
       "      <td>Alabama</td>\n",
       "      <td>Jefferson</td>\n",
       "      <td>Birmingham</td>\n",
       "      <td>Birmingham-Hoover, AL</td>\n",
       "      <td>2016-08-26</td>\n",
       "    </tr>\n",
       "    <tr>\n",
       "      <th>3</th>\n",
       "      <td>1</td>\n",
       "      <td>73</td>\n",
       "      <td>23</td>\n",
       "      <td>42101</td>\n",
       "      <td>2</td>\n",
       "      <td>33.553056</td>\n",
       "      <td>-86.815</td>\n",
       "      <td>WGS84</td>\n",
       "      <td>Carbon monoxide</td>\n",
       "      <td>1 HOUR</td>\n",
       "      <td>...</td>\n",
       "      <td>NaN</td>\n",
       "      <td>93.0</td>\n",
       "      <td>INSTRUMENTAL - GAS FILTER CORRELATION CO ANALYZER</td>\n",
       "      <td>North Birmingham</td>\n",
       "      <td>NO. B'HAM,SOU R.R., 3009 28TH ST. NO.</td>\n",
       "      <td>Alabama</td>\n",
       "      <td>Jefferson</td>\n",
       "      <td>Birmingham</td>\n",
       "      <td>Birmingham-Hoover, AL</td>\n",
       "      <td>2016-08-26</td>\n",
       "    </tr>\n",
       "    <tr>\n",
       "      <th>4</th>\n",
       "      <td>1</td>\n",
       "      <td>73</td>\n",
       "      <td>23</td>\n",
       "      <td>42101</td>\n",
       "      <td>2</td>\n",
       "      <td>33.553056</td>\n",
       "      <td>-86.815</td>\n",
       "      <td>WGS84</td>\n",
       "      <td>Carbon monoxide</td>\n",
       "      <td>1 HOUR</td>\n",
       "      <td>...</td>\n",
       "      <td>NaN</td>\n",
       "      <td>93.0</td>\n",
       "      <td>INSTRUMENTAL - GAS FILTER CORRELATION CO ANALYZER</td>\n",
       "      <td>North Birmingham</td>\n",
       "      <td>NO. B'HAM,SOU R.R., 3009 28TH ST. NO.</td>\n",
       "      <td>Alabama</td>\n",
       "      <td>Jefferson</td>\n",
       "      <td>Birmingham</td>\n",
       "      <td>Birmingham-Hoover, AL</td>\n",
       "      <td>2016-08-26</td>\n",
       "    </tr>\n",
       "  </tbody>\n",
       "</table>\n",
       "<p>5 rows × 29 columns</p>\n",
       "</div>"
      ],
      "text/plain": [
       "   State Code  County Code  Site Num  Parameter Code  POC   Latitude  \\\n",
       "0           1           73        23           42101    2  33.553056   \n",
       "1           1           73        23           42101    2  33.553056   \n",
       "2           1           73        23           42101    2  33.553056   \n",
       "3           1           73        23           42101    2  33.553056   \n",
       "4           1           73        23           42101    2  33.553056   \n",
       "\n",
       "   Longitude  Datum   Parameter Name Sample Duration         ...          AQI  \\\n",
       "0    -86.815  WGS84  Carbon monoxide          1 HOUR         ...          NaN   \n",
       "1    -86.815  WGS84  Carbon monoxide          1 HOUR         ...          NaN   \n",
       "2    -86.815  WGS84  Carbon monoxide          1 HOUR         ...          NaN   \n",
       "3    -86.815  WGS84  Carbon monoxide          1 HOUR         ...          NaN   \n",
       "4    -86.815  WGS84  Carbon monoxide          1 HOUR         ...          NaN   \n",
       "\n",
       "  Method Code                                        Method Name  \\\n",
       "0        93.0  INSTRUMENTAL - GAS FILTER CORRELATION CO ANALYZER   \n",
       "1        93.0  INSTRUMENTAL - GAS FILTER CORRELATION CO ANALYZER   \n",
       "2        93.0  INSTRUMENTAL - GAS FILTER CORRELATION CO ANALYZER   \n",
       "3        93.0  INSTRUMENTAL - GAS FILTER CORRELATION CO ANALYZER   \n",
       "4        93.0  INSTRUMENTAL - GAS FILTER CORRELATION CO ANALYZER   \n",
       "\n",
       "    Local Site Name                                Address  State Name  \\\n",
       "0  North Birmingham  NO. B'HAM,SOU R.R., 3009 28TH ST. NO.     Alabama   \n",
       "1  North Birmingham  NO. B'HAM,SOU R.R., 3009 28TH ST. NO.     Alabama   \n",
       "2  North Birmingham  NO. B'HAM,SOU R.R., 3009 28TH ST. NO.     Alabama   \n",
       "3  North Birmingham  NO. B'HAM,SOU R.R., 3009 28TH ST. NO.     Alabama   \n",
       "4  North Birmingham  NO. B'HAM,SOU R.R., 3009 28TH ST. NO.     Alabama   \n",
       "\n",
       "   County Name   City Name              CBSA Name  Date of Last Change  \n",
       "0    Jefferson  Birmingham  Birmingham-Hoover, AL           2016-08-26  \n",
       "1    Jefferson  Birmingham  Birmingham-Hoover, AL           2016-08-26  \n",
       "2    Jefferson  Birmingham  Birmingham-Hoover, AL           2016-08-26  \n",
       "3    Jefferson  Birmingham  Birmingham-Hoover, AL           2016-08-26  \n",
       "4    Jefferson  Birmingham  Birmingham-Hoover, AL           2016-08-26  \n",
       "\n",
       "[5 rows x 29 columns]"
      ]
     },
     "execution_count": 234,
     "metadata": {},
     "output_type": "execute_result"
    }
   ],
   "source": [
    "aq.head()"
   ]
  },
  {
   "cell_type": "code",
   "execution_count": 223,
   "metadata": {
    "ExecuteTime": {
     "end_time": "2018-06-07T21:34:08.084829Z",
     "start_time": "2018-06-07T21:34:05.243490Z"
    }
   },
   "outputs": [],
   "source": [
    "#Filtering out unneed data\n",
    "aq = aq[aq['State Name']=='California']\n",
    "aq = aq[aq['CBSA Name']=='San Francisco-Oakland-Hayward, CA']\n",
    "aq = aq[aq['City Name'].isin(['Oakland','Richmond','San Pablo','San Francisco','San Rafael'])]\n",
    "aq.drop(['State Code', 'County Code', 'Site Num', 'Parameter Code', 'POC', 'Datum', 'Sample Duration',\n",
    "       'Pollutant Standard', 'Units of Measure', 'Event Type',\n",
    "       'Observation Count', 'Observation Percent', 'AQI', 'Method Code', 'Method Name',\n",
    "       'Local Site Name', 'Address', 'State Name', 'County Name', 'City Name', 'Date of Last Change'], axis=1, inplace=True)\n",
    "#filtering to relevant cities\n",
    "aq.reset_index(drop=True,inplace=True)"
   ]
  },
  {
   "cell_type": "code",
   "execution_count": 224,
   "metadata": {
    "ExecuteTime": {
     "end_time": "2018-06-07T21:34:08.120550Z",
     "start_time": "2018-06-07T21:34:08.087057Z"
    }
   },
   "outputs": [],
   "source": [
    "codf = aq[aq['Parameter Name']=='Carbon monoxide']\n",
    "ozdf= aq[aq['Parameter Name']=='Ozone']\n",
    "sodf= aq[aq['Parameter Name']=='Ozone']\n"
   ]
  },
  {
   "cell_type": "code",
   "execution_count": 232,
   "metadata": {
    "ExecuteTime": {
     "end_time": "2018-06-07T21:44:02.567712Z",
     "start_time": "2018-06-07T21:44:02.556372Z"
    }
   },
   "outputs": [
    {
     "data": {
      "text/html": [
       "<div>\n",
       "<style scoped>\n",
       "    .dataframe tbody tr th:only-of-type {\n",
       "        vertical-align: middle;\n",
       "    }\n",
       "\n",
       "    .dataframe tbody tr th {\n",
       "        vertical-align: top;\n",
       "    }\n",
       "\n",
       "    .dataframe thead th {\n",
       "        text-align: right;\n",
       "    }\n",
       "</style>\n",
       "<table border=\"1\" class=\"dataframe\">\n",
       "  <thead>\n",
       "    <tr style=\"text-align: right;\">\n",
       "      <th></th>\n",
       "      <th>CBSA</th>\n",
       "      <th>CBSA Code</th>\n",
       "      <th>Date</th>\n",
       "      <th>AQI</th>\n",
       "      <th>Category</th>\n",
       "      <th>Defining Parameter</th>\n",
       "      <th>Defining Site</th>\n",
       "      <th>Number of Sites Reporting</th>\n",
       "    </tr>\n",
       "  </thead>\n",
       "  <tbody>\n",
       "    <tr>\n",
       "      <th>134147</th>\n",
       "      <td>San Francisco-Oakland-Hayward, CA</td>\n",
       "      <td>41860</td>\n",
       "      <td>2014-01-01</td>\n",
       "      <td>109</td>\n",
       "      <td>Unhealthy for Sensitive Groups</td>\n",
       "      <td>PM2.5</td>\n",
       "      <td>06-001-0011</td>\n",
       "      <td>12</td>\n",
       "    </tr>\n",
       "    <tr>\n",
       "      <th>134148</th>\n",
       "      <td>San Francisco-Oakland-Hayward, CA</td>\n",
       "      <td>41860</td>\n",
       "      <td>2014-01-02</td>\n",
       "      <td>80</td>\n",
       "      <td>Moderate</td>\n",
       "      <td>PM2.5</td>\n",
       "      <td>06-001-0011</td>\n",
       "      <td>13</td>\n",
       "    </tr>\n",
       "    <tr>\n",
       "      <th>134149</th>\n",
       "      <td>San Francisco-Oakland-Hayward, CA</td>\n",
       "      <td>41860</td>\n",
       "      <td>2014-01-03</td>\n",
       "      <td>80</td>\n",
       "      <td>Moderate</td>\n",
       "      <td>PM2.5</td>\n",
       "      <td>06-001-0011</td>\n",
       "      <td>12</td>\n",
       "    </tr>\n",
       "    <tr>\n",
       "      <th>134150</th>\n",
       "      <td>San Francisco-Oakland-Hayward, CA</td>\n",
       "      <td>41860</td>\n",
       "      <td>2014-01-04</td>\n",
       "      <td>67</td>\n",
       "      <td>Moderate</td>\n",
       "      <td>PM2.5</td>\n",
       "      <td>06-001-0011</td>\n",
       "      <td>12</td>\n",
       "    </tr>\n",
       "    <tr>\n",
       "      <th>134151</th>\n",
       "      <td>San Francisco-Oakland-Hayward, CA</td>\n",
       "      <td>41860</td>\n",
       "      <td>2014-01-05</td>\n",
       "      <td>56</td>\n",
       "      <td>Moderate</td>\n",
       "      <td>PM2.5</td>\n",
       "      <td>06-001-0007</td>\n",
       "      <td>13</td>\n",
       "    </tr>\n",
       "  </tbody>\n",
       "</table>\n",
       "</div>"
      ],
      "text/plain": [
       "                                     CBSA  CBSA Code        Date  AQI  \\\n",
       "134147  San Francisco-Oakland-Hayward, CA      41860  2014-01-01  109   \n",
       "134148  San Francisco-Oakland-Hayward, CA      41860  2014-01-02   80   \n",
       "134149  San Francisco-Oakland-Hayward, CA      41860  2014-01-03   80   \n",
       "134150  San Francisco-Oakland-Hayward, CA      41860  2014-01-04   67   \n",
       "134151  San Francisco-Oakland-Hayward, CA      41860  2014-01-05   56   \n",
       "\n",
       "                              Category Defining Parameter Defining Site  \\\n",
       "134147  Unhealthy for Sensitive Groups              PM2.5   06-001-0011   \n",
       "134148                        Moderate              PM2.5   06-001-0011   \n",
       "134149                        Moderate              PM2.5   06-001-0011   \n",
       "134150                        Moderate              PM2.5   06-001-0011   \n",
       "134151                        Moderate              PM2.5   06-001-0007   \n",
       "\n",
       "        Number of Sites Reporting  \n",
       "134147                         12  \n",
       "134148                         13  \n",
       "134149                         12  \n",
       "134150                         12  \n",
       "134151                         13  "
      ]
     },
     "execution_count": 232,
     "metadata": {},
     "output_type": "execute_result"
    }
   ],
   "source": [
    "aq2.head()"
   ]
  },
  {
   "cell_type": "code",
   "execution_count": 229,
   "metadata": {
    "ExecuteTime": {
     "end_time": "2018-06-07T21:42:04.019518Z",
     "start_time": "2018-06-07T21:42:03.836943Z"
    }
   },
   "outputs": [
    {
     "ename": "KeyError",
     "evalue": "'CSBA'",
     "output_type": "error",
     "traceback": [
      "\u001b[0;31m---------------------------------------------------------------------------\u001b[0m",
      "\u001b[0;31mKeyError\u001b[0m                                  Traceback (most recent call last)",
      "\u001b[0;32m/anaconda3/lib/python3.6/site-packages/pandas/core/indexes/base.py\u001b[0m in \u001b[0;36mget_loc\u001b[0;34m(self, key, method, tolerance)\u001b[0m\n\u001b[1;32m   2524\u001b[0m             \u001b[0;32mtry\u001b[0m\u001b[0;34m:\u001b[0m\u001b[0;34m\u001b[0m\u001b[0m\n\u001b[0;32m-> 2525\u001b[0;31m                 \u001b[0;32mreturn\u001b[0m \u001b[0mself\u001b[0m\u001b[0;34m.\u001b[0m\u001b[0m_engine\u001b[0m\u001b[0;34m.\u001b[0m\u001b[0mget_loc\u001b[0m\u001b[0;34m(\u001b[0m\u001b[0mkey\u001b[0m\u001b[0;34m)\u001b[0m\u001b[0;34m\u001b[0m\u001b[0m\n\u001b[0m\u001b[1;32m   2526\u001b[0m             \u001b[0;32mexcept\u001b[0m \u001b[0mKeyError\u001b[0m\u001b[0;34m:\u001b[0m\u001b[0;34m\u001b[0m\u001b[0m\n",
      "\u001b[0;32mpandas/_libs/index.pyx\u001b[0m in \u001b[0;36mpandas._libs.index.IndexEngine.get_loc\u001b[0;34m()\u001b[0m\n",
      "\u001b[0;32mpandas/_libs/index.pyx\u001b[0m in \u001b[0;36mpandas._libs.index.IndexEngine.get_loc\u001b[0;34m()\u001b[0m\n",
      "\u001b[0;32mpandas/_libs/hashtable_class_helper.pxi\u001b[0m in \u001b[0;36mpandas._libs.hashtable.PyObjectHashTable.get_item\u001b[0;34m()\u001b[0m\n",
      "\u001b[0;32mpandas/_libs/hashtable_class_helper.pxi\u001b[0m in \u001b[0;36mpandas._libs.hashtable.PyObjectHashTable.get_item\u001b[0;34m()\u001b[0m\n",
      "\u001b[0;31mKeyError\u001b[0m: 'CSBA'",
      "\nDuring handling of the above exception, another exception occurred:\n",
      "\u001b[0;31mKeyError\u001b[0m                                  Traceback (most recent call last)",
      "\u001b[0;32m<ipython-input-229-a329467a8485>\u001b[0m in \u001b[0;36m<module>\u001b[0;34m()\u001b[0m\n\u001b[1;32m      1\u001b[0m \u001b[0;31m#Filtering out unneed data\u001b[0m\u001b[0;34m\u001b[0m\u001b[0;34m\u001b[0m\u001b[0m\n\u001b[1;32m      2\u001b[0m \u001b[0maq2\u001b[0m \u001b[0;34m=\u001b[0m \u001b[0maq2\u001b[0m\u001b[0;34m[\u001b[0m\u001b[0maq2\u001b[0m\u001b[0;34m[\u001b[0m\u001b[0;34m'CBSA'\u001b[0m\u001b[0;34m]\u001b[0m\u001b[0;34m==\u001b[0m\u001b[0;34m'San Francisco-Oakland-Hayward, CA'\u001b[0m\u001b[0;34m]\u001b[0m\u001b[0;34m\u001b[0m\u001b[0m\n\u001b[0;32m----> 3\u001b[0;31m \u001b[0maq2\u001b[0m \u001b[0;34m=\u001b[0m \u001b[0maq2\u001b[0m\u001b[0;34m[\u001b[0m\u001b[0maq2\u001b[0m\u001b[0;34m[\u001b[0m\u001b[0;34m'CSBA'\u001b[0m\u001b[0;34m]\u001b[0m\u001b[0;34m.\u001b[0m\u001b[0misin\u001b[0m\u001b[0;34m(\u001b[0m\u001b[0;34m[\u001b[0m\u001b[0;34m'Oakland, CA'\u001b[0m\u001b[0;34m,\u001b[0m\u001b[0;34m'Richmond, CA'\u001b[0m\u001b[0;34m,\u001b[0m\u001b[0;34m'San Pablo,CA'\u001b[0m\u001b[0;34m,\u001b[0m\u001b[0;34m'San Francisco, CA'\u001b[0m\u001b[0;34m,\u001b[0m\u001b[0;34m'San Rafael, CA'\u001b[0m\u001b[0;34m]\u001b[0m\u001b[0;34m)\u001b[0m\u001b[0;34m]\u001b[0m\u001b[0;34m\u001b[0m\u001b[0m\n\u001b[0m\u001b[1;32m      4\u001b[0m aq2.drop(['State Code', 'County Code', 'Site Num', 'Parameter Code', 'POC', 'Datum', 'Sample Duration',\n\u001b[1;32m      5\u001b[0m        \u001b[0;34m'Pollutant Standard'\u001b[0m\u001b[0;34m,\u001b[0m \u001b[0;34m'Units of Measure'\u001b[0m\u001b[0;34m,\u001b[0m \u001b[0;34m'Event Type'\u001b[0m\u001b[0;34m,\u001b[0m\u001b[0;34m\u001b[0m\u001b[0m\n",
      "\u001b[0;32m/anaconda3/lib/python3.6/site-packages/pandas/core/frame.py\u001b[0m in \u001b[0;36m__getitem__\u001b[0;34m(self, key)\u001b[0m\n\u001b[1;32m   2137\u001b[0m             \u001b[0;32mreturn\u001b[0m \u001b[0mself\u001b[0m\u001b[0;34m.\u001b[0m\u001b[0m_getitem_multilevel\u001b[0m\u001b[0;34m(\u001b[0m\u001b[0mkey\u001b[0m\u001b[0;34m)\u001b[0m\u001b[0;34m\u001b[0m\u001b[0m\n\u001b[1;32m   2138\u001b[0m         \u001b[0;32melse\u001b[0m\u001b[0;34m:\u001b[0m\u001b[0;34m\u001b[0m\u001b[0m\n\u001b[0;32m-> 2139\u001b[0;31m             \u001b[0;32mreturn\u001b[0m \u001b[0mself\u001b[0m\u001b[0;34m.\u001b[0m\u001b[0m_getitem_column\u001b[0m\u001b[0;34m(\u001b[0m\u001b[0mkey\u001b[0m\u001b[0;34m)\u001b[0m\u001b[0;34m\u001b[0m\u001b[0m\n\u001b[0m\u001b[1;32m   2140\u001b[0m \u001b[0;34m\u001b[0m\u001b[0m\n\u001b[1;32m   2141\u001b[0m     \u001b[0;32mdef\u001b[0m \u001b[0m_getitem_column\u001b[0m\u001b[0;34m(\u001b[0m\u001b[0mself\u001b[0m\u001b[0;34m,\u001b[0m \u001b[0mkey\u001b[0m\u001b[0;34m)\u001b[0m\u001b[0;34m:\u001b[0m\u001b[0;34m\u001b[0m\u001b[0m\n",
      "\u001b[0;32m/anaconda3/lib/python3.6/site-packages/pandas/core/frame.py\u001b[0m in \u001b[0;36m_getitem_column\u001b[0;34m(self, key)\u001b[0m\n\u001b[1;32m   2144\u001b[0m         \u001b[0;31m# get column\u001b[0m\u001b[0;34m\u001b[0m\u001b[0;34m\u001b[0m\u001b[0m\n\u001b[1;32m   2145\u001b[0m         \u001b[0;32mif\u001b[0m \u001b[0mself\u001b[0m\u001b[0;34m.\u001b[0m\u001b[0mcolumns\u001b[0m\u001b[0;34m.\u001b[0m\u001b[0mis_unique\u001b[0m\u001b[0;34m:\u001b[0m\u001b[0;34m\u001b[0m\u001b[0m\n\u001b[0;32m-> 2146\u001b[0;31m             \u001b[0;32mreturn\u001b[0m \u001b[0mself\u001b[0m\u001b[0;34m.\u001b[0m\u001b[0m_get_item_cache\u001b[0m\u001b[0;34m(\u001b[0m\u001b[0mkey\u001b[0m\u001b[0;34m)\u001b[0m\u001b[0;34m\u001b[0m\u001b[0m\n\u001b[0m\u001b[1;32m   2147\u001b[0m \u001b[0;34m\u001b[0m\u001b[0m\n\u001b[1;32m   2148\u001b[0m         \u001b[0;31m# duplicate columns & possible reduce dimensionality\u001b[0m\u001b[0;34m\u001b[0m\u001b[0;34m\u001b[0m\u001b[0m\n",
      "\u001b[0;32m/anaconda3/lib/python3.6/site-packages/pandas/core/generic.py\u001b[0m in \u001b[0;36m_get_item_cache\u001b[0;34m(self, item)\u001b[0m\n\u001b[1;32m   1840\u001b[0m         \u001b[0mres\u001b[0m \u001b[0;34m=\u001b[0m \u001b[0mcache\u001b[0m\u001b[0;34m.\u001b[0m\u001b[0mget\u001b[0m\u001b[0;34m(\u001b[0m\u001b[0mitem\u001b[0m\u001b[0;34m)\u001b[0m\u001b[0;34m\u001b[0m\u001b[0m\n\u001b[1;32m   1841\u001b[0m         \u001b[0;32mif\u001b[0m \u001b[0mres\u001b[0m \u001b[0;32mis\u001b[0m \u001b[0;32mNone\u001b[0m\u001b[0;34m:\u001b[0m\u001b[0;34m\u001b[0m\u001b[0m\n\u001b[0;32m-> 1842\u001b[0;31m             \u001b[0mvalues\u001b[0m \u001b[0;34m=\u001b[0m \u001b[0mself\u001b[0m\u001b[0;34m.\u001b[0m\u001b[0m_data\u001b[0m\u001b[0;34m.\u001b[0m\u001b[0mget\u001b[0m\u001b[0;34m(\u001b[0m\u001b[0mitem\u001b[0m\u001b[0;34m)\u001b[0m\u001b[0;34m\u001b[0m\u001b[0m\n\u001b[0m\u001b[1;32m   1843\u001b[0m             \u001b[0mres\u001b[0m \u001b[0;34m=\u001b[0m \u001b[0mself\u001b[0m\u001b[0;34m.\u001b[0m\u001b[0m_box_item_values\u001b[0m\u001b[0;34m(\u001b[0m\u001b[0mitem\u001b[0m\u001b[0;34m,\u001b[0m \u001b[0mvalues\u001b[0m\u001b[0;34m)\u001b[0m\u001b[0;34m\u001b[0m\u001b[0m\n\u001b[1;32m   1844\u001b[0m             \u001b[0mcache\u001b[0m\u001b[0;34m[\u001b[0m\u001b[0mitem\u001b[0m\u001b[0;34m]\u001b[0m \u001b[0;34m=\u001b[0m \u001b[0mres\u001b[0m\u001b[0;34m\u001b[0m\u001b[0m\n",
      "\u001b[0;32m/anaconda3/lib/python3.6/site-packages/pandas/core/internals.py\u001b[0m in \u001b[0;36mget\u001b[0;34m(self, item, fastpath)\u001b[0m\n\u001b[1;32m   3841\u001b[0m \u001b[0;34m\u001b[0m\u001b[0m\n\u001b[1;32m   3842\u001b[0m             \u001b[0;32mif\u001b[0m \u001b[0;32mnot\u001b[0m \u001b[0misna\u001b[0m\u001b[0;34m(\u001b[0m\u001b[0mitem\u001b[0m\u001b[0;34m)\u001b[0m\u001b[0;34m:\u001b[0m\u001b[0;34m\u001b[0m\u001b[0m\n\u001b[0;32m-> 3843\u001b[0;31m                 \u001b[0mloc\u001b[0m \u001b[0;34m=\u001b[0m \u001b[0mself\u001b[0m\u001b[0;34m.\u001b[0m\u001b[0mitems\u001b[0m\u001b[0;34m.\u001b[0m\u001b[0mget_loc\u001b[0m\u001b[0;34m(\u001b[0m\u001b[0mitem\u001b[0m\u001b[0;34m)\u001b[0m\u001b[0;34m\u001b[0m\u001b[0m\n\u001b[0m\u001b[1;32m   3844\u001b[0m             \u001b[0;32melse\u001b[0m\u001b[0;34m:\u001b[0m\u001b[0;34m\u001b[0m\u001b[0m\n\u001b[1;32m   3845\u001b[0m                 \u001b[0mindexer\u001b[0m \u001b[0;34m=\u001b[0m \u001b[0mnp\u001b[0m\u001b[0;34m.\u001b[0m\u001b[0marange\u001b[0m\u001b[0;34m(\u001b[0m\u001b[0mlen\u001b[0m\u001b[0;34m(\u001b[0m\u001b[0mself\u001b[0m\u001b[0;34m.\u001b[0m\u001b[0mitems\u001b[0m\u001b[0;34m)\u001b[0m\u001b[0;34m)\u001b[0m\u001b[0;34m[\u001b[0m\u001b[0misna\u001b[0m\u001b[0;34m(\u001b[0m\u001b[0mself\u001b[0m\u001b[0;34m.\u001b[0m\u001b[0mitems\u001b[0m\u001b[0;34m)\u001b[0m\u001b[0;34m]\u001b[0m\u001b[0;34m\u001b[0m\u001b[0m\n",
      "\u001b[0;32m/anaconda3/lib/python3.6/site-packages/pandas/core/indexes/base.py\u001b[0m in \u001b[0;36mget_loc\u001b[0;34m(self, key, method, tolerance)\u001b[0m\n\u001b[1;32m   2525\u001b[0m                 \u001b[0;32mreturn\u001b[0m \u001b[0mself\u001b[0m\u001b[0;34m.\u001b[0m\u001b[0m_engine\u001b[0m\u001b[0;34m.\u001b[0m\u001b[0mget_loc\u001b[0m\u001b[0;34m(\u001b[0m\u001b[0mkey\u001b[0m\u001b[0;34m)\u001b[0m\u001b[0;34m\u001b[0m\u001b[0m\n\u001b[1;32m   2526\u001b[0m             \u001b[0;32mexcept\u001b[0m \u001b[0mKeyError\u001b[0m\u001b[0;34m:\u001b[0m\u001b[0;34m\u001b[0m\u001b[0m\n\u001b[0;32m-> 2527\u001b[0;31m                 \u001b[0;32mreturn\u001b[0m \u001b[0mself\u001b[0m\u001b[0;34m.\u001b[0m\u001b[0m_engine\u001b[0m\u001b[0;34m.\u001b[0m\u001b[0mget_loc\u001b[0m\u001b[0;34m(\u001b[0m\u001b[0mself\u001b[0m\u001b[0;34m.\u001b[0m\u001b[0m_maybe_cast_indexer\u001b[0m\u001b[0;34m(\u001b[0m\u001b[0mkey\u001b[0m\u001b[0;34m)\u001b[0m\u001b[0;34m)\u001b[0m\u001b[0;34m\u001b[0m\u001b[0m\n\u001b[0m\u001b[1;32m   2528\u001b[0m \u001b[0;34m\u001b[0m\u001b[0m\n\u001b[1;32m   2529\u001b[0m         \u001b[0mindexer\u001b[0m \u001b[0;34m=\u001b[0m \u001b[0mself\u001b[0m\u001b[0;34m.\u001b[0m\u001b[0mget_indexer\u001b[0m\u001b[0;34m(\u001b[0m\u001b[0;34m[\u001b[0m\u001b[0mkey\u001b[0m\u001b[0;34m]\u001b[0m\u001b[0;34m,\u001b[0m \u001b[0mmethod\u001b[0m\u001b[0;34m=\u001b[0m\u001b[0mmethod\u001b[0m\u001b[0;34m,\u001b[0m \u001b[0mtolerance\u001b[0m\u001b[0;34m=\u001b[0m\u001b[0mtolerance\u001b[0m\u001b[0;34m)\u001b[0m\u001b[0;34m\u001b[0m\u001b[0m\n",
      "\u001b[0;32mpandas/_libs/index.pyx\u001b[0m in \u001b[0;36mpandas._libs.index.IndexEngine.get_loc\u001b[0;34m()\u001b[0m\n",
      "\u001b[0;32mpandas/_libs/index.pyx\u001b[0m in \u001b[0;36mpandas._libs.index.IndexEngine.get_loc\u001b[0;34m()\u001b[0m\n",
      "\u001b[0;32mpandas/_libs/hashtable_class_helper.pxi\u001b[0m in \u001b[0;36mpandas._libs.hashtable.PyObjectHashTable.get_item\u001b[0;34m()\u001b[0m\n",
      "\u001b[0;32mpandas/_libs/hashtable_class_helper.pxi\u001b[0m in \u001b[0;36mpandas._libs.hashtable.PyObjectHashTable.get_item\u001b[0;34m()\u001b[0m\n",
      "\u001b[0;31mKeyError\u001b[0m: 'CSBA'"
     ]
    }
   ],
   "source": [
    "#Filtering out unneed data\n",
    "aq2 = aq2[aq2['CBSA']=='San Francisco-Oakland-Hayward, CA']\n",
    "aq2 = aq2[aq2['CSBA'].isin(['Oakland, CA','Richmond, CA','San Pablo,CA','San Francisco, CA','San Rafael, CA'])]\n",
    "aq2.drop(['CBSA', 'CBSA Code', 'Date', 'AQI', 'Category', 'Defining Parameter',\n",
    "       'Defining Site', 'Number of Sites Reporting'], axis=1, inplace=True)\n",
    "#filtering to relevant cities\n",
    "aq2.reset_index(drop=True,inplace=True)\n",
    "aq2.head()"
   ]
  },
  {
   "cell_type": "code",
   "execution_count": null,
   "metadata": {
    "ExecuteTime": {
     "end_time": "2018-06-07T21:34:08.177978Z",
     "start_time": "2018-06-07T21:33:22.853Z"
    }
   },
   "outputs": [],
   "source": [
    "codf.columns=['Latitude', 'Longitude', 'Param Name', 'Date Local',\n",
    "       'CO Mean', 'CO Max Value', 'CO Max Hour']\n",
    "ozdf.columns=['Latitude', 'Longitude', 'Param Name2', 'Date Local',\n",
    "       'Oz Mean', 'Oz Max Value', 'Oz Max Hour']\n",
    "sodf.columns=['Latitude', 'Longitude', 'Param Name3', 'Date Local',\n",
    "       'SO Mean', 'SO Max Value', 'SO Max Hour']\n",
    "aq2.columns=['Latitude', 'Longitude', 'Response', 'Date Local',\n",
    "       'AQ Mean', 'AQ Max Value', 'AQ Max Hour']\n"
   ]
  },
  {
   "cell_type": "code",
   "execution_count": null,
   "metadata": {
    "ExecuteTime": {
     "end_time": "2018-06-07T21:34:08.179096Z",
     "start_time": "2018-06-07T21:33:27.461Z"
    }
   },
   "outputs": [],
   "source": [
    "aq = pd.merge(codf,ozdf, on=['Latitude', 'Longitude', 'Date Local'])\n",
    "aq = pd.merge(aq,sodf, on=['Latitude', 'Longitude', 'Date Local'])\n",
    "aq = pd.merge(aq,aq2, on=['Latitude', 'Longitude', 'Date Local'])"
   ]
  },
  {
   "cell_type": "code",
   "execution_count": null,
   "metadata": {
    "ExecuteTime": {
     "end_time": "2018-06-07T21:34:08.179948Z",
     "start_time": "2018-06-07T21:33:30.584Z"
    }
   },
   "outputs": [],
   "source": [
    "aq.head()"
   ]
  },
  {
   "cell_type": "code",
   "execution_count": 22,
   "metadata": {
    "ExecuteTime": {
     "end_time": "2018-06-07T01:22:07.831478Z",
     "start_time": "2018-06-07T01:22:07.816824Z"
    }
   },
   "outputs": [],
   "source": [
    "def h5ToDF(file):\n",
    "    f = h5py.File(file, 'r')\n",
    "    date = [pd.to_datetime(str(x).replace('b\\'','').replace('\\'','')) for x in list(f['RetrievalHeader']['retrieval_time_string'])]\n",
    "    latlong = [(x,y) for x,y in zip(f['RetrievalGeometry']['retrieval_latitude_geoid'],f['RetrievalGeometry']['retrieval_longitude_geoid'])]\n",
    "    co2ppm = list(f['RetrievalResults']['xco2'])\n",
    "    co2_uncert = [x*10**6 for x in list(f['RetrievalResults']['xco2_uncert'])]\n",
    "    df = pd.DataFrame({'date':date,\n",
    "        'latlong': latlong,\n",
    "        'co2ppm': co2ppm,\n",
    "        'co2_uncert': co2_uncert\n",
    "    })\n",
    "    return df\n",
    "                                                                                    \n",
    "                                                                                    \n",
    "                                                                                    "
   ]
  },
  {
   "cell_type": "code",
   "execution_count": 23,
   "metadata": {
    "ExecuteTime": {
     "end_time": "2018-06-07T01:30:23.674676Z",
     "start_time": "2018-06-07T01:22:08.423032Z"
    }
   },
   "outputs": [],
   "source": [
    "df = f = h5py.File(results[0], 'r')\n",
    "date = [pd.to_datetime(str(x).replace('b\\'','').replace('\\'','')) for x in list(f['RetrievalHeader']['retrieval_time_string'])]\n",
    "latlong = [(x,y) for x,y in zip(f['RetrievalGeometry']['retrieval_latitude_geoid'],f['RetrievalGeometry']['retrieval_longitude_geoid'])]\n",
    "co2ppm = list(f['RetrievalResults']['xco2'])\n",
    "co2_uncert = [x*10**6 for x in list(f['RetrievalResults']['xco2_uncert'])]\n",
    "df = pd.DataFrame({'date':date,\n",
    "                'latlong': latlong,\n",
    "                'co2ppm': co2ppm,\n",
    "                'co2_uncert': co2_uncert})\n",
    "for i in range(1,len(results)):\n",
    "    df.append(h5ToDF(results[i]))"
   ]
  },
  {
   "cell_type": "code",
   "execution_count": 24,
   "metadata": {
    "ExecuteTime": {
     "end_time": "2018-06-07T01:30:48.590624Z",
     "start_time": "2018-06-07T01:30:48.583846Z"
    }
   },
   "outputs": [],
   "source": [
    "df['co2ppm'] = [x*10**6 for x in df['co2ppm']]"
   ]
  },
  {
   "cell_type": "code",
   "execution_count": 28,
   "metadata": {
    "ExecuteTime": {
     "end_time": "2018-06-07T01:31:55.765803Z",
     "start_time": "2018-06-07T01:31:55.757549Z"
    }
   },
   "outputs": [],
   "source": [
    "df['co2_uncert'] = [float(x) for x in df['co2_uncert']]"
   ]
  },
  {
   "cell_type": "code",
   "execution_count": 29,
   "metadata": {
    "ExecuteTime": {
     "end_time": "2018-06-07T01:31:57.632245Z",
     "start_time": "2018-06-07T01:31:57.620571Z"
    }
   },
   "outputs": [
    {
     "data": {
      "text/html": [
       "<div>\n",
       "<style scoped>\n",
       "    .dataframe tbody tr th:only-of-type {\n",
       "        vertical-align: middle;\n",
       "    }\n",
       "\n",
       "    .dataframe tbody tr th {\n",
       "        vertical-align: top;\n",
       "    }\n",
       "\n",
       "    .dataframe thead th {\n",
       "        text-align: right;\n",
       "    }\n",
       "</style>\n",
       "<table border=\"1\" class=\"dataframe\">\n",
       "  <thead>\n",
       "    <tr style=\"text-align: right;\">\n",
       "      <th></th>\n",
       "      <th>co2_uncert</th>\n",
       "      <th>co2ppm</th>\n",
       "      <th>date</th>\n",
       "      <th>latlong</th>\n",
       "    </tr>\n",
       "  </thead>\n",
       "  <tbody>\n",
       "    <tr>\n",
       "      <th>0</th>\n",
       "      <td>0.886318</td>\n",
       "      <td>402.186939</td>\n",
       "      <td>2016-11-13 20:26:38.363</td>\n",
       "      <td>(-83.56647, 38.90449)</td>\n",
       "    </tr>\n",
       "    <tr>\n",
       "      <th>1</th>\n",
       "      <td>0.786782</td>\n",
       "      <td>398.468226</td>\n",
       "      <td>2016-11-13 20:26:38.390</td>\n",
       "      <td>(-83.59027, 39.013676)</td>\n",
       "    </tr>\n",
       "    <tr>\n",
       "      <th>2</th>\n",
       "      <td>0.780767</td>\n",
       "      <td>396.430114</td>\n",
       "      <td>2016-11-13 20:26:38.417</td>\n",
       "      <td>(-83.61452, 39.12222)</td>\n",
       "    </tr>\n",
       "    <tr>\n",
       "      <th>3</th>\n",
       "      <td>0.777430</td>\n",
       "      <td>398.074626</td>\n",
       "      <td>2016-11-13 20:26:38.562</td>\n",
       "      <td>(-83.46712, 38.238407)</td>\n",
       "    </tr>\n",
       "    <tr>\n",
       "      <th>4</th>\n",
       "      <td>0.799400</td>\n",
       "      <td>399.525161</td>\n",
       "      <td>2016-11-13 20:26:38.616</td>\n",
       "      <td>(-83.51127, 38.46135)</td>\n",
       "    </tr>\n",
       "  </tbody>\n",
       "</table>\n",
       "</div>"
      ],
      "text/plain": [
       "   co2_uncert      co2ppm                    date                 latlong\n",
       "0    0.886318  402.186939 2016-11-13 20:26:38.363   (-83.56647, 38.90449)\n",
       "1    0.786782  398.468226 2016-11-13 20:26:38.390  (-83.59027, 39.013676)\n",
       "2    0.780767  396.430114 2016-11-13 20:26:38.417   (-83.61452, 39.12222)\n",
       "3    0.777430  398.074626 2016-11-13 20:26:38.562  (-83.46712, 38.238407)\n",
       "4    0.799400  399.525161 2016-11-13 20:26:38.616   (-83.51127, 38.46135)"
      ]
     },
     "execution_count": 29,
     "metadata": {},
     "output_type": "execute_result"
    }
   ],
   "source": [
    "df.head()"
   ]
  },
  {
   "cell_type": "code",
   "execution_count": 30,
   "metadata": {
    "ExecuteTime": {
     "end_time": "2018-06-07T01:32:00.542314Z",
     "start_time": "2018-06-07T01:32:00.416882Z"
    }
   },
   "outputs": [],
   "source": [
    "#Writing a pickle file to save data\n",
    "import pickle\n",
    "with open('my_data.pkl', 'wb') as picklefile:\n",
    "    pickle.dump(df, picklefile)"
   ]
  },
  {
   "cell_type": "code",
   "execution_count": null,
   "metadata": {
    "ExecuteTime": {
     "end_time": "2018-06-06T21:05:26.517792Z",
     "start_time": "2018-06-06T20:57:32.392Z"
    }
   },
   "outputs": [],
   "source": [
    "#list(f['RetrievalGeometry']['retrieval_latitude_geoid'])"
   ]
  },
  {
   "cell_type": "markdown",
   "metadata": {},
   "source": [
    "## Web Scraping\n",
    "\n",
    "Pulling data from loopnet.com for areas where we can greenify citys (make them more environmentally friendly). "
   ]
  },
  {
   "cell_type": "code",
   "execution_count": 97,
   "metadata": {
    "ExecuteTime": {
     "end_time": "2018-06-06T21:08:33.939612Z",
     "start_time": "2018-06-06T21:08:33.936581Z"
    }
   },
   "outputs": [],
   "source": [
    "#initializing sites that I will pull from\n",
    "flexspace = 'http://www.loopnet.com/california/san-francisco_flex-space-for-sale/'\n",
    "land = 'http://www.loopnet.com/california/san-francisco_land-for-sale/'\n",
    "apts = 'http://www.loopnet.com/california/san-francisco_apartment-buildings-for-sale/'"
   ]
  },
  {
   "cell_type": "code",
   "execution_count": 98,
   "metadata": {
    "ExecuteTime": {
     "end_time": "2018-06-06T21:08:35.908180Z",
     "start_time": "2018-06-06T21:08:34.431577Z"
    }
   },
   "outputs": [],
   "source": [
    "response = rq.get(land)\n",
    "page = response.text\n",
    "reviewp = soup(page,\"lxml\")\n"
   ]
  },
  {
   "cell_type": "code",
   "execution_count": 99,
   "metadata": {
    "ExecuteTime": {
     "end_time": "2018-06-06T21:08:35.926690Z",
     "start_time": "2018-06-06T21:08:35.910250Z"
    }
   },
   "outputs": [
    {
     "data": {
      "text/plain": [
       "[<span class=\"listingTitle\">0.05 Acre Site for Proposed Apartments</span>,\n",
       " <span class=\"listingTitle\">1228 Folsom Street</span>,\n",
       " <span class=\"listingTitle\">1876 Oakdale Ave</span>,\n",
       " <span class=\"listingTitle\">1791 Mission Street</span>,\n",
       " <span class=\"listingTitle\">240 7th St</span>,\n",
       " <span class=\"listingTitle\">1924 Mission St</span>,\n",
       " <span class=\"listingTitle\">2435-2445 16th St</span>,\n",
       " <span class=\"listingTitle\">Topaz Way</span>,\n",
       " <span class=\"listingTitle\">Portfolio of 4 Properties</span>,\n",
       " <span class=\"listingTitle\">1234 Shoreline Hwy</span>,\n",
       " <span class=\"listingTitle\">81 Ervine St</span>,\n",
       " <span class=\"listingTitle\">OCTAVIA M+N</span>,\n",
       " <span class=\"listingTitle\">250 Church St</span>,\n",
       " <span class=\"listingTitle\">Mission and 22nd</span>]"
      ]
     },
     "execution_count": 99,
     "metadata": {},
     "output_type": "execute_result"
    }
   ],
   "source": [
    "reviewp.find_all(class_='listingTitle')"
   ]
  },
  {
   "cell_type": "code",
   "execution_count": null,
   "metadata": {},
   "outputs": [],
   "source": []
  },
  {
   "cell_type": "markdown",
   "metadata": {},
   "source": [
    "## Exploring\n",
    "\n",
    "Exploring the data, kicking out points that are wrong based on the error and other stats."
   ]
  },
  {
   "cell_type": "code",
   "execution_count": 33,
   "metadata": {
    "ExecuteTime": {
     "end_time": "2018-06-07T01:33:03.587425Z",
     "start_time": "2018-06-07T01:33:03.577583Z"
    }
   },
   "outputs": [
    {
     "name": "stdout",
     "output_type": "stream",
     "text": [
      "Max: 13.534934623748995\n",
      "Min: 0.1912240037427182\n",
      "Average: 0.4512936642967768\n",
      "Median: 0.4234372852351953\n"
     ]
    }
   ],
   "source": [
    "print('Max: '+ str(max(df['co2_uncert'])))\n",
    "print('Min: ' + str(min(df['co2_uncert'])))\n",
    "print('Average: '+ str(np.average(df['co2_uncert'])))\n",
    "print('Median: '+ str(np.median(df['co2_uncert'])))"
   ]
  },
  {
   "cell_type": "code",
   "execution_count": 46,
   "metadata": {
    "ExecuteTime": {
     "end_time": "2018-06-07T01:41:38.390417Z",
     "start_time": "2018-06-07T01:41:38.386080Z"
    }
   },
   "outputs": [
    {
     "data": {
      "text/plain": [
       "1.041737527884833"
      ]
     },
     "execution_count": 46,
     "metadata": {},
     "output_type": "execute_result"
    }
   ],
   "source": [
    "np.percentile(df['co2_uncert'], 99.5)"
   ]
  },
  {
   "cell_type": "code",
   "execution_count": 51,
   "metadata": {
    "ExecuteTime": {
     "end_time": "2018-06-07T01:43:48.011962Z",
     "start_time": "2018-06-07T01:43:48.006272Z"
    }
   },
   "outputs": [],
   "source": [
    "#Removing Outliers because of large error associated with the calculation\n",
    "df= (df[df['co2_uncert']<1.04])"
   ]
  },
  {
   "cell_type": "code",
   "execution_count": null,
   "metadata": {},
   "outputs": [],
   "source": []
  }
 ],
 "metadata": {
  "kernelspec": {
   "display_name": "Python 3",
   "language": "python",
   "name": "python3"
  },
  "language_info": {
   "codemirror_mode": {
    "name": "ipython",
    "version": 3
   },
   "file_extension": ".py",
   "mimetype": "text/x-python",
   "name": "python",
   "nbconvert_exporter": "python",
   "pygments_lexer": "ipython3",
   "version": "3.6.4"
  }
 },
 "nbformat": 4,
 "nbformat_minor": 2
}
