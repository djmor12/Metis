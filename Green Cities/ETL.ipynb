{
 "cells": [
  {
   "cell_type": "code",
   "execution_count": 560,
   "metadata": {
    "ExecuteTime": {
     "end_time": "2018-06-08T00:55:13.718465Z",
     "start_time": "2018-06-08T00:55:13.387540Z"
    }
   },
   "outputs": [],
   "source": [
    "import pandas as pd\n",
    "import numpy as np\n",
    "import os\n",
    "import re\n",
    "import pickle\n",
    "from bs4 import BeautifulSoup as soup\n",
    "import requests as rq\n",
    "import time\n",
    "import h5py\n",
    "import scipy as sp\n",
    "import scipy.stats\n",
    "import datetime\n",
    "from datetime import date\n",
    "import matplotlib.pyplot as plt\n",
    "import seaborn as sn"
   ]
  },
  {
   "cell_type": "markdown",
   "metadata": {},
   "source": [
    "# EDA"
   ]
  },
  {
   "cell_type": "markdown",
   "metadata": {},
   "source": [
    "## Pulling in Data\n",
    "\n",
    "The data collected is a mix of HDF5, csv and web scraped data about the Bay area.  The CSVs are for particle concentraions, HDF5s for CO2 ppm, and the web scraped data is for empty lot/apartments for sale in the San Fransisco."
   ]
  },
  {
   "cell_type": "code",
   "execution_count": 814,
   "metadata": {
    "ExecuteTime": {
     "end_time": "2018-06-11T15:51:39.083280Z",
     "start_time": "2018-06-11T15:51:39.069516Z"
    }
   },
   "outputs": [],
   "source": [
    "#starting off by reading in the csv files\n",
    "aqcsvs = []\n",
    "aqcsvs += ['../../../../Documents/largecsvs/others/'+each for each in os.listdir('../../../../Documents/largecsvs/others/') if each.endswith('.csv')]\n",
    "\n",
    "nc = []\n",
    "nc += ['../../../../Documents/largecsvs/data/'+each for each in os.listdir('../../../../Documents/largecsvs/data/') if each.endswith('.nc')]\n",
    "\n",
    "part = []\n",
    "part += ['../../../../Documents/largecsvs/particle/'+each for each in os.listdir('../../../../Documents/largecsvs/particle/') if each.endswith('csv')]\n",
    "#getting all H5 files for the project\n",
    "results = []\n",
    "results += ['../../../../Downloads/'+each for each in os.listdir('../../../../Downloads/') if each.endswith('.h5')]"
   ]
  },
  {
   "cell_type": "code",
   "execution_count": 933,
   "metadata": {
    "ExecuteTime": {
     "end_time": "2018-06-11T18:16:24.785850Z",
     "start_time": "2018-06-11T18:16:24.783137Z"
    }
   },
   "outputs": [],
   "source": [
    "# sorting CSVs so the are appended in order of oldest to most recent\n",
    "aqcsvs=sorted(aqcsvs)\n",
    "part=sorted(part)"
   ]
  },
  {
   "cell_type": "code",
   "execution_count": 325,
   "metadata": {
    "ExecuteTime": {
     "end_time": "2018-06-07T22:58:56.854005Z",
     "start_time": "2018-06-07T22:58:56.846102Z"
    }
   },
   "outputs": [],
   "source": [
    "#pulling in weather data from  \n",
    "weatherdf = pd.read_csv('weather/1367384.csv')"
   ]
  },
  {
   "cell_type": "code",
   "execution_count": 326,
   "metadata": {
    "ExecuteTime": {
     "end_time": "2018-06-07T22:58:57.291938Z",
     "start_time": "2018-06-07T22:58:57.286800Z"
    }
   },
   "outputs": [],
   "source": [
    "#dropping unnecessary columns and filling NaNs\n",
    "weatherdf.drop(['STATION', 'NAME','ELEVATION', 'SNWD', 'TOBS'], axis=1, inplace=True)\n",
    "weatherdf = weatherdf.fillna(0)"
   ]
  },
  {
   "cell_type": "code",
   "execution_count": 327,
   "metadata": {
    "ExecuteTime": {
     "end_time": "2018-06-07T22:58:57.683958Z",
     "start_time": "2018-06-07T22:58:57.670945Z"
    }
   },
   "outputs": [
    {
     "data": {
      "text/html": [
       "<div>\n",
       "<style scoped>\n",
       "    .dataframe tbody tr th:only-of-type {\n",
       "        vertical-align: middle;\n",
       "    }\n",
       "\n",
       "    .dataframe tbody tr th {\n",
       "        vertical-align: top;\n",
       "    }\n",
       "\n",
       "    .dataframe thead th {\n",
       "        text-align: right;\n",
       "    }\n",
       "</style>\n",
       "<table border=\"1\" class=\"dataframe\">\n",
       "  <thead>\n",
       "    <tr style=\"text-align: right;\">\n",
       "      <th></th>\n",
       "      <th>LATITUDE</th>\n",
       "      <th>LONGITUDE</th>\n",
       "      <th>DATE</th>\n",
       "      <th>PRCP</th>\n",
       "      <th>SNOW</th>\n",
       "      <th>TAVG</th>\n",
       "      <th>TMAX</th>\n",
       "      <th>TMIN</th>\n",
       "    </tr>\n",
       "  </thead>\n",
       "  <tbody>\n",
       "    <tr>\n",
       "      <th>0</th>\n",
       "      <td>37.7705</td>\n",
       "      <td>-122.4269</td>\n",
       "      <td>2014-01-01</td>\n",
       "      <td>0.0</td>\n",
       "      <td>0.0</td>\n",
       "      <td>0.0</td>\n",
       "      <td>63.0</td>\n",
       "      <td>44.0</td>\n",
       "    </tr>\n",
       "    <tr>\n",
       "      <th>1</th>\n",
       "      <td>37.7705</td>\n",
       "      <td>-122.4269</td>\n",
       "      <td>2014-01-02</td>\n",
       "      <td>0.0</td>\n",
       "      <td>0.0</td>\n",
       "      <td>0.0</td>\n",
       "      <td>63.0</td>\n",
       "      <td>48.0</td>\n",
       "    </tr>\n",
       "    <tr>\n",
       "      <th>2</th>\n",
       "      <td>37.7705</td>\n",
       "      <td>-122.4269</td>\n",
       "      <td>2014-01-03</td>\n",
       "      <td>0.0</td>\n",
       "      <td>0.0</td>\n",
       "      <td>0.0</td>\n",
       "      <td>64.0</td>\n",
       "      <td>49.0</td>\n",
       "    </tr>\n",
       "    <tr>\n",
       "      <th>3</th>\n",
       "      <td>37.7705</td>\n",
       "      <td>-122.4269</td>\n",
       "      <td>2014-01-04</td>\n",
       "      <td>0.0</td>\n",
       "      <td>0.0</td>\n",
       "      <td>0.0</td>\n",
       "      <td>66.0</td>\n",
       "      <td>46.0</td>\n",
       "    </tr>\n",
       "    <tr>\n",
       "      <th>4</th>\n",
       "      <td>37.7705</td>\n",
       "      <td>-122.4269</td>\n",
       "      <td>2014-01-05</td>\n",
       "      <td>0.0</td>\n",
       "      <td>0.0</td>\n",
       "      <td>0.0</td>\n",
       "      <td>66.0</td>\n",
       "      <td>48.0</td>\n",
       "    </tr>\n",
       "  </tbody>\n",
       "</table>\n",
       "</div>"
      ],
      "text/plain": [
       "   LATITUDE  LONGITUDE        DATE  PRCP  SNOW  TAVG  TMAX  TMIN\n",
       "0   37.7705  -122.4269  2014-01-01   0.0   0.0   0.0  63.0  44.0\n",
       "1   37.7705  -122.4269  2014-01-02   0.0   0.0   0.0  63.0  48.0\n",
       "2   37.7705  -122.4269  2014-01-03   0.0   0.0   0.0  64.0  49.0\n",
       "3   37.7705  -122.4269  2014-01-04   0.0   0.0   0.0  66.0  46.0\n",
       "4   37.7705  -122.4269  2014-01-05   0.0   0.0   0.0  66.0  48.0"
      ]
     },
     "execution_count": 327,
     "metadata": {},
     "output_type": "execute_result"
    }
   ],
   "source": [
    "weatherdf.head()"
   ]
  },
  {
   "cell_type": "code",
   "execution_count": 821,
   "metadata": {
    "ExecuteTime": {
     "end_time": "2018-06-11T15:53:30.778499Z",
     "start_time": "2018-06-11T15:53:30.774758Z"
    }
   },
   "outputs": [
    {
     "data": {
      "text/plain": [
       "'../../../../Documents/largecsvs/data/co2_wgc_surface-pfp_1_allvalid.nc'"
      ]
     },
     "execution_count": 821,
     "metadata": {},
     "output_type": "execute_result"
    }
   ],
   "source": [
    "nc[0]"
   ]
  },
  {
   "cell_type": "code",
   "execution_count": 862,
   "metadata": {
    "ExecuteTime": {
     "end_time": "2018-06-11T17:28:44.850308Z",
     "start_time": "2018-06-11T17:28:44.830775Z"
    }
   },
   "outputs": [],
   "source": [
    "#reading in .nc files from the file paths seen above\n",
    "from netCDF4 import Dataset\n",
    "inland = Dataset(nc[0])\n",
    "sfco2 = Dataset(nc[1])"
   ]
  },
  {
   "cell_type": "code",
   "execution_count": 826,
   "metadata": {
    "ExecuteTime": {
     "end_time": "2018-06-11T15:53:54.104260Z",
     "start_time": "2018-06-11T15:53:54.100135Z"
    }
   },
   "outputs": [
    {
     "data": {
      "text/plain": [
       "odict_keys(['obs', 'calendar_components', 'string_of_100chars'])"
      ]
     },
     "execution_count": 826,
     "metadata": {},
     "output_type": "execute_result"
    }
   ],
   "source": [
    "inland.dimensions.keys()"
   ]
  },
  {
   "cell_type": "code",
   "execution_count": 827,
   "metadata": {
    "ExecuteTime": {
     "end_time": "2018-06-11T15:53:54.606378Z",
     "start_time": "2018-06-11T15:53:54.602482Z"
    },
    "scrolled": true
   },
   "outputs": [
    {
     "data": {
      "text/plain": [
       "odict_keys(['time', 'time_decimal', 'time_components', 'solartime_components', 'value', 'latitude', 'longitude', 'altitude', 'obs_flag', 'obspack_id', 'model_enkf_flag', 'model_hqhr', 'model_r', 'model_bg', 'model_ff', 'model_ocean', 'model_bio', 'model_fires', 'assimilated', 'u', 'v', 'blh', 'q', 'temperature', 'pressure'])"
      ]
     },
     "execution_count": 827,
     "metadata": {},
     "output_type": "execute_result"
    }
   ],
   "source": [
    "inland.variables.keys()"
   ]
  },
  {
   "cell_type": "code",
   "execution_count": 846,
   "metadata": {
    "ExecuteTime": {
     "end_time": "2018-06-11T16:35:07.034444Z",
     "start_time": "2018-06-11T16:35:07.031970Z"
    }
   },
   "outputs": [],
   "source": [
    "var = inland.variables['time'].units"
   ]
  },
  {
   "cell_type": "code",
   "execution_count": 927,
   "metadata": {
    "ExecuteTime": {
     "end_time": "2018-06-11T18:10:45.767942Z",
     "start_time": "2018-06-11T18:10:45.756734Z"
    }
   },
   "outputs": [],
   "source": [
    "#function to pull all the CO2 data from the nc files\n",
    "def CO2df(nc):\n",
    "    CO2time = []\n",
    "    for y in np.array(nc.variables['time_components']):\n",
    "        q= [str(x) for x in y]\n",
    "        dt = pd.to_datetime(q[0]+'/'+q[1]+'/'+q[2])\n",
    "        CO2time.append(dt)   \n",
    "    latlong = [(x,y) for x,y in zip(np.array(nc.variables['latitude']),np.array(nc.variables['longitude']))]\n",
    "    values = [x*10**6 for x in np.array(nc.variables['value'])]\n",
    "    carbondf = pd.DataFrame({'Date':CO2time,\n",
    "                             'latlong':latlong,\n",
    "                             'CO2 ppm':values})\n",
    "    return carbondf"
   ]
  },
  {
   "cell_type": "code",
   "execution_count": 928,
   "metadata": {
    "ExecuteTime": {
     "end_time": "2018-06-11T18:10:46.621015Z",
     "start_time": "2018-06-11T18:10:46.143644Z"
    }
   },
   "outputs": [],
   "source": [
    "#carbondf is the CO2 from inland california near sacramento, sfcdf is CO@ in San Fransisco \n",
    "carbondf = CO2df(inland)\n",
    "sfcdf = CO2df(sfco2) \n"
   ]
  },
  {
   "cell_type": "code",
   "execution_count": 929,
   "metadata": {
    "ExecuteTime": {
     "end_time": "2018-06-11T18:10:46.724706Z",
     "start_time": "2018-06-11T18:10:46.693734Z"
    }
   },
   "outputs": [
    {
     "data": {
      "text/html": [
       "<div>\n",
       "<style scoped>\n",
       "    .dataframe tbody tr th:only-of-type {\n",
       "        vertical-align: middle;\n",
       "    }\n",
       "\n",
       "    .dataframe tbody tr th {\n",
       "        vertical-align: top;\n",
       "    }\n",
       "\n",
       "    .dataframe thead th {\n",
       "        text-align: right;\n",
       "    }\n",
       "</style>\n",
       "<table border=\"1\" class=\"dataframe\">\n",
       "  <thead>\n",
       "    <tr style=\"text-align: right;\">\n",
       "      <th></th>\n",
       "      <th>CO2 ppm</th>\n",
       "      <th>Date</th>\n",
       "      <th>latlong</th>\n",
       "    </tr>\n",
       "  </thead>\n",
       "  <tbody>\n",
       "    <tr>\n",
       "      <th>0</th>\n",
       "      <td>390.550005</td>\n",
       "      <td>2007-09-21</td>\n",
       "      <td>(38.26, -121.48)</td>\n",
       "    </tr>\n",
       "    <tr>\n",
       "      <th>1</th>\n",
       "      <td>393.650000</td>\n",
       "      <td>2007-09-22</td>\n",
       "      <td>(38.26, -121.49)</td>\n",
       "    </tr>\n",
       "    <tr>\n",
       "      <th>2</th>\n",
       "      <td>387.870008</td>\n",
       "      <td>2007-09-22</td>\n",
       "      <td>(38.26, -121.48)</td>\n",
       "    </tr>\n",
       "    <tr>\n",
       "      <th>3</th>\n",
       "      <td>379.339996</td>\n",
       "      <td>2007-09-23</td>\n",
       "      <td>(38.26, -121.49)</td>\n",
       "    </tr>\n",
       "    <tr>\n",
       "      <th>4</th>\n",
       "      <td>383.779989</td>\n",
       "      <td>2007-09-24</td>\n",
       "      <td>(38.26, -121.48)</td>\n",
       "    </tr>\n",
       "    <tr>\n",
       "      <th>5</th>\n",
       "      <td>384.710002</td>\n",
       "      <td>2007-09-24</td>\n",
       "      <td>(38.26, -121.49)</td>\n",
       "    </tr>\n",
       "    <tr>\n",
       "      <th>6</th>\n",
       "      <td>388.179993</td>\n",
       "      <td>2007-09-25</td>\n",
       "      <td>(38.26, -121.48)</td>\n",
       "    </tr>\n",
       "    <tr>\n",
       "      <th>7</th>\n",
       "      <td>385.040010</td>\n",
       "      <td>2007-09-26</td>\n",
       "      <td>(38.26, -121.48)</td>\n",
       "    </tr>\n",
       "    <tr>\n",
       "      <th>8</th>\n",
       "      <td>387.550012</td>\n",
       "      <td>2007-09-27</td>\n",
       "      <td>(38.26, -121.48)</td>\n",
       "    </tr>\n",
       "    <tr>\n",
       "      <th>9</th>\n",
       "      <td>381.660007</td>\n",
       "      <td>2007-09-28</td>\n",
       "      <td>(38.26, -121.49)</td>\n",
       "    </tr>\n",
       "    <tr>\n",
       "      <th>10</th>\n",
       "      <td>383.239996</td>\n",
       "      <td>2007-09-30</td>\n",
       "      <td>(38.26, -121.49)</td>\n",
       "    </tr>\n",
       "    <tr>\n",
       "      <th>11</th>\n",
       "      <td>383.259990</td>\n",
       "      <td>2007-10-01</td>\n",
       "      <td>(38.26, -121.48)</td>\n",
       "    </tr>\n",
       "    <tr>\n",
       "      <th>12</th>\n",
       "      <td>381.399994</td>\n",
       "      <td>2007-10-02</td>\n",
       "      <td>(38.26, -121.48)</td>\n",
       "    </tr>\n",
       "    <tr>\n",
       "      <th>13</th>\n",
       "      <td>382.019993</td>\n",
       "      <td>2007-10-02</td>\n",
       "      <td>(38.26, -121.48)</td>\n",
       "    </tr>\n",
       "    <tr>\n",
       "      <th>14</th>\n",
       "      <td>384.279992</td>\n",
       "      <td>2007-10-03</td>\n",
       "      <td>(38.26, -121.48)</td>\n",
       "    </tr>\n",
       "    <tr>\n",
       "      <th>15</th>\n",
       "      <td>380.399986</td>\n",
       "      <td>2007-10-04</td>\n",
       "      <td>(38.26, -121.48)</td>\n",
       "    </tr>\n",
       "    <tr>\n",
       "      <th>16</th>\n",
       "      <td>381.769991</td>\n",
       "      <td>2007-10-05</td>\n",
       "      <td>(38.26, -121.48)</td>\n",
       "    </tr>\n",
       "    <tr>\n",
       "      <th>17</th>\n",
       "      <td>382.210012</td>\n",
       "      <td>2007-10-05</td>\n",
       "      <td>(38.26, -121.48)</td>\n",
       "    </tr>\n",
       "    <tr>\n",
       "      <th>18</th>\n",
       "      <td>381.349993</td>\n",
       "      <td>2007-10-06</td>\n",
       "      <td>(38.26, -121.48)</td>\n",
       "    </tr>\n",
       "    <tr>\n",
       "      <th>19</th>\n",
       "      <td>387.800013</td>\n",
       "      <td>2007-10-08</td>\n",
       "      <td>(38.26, -121.49)</td>\n",
       "    </tr>\n",
       "    <tr>\n",
       "      <th>20</th>\n",
       "      <td>387.750013</td>\n",
       "      <td>2007-10-08</td>\n",
       "      <td>(38.26, -121.49)</td>\n",
       "    </tr>\n",
       "    <tr>\n",
       "      <th>21</th>\n",
       "      <td>384.599989</td>\n",
       "      <td>2007-10-09</td>\n",
       "      <td>(38.26, -121.49)</td>\n",
       "    </tr>\n",
       "    <tr>\n",
       "      <th>22</th>\n",
       "      <td>384.649989</td>\n",
       "      <td>2007-10-09</td>\n",
       "      <td>(38.26, -121.49)</td>\n",
       "    </tr>\n",
       "    <tr>\n",
       "      <th>23</th>\n",
       "      <td>386.069994</td>\n",
       "      <td>2007-10-10</td>\n",
       "      <td>(38.26, -121.49)</td>\n",
       "    </tr>\n",
       "    <tr>\n",
       "      <th>24</th>\n",
       "      <td>385.919993</td>\n",
       "      <td>2007-10-10</td>\n",
       "      <td>(38.26, -121.49)</td>\n",
       "    </tr>\n",
       "    <tr>\n",
       "      <th>25</th>\n",
       "      <td>390.419998</td>\n",
       "      <td>2007-10-11</td>\n",
       "      <td>(38.26, -121.49)</td>\n",
       "    </tr>\n",
       "    <tr>\n",
       "      <th>26</th>\n",
       "      <td>389.780005</td>\n",
       "      <td>2007-10-11</td>\n",
       "      <td>(38.26, -121.49)</td>\n",
       "    </tr>\n",
       "    <tr>\n",
       "      <th>27</th>\n",
       "      <td>395.960000</td>\n",
       "      <td>2007-10-12</td>\n",
       "      <td>(38.26, -121.49)</td>\n",
       "    </tr>\n",
       "    <tr>\n",
       "      <th>28</th>\n",
       "      <td>389.469991</td>\n",
       "      <td>2007-10-13</td>\n",
       "      <td>(38.26, -121.49)</td>\n",
       "    </tr>\n",
       "    <tr>\n",
       "      <th>29</th>\n",
       "      <td>408.589985</td>\n",
       "      <td>2007-10-14</td>\n",
       "      <td>(38.26, -121.49)</td>\n",
       "    </tr>\n",
       "    <tr>\n",
       "      <th>...</th>\n",
       "      <td>...</td>\n",
       "      <td>...</td>\n",
       "      <td>...</td>\n",
       "    </tr>\n",
       "    <tr>\n",
       "      <th>2560</th>\n",
       "      <td>429.590000</td>\n",
       "      <td>2016-11-22</td>\n",
       "      <td>(38.265, -121.4911)</td>\n",
       "    </tr>\n",
       "    <tr>\n",
       "      <th>2561</th>\n",
       "      <td>420.760014</td>\n",
       "      <td>2016-11-24</td>\n",
       "      <td>(38.265, -121.4911)</td>\n",
       "    </tr>\n",
       "    <tr>\n",
       "      <th>2562</th>\n",
       "      <td>416.610012</td>\n",
       "      <td>2016-11-26</td>\n",
       "      <td>(38.265, -121.4911)</td>\n",
       "    </tr>\n",
       "    <tr>\n",
       "      <th>2563</th>\n",
       "      <td>412.399997</td>\n",
       "      <td>2016-11-28</td>\n",
       "      <td>(38.265, -121.4911)</td>\n",
       "    </tr>\n",
       "    <tr>\n",
       "      <th>2564</th>\n",
       "      <td>412.269990</td>\n",
       "      <td>2016-11-28</td>\n",
       "      <td>(38.265, -121.4911)</td>\n",
       "    </tr>\n",
       "    <tr>\n",
       "      <th>2565</th>\n",
       "      <td>429.679989</td>\n",
       "      <td>2016-11-30</td>\n",
       "      <td>(38.265, -121.4911)</td>\n",
       "    </tr>\n",
       "    <tr>\n",
       "      <th>2566</th>\n",
       "      <td>409.019995</td>\n",
       "      <td>2016-12-02</td>\n",
       "      <td>(38.265, -121.4911)</td>\n",
       "    </tr>\n",
       "    <tr>\n",
       "      <th>2567</th>\n",
       "      <td>406.990002</td>\n",
       "      <td>2016-12-06</td>\n",
       "      <td>(38.265, -121.4911)</td>\n",
       "    </tr>\n",
       "    <tr>\n",
       "      <th>2568</th>\n",
       "      <td>416.289986</td>\n",
       "      <td>2016-12-08</td>\n",
       "      <td>(38.265, -121.4911)</td>\n",
       "    </tr>\n",
       "    <tr>\n",
       "      <th>2569</th>\n",
       "      <td>420.780008</td>\n",
       "      <td>2016-12-10</td>\n",
       "      <td>(38.265, -121.4911)</td>\n",
       "    </tr>\n",
       "    <tr>\n",
       "      <th>2570</th>\n",
       "      <td>449.229992</td>\n",
       "      <td>2016-12-14</td>\n",
       "      <td>(38.265, -121.4911)</td>\n",
       "    </tr>\n",
       "    <tr>\n",
       "      <th>2571</th>\n",
       "      <td>449.359999</td>\n",
       "      <td>2016-12-14</td>\n",
       "      <td>(38.265, -121.4911)</td>\n",
       "    </tr>\n",
       "    <tr>\n",
       "      <th>2572</th>\n",
       "      <td>409.669999</td>\n",
       "      <td>2016-12-16</td>\n",
       "      <td>(38.265, -121.4911)</td>\n",
       "    </tr>\n",
       "    <tr>\n",
       "      <th>2573</th>\n",
       "      <td>413.530011</td>\n",
       "      <td>2016-12-18</td>\n",
       "      <td>(38.265, -121.4911)</td>\n",
       "    </tr>\n",
       "    <tr>\n",
       "      <th>2574</th>\n",
       "      <td>412.269990</td>\n",
       "      <td>2017-01-05</td>\n",
       "      <td>(38.265, -121.4911)</td>\n",
       "    </tr>\n",
       "    <tr>\n",
       "      <th>2575</th>\n",
       "      <td>413.089991</td>\n",
       "      <td>2017-01-07</td>\n",
       "      <td>(38.265, -121.4911)</td>\n",
       "    </tr>\n",
       "    <tr>\n",
       "      <th>2576</th>\n",
       "      <td>411.079993</td>\n",
       "      <td>2017-01-09</td>\n",
       "      <td>(38.265, -121.4911)</td>\n",
       "    </tr>\n",
       "    <tr>\n",
       "      <th>2577</th>\n",
       "      <td>408.419990</td>\n",
       "      <td>2017-01-11</td>\n",
       "      <td>(38.265, -121.4911)</td>\n",
       "    </tr>\n",
       "    <tr>\n",
       "      <th>2578</th>\n",
       "      <td>408.440013</td>\n",
       "      <td>2017-01-11</td>\n",
       "      <td>(38.265, -121.4911)</td>\n",
       "    </tr>\n",
       "    <tr>\n",
       "      <th>2579</th>\n",
       "      <td>411.610003</td>\n",
       "      <td>2017-01-13</td>\n",
       "      <td>(38.265, -121.4911)</td>\n",
       "    </tr>\n",
       "    <tr>\n",
       "      <th>2580</th>\n",
       "      <td>420.819997</td>\n",
       "      <td>2017-01-15</td>\n",
       "      <td>(38.265, -121.4911)</td>\n",
       "    </tr>\n",
       "    <tr>\n",
       "      <th>2581</th>\n",
       "      <td>411.779998</td>\n",
       "      <td>2017-02-02</td>\n",
       "      <td>(38.265, -121.4911)</td>\n",
       "    </tr>\n",
       "    <tr>\n",
       "      <th>2582</th>\n",
       "      <td>408.680004</td>\n",
       "      <td>2017-02-04</td>\n",
       "      <td>(38.265, -121.4911)</td>\n",
       "    </tr>\n",
       "    <tr>\n",
       "      <th>2583</th>\n",
       "      <td>408.910011</td>\n",
       "      <td>2017-02-06</td>\n",
       "      <td>(38.265, -121.4911)</td>\n",
       "    </tr>\n",
       "    <tr>\n",
       "      <th>2584</th>\n",
       "      <td>422.229990</td>\n",
       "      <td>2017-02-08</td>\n",
       "      <td>(38.265, -121.4911)</td>\n",
       "    </tr>\n",
       "    <tr>\n",
       "      <th>2585</th>\n",
       "      <td>422.259996</td>\n",
       "      <td>2017-02-08</td>\n",
       "      <td>(38.265, -121.4911)</td>\n",
       "    </tr>\n",
       "    <tr>\n",
       "      <th>2586</th>\n",
       "      <td>408.469990</td>\n",
       "      <td>2017-02-10</td>\n",
       "      <td>(38.265, -121.4911)</td>\n",
       "    </tr>\n",
       "    <tr>\n",
       "      <th>2587</th>\n",
       "      <td>422.979996</td>\n",
       "      <td>2017-02-12</td>\n",
       "      <td>(38.265, -121.4911)</td>\n",
       "    </tr>\n",
       "    <tr>\n",
       "      <th>2588</th>\n",
       "      <td>410.359993</td>\n",
       "      <td>2017-03-26</td>\n",
       "      <td>(38.265, -121.4911)</td>\n",
       "    </tr>\n",
       "    <tr>\n",
       "      <th>2589</th>\n",
       "      <td>409.639993</td>\n",
       "      <td>2017-03-28</td>\n",
       "      <td>(38.265, -121.4911)</td>\n",
       "    </tr>\n",
       "  </tbody>\n",
       "</table>\n",
       "<p>2590 rows × 3 columns</p>\n",
       "</div>"
      ],
      "text/plain": [
       "         CO2 ppm       Date              latlong\n",
       "0     390.550005 2007-09-21     (38.26, -121.48)\n",
       "1     393.650000 2007-09-22     (38.26, -121.49)\n",
       "2     387.870008 2007-09-22     (38.26, -121.48)\n",
       "3     379.339996 2007-09-23     (38.26, -121.49)\n",
       "4     383.779989 2007-09-24     (38.26, -121.48)\n",
       "5     384.710002 2007-09-24     (38.26, -121.49)\n",
       "6     388.179993 2007-09-25     (38.26, -121.48)\n",
       "7     385.040010 2007-09-26     (38.26, -121.48)\n",
       "8     387.550012 2007-09-27     (38.26, -121.48)\n",
       "9     381.660007 2007-09-28     (38.26, -121.49)\n",
       "10    383.239996 2007-09-30     (38.26, -121.49)\n",
       "11    383.259990 2007-10-01     (38.26, -121.48)\n",
       "12    381.399994 2007-10-02     (38.26, -121.48)\n",
       "13    382.019993 2007-10-02     (38.26, -121.48)\n",
       "14    384.279992 2007-10-03     (38.26, -121.48)\n",
       "15    380.399986 2007-10-04     (38.26, -121.48)\n",
       "16    381.769991 2007-10-05     (38.26, -121.48)\n",
       "17    382.210012 2007-10-05     (38.26, -121.48)\n",
       "18    381.349993 2007-10-06     (38.26, -121.48)\n",
       "19    387.800013 2007-10-08     (38.26, -121.49)\n",
       "20    387.750013 2007-10-08     (38.26, -121.49)\n",
       "21    384.599989 2007-10-09     (38.26, -121.49)\n",
       "22    384.649989 2007-10-09     (38.26, -121.49)\n",
       "23    386.069994 2007-10-10     (38.26, -121.49)\n",
       "24    385.919993 2007-10-10     (38.26, -121.49)\n",
       "25    390.419998 2007-10-11     (38.26, -121.49)\n",
       "26    389.780005 2007-10-11     (38.26, -121.49)\n",
       "27    395.960000 2007-10-12     (38.26, -121.49)\n",
       "28    389.469991 2007-10-13     (38.26, -121.49)\n",
       "29    408.589985 2007-10-14     (38.26, -121.49)\n",
       "...          ...        ...                  ...\n",
       "2560  429.590000 2016-11-22  (38.265, -121.4911)\n",
       "2561  420.760014 2016-11-24  (38.265, -121.4911)\n",
       "2562  416.610012 2016-11-26  (38.265, -121.4911)\n",
       "2563  412.399997 2016-11-28  (38.265, -121.4911)\n",
       "2564  412.269990 2016-11-28  (38.265, -121.4911)\n",
       "2565  429.679989 2016-11-30  (38.265, -121.4911)\n",
       "2566  409.019995 2016-12-02  (38.265, -121.4911)\n",
       "2567  406.990002 2016-12-06  (38.265, -121.4911)\n",
       "2568  416.289986 2016-12-08  (38.265, -121.4911)\n",
       "2569  420.780008 2016-12-10  (38.265, -121.4911)\n",
       "2570  449.229992 2016-12-14  (38.265, -121.4911)\n",
       "2571  449.359999 2016-12-14  (38.265, -121.4911)\n",
       "2572  409.669999 2016-12-16  (38.265, -121.4911)\n",
       "2573  413.530011 2016-12-18  (38.265, -121.4911)\n",
       "2574  412.269990 2017-01-05  (38.265, -121.4911)\n",
       "2575  413.089991 2017-01-07  (38.265, -121.4911)\n",
       "2576  411.079993 2017-01-09  (38.265, -121.4911)\n",
       "2577  408.419990 2017-01-11  (38.265, -121.4911)\n",
       "2578  408.440013 2017-01-11  (38.265, -121.4911)\n",
       "2579  411.610003 2017-01-13  (38.265, -121.4911)\n",
       "2580  420.819997 2017-01-15  (38.265, -121.4911)\n",
       "2581  411.779998 2017-02-02  (38.265, -121.4911)\n",
       "2582  408.680004 2017-02-04  (38.265, -121.4911)\n",
       "2583  408.910011 2017-02-06  (38.265, -121.4911)\n",
       "2584  422.229990 2017-02-08  (38.265, -121.4911)\n",
       "2585  422.259996 2017-02-08  (38.265, -121.4911)\n",
       "2586  408.469990 2017-02-10  (38.265, -121.4911)\n",
       "2587  422.979996 2017-02-12  (38.265, -121.4911)\n",
       "2588  410.359993 2017-03-26  (38.265, -121.4911)\n",
       "2589  409.639993 2017-03-28  (38.265, -121.4911)\n",
       "\n",
       "[2590 rows x 3 columns]"
      ]
     },
     "execution_count": 929,
     "metadata": {},
     "output_type": "execute_result"
    }
   ],
   "source": [
    "carbondf"
   ]
  },
  {
   "cell_type": "code",
   "execution_count": 841,
   "metadata": {
    "ExecuteTime": {
     "end_time": "2018-06-11T16:25:41.979465Z",
     "start_time": "2018-06-11T16:25:41.975352Z"
    }
   },
   "outputs": [
    {
     "data": {
      "text/plain": [
       "['units', '_FillValue', 'long_name', 'comment']"
      ]
     },
     "execution_count": 841,
     "metadata": {},
     "output_type": "execute_result"
    }
   ],
   "source": [
    "inlandf.variables['value'].ncattrs()"
   ]
  },
  {
   "cell_type": "code",
   "execution_count": 486,
   "metadata": {
    "ExecuteTime": {
     "end_time": "2018-06-08T00:09:04.966570Z",
     "start_time": "2018-06-08T00:08:53.203523Z"
    }
   },
   "outputs": [
    {
     "name": "stderr",
     "output_type": "stream",
     "text": [
      "/anaconda3/lib/python3.6/site-packages/IPython/core/interactiveshell.py:2728: DtypeWarning: Columns (27) have mixed types. Specify dtype option on import or set low_memory=False.\n",
      "  interactivity=interactivity, compiler=compiler, result=result)\n"
     ]
    }
   ],
   "source": [
    "#Reading particle data and assigning is to dataframe pdf\n",
    "pdf=pd.read_csv(part[0])\n",
    "\n",
    "for i in range(1,len(part)):\n",
    "    temp = pd.read_csv(part[i])\n",
    "    pdf = pd.concat([pdf,temp], ignore_index=True)"
   ]
  },
  {
   "cell_type": "code",
   "execution_count": 487,
   "metadata": {
    "ExecuteTime": {
     "end_time": "2018-06-08T00:09:06.129113Z",
     "start_time": "2018-06-08T00:09:04.968628Z"
    }
   },
   "outputs": [],
   "source": [
    "#Filtering out unneed data from particle DF\n",
    "pdf = pdf[pdf['State Name']=='California']\n",
    "pdf = pdf[pdf['CBSA Name']=='San Francisco-Oakland-Hayward, CA']\n",
    "pdf = pdf[pdf['City Name'].isin(['Oakland','Richmond','San Pablo','San Francisco','San Rafael'])]\n",
    "pdf.drop(['State Code', 'County Code', 'Site Num', 'Parameter Code', 'POC', 'Datum', 'Sample Duration',\n",
    "       'Pollutant Standard', 'Units of Measure', 'Event Type',\n",
    "       'Observation Count', 'Observation Percent', 'AQI', 'Method Code', 'Method Name',\n",
    "       'Local Site Name', 'Address', 'State Name','City Name',\n",
    "       'CBSA Name', 'Date of Last Change'], axis=1, inplace=True)\n",
    "\n",
    "pdf.reset_index(drop=True,inplace=True)"
   ]
  },
  {
   "cell_type": "code",
   "execution_count": 935,
   "metadata": {
    "ExecuteTime": {
     "end_time": "2018-06-11T18:20:43.434390Z",
     "start_time": "2018-06-11T18:20:43.395249Z"
    },
    "scrolled": true
   },
   "outputs": [
    {
     "data": {
      "text/html": [
       "<div>\n",
       "<style scoped>\n",
       "    .dataframe tbody tr th:only-of-type {\n",
       "        vertical-align: middle;\n",
       "    }\n",
       "\n",
       "    .dataframe tbody tr th {\n",
       "        vertical-align: top;\n",
       "    }\n",
       "\n",
       "    .dataframe thead th {\n",
       "        text-align: right;\n",
       "    }\n",
       "</style>\n",
       "<table border=\"1\" class=\"dataframe\">\n",
       "  <thead>\n",
       "    <tr style=\"text-align: right;\">\n",
       "      <th></th>\n",
       "      <th>Latitude</th>\n",
       "      <th>Longitude</th>\n",
       "      <th>Param Name4</th>\n",
       "      <th>Date Local</th>\n",
       "      <th>Part Mean</th>\n",
       "      <th>Part Max Value</th>\n",
       "      <th>Part Max Hour</th>\n",
       "      <th>County Name</th>\n",
       "    </tr>\n",
       "  </thead>\n",
       "  <tbody>\n",
       "    <tr>\n",
       "      <th>0</th>\n",
       "      <td>37.743065</td>\n",
       "      <td>-122.169935</td>\n",
       "      <td>PM2.5 - Local Conditions</td>\n",
       "      <td>2014-01-01</td>\n",
       "      <td>24.958333</td>\n",
       "      <td>38.0</td>\n",
       "      <td>13</td>\n",
       "      <td>Alameda</td>\n",
       "    </tr>\n",
       "    <tr>\n",
       "      <th>1</th>\n",
       "      <td>37.743065</td>\n",
       "      <td>-122.169935</td>\n",
       "      <td>PM2.5 - Local Conditions</td>\n",
       "      <td>2014-01-02</td>\n",
       "      <td>18.041667</td>\n",
       "      <td>34.0</td>\n",
       "      <td>14</td>\n",
       "      <td>Alameda</td>\n",
       "    </tr>\n",
       "    <tr>\n",
       "      <th>2</th>\n",
       "      <td>37.743065</td>\n",
       "      <td>-122.169935</td>\n",
       "      <td>PM2.5 - Local Conditions</td>\n",
       "      <td>2014-01-03</td>\n",
       "      <td>18.166667</td>\n",
       "      <td>38.0</td>\n",
       "      <td>12</td>\n",
       "      <td>Alameda</td>\n",
       "    </tr>\n",
       "    <tr>\n",
       "      <th>3</th>\n",
       "      <td>37.743065</td>\n",
       "      <td>-122.169935</td>\n",
       "      <td>PM2.5 - Local Conditions</td>\n",
       "      <td>2014-01-04</td>\n",
       "      <td>15.958333</td>\n",
       "      <td>31.0</td>\n",
       "      <td>0</td>\n",
       "      <td>Alameda</td>\n",
       "    </tr>\n",
       "    <tr>\n",
       "      <th>4</th>\n",
       "      <td>37.743065</td>\n",
       "      <td>-122.169935</td>\n",
       "      <td>PM2.5 - Local Conditions</td>\n",
       "      <td>2014-01-05</td>\n",
       "      <td>8.416667</td>\n",
       "      <td>18.0</td>\n",
       "      <td>14</td>\n",
       "      <td>Alameda</td>\n",
       "    </tr>\n",
       "    <tr>\n",
       "      <th>5</th>\n",
       "      <td>37.743065</td>\n",
       "      <td>-122.169935</td>\n",
       "      <td>PM2.5 - Local Conditions</td>\n",
       "      <td>2014-01-06</td>\n",
       "      <td>26.958333</td>\n",
       "      <td>42.0</td>\n",
       "      <td>20</td>\n",
       "      <td>Alameda</td>\n",
       "    </tr>\n",
       "    <tr>\n",
       "      <th>6</th>\n",
       "      <td>37.743065</td>\n",
       "      <td>-122.169935</td>\n",
       "      <td>PM2.5 - Local Conditions</td>\n",
       "      <td>2014-01-07</td>\n",
       "      <td>29.791667</td>\n",
       "      <td>49.0</td>\n",
       "      <td>11</td>\n",
       "      <td>Alameda</td>\n",
       "    </tr>\n",
       "    <tr>\n",
       "      <th>7</th>\n",
       "      <td>37.743065</td>\n",
       "      <td>-122.169935</td>\n",
       "      <td>PM2.5 - Local Conditions</td>\n",
       "      <td>2014-01-08</td>\n",
       "      <td>6.708333</td>\n",
       "      <td>17.0</td>\n",
       "      <td>0</td>\n",
       "      <td>Alameda</td>\n",
       "    </tr>\n",
       "    <tr>\n",
       "      <th>8</th>\n",
       "      <td>37.743065</td>\n",
       "      <td>-122.169935</td>\n",
       "      <td>PM2.5 - Local Conditions</td>\n",
       "      <td>2014-01-09</td>\n",
       "      <td>7.217391</td>\n",
       "      <td>12.0</td>\n",
       "      <td>15</td>\n",
       "      <td>Alameda</td>\n",
       "    </tr>\n",
       "    <tr>\n",
       "      <th>9</th>\n",
       "      <td>37.743065</td>\n",
       "      <td>-122.169935</td>\n",
       "      <td>PM2.5 - Local Conditions</td>\n",
       "      <td>2014-01-10</td>\n",
       "      <td>10.458333</td>\n",
       "      <td>19.0</td>\n",
       "      <td>13</td>\n",
       "      <td>Alameda</td>\n",
       "    </tr>\n",
       "    <tr>\n",
       "      <th>10</th>\n",
       "      <td>37.743065</td>\n",
       "      <td>-122.169935</td>\n",
       "      <td>PM2.5 - Local Conditions</td>\n",
       "      <td>2014-01-11</td>\n",
       "      <td>10.958333</td>\n",
       "      <td>29.0</td>\n",
       "      <td>19</td>\n",
       "      <td>Alameda</td>\n",
       "    </tr>\n",
       "    <tr>\n",
       "      <th>11</th>\n",
       "      <td>37.743065</td>\n",
       "      <td>-122.169935</td>\n",
       "      <td>PM2.5 - Local Conditions</td>\n",
       "      <td>2014-01-12</td>\n",
       "      <td>7.791667</td>\n",
       "      <td>16.0</td>\n",
       "      <td>0</td>\n",
       "      <td>Alameda</td>\n",
       "    </tr>\n",
       "    <tr>\n",
       "      <th>12</th>\n",
       "      <td>37.743065</td>\n",
       "      <td>-122.169935</td>\n",
       "      <td>PM2.5 - Local Conditions</td>\n",
       "      <td>2014-01-13</td>\n",
       "      <td>4.541667</td>\n",
       "      <td>10.0</td>\n",
       "      <td>23</td>\n",
       "      <td>Alameda</td>\n",
       "    </tr>\n",
       "    <tr>\n",
       "      <th>13</th>\n",
       "      <td>37.743065</td>\n",
       "      <td>-122.169935</td>\n",
       "      <td>PM2.5 - Local Conditions</td>\n",
       "      <td>2014-01-14</td>\n",
       "      <td>9.291667</td>\n",
       "      <td>18.0</td>\n",
       "      <td>21</td>\n",
       "      <td>Alameda</td>\n",
       "    </tr>\n",
       "    <tr>\n",
       "      <th>14</th>\n",
       "      <td>37.743065</td>\n",
       "      <td>-122.169935</td>\n",
       "      <td>PM2.5 - Local Conditions</td>\n",
       "      <td>2014-01-15</td>\n",
       "      <td>10.875000</td>\n",
       "      <td>18.0</td>\n",
       "      <td>7</td>\n",
       "      <td>Alameda</td>\n",
       "    </tr>\n",
       "    <tr>\n",
       "      <th>15</th>\n",
       "      <td>37.743065</td>\n",
       "      <td>-122.169935</td>\n",
       "      <td>PM2.5 - Local Conditions</td>\n",
       "      <td>2014-01-16</td>\n",
       "      <td>10.750000</td>\n",
       "      <td>22.0</td>\n",
       "      <td>13</td>\n",
       "      <td>Alameda</td>\n",
       "    </tr>\n",
       "    <tr>\n",
       "      <th>16</th>\n",
       "      <td>37.743065</td>\n",
       "      <td>-122.169935</td>\n",
       "      <td>PM2.5 - Local Conditions</td>\n",
       "      <td>2014-01-17</td>\n",
       "      <td>20.541667</td>\n",
       "      <td>49.0</td>\n",
       "      <td>14</td>\n",
       "      <td>Alameda</td>\n",
       "    </tr>\n",
       "    <tr>\n",
       "      <th>17</th>\n",
       "      <td>37.743065</td>\n",
       "      <td>-122.169935</td>\n",
       "      <td>PM2.5 - Local Conditions</td>\n",
       "      <td>2014-01-18</td>\n",
       "      <td>18.000000</td>\n",
       "      <td>34.0</td>\n",
       "      <td>14</td>\n",
       "      <td>Alameda</td>\n",
       "    </tr>\n",
       "    <tr>\n",
       "      <th>18</th>\n",
       "      <td>37.743065</td>\n",
       "      <td>-122.169935</td>\n",
       "      <td>PM2.5 - Local Conditions</td>\n",
       "      <td>2014-01-19</td>\n",
       "      <td>23.625000</td>\n",
       "      <td>44.0</td>\n",
       "      <td>21</td>\n",
       "      <td>Alameda</td>\n",
       "    </tr>\n",
       "    <tr>\n",
       "      <th>19</th>\n",
       "      <td>37.743065</td>\n",
       "      <td>-122.169935</td>\n",
       "      <td>PM2.5 - Local Conditions</td>\n",
       "      <td>2014-01-20</td>\n",
       "      <td>21.666667</td>\n",
       "      <td>42.0</td>\n",
       "      <td>9</td>\n",
       "      <td>Alameda</td>\n",
       "    </tr>\n",
       "    <tr>\n",
       "      <th>20</th>\n",
       "      <td>37.743065</td>\n",
       "      <td>-122.169935</td>\n",
       "      <td>PM2.5 - Local Conditions</td>\n",
       "      <td>2014-01-21</td>\n",
       "      <td>11.875000</td>\n",
       "      <td>27.0</td>\n",
       "      <td>9</td>\n",
       "      <td>Alameda</td>\n",
       "    </tr>\n",
       "    <tr>\n",
       "      <th>21</th>\n",
       "      <td>37.743065</td>\n",
       "      <td>-122.169935</td>\n",
       "      <td>PM2.5 - Local Conditions</td>\n",
       "      <td>2014-01-22</td>\n",
       "      <td>12.375000</td>\n",
       "      <td>33.0</td>\n",
       "      <td>12</td>\n",
       "      <td>Alameda</td>\n",
       "    </tr>\n",
       "    <tr>\n",
       "      <th>22</th>\n",
       "      <td>37.743065</td>\n",
       "      <td>-122.169935</td>\n",
       "      <td>PM2.5 - Local Conditions</td>\n",
       "      <td>2014-01-23</td>\n",
       "      <td>24.695652</td>\n",
       "      <td>55.0</td>\n",
       "      <td>20</td>\n",
       "      <td>Alameda</td>\n",
       "    </tr>\n",
       "    <tr>\n",
       "      <th>23</th>\n",
       "      <td>37.743065</td>\n",
       "      <td>-122.169935</td>\n",
       "      <td>PM2.5 - Local Conditions</td>\n",
       "      <td>2014-01-24</td>\n",
       "      <td>37.625000</td>\n",
       "      <td>49.0</td>\n",
       "      <td>6</td>\n",
       "      <td>Alameda</td>\n",
       "    </tr>\n",
       "    <tr>\n",
       "      <th>24</th>\n",
       "      <td>37.743065</td>\n",
       "      <td>-122.169935</td>\n",
       "      <td>PM2.5 - Local Conditions</td>\n",
       "      <td>2014-01-25</td>\n",
       "      <td>17.666667</td>\n",
       "      <td>32.0</td>\n",
       "      <td>12</td>\n",
       "      <td>Alameda</td>\n",
       "    </tr>\n",
       "    <tr>\n",
       "      <th>25</th>\n",
       "      <td>37.743065</td>\n",
       "      <td>-122.169935</td>\n",
       "      <td>PM2.5 - Local Conditions</td>\n",
       "      <td>2014-01-26</td>\n",
       "      <td>14.208333</td>\n",
       "      <td>27.0</td>\n",
       "      <td>12</td>\n",
       "      <td>Alameda</td>\n",
       "    </tr>\n",
       "    <tr>\n",
       "      <th>26</th>\n",
       "      <td>37.743065</td>\n",
       "      <td>-122.169935</td>\n",
       "      <td>PM2.5 - Local Conditions</td>\n",
       "      <td>2014-01-27</td>\n",
       "      <td>12.125000</td>\n",
       "      <td>21.0</td>\n",
       "      <td>4</td>\n",
       "      <td>Alameda</td>\n",
       "    </tr>\n",
       "    <tr>\n",
       "      <th>27</th>\n",
       "      <td>37.743065</td>\n",
       "      <td>-122.169935</td>\n",
       "      <td>PM2.5 - Local Conditions</td>\n",
       "      <td>2014-01-28</td>\n",
       "      <td>9.083333</td>\n",
       "      <td>14.0</td>\n",
       "      <td>8</td>\n",
       "      <td>Alameda</td>\n",
       "    </tr>\n",
       "    <tr>\n",
       "      <th>28</th>\n",
       "      <td>37.743065</td>\n",
       "      <td>-122.169935</td>\n",
       "      <td>PM2.5 - Local Conditions</td>\n",
       "      <td>2014-01-29</td>\n",
       "      <td>5.333333</td>\n",
       "      <td>11.0</td>\n",
       "      <td>11</td>\n",
       "      <td>Alameda</td>\n",
       "    </tr>\n",
       "    <tr>\n",
       "      <th>29</th>\n",
       "      <td>37.743065</td>\n",
       "      <td>-122.169935</td>\n",
       "      <td>PM2.5 - Local Conditions</td>\n",
       "      <td>2014-01-30</td>\n",
       "      <td>4.541667</td>\n",
       "      <td>9.0</td>\n",
       "      <td>0</td>\n",
       "      <td>Alameda</td>\n",
       "    </tr>\n",
       "    <tr>\n",
       "      <th>...</th>\n",
       "      <td>...</td>\n",
       "      <td>...</td>\n",
       "      <td>...</td>\n",
       "      <td>...</td>\n",
       "      <td>...</td>\n",
       "      <td>...</td>\n",
       "      <td>...</td>\n",
       "      <td>...</td>\n",
       "    </tr>\n",
       "    <tr>\n",
       "      <th>17681</th>\n",
       "      <td>37.765946</td>\n",
       "      <td>-122.399044</td>\n",
       "      <td>PM2.5 - Local Conditions</td>\n",
       "      <td>2018-01-27</td>\n",
       "      <td>7.400000</td>\n",
       "      <td>7.4</td>\n",
       "      <td>0</td>\n",
       "      <td>San Francisco</td>\n",
       "    </tr>\n",
       "    <tr>\n",
       "      <th>17682</th>\n",
       "      <td>37.765946</td>\n",
       "      <td>-122.399044</td>\n",
       "      <td>PM2.5 - Local Conditions</td>\n",
       "      <td>2018-01-28</td>\n",
       "      <td>5.000000</td>\n",
       "      <td>5.0</td>\n",
       "      <td>0</td>\n",
       "      <td>San Francisco</td>\n",
       "    </tr>\n",
       "    <tr>\n",
       "      <th>17683</th>\n",
       "      <td>37.765946</td>\n",
       "      <td>-122.399044</td>\n",
       "      <td>PM2.5 - Local Conditions</td>\n",
       "      <td>2018-01-29</td>\n",
       "      <td>17.000000</td>\n",
       "      <td>17.0</td>\n",
       "      <td>0</td>\n",
       "      <td>San Francisco</td>\n",
       "    </tr>\n",
       "    <tr>\n",
       "      <th>17684</th>\n",
       "      <td>37.765946</td>\n",
       "      <td>-122.399044</td>\n",
       "      <td>PM2.5 - Local Conditions</td>\n",
       "      <td>2018-01-30</td>\n",
       "      <td>13.100000</td>\n",
       "      <td>13.1</td>\n",
       "      <td>0</td>\n",
       "      <td>San Francisco</td>\n",
       "    </tr>\n",
       "    <tr>\n",
       "      <th>17685</th>\n",
       "      <td>37.765946</td>\n",
       "      <td>-122.399044</td>\n",
       "      <td>PM2.5 - Local Conditions</td>\n",
       "      <td>2018-01-31</td>\n",
       "      <td>17.100000</td>\n",
       "      <td>17.1</td>\n",
       "      <td>0</td>\n",
       "      <td>San Francisco</td>\n",
       "    </tr>\n",
       "    <tr>\n",
       "      <th>17686</th>\n",
       "      <td>37.765946</td>\n",
       "      <td>-122.399044</td>\n",
       "      <td>PM2.5 - Local Conditions</td>\n",
       "      <td>2018-02-01</td>\n",
       "      <td>13.800000</td>\n",
       "      <td>13.8</td>\n",
       "      <td>0</td>\n",
       "      <td>San Francisco</td>\n",
       "    </tr>\n",
       "    <tr>\n",
       "      <th>17687</th>\n",
       "      <td>37.765946</td>\n",
       "      <td>-122.399044</td>\n",
       "      <td>PM2.5 - Local Conditions</td>\n",
       "      <td>2018-02-02</td>\n",
       "      <td>13.000000</td>\n",
       "      <td>13.0</td>\n",
       "      <td>0</td>\n",
       "      <td>San Francisco</td>\n",
       "    </tr>\n",
       "    <tr>\n",
       "      <th>17688</th>\n",
       "      <td>37.765946</td>\n",
       "      <td>-122.399044</td>\n",
       "      <td>PM2.5 - Local Conditions</td>\n",
       "      <td>2018-02-03</td>\n",
       "      <td>12.400000</td>\n",
       "      <td>12.4</td>\n",
       "      <td>0</td>\n",
       "      <td>San Francisco</td>\n",
       "    </tr>\n",
       "    <tr>\n",
       "      <th>17689</th>\n",
       "      <td>37.765946</td>\n",
       "      <td>-122.399044</td>\n",
       "      <td>PM2.5 - Local Conditions</td>\n",
       "      <td>2018-02-04</td>\n",
       "      <td>11.000000</td>\n",
       "      <td>11.0</td>\n",
       "      <td>0</td>\n",
       "      <td>San Francisco</td>\n",
       "    </tr>\n",
       "    <tr>\n",
       "      <th>17690</th>\n",
       "      <td>37.765946</td>\n",
       "      <td>-122.399044</td>\n",
       "      <td>PM2.5 - Local Conditions</td>\n",
       "      <td>2018-02-05</td>\n",
       "      <td>16.100000</td>\n",
       "      <td>16.1</td>\n",
       "      <td>0</td>\n",
       "      <td>San Francisco</td>\n",
       "    </tr>\n",
       "    <tr>\n",
       "      <th>17691</th>\n",
       "      <td>37.765946</td>\n",
       "      <td>-122.399044</td>\n",
       "      <td>PM2.5 - Local Conditions</td>\n",
       "      <td>2018-02-06</td>\n",
       "      <td>7.600000</td>\n",
       "      <td>7.6</td>\n",
       "      <td>0</td>\n",
       "      <td>San Francisco</td>\n",
       "    </tr>\n",
       "    <tr>\n",
       "      <th>17692</th>\n",
       "      <td>37.765946</td>\n",
       "      <td>-122.399044</td>\n",
       "      <td>PM2.5 - Local Conditions</td>\n",
       "      <td>2018-02-07</td>\n",
       "      <td>15.500000</td>\n",
       "      <td>15.5</td>\n",
       "      <td>0</td>\n",
       "      <td>San Francisco</td>\n",
       "    </tr>\n",
       "    <tr>\n",
       "      <th>17693</th>\n",
       "      <td>37.765946</td>\n",
       "      <td>-122.399044</td>\n",
       "      <td>PM2.5 - Local Conditions</td>\n",
       "      <td>2018-02-08</td>\n",
       "      <td>26.700000</td>\n",
       "      <td>26.7</td>\n",
       "      <td>0</td>\n",
       "      <td>San Francisco</td>\n",
       "    </tr>\n",
       "    <tr>\n",
       "      <th>17694</th>\n",
       "      <td>37.765946</td>\n",
       "      <td>-122.399044</td>\n",
       "      <td>PM2.5 - Local Conditions</td>\n",
       "      <td>2018-02-09</td>\n",
       "      <td>15.600000</td>\n",
       "      <td>15.6</td>\n",
       "      <td>0</td>\n",
       "      <td>San Francisco</td>\n",
       "    </tr>\n",
       "    <tr>\n",
       "      <th>17695</th>\n",
       "      <td>37.765946</td>\n",
       "      <td>-122.399044</td>\n",
       "      <td>PM2.5 - Local Conditions</td>\n",
       "      <td>2018-02-10</td>\n",
       "      <td>9.000000</td>\n",
       "      <td>9.0</td>\n",
       "      <td>0</td>\n",
       "      <td>San Francisco</td>\n",
       "    </tr>\n",
       "    <tr>\n",
       "      <th>17696</th>\n",
       "      <td>37.765946</td>\n",
       "      <td>-122.399044</td>\n",
       "      <td>PM2.5 - Local Conditions</td>\n",
       "      <td>2018-02-11</td>\n",
       "      <td>8.600000</td>\n",
       "      <td>8.6</td>\n",
       "      <td>0</td>\n",
       "      <td>San Francisco</td>\n",
       "    </tr>\n",
       "    <tr>\n",
       "      <th>17697</th>\n",
       "      <td>37.765946</td>\n",
       "      <td>-122.399044</td>\n",
       "      <td>PM2.5 - Local Conditions</td>\n",
       "      <td>2018-02-12</td>\n",
       "      <td>5.500000</td>\n",
       "      <td>5.5</td>\n",
       "      <td>0</td>\n",
       "      <td>San Francisco</td>\n",
       "    </tr>\n",
       "    <tr>\n",
       "      <th>17698</th>\n",
       "      <td>37.765946</td>\n",
       "      <td>-122.399044</td>\n",
       "      <td>PM2.5 - Local Conditions</td>\n",
       "      <td>2018-02-13</td>\n",
       "      <td>6.600000</td>\n",
       "      <td>6.6</td>\n",
       "      <td>0</td>\n",
       "      <td>San Francisco</td>\n",
       "    </tr>\n",
       "    <tr>\n",
       "      <th>17699</th>\n",
       "      <td>37.765946</td>\n",
       "      <td>-122.399044</td>\n",
       "      <td>PM2.5 - Local Conditions</td>\n",
       "      <td>2018-02-14</td>\n",
       "      <td>10.500000</td>\n",
       "      <td>10.5</td>\n",
       "      <td>0</td>\n",
       "      <td>San Francisco</td>\n",
       "    </tr>\n",
       "    <tr>\n",
       "      <th>17700</th>\n",
       "      <td>37.765946</td>\n",
       "      <td>-122.399044</td>\n",
       "      <td>PM2.5 - Local Conditions</td>\n",
       "      <td>2018-02-15</td>\n",
       "      <td>8.500000</td>\n",
       "      <td>8.5</td>\n",
       "      <td>0</td>\n",
       "      <td>San Francisco</td>\n",
       "    </tr>\n",
       "    <tr>\n",
       "      <th>17701</th>\n",
       "      <td>37.765946</td>\n",
       "      <td>-122.399044</td>\n",
       "      <td>PM2.5 - Local Conditions</td>\n",
       "      <td>2018-02-16</td>\n",
       "      <td>13.600000</td>\n",
       "      <td>13.6</td>\n",
       "      <td>0</td>\n",
       "      <td>San Francisco</td>\n",
       "    </tr>\n",
       "    <tr>\n",
       "      <th>17702</th>\n",
       "      <td>37.765946</td>\n",
       "      <td>-122.399044</td>\n",
       "      <td>PM2.5 - Local Conditions</td>\n",
       "      <td>2018-02-17</td>\n",
       "      <td>11.400000</td>\n",
       "      <td>11.4</td>\n",
       "      <td>0</td>\n",
       "      <td>San Francisco</td>\n",
       "    </tr>\n",
       "    <tr>\n",
       "      <th>17703</th>\n",
       "      <td>37.765946</td>\n",
       "      <td>-122.399044</td>\n",
       "      <td>PM2.5 - Local Conditions</td>\n",
       "      <td>2018-02-21</td>\n",
       "      <td>8.500000</td>\n",
       "      <td>8.5</td>\n",
       "      <td>0</td>\n",
       "      <td>San Francisco</td>\n",
       "    </tr>\n",
       "    <tr>\n",
       "      <th>17704</th>\n",
       "      <td>37.765946</td>\n",
       "      <td>-122.399044</td>\n",
       "      <td>PM2.5 - Local Conditions</td>\n",
       "      <td>2018-02-22</td>\n",
       "      <td>7.000000</td>\n",
       "      <td>7.0</td>\n",
       "      <td>0</td>\n",
       "      <td>San Francisco</td>\n",
       "    </tr>\n",
       "    <tr>\n",
       "      <th>17705</th>\n",
       "      <td>37.765946</td>\n",
       "      <td>-122.399044</td>\n",
       "      <td>PM2.5 - Local Conditions</td>\n",
       "      <td>2018-02-23</td>\n",
       "      <td>7.200000</td>\n",
       "      <td>7.2</td>\n",
       "      <td>0</td>\n",
       "      <td>San Francisco</td>\n",
       "    </tr>\n",
       "    <tr>\n",
       "      <th>17706</th>\n",
       "      <td>37.765946</td>\n",
       "      <td>-122.399044</td>\n",
       "      <td>PM2.5 - Local Conditions</td>\n",
       "      <td>2018-02-24</td>\n",
       "      <td>8.100000</td>\n",
       "      <td>8.1</td>\n",
       "      <td>0</td>\n",
       "      <td>San Francisco</td>\n",
       "    </tr>\n",
       "    <tr>\n",
       "      <th>17707</th>\n",
       "      <td>37.765946</td>\n",
       "      <td>-122.399044</td>\n",
       "      <td>PM2.5 - Local Conditions</td>\n",
       "      <td>2018-02-25</td>\n",
       "      <td>7.200000</td>\n",
       "      <td>7.2</td>\n",
       "      <td>0</td>\n",
       "      <td>San Francisco</td>\n",
       "    </tr>\n",
       "    <tr>\n",
       "      <th>17708</th>\n",
       "      <td>37.765946</td>\n",
       "      <td>-122.399044</td>\n",
       "      <td>PM2.5 - Local Conditions</td>\n",
       "      <td>2018-02-26</td>\n",
       "      <td>5.500000</td>\n",
       "      <td>5.5</td>\n",
       "      <td>0</td>\n",
       "      <td>San Francisco</td>\n",
       "    </tr>\n",
       "    <tr>\n",
       "      <th>17709</th>\n",
       "      <td>37.765946</td>\n",
       "      <td>-122.399044</td>\n",
       "      <td>PM2.5 - Local Conditions</td>\n",
       "      <td>2018-02-27</td>\n",
       "      <td>5.200000</td>\n",
       "      <td>5.2</td>\n",
       "      <td>0</td>\n",
       "      <td>San Francisco</td>\n",
       "    </tr>\n",
       "    <tr>\n",
       "      <th>17710</th>\n",
       "      <td>37.765946</td>\n",
       "      <td>-122.399044</td>\n",
       "      <td>PM2.5 - Local Conditions</td>\n",
       "      <td>2018-02-28</td>\n",
       "      <td>7.500000</td>\n",
       "      <td>7.5</td>\n",
       "      <td>0</td>\n",
       "      <td>San Francisco</td>\n",
       "    </tr>\n",
       "  </tbody>\n",
       "</table>\n",
       "<p>17711 rows × 8 columns</p>\n",
       "</div>"
      ],
      "text/plain": [
       "        Latitude   Longitude               Param Name4  Date Local  Part Mean  \\\n",
       "0      37.743065 -122.169935  PM2.5 - Local Conditions  2014-01-01  24.958333   \n",
       "1      37.743065 -122.169935  PM2.5 - Local Conditions  2014-01-02  18.041667   \n",
       "2      37.743065 -122.169935  PM2.5 - Local Conditions  2014-01-03  18.166667   \n",
       "3      37.743065 -122.169935  PM2.5 - Local Conditions  2014-01-04  15.958333   \n",
       "4      37.743065 -122.169935  PM2.5 - Local Conditions  2014-01-05   8.416667   \n",
       "5      37.743065 -122.169935  PM2.5 - Local Conditions  2014-01-06  26.958333   \n",
       "6      37.743065 -122.169935  PM2.5 - Local Conditions  2014-01-07  29.791667   \n",
       "7      37.743065 -122.169935  PM2.5 - Local Conditions  2014-01-08   6.708333   \n",
       "8      37.743065 -122.169935  PM2.5 - Local Conditions  2014-01-09   7.217391   \n",
       "9      37.743065 -122.169935  PM2.5 - Local Conditions  2014-01-10  10.458333   \n",
       "10     37.743065 -122.169935  PM2.5 - Local Conditions  2014-01-11  10.958333   \n",
       "11     37.743065 -122.169935  PM2.5 - Local Conditions  2014-01-12   7.791667   \n",
       "12     37.743065 -122.169935  PM2.5 - Local Conditions  2014-01-13   4.541667   \n",
       "13     37.743065 -122.169935  PM2.5 - Local Conditions  2014-01-14   9.291667   \n",
       "14     37.743065 -122.169935  PM2.5 - Local Conditions  2014-01-15  10.875000   \n",
       "15     37.743065 -122.169935  PM2.5 - Local Conditions  2014-01-16  10.750000   \n",
       "16     37.743065 -122.169935  PM2.5 - Local Conditions  2014-01-17  20.541667   \n",
       "17     37.743065 -122.169935  PM2.5 - Local Conditions  2014-01-18  18.000000   \n",
       "18     37.743065 -122.169935  PM2.5 - Local Conditions  2014-01-19  23.625000   \n",
       "19     37.743065 -122.169935  PM2.5 - Local Conditions  2014-01-20  21.666667   \n",
       "20     37.743065 -122.169935  PM2.5 - Local Conditions  2014-01-21  11.875000   \n",
       "21     37.743065 -122.169935  PM2.5 - Local Conditions  2014-01-22  12.375000   \n",
       "22     37.743065 -122.169935  PM2.5 - Local Conditions  2014-01-23  24.695652   \n",
       "23     37.743065 -122.169935  PM2.5 - Local Conditions  2014-01-24  37.625000   \n",
       "24     37.743065 -122.169935  PM2.5 - Local Conditions  2014-01-25  17.666667   \n",
       "25     37.743065 -122.169935  PM2.5 - Local Conditions  2014-01-26  14.208333   \n",
       "26     37.743065 -122.169935  PM2.5 - Local Conditions  2014-01-27  12.125000   \n",
       "27     37.743065 -122.169935  PM2.5 - Local Conditions  2014-01-28   9.083333   \n",
       "28     37.743065 -122.169935  PM2.5 - Local Conditions  2014-01-29   5.333333   \n",
       "29     37.743065 -122.169935  PM2.5 - Local Conditions  2014-01-30   4.541667   \n",
       "...          ...         ...                       ...         ...        ...   \n",
       "17681  37.765946 -122.399044  PM2.5 - Local Conditions  2018-01-27   7.400000   \n",
       "17682  37.765946 -122.399044  PM2.5 - Local Conditions  2018-01-28   5.000000   \n",
       "17683  37.765946 -122.399044  PM2.5 - Local Conditions  2018-01-29  17.000000   \n",
       "17684  37.765946 -122.399044  PM2.5 - Local Conditions  2018-01-30  13.100000   \n",
       "17685  37.765946 -122.399044  PM2.5 - Local Conditions  2018-01-31  17.100000   \n",
       "17686  37.765946 -122.399044  PM2.5 - Local Conditions  2018-02-01  13.800000   \n",
       "17687  37.765946 -122.399044  PM2.5 - Local Conditions  2018-02-02  13.000000   \n",
       "17688  37.765946 -122.399044  PM2.5 - Local Conditions  2018-02-03  12.400000   \n",
       "17689  37.765946 -122.399044  PM2.5 - Local Conditions  2018-02-04  11.000000   \n",
       "17690  37.765946 -122.399044  PM2.5 - Local Conditions  2018-02-05  16.100000   \n",
       "17691  37.765946 -122.399044  PM2.5 - Local Conditions  2018-02-06   7.600000   \n",
       "17692  37.765946 -122.399044  PM2.5 - Local Conditions  2018-02-07  15.500000   \n",
       "17693  37.765946 -122.399044  PM2.5 - Local Conditions  2018-02-08  26.700000   \n",
       "17694  37.765946 -122.399044  PM2.5 - Local Conditions  2018-02-09  15.600000   \n",
       "17695  37.765946 -122.399044  PM2.5 - Local Conditions  2018-02-10   9.000000   \n",
       "17696  37.765946 -122.399044  PM2.5 - Local Conditions  2018-02-11   8.600000   \n",
       "17697  37.765946 -122.399044  PM2.5 - Local Conditions  2018-02-12   5.500000   \n",
       "17698  37.765946 -122.399044  PM2.5 - Local Conditions  2018-02-13   6.600000   \n",
       "17699  37.765946 -122.399044  PM2.5 - Local Conditions  2018-02-14  10.500000   \n",
       "17700  37.765946 -122.399044  PM2.5 - Local Conditions  2018-02-15   8.500000   \n",
       "17701  37.765946 -122.399044  PM2.5 - Local Conditions  2018-02-16  13.600000   \n",
       "17702  37.765946 -122.399044  PM2.5 - Local Conditions  2018-02-17  11.400000   \n",
       "17703  37.765946 -122.399044  PM2.5 - Local Conditions  2018-02-21   8.500000   \n",
       "17704  37.765946 -122.399044  PM2.5 - Local Conditions  2018-02-22   7.000000   \n",
       "17705  37.765946 -122.399044  PM2.5 - Local Conditions  2018-02-23   7.200000   \n",
       "17706  37.765946 -122.399044  PM2.5 - Local Conditions  2018-02-24   8.100000   \n",
       "17707  37.765946 -122.399044  PM2.5 - Local Conditions  2018-02-25   7.200000   \n",
       "17708  37.765946 -122.399044  PM2.5 - Local Conditions  2018-02-26   5.500000   \n",
       "17709  37.765946 -122.399044  PM2.5 - Local Conditions  2018-02-27   5.200000   \n",
       "17710  37.765946 -122.399044  PM2.5 - Local Conditions  2018-02-28   7.500000   \n",
       "\n",
       "       Part Max Value  Part Max Hour    County Name  \n",
       "0                38.0             13        Alameda  \n",
       "1                34.0             14        Alameda  \n",
       "2                38.0             12        Alameda  \n",
       "3                31.0              0        Alameda  \n",
       "4                18.0             14        Alameda  \n",
       "5                42.0             20        Alameda  \n",
       "6                49.0             11        Alameda  \n",
       "7                17.0              0        Alameda  \n",
       "8                12.0             15        Alameda  \n",
       "9                19.0             13        Alameda  \n",
       "10               29.0             19        Alameda  \n",
       "11               16.0              0        Alameda  \n",
       "12               10.0             23        Alameda  \n",
       "13               18.0             21        Alameda  \n",
       "14               18.0              7        Alameda  \n",
       "15               22.0             13        Alameda  \n",
       "16               49.0             14        Alameda  \n",
       "17               34.0             14        Alameda  \n",
       "18               44.0             21        Alameda  \n",
       "19               42.0              9        Alameda  \n",
       "20               27.0              9        Alameda  \n",
       "21               33.0             12        Alameda  \n",
       "22               55.0             20        Alameda  \n",
       "23               49.0              6        Alameda  \n",
       "24               32.0             12        Alameda  \n",
       "25               27.0             12        Alameda  \n",
       "26               21.0              4        Alameda  \n",
       "27               14.0              8        Alameda  \n",
       "28               11.0             11        Alameda  \n",
       "29                9.0              0        Alameda  \n",
       "...               ...            ...            ...  \n",
       "17681             7.4              0  San Francisco  \n",
       "17682             5.0              0  San Francisco  \n",
       "17683            17.0              0  San Francisco  \n",
       "17684            13.1              0  San Francisco  \n",
       "17685            17.1              0  San Francisco  \n",
       "17686            13.8              0  San Francisco  \n",
       "17687            13.0              0  San Francisco  \n",
       "17688            12.4              0  San Francisco  \n",
       "17689            11.0              0  San Francisco  \n",
       "17690            16.1              0  San Francisco  \n",
       "17691             7.6              0  San Francisco  \n",
       "17692            15.5              0  San Francisco  \n",
       "17693            26.7              0  San Francisco  \n",
       "17694            15.6              0  San Francisco  \n",
       "17695             9.0              0  San Francisco  \n",
       "17696             8.6              0  San Francisco  \n",
       "17697             5.5              0  San Francisco  \n",
       "17698             6.6              0  San Francisco  \n",
       "17699            10.5              0  San Francisco  \n",
       "17700             8.5              0  San Francisco  \n",
       "17701            13.6              0  San Francisco  \n",
       "17702            11.4              0  San Francisco  \n",
       "17703             8.5              0  San Francisco  \n",
       "17704             7.0              0  San Francisco  \n",
       "17705             7.2              0  San Francisco  \n",
       "17706             8.1              0  San Francisco  \n",
       "17707             7.2              0  San Francisco  \n",
       "17708             5.5              0  San Francisco  \n",
       "17709             5.2              0  San Francisco  \n",
       "17710             7.5              0  San Francisco  \n",
       "\n",
       "[17711 rows x 8 columns]"
      ]
     },
     "execution_count": 935,
     "metadata": {},
     "output_type": "execute_result"
    }
   ],
   "source": [
    "pdf"
   ]
  },
  {
   "cell_type": "code",
   "execution_count": 936,
   "metadata": {
    "ExecuteTime": {
     "end_time": "2018-06-11T18:23:01.722279Z",
     "start_time": "2018-06-11T18:23:01.718470Z"
    }
   },
   "outputs": [
    {
     "data": {
      "text/plain": [
       "['../../../../Documents/largecsvs/others/COdaily_42101_2014.csv',\n",
       " '../../../../Documents/largecsvs/others/COdaily_42101_2015.csv',\n",
       " '../../../../Documents/largecsvs/others/COdaily_42101_2016.csv',\n",
       " '../../../../Documents/largecsvs/others/COdaily_42101_2017.csv',\n",
       " '../../../../Documents/largecsvs/others/COdaily_42101_2018.csv',\n",
       " '../../../../Documents/largecsvs/others/Odaily_44201_2014.csv',\n",
       " '../../../../Documents/largecsvs/others/Odaily_44201_2015.csv',\n",
       " '../../../../Documents/largecsvs/others/Odaily_44201_2016.csv',\n",
       " '../../../../Documents/largecsvs/others/Odaily_44201_2017.csv',\n",
       " '../../../../Documents/largecsvs/others/Odaily_44201_2018.csv',\n",
       " '../../../../Documents/largecsvs/others/SOdaily_42401_2014.csv',\n",
       " '../../../../Documents/largecsvs/others/SOdaily_42401_2015.csv',\n",
       " '../../../../Documents/largecsvs/others/SOdaily_42401_2016.csv',\n",
       " '../../../../Documents/largecsvs/others/SOdaily_42401_2017.csv',\n",
       " '../../../../Documents/largecsvs/others/SOdaily_42401_2018.csv',\n",
       " '../../../../Documents/largecsvs/others/daily_88101_2013.csv',\n",
       " '../../../../Documents/largecsvs/others/daily_aqi_by_cbsa_2014.csv',\n",
       " '../../../../Documents/largecsvs/others/daily_aqi_by_cbsa_2015.csv',\n",
       " '../../../../Documents/largecsvs/others/daily_aqi_by_cbsa_2016.csv',\n",
       " '../../../../Documents/largecsvs/others/daily_aqi_by_cbsa_2017.csv',\n",
       " '../../../../Documents/largecsvs/others/daily_aqi_by_cbsa_2018.csv',\n",
       " '../../../../Documents/largecsvs/others/daily_aqi_by_county_2014.csv',\n",
       " '../../../../Documents/largecsvs/others/daily_aqi_by_county_2015.csv',\n",
       " '../../../../Documents/largecsvs/others/daily_aqi_by_county_2016.csv',\n",
       " '../../../../Documents/largecsvs/others/daily_aqi_by_county_2017.csv',\n",
       " '../../../../Documents/largecsvs/others/daily_aqi_by_county_2018.csv']"
      ]
     },
     "execution_count": 936,
     "metadata": {},
     "output_type": "execute_result"
    }
   ],
   "source": [
    "aqcsvs"
   ]
  },
  {
   "cell_type": "code",
   "execution_count": 953,
   "metadata": {
    "ExecuteTime": {
     "end_time": "2018-06-11T19:05:12.827860Z",
     "start_time": "2018-06-11T19:04:12.583160Z"
    }
   },
   "outputs": [],
   "source": [
    "#Creating a 3 dataframes based on which ones I will need, 2 are needed from this call\n",
    "aq=pd.read_csv(aqcsvs[0])\n",
    "\n",
    "for i in range(1,len(aqcsvs)):\n",
    "    if i==15:\n",
    "        aq2=pd.read_csv(aqcsvs[i])\n",
    "    elif i>15 and i<=20:\n",
    "        temp = pd.read_csv(aqcsvs[i])\n",
    "        aq2 = pd.concat([aq2,temp], ignore_index=True)\n",
    "    elif i==21:\n",
    "        aq3=pd.read_csv(aqcsvs[i])\n",
    "    elif i>21:\n",
    "        temp = pd.read_csv(aqcsvs[i])\n",
    "        aq3 = pd.concat([aq3,temp], ignore_index=True)\n",
    "    else:\n",
    "        temp = pd.read_csv(aqcsvs[i])\n",
    "        aq = pd.concat([aq,temp], ignore_index=True)"
   ]
  },
  {
   "cell_type": "code",
   "execution_count": 965,
   "metadata": {
    "ExecuteTime": {
     "end_time": "2018-06-11T19:38:21.892131Z",
     "start_time": "2018-06-11T19:38:21.818770Z"
    }
   },
   "outputs": [
    {
     "ename": "KeyError",
     "evalue": "'State Name'",
     "output_type": "error",
     "traceback": [
      "\u001b[0;31m---------------------------------------------------------------------------\u001b[0m",
      "\u001b[0;31mKeyError\u001b[0m                                  Traceback (most recent call last)",
      "\u001b[0;32m/anaconda3/lib/python3.6/site-packages/pandas/core/indexes/base.py\u001b[0m in \u001b[0;36mget_loc\u001b[0;34m(self, key, method, tolerance)\u001b[0m\n\u001b[1;32m   2524\u001b[0m             \u001b[0;32mtry\u001b[0m\u001b[0;34m:\u001b[0m\u001b[0;34m\u001b[0m\u001b[0m\n\u001b[0;32m-> 2525\u001b[0;31m                 \u001b[0;32mreturn\u001b[0m \u001b[0mself\u001b[0m\u001b[0;34m.\u001b[0m\u001b[0m_engine\u001b[0m\u001b[0;34m.\u001b[0m\u001b[0mget_loc\u001b[0m\u001b[0;34m(\u001b[0m\u001b[0mkey\u001b[0m\u001b[0;34m)\u001b[0m\u001b[0;34m\u001b[0m\u001b[0m\n\u001b[0m\u001b[1;32m   2526\u001b[0m             \u001b[0;32mexcept\u001b[0m \u001b[0mKeyError\u001b[0m\u001b[0;34m:\u001b[0m\u001b[0;34m\u001b[0m\u001b[0m\n",
      "\u001b[0;32mpandas/_libs/index.pyx\u001b[0m in \u001b[0;36mpandas._libs.index.IndexEngine.get_loc\u001b[0;34m()\u001b[0m\n",
      "\u001b[0;32mpandas/_libs/index.pyx\u001b[0m in \u001b[0;36mpandas._libs.index.IndexEngine.get_loc\u001b[0;34m()\u001b[0m\n",
      "\u001b[0;32mpandas/_libs/hashtable_class_helper.pxi\u001b[0m in \u001b[0;36mpandas._libs.hashtable.PyObjectHashTable.get_item\u001b[0;34m()\u001b[0m\n",
      "\u001b[0;32mpandas/_libs/hashtable_class_helper.pxi\u001b[0m in \u001b[0;36mpandas._libs.hashtable.PyObjectHashTable.get_item\u001b[0;34m()\u001b[0m\n",
      "\u001b[0;31mKeyError\u001b[0m: 'State Name'",
      "\nDuring handling of the above exception, another exception occurred:\n",
      "\u001b[0;31mKeyError\u001b[0m                                  Traceback (most recent call last)",
      "\u001b[0;32m<ipython-input-965-14f9d0ce2401>\u001b[0m in \u001b[0;36m<module>\u001b[0;34m()\u001b[0m\n\u001b[1;32m      1\u001b[0m \u001b[0;31m#Filtering out unneed data\u001b[0m\u001b[0;34m\u001b[0m\u001b[0;34m\u001b[0m\u001b[0m\n\u001b[0;32m----> 2\u001b[0;31m \u001b[0maq\u001b[0m \u001b[0;34m=\u001b[0m \u001b[0maq\u001b[0m\u001b[0;34m[\u001b[0m\u001b[0maq\u001b[0m\u001b[0;34m[\u001b[0m\u001b[0;34m'State Name'\u001b[0m\u001b[0;34m]\u001b[0m\u001b[0;34m==\u001b[0m\u001b[0;34m'California'\u001b[0m\u001b[0;34m]\u001b[0m\u001b[0;34m\u001b[0m\u001b[0m\n\u001b[0m\u001b[1;32m      3\u001b[0m \u001b[0maq\u001b[0m \u001b[0;34m=\u001b[0m \u001b[0maq\u001b[0m\u001b[0;34m[\u001b[0m\u001b[0maq\u001b[0m\u001b[0;34m[\u001b[0m\u001b[0;34m'CBSA Name'\u001b[0m\u001b[0;34m]\u001b[0m\u001b[0;34m==\u001b[0m\u001b[0;34m'San Francisco-Oakland-Hayward, CA'\u001b[0m\u001b[0;34m]\u001b[0m\u001b[0;34m\u001b[0m\u001b[0m\n\u001b[1;32m      4\u001b[0m \u001b[0maq\u001b[0m \u001b[0;34m=\u001b[0m \u001b[0maq\u001b[0m\u001b[0;34m[\u001b[0m\u001b[0maq\u001b[0m\u001b[0;34m[\u001b[0m\u001b[0;34m'City Name'\u001b[0m\u001b[0;34m]\u001b[0m\u001b[0;34m.\u001b[0m\u001b[0misin\u001b[0m\u001b[0;34m(\u001b[0m\u001b[0;34m[\u001b[0m\u001b[0;34m'Oakland'\u001b[0m\u001b[0;34m,\u001b[0m\u001b[0;34m'Richmond'\u001b[0m\u001b[0;34m,\u001b[0m\u001b[0;34m'San Pablo'\u001b[0m\u001b[0;34m,\u001b[0m\u001b[0;34m'San Francisco'\u001b[0m\u001b[0;34m,\u001b[0m\u001b[0;34m'San Rafael'\u001b[0m\u001b[0;34m]\u001b[0m\u001b[0;34m)\u001b[0m\u001b[0;34m]\u001b[0m\u001b[0;34m\u001b[0m\u001b[0m\n\u001b[1;32m      5\u001b[0m aq.drop(['State Code', 'County Code', 'Site Num', 'Parameter Code', 'POC', 'Datum', 'Sample Duration',\n",
      "\u001b[0;32m/anaconda3/lib/python3.6/site-packages/pandas/core/frame.py\u001b[0m in \u001b[0;36m__getitem__\u001b[0;34m(self, key)\u001b[0m\n\u001b[1;32m   2137\u001b[0m             \u001b[0;32mreturn\u001b[0m \u001b[0mself\u001b[0m\u001b[0;34m.\u001b[0m\u001b[0m_getitem_multilevel\u001b[0m\u001b[0;34m(\u001b[0m\u001b[0mkey\u001b[0m\u001b[0;34m)\u001b[0m\u001b[0;34m\u001b[0m\u001b[0m\n\u001b[1;32m   2138\u001b[0m         \u001b[0;32melse\u001b[0m\u001b[0;34m:\u001b[0m\u001b[0;34m\u001b[0m\u001b[0m\n\u001b[0;32m-> 2139\u001b[0;31m             \u001b[0;32mreturn\u001b[0m \u001b[0mself\u001b[0m\u001b[0;34m.\u001b[0m\u001b[0m_getitem_column\u001b[0m\u001b[0;34m(\u001b[0m\u001b[0mkey\u001b[0m\u001b[0;34m)\u001b[0m\u001b[0;34m\u001b[0m\u001b[0m\n\u001b[0m\u001b[1;32m   2140\u001b[0m \u001b[0;34m\u001b[0m\u001b[0m\n\u001b[1;32m   2141\u001b[0m     \u001b[0;32mdef\u001b[0m \u001b[0m_getitem_column\u001b[0m\u001b[0;34m(\u001b[0m\u001b[0mself\u001b[0m\u001b[0;34m,\u001b[0m \u001b[0mkey\u001b[0m\u001b[0;34m)\u001b[0m\u001b[0;34m:\u001b[0m\u001b[0;34m\u001b[0m\u001b[0m\n",
      "\u001b[0;32m/anaconda3/lib/python3.6/site-packages/pandas/core/frame.py\u001b[0m in \u001b[0;36m_getitem_column\u001b[0;34m(self, key)\u001b[0m\n\u001b[1;32m   2144\u001b[0m         \u001b[0;31m# get column\u001b[0m\u001b[0;34m\u001b[0m\u001b[0;34m\u001b[0m\u001b[0m\n\u001b[1;32m   2145\u001b[0m         \u001b[0;32mif\u001b[0m \u001b[0mself\u001b[0m\u001b[0;34m.\u001b[0m\u001b[0mcolumns\u001b[0m\u001b[0;34m.\u001b[0m\u001b[0mis_unique\u001b[0m\u001b[0;34m:\u001b[0m\u001b[0;34m\u001b[0m\u001b[0m\n\u001b[0;32m-> 2146\u001b[0;31m             \u001b[0;32mreturn\u001b[0m \u001b[0mself\u001b[0m\u001b[0;34m.\u001b[0m\u001b[0m_get_item_cache\u001b[0m\u001b[0;34m(\u001b[0m\u001b[0mkey\u001b[0m\u001b[0;34m)\u001b[0m\u001b[0;34m\u001b[0m\u001b[0m\n\u001b[0m\u001b[1;32m   2147\u001b[0m \u001b[0;34m\u001b[0m\u001b[0m\n\u001b[1;32m   2148\u001b[0m         \u001b[0;31m# duplicate columns & possible reduce dimensionality\u001b[0m\u001b[0;34m\u001b[0m\u001b[0;34m\u001b[0m\u001b[0m\n",
      "\u001b[0;32m/anaconda3/lib/python3.6/site-packages/pandas/core/generic.py\u001b[0m in \u001b[0;36m_get_item_cache\u001b[0;34m(self, item)\u001b[0m\n\u001b[1;32m   1840\u001b[0m         \u001b[0mres\u001b[0m \u001b[0;34m=\u001b[0m \u001b[0mcache\u001b[0m\u001b[0;34m.\u001b[0m\u001b[0mget\u001b[0m\u001b[0;34m(\u001b[0m\u001b[0mitem\u001b[0m\u001b[0;34m)\u001b[0m\u001b[0;34m\u001b[0m\u001b[0m\n\u001b[1;32m   1841\u001b[0m         \u001b[0;32mif\u001b[0m \u001b[0mres\u001b[0m \u001b[0;32mis\u001b[0m \u001b[0;32mNone\u001b[0m\u001b[0;34m:\u001b[0m\u001b[0;34m\u001b[0m\u001b[0m\n\u001b[0;32m-> 1842\u001b[0;31m             \u001b[0mvalues\u001b[0m \u001b[0;34m=\u001b[0m \u001b[0mself\u001b[0m\u001b[0;34m.\u001b[0m\u001b[0m_data\u001b[0m\u001b[0;34m.\u001b[0m\u001b[0mget\u001b[0m\u001b[0;34m(\u001b[0m\u001b[0mitem\u001b[0m\u001b[0;34m)\u001b[0m\u001b[0;34m\u001b[0m\u001b[0m\n\u001b[0m\u001b[1;32m   1843\u001b[0m             \u001b[0mres\u001b[0m \u001b[0;34m=\u001b[0m \u001b[0mself\u001b[0m\u001b[0;34m.\u001b[0m\u001b[0m_box_item_values\u001b[0m\u001b[0;34m(\u001b[0m\u001b[0mitem\u001b[0m\u001b[0;34m,\u001b[0m \u001b[0mvalues\u001b[0m\u001b[0;34m)\u001b[0m\u001b[0;34m\u001b[0m\u001b[0m\n\u001b[1;32m   1844\u001b[0m             \u001b[0mcache\u001b[0m\u001b[0;34m[\u001b[0m\u001b[0mitem\u001b[0m\u001b[0;34m]\u001b[0m \u001b[0;34m=\u001b[0m \u001b[0mres\u001b[0m\u001b[0;34m\u001b[0m\u001b[0m\n",
      "\u001b[0;32m/anaconda3/lib/python3.6/site-packages/pandas/core/internals.py\u001b[0m in \u001b[0;36mget\u001b[0;34m(self, item, fastpath)\u001b[0m\n\u001b[1;32m   3841\u001b[0m \u001b[0;34m\u001b[0m\u001b[0m\n\u001b[1;32m   3842\u001b[0m             \u001b[0;32mif\u001b[0m \u001b[0;32mnot\u001b[0m \u001b[0misna\u001b[0m\u001b[0;34m(\u001b[0m\u001b[0mitem\u001b[0m\u001b[0;34m)\u001b[0m\u001b[0;34m:\u001b[0m\u001b[0;34m\u001b[0m\u001b[0m\n\u001b[0;32m-> 3843\u001b[0;31m                 \u001b[0mloc\u001b[0m \u001b[0;34m=\u001b[0m \u001b[0mself\u001b[0m\u001b[0;34m.\u001b[0m\u001b[0mitems\u001b[0m\u001b[0;34m.\u001b[0m\u001b[0mget_loc\u001b[0m\u001b[0;34m(\u001b[0m\u001b[0mitem\u001b[0m\u001b[0;34m)\u001b[0m\u001b[0;34m\u001b[0m\u001b[0m\n\u001b[0m\u001b[1;32m   3844\u001b[0m             \u001b[0;32melse\u001b[0m\u001b[0;34m:\u001b[0m\u001b[0;34m\u001b[0m\u001b[0m\n\u001b[1;32m   3845\u001b[0m                 \u001b[0mindexer\u001b[0m \u001b[0;34m=\u001b[0m \u001b[0mnp\u001b[0m\u001b[0;34m.\u001b[0m\u001b[0marange\u001b[0m\u001b[0;34m(\u001b[0m\u001b[0mlen\u001b[0m\u001b[0;34m(\u001b[0m\u001b[0mself\u001b[0m\u001b[0;34m.\u001b[0m\u001b[0mitems\u001b[0m\u001b[0;34m)\u001b[0m\u001b[0;34m)\u001b[0m\u001b[0;34m[\u001b[0m\u001b[0misna\u001b[0m\u001b[0;34m(\u001b[0m\u001b[0mself\u001b[0m\u001b[0;34m.\u001b[0m\u001b[0mitems\u001b[0m\u001b[0;34m)\u001b[0m\u001b[0;34m]\u001b[0m\u001b[0;34m\u001b[0m\u001b[0m\n",
      "\u001b[0;32m/anaconda3/lib/python3.6/site-packages/pandas/core/indexes/base.py\u001b[0m in \u001b[0;36mget_loc\u001b[0;34m(self, key, method, tolerance)\u001b[0m\n\u001b[1;32m   2525\u001b[0m                 \u001b[0;32mreturn\u001b[0m \u001b[0mself\u001b[0m\u001b[0;34m.\u001b[0m\u001b[0m_engine\u001b[0m\u001b[0;34m.\u001b[0m\u001b[0mget_loc\u001b[0m\u001b[0;34m(\u001b[0m\u001b[0mkey\u001b[0m\u001b[0;34m)\u001b[0m\u001b[0;34m\u001b[0m\u001b[0m\n\u001b[1;32m   2526\u001b[0m             \u001b[0;32mexcept\u001b[0m \u001b[0mKeyError\u001b[0m\u001b[0;34m:\u001b[0m\u001b[0;34m\u001b[0m\u001b[0m\n\u001b[0;32m-> 2527\u001b[0;31m                 \u001b[0;32mreturn\u001b[0m \u001b[0mself\u001b[0m\u001b[0;34m.\u001b[0m\u001b[0m_engine\u001b[0m\u001b[0;34m.\u001b[0m\u001b[0mget_loc\u001b[0m\u001b[0;34m(\u001b[0m\u001b[0mself\u001b[0m\u001b[0;34m.\u001b[0m\u001b[0m_maybe_cast_indexer\u001b[0m\u001b[0;34m(\u001b[0m\u001b[0mkey\u001b[0m\u001b[0;34m)\u001b[0m\u001b[0;34m)\u001b[0m\u001b[0;34m\u001b[0m\u001b[0m\n\u001b[0m\u001b[1;32m   2528\u001b[0m \u001b[0;34m\u001b[0m\u001b[0m\n\u001b[1;32m   2529\u001b[0m         \u001b[0mindexer\u001b[0m \u001b[0;34m=\u001b[0m \u001b[0mself\u001b[0m\u001b[0;34m.\u001b[0m\u001b[0mget_indexer\u001b[0m\u001b[0;34m(\u001b[0m\u001b[0;34m[\u001b[0m\u001b[0mkey\u001b[0m\u001b[0;34m]\u001b[0m\u001b[0;34m,\u001b[0m \u001b[0mmethod\u001b[0m\u001b[0;34m=\u001b[0m\u001b[0mmethod\u001b[0m\u001b[0;34m,\u001b[0m \u001b[0mtolerance\u001b[0m\u001b[0;34m=\u001b[0m\u001b[0mtolerance\u001b[0m\u001b[0;34m)\u001b[0m\u001b[0;34m\u001b[0m\u001b[0m\n",
      "\u001b[0;32mpandas/_libs/index.pyx\u001b[0m in \u001b[0;36mpandas._libs.index.IndexEngine.get_loc\u001b[0;34m()\u001b[0m\n",
      "\u001b[0;32mpandas/_libs/index.pyx\u001b[0m in \u001b[0;36mpandas._libs.index.IndexEngine.get_loc\u001b[0;34m()\u001b[0m\n",
      "\u001b[0;32mpandas/_libs/hashtable_class_helper.pxi\u001b[0m in \u001b[0;36mpandas._libs.hashtable.PyObjectHashTable.get_item\u001b[0;34m()\u001b[0m\n",
      "\u001b[0;32mpandas/_libs/hashtable_class_helper.pxi\u001b[0m in \u001b[0;36mpandas._libs.hashtable.PyObjectHashTable.get_item\u001b[0;34m()\u001b[0m\n",
      "\u001b[0;31mKeyError\u001b[0m: 'State Name'"
     ]
    }
   ],
   "source": [
    "#Filtering out unneed data\n",
    "aq = aq[aq['State Name']=='California']\n",
    "aq = aq[aq['CBSA Name']=='San Francisco-Oakland-Hayward, CA']\n",
    "aq = aq[aq['City Name'].isin(['Oakland','Richmond','San Pablo','San Francisco','San Rafael'])]\n",
    "aq.drop(['State Code', 'County Code', 'Site Num', 'Parameter Code', 'POC', 'Datum', 'Sample Duration',\n",
    "       'Pollutant Standard', 'Units of Measure', 'Event Type',\n",
    "       'Observation Count', 'Observation Percent', 'AQI', 'Method Code', 'Method Name',\n",
    "       'Local Site Name', 'Address', 'State Name','City Name',\n",
    "       'CBSA Name', 'Date of Last Change'], axis=1, inplace=True)\n",
    "#filtering to relevant cities\n",
    "aq.reset_index(drop=True,inplace=True)"
   ]
  },
  {
   "cell_type": "code",
   "execution_count": 959,
   "metadata": {
    "ExecuteTime": {
     "end_time": "2018-06-11T19:07:00.900380Z",
     "start_time": "2018-06-11T19:07:00.882074Z"
    }
   },
   "outputs": [],
   "source": [
    "codf = aq[aq['Parameter Name']=='Carbon monoxide'].copy()\n",
    "ozdf= aq[aq['Parameter Name']=='Ozone'].copy()\n",
    "sodf= aq[aq['Parameter Name']=='Sulfur dioxide'].copy()\n",
    "\n"
   ]
  },
  {
   "cell_type": "code",
   "execution_count": 960,
   "metadata": {
    "ExecuteTime": {
     "end_time": "2018-06-11T19:07:01.638573Z",
     "start_time": "2018-06-11T19:07:01.620127Z"
    }
   },
   "outputs": [
    {
     "ename": "ValueError",
     "evalue": "labels ['Latitude' 'Longitude'] not contained in axis",
     "output_type": "error",
     "traceback": [
      "\u001b[0;31m---------------------------------------------------------------------------\u001b[0m",
      "\u001b[0;31mValueError\u001b[0m                                Traceback (most recent call last)",
      "\u001b[0;32m<ipython-input-960-f22e2ad37e09>\u001b[0m in \u001b[0;36m<module>\u001b[0;34m()\u001b[0m\n\u001b[1;32m      1\u001b[0m \u001b[0mozdf\u001b[0m\u001b[0;34m.\u001b[0m\u001b[0mdrop\u001b[0m\u001b[0;34m(\u001b[0m\u001b[0;34m[\u001b[0m\u001b[0;34m'Latitude'\u001b[0m\u001b[0;34m,\u001b[0m\u001b[0;34m'Longitude'\u001b[0m\u001b[0;34m]\u001b[0m\u001b[0;34m,\u001b[0m \u001b[0maxis\u001b[0m\u001b[0;34m=\u001b[0m\u001b[0;36m1\u001b[0m\u001b[0;34m,\u001b[0m \u001b[0minplace\u001b[0m\u001b[0;34m=\u001b[0m\u001b[0;32mTrue\u001b[0m\u001b[0;34m)\u001b[0m\u001b[0;34m\u001b[0m\u001b[0m\n\u001b[1;32m      2\u001b[0m \u001b[0msodf\u001b[0m\u001b[0;34m.\u001b[0m\u001b[0mdrop\u001b[0m\u001b[0;34m(\u001b[0m\u001b[0;34m[\u001b[0m\u001b[0;34m'Latitude'\u001b[0m\u001b[0;34m,\u001b[0m\u001b[0;34m'Longitude'\u001b[0m\u001b[0;34m]\u001b[0m\u001b[0;34m,\u001b[0m \u001b[0maxis\u001b[0m\u001b[0;34m=\u001b[0m\u001b[0;36m1\u001b[0m\u001b[0;34m,\u001b[0m \u001b[0minplace\u001b[0m\u001b[0;34m=\u001b[0m\u001b[0;32mTrue\u001b[0m\u001b[0;34m)\u001b[0m\u001b[0;34m\u001b[0m\u001b[0m\n\u001b[0;32m----> 3\u001b[0;31m \u001b[0mpdf\u001b[0m\u001b[0;34m.\u001b[0m\u001b[0mdrop\u001b[0m\u001b[0;34m(\u001b[0m\u001b[0;34m[\u001b[0m\u001b[0;34m'Latitude'\u001b[0m\u001b[0;34m,\u001b[0m\u001b[0;34m'Longitude'\u001b[0m\u001b[0;34m]\u001b[0m\u001b[0;34m,\u001b[0m \u001b[0maxis\u001b[0m\u001b[0;34m=\u001b[0m\u001b[0;36m1\u001b[0m\u001b[0;34m,\u001b[0m \u001b[0minplace\u001b[0m\u001b[0;34m=\u001b[0m\u001b[0;32mTrue\u001b[0m\u001b[0;34m)\u001b[0m\u001b[0;34m\u001b[0m\u001b[0m\n\u001b[0m",
      "\u001b[0;32m/anaconda3/lib/python3.6/site-packages/pandas/core/generic.py\u001b[0m in \u001b[0;36mdrop\u001b[0;34m(self, labels, axis, index, columns, level, inplace, errors)\u001b[0m\n\u001b[1;32m   2528\u001b[0m         \u001b[0;32mfor\u001b[0m \u001b[0maxis\u001b[0m\u001b[0;34m,\u001b[0m \u001b[0mlabels\u001b[0m \u001b[0;32min\u001b[0m \u001b[0maxes\u001b[0m\u001b[0;34m.\u001b[0m\u001b[0mitems\u001b[0m\u001b[0;34m(\u001b[0m\u001b[0;34m)\u001b[0m\u001b[0;34m:\u001b[0m\u001b[0;34m\u001b[0m\u001b[0m\n\u001b[1;32m   2529\u001b[0m             \u001b[0;32mif\u001b[0m \u001b[0mlabels\u001b[0m \u001b[0;32mis\u001b[0m \u001b[0;32mnot\u001b[0m \u001b[0;32mNone\u001b[0m\u001b[0;34m:\u001b[0m\u001b[0;34m\u001b[0m\u001b[0m\n\u001b[0;32m-> 2530\u001b[0;31m                 \u001b[0mobj\u001b[0m \u001b[0;34m=\u001b[0m \u001b[0mobj\u001b[0m\u001b[0;34m.\u001b[0m\u001b[0m_drop_axis\u001b[0m\u001b[0;34m(\u001b[0m\u001b[0mlabels\u001b[0m\u001b[0;34m,\u001b[0m \u001b[0maxis\u001b[0m\u001b[0;34m,\u001b[0m \u001b[0mlevel\u001b[0m\u001b[0;34m=\u001b[0m\u001b[0mlevel\u001b[0m\u001b[0;34m,\u001b[0m \u001b[0merrors\u001b[0m\u001b[0;34m=\u001b[0m\u001b[0merrors\u001b[0m\u001b[0;34m)\u001b[0m\u001b[0;34m\u001b[0m\u001b[0m\n\u001b[0m\u001b[1;32m   2531\u001b[0m \u001b[0;34m\u001b[0m\u001b[0m\n\u001b[1;32m   2532\u001b[0m         \u001b[0;32mif\u001b[0m \u001b[0minplace\u001b[0m\u001b[0;34m:\u001b[0m\u001b[0;34m\u001b[0m\u001b[0m\n",
      "\u001b[0;32m/anaconda3/lib/python3.6/site-packages/pandas/core/generic.py\u001b[0m in \u001b[0;36m_drop_axis\u001b[0;34m(self, labels, axis, level, errors)\u001b[0m\n\u001b[1;32m   2560\u001b[0m                 \u001b[0mnew_axis\u001b[0m \u001b[0;34m=\u001b[0m \u001b[0maxis\u001b[0m\u001b[0;34m.\u001b[0m\u001b[0mdrop\u001b[0m\u001b[0;34m(\u001b[0m\u001b[0mlabels\u001b[0m\u001b[0;34m,\u001b[0m \u001b[0mlevel\u001b[0m\u001b[0;34m=\u001b[0m\u001b[0mlevel\u001b[0m\u001b[0;34m,\u001b[0m \u001b[0merrors\u001b[0m\u001b[0;34m=\u001b[0m\u001b[0merrors\u001b[0m\u001b[0;34m)\u001b[0m\u001b[0;34m\u001b[0m\u001b[0m\n\u001b[1;32m   2561\u001b[0m             \u001b[0;32melse\u001b[0m\u001b[0;34m:\u001b[0m\u001b[0;34m\u001b[0m\u001b[0m\n\u001b[0;32m-> 2562\u001b[0;31m                 \u001b[0mnew_axis\u001b[0m \u001b[0;34m=\u001b[0m \u001b[0maxis\u001b[0m\u001b[0;34m.\u001b[0m\u001b[0mdrop\u001b[0m\u001b[0;34m(\u001b[0m\u001b[0mlabels\u001b[0m\u001b[0;34m,\u001b[0m \u001b[0merrors\u001b[0m\u001b[0;34m=\u001b[0m\u001b[0merrors\u001b[0m\u001b[0;34m)\u001b[0m\u001b[0;34m\u001b[0m\u001b[0m\n\u001b[0m\u001b[1;32m   2563\u001b[0m             \u001b[0mdropped\u001b[0m \u001b[0;34m=\u001b[0m \u001b[0mself\u001b[0m\u001b[0;34m.\u001b[0m\u001b[0mreindex\u001b[0m\u001b[0;34m(\u001b[0m\u001b[0;34m**\u001b[0m\u001b[0;34m{\u001b[0m\u001b[0maxis_name\u001b[0m\u001b[0;34m:\u001b[0m \u001b[0mnew_axis\u001b[0m\u001b[0;34m}\u001b[0m\u001b[0;34m)\u001b[0m\u001b[0;34m\u001b[0m\u001b[0m\n\u001b[1;32m   2564\u001b[0m             \u001b[0;32mtry\u001b[0m\u001b[0;34m:\u001b[0m\u001b[0;34m\u001b[0m\u001b[0m\n",
      "\u001b[0;32m/anaconda3/lib/python3.6/site-packages/pandas/core/indexes/base.py\u001b[0m in \u001b[0;36mdrop\u001b[0;34m(self, labels, errors)\u001b[0m\n\u001b[1;32m   3742\u001b[0m             \u001b[0;32mif\u001b[0m \u001b[0merrors\u001b[0m \u001b[0;34m!=\u001b[0m \u001b[0;34m'ignore'\u001b[0m\u001b[0;34m:\u001b[0m\u001b[0;34m\u001b[0m\u001b[0m\n\u001b[1;32m   3743\u001b[0m                 raise ValueError('labels %s not contained in axis' %\n\u001b[0;32m-> 3744\u001b[0;31m                                  labels[mask])\n\u001b[0m\u001b[1;32m   3745\u001b[0m             \u001b[0mindexer\u001b[0m \u001b[0;34m=\u001b[0m \u001b[0mindexer\u001b[0m\u001b[0;34m[\u001b[0m\u001b[0;34m~\u001b[0m\u001b[0mmask\u001b[0m\u001b[0;34m]\u001b[0m\u001b[0;34m\u001b[0m\u001b[0m\n\u001b[1;32m   3746\u001b[0m         \u001b[0;32mreturn\u001b[0m \u001b[0mself\u001b[0m\u001b[0;34m.\u001b[0m\u001b[0mdelete\u001b[0m\u001b[0;34m(\u001b[0m\u001b[0mindexer\u001b[0m\u001b[0;34m)\u001b[0m\u001b[0;34m\u001b[0m\u001b[0m\n",
      "\u001b[0;31mValueError\u001b[0m: labels ['Latitude' 'Longitude'] not contained in axis"
     ]
    }
   ],
   "source": [
    "ozdf.drop(['Latitude','Longitude'], axis=1, inplace=True)\n",
    "sodf.drop(['Latitude','Longitude'], axis=1, inplace=True)\n",
    "pdf.drop(['Latitude','Longitude'], axis=1, inplace=True)"
   ]
  },
  {
   "cell_type": "code",
   "execution_count": 966,
   "metadata": {
    "ExecuteTime": {
     "end_time": "2018-06-11T19:38:30.931284Z",
     "start_time": "2018-06-11T19:38:30.915311Z"
    }
   },
   "outputs": [
    {
     "data": {
      "text/plain": [
       "Index(['county Name', 'Date', 'AQI', 'Category', 'Defining Parameter'], dtype='object')"
      ]
     },
     "execution_count": 966,
     "metadata": {},
     "output_type": "execute_result"
    }
   ],
   "source": [
    "aq3 = aq3[['county Name', 'Date', 'AQI','Category', 'Defining Parameter']]\n",
    "aq3.columns"
   ]
  },
  {
   "cell_type": "code",
   "execution_count": 970,
   "metadata": {
    "ExecuteTime": {
     "end_time": "2018-06-11T19:40:13.067596Z",
     "start_time": "2018-06-11T19:40:13.049581Z"
    }
   },
   "outputs": [
    {
     "data": {
      "text/html": [
       "<div>\n",
       "<style scoped>\n",
       "    .dataframe tbody tr th:only-of-type {\n",
       "        vertical-align: middle;\n",
       "    }\n",
       "\n",
       "    .dataframe tbody tr th {\n",
       "        vertical-align: top;\n",
       "    }\n",
       "\n",
       "    .dataframe thead th {\n",
       "        text-align: right;\n",
       "    }\n",
       "</style>\n",
       "<table border=\"1\" class=\"dataframe\">\n",
       "  <thead>\n",
       "    <tr style=\"text-align: right;\">\n",
       "      <th></th>\n",
       "      <th>county Name</th>\n",
       "      <th>Date</th>\n",
       "      <th>AQI</th>\n",
       "      <th>Category</th>\n",
       "      <th>Defining Parameter</th>\n",
       "    </tr>\n",
       "  </thead>\n",
       "  <tbody>\n",
       "    <tr>\n",
       "      <th>0</th>\n",
       "      <td>Alameda</td>\n",
       "      <td>2014-01-01</td>\n",
       "      <td>109</td>\n",
       "      <td>Unhealthy for Sensitive Groups</td>\n",
       "      <td>PM2.5</td>\n",
       "    </tr>\n",
       "    <tr>\n",
       "      <th>1</th>\n",
       "      <td>Alameda</td>\n",
       "      <td>2014-01-02</td>\n",
       "      <td>80</td>\n",
       "      <td>Moderate</td>\n",
       "      <td>PM2.5</td>\n",
       "    </tr>\n",
       "    <tr>\n",
       "      <th>2</th>\n",
       "      <td>Alameda</td>\n",
       "      <td>2014-01-03</td>\n",
       "      <td>80</td>\n",
       "      <td>Moderate</td>\n",
       "      <td>PM2.5</td>\n",
       "    </tr>\n",
       "    <tr>\n",
       "      <th>3</th>\n",
       "      <td>Alameda</td>\n",
       "      <td>2014-01-04</td>\n",
       "      <td>67</td>\n",
       "      <td>Moderate</td>\n",
       "      <td>PM2.5</td>\n",
       "    </tr>\n",
       "    <tr>\n",
       "      <th>4</th>\n",
       "      <td>Alameda</td>\n",
       "      <td>2014-01-05</td>\n",
       "      <td>56</td>\n",
       "      <td>Moderate</td>\n",
       "      <td>PM2.5</td>\n",
       "    </tr>\n",
       "  </tbody>\n",
       "</table>\n",
       "</div>"
      ],
      "text/plain": [
       "  county Name        Date  AQI                        Category  \\\n",
       "0     Alameda  2014-01-01  109  Unhealthy for Sensitive Groups   \n",
       "1     Alameda  2014-01-02   80                        Moderate   \n",
       "2     Alameda  2014-01-03   80                        Moderate   \n",
       "3     Alameda  2014-01-04   67                        Moderate   \n",
       "4     Alameda  2014-01-05   56                        Moderate   \n",
       "\n",
       "  Defining Parameter  \n",
       "0              PM2.5  \n",
       "1              PM2.5  \n",
       "2              PM2.5  \n",
       "3              PM2.5  \n",
       "4              PM2.5  "
      ]
     },
     "execution_count": 970,
     "metadata": {},
     "output_type": "execute_result"
    }
   ],
   "source": [
    "#Filtering out unneed data\n",
    "aq3 = aq3[aq3['county Name'].isin(aq['County Name'].unique())]\n",
    "#filtering to relevant cities\n",
    "aq3.reset_index(drop=True,inplace=True)\n",
    "aq3.head()"
   ]
  },
  {
   "cell_type": "code",
   "execution_count": 971,
   "metadata": {
    "ExecuteTime": {
     "end_time": "2018-06-11T19:40:17.655140Z",
     "start_time": "2018-06-11T19:40:17.637678Z"
    }
   },
   "outputs": [],
   "source": [
    "codf.columns=['Latitude', 'Longitude', 'Param Name', 'Date Local',\n",
    "              'CO Mean', 'CO Max Value', 'CO Max Hour','County Name']\n",
    "ozdf.columns=['Param Name2', 'Date Local','Oz Mean', 'Oz Max Value', 'Oz Max Hour','County Name']\n",
    "sodf.columns=['Param Name3', 'Date Local','SO Mean', 'SO Max Value', 'SO Max Hour','County Name']\n",
    "aq3.columns=['County Name', 'Date Local', 'AQI', 'Category', 'AQ Defining Parameter']\n",
    "pdf.columns =['Param Name4', 'Date Local','Part Mean', 'Part Max Value', 'Part Max Hour','County Name']\n"
   ]
  },
  {
   "cell_type": "code",
   "execution_count": null,
   "metadata": {
    "ExecuteTime": {
     "start_time": "2018-06-11T19:40:23.914Z"
    }
   },
   "outputs": [],
   "source": [
    "aq = pd.merge(codf,ozdf, how='left',on=['Date Local','County Name'])\n",
    "aq2 = pd.merge(aq,sodf, how='left',on=['Date Local','County Name'])\n",
    "qq = pd.merge(aq2,qq, how='left', on=['Date Local','County Name'])\n",
    "aq = pd.merge(qq,aq3, how='left',on=['Date Local','County Name'])"
   ]
  },
  {
   "cell_type": "code",
   "execution_count": null,
   "metadata": {
    "ExecuteTime": {
     "start_time": "2018-06-11T19:41:08.805Z"
    }
   },
   "outputs": [],
   "source": [
    "aq.head()"
   ]
  },
  {
   "cell_type": "code",
   "execution_count": 547,
   "metadata": {
    "ExecuteTime": {
     "end_time": "2018-06-08T00:35:21.972638Z",
     "start_time": "2018-06-08T00:35:21.969123Z"
    }
   },
   "outputs": [],
   "source": [
    "aq['Date Local'] = pd.to_datetime(aq['Date Local'])"
   ]
  },
  {
   "cell_type": "code",
   "execution_count": 548,
   "metadata": {
    "ExecuteTime": {
     "end_time": "2018-06-08T00:35:55.485381Z",
     "start_time": "2018-06-08T00:35:55.424447Z"
    }
   },
   "outputs": [],
   "source": [
    "aq['Date Local'] =[x.date() for x in aq['Date Local']]"
   ]
  },
  {
   "cell_type": "code",
   "execution_count": 511,
   "metadata": {
    "ExecuteTime": {
     "end_time": "2018-06-08T00:12:52.454831Z",
     "start_time": "2018-06-08T00:12:52.448597Z"
    }
   },
   "outputs": [],
   "source": [
    "aq.drop(['Param Name', 'County Name', 'Param Name2','Param Name3','Param Name4'], axis=1, inplace = True)"
   ]
  },
  {
   "cell_type": "code",
   "execution_count": 931,
   "metadata": {
    "ExecuteTime": {
     "end_time": "2018-06-11T18:13:14.065318Z",
     "start_time": "2018-06-11T18:13:14.037870Z"
    }
   },
   "outputs": [
    {
     "data": {
      "text/html": [
       "<div>\n",
       "<style scoped>\n",
       "    .dataframe tbody tr th:only-of-type {\n",
       "        vertical-align: middle;\n",
       "    }\n",
       "\n",
       "    .dataframe tbody tr th {\n",
       "        vertical-align: top;\n",
       "    }\n",
       "\n",
       "    .dataframe thead th {\n",
       "        text-align: right;\n",
       "    }\n",
       "</style>\n",
       "<table border=\"1\" class=\"dataframe\">\n",
       "  <thead>\n",
       "    <tr style=\"text-align: right;\">\n",
       "      <th></th>\n",
       "      <th>Latitude</th>\n",
       "      <th>Longitude</th>\n",
       "      <th>Date Local</th>\n",
       "      <th>CO Mean</th>\n",
       "      <th>CO Max Value</th>\n",
       "      <th>CO Max Hour</th>\n",
       "      <th>Oz Mean</th>\n",
       "      <th>Oz Max Value</th>\n",
       "      <th>Oz Max Hour</th>\n",
       "      <th>SO Mean</th>\n",
       "      <th>SO Max Value</th>\n",
       "      <th>SO Max Hour</th>\n",
       "      <th>Part Mean</th>\n",
       "      <th>Part Max Value</th>\n",
       "      <th>Part Max Hour</th>\n",
       "      <th>AQI</th>\n",
       "      <th>Category</th>\n",
       "      <th>AQ Defining Parameter</th>\n",
       "    </tr>\n",
       "  </thead>\n",
       "  <tbody>\n",
       "    <tr>\n",
       "      <th>72</th>\n",
       "      <td>37.814781</td>\n",
       "      <td>-122.282347</td>\n",
       "      <td>2015-01-10</td>\n",
       "      <td>0.565217</td>\n",
       "      <td>1.3</td>\n",
       "      <td>4</td>\n",
       "      <td>0.008118</td>\n",
       "      <td>0.016</td>\n",
       "      <td>9</td>\n",
       "      <td>0.913636</td>\n",
       "      <td>2.4</td>\n",
       "      <td>15</td>\n",
       "      <td>17.458333</td>\n",
       "      <td>25.0</td>\n",
       "      <td>2</td>\n",
       "      <td>72</td>\n",
       "      <td>Moderate</td>\n",
       "      <td>PM2.5</td>\n",
       "    </tr>\n",
       "    <tr>\n",
       "      <th>73</th>\n",
       "      <td>37.814781</td>\n",
       "      <td>-122.282347</td>\n",
       "      <td>2015-01-10</td>\n",
       "      <td>0.565217</td>\n",
       "      <td>1.3</td>\n",
       "      <td>4</td>\n",
       "      <td>0.008118</td>\n",
       "      <td>0.016</td>\n",
       "      <td>9</td>\n",
       "      <td>0.913636</td>\n",
       "      <td>2.4</td>\n",
       "      <td>15</td>\n",
       "      <td>17.400000</td>\n",
       "      <td>17.4</td>\n",
       "      <td>0</td>\n",
       "      <td>72</td>\n",
       "      <td>Moderate</td>\n",
       "      <td>PM2.5</td>\n",
       "    </tr>\n",
       "    <tr>\n",
       "      <th>74</th>\n",
       "      <td>37.814781</td>\n",
       "      <td>-122.282347</td>\n",
       "      <td>2015-01-10</td>\n",
       "      <td>0.565217</td>\n",
       "      <td>1.3</td>\n",
       "      <td>4</td>\n",
       "      <td>0.008118</td>\n",
       "      <td>0.016</td>\n",
       "      <td>9</td>\n",
       "      <td>0.866667</td>\n",
       "      <td>1.4</td>\n",
       "      <td>14</td>\n",
       "      <td>17.458333</td>\n",
       "      <td>25.0</td>\n",
       "      <td>2</td>\n",
       "      <td>72</td>\n",
       "      <td>Moderate</td>\n",
       "      <td>PM2.5</td>\n",
       "    </tr>\n",
       "    <tr>\n",
       "      <th>75</th>\n",
       "      <td>37.814781</td>\n",
       "      <td>-122.282347</td>\n",
       "      <td>2015-01-10</td>\n",
       "      <td>0.565217</td>\n",
       "      <td>1.3</td>\n",
       "      <td>4</td>\n",
       "      <td>0.008118</td>\n",
       "      <td>0.016</td>\n",
       "      <td>9</td>\n",
       "      <td>0.866667</td>\n",
       "      <td>1.4</td>\n",
       "      <td>14</td>\n",
       "      <td>17.400000</td>\n",
       "      <td>17.4</td>\n",
       "      <td>0</td>\n",
       "      <td>72</td>\n",
       "      <td>Moderate</td>\n",
       "      <td>PM2.5</td>\n",
       "    </tr>\n",
       "    <tr>\n",
       "      <th>76</th>\n",
       "      <td>37.814781</td>\n",
       "      <td>-122.282347</td>\n",
       "      <td>2015-01-10</td>\n",
       "      <td>0.579167</td>\n",
       "      <td>1.0</td>\n",
       "      <td>5</td>\n",
       "      <td>0.008118</td>\n",
       "      <td>0.016</td>\n",
       "      <td>9</td>\n",
       "      <td>0.913636</td>\n",
       "      <td>2.4</td>\n",
       "      <td>15</td>\n",
       "      <td>17.458333</td>\n",
       "      <td>25.0</td>\n",
       "      <td>2</td>\n",
       "      <td>72</td>\n",
       "      <td>Moderate</td>\n",
       "      <td>PM2.5</td>\n",
       "    </tr>\n",
       "  </tbody>\n",
       "</table>\n",
       "</div>"
      ],
      "text/plain": [
       "     Latitude   Longitude  Date Local   CO Mean  CO Max Value  CO Max Hour  \\\n",
       "72  37.814781 -122.282347  2015-01-10  0.565217           1.3            4   \n",
       "73  37.814781 -122.282347  2015-01-10  0.565217           1.3            4   \n",
       "74  37.814781 -122.282347  2015-01-10  0.565217           1.3            4   \n",
       "75  37.814781 -122.282347  2015-01-10  0.565217           1.3            4   \n",
       "76  37.814781 -122.282347  2015-01-10  0.579167           1.0            5   \n",
       "\n",
       "     Oz Mean  Oz Max Value  Oz Max Hour   SO Mean  SO Max Value  SO Max Hour  \\\n",
       "72  0.008118         0.016            9  0.913636           2.4           15   \n",
       "73  0.008118         0.016            9  0.913636           2.4           15   \n",
       "74  0.008118         0.016            9  0.866667           1.4           14   \n",
       "75  0.008118         0.016            9  0.866667           1.4           14   \n",
       "76  0.008118         0.016            9  0.913636           2.4           15   \n",
       "\n",
       "    Part Mean  Part Max Value  Part Max Hour  AQI  Category  \\\n",
       "72  17.458333            25.0              2   72  Moderate   \n",
       "73  17.400000            17.4              0   72  Moderate   \n",
       "74  17.458333            25.0              2   72  Moderate   \n",
       "75  17.400000            17.4              0   72  Moderate   \n",
       "76  17.458333            25.0              2   72  Moderate   \n",
       "\n",
       "   AQ Defining Parameter  \n",
       "72                 PM2.5  \n",
       "73                 PM2.5  \n",
       "74                 PM2.5  \n",
       "75                 PM2.5  \n",
       "76                 PM2.5  "
      ]
     },
     "execution_count": 931,
     "metadata": {},
     "output_type": "execute_result"
    }
   ],
   "source": [
    "aq.head()"
   ]
  },
  {
   "cell_type": "code",
   "execution_count": 550,
   "metadata": {
    "ExecuteTime": {
     "end_time": "2018-06-08T00:36:08.213795Z",
     "start_time": "2018-06-08T00:36:08.182450Z"
    }
   },
   "outputs": [],
   "source": [
    "\"\"\"#Writing a pickle file to save data\n",
    "import pickle\n",
    "with open('climate_data.pkl', 'wb') as picklefile:\n",
    "    pickle.dump(aq, picklefile)\"\"\""
   ]
  },
  {
   "cell_type": "code",
   "execution_count": 684,
   "metadata": {
    "ExecuteTime": {
     "end_time": "2018-06-08T22:49:56.570851Z",
     "start_time": "2018-06-08T22:49:56.553331Z"
    }
   },
   "outputs": [],
   "source": [
    "def h5ToDF(file):\n",
    "    f = h5py.File(file, 'r')\n",
    "    date = [pd.to_datetime(str(x).replace('b\\'','').replace('\\'','')) for x in list(f['RetrievalHeader']['retrieval_time_string'])]\n",
    "    lat = [x for x in list(f['RetrievalGeometry']['retrieval_latitude_geoid'])]\n",
    "    long = [y for y in list(f['RetrievalGeometry']['retrieval_longitude_geoid'])]\n",
    "    co2ppm = list(f['RetrievalResults']['xco2'])\n",
    "    co2_uncert = [x*10**6 for x in list(f['RetrievalResults']['xco2_uncert'])]\n",
    "    df = pd.DataFrame({'date':date,\n",
    "        'lat':lat,\n",
    "        'long': long,\n",
    "        'co2ppm': co2ppm,\n",
    "        'co2_uncert': co2_uncert\n",
    "    })\n",
    "    return df\n",
    "                                                                                    \n",
    "                                                                                    \n",
    "                                                                                    "
   ]
  },
  {
   "cell_type": "code",
   "execution_count": 789,
   "metadata": {
    "ExecuteTime": {
     "end_time": "2018-06-10T20:03:28.381473Z",
     "start_time": "2018-06-10T19:04:01.335529Z"
    }
   },
   "outputs": [],
   "source": [
    "f = h5py.File(results[0], 'r')\n",
    "date = [pd.to_datetime(str(x).replace('b\\'','').replace('\\'','')) for x in list(f['RetrievalHeader']['retrieval_time_string'])]\n",
    "lat = [x for x in list(f['RetrievalGeometry']['retrieval_latitude_geoid'])]\n",
    "long = [y for y in list(f['RetrievalGeometry']['retrieval_longitude_geoid'])]\n",
    "co2ppm = list(f['RetrievalResults']['xco2'])\n",
    "co2_uncert = [x*10**6 for x in list(f['RetrievalResults']['xco2_uncert'])]\n",
    "df = pd.DataFrame({'date':date,\n",
    "        'lat':lat,\n",
    "        'long': long,\n",
    "        'co2ppm': co2ppm,\n",
    "        'co2_uncert': co2_uncert\n",
    "    })\n",
    "for i in range(1,int(len(results))):\n",
    "    df.append(h5ToDF(results[i]))"
   ]
  },
  {
   "cell_type": "code",
   "execution_count": 790,
   "metadata": {
    "ExecuteTime": {
     "end_time": "2018-06-10T20:03:28.387828Z",
     "start_time": "2018-06-10T20:03:28.384219Z"
    }
   },
   "outputs": [
    {
     "data": {
      "text/plain": [
       "146"
      ]
     },
     "execution_count": 790,
     "metadata": {},
     "output_type": "execute_result"
    }
   ],
   "source": [
    "len(results)"
   ]
  },
  {
   "cell_type": "code",
   "execution_count": null,
   "metadata": {},
   "outputs": [],
   "source": []
  },
  {
   "cell_type": "code",
   "execution_count": 24,
   "metadata": {
    "ExecuteTime": {
     "end_time": "2018-06-07T01:30:48.590624Z",
     "start_time": "2018-06-07T01:30:48.583846Z"
    }
   },
   "outputs": [],
   "source": [
    "df['co2ppm'] = [x*10**6 for x in df['co2ppm']]"
   ]
  },
  {
   "cell_type": "code",
   "execution_count": 28,
   "metadata": {
    "ExecuteTime": {
     "end_time": "2018-06-07T01:31:55.765803Z",
     "start_time": "2018-06-07T01:31:55.757549Z"
    }
   },
   "outputs": [],
   "source": [
    "df['co2_uncert'] = [float(x) for x in df['co2_uncert']]"
   ]
  },
  {
   "cell_type": "code",
   "execution_count": 542,
   "metadata": {
    "ExecuteTime": {
     "end_time": "2018-06-08T00:33:42.896924Z",
     "start_time": "2018-06-08T00:33:42.811019Z"
    }
   },
   "outputs": [],
   "source": [
    "df['date'] = [x.date() for x in df['date']]"
   ]
  },
  {
   "cell_type": "code",
   "execution_count": 791,
   "metadata": {
    "ExecuteTime": {
     "end_time": "2018-06-10T20:03:28.395063Z",
     "start_time": "2018-06-10T20:03:28.389732Z"
    }
   },
   "outputs": [],
   "source": [
    "newdf = df[(df['lat']>37)&(df['lat']<38)].head()"
   ]
  },
  {
   "cell_type": "code",
   "execution_count": 792,
   "metadata": {
    "ExecuteTime": {
     "end_time": "2018-06-10T20:03:28.406327Z",
     "start_time": "2018-06-10T20:03:28.397415Z"
    }
   },
   "outputs": [
    {
     "data": {
      "text/html": [
       "<div>\n",
       "<style scoped>\n",
       "    .dataframe tbody tr th:only-of-type {\n",
       "        vertical-align: middle;\n",
       "    }\n",
       "\n",
       "    .dataframe tbody tr th {\n",
       "        vertical-align: top;\n",
       "    }\n",
       "\n",
       "    .dataframe thead th {\n",
       "        text-align: right;\n",
       "    }\n",
       "</style>\n",
       "<table border=\"1\" class=\"dataframe\">\n",
       "  <thead>\n",
       "    <tr style=\"text-align: right;\">\n",
       "      <th></th>\n",
       "      <th>co2_uncert</th>\n",
       "      <th>co2ppm</th>\n",
       "      <th>date</th>\n",
       "      <th>lat</th>\n",
       "      <th>long</th>\n",
       "    </tr>\n",
       "  </thead>\n",
       "  <tbody>\n",
       "  </tbody>\n",
       "</table>\n",
       "</div>"
      ],
      "text/plain": [
       "Empty DataFrame\n",
       "Columns: [co2_uncert, co2ppm, date, lat, long]\n",
       "Index: []"
      ]
     },
     "execution_count": 792,
     "metadata": {},
     "output_type": "execute_result"
    }
   ],
   "source": [
    "newdf[newdf['long']<-122]"
   ]
  },
  {
   "cell_type": "code",
   "execution_count": 793,
   "metadata": {
    "ExecuteTime": {
     "end_time": "2018-06-10T20:03:28.416800Z",
     "start_time": "2018-06-10T20:03:28.409150Z"
    }
   },
   "outputs": [
    {
     "data": {
      "text/html": [
       "<div>\n",
       "<style scoped>\n",
       "    .dataframe tbody tr th:only-of-type {\n",
       "        vertical-align: middle;\n",
       "    }\n",
       "\n",
       "    .dataframe tbody tr th {\n",
       "        vertical-align: top;\n",
       "    }\n",
       "\n",
       "    .dataframe thead th {\n",
       "        text-align: right;\n",
       "    }\n",
       "</style>\n",
       "<table border=\"1\" class=\"dataframe\">\n",
       "  <thead>\n",
       "    <tr style=\"text-align: right;\">\n",
       "      <th></th>\n",
       "      <th>co2_uncert</th>\n",
       "      <th>co2ppm</th>\n",
       "      <th>date</th>\n",
       "      <th>lat</th>\n",
       "      <th>long</th>\n",
       "    </tr>\n",
       "  </thead>\n",
       "  <tbody>\n",
       "  </tbody>\n",
       "</table>\n",
       "</div>"
      ],
      "text/plain": [
       "Empty DataFrame\n",
       "Columns: [co2_uncert, co2ppm, date, lat, long]\n",
       "Index: []"
      ]
     },
     "execution_count": 793,
     "metadata": {},
     "output_type": "execute_result"
    }
   ],
   "source": [
    "newdf"
   ]
  },
  {
   "cell_type": "code",
   "execution_count": null,
   "metadata": {},
   "outputs": [],
   "source": []
  },
  {
   "cell_type": "code",
   "execution_count": 794,
   "metadata": {
    "ExecuteTime": {
     "end_time": "2018-06-10T20:03:28.423335Z",
     "start_time": "2018-06-10T20:03:28.418782Z"
    }
   },
   "outputs": [
    {
     "data": {
      "text/plain": [
       "-114.09626007080078"
      ]
     },
     "execution_count": 794,
     "metadata": {},
     "output_type": "execute_result"
    }
   ],
   "source": [
    "min(df['long'])"
   ]
  },
  {
   "cell_type": "code",
   "execution_count": 551,
   "metadata": {
    "ExecuteTime": {
     "end_time": "2018-06-08T00:37:43.943066Z",
     "start_time": "2018-06-08T00:37:43.776994Z"
    }
   },
   "outputs": [],
   "source": [
    "\"\"\"#Writing a pickle file to save data\n",
    "import pickle\n",
    "with open('my_data.pkl', 'wb') as picklefile:\n",
    "    pickle.dump(df, picklefile)\"\"\""
   ]
  },
  {
   "cell_type": "code",
   "execution_count": 529,
   "metadata": {
    "ExecuteTime": {
     "end_time": "2018-06-08T00:26:39.888078Z",
     "start_time": "2018-06-08T00:26:39.860898Z"
    }
   },
   "outputs": [],
   "source": [
    "#reading in the list of tea dictionaries, each being by itself\n",
    "with open('my_data.pkl', 'rb') as picklefile:\n",
    "    df = pickle.load(picklefile)"
   ]
  },
  {
   "cell_type": "code",
   "execution_count": null,
   "metadata": {
    "ExecuteTime": {
     "end_time": "2018-06-06T21:05:26.517792Z",
     "start_time": "2018-06-06T20:57:32.392Z"
    }
   },
   "outputs": [],
   "source": [
    "#list(f['RetrievalGeometry']['retrieval_latitude_geoid'])"
   ]
  },
  {
   "cell_type": "markdown",
   "metadata": {
    "heading_collapsed": true
   },
   "source": [
    "## Web Scraping\n",
    "\n",
    "Pulling data from loopnet.com for areas where we can greenify citys (make them more environmentally friendly). "
   ]
  },
  {
   "cell_type": "code",
   "execution_count": 97,
   "metadata": {
    "ExecuteTime": {
     "end_time": "2018-06-06T21:08:33.939612Z",
     "start_time": "2018-06-06T21:08:33.936581Z"
    },
    "hidden": true
   },
   "outputs": [],
   "source": [
    "#initializing sites that I will pull from\n",
    "flexspace = 'http://www.loopnet.com/california/san-francisco_flex-space-for-sale/'\n",
    "land = 'http://www.loopnet.com/california/san-francisco_land-for-sale/'\n",
    "apts = 'http://www.loopnet.com/california/san-francisco_apartment-buildings-for-sale/'"
   ]
  },
  {
   "cell_type": "code",
   "execution_count": 98,
   "metadata": {
    "ExecuteTime": {
     "end_time": "2018-06-06T21:08:35.908180Z",
     "start_time": "2018-06-06T21:08:34.431577Z"
    },
    "hidden": true
   },
   "outputs": [],
   "source": [
    "response = rq.get(land)\n",
    "page = response.text\n",
    "reviewp = soup(page,\"lxml\")\n"
   ]
  },
  {
   "cell_type": "code",
   "execution_count": 99,
   "metadata": {
    "ExecuteTime": {
     "end_time": "2018-06-06T21:08:35.926690Z",
     "start_time": "2018-06-06T21:08:35.910250Z"
    },
    "hidden": true
   },
   "outputs": [
    {
     "data": {
      "text/plain": [
       "[<span class=\"listingTitle\">0.05 Acre Site for Proposed Apartments</span>,\n",
       " <span class=\"listingTitle\">1228 Folsom Street</span>,\n",
       " <span class=\"listingTitle\">1876 Oakdale Ave</span>,\n",
       " <span class=\"listingTitle\">1791 Mission Street</span>,\n",
       " <span class=\"listingTitle\">240 7th St</span>,\n",
       " <span class=\"listingTitle\">1924 Mission St</span>,\n",
       " <span class=\"listingTitle\">2435-2445 16th St</span>,\n",
       " <span class=\"listingTitle\">Topaz Way</span>,\n",
       " <span class=\"listingTitle\">Portfolio of 4 Properties</span>,\n",
       " <span class=\"listingTitle\">1234 Shoreline Hwy</span>,\n",
       " <span class=\"listingTitle\">81 Ervine St</span>,\n",
       " <span class=\"listingTitle\">OCTAVIA M+N</span>,\n",
       " <span class=\"listingTitle\">250 Church St</span>,\n",
       " <span class=\"listingTitle\">Mission and 22nd</span>]"
      ]
     },
     "execution_count": 99,
     "metadata": {},
     "output_type": "execute_result"
    }
   ],
   "source": [
    "reviewp.find_all(class_='listingTitle')"
   ]
  },
  {
   "cell_type": "code",
   "execution_count": null,
   "metadata": {
    "hidden": true
   },
   "outputs": [],
   "source": []
  },
  {
   "cell_type": "markdown",
   "metadata": {},
   "source": [
    "## Exploring\n",
    "\n",
    "Exploring the data, kicking out points that are wrong based on the error and other stats."
   ]
  },
  {
   "cell_type": "code",
   "execution_count": 654,
   "metadata": {
    "ExecuteTime": {
     "end_time": "2018-06-08T15:55:12.285399Z",
     "start_time": "2018-06-08T15:55:12.124022Z"
    }
   },
   "outputs": [],
   "source": [
    "#pulling in CO2 data\n",
    "with open('my_data.pkl', 'rb') as picklefile:\n",
    "    df = pickle.load(picklefile)"
   ]
  },
  {
   "cell_type": "code",
   "execution_count": 553,
   "metadata": {
    "ExecuteTime": {
     "end_time": "2018-06-08T00:37:53.692572Z",
     "start_time": "2018-06-08T00:37:53.678477Z"
    }
   },
   "outputs": [],
   "source": [
    "#pulling in climate data\n",
    "with open('climate_data.pkl', 'rb') as picklefile:\n",
    "    aq = pickle.load(picklefile)"
   ]
  },
  {
   "cell_type": "code",
   "execution_count": 554,
   "metadata": {
    "ExecuteTime": {
     "end_time": "2018-06-08T00:37:55.578510Z",
     "start_time": "2018-06-08T00:37:55.568037Z"
    }
   },
   "outputs": [
    {
     "data": {
      "text/html": [
       "<div>\n",
       "<style scoped>\n",
       "    .dataframe tbody tr th:only-of-type {\n",
       "        vertical-align: middle;\n",
       "    }\n",
       "\n",
       "    .dataframe tbody tr th {\n",
       "        vertical-align: top;\n",
       "    }\n",
       "\n",
       "    .dataframe thead th {\n",
       "        text-align: right;\n",
       "    }\n",
       "</style>\n",
       "<table border=\"1\" class=\"dataframe\">\n",
       "  <thead>\n",
       "    <tr style=\"text-align: right;\">\n",
       "      <th></th>\n",
       "      <th>co2_uncert</th>\n",
       "      <th>co2ppm</th>\n",
       "      <th>date</th>\n",
       "      <th>latlong</th>\n",
       "    </tr>\n",
       "  </thead>\n",
       "  <tbody>\n",
       "    <tr>\n",
       "      <th>0</th>\n",
       "      <td>0.886318</td>\n",
       "      <td>402.186939</td>\n",
       "      <td>2016-11-13</td>\n",
       "      <td>(-83.56647, 38.90449)</td>\n",
       "    </tr>\n",
       "    <tr>\n",
       "      <th>1</th>\n",
       "      <td>0.786782</td>\n",
       "      <td>398.468226</td>\n",
       "      <td>2016-11-13</td>\n",
       "      <td>(-83.59027, 39.013676)</td>\n",
       "    </tr>\n",
       "    <tr>\n",
       "      <th>2</th>\n",
       "      <td>0.780767</td>\n",
       "      <td>396.430114</td>\n",
       "      <td>2016-11-13</td>\n",
       "      <td>(-83.61452, 39.12222)</td>\n",
       "    </tr>\n",
       "    <tr>\n",
       "      <th>3</th>\n",
       "      <td>0.777430</td>\n",
       "      <td>398.074626</td>\n",
       "      <td>2016-11-13</td>\n",
       "      <td>(-83.46712, 38.238407)</td>\n",
       "    </tr>\n",
       "    <tr>\n",
       "      <th>4</th>\n",
       "      <td>0.799400</td>\n",
       "      <td>399.525161</td>\n",
       "      <td>2016-11-13</td>\n",
       "      <td>(-83.51127, 38.46135)</td>\n",
       "    </tr>\n",
       "  </tbody>\n",
       "</table>\n",
       "</div>"
      ],
      "text/plain": [
       "   co2_uncert      co2ppm        date                 latlong\n",
       "0    0.886318  402.186939  2016-11-13   (-83.56647, 38.90449)\n",
       "1    0.786782  398.468226  2016-11-13  (-83.59027, 39.013676)\n",
       "2    0.780767  396.430114  2016-11-13   (-83.61452, 39.12222)\n",
       "3    0.777430  398.074626  2016-11-13  (-83.46712, 38.238407)\n",
       "4    0.799400  399.525161  2016-11-13   (-83.51127, 38.46135)"
      ]
     },
     "execution_count": 554,
     "metadata": {},
     "output_type": "execute_result"
    }
   ],
   "source": [
    "df.head()"
   ]
  },
  {
   "cell_type": "code",
   "execution_count": 559,
   "metadata": {
    "ExecuteTime": {
     "end_time": "2018-06-08T00:50:59.256774Z",
     "start_time": "2018-06-08T00:50:59.251422Z"
    }
   },
   "outputs": [
    {
     "data": {
      "text/plain": [
       "array([datetime.date(2015, 1, 1), datetime.date(2015, 1, 2),\n",
       "       datetime.date(2015, 1, 3), ..., datetime.date(2018, 2, 27),\n",
       "       datetime.date(2018, 2, 28), datetime.date(2018, 1, 16)],\n",
       "      dtype=object)"
      ]
     },
     "execution_count": 559,
     "metadata": {},
     "output_type": "execute_result"
    }
   ],
   "source": [
    "aq['Date Local'].unique()"
   ]
  },
  {
   "cell_type": "code",
   "execution_count": 556,
   "metadata": {
    "ExecuteTime": {
     "end_time": "2018-06-08T00:50:27.352407Z",
     "start_time": "2018-06-08T00:50:27.344125Z"
    }
   },
   "outputs": [
    {
     "name": "stdout",
     "output_type": "stream",
     "text": [
      "Max: 13.534934623748995\n",
      "Min: 0.1912240037427182\n",
      "Average: 0.4512936642967768\n",
      "Median: 0.4234372852351953\n"
     ]
    }
   ],
   "source": [
    "print('Max: '+ str(max(df['co2_uncert'])))\n",
    "print('Min: ' + str(min(df['co2_uncert'])))\n",
    "print('Average: '+ str(np.average(df['co2_uncert'])))\n",
    "print('Median: '+ str(np.median(df['co2_uncert'])))"
   ]
  },
  {
   "cell_type": "code",
   "execution_count": 587,
   "metadata": {
    "ExecuteTime": {
     "end_time": "2018-06-08T01:07:09.019933Z",
     "start_time": "2018-06-08T01:07:09.013561Z"
    }
   },
   "outputs": [
    {
     "name": "stdout",
     "output_type": "stream",
     "text": [
      "Max: 56.083333\n",
      "Min: -3.4782610000000003\n",
      "Average: 9.242633459436668\n",
      "Median: 8.173912999999999\n"
     ]
    }
   ],
   "source": [
    "print('Max: '+ str(max(aq['Part Mean'])))\n",
    "print('Min: ' + str(min(aq['Part Mean'])))\n",
    "print('Average: '+ str(np.average(aq['Part Mean'])))\n",
    "print('Median: '+ str(np.median(aq['Part Mean'])))"
   ]
  },
  {
   "cell_type": "code",
   "execution_count": 579,
   "metadata": {
    "ExecuteTime": {
     "end_time": "2018-06-08T01:04:57.313597Z",
     "start_time": "2018-06-08T01:04:57.309237Z"
    }
   },
   "outputs": [
    {
     "data": {
      "text/plain": [
       "2.15"
      ]
     },
     "execution_count": 579,
     "metadata": {},
     "output_type": "execute_result"
    }
   ],
   "source": [
    "np.percentile(aq['SO Mean'], 99)"
   ]
  },
  {
   "cell_type": "code",
   "execution_count": 593,
   "metadata": {
    "ExecuteTime": {
     "end_time": "2018-06-08T01:09:15.787380Z",
     "start_time": "2018-06-08T01:09:15.773735Z"
    }
   },
   "outputs": [],
   "source": [
    "#Removing Outliers because of large error associated with the calculation\n",
    "df= (df[df['co2_uncert']<1.04])\n",
    "aq = aq[(aq['CO Mean']>0.05)]\n",
    "aq = aq[(aq['Oz Mean']>0.001)]\n",
    "aq = aq[(aq['Part Mean']>0) & (aq['Part Mean']<40)]\n",
    "aq = aq[(aq['SO Mean']>0.03) & (aq['SO Mean']<1)]"
   ]
  },
  {
   "cell_type": "code",
   "execution_count": 565,
   "metadata": {
    "ExecuteTime": {
     "end_time": "2018-06-08T00:56:48.111045Z",
     "start_time": "2018-06-08T00:56:48.106907Z"
    }
   },
   "outputs": [
    {
     "data": {
      "text/plain": [
       "datetime.date(2016, 11, 13)"
      ]
     },
     "execution_count": 565,
     "metadata": {},
     "output_type": "execute_result"
    }
   ],
   "source": [
    "df['date'][0]"
   ]
  },
  {
   "cell_type": "code",
   "execution_count": 567,
   "metadata": {
    "ExecuteTime": {
     "end_time": "2018-06-08T00:57:36.489847Z",
     "start_time": "2018-06-08T00:57:36.190405Z"
    }
   },
   "outputs": [
    {
     "data": {
      "text/plain": [
       "<matplotlib.collections.PathCollection at 0x1a205976d8>"
      ]
     },
     "execution_count": 567,
     "metadata": {},
     "output_type": "execute_result"
    },
    {
     "data": {
      "image/png": "[encoded data removed]",
      "text/plain": [
       "<matplotlib.figure.Figure at 0x1a1aebe828>"
      ]
     },
     "metadata": {},
     "output_type": "display_data"
    }
   ],
   "source": [
    "plt.scatter(df.index,df['co2ppm'])"
   ]
  },
  {
   "cell_type": "code",
   "execution_count": 568,
   "metadata": {
    "ExecuteTime": {
     "end_time": "2018-06-08T01:00:38.608582Z",
     "start_time": "2018-06-08T01:00:38.588287Z"
    }
   },
   "outputs": [
    {
     "data": {
      "text/html": [
       "<div>\n",
       "<style scoped>\n",
       "    .dataframe tbody tr th:only-of-type {\n",
       "        vertical-align: middle;\n",
       "    }\n",
       "\n",
       "    .dataframe tbody tr th {\n",
       "        vertical-align: top;\n",
       "    }\n",
       "\n",
       "    .dataframe thead th {\n",
       "        text-align: right;\n",
       "    }\n",
       "</style>\n",
       "<table border=\"1\" class=\"dataframe\">\n",
       "  <thead>\n",
       "    <tr style=\"text-align: right;\">\n",
       "      <th></th>\n",
       "      <th>Latitude</th>\n",
       "      <th>Longitude</th>\n",
       "      <th>Date Local</th>\n",
       "      <th>CO Mean</th>\n",
       "      <th>CO Max Value</th>\n",
       "      <th>CO Max Hour</th>\n",
       "      <th>Oz Mean</th>\n",
       "      <th>Oz Max Value</th>\n",
       "      <th>Oz Max Hour</th>\n",
       "      <th>SO Mean</th>\n",
       "      <th>SO Max Value</th>\n",
       "      <th>SO Max Hour</th>\n",
       "      <th>Part Mean</th>\n",
       "      <th>Part Max Value</th>\n",
       "      <th>Part Max Hour</th>\n",
       "      <th>AQI</th>\n",
       "      <th>Category</th>\n",
       "      <th>AQ Defining Parameter</th>\n",
       "    </tr>\n",
       "  </thead>\n",
       "  <tbody>\n",
       "    <tr>\n",
       "      <th>0</th>\n",
       "      <td>37.814781</td>\n",
       "      <td>-122.282347</td>\n",
       "      <td>2015-01-01</td>\n",
       "      <td>0.708696</td>\n",
       "      <td>2.2</td>\n",
       "      <td>21</td>\n",
       "      <td>0.015882</td>\n",
       "      <td>0.034</td>\n",
       "      <td>9</td>\n",
       "      <td>1.050000</td>\n",
       "      <td>1.5</td>\n",
       "      <td>16</td>\n",
       "      <td>13.0</td>\n",
       "      <td>35.0</td>\n",
       "      <td>21</td>\n",
       "      <td>61</td>\n",
       "      <td>Moderate</td>\n",
       "      <td>PM2.5</td>\n",
       "    </tr>\n",
       "    <tr>\n",
       "      <th>1</th>\n",
       "      <td>37.814781</td>\n",
       "      <td>-122.282347</td>\n",
       "      <td>2015-01-01</td>\n",
       "      <td>0.708696</td>\n",
       "      <td>2.2</td>\n",
       "      <td>21</td>\n",
       "      <td>0.015882</td>\n",
       "      <td>0.034</td>\n",
       "      <td>9</td>\n",
       "      <td>1.050000</td>\n",
       "      <td>1.5</td>\n",
       "      <td>16</td>\n",
       "      <td>13.0</td>\n",
       "      <td>13.0</td>\n",
       "      <td>0</td>\n",
       "      <td>61</td>\n",
       "      <td>Moderate</td>\n",
       "      <td>PM2.5</td>\n",
       "    </tr>\n",
       "    <tr>\n",
       "      <th>2</th>\n",
       "      <td>37.814781</td>\n",
       "      <td>-122.282347</td>\n",
       "      <td>2015-01-01</td>\n",
       "      <td>0.708696</td>\n",
       "      <td>2.2</td>\n",
       "      <td>21</td>\n",
       "      <td>0.015882</td>\n",
       "      <td>0.034</td>\n",
       "      <td>9</td>\n",
       "      <td>1.042857</td>\n",
       "      <td>1.4</td>\n",
       "      <td>23</td>\n",
       "      <td>13.0</td>\n",
       "      <td>35.0</td>\n",
       "      <td>21</td>\n",
       "      <td>61</td>\n",
       "      <td>Moderate</td>\n",
       "      <td>PM2.5</td>\n",
       "    </tr>\n",
       "    <tr>\n",
       "      <th>3</th>\n",
       "      <td>37.814781</td>\n",
       "      <td>-122.282347</td>\n",
       "      <td>2015-01-01</td>\n",
       "      <td>0.708696</td>\n",
       "      <td>2.2</td>\n",
       "      <td>21</td>\n",
       "      <td>0.015882</td>\n",
       "      <td>0.034</td>\n",
       "      <td>9</td>\n",
       "      <td>1.042857</td>\n",
       "      <td>1.4</td>\n",
       "      <td>23</td>\n",
       "      <td>13.0</td>\n",
       "      <td>13.0</td>\n",
       "      <td>0</td>\n",
       "      <td>61</td>\n",
       "      <td>Moderate</td>\n",
       "      <td>PM2.5</td>\n",
       "    </tr>\n",
       "    <tr>\n",
       "      <th>4</th>\n",
       "      <td>37.814781</td>\n",
       "      <td>-122.282347</td>\n",
       "      <td>2015-01-01</td>\n",
       "      <td>0.533333</td>\n",
       "      <td>1.3</td>\n",
       "      <td>23</td>\n",
       "      <td>0.015882</td>\n",
       "      <td>0.034</td>\n",
       "      <td>9</td>\n",
       "      <td>1.050000</td>\n",
       "      <td>1.5</td>\n",
       "      <td>16</td>\n",
       "      <td>13.0</td>\n",
       "      <td>35.0</td>\n",
       "      <td>21</td>\n",
       "      <td>61</td>\n",
       "      <td>Moderate</td>\n",
       "      <td>PM2.5</td>\n",
       "    </tr>\n",
       "  </tbody>\n",
       "</table>\n",
       "</div>"
      ],
      "text/plain": [
       "    Latitude   Longitude  Date Local   CO Mean  CO Max Value  CO Max Hour  \\\n",
       "0  37.814781 -122.282347  2015-01-01  0.708696           2.2           21   \n",
       "1  37.814781 -122.282347  2015-01-01  0.708696           2.2           21   \n",
       "2  37.814781 -122.282347  2015-01-01  0.708696           2.2           21   \n",
       "3  37.814781 -122.282347  2015-01-01  0.708696           2.2           21   \n",
       "4  37.814781 -122.282347  2015-01-01  0.533333           1.3           23   \n",
       "\n",
       "    Oz Mean  Oz Max Value  Oz Max Hour   SO Mean  SO Max Value  SO Max Hour  \\\n",
       "0  0.015882         0.034            9  1.050000           1.5           16   \n",
       "1  0.015882         0.034            9  1.050000           1.5           16   \n",
       "2  0.015882         0.034            9  1.042857           1.4           23   \n",
       "3  0.015882         0.034            9  1.042857           1.4           23   \n",
       "4  0.015882         0.034            9  1.050000           1.5           16   \n",
       "\n",
       "   Part Mean  Part Max Value  Part Max Hour  AQI  Category  \\\n",
       "0       13.0            35.0             21   61  Moderate   \n",
       "1       13.0            13.0              0   61  Moderate   \n",
       "2       13.0            35.0             21   61  Moderate   \n",
       "3       13.0            13.0              0   61  Moderate   \n",
       "4       13.0            35.0             21   61  Moderate   \n",
       "\n",
       "  AQ Defining Parameter  \n",
       "0                 PM2.5  \n",
       "1                 PM2.5  \n",
       "2                 PM2.5  \n",
       "3                 PM2.5  \n",
       "4                 PM2.5  "
      ]
     },
     "execution_count": 568,
     "metadata": {},
     "output_type": "execute_result"
    }
   ],
   "source": [
    "aq.head()\n"
   ]
  },
  {
   "cell_type": "code",
   "execution_count": null,
   "metadata": {},
   "outputs": [],
   "source": [
    "aq['latlong'] = [(x,y) for x,y in zip(list(aq['Latitude']), list(aq['Longitude']))]"
   ]
  },
  {
   "cell_type": "code",
   "execution_count": 592,
   "metadata": {
    "ExecuteTime": {
     "end_time": "2018-06-08T01:09:02.442975Z",
     "start_time": "2018-06-08T01:09:02.225343Z"
    }
   },
   "outputs": [
    {
     "data": {
      "text/plain": [
       "<matplotlib.collections.PathCollection at 0x1a2af00748>"
      ]
     },
     "execution_count": 592,
     "metadata": {},
     "output_type": "execute_result"
    },
    {
     "data": {
      "image/png": "[encoded data removed]",
      "text/plain": [
       "<matplotlib.figure.Figure at 0x1a24af2588>"
      ]
     },
     "metadata": {},
     "output_type": "display_data"
    }
   ],
   "source": [
    "plt.scatter(aq.index,aq['Part Mean'])"
   ]
  },
  {
   "cell_type": "code",
   "execution_count": 594,
   "metadata": {
    "ExecuteTime": {
     "end_time": "2018-06-08T14:22:21.431862Z",
     "start_time": "2018-06-08T14:22:21.061102Z"
    }
   },
   "outputs": [
    {
     "data": {
      "text/plain": [
       "<matplotlib.collections.PathCollection at 0x1a0fb6d7b8>"
      ]
     },
     "execution_count": 594,
     "metadata": {},
     "output_type": "execute_result"
    },
    {
     "data": {
      "image/png": "[encoded data removed]",
      "text/plain": [
       "<matplotlib.figure.Figure at 0x1a111442e8>"
      ]
     },
     "metadata": {},
     "output_type": "display_data"
    }
   ],
   "source": [
    "plt.scatter(aq.index,aq['CO Mean'])"
   ]
  },
  {
   "cell_type": "code",
   "execution_count": 799,
   "metadata": {
    "ExecuteTime": {
     "end_time": "2018-06-10T22:31:29.084872Z",
     "start_time": "2018-06-10T22:31:29.055798Z"
    }
   },
   "outputs": [
    {
     "data": {
      "text/html": [
       "<div>\n",
       "<style scoped>\n",
       "    .dataframe tbody tr th:only-of-type {\n",
       "        vertical-align: middle;\n",
       "    }\n",
       "\n",
       "    .dataframe tbody tr th {\n",
       "        vertical-align: top;\n",
       "    }\n",
       "\n",
       "    .dataframe thead th {\n",
       "        text-align: right;\n",
       "    }\n",
       "</style>\n",
       "<table border=\"1\" class=\"dataframe\">\n",
       "  <thead>\n",
       "    <tr style=\"text-align: right;\">\n",
       "      <th></th>\n",
       "      <th>Latitude</th>\n",
       "      <th>Longitude</th>\n",
       "      <th>Date Local</th>\n",
       "      <th>CO Mean</th>\n",
       "      <th>CO Max Value</th>\n",
       "      <th>CO Max Hour</th>\n",
       "      <th>Oz Mean</th>\n",
       "      <th>Oz Max Value</th>\n",
       "      <th>Oz Max Hour</th>\n",
       "      <th>SO Mean</th>\n",
       "      <th>SO Max Value</th>\n",
       "      <th>SO Max Hour</th>\n",
       "      <th>Part Mean</th>\n",
       "      <th>Part Max Value</th>\n",
       "      <th>Part Max Hour</th>\n",
       "      <th>AQI</th>\n",
       "      <th>Category</th>\n",
       "      <th>AQ Defining Parameter</th>\n",
       "    </tr>\n",
       "  </thead>\n",
       "  <tbody>\n",
       "    <tr>\n",
       "      <th>72</th>\n",
       "      <td>37.814781</td>\n",
       "      <td>-122.282347</td>\n",
       "      <td>2015-01-10</td>\n",
       "      <td>0.565217</td>\n",
       "      <td>1.3</td>\n",
       "      <td>4</td>\n",
       "      <td>0.008118</td>\n",
       "      <td>0.016</td>\n",
       "      <td>9</td>\n",
       "      <td>0.913636</td>\n",
       "      <td>2.4</td>\n",
       "      <td>15</td>\n",
       "      <td>17.458333</td>\n",
       "      <td>25.0</td>\n",
       "      <td>2</td>\n",
       "      <td>72</td>\n",
       "      <td>Moderate</td>\n",
       "      <td>PM2.5</td>\n",
       "    </tr>\n",
       "    <tr>\n",
       "      <th>73</th>\n",
       "      <td>37.814781</td>\n",
       "      <td>-122.282347</td>\n",
       "      <td>2015-01-10</td>\n",
       "      <td>0.565217</td>\n",
       "      <td>1.3</td>\n",
       "      <td>4</td>\n",
       "      <td>0.008118</td>\n",
       "      <td>0.016</td>\n",
       "      <td>9</td>\n",
       "      <td>0.913636</td>\n",
       "      <td>2.4</td>\n",
       "      <td>15</td>\n",
       "      <td>17.400000</td>\n",
       "      <td>17.4</td>\n",
       "      <td>0</td>\n",
       "      <td>72</td>\n",
       "      <td>Moderate</td>\n",
       "      <td>PM2.5</td>\n",
       "    </tr>\n",
       "    <tr>\n",
       "      <th>74</th>\n",
       "      <td>37.814781</td>\n",
       "      <td>-122.282347</td>\n",
       "      <td>2015-01-10</td>\n",
       "      <td>0.565217</td>\n",
       "      <td>1.3</td>\n",
       "      <td>4</td>\n",
       "      <td>0.008118</td>\n",
       "      <td>0.016</td>\n",
       "      <td>9</td>\n",
       "      <td>0.866667</td>\n",
       "      <td>1.4</td>\n",
       "      <td>14</td>\n",
       "      <td>17.458333</td>\n",
       "      <td>25.0</td>\n",
       "      <td>2</td>\n",
       "      <td>72</td>\n",
       "      <td>Moderate</td>\n",
       "      <td>PM2.5</td>\n",
       "    </tr>\n",
       "    <tr>\n",
       "      <th>75</th>\n",
       "      <td>37.814781</td>\n",
       "      <td>-122.282347</td>\n",
       "      <td>2015-01-10</td>\n",
       "      <td>0.565217</td>\n",
       "      <td>1.3</td>\n",
       "      <td>4</td>\n",
       "      <td>0.008118</td>\n",
       "      <td>0.016</td>\n",
       "      <td>9</td>\n",
       "      <td>0.866667</td>\n",
       "      <td>1.4</td>\n",
       "      <td>14</td>\n",
       "      <td>17.400000</td>\n",
       "      <td>17.4</td>\n",
       "      <td>0</td>\n",
       "      <td>72</td>\n",
       "      <td>Moderate</td>\n",
       "      <td>PM2.5</td>\n",
       "    </tr>\n",
       "    <tr>\n",
       "      <th>76</th>\n",
       "      <td>37.814781</td>\n",
       "      <td>-122.282347</td>\n",
       "      <td>2015-01-10</td>\n",
       "      <td>0.579167</td>\n",
       "      <td>1.0</td>\n",
       "      <td>5</td>\n",
       "      <td>0.008118</td>\n",
       "      <td>0.016</td>\n",
       "      <td>9</td>\n",
       "      <td>0.913636</td>\n",
       "      <td>2.4</td>\n",
       "      <td>15</td>\n",
       "      <td>17.458333</td>\n",
       "      <td>25.0</td>\n",
       "      <td>2</td>\n",
       "      <td>72</td>\n",
       "      <td>Moderate</td>\n",
       "      <td>PM2.5</td>\n",
       "    </tr>\n",
       "  </tbody>\n",
       "</table>\n",
       "</div>"
      ],
      "text/plain": [
       "     Latitude   Longitude  Date Local   CO Mean  CO Max Value  CO Max Hour  \\\n",
       "72  37.814781 -122.282347  2015-01-10  0.565217           1.3            4   \n",
       "73  37.814781 -122.282347  2015-01-10  0.565217           1.3            4   \n",
       "74  37.814781 -122.282347  2015-01-10  0.565217           1.3            4   \n",
       "75  37.814781 -122.282347  2015-01-10  0.565217           1.3            4   \n",
       "76  37.814781 -122.282347  2015-01-10  0.579167           1.0            5   \n",
       "\n",
       "     Oz Mean  Oz Max Value  Oz Max Hour   SO Mean  SO Max Value  SO Max Hour  \\\n",
       "72  0.008118         0.016            9  0.913636           2.4           15   \n",
       "73  0.008118         0.016            9  0.913636           2.4           15   \n",
       "74  0.008118         0.016            9  0.866667           1.4           14   \n",
       "75  0.008118         0.016            9  0.866667           1.4           14   \n",
       "76  0.008118         0.016            9  0.913636           2.4           15   \n",
       "\n",
       "    Part Mean  Part Max Value  Part Max Hour  AQI  Category  \\\n",
       "72  17.458333            25.0              2   72  Moderate   \n",
       "73  17.400000            17.4              0   72  Moderate   \n",
       "74  17.458333            25.0              2   72  Moderate   \n",
       "75  17.400000            17.4              0   72  Moderate   \n",
       "76  17.458333            25.0              2   72  Moderate   \n",
       "\n",
       "   AQ Defining Parameter  \n",
       "72                 PM2.5  \n",
       "73                 PM2.5  \n",
       "74                 PM2.5  \n",
       "75                 PM2.5  \n",
       "76                 PM2.5  "
      ]
     },
     "execution_count": 799,
     "metadata": {},
     "output_type": "execute_result"
    }
   ],
   "source": [
    "          [(i,np.avg(aq[aq['Date Local']== x])) for x in aq['Date Local'].unique()]"
   ]
  },
  {
   "cell_type": "code",
   "execution_count": 798,
   "metadata": {
    "ExecuteTime": {
     "end_time": "2018-06-10T22:25:47.412980Z",
     "start_time": "2018-06-10T22:25:47.401981Z"
    }
   },
   "outputs": [
    {
     "data": {
      "text/plain": [
       "72            NaN\n",
       "73       0.000000\n",
       "74       0.000000\n",
       "75       0.000000\n",
       "76       0.013950\n",
       "77       0.000000\n",
       "78       0.000000\n",
       "79       0.000000\n",
       "80      -0.013950\n",
       "81       0.000000\n",
       "82       0.000000\n",
       "83       0.000000\n",
       "84       0.038950\n",
       "85       0.000000\n",
       "86       0.000000\n",
       "87       0.000000\n",
       "104      0.174094\n",
       "105      0.000000\n",
       "106      0.000000\n",
       "107      0.000000\n",
       "108      0.050906\n",
       "109      0.000000\n",
       "110      0.000000\n",
       "111      0.000000\n",
       "136     -0.376993\n",
       "137      0.000000\n",
       "138      0.000000\n",
       "139      0.000000\n",
       "140      0.026993\n",
       "141      0.000000\n",
       "           ...   \n",
       "17326    0.000000\n",
       "17327    0.000000\n",
       "17328   -0.005797\n",
       "17329    0.000000\n",
       "17330    0.000000\n",
       "17331    0.000000\n",
       "17348    0.079710\n",
       "17349    0.000000\n",
       "17350    0.000000\n",
       "17351    0.000000\n",
       "17352   -0.013043\n",
       "17353    0.000000\n",
       "17354    0.000000\n",
       "17355    0.000000\n",
       "17356    0.026087\n",
       "17357    0.000000\n",
       "17358    0.000000\n",
       "17359    0.000000\n",
       "17360   -0.005254\n",
       "17361    0.000000\n",
       "17362    0.000000\n",
       "17363    0.000000\n",
       "17364    0.044384\n",
       "17365    0.000000\n",
       "17366    0.000000\n",
       "17367    0.000000\n",
       "17368   -0.031884\n",
       "17369    0.000000\n",
       "17370    0.000000\n",
       "17371    0.000000\n",
       "Name: CO Mean, Length: 11742, dtype: float64"
      ]
     },
     "execution_count": 798,
     "metadata": {},
     "output_type": "execute_result"
    }
   ],
   "source": [
    "aq['CO Mean'].diff()"
   ]
  },
  {
   "cell_type": "code",
   "execution_count": null,
   "metadata": {},
   "outputs": [],
   "source": [
    "#creating a function to find out if the data is stationary\n",
    "import statsmodels.tsa.stattools as ts\n",
    "def dftest(timeseries):\n",
    "    dftest = ts.adfuller(timeseries, autolag='AIC')\n",
    "    dfoutput = pd.Series(dftest[0:4], index = ['Test Stat', 'p-value', 'Lags Used', 'Observations USed'])\n",
    "    for key, value in dftest[4].items():\n",
    "        dfoutput['Critical Value (%s)'%key]=value\n",
    "    print(dfoutput)\n",
    "    rolmean = pd.rolling_mean(timeseries, window = 12)\n",
    "    rolstd = rolling_std(timeseries, window=12)\n",
    "    \n",
    "    #Plotting the rolling statistics\n",
    "    orig = plt.plot(timeseries, color='black' label='Original')\n",
    "    mean = plt.plot(rolmean, color='blue', label='Rolling Mean')\n",
    "    std = plt.plot(rolstd, color='red', label = 'Rolling Std')\n",
    "    plt.legend()\n",
    "    plt.title('Rolling Mean and Standard Deviation')\n",
    "    plt.show(block=False);\n",
    "    "
   ]
  },
  {
   "cell_type": "code",
   "execution_count": null,
   "metadata": {},
   "outputs": [],
   "source": [
    "#helper function to visualize \n",
    "import statsmodels.tsa.api as smt\n",
    "\n",
    "def plots(data, lags= None):\n",
    "    layout =abs (1,3)\n",
    "    raw = plt.subplot2grid(layout, (0,0))\n",
    "    acf = plt.subplot2grid(layout, (0,1))\n",
    "    pacf = plt.subplot2grid(layout, (0,2))\n",
    "    \n",
    "    data.plot(ax=raw)\n",
    "    smt.graphics.plot(data, lags=lags, ax =acf)\n",
    "    smt.graphics.plot(data, lags=lags, ax =pacf)\n",
    "    sns.despine()\n",
    "    plt.tight_layout();"
   ]
  },
  {
   "cell_type": "code",
   "execution_count": null,
   "metadata": {},
   "outputs": [],
   "source": [
    "plots(aq['CO Mean', lags =75)"
   ]
  },
  {
   "cell_type": "code",
   "execution_count": 797,
   "metadata": {
    "ExecuteTime": {
     "end_time": "2018-06-10T22:25:24.975128Z",
     "start_time": "2018-06-10T22:25:24.817677Z"
    }
   },
   "outputs": [
    {
     "data": {
      "text/plain": [
       "[<matplotlib.lines.Line2D at 0x1056a5978>]"
      ]
     },
     "execution_count": 797,
     "metadata": {},
     "output_type": "execute_result"
    },
    {
     "data": {
      "image/png": "[encoded data removed]",
      "text/plain": [
       "<matplotlib.figure.Figure at 0x1a15129ef0>"
      ]
     },
     "metadata": {},
     "output_type": "display_data"
    }
   ],
   "source": [
    "\n",
    "plt.plot(aq['CO Mean']);"
   ]
  },
  {
   "cell_type": "markdown",
   "metadata": {},
   "source": [
    "# Distribution Prediction\n",
    "\n",
    "Training a model to predict the distribution of other AQ factors in the air.  I will then cluster it all together in the next section, to find large (or larger) concentrations of the factors."
   ]
  },
  {
   "cell_type": "code",
   "execution_count": null,
   "metadata": {},
   "outputs": [],
   "source": [
    "from sklearn.model_selection import train_test_split"
   ]
  },
  {
   "cell_type": "code",
   "execution_count": null,
   "metadata": {},
   "outputs": [],
   "source": [
    "X = aq[['Latitue', 'Longitude', 'CO Mean', 'SO Mean', 'Part Mean', 'Oz Mean']]\n",
    "y = df[df['latlong'].isin(list(aq['latlong']))]['co2ppm']"
   ]
  },
  {
   "cell_type": "code",
   "execution_count": null,
   "metadata": {},
   "outputs": [],
   "source": [
    "from sklearn.naive_bayes import GaussianNB\n",
    "gnb = GaussianNB()\n",
    "y_pred = gnb.fit(iris.data, iris.target)"
   ]
  },
  {
   "cell_type": "code",
   "execution_count": null,
   "metadata": {},
   "outputs": [],
   "source": []
  },
  {
   "cell_type": "code",
   "execution_count": null,
   "metadata": {},
   "outputs": [],
   "source": []
  },
  {
   "cell_type": "code",
   "execution_count": null,
   "metadata": {},
   "outputs": [],
   "source": []
  },
  {
   "cell_type": "code",
   "execution_count": null,
   "metadata": {},
   "outputs": [],
   "source": []
  },
  {
   "cell_type": "code",
   "execution_count": null,
   "metadata": {},
   "outputs": [],
   "source": []
  },
  {
   "cell_type": "code",
   "execution_count": null,
   "metadata": {},
   "outputs": [],
   "source": []
  },
  {
   "cell_type": "markdown",
   "metadata": {},
   "source": [
    "# Clustering\n",
    "\n",
    "Now that I am done with the EDA and data cleaning, I am goign to cluster the air quality data."
   ]
  },
  {
   "cell_type": "code",
   "execution_count": 759,
   "metadata": {
    "ExecuteTime": {
     "end_time": "2018-06-10T15:20:32.953371Z",
     "start_time": "2018-06-10T15:20:32.937090Z"
    }
   },
   "outputs": [],
   "source": [
    "from sklearn.cluster import KMeans, MiniBatchKMeans\n",
    "from sklearn.cluster import KMeans\n",
    "from sklearn.utils import shuffle\n",
    "from sklearn import preprocessing\n",
    "from sklearn import metrics\n",
    "from sklearn.metrics.pairwise import euclidean_distances\n",
    "from sklearn.metrics import pairwise_distances\n",
    "from sklearn.metrics import silhouette_score\n"
   ]
  },
  {
   "cell_type": "code",
   "execution_count": 761,
   "metadata": {
    "ExecuteTime": {
     "end_time": "2018-06-10T15:20:51.690863Z",
     "start_time": "2018-06-10T15:20:51.687015Z"
    }
   },
   "outputs": [],
   "source": [
    "clusterdf = aq[['CO Mean', 'SO Mean', 'Part Mean', 'Oz Mean']]"
   ]
  },
  {
   "cell_type": "code",
   "execution_count": 766,
   "metadata": {
    "ExecuteTime": {
     "end_time": "2018-06-10T15:25:43.951611Z",
     "start_time": "2018-06-10T15:25:43.945516Z"
    }
   },
   "outputs": [
    {
     "data": {
      "text/plain": [
       "2751.600271664947"
      ]
     },
     "execution_count": 766,
     "metadata": {},
     "output_type": "execute_result"
    }
   ],
   "source": [
    "km.inertia_"
   ]
  },
  {
   "cell_type": "code",
   "execution_count": 795,
   "metadata": {
    "ExecuteTime": {
     "end_time": "2018-06-10T22:24:20.956764Z",
     "start_time": "2018-06-10T22:22:24.337937Z"
    }
   },
   "outputs": [
    {
     "data": {
      "image/png": "[encoded data removed]",
      "text/plain": [
       "<matplotlib.figure.Figure at 0x108dfb2b0>"
      ]
     },
     "metadata": {},
     "output_type": "display_data"
    }
   ],
   "source": [
    "Sil_coefs = []\n",
    "inertia = []\n",
    "for k in range(2,20):\n",
    "    km = KMeans(n_clusters = k)\n",
    "    km.fit(clusterdf)\n",
    "    labels = km.labels_\n",
    "    Sil_coefs.append(metrics.silhouette_score(clusterdf, labels, metric='euclidean'))\n",
    "    inertia.append(km.inertia_)\n",
    "fig, ax1 = plt.subplots(1,1, figsize=(15,5), sharex=True)\n",
    "k_clusters = range(2,20)\n",
    "ax1.plot(k_clusters, Sil_coefs)\n",
    "#inertia says 4 clusters, silhouette is about .51\n",
    "ax1.set_title('KMeans')\n",
    "ax1.set_xlabel('Number of clusters')\n",
    "ax1.set_ylabel('silhouette coefficient')\n",
    "plt.xticks(np.arange(2, 20, step=2));"
   ]
  },
  {
   "cell_type": "code",
   "execution_count": 783,
   "metadata": {
    "ExecuteTime": {
     "end_time": "2018-06-10T18:06:39.391052Z",
     "start_time": "2018-06-10T18:06:39.202505Z"
    }
   },
   "outputs": [
    {
     "data": {
      "text/plain": [
       "KMeans(algorithm='auto', copy_x=True, init='k-means++', max_iter=300,\n",
       "    n_clusters=4, n_init=10, n_jobs=1, precompute_distances='auto',\n",
       "    random_state=None, tol=0.0001, verbose=0)"
      ]
     },
     "execution_count": 783,
     "metadata": {},
     "output_type": "execute_result"
    }
   ],
   "source": [
    "km = KMeans(n_clusters = 4)\n",
    "km.fit(clusterdf)"
   ]
  },
  {
   "cell_type": "code",
   "execution_count": 784,
   "metadata": {
    "ExecuteTime": {
     "end_time": "2018-06-10T18:06:44.765472Z",
     "start_time": "2018-06-10T18:06:44.759507Z"
    }
   },
   "outputs": [],
   "source": [
    "mu_digits = km.cluster_centers_\n",
    "kmlabels = km.labels_"
   ]
  },
  {
   "cell_type": "code",
   "execution_count": 787,
   "metadata": {
    "ExecuteTime": {
     "end_time": "2018-06-10T18:07:43.865554Z",
     "start_time": "2018-06-10T18:07:43.860661Z"
    }
   },
   "outputs": [
    {
     "name": "stdout",
     "output_type": "stream",
     "text": [
      "11742\n",
      "11742\n"
     ]
    }
   ],
   "source": [
    "print(len(kmlabels))\n",
    "print(len(clusterdf))"
   ]
  },
  {
   "cell_type": "code",
   "execution_count": null,
   "metadata": {},
   "outputs": [],
   "source": []
  }
 ],
 "metadata": {
  "kernelspec": {
   "display_name": "Python 3",
   "language": "python",
   "name": "python3"
  },
  "language_info": {
   "codemirror_mode": {
    "name": "ipython",
    "version": 3
   },
   "file_extension": ".py",
   "mimetype": "text/x-python",
   "name": "python",
   "nbconvert_exporter": "python",
   "pygments_lexer": "ipython3",
   "version": "3.6.4"
  }
 },
 "nbformat": 4,
 "nbformat_minor": 2
}
