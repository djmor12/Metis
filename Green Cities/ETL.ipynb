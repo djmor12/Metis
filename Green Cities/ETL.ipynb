{
 "cells": [
  {
   "cell_type": "code",
   "execution_count": 95,
   "metadata": {
    "ExecuteTime": {
     "end_time": "2018-06-06T21:08:25.724093Z",
     "start_time": "2018-06-06T21:08:25.562677Z"
    }
   },
   "outputs": [],
   "source": [
    "import pandas as pd\n",
    "import numpy as np\n",
    "import os\n",
    "import re\n",
    "import pickle\n",
    "from bs4 import BeautifulSoup as soup\n",
    "import requests as rq\n",
    "import time"
   ]
  },
  {
   "cell_type": "markdown",
   "metadata": {},
   "source": [
    "# EDA"
   ]
  },
  {
   "cell_type": "markdown",
   "metadata": {},
   "source": [
    "## Pulling in Data\n",
    "\n",
    "The data collected is a mix of HDF5, csv and web scraped data about the Bay area.  The CSVs are for particle concentraions, HDF5s for CO2 ppm, and the web scraped data is for empty lot/apartments for sale in the San Fransisco."
   ]
  },
  {
   "cell_type": "code",
   "execution_count": 73,
   "metadata": {
    "ExecuteTime": {
     "end_time": "2018-06-06T20:52:18.567927Z",
     "start_time": "2018-06-06T20:52:18.561163Z"
    }
   },
   "outputs": [],
   "source": [
    "#starting off by reading in the csv files\n",
    "aqcsvs = []\n",
    "aqcsvs += ['airqualitycsvs/'+each for each in os.listdir('airqualitycsvs/') if each.endswith('.csv')]\n",
    "\n",
    "\n",
    "#getting all H5 files for the project\n",
    "results = []\n",
    "results += ['../../../../Downloads/'+each for each in os.listdir('../../../../Downloads/') if each.endswith('.h5')]"
   ]
  },
  {
   "cell_type": "code",
   "execution_count": 74,
   "metadata": {
    "ExecuteTime": {
     "end_time": "2018-06-06T20:52:19.717837Z",
     "start_time": "2018-06-06T20:52:19.714214Z"
    }
   },
   "outputs": [
    {
     "data": {
      "text/plain": [
       "['airqualitycsvs/annual_conc_by_monitor_2018.csv',\n",
       " 'airqualitycsvs/annual_conc_by_monitor_2017.csv',\n",
       " 'airqualitycsvs/annual_conc_by_monitor_2016.csv',\n",
       " 'airqualitycsvs/annual_conc_by_monitor_2014.csv',\n",
       " 'airqualitycsvs/annual_conc_by_monitor_2015.csv']"
      ]
     },
     "execution_count": 74,
     "metadata": {},
     "output_type": "execute_result"
    }
   ],
   "source": [
    "aqcsvs"
   ]
  },
  {
   "cell_type": "code",
   "execution_count": 80,
   "metadata": {
    "ExecuteTime": {
     "end_time": "2018-06-06T20:54:15.133234Z",
     "start_time": "2018-06-06T20:54:11.517965Z"
    }
   },
   "outputs": [],
   "source": [
    "aq= pd.read_csv(aqcsvs[0])\n",
    "for i in range(1,len(aqcsvs)):\n",
    "    aq.append(pd.read_csv(aqcsvs[i]))"
   ]
  },
  {
   "cell_type": "code",
   "execution_count": 82,
   "metadata": {
    "ExecuteTime": {
     "end_time": "2018-06-06T20:54:39.959271Z",
     "start_time": "2018-06-06T20:54:39.951153Z"
    }
   },
   "outputs": [],
   "source": [
    "#Filtering out unneed data\n",
    "aq = aq[aq['State Name']=='California']\n",
    "aq = aq[aq['CBSA Name']=='San Francisco-Oakland-Hayward, CA']\n",
    "aq.reset_index(drop=True,inplace=True)\n",
    "aq.drop(['State Code', 'County Code','State Name','City Name','County Name', 'Datum'], axis=1)"
   ]
  },
  {
   "cell_type": "code",
   "execution_count": 89,
   "metadata": {
    "ExecuteTime": {
     "end_time": "2018-06-06T20:56:43.899254Z",
     "start_time": "2018-06-06T20:56:43.873510Z"
    }
   },
   "outputs": [
    {
     "data": {
      "text/html": [
       "<div>\n",
       "<style scoped>\n",
       "    .dataframe tbody tr th:only-of-type {\n",
       "        vertical-align: middle;\n",
       "    }\n",
       "\n",
       "    .dataframe tbody tr th {\n",
       "        vertical-align: top;\n",
       "    }\n",
       "\n",
       "    .dataframe thead th {\n",
       "        text-align: right;\n",
       "    }\n",
       "</style>\n",
       "<table border=\"1\" class=\"dataframe\">\n",
       "  <thead>\n",
       "    <tr style=\"text-align: right;\">\n",
       "      <th></th>\n",
       "      <th>State Code</th>\n",
       "      <th>County Code</th>\n",
       "      <th>Site Num</th>\n",
       "      <th>Parameter Code</th>\n",
       "      <th>POC</th>\n",
       "      <th>Latitude</th>\n",
       "      <th>Longitude</th>\n",
       "      <th>Datum</th>\n",
       "      <th>Parameter Name</th>\n",
       "      <th>Sample Duration</th>\n",
       "      <th>...</th>\n",
       "      <th>75th Percentile</th>\n",
       "      <th>50th Percentile</th>\n",
       "      <th>10th Percentile</th>\n",
       "      <th>Local Site Name</th>\n",
       "      <th>Address</th>\n",
       "      <th>State Name</th>\n",
       "      <th>County Name</th>\n",
       "      <th>City Name</th>\n",
       "      <th>CBSA Name</th>\n",
       "      <th>Date of Last Change</th>\n",
       "    </tr>\n",
       "  </thead>\n",
       "  <tbody>\n",
       "    <tr>\n",
       "      <th>0</th>\n",
       "      <td>6</td>\n",
       "      <td>1</td>\n",
       "      <td>7</td>\n",
       "      <td>42601</td>\n",
       "      <td>1</td>\n",
       "      <td>37.687526</td>\n",
       "      <td>-121.784217</td>\n",
       "      <td>WGS84</td>\n",
       "      <td>Nitric oxide (NO)</td>\n",
       "      <td>1 HOUR</td>\n",
       "      <td>...</td>\n",
       "      <td>7.900</td>\n",
       "      <td>1.100</td>\n",
       "      <td>-0.100</td>\n",
       "      <td>Livermore</td>\n",
       "      <td>793 Rincon Ave.</td>\n",
       "      <td>California</td>\n",
       "      <td>Alameda</td>\n",
       "      <td>Livermore</td>\n",
       "      <td>San Francisco-Oakland-Hayward, CA</td>\n",
       "      <td>2018-04-04</td>\n",
       "    </tr>\n",
       "    <tr>\n",
       "      <th>1</th>\n",
       "      <td>6</td>\n",
       "      <td>1</td>\n",
       "      <td>7</td>\n",
       "      <td>42602</td>\n",
       "      <td>1</td>\n",
       "      <td>37.687526</td>\n",
       "      <td>-121.784217</td>\n",
       "      <td>WGS84</td>\n",
       "      <td>Nitrogen dioxide (NO2)</td>\n",
       "      <td>1 HOUR</td>\n",
       "      <td>...</td>\n",
       "      <td>28.200</td>\n",
       "      <td>24.500</td>\n",
       "      <td>14.600</td>\n",
       "      <td>Livermore</td>\n",
       "      <td>793 Rincon Ave.</td>\n",
       "      <td>California</td>\n",
       "      <td>Alameda</td>\n",
       "      <td>Livermore</td>\n",
       "      <td>San Francisco-Oakland-Hayward, CA</td>\n",
       "      <td>2018-04-04</td>\n",
       "    </tr>\n",
       "    <tr>\n",
       "      <th>2</th>\n",
       "      <td>6</td>\n",
       "      <td>1</td>\n",
       "      <td>7</td>\n",
       "      <td>42602</td>\n",
       "      <td>1</td>\n",
       "      <td>37.687526</td>\n",
       "      <td>-121.784217</td>\n",
       "      <td>WGS84</td>\n",
       "      <td>Nitrogen dioxide (NO2)</td>\n",
       "      <td>1 HOUR</td>\n",
       "      <td>...</td>\n",
       "      <td>18.700</td>\n",
       "      <td>10.200</td>\n",
       "      <td>2.800</td>\n",
       "      <td>Livermore</td>\n",
       "      <td>793 Rincon Ave.</td>\n",
       "      <td>California</td>\n",
       "      <td>Alameda</td>\n",
       "      <td>Livermore</td>\n",
       "      <td>San Francisco-Oakland-Hayward, CA</td>\n",
       "      <td>2018-04-04</td>\n",
       "    </tr>\n",
       "    <tr>\n",
       "      <th>3</th>\n",
       "      <td>6</td>\n",
       "      <td>1</td>\n",
       "      <td>7</td>\n",
       "      <td>42603</td>\n",
       "      <td>1</td>\n",
       "      <td>37.687526</td>\n",
       "      <td>-121.784217</td>\n",
       "      <td>WGS84</td>\n",
       "      <td>Oxides of nitrogen (NOx)</td>\n",
       "      <td>1 HOUR</td>\n",
       "      <td>...</td>\n",
       "      <td>28.700</td>\n",
       "      <td>11.600</td>\n",
       "      <td>3.000</td>\n",
       "      <td>Livermore</td>\n",
       "      <td>793 Rincon Ave.</td>\n",
       "      <td>California</td>\n",
       "      <td>Alameda</td>\n",
       "      <td>Livermore</td>\n",
       "      <td>San Francisco-Oakland-Hayward, CA</td>\n",
       "      <td>2018-04-04</td>\n",
       "    </tr>\n",
       "    <tr>\n",
       "      <th>4</th>\n",
       "      <td>6</td>\n",
       "      <td>1</td>\n",
       "      <td>7</td>\n",
       "      <td>43207</td>\n",
       "      <td>3</td>\n",
       "      <td>37.687526</td>\n",
       "      <td>-121.784217</td>\n",
       "      <td>WGS84</td>\n",
       "      <td>Freon 113</td>\n",
       "      <td>24 HOUR</td>\n",
       "      <td>...</td>\n",
       "      <td>0.148</td>\n",
       "      <td>0.144</td>\n",
       "      <td>0.128</td>\n",
       "      <td>Livermore</td>\n",
       "      <td>793 Rincon Ave.</td>\n",
       "      <td>California</td>\n",
       "      <td>Alameda</td>\n",
       "      <td>Livermore</td>\n",
       "      <td>San Francisco-Oakland-Hayward, CA</td>\n",
       "      <td>2018-05-10</td>\n",
       "    </tr>\n",
       "  </tbody>\n",
       "</table>\n",
       "<p>5 rows × 55 columns</p>\n",
       "</div>"
      ],
      "text/plain": [
       "   State Code  County Code  Site Num  Parameter Code  POC   Latitude  \\\n",
       "0           6            1         7           42601    1  37.687526   \n",
       "1           6            1         7           42602    1  37.687526   \n",
       "2           6            1         7           42602    1  37.687526   \n",
       "3           6            1         7           42603    1  37.687526   \n",
       "4           6            1         7           43207    3  37.687526   \n",
       "\n",
       "    Longitude  Datum            Parameter Name Sample Duration  \\\n",
       "0 -121.784217  WGS84         Nitric oxide (NO)          1 HOUR   \n",
       "1 -121.784217  WGS84    Nitrogen dioxide (NO2)          1 HOUR   \n",
       "2 -121.784217  WGS84    Nitrogen dioxide (NO2)          1 HOUR   \n",
       "3 -121.784217  WGS84  Oxides of nitrogen (NOx)          1 HOUR   \n",
       "4 -121.784217  WGS84                 Freon 113         24 HOUR   \n",
       "\n",
       "          ...          75th Percentile 50th Percentile 10th Percentile  \\\n",
       "0         ...                    7.900           1.100          -0.100   \n",
       "1         ...                   28.200          24.500          14.600   \n",
       "2         ...                   18.700          10.200           2.800   \n",
       "3         ...                   28.700          11.600           3.000   \n",
       "4         ...                    0.148           0.144           0.128   \n",
       "\n",
       "   Local Site Name          Address  State Name  County Name  City Name  \\\n",
       "0        Livermore  793 Rincon Ave.  California      Alameda  Livermore   \n",
       "1        Livermore  793 Rincon Ave.  California      Alameda  Livermore   \n",
       "2        Livermore  793 Rincon Ave.  California      Alameda  Livermore   \n",
       "3        Livermore  793 Rincon Ave.  California      Alameda  Livermore   \n",
       "4        Livermore  793 Rincon Ave.  California      Alameda  Livermore   \n",
       "\n",
       "                           CBSA Name  Date of Last Change  \n",
       "0  San Francisco-Oakland-Hayward, CA           2018-04-04  \n",
       "1  San Francisco-Oakland-Hayward, CA           2018-04-04  \n",
       "2  San Francisco-Oakland-Hayward, CA           2018-04-04  \n",
       "3  San Francisco-Oakland-Hayward, CA           2018-04-04  \n",
       "4  San Francisco-Oakland-Hayward, CA           2018-05-10  \n",
       "\n",
       "[5 rows x 55 columns]"
      ]
     },
     "execution_count": 89,
     "metadata": {},
     "output_type": "execute_result"
    }
   ],
   "source": [
    "aq.head()"
   ]
  },
  {
   "cell_type": "code",
   "execution_count": 102,
   "metadata": {
    "ExecuteTime": {
     "end_time": "2018-06-06T22:13:54.776215Z",
     "start_time": "2018-06-06T22:13:54.761099Z"
    }
   },
   "outputs": [],
   "source": [
    "def h5ToDF(file):\n",
    "    f = h5py.File(file, 'r')\n",
    "    date = [pd.to_datetime(str(x).replace('b\\'','').replace('\\'','')) for x in list(f['RetrievalHeader']['retrieval_time_string'])]\n",
    "    latlong = [(x,y) for x,y in zip(f['RetrievalGeometry']['retrieval_latitude_geoid'],f['RetrievalGeometry']['retrieval_longitude_geoid'])]\n",
    "    co2ppm = list(f['RetrievalResults']['xco2'])\n",
    "    xco2_uncert = list(f['RetrievalResults']['xco2_uncert'])\n",
    "    df = pd.DataFrame({'date':date,\n",
    "        'latlong': latlong,\n",
    "        'co2ppm': co2ppm,\n",
    "        'xco2_uncert': xco2_uncert\n",
    "    })\n",
    "    return df\n",
    "                                                                                    \n",
    "                                                                                    \n",
    "                                                                                    "
   ]
  },
  {
   "cell_type": "code",
   "execution_count": null,
   "metadata": {
    "ExecuteTime": {
     "start_time": "2018-06-06T22:15:12.226Z"
    }
   },
   "outputs": [],
   "source": [
    "df = f = h5py.File(results[0], 'r')\n",
    "date = [pd.to_datetime(str(x).replace('b\\'','').replace('\\'','')) for x in list(f['RetrievalHeader']['retrieval_time_string'])]\n",
    "latlong = [(x,y) for x,y in zip(f['RetrievalGeometry']['retrieval_latitude_geoid'],f['RetrievalGeometry']['retrieval_longitude_geoid'])]\n",
    "co2ppm = list(f['RetrievalResults']['xco2'])\n",
    "xco2_uncert = list(f['RetrievalResults']['xco2_uncert'])\n",
    "df = pd.DataFrame({'date':date,\n",
    "                'latlong': latlong,\n",
    "                'co2ppm': co2ppm,\n",
    "                'xco2_uncert': xco2_uncert})\n",
    "for i in range(1,len(results)):\n",
    "    df.append(h5ToDF(results[i]))"
   ]
  },
  {
   "cell_type": "code",
   "execution_count": null,
   "metadata": {
    "ExecuteTime": {
     "start_time": "2018-06-06T22:16:29.854Z"
    }
   },
   "outputs": [],
   "source": [
    "df.head()"
   ]
  },
  {
   "cell_type": "code",
   "execution_count": null,
   "metadata": {
    "ExecuteTime": {
     "start_time": "2018-06-06T22:16:30.637Z"
    }
   },
   "outputs": [],
   "source": [
    "#Writing a pickle file to save data\n",
    "import pickle\n",
    "with open('my_data.pkl', 'wb') as picklefile:\n",
    "    pickle.dump(df, picklefile)"
   ]
  },
  {
   "cell_type": "code",
   "execution_count": null,
   "metadata": {
    "ExecuteTime": {
     "end_time": "2018-06-06T21:05:26.517792Z",
     "start_time": "2018-06-06T20:57:32.392Z"
    }
   },
   "outputs": [],
   "source": [
    "#list(f['RetrievalGeometry']['retrieval_latitude_geoid'])"
   ]
  },
  {
   "cell_type": "markdown",
   "metadata": {},
   "source": [
    "## Web Scraping\n",
    "\n",
    "Pulling data from loopnet.com for areas where we can greenify citys (make them more environmentally friendly). "
   ]
  },
  {
   "cell_type": "code",
   "execution_count": 97,
   "metadata": {
    "ExecuteTime": {
     "end_time": "2018-06-06T21:08:33.939612Z",
     "start_time": "2018-06-06T21:08:33.936581Z"
    }
   },
   "outputs": [],
   "source": [
    "#initializing sites that I will pull from\n",
    "flexspace = 'http://www.loopnet.com/california/san-francisco_flex-space-for-sale/'\n",
    "land = 'http://www.loopnet.com/california/san-francisco_land-for-sale/'\n",
    "apts = 'http://www.loopnet.com/california/san-francisco_apartment-buildings-for-sale/'"
   ]
  },
  {
   "cell_type": "code",
   "execution_count": 98,
   "metadata": {
    "ExecuteTime": {
     "end_time": "2018-06-06T21:08:35.908180Z",
     "start_time": "2018-06-06T21:08:34.431577Z"
    }
   },
   "outputs": [],
   "source": [
    "response = rq.get(land)\n",
    "page = response.text\n",
    "reviewp = soup(page,\"lxml\")\n"
   ]
  },
  {
   "cell_type": "code",
   "execution_count": 99,
   "metadata": {
    "ExecuteTime": {
     "end_time": "2018-06-06T21:08:35.926690Z",
     "start_time": "2018-06-06T21:08:35.910250Z"
    }
   },
   "outputs": [
    {
     "data": {
      "text/plain": [
       "[<span class=\"listingTitle\">0.05 Acre Site for Proposed Apartments</span>,\n",
       " <span class=\"listingTitle\">1228 Folsom Street</span>,\n",
       " <span class=\"listingTitle\">1876 Oakdale Ave</span>,\n",
       " <span class=\"listingTitle\">1791 Mission Street</span>,\n",
       " <span class=\"listingTitle\">240 7th St</span>,\n",
       " <span class=\"listingTitle\">1924 Mission St</span>,\n",
       " <span class=\"listingTitle\">2435-2445 16th St</span>,\n",
       " <span class=\"listingTitle\">Topaz Way</span>,\n",
       " <span class=\"listingTitle\">Portfolio of 4 Properties</span>,\n",
       " <span class=\"listingTitle\">1234 Shoreline Hwy</span>,\n",
       " <span class=\"listingTitle\">81 Ervine St</span>,\n",
       " <span class=\"listingTitle\">OCTAVIA M+N</span>,\n",
       " <span class=\"listingTitle\">250 Church St</span>,\n",
       " <span class=\"listingTitle\">Mission and 22nd</span>]"
      ]
     },
     "execution_count": 99,
     "metadata": {},
     "output_type": "execute_result"
    }
   ],
   "source": [
    "reviewp.find_all(class_='listingTitle')"
   ]
  },
  {
   "cell_type": "code",
   "execution_count": null,
   "metadata": {},
   "outputs": [],
   "source": []
  },
  {
   "cell_type": "code",
   "execution_count": null,
   "metadata": {},
   "outputs": [],
   "source": []
  }
 ],
 "metadata": {
  "kernelspec": {
   "display_name": "Python 3",
   "language": "python",
   "name": "python3"
  },
  "language_info": {
   "codemirror_mode": {
    "name": "ipython",
    "version": 3
   },
   "file_extension": ".py",
   "mimetype": "text/x-python",
   "name": "python",
   "nbconvert_exporter": "python",
   "pygments_lexer": "ipython3",
   "version": "3.6.4"
  }
 },
 "nbformat": 4,
 "nbformat_minor": 2
}
