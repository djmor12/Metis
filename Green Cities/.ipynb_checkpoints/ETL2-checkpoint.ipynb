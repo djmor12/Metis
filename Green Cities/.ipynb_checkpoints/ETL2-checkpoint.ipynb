{
 "cells": [
  {
   "cell_type": "code",
   "execution_count": 1,
   "metadata": {
    "ExecuteTime": {
     "end_time": "2018-06-14T16:51:43.827520Z",
     "start_time": "2018-06-14T16:51:42.496444Z"
    }
   },
   "outputs": [
    {
     "name": "stderr",
     "output_type": "stream",
     "text": [
      "/anaconda3/lib/python3.6/site-packages/h5py/__init__.py:36: FutureWarning: Conversion of the second argument of issubdtype from `float` to `np.floating` is deprecated. In future, it will be treated as `np.float64 == np.dtype(float).type`.\n",
      "  from ._conv import register_converters as _register_converters\n"
     ]
    }
   ],
   "source": [
    "import pandas as pd\n",
    "import numpy as np\n",
    "import os\n",
    "import re\n",
    "import pickle\n",
    "from bs4 import BeautifulSoup as soup\n",
    "import requests as rq\n",
    "import time\n",
    "import h5py\n",
    "import scipy as sp\n",
    "import scipy.stats\n",
    "import datetime\n",
    "from datetime import date\n",
    "import matplotlib.pyplot as plt\n",
    "import seaborn as sns\n",
    "%matplotlib inline\n",
    "%config InlineBackend.figure_format = 'png'\n",
    "plt.rcParams['figure.dpi']= 500"
   ]
  },
  {
   "cell_type": "markdown",
   "metadata": {},
   "source": [
    "# EDA"
   ]
  },
  {
   "cell_type": "markdown",
   "metadata": {},
   "source": [
    "## Pulling in Data\n",
    "\n",
    "The data collected is a mix of HDF5, csv and web scraped data about the Bay area.  The CSVs are for particle concentraions, HDF5s for CO2 ppm, and the web scraped data is for empty lot/apartments for sale in the San Fransisco."
   ]
  },
  {
   "cell_type": "code",
   "execution_count": 2,
   "metadata": {
    "ExecuteTime": {
     "end_time": "2018-06-14T16:51:44.487789Z",
     "start_time": "2018-06-14T16:51:44.479001Z"
    }
   },
   "outputs": [],
   "source": [
    "#starting off by reading in the csv files\n",
    "aqcsvs = []\n",
    "aqcsvs += ['../../../../Documents/largecsvs/others/'+each for each in os.listdir('../../../../Documents/largecsvs/others/') if each.endswith('.csv')]\n",
    "\n",
    "nc = []\n",
    "nc += ['../../../../Documents/largecsvs/data/'+each for each in os.listdir('../../../../Documents/largecsvs/data/') if each.endswith('.nc')]\n",
    "\n",
    "part = []\n",
    "part += ['../../../../Documents/largecsvs/particle/'+each for each in os.listdir('../../../../Documents/largecsvs/particle/') if each.endswith('csv')]"
   ]
  },
  {
   "cell_type": "code",
   "execution_count": 3,
   "metadata": {
    "ExecuteTime": {
     "end_time": "2018-06-14T16:51:44.856916Z",
     "start_time": "2018-06-14T16:51:44.854297Z"
    }
   },
   "outputs": [],
   "source": [
    "# sorting CSVs so the are appended in order of oldest to most recent\n",
    "aqcsvs=sorted(aqcsvs)\n",
    "part=sorted(part)"
   ]
  },
  {
   "cell_type": "code",
   "execution_count": 4,
   "metadata": {
    "ExecuteTime": {
     "end_time": "2018-06-14T16:51:45.227990Z",
     "start_time": "2018-06-14T16:51:45.212952Z"
    }
   },
   "outputs": [],
   "source": [
    "#pulling in weather data from  \n",
    "weatherdf = pd.read_csv('weather/1367384.csv')"
   ]
  },
  {
   "cell_type": "code",
   "execution_count": 5,
   "metadata": {
    "ExecuteTime": {
     "end_time": "2018-06-14T16:51:45.492876Z",
     "start_time": "2018-06-14T16:51:45.486444Z"
    }
   },
   "outputs": [],
   "source": [
    "#dropping unnecessary columns and filling NaNs\n",
    "weatherdf.drop(['STATION', 'NAME','ELEVATION', 'SNWD', 'TOBS'], axis=1, inplace=True)\n",
    "weatherdf = weatherdf.fillna(0)"
   ]
  },
  {
   "cell_type": "code",
   "execution_count": 6,
   "metadata": {
    "ExecuteTime": {
     "end_time": "2018-06-14T16:51:45.765217Z",
     "start_time": "2018-06-14T16:51:45.749811Z"
    }
   },
   "outputs": [
    {
     "data": {
      "text/html": [
       "<div>\n",
       "<style scoped>\n",
       "    .dataframe tbody tr th:only-of-type {\n",
       "        vertical-align: middle;\n",
       "    }\n",
       "\n",
       "    .dataframe tbody tr th {\n",
       "        vertical-align: top;\n",
       "    }\n",
       "\n",
       "    .dataframe thead th {\n",
       "        text-align: right;\n",
       "    }\n",
       "</style>\n",
       "<table border=\"1\" class=\"dataframe\">\n",
       "  <thead>\n",
       "    <tr style=\"text-align: right;\">\n",
       "      <th></th>\n",
       "      <th>LATITUDE</th>\n",
       "      <th>LONGITUDE</th>\n",
       "      <th>DATE</th>\n",
       "      <th>PRCP</th>\n",
       "      <th>SNOW</th>\n",
       "      <th>TAVG</th>\n",
       "      <th>TMAX</th>\n",
       "      <th>TMIN</th>\n",
       "    </tr>\n",
       "  </thead>\n",
       "  <tbody>\n",
       "    <tr>\n",
       "      <th>0</th>\n",
       "      <td>37.7705</td>\n",
       "      <td>-122.4269</td>\n",
       "      <td>2014-01-01</td>\n",
       "      <td>0.0</td>\n",
       "      <td>0.0</td>\n",
       "      <td>0.0</td>\n",
       "      <td>63.0</td>\n",
       "      <td>44.0</td>\n",
       "    </tr>\n",
       "    <tr>\n",
       "      <th>1</th>\n",
       "      <td>37.7705</td>\n",
       "      <td>-122.4269</td>\n",
       "      <td>2014-01-02</td>\n",
       "      <td>0.0</td>\n",
       "      <td>0.0</td>\n",
       "      <td>0.0</td>\n",
       "      <td>63.0</td>\n",
       "      <td>48.0</td>\n",
       "    </tr>\n",
       "    <tr>\n",
       "      <th>2</th>\n",
       "      <td>37.7705</td>\n",
       "      <td>-122.4269</td>\n",
       "      <td>2014-01-03</td>\n",
       "      <td>0.0</td>\n",
       "      <td>0.0</td>\n",
       "      <td>0.0</td>\n",
       "      <td>64.0</td>\n",
       "      <td>49.0</td>\n",
       "    </tr>\n",
       "    <tr>\n",
       "      <th>3</th>\n",
       "      <td>37.7705</td>\n",
       "      <td>-122.4269</td>\n",
       "      <td>2014-01-04</td>\n",
       "      <td>0.0</td>\n",
       "      <td>0.0</td>\n",
       "      <td>0.0</td>\n",
       "      <td>66.0</td>\n",
       "      <td>46.0</td>\n",
       "    </tr>\n",
       "    <tr>\n",
       "      <th>4</th>\n",
       "      <td>37.7705</td>\n",
       "      <td>-122.4269</td>\n",
       "      <td>2014-01-05</td>\n",
       "      <td>0.0</td>\n",
       "      <td>0.0</td>\n",
       "      <td>0.0</td>\n",
       "      <td>66.0</td>\n",
       "      <td>48.0</td>\n",
       "    </tr>\n",
       "  </tbody>\n",
       "</table>\n",
       "</div>"
      ],
      "text/plain": [
       "   LATITUDE  LONGITUDE        DATE  PRCP  SNOW  TAVG  TMAX  TMIN\n",
       "0   37.7705  -122.4269  2014-01-01   0.0   0.0   0.0  63.0  44.0\n",
       "1   37.7705  -122.4269  2014-01-02   0.0   0.0   0.0  63.0  48.0\n",
       "2   37.7705  -122.4269  2014-01-03   0.0   0.0   0.0  64.0  49.0\n",
       "3   37.7705  -122.4269  2014-01-04   0.0   0.0   0.0  66.0  46.0\n",
       "4   37.7705  -122.4269  2014-01-05   0.0   0.0   0.0  66.0  48.0"
      ]
     },
     "execution_count": 6,
     "metadata": {},
     "output_type": "execute_result"
    }
   ],
   "source": [
    "weatherdf.head()"
   ]
  },
  {
   "cell_type": "code",
   "execution_count": 7,
   "metadata": {
    "ExecuteTime": {
     "end_time": "2018-06-14T16:51:46.058481Z",
     "start_time": "2018-06-14T16:51:46.055008Z"
    }
   },
   "outputs": [
    {
     "data": {
      "text/plain": [
       "'../../../../Documents/largecsvs/data/co2_wgc_surface-pfp_1_allvalid.nc'"
      ]
     },
     "execution_count": 7,
     "metadata": {},
     "output_type": "execute_result"
    }
   ],
   "source": [
    "nc[0]"
   ]
  },
  {
   "cell_type": "code",
   "execution_count": 8,
   "metadata": {
    "ExecuteTime": {
     "end_time": "2018-06-14T16:51:46.380096Z",
     "start_time": "2018-06-14T16:51:46.348992Z"
    }
   },
   "outputs": [],
   "source": [
    "#reading in .nc files from the file paths seen above\n",
    "from netCDF4 import Dataset\n",
    "inland = Dataset(nc[0])\n",
    "sfco2 = Dataset(nc[1])"
   ]
  },
  {
   "cell_type": "code",
   "execution_count": 9,
   "metadata": {
    "ExecuteTime": {
     "end_time": "2018-06-14T16:51:46.666851Z",
     "start_time": "2018-06-14T16:51:46.663256Z"
    }
   },
   "outputs": [
    {
     "data": {
      "text/plain": [
       "odict_keys(['obs', 'calendar_components', 'string_of_100chars'])"
      ]
     },
     "execution_count": 9,
     "metadata": {},
     "output_type": "execute_result"
    }
   ],
   "source": [
    "inland.dimensions.keys()"
   ]
  },
  {
   "cell_type": "code",
   "execution_count": 10,
   "metadata": {
    "ExecuteTime": {
     "end_time": "2018-06-14T16:51:46.970515Z",
     "start_time": "2018-06-14T16:51:46.966902Z"
    },
    "scrolled": true
   },
   "outputs": [
    {
     "data": {
      "text/plain": [
       "odict_keys(['time', 'time_decimal', 'time_components', 'solartime_components', 'value', 'latitude', 'longitude', 'altitude', 'obs_flag', 'obspack_id', 'model_enkf_flag', 'model_hqhr', 'model_r', 'model_bg', 'model_ff', 'model_ocean', 'model_bio', 'model_fires', 'assimilated', 'u', 'v', 'blh', 'q', 'temperature', 'pressure'])"
      ]
     },
     "execution_count": 10,
     "metadata": {},
     "output_type": "execute_result"
    }
   ],
   "source": [
    "inland.variables.keys()"
   ]
  },
  {
   "cell_type": "code",
   "execution_count": 11,
   "metadata": {
    "ExecuteTime": {
     "end_time": "2018-06-14T16:51:47.291084Z",
     "start_time": "2018-06-14T16:51:47.270982Z"
    },
    "scrolled": true
   },
   "outputs": [
    {
     "name": "stdout",
     "output_type": "stream",
     "text": [
      "time\n",
      "1193652232\n",
      "time_decimal\n",
      "2007.8258056640625\n",
      "time_components\n",
      "[2007 10 29 10 3 52]\n",
      "solartime_components\n",
      "[-- -- -- -- -- --]\n",
      "value\n",
      "0.00039306998951360583\n",
      "latitude\n",
      "37.75\n",
      "longitude\n",
      "-122.44999694824219\n",
      "altitude\n",
      "485.8500061035156\n",
      "obs_flag\n",
      "0\n",
      "obspack_id\n",
      "[b'o' b'b' b's' b'p' b'a' b'c' b'k' b'_' b'c' b'o' b'2' b'_' b'1' b'_'\n",
      " b'G' b'L' b'O' b'B' b'A' b'L' b'V' b'I' b'E' b'W' b'p' b'l' b'u' b's'\n",
      " b'_' b'v' b'3' b'.' b'1' b'_' b'2' b'0' b'1' b'7' -- b'1' b'0' -- b'1'\n",
      " b'8' b'~' b'c' b'o' b'2' b'_' b's' b't' b'r' b'_' b's' b'u' b'r' b'f'\n",
      " b'a' b'c' b'e' -- b'p' b'f' b'p' b'_' b'1' b'_' b'a' b'l' b'l' b'v' b'a'\n",
      " b'l' b'i' b'd' b'~' b'2' b'8' b'7' b'6' b'6' b'8' -- -- -- -- -- -- -- --\n",
      " -- -- -- -- -- -- -- -- -- --]\n",
      "model_enkf_flag\n",
      "0\n",
      "model_hqhr\n",
      "0.0\n",
      "model_r\n",
      "--\n",
      "model_bg\n",
      "0.0003682364185806364\n",
      "model_ff\n",
      "3.420780922169797e-05\n",
      "model_ocean\n",
      "-7.4847644100373145e-06\n",
      "model_bio\n",
      "-1.8208816982223652e-05\n",
      "model_fires\n",
      "8.222207725339103e-06\n",
      "assimilated\n",
      "0\n",
      "u\n",
      "7.087583065032959\n",
      "v\n",
      "-2.201594114303589\n",
      "blh\n",
      "100.0\n",
      "q\n",
      "0.0060217110440135\n",
      "temperature\n",
      "290.8692932128906\n",
      "pressure\n",
      "96972.4609375\n"
     ]
    }
   ],
   "source": [
    "for i in sfco2.variables.keys():\n",
    "    print(i)\n",
    "    print(sfco2[i][30])"
   ]
  },
  {
   "cell_type": "code",
   "execution_count": 12,
   "metadata": {
    "ExecuteTime": {
     "end_time": "2018-06-14T16:51:47.570669Z",
     "start_time": "2018-06-14T16:51:47.568049Z"
    }
   },
   "outputs": [],
   "source": [
    "var = inland.variables['time'].units"
   ]
  },
  {
   "cell_type": "code",
   "execution_count": 13,
   "metadata": {
    "ExecuteTime": {
     "end_time": "2018-06-14T16:51:47.852989Z",
     "start_time": "2018-06-14T16:51:47.837988Z"
    }
   },
   "outputs": [],
   "source": [
    "#function to pull all the CO2 data from the .nc files\n",
    "def CO2df(nc):\n",
    "    CO2time = []\n",
    "    cc = []\n",
    "    for y in np.array(nc.variables['time_components']):\n",
    "        q= [str(x) for x in y]\n",
    "        dt = pd.to_datetime(q[0]+', '+q[1]+', '+q[2])\n",
    "        CO2time.append(dt)   \n",
    "        cc.append(y)\n",
    "    latlong = [(x,y) for x,y in zip(np.array(nc.variables['latitude']),np.array(nc.variables['longitude']))]\n",
    "    values = [x*10**6 for x in np.array(nc.variables['value'])]\n",
    "    avalues = [x*10**6 for x in np.array(nc.variables['model_bg'])]\n",
    "    carbondf = pd.DataFrame({'Date':CO2time,\n",
    "                             'latlong':latlong,\n",
    "                             'CO2 ppm':values})\n",
    "    return carbondf"
   ]
  },
  {
   "cell_type": "code",
   "execution_count": 14,
   "metadata": {
    "ExecuteTime": {
     "end_time": "2018-06-14T16:51:49.736574Z",
     "start_time": "2018-06-14T16:51:48.164982Z"
    }
   },
   "outputs": [],
   "source": [
    "#carbondf is the CO2 from inland california near sacramento, sfcdf is CO@ in San Fransisco \n",
    "carbondf = CO2df(inland)\n",
    "sfcdf = CO2df(sfco2) \n"
   ]
  },
  {
   "cell_type": "code",
   "execution_count": 15,
   "metadata": {
    "ExecuteTime": {
     "end_time": "2018-06-14T16:51:49.748003Z",
     "start_time": "2018-06-14T16:51:49.738512Z"
    }
   },
   "outputs": [],
   "source": [
    "sfc = sfcdf[sfcdf['Date']>pd.to_datetime('2008, 1, 1')].drop_duplicates(['Date'])\n",
    "cardf = carbondf[carbondf['Date']>pd.to_datetime('2008, 1, 1')].drop_duplicates(['Date'])"
   ]
  },
  {
   "cell_type": "code",
   "execution_count": 16,
   "metadata": {
    "ExecuteTime": {
     "end_time": "2018-06-14T16:51:49.759189Z",
     "start_time": "2018-06-14T16:51:49.749842Z"
    }
   },
   "outputs": [
    {
     "data": {
      "text/html": [
       "<div>\n",
       "<style scoped>\n",
       "    .dataframe tbody tr th:only-of-type {\n",
       "        vertical-align: middle;\n",
       "    }\n",
       "\n",
       "    .dataframe tbody tr th {\n",
       "        vertical-align: top;\n",
       "    }\n",
       "\n",
       "    .dataframe thead th {\n",
       "        text-align: right;\n",
       "    }\n",
       "</style>\n",
       "<table border=\"1\" class=\"dataframe\">\n",
       "  <thead>\n",
       "    <tr style=\"text-align: right;\">\n",
       "      <th></th>\n",
       "      <th>CO2 ppm</th>\n",
       "      <th>Date</th>\n",
       "      <th>latlong</th>\n",
       "    </tr>\n",
       "  </thead>\n",
       "  <tbody>\n",
       "    <tr>\n",
       "      <th>134</th>\n",
       "      <td>397.260010</td>\n",
       "      <td>2008-01-02</td>\n",
       "      <td>(37.76, -122.45)</td>\n",
       "    </tr>\n",
       "    <tr>\n",
       "      <th>135</th>\n",
       "      <td>390.620000</td>\n",
       "      <td>2008-01-03</td>\n",
       "      <td>(37.76, -122.45)</td>\n",
       "    </tr>\n",
       "    <tr>\n",
       "      <th>137</th>\n",
       "      <td>390.169997</td>\n",
       "      <td>2008-01-04</td>\n",
       "      <td>(37.76, -122.45)</td>\n",
       "    </tr>\n",
       "    <tr>\n",
       "      <th>139</th>\n",
       "      <td>388.109998</td>\n",
       "      <td>2008-01-05</td>\n",
       "      <td>(37.76, -122.45)</td>\n",
       "    </tr>\n",
       "    <tr>\n",
       "      <th>140</th>\n",
       "      <td>388.410001</td>\n",
       "      <td>2008-01-06</td>\n",
       "      <td>(37.76, -122.45)</td>\n",
       "    </tr>\n",
       "  </tbody>\n",
       "</table>\n",
       "</div>"
      ],
      "text/plain": [
       "        CO2 ppm       Date           latlong\n",
       "134  397.260010 2008-01-02  (37.76, -122.45)\n",
       "135  390.620000 2008-01-03  (37.76, -122.45)\n",
       "137  390.169997 2008-01-04  (37.76, -122.45)\n",
       "139  388.109998 2008-01-05  (37.76, -122.45)\n",
       "140  388.410001 2008-01-06  (37.76, -122.45)"
      ]
     },
     "execution_count": 16,
     "metadata": {},
     "output_type": "execute_result"
    }
   ],
   "source": [
    "sfc.head()"
   ]
  },
  {
   "cell_type": "code",
   "execution_count": 17,
   "metadata": {
    "ExecuteTime": {
     "end_time": "2018-06-14T16:51:49.763664Z",
     "start_time": "2018-06-14T16:51:49.760791Z"
    }
   },
   "outputs": [
    {
     "data": {
      "text/plain": [
       "1659"
      ]
     },
     "execution_count": 17,
     "metadata": {},
     "output_type": "execute_result"
    }
   ],
   "source": [
    "len(cardf)"
   ]
  },
  {
   "cell_type": "code",
   "execution_count": 18,
   "metadata": {
    "ExecuteTime": {
     "end_time": "2018-06-14T16:51:49.774170Z",
     "start_time": "2018-06-14T16:51:49.765142Z"
    }
   },
   "outputs": [
    {
     "data": {
      "text/html": [
       "<div>\n",
       "<style scoped>\n",
       "    .dataframe tbody tr th:only-of-type {\n",
       "        vertical-align: middle;\n",
       "    }\n",
       "\n",
       "    .dataframe tbody tr th {\n",
       "        vertical-align: top;\n",
       "    }\n",
       "\n",
       "    .dataframe thead th {\n",
       "        text-align: right;\n",
       "    }\n",
       "</style>\n",
       "<table border=\"1\" class=\"dataframe\">\n",
       "  <thead>\n",
       "    <tr style=\"text-align: right;\">\n",
       "      <th></th>\n",
       "      <th>CO2 ppm</th>\n",
       "      <th>Date</th>\n",
       "      <th>latlong</th>\n",
       "    </tr>\n",
       "  </thead>\n",
       "  <tbody>\n",
       "    <tr>\n",
       "      <th>134</th>\n",
       "      <td>397.260010</td>\n",
       "      <td>2008-01-02</td>\n",
       "      <td>(37.76, -122.45)</td>\n",
       "    </tr>\n",
       "    <tr>\n",
       "      <th>135</th>\n",
       "      <td>390.620000</td>\n",
       "      <td>2008-01-03</td>\n",
       "      <td>(37.76, -122.45)</td>\n",
       "    </tr>\n",
       "    <tr>\n",
       "      <th>137</th>\n",
       "      <td>390.169997</td>\n",
       "      <td>2008-01-04</td>\n",
       "      <td>(37.76, -122.45)</td>\n",
       "    </tr>\n",
       "    <tr>\n",
       "      <th>139</th>\n",
       "      <td>388.109998</td>\n",
       "      <td>2008-01-05</td>\n",
       "      <td>(37.76, -122.45)</td>\n",
       "    </tr>\n",
       "    <tr>\n",
       "      <th>140</th>\n",
       "      <td>388.410001</td>\n",
       "      <td>2008-01-06</td>\n",
       "      <td>(37.76, -122.45)</td>\n",
       "    </tr>\n",
       "  </tbody>\n",
       "</table>\n",
       "</div>"
      ],
      "text/plain": [
       "        CO2 ppm       Date           latlong\n",
       "134  397.260010 2008-01-02  (37.76, -122.45)\n",
       "135  390.620000 2008-01-03  (37.76, -122.45)\n",
       "137  390.169997 2008-01-04  (37.76, -122.45)\n",
       "139  388.109998 2008-01-05  (37.76, -122.45)\n",
       "140  388.410001 2008-01-06  (37.76, -122.45)"
      ]
     },
     "execution_count": 18,
     "metadata": {},
     "output_type": "execute_result"
    }
   ],
   "source": [
    "sfc.head()"
   ]
  },
  {
   "cell_type": "code",
   "execution_count": 19,
   "metadata": {
    "ExecuteTime": {
     "end_time": "2018-06-14T16:51:49.778761Z",
     "start_time": "2018-06-14T16:51:49.775706Z"
    }
   },
   "outputs": [
    {
     "data": {
      "text/plain": [
       "['../../../../Documents/largecsvs/particle/Pdaily_88101_2008.csv',\n",
       " '../../../../Documents/largecsvs/particle/Pdaily_88101_2009.csv',\n",
       " '../../../../Documents/largecsvs/particle/Pdaily_88101_2010.csv',\n",
       " '../../../../Documents/largecsvs/particle/Pdaily_88101_2011.csv',\n",
       " '../../../../Documents/largecsvs/particle/Pdaily_88101_2012.csv',\n",
       " '../../../../Documents/largecsvs/particle/Pdaily_88101_2013.csv',\n",
       " '../../../../Documents/largecsvs/particle/Pdaily_88101_2014.csv',\n",
       " '../../../../Documents/largecsvs/particle/Pdaily_88101_2015.csv',\n",
       " '../../../../Documents/largecsvs/particle/Pdaily_88101_2016.csv',\n",
       " '../../../../Documents/largecsvs/particle/Pdaily_88101_2017.csv',\n",
       " '../../../../Documents/largecsvs/particle/Pdaily_88101_2018.csv']"
      ]
     },
     "execution_count": 19,
     "metadata": {},
     "output_type": "execute_result"
    }
   ],
   "source": [
    "part"
   ]
  },
  {
   "cell_type": "code",
   "execution_count": 20,
   "metadata": {
    "ExecuteTime": {
     "end_time": "2018-06-14T16:52:19.283944Z",
     "start_time": "2018-06-14T16:51:49.926801Z"
    }
   },
   "outputs": [
    {
     "name": "stderr",
     "output_type": "stream",
     "text": [
      "/anaconda3/lib/python3.6/site-packages/IPython/core/interactiveshell.py:2728: DtypeWarning: Columns (27) have mixed types. Specify dtype option on import or set low_memory=False.\n",
      "  interactivity=interactivity, compiler=compiler, result=result)\n"
     ]
    }
   ],
   "source": [
    "#Reading particle data and assigning is to dataframe pdf\n",
    "pdf=pd.read_csv(part[0])\n",
    "\n",
    "for i in range(1,len(part)):\n",
    "    temp = pd.read_csv(part[i])\n",
    "    pdf = pd.concat([pdf,temp], ignore_index=True)"
   ]
  },
  {
   "cell_type": "code",
   "execution_count": 21,
   "metadata": {
    "ExecuteTime": {
     "end_time": "2018-06-14T16:52:21.295480Z",
     "start_time": "2018-06-14T16:52:19.285784Z"
    }
   },
   "outputs": [],
   "source": [
    "#Filtering out unneed data from particle DF\n",
    "pdf = pdf[pdf['State Name']=='California']\n",
    "pdf = pdf[pdf['CBSA Name']=='San Francisco-Oakland-Hayward, CA']\n",
    "pdf = pdf[pdf['City Name'].isin(['San Francisco'])]\n",
    "pdf.drop(['State Code', 'County Code', 'Site Num', 'Parameter Code', 'POC', 'Datum', 'Sample Duration',\n",
    "       'Pollutant Standard', 'Units of Measure', 'Event Type',\n",
    "       'Observation Count', 'Observation Percent', 'AQI', 'Method Code', 'Method Name',\n",
    "       'Local Site Name', 'Address', 'State Name','City Name',\n",
    "       'CBSA Name', 'Date of Last Change'], axis=1, inplace=True)\n",
    "\n",
    "pdf.reset_index(drop=True,inplace=True)"
   ]
  },
  {
   "cell_type": "code",
   "execution_count": 22,
   "metadata": {
    "ExecuteTime": {
     "end_time": "2018-06-14T16:52:21.310700Z",
     "start_time": "2018-06-14T16:52:21.297366Z"
    },
    "scrolled": true
   },
   "outputs": [
    {
     "data": {
      "text/html": [
       "<div>\n",
       "<style scoped>\n",
       "    .dataframe tbody tr th:only-of-type {\n",
       "        vertical-align: middle;\n",
       "    }\n",
       "\n",
       "    .dataframe tbody tr th {\n",
       "        vertical-align: top;\n",
       "    }\n",
       "\n",
       "    .dataframe thead th {\n",
       "        text-align: right;\n",
       "    }\n",
       "</style>\n",
       "<table border=\"1\" class=\"dataframe\">\n",
       "  <thead>\n",
       "    <tr style=\"text-align: right;\">\n",
       "      <th></th>\n",
       "      <th>Latitude</th>\n",
       "      <th>Longitude</th>\n",
       "      <th>Parameter Name</th>\n",
       "      <th>Date Local</th>\n",
       "      <th>Arithmetic Mean</th>\n",
       "      <th>1st Max Value</th>\n",
       "      <th>1st Max Hour</th>\n",
       "      <th>County Name</th>\n",
       "    </tr>\n",
       "  </thead>\n",
       "  <tbody>\n",
       "    <tr>\n",
       "      <th>0</th>\n",
       "      <td>37.765946</td>\n",
       "      <td>-122.399044</td>\n",
       "      <td>PM2.5 - Local Conditions</td>\n",
       "      <td>2008-01-01</td>\n",
       "      <td>19.4</td>\n",
       "      <td>19.4</td>\n",
       "      <td>0</td>\n",
       "      <td>San Francisco</td>\n",
       "    </tr>\n",
       "    <tr>\n",
       "      <th>1</th>\n",
       "      <td>37.765946</td>\n",
       "      <td>-122.399044</td>\n",
       "      <td>PM2.5 - Local Conditions</td>\n",
       "      <td>2008-01-02</td>\n",
       "      <td>20.4</td>\n",
       "      <td>20.4</td>\n",
       "      <td>0</td>\n",
       "      <td>San Francisco</td>\n",
       "    </tr>\n",
       "    <tr>\n",
       "      <th>2</th>\n",
       "      <td>37.765946</td>\n",
       "      <td>-122.399044</td>\n",
       "      <td>PM2.5 - Local Conditions</td>\n",
       "      <td>2008-01-03</td>\n",
       "      <td>7.3</td>\n",
       "      <td>7.3</td>\n",
       "      <td>0</td>\n",
       "      <td>San Francisco</td>\n",
       "    </tr>\n",
       "    <tr>\n",
       "      <th>3</th>\n",
       "      <td>37.765946</td>\n",
       "      <td>-122.399044</td>\n",
       "      <td>PM2.5 - Local Conditions</td>\n",
       "      <td>2008-01-04</td>\n",
       "      <td>4.6</td>\n",
       "      <td>4.6</td>\n",
       "      <td>0</td>\n",
       "      <td>San Francisco</td>\n",
       "    </tr>\n",
       "    <tr>\n",
       "      <th>4</th>\n",
       "      <td>37.765946</td>\n",
       "      <td>-122.399044</td>\n",
       "      <td>PM2.5 - Local Conditions</td>\n",
       "      <td>2008-01-05</td>\n",
       "      <td>5.7</td>\n",
       "      <td>5.7</td>\n",
       "      <td>0</td>\n",
       "      <td>San Francisco</td>\n",
       "    </tr>\n",
       "  </tbody>\n",
       "</table>\n",
       "</div>"
      ],
      "text/plain": [
       "    Latitude   Longitude            Parameter Name  Date Local  \\\n",
       "0  37.765946 -122.399044  PM2.5 - Local Conditions  2008-01-01   \n",
       "1  37.765946 -122.399044  PM2.5 - Local Conditions  2008-01-02   \n",
       "2  37.765946 -122.399044  PM2.5 - Local Conditions  2008-01-03   \n",
       "3  37.765946 -122.399044  PM2.5 - Local Conditions  2008-01-04   \n",
       "4  37.765946 -122.399044  PM2.5 - Local Conditions  2008-01-05   \n",
       "\n",
       "   Arithmetic Mean  1st Max Value  1st Max Hour    County Name  \n",
       "0             19.4           19.4             0  San Francisco  \n",
       "1             20.4           20.4             0  San Francisco  \n",
       "2              7.3            7.3             0  San Francisco  \n",
       "3              4.6            4.6             0  San Francisco  \n",
       "4              5.7            5.7             0  San Francisco  "
      ]
     },
     "execution_count": 22,
     "metadata": {},
     "output_type": "execute_result"
    }
   ],
   "source": [
    "pdf.head()"
   ]
  },
  {
   "cell_type": "code",
   "execution_count": 75,
   "metadata": {
    "ExecuteTime": {
     "end_time": "2018-06-14T17:11:48.476525Z",
     "start_time": "2018-06-14T17:11:48.472734Z"
    }
   },
   "outputs": [
    {
     "data": {
      "text/plain": [
       "'../../../../Documents/largecsvs/others/daily_aqi_by_county_2008.csv'"
      ]
     },
     "execution_count": 75,
     "metadata": {},
     "output_type": "execute_result"
    }
   ],
   "source": [
    "aqcsvs[22]"
   ]
  },
  {
   "cell_type": "code",
   "execution_count": 76,
   "metadata": {
    "ExecuteTime": {
     "end_time": "2018-06-14T17:13:19.127657Z",
     "start_time": "2018-06-14T17:11:48.950681Z"
    },
    "code_folding": []
   },
   "outputs": [],
   "source": [
    "#Creating a 3 dataframes based on which ones I will need, 2 are needed from this call\n",
    "aq=pd.read_csv(aqcsvs[0])\n",
    "\n",
    "for i in range(1,len(aqcsvs)):\n",
    "    if i==22:\n",
    "        aq2=pd.read_csv(aqcsvs[i])\n",
    "    elif i>22:\n",
    "        temp = pd.read_csv(aqcsvs[i])\n",
    "        aq2 = pd.concat([aq2,temp], ignore_index=True)\n",
    "    else:\n",
    "        temp = pd.read_csv(aqcsvs[i])\n",
    "        aq = pd.concat([aq,temp], ignore_index=True)"
   ]
  },
  {
   "cell_type": "code",
   "execution_count": 77,
   "metadata": {
    "ExecuteTime": {
     "end_time": "2018-06-14T17:13:23.940568Z",
     "start_time": "2018-06-14T17:13:19.129804Z"
    }
   },
   "outputs": [],
   "source": [
    "#Filtering out unneed data\n",
    "aq = aq[aq['State Name']=='California']\n",
    "aq = aq[aq['CBSA Name']=='San Francisco-Oakland-Hayward, CA']\n",
    "aq = aq[aq['City Name'].isin(['San Francisco'])]\n",
    "aq.drop(['State Code', 'County Code', 'Site Num', 'Parameter Code', 'POC', 'Datum', 'Sample Duration',\n",
    "       'Pollutant Standard', 'Units of Measure', 'Event Type',\n",
    "       'Observation Count', 'Observation Percent', 'AQI', 'Method Code', 'Method Name',\n",
    "       'Local Site Name', 'Address', 'State Name','City Name',\n",
    "       'CBSA Name', 'Date of Last Change'], axis=1, inplace=True)\n",
    "aq['Date Local'] = pd.to_datetime(aq['Date Local'], format=\"%Y/%m/%d\")\n",
    "aq2['Date'] = pd.to_datetime(aq2['Date'], format=\"%Y/%m/%d\")\n",
    "#filtering to relevant cities\n",
    "aq.reset_index(drop=True,inplace=True)"
   ]
  },
  {
   "cell_type": "code",
   "execution_count": 78,
   "metadata": {
    "ExecuteTime": {
     "end_time": "2018-06-14T17:13:23.956215Z",
     "start_time": "2018-06-14T17:13:23.942615Z"
    }
   },
   "outputs": [
    {
     "data": {
      "text/html": [
       "<div>\n",
       "<style scoped>\n",
       "    .dataframe tbody tr th:only-of-type {\n",
       "        vertical-align: middle;\n",
       "    }\n",
       "\n",
       "    .dataframe tbody tr th {\n",
       "        vertical-align: top;\n",
       "    }\n",
       "\n",
       "    .dataframe thead th {\n",
       "        text-align: right;\n",
       "    }\n",
       "</style>\n",
       "<table border=\"1\" class=\"dataframe\">\n",
       "  <thead>\n",
       "    <tr style=\"text-align: right;\">\n",
       "      <th></th>\n",
       "      <th>Latitude</th>\n",
       "      <th>Longitude</th>\n",
       "      <th>Parameter Name</th>\n",
       "      <th>Date Local</th>\n",
       "      <th>Arithmetic Mean</th>\n",
       "      <th>1st Max Value</th>\n",
       "      <th>1st Max Hour</th>\n",
       "      <th>County Name</th>\n",
       "    </tr>\n",
       "  </thead>\n",
       "  <tbody>\n",
       "    <tr>\n",
       "      <th>0</th>\n",
       "      <td>37.765946</td>\n",
       "      <td>-122.399044</td>\n",
       "      <td>Carbon monoxide</td>\n",
       "      <td>2008-01-01</td>\n",
       "      <td>0.539130</td>\n",
       "      <td>0.9</td>\n",
       "      <td>21</td>\n",
       "      <td>San Francisco</td>\n",
       "    </tr>\n",
       "    <tr>\n",
       "      <th>1</th>\n",
       "      <td>37.765946</td>\n",
       "      <td>-122.399044</td>\n",
       "      <td>Carbon monoxide</td>\n",
       "      <td>2008-01-02</td>\n",
       "      <td>0.663636</td>\n",
       "      <td>1.7</td>\n",
       "      <td>8</td>\n",
       "      <td>San Francisco</td>\n",
       "    </tr>\n",
       "    <tr>\n",
       "      <th>2</th>\n",
       "      <td>37.765946</td>\n",
       "      <td>-122.399044</td>\n",
       "      <td>Carbon monoxide</td>\n",
       "      <td>2008-01-03</td>\n",
       "      <td>0.426087</td>\n",
       "      <td>0.7</td>\n",
       "      <td>2</td>\n",
       "      <td>San Francisco</td>\n",
       "    </tr>\n",
       "    <tr>\n",
       "      <th>3</th>\n",
       "      <td>37.765946</td>\n",
       "      <td>-122.399044</td>\n",
       "      <td>Carbon monoxide</td>\n",
       "      <td>2008-01-04</td>\n",
       "      <td>0.400000</td>\n",
       "      <td>0.5</td>\n",
       "      <td>13</td>\n",
       "      <td>San Francisco</td>\n",
       "    </tr>\n",
       "    <tr>\n",
       "      <th>4</th>\n",
       "      <td>37.765946</td>\n",
       "      <td>-122.399044</td>\n",
       "      <td>Carbon monoxide</td>\n",
       "      <td>2008-01-05</td>\n",
       "      <td>0.443478</td>\n",
       "      <td>0.6</td>\n",
       "      <td>17</td>\n",
       "      <td>San Francisco</td>\n",
       "    </tr>\n",
       "  </tbody>\n",
       "</table>\n",
       "</div>"
      ],
      "text/plain": [
       "    Latitude   Longitude   Parameter Name Date Local  Arithmetic Mean  \\\n",
       "0  37.765946 -122.399044  Carbon monoxide 2008-01-01         0.539130   \n",
       "1  37.765946 -122.399044  Carbon monoxide 2008-01-02         0.663636   \n",
       "2  37.765946 -122.399044  Carbon monoxide 2008-01-03         0.426087   \n",
       "3  37.765946 -122.399044  Carbon monoxide 2008-01-04         0.400000   \n",
       "4  37.765946 -122.399044  Carbon monoxide 2008-01-05         0.443478   \n",
       "\n",
       "   1st Max Value  1st Max Hour    County Name  \n",
       "0            0.9            21  San Francisco  \n",
       "1            1.7             8  San Francisco  \n",
       "2            0.7             2  San Francisco  \n",
       "3            0.5            13  San Francisco  \n",
       "4            0.6            17  San Francisco  "
      ]
     },
     "execution_count": 78,
     "metadata": {},
     "output_type": "execute_result"
    }
   ],
   "source": [
    "aq.head()"
   ]
  },
  {
   "cell_type": "code",
   "execution_count": 79,
   "metadata": {
    "ExecuteTime": {
     "end_time": "2018-06-14T17:13:23.972260Z",
     "start_time": "2018-06-14T17:13:23.958271Z"
    },
    "scrolled": true
   },
   "outputs": [],
   "source": [
    "codf = aq[aq['Parameter Name']=='Carbon monoxide'].copy()\n",
    "ozdf= aq[aq['Parameter Name']=='Ozone'].copy()\n",
    "codf.reset_index(drop=True,inplace=True)\n",
    "ozdf.reset_index(drop=True,inplace=True)\n",
    "codf.drop_duplicates('Date Local', keep='first', inplace=True)\n",
    "pdf.drop_duplicates('Date Local', keep='first', inplace=True)"
   ]
  },
  {
   "cell_type": "code",
   "execution_count": 80,
   "metadata": {
    "ExecuteTime": {
     "end_time": "2018-06-14T17:13:23.977689Z",
     "start_time": "2018-06-14T17:13:23.974143Z"
    }
   },
   "outputs": [
    {
     "data": {
      "text/plain": [
       "3710"
      ]
     },
     "execution_count": 80,
     "metadata": {},
     "output_type": "execute_result"
    }
   ],
   "source": [
    "len(codf)"
   ]
  },
  {
   "cell_type": "code",
   "execution_count": 82,
   "metadata": {
    "ExecuteTime": {
     "end_time": "2018-06-14T17:13:24.014064Z",
     "start_time": "2018-06-14T17:13:23.997328Z"
    },
    "scrolled": true
   },
   "outputs": [
    {
     "ename": "ValueError",
     "evalue": "labels ['Latitude' 'Longitude'] not contained in axis",
     "output_type": "error",
     "traceback": [
      "\u001b[0;31m---------------------------------------------------------------------------\u001b[0m",
      "\u001b[0;31mValueError\u001b[0m                                Traceback (most recent call last)",
      "\u001b[0;32m<ipython-input-82-846ab3c8d135>\u001b[0m in \u001b[0;36m<module>\u001b[0;34m()\u001b[0m\n\u001b[1;32m      1\u001b[0m \u001b[0mozdf\u001b[0m\u001b[0;34m.\u001b[0m\u001b[0mdrop\u001b[0m\u001b[0;34m(\u001b[0m\u001b[0;34m[\u001b[0m\u001b[0;34m'Latitude'\u001b[0m\u001b[0;34m,\u001b[0m\u001b[0;34m'Longitude'\u001b[0m\u001b[0;34m]\u001b[0m\u001b[0;34m,\u001b[0m \u001b[0maxis\u001b[0m\u001b[0;34m=\u001b[0m\u001b[0;36m1\u001b[0m\u001b[0;34m,\u001b[0m \u001b[0minplace\u001b[0m\u001b[0;34m=\u001b[0m\u001b[0;32mTrue\u001b[0m\u001b[0;34m)\u001b[0m\u001b[0;34m\u001b[0m\u001b[0m\n\u001b[0;32m----> 2\u001b[0;31m \u001b[0mpdf\u001b[0m\u001b[0;34m.\u001b[0m\u001b[0mdrop\u001b[0m\u001b[0;34m(\u001b[0m\u001b[0;34m[\u001b[0m\u001b[0;34m'Latitude'\u001b[0m\u001b[0;34m,\u001b[0m\u001b[0;34m'Longitude'\u001b[0m\u001b[0;34m]\u001b[0m\u001b[0;34m,\u001b[0m \u001b[0maxis\u001b[0m\u001b[0;34m=\u001b[0m\u001b[0;36m1\u001b[0m\u001b[0;34m,\u001b[0m \u001b[0minplace\u001b[0m\u001b[0;34m=\u001b[0m\u001b[0;32mTrue\u001b[0m\u001b[0;34m)\u001b[0m\u001b[0;34m\u001b[0m\u001b[0m\n\u001b[0m",
      "\u001b[0;32m/anaconda3/lib/python3.6/site-packages/pandas/core/generic.py\u001b[0m in \u001b[0;36mdrop\u001b[0;34m(self, labels, axis, index, columns, level, inplace, errors)\u001b[0m\n\u001b[1;32m   2528\u001b[0m         \u001b[0;32mfor\u001b[0m \u001b[0maxis\u001b[0m\u001b[0;34m,\u001b[0m \u001b[0mlabels\u001b[0m \u001b[0;32min\u001b[0m \u001b[0maxes\u001b[0m\u001b[0;34m.\u001b[0m\u001b[0mitems\u001b[0m\u001b[0;34m(\u001b[0m\u001b[0;34m)\u001b[0m\u001b[0;34m:\u001b[0m\u001b[0;34m\u001b[0m\u001b[0m\n\u001b[1;32m   2529\u001b[0m             \u001b[0;32mif\u001b[0m \u001b[0mlabels\u001b[0m \u001b[0;32mis\u001b[0m \u001b[0;32mnot\u001b[0m \u001b[0;32mNone\u001b[0m\u001b[0;34m:\u001b[0m\u001b[0;34m\u001b[0m\u001b[0m\n\u001b[0;32m-> 2530\u001b[0;31m                 \u001b[0mobj\u001b[0m \u001b[0;34m=\u001b[0m \u001b[0mobj\u001b[0m\u001b[0;34m.\u001b[0m\u001b[0m_drop_axis\u001b[0m\u001b[0;34m(\u001b[0m\u001b[0mlabels\u001b[0m\u001b[0;34m,\u001b[0m \u001b[0maxis\u001b[0m\u001b[0;34m,\u001b[0m \u001b[0mlevel\u001b[0m\u001b[0;34m=\u001b[0m\u001b[0mlevel\u001b[0m\u001b[0;34m,\u001b[0m \u001b[0merrors\u001b[0m\u001b[0;34m=\u001b[0m\u001b[0merrors\u001b[0m\u001b[0;34m)\u001b[0m\u001b[0;34m\u001b[0m\u001b[0m\n\u001b[0m\u001b[1;32m   2531\u001b[0m \u001b[0;34m\u001b[0m\u001b[0m\n\u001b[1;32m   2532\u001b[0m         \u001b[0;32mif\u001b[0m \u001b[0minplace\u001b[0m\u001b[0;34m:\u001b[0m\u001b[0;34m\u001b[0m\u001b[0m\n",
      "\u001b[0;32m/anaconda3/lib/python3.6/site-packages/pandas/core/generic.py\u001b[0m in \u001b[0;36m_drop_axis\u001b[0;34m(self, labels, axis, level, errors)\u001b[0m\n\u001b[1;32m   2560\u001b[0m                 \u001b[0mnew_axis\u001b[0m \u001b[0;34m=\u001b[0m \u001b[0maxis\u001b[0m\u001b[0;34m.\u001b[0m\u001b[0mdrop\u001b[0m\u001b[0;34m(\u001b[0m\u001b[0mlabels\u001b[0m\u001b[0;34m,\u001b[0m \u001b[0mlevel\u001b[0m\u001b[0;34m=\u001b[0m\u001b[0mlevel\u001b[0m\u001b[0;34m,\u001b[0m \u001b[0merrors\u001b[0m\u001b[0;34m=\u001b[0m\u001b[0merrors\u001b[0m\u001b[0;34m)\u001b[0m\u001b[0;34m\u001b[0m\u001b[0m\n\u001b[1;32m   2561\u001b[0m             \u001b[0;32melse\u001b[0m\u001b[0;34m:\u001b[0m\u001b[0;34m\u001b[0m\u001b[0m\n\u001b[0;32m-> 2562\u001b[0;31m                 \u001b[0mnew_axis\u001b[0m \u001b[0;34m=\u001b[0m \u001b[0maxis\u001b[0m\u001b[0;34m.\u001b[0m\u001b[0mdrop\u001b[0m\u001b[0;34m(\u001b[0m\u001b[0mlabels\u001b[0m\u001b[0;34m,\u001b[0m \u001b[0merrors\u001b[0m\u001b[0;34m=\u001b[0m\u001b[0merrors\u001b[0m\u001b[0;34m)\u001b[0m\u001b[0;34m\u001b[0m\u001b[0m\n\u001b[0m\u001b[1;32m   2563\u001b[0m             \u001b[0mdropped\u001b[0m \u001b[0;34m=\u001b[0m \u001b[0mself\u001b[0m\u001b[0;34m.\u001b[0m\u001b[0mreindex\u001b[0m\u001b[0;34m(\u001b[0m\u001b[0;34m**\u001b[0m\u001b[0;34m{\u001b[0m\u001b[0maxis_name\u001b[0m\u001b[0;34m:\u001b[0m \u001b[0mnew_axis\u001b[0m\u001b[0;34m}\u001b[0m\u001b[0;34m)\u001b[0m\u001b[0;34m\u001b[0m\u001b[0m\n\u001b[1;32m   2564\u001b[0m             \u001b[0;32mtry\u001b[0m\u001b[0;34m:\u001b[0m\u001b[0;34m\u001b[0m\u001b[0m\n",
      "\u001b[0;32m/anaconda3/lib/python3.6/site-packages/pandas/core/indexes/base.py\u001b[0m in \u001b[0;36mdrop\u001b[0;34m(self, labels, errors)\u001b[0m\n\u001b[1;32m   3742\u001b[0m             \u001b[0;32mif\u001b[0m \u001b[0merrors\u001b[0m \u001b[0;34m!=\u001b[0m \u001b[0;34m'ignore'\u001b[0m\u001b[0;34m:\u001b[0m\u001b[0;34m\u001b[0m\u001b[0m\n\u001b[1;32m   3743\u001b[0m                 raise ValueError('labels %s not contained in axis' %\n\u001b[0;32m-> 3744\u001b[0;31m                                  labels[mask])\n\u001b[0m\u001b[1;32m   3745\u001b[0m             \u001b[0mindexer\u001b[0m \u001b[0;34m=\u001b[0m \u001b[0mindexer\u001b[0m\u001b[0;34m[\u001b[0m\u001b[0;34m~\u001b[0m\u001b[0mmask\u001b[0m\u001b[0;34m]\u001b[0m\u001b[0;34m\u001b[0m\u001b[0m\n\u001b[1;32m   3746\u001b[0m         \u001b[0;32mreturn\u001b[0m \u001b[0mself\u001b[0m\u001b[0;34m.\u001b[0m\u001b[0mdelete\u001b[0m\u001b[0;34m(\u001b[0m\u001b[0mindexer\u001b[0m\u001b[0;34m)\u001b[0m\u001b[0;34m\u001b[0m\u001b[0m\n",
      "\u001b[0;31mValueError\u001b[0m: labels ['Latitude' 'Longitude'] not contained in axis"
     ]
    }
   ],
   "source": [
    "ozdf.drop(['Latitude','Longitude'], axis=1, inplace=True)\n",
    "pdf.drop(['Latitude','Longitude'], axis=1, inplace=True)"
   ]
  },
  {
   "cell_type": "code",
   "execution_count": 87,
   "metadata": {
    "ExecuteTime": {
     "end_time": "2018-06-14T17:15:33.960801Z",
     "start_time": "2018-06-14T17:15:33.463327Z"
    }
   },
   "outputs": [
    {
     "data": {
      "text/plain": [
       "Index(['county Name', 'Date', 'AQI', 'Category', 'Defining Parameter'], dtype='object')"
      ]
     },
     "execution_count": 87,
     "metadata": {},
     "output_type": "execute_result"
    }
   ],
   "source": [
    "aq2 = aq2[['county Name', 'Date', 'AQI','Category', 'Defining Parameter']]\n",
    "aq2.columns"
   ]
  },
  {
   "cell_type": "code",
   "execution_count": 88,
   "metadata": {
    "ExecuteTime": {
     "end_time": "2018-06-14T17:15:34.056544Z",
     "start_time": "2018-06-14T17:15:33.962851Z"
    }
   },
   "outputs": [
    {
     "data": {
      "text/html": [
       "<div>\n",
       "<style scoped>\n",
       "    .dataframe tbody tr th:only-of-type {\n",
       "        vertical-align: middle;\n",
       "    }\n",
       "\n",
       "    .dataframe tbody tr th {\n",
       "        vertical-align: top;\n",
       "    }\n",
       "\n",
       "    .dataframe thead th {\n",
       "        text-align: right;\n",
       "    }\n",
       "</style>\n",
       "<table border=\"1\" class=\"dataframe\">\n",
       "  <thead>\n",
       "    <tr style=\"text-align: right;\">\n",
       "      <th></th>\n",
       "      <th>county Name</th>\n",
       "      <th>Date</th>\n",
       "      <th>AQI</th>\n",
       "      <th>Category</th>\n",
       "      <th>Defining Parameter</th>\n",
       "    </tr>\n",
       "  </thead>\n",
       "  <tbody>\n",
       "    <tr>\n",
       "      <th>0</th>\n",
       "      <td>San Francisco</td>\n",
       "      <td>2008-01-01</td>\n",
       "      <td>66</td>\n",
       "      <td>Moderate</td>\n",
       "      <td>PM2.5</td>\n",
       "    </tr>\n",
       "    <tr>\n",
       "      <th>1</th>\n",
       "      <td>San Francisco</td>\n",
       "      <td>2008-01-02</td>\n",
       "      <td>69</td>\n",
       "      <td>Moderate</td>\n",
       "      <td>PM2.5</td>\n",
       "    </tr>\n",
       "    <tr>\n",
       "      <th>2</th>\n",
       "      <td>San Francisco</td>\n",
       "      <td>2008-01-03</td>\n",
       "      <td>36</td>\n",
       "      <td>Good</td>\n",
       "      <td>PM2.5</td>\n",
       "    </tr>\n",
       "    <tr>\n",
       "      <th>3</th>\n",
       "      <td>San Francisco</td>\n",
       "      <td>2008-01-04</td>\n",
       "      <td>33</td>\n",
       "      <td>Good</td>\n",
       "      <td>Ozone</td>\n",
       "    </tr>\n",
       "    <tr>\n",
       "      <th>4</th>\n",
       "      <td>San Francisco</td>\n",
       "      <td>2008-01-05</td>\n",
       "      <td>32</td>\n",
       "      <td>Good</td>\n",
       "      <td>PM2.5</td>\n",
       "    </tr>\n",
       "  </tbody>\n",
       "</table>\n",
       "</div>"
      ],
      "text/plain": [
       "     county Name       Date  AQI  Category Defining Parameter\n",
       "0  San Francisco 2008-01-01   66  Moderate              PM2.5\n",
       "1  San Francisco 2008-01-02   69  Moderate              PM2.5\n",
       "2  San Francisco 2008-01-03   36      Good              PM2.5\n",
       "3  San Francisco 2008-01-04   33      Good              Ozone\n",
       "4  San Francisco 2008-01-05   32      Good              PM2.5"
      ]
     },
     "execution_count": 88,
     "metadata": {},
     "output_type": "execute_result"
    }
   ],
   "source": [
    "#Filtering out unneed data\n",
    "aq2 = aq2[aq2['county Name'].isin(['San Francisco'])]\n",
    "#filtering to relevant cities\n",
    "aq2.reset_index(drop=True,inplace=True)\n",
    "aq2.head()"
   ]
  },
  {
   "cell_type": "code",
   "execution_count": 89,
   "metadata": {
    "ExecuteTime": {
     "end_time": "2018-06-14T17:15:34.820702Z",
     "start_time": "2018-06-14T17:15:34.815408Z"
    }
   },
   "outputs": [],
   "source": [
    "codf.columns=['Latitude', 'Longitude', 'Param Name', 'Date Local',\n",
    "              'CO Mean', 'CO Max Value', 'CO Max Hour','County Name']\n",
    "ozdf.columns=['Param Name2', 'Date Local','Oz Mean', 'Oz Max Value', 'Oz Max Hour','County Name']\n",
    "\n",
    "aq2.columns=['County Name', 'Date Local', 'AQI', 'Category', 'AQ Defining Parameter']\n",
    "pdf.columns =['Param Name4', 'Date Local','Part Mean', 'Part Max Value', 'Part Max Hour','County Name']\n"
   ]
  },
  {
   "cell_type": "code",
   "execution_count": 90,
   "metadata": {
    "ExecuteTime": {
     "end_time": "2018-06-14T17:15:35.801746Z",
     "start_time": "2018-06-14T17:15:35.542984Z"
    },
    "scrolled": true
   },
   "outputs": [
    {
     "name": "stdout",
     "output_type": "stream",
     "text": [
      "    Latitude   Longitude       Param Name Date Local   CO Mean  CO Max Value  \\\n",
      "0  37.765946 -122.399044  Carbon monoxide 2008-01-01  0.539130           0.9   \n",
      "1  37.765946 -122.399044  Carbon monoxide 2008-01-02  0.663636           1.7   \n",
      "2  37.765946 -122.399044  Carbon monoxide 2008-01-03  0.426087           0.7   \n",
      "3  37.765946 -122.399044  Carbon monoxide 2008-01-04  0.400000           0.5   \n",
      "4  37.765946 -122.399044  Carbon monoxide 2008-01-05  0.443478           0.6   \n",
      "\n",
      "   CO Max Hour    County Name Param Name2   Oz Mean  Oz Max Value  Oz Max Hour  \n",
      "0           21  San Francisco       Ozone  0.008042         0.017          8.0  \n",
      "1            8  San Francisco       Ozone  0.012667         0.024         15.0  \n",
      "2            2  San Francisco       Ozone  0.025875         0.030          7.0  \n",
      "3           13  San Francisco       Ozone  0.031333         0.036         17.0  \n",
      "4           17  San Francisco       Ozone  0.028792         0.033         19.0  \n",
      "    Latitude   Longitude       Param Name           Date Local   CO Mean  \\\n",
      "0  37.765946 -122.399044  Carbon monoxide  2008-01-01 00:00:00  0.539130   \n",
      "1  37.765946 -122.399044  Carbon monoxide  2008-01-02 00:00:00  0.663636   \n",
      "2  37.765946 -122.399044  Carbon monoxide  2008-01-03 00:00:00  0.426087   \n",
      "3  37.765946 -122.399044  Carbon monoxide  2008-01-04 00:00:00  0.400000   \n",
      "4  37.765946 -122.399044  Carbon monoxide  2008-01-05 00:00:00  0.443478   \n",
      "\n",
      "   CO Max Value  CO Max Hour    County Name Param Name2   Oz Mean  \\\n",
      "0           0.9           21  San Francisco       Ozone  0.008042   \n",
      "1           1.7            8  San Francisco       Ozone  0.012667   \n",
      "2           0.7            2  San Francisco       Ozone  0.025875   \n",
      "3           0.5           13  San Francisco       Ozone  0.031333   \n",
      "4           0.6           17  San Francisco       Ozone  0.028792   \n",
      "\n",
      "   Oz Max Value  Oz Max Hour Param Name4  Part Mean  Part Max Value  \\\n",
      "0         0.017          8.0         NaN        NaN             NaN   \n",
      "1         0.024         15.0         NaN        NaN             NaN   \n",
      "2         0.030          7.0         NaN        NaN             NaN   \n",
      "3         0.036         17.0         NaN        NaN             NaN   \n",
      "4         0.033         19.0         NaN        NaN             NaN   \n",
      "\n",
      "   Part Max Hour  \n",
      "0            NaN  \n",
      "1            NaN  \n",
      "2            NaN  \n",
      "3            NaN  \n",
      "4            NaN  \n"
     ]
    }
   ],
   "source": [
    "aq1 = pd.merge(codf,ozdf, how='left',on=['County Name', 'Date Local'])\n",
    "print(aq1.head())\n",
    "#qq = pd.merge(aq1,sfc, how='left',on=['Date Local'])\n",
    "\n",
    "aqdf = pd.merge(aq1,pdf, how='left', on=['County Name','Date Local'])\n",
    "print(qq.head())\n",
    "#aqdf = pd.merge(qq,aq2, how='left',on=['County Name','Date Local'])"
   ]
  },
  {
   "cell_type": "code",
   "execution_count": 91,
   "metadata": {
    "ExecuteTime": {
     "end_time": "2018-06-14T17:15:41.034130Z",
     "start_time": "2018-06-14T17:15:41.029828Z"
    }
   },
   "outputs": [],
   "source": [
    "aqdf['Date Local'] = pd.to_datetime(aqdf['Date Local'])"
   ]
  },
  {
   "cell_type": "code",
   "execution_count": 92,
   "metadata": {
    "ExecuteTime": {
     "end_time": "2018-06-14T17:15:49.171884Z",
     "start_time": "2018-06-14T17:15:49.166361Z"
    }
   },
   "outputs": [],
   "source": [
    "aqdf.drop(['Param Name', 'County Name', 'Param Name2','Param Name4'], axis=1, inplace = True)"
   ]
  },
  {
   "cell_type": "code",
   "execution_count": 93,
   "metadata": {
    "ExecuteTime": {
     "end_time": "2018-06-14T17:15:51.375865Z",
     "start_time": "2018-06-14T17:15:51.359934Z"
    }
   },
   "outputs": [
    {
     "data": {
      "text/html": [
       "<div>\n",
       "<style scoped>\n",
       "    .dataframe tbody tr th:only-of-type {\n",
       "        vertical-align: middle;\n",
       "    }\n",
       "\n",
       "    .dataframe tbody tr th {\n",
       "        vertical-align: top;\n",
       "    }\n",
       "\n",
       "    .dataframe thead th {\n",
       "        text-align: right;\n",
       "    }\n",
       "</style>\n",
       "<table border=\"1\" class=\"dataframe\">\n",
       "  <thead>\n",
       "    <tr style=\"text-align: right;\">\n",
       "      <th></th>\n",
       "      <th>Latitude</th>\n",
       "      <th>Longitude</th>\n",
       "      <th>Date Local</th>\n",
       "      <th>CO Mean</th>\n",
       "      <th>CO Max Value</th>\n",
       "      <th>CO Max Hour</th>\n",
       "      <th>Oz Mean</th>\n",
       "      <th>Oz Max Value</th>\n",
       "      <th>Oz Max Hour</th>\n",
       "      <th>Part Mean</th>\n",
       "      <th>Part Max Value</th>\n",
       "      <th>Part Max Hour</th>\n",
       "    </tr>\n",
       "  </thead>\n",
       "  <tbody>\n",
       "    <tr>\n",
       "      <th>0</th>\n",
       "      <td>37.765946</td>\n",
       "      <td>-122.399044</td>\n",
       "      <td>2008-01-01</td>\n",
       "      <td>0.539130</td>\n",
       "      <td>0.9</td>\n",
       "      <td>21</td>\n",
       "      <td>0.008042</td>\n",
       "      <td>0.017</td>\n",
       "      <td>8.0</td>\n",
       "      <td>NaN</td>\n",
       "      <td>NaN</td>\n",
       "      <td>NaN</td>\n",
       "    </tr>\n",
       "    <tr>\n",
       "      <th>1</th>\n",
       "      <td>37.765946</td>\n",
       "      <td>-122.399044</td>\n",
       "      <td>2008-01-02</td>\n",
       "      <td>0.663636</td>\n",
       "      <td>1.7</td>\n",
       "      <td>8</td>\n",
       "      <td>0.012667</td>\n",
       "      <td>0.024</td>\n",
       "      <td>15.0</td>\n",
       "      <td>NaN</td>\n",
       "      <td>NaN</td>\n",
       "      <td>NaN</td>\n",
       "    </tr>\n",
       "    <tr>\n",
       "      <th>2</th>\n",
       "      <td>37.765946</td>\n",
       "      <td>-122.399044</td>\n",
       "      <td>2008-01-03</td>\n",
       "      <td>0.426087</td>\n",
       "      <td>0.7</td>\n",
       "      <td>2</td>\n",
       "      <td>0.025875</td>\n",
       "      <td>0.030</td>\n",
       "      <td>7.0</td>\n",
       "      <td>NaN</td>\n",
       "      <td>NaN</td>\n",
       "      <td>NaN</td>\n",
       "    </tr>\n",
       "    <tr>\n",
       "      <th>3</th>\n",
       "      <td>37.765946</td>\n",
       "      <td>-122.399044</td>\n",
       "      <td>2008-01-04</td>\n",
       "      <td>0.400000</td>\n",
       "      <td>0.5</td>\n",
       "      <td>13</td>\n",
       "      <td>0.031333</td>\n",
       "      <td>0.036</td>\n",
       "      <td>17.0</td>\n",
       "      <td>NaN</td>\n",
       "      <td>NaN</td>\n",
       "      <td>NaN</td>\n",
       "    </tr>\n",
       "    <tr>\n",
       "      <th>4</th>\n",
       "      <td>37.765946</td>\n",
       "      <td>-122.399044</td>\n",
       "      <td>2008-01-05</td>\n",
       "      <td>0.443478</td>\n",
       "      <td>0.6</td>\n",
       "      <td>17</td>\n",
       "      <td>0.028792</td>\n",
       "      <td>0.033</td>\n",
       "      <td>19.0</td>\n",
       "      <td>NaN</td>\n",
       "      <td>NaN</td>\n",
       "      <td>NaN</td>\n",
       "    </tr>\n",
       "  </tbody>\n",
       "</table>\n",
       "</div>"
      ],
      "text/plain": [
       "    Latitude   Longitude Date Local   CO Mean  CO Max Value  CO Max Hour  \\\n",
       "0  37.765946 -122.399044 2008-01-01  0.539130           0.9           21   \n",
       "1  37.765946 -122.399044 2008-01-02  0.663636           1.7            8   \n",
       "2  37.765946 -122.399044 2008-01-03  0.426087           0.7            2   \n",
       "3  37.765946 -122.399044 2008-01-04  0.400000           0.5           13   \n",
       "4  37.765946 -122.399044 2008-01-05  0.443478           0.6           17   \n",
       "\n",
       "    Oz Mean  Oz Max Value  Oz Max Hour  Part Mean  Part Max Value  \\\n",
       "0  0.008042         0.017          8.0        NaN             NaN   \n",
       "1  0.012667         0.024         15.0        NaN             NaN   \n",
       "2  0.025875         0.030          7.0        NaN             NaN   \n",
       "3  0.031333         0.036         17.0        NaN             NaN   \n",
       "4  0.028792         0.033         19.0        NaN             NaN   \n",
       "\n",
       "   Part Max Hour  \n",
       "0            NaN  \n",
       "1            NaN  \n",
       "2            NaN  \n",
       "3            NaN  \n",
       "4            NaN  "
      ]
     },
     "execution_count": 93,
     "metadata": {},
     "output_type": "execute_result"
    }
   ],
   "source": [
    "aqdf.head()"
   ]
  },
  {
   "cell_type": "code",
   "execution_count": null,
   "metadata": {
    "ExecuteTime": {
     "end_time": "2018-06-14T17:13:24.020055Z",
     "start_time": "2018-06-14T17:12:41.514Z"
    }
   },
   "outputs": [],
   "source": [
    "#Writing a pickle file to save data\n",
    "import pickle\n",
    "with open('climate_data.pkl', 'wb') as picklefile:\n",
    "    pickle.dump(aqdf, picklefile)"
   ]
  },
  {
   "cell_type": "code",
   "execution_count": 684,
   "metadata": {
    "ExecuteTime": {
     "end_time": "2018-06-08T22:49:56.570851Z",
     "start_time": "2018-06-08T22:49:56.553331Z"
    }
   },
   "outputs": [],
   "source": [
    "\"\"\"def h5ToDF(file):\n",
    "    f = h5py.File(file, 'r')\n",
    "    date = [pd.to_datetime(str(x).replace('b\\'','').replace('\\'','')) for x in list(f['RetrievalHeader']['retrieval_time_string'])]\n",
    "    lat = [x for x in list(f['RetrievalGeometry']['retrieval_latitude_geoid'])]\n",
    "    long = [y for y in list(f['RetrievalGeometry']['retrieval_longitude_geoid'])]\n",
    "    co2ppm = list(f['RetrievalResults']['xco2'])\n",
    "    co2_uncert = [x*10**6 for x in list(f['RetrievalResults']['xco2_uncert'])]\n",
    "    df = pd.DataFrame({'date':date,\n",
    "        'lat':lat,\n",
    "        'long': long,\n",
    "        'co2ppm': co2ppm,\n",
    "        'co2_uncert': co2_uncert\n",
    "    })\n",
    "    return df\"\"\"                                                            \n",
    "                                                                                    "
   ]
  },
  {
   "cell_type": "code",
   "execution_count": 789,
   "metadata": {
    "ExecuteTime": {
     "end_time": "2018-06-10T20:03:28.381473Z",
     "start_time": "2018-06-10T19:04:01.335529Z"
    }
   },
   "outputs": [],
   "source": [
    "#ccreating DF from OCO2 data, tabling this bc they ended up not ahving the data I need\n",
    "\"\"\"f = h5py.File(results[0], 'r')\n",
    "date = [pd.to_datetime(str(x).replace('b\\'','').replace('\\'','')) for x in list(f['RetrievalHeader']['retrieval_time_string'])]\n",
    "lat = [x for x in list(f['RetrievalGeometry']['retrieval_latitude_geoid'])]\n",
    "long = [y for y in list(f['RetrievalGeometry']['retrieval_longitude_geoid'])]\n",
    "co2ppm = list(f['RetrievalResults']['xco2'])\n",
    "co2_uncert = [x*10**6 for x in list(f['RetrievalResults']['xco2_uncert'])]\n",
    "df = pd.DataFrame({'date':date,\n",
    "        'lat':lat,\n",
    "        'long': long,\n",
    "        'co2ppm': co2ppm,\n",
    "        'co2_uncert': co2_uncert\n",
    "    })\n",
    "for i in range(1,int(len(results))):\n",
    "    df.append(h5ToDF(results[i]))\n",
    "    \n",
    "df['co2ppm'] = [x*10**6 for x in df['co2ppm']]\n",
    "df['co2_uncert'] = [float(x) for x in df['co2_uncert']]\n",
    "df['date'] = [x.date() for x in df['date']]\n",
    "    \"\"\""
   ]
  },
  {
   "cell_type": "code",
   "execution_count": 551,
   "metadata": {
    "ExecuteTime": {
     "end_time": "2018-06-08T00:37:43.943066Z",
     "start_time": "2018-06-08T00:37:43.776994Z"
    }
   },
   "outputs": [],
   "source": [
    "\"\"\"#Writing a pickle file to save data\n",
    "import pickle\n",
    "with open('my_data.pkl', 'wb') as picklefile:\n",
    "    pickle.dump(df, picklefile)\"\"\""
   ]
  },
  {
   "cell_type": "code",
   "execution_count": 529,
   "metadata": {
    "ExecuteTime": {
     "end_time": "2018-06-08T00:26:39.888078Z",
     "start_time": "2018-06-08T00:26:39.860898Z"
    }
   },
   "outputs": [],
   "source": [
    "#reading in the list of tea dictionaries, each being by itself\n",
    "with open('my_data.pkl', 'rb') as picklefile:\n",
    "    df = pickle.load(picklefile)"
   ]
  },
  {
   "cell_type": "code",
   "execution_count": null,
   "metadata": {
    "ExecuteTime": {
     "end_time": "2018-06-06T21:05:26.517792Z",
     "start_time": "2018-06-06T20:57:32.392Z"
    }
   },
   "outputs": [],
   "source": [
    "#list(f['RetrievalGeometry']['retrieval_latitude_geoid'])"
   ]
  },
  {
   "cell_type": "markdown",
   "metadata": {
    "heading_collapsed": true
   },
   "source": [
    "## Web Scraping\n",
    "\n",
    "Pulling data from loopnet.com for areas where we can greenify citys (make them more environmentally friendly). "
   ]
  },
  {
   "cell_type": "code",
   "execution_count": 97,
   "metadata": {
    "ExecuteTime": {
     "end_time": "2018-06-06T21:08:33.939612Z",
     "start_time": "2018-06-06T21:08:33.936581Z"
    },
    "hidden": true
   },
   "outputs": [],
   "source": [
    "#initializing sites that I will pull from\n",
    "flexspace = 'http://www.loopnet.com/california/san-francisco_flex-space-for-sale/'\n",
    "land = 'http://www.loopnet.com/california/san-francisco_land-for-sale/'\n",
    "apts = 'http://www.loopnet.com/california/san-francisco_apartment-buildings-for-sale/'"
   ]
  },
  {
   "cell_type": "code",
   "execution_count": 98,
   "metadata": {
    "ExecuteTime": {
     "end_time": "2018-06-06T21:08:35.908180Z",
     "start_time": "2018-06-06T21:08:34.431577Z"
    },
    "hidden": true
   },
   "outputs": [],
   "source": [
    "response = rq.get(land)\n",
    "page = response.text\n",
    "reviewp = soup(page,\"lxml\")\n"
   ]
  },
  {
   "cell_type": "code",
   "execution_count": 99,
   "metadata": {
    "ExecuteTime": {
     "end_time": "2018-06-06T21:08:35.926690Z",
     "start_time": "2018-06-06T21:08:35.910250Z"
    },
    "hidden": true
   },
   "outputs": [
    {
     "data": {
      "text/plain": [
       "[<span class=\"listingTitle\">0.05 Acre Site for Proposed Apartments</span>,\n",
       " <span class=\"listingTitle\">1228 Folsom Street</span>,\n",
       " <span class=\"listingTitle\">1876 Oakdale Ave</span>,\n",
       " <span class=\"listingTitle\">1791 Mission Street</span>,\n",
       " <span class=\"listingTitle\">240 7th St</span>,\n",
       " <span class=\"listingTitle\">1924 Mission St</span>,\n",
       " <span class=\"listingTitle\">2435-2445 16th St</span>,\n",
       " <span class=\"listingTitle\">Topaz Way</span>,\n",
       " <span class=\"listingTitle\">Portfolio of 4 Properties</span>,\n",
       " <span class=\"listingTitle\">1234 Shoreline Hwy</span>,\n",
       " <span class=\"listingTitle\">81 Ervine St</span>,\n",
       " <span class=\"listingTitle\">OCTAVIA M+N</span>,\n",
       " <span class=\"listingTitle\">250 Church St</span>,\n",
       " <span class=\"listingTitle\">Mission and 22nd</span>]"
      ]
     },
     "execution_count": 99,
     "metadata": {},
     "output_type": "execute_result"
    }
   ],
   "source": [
    "reviewp.find_all(class_='listingTitle')"
   ]
  },
  {
   "cell_type": "code",
   "execution_count": null,
   "metadata": {
    "hidden": true
   },
   "outputs": [],
   "source": []
  },
  {
   "cell_type": "markdown",
   "metadata": {
    "heading_collapsed": true
   },
   "source": [
    "## Exploring\n",
    "\n",
    "Exploring the data, kicking out points that are wrong based on the error and other stats."
   ]
  },
  {
   "cell_type": "code",
   "execution_count": 654,
   "metadata": {
    "ExecuteTime": {
     "end_time": "2018-06-08T15:55:12.285399Z",
     "start_time": "2018-06-08T15:55:12.124022Z"
    },
    "hidden": true
   },
   "outputs": [],
   "source": [
    "#pulling in CO2 data\n",
    "with open('my_data.pkl', 'rb') as picklefile:\n",
    "    df = pickle.load(picklefile)"
   ]
  },
  {
   "cell_type": "code",
   "execution_count": 205,
   "metadata": {
    "ExecuteTime": {
     "end_time": "2018-06-08T00:37:53.692572Z",
     "start_time": "2018-06-08T00:37:53.678477Z"
    },
    "hidden": true
   },
   "outputs": [],
   "source": [
    "#pulling in climate data\n",
    "with open('climate_data.pkl', 'rb') as picklefile:\n",
    "    aq = pickle.load(picklefile)"
   ]
  },
  {
   "cell_type": "code",
   "execution_count": 206,
   "metadata": {
    "ExecuteTime": {
     "end_time": "2018-06-08T00:37:55.578510Z",
     "start_time": "2018-06-08T00:37:55.568037Z"
    },
    "hidden": true
   },
   "outputs": [
    {
     "ename": "NameError",
     "evalue": "name 'df' is not defined",
     "output_type": "error",
     "traceback": [
      "\u001b[0;31m---------------------------------------------------------------------------\u001b[0m",
      "\u001b[0;31mNameError\u001b[0m                                 Traceback (most recent call last)",
      "\u001b[0;32m<ipython-input-206-c42a15b2c7cf>\u001b[0m in \u001b[0;36m<module>\u001b[0;34m()\u001b[0m\n\u001b[0;32m----> 1\u001b[0;31m \u001b[0mdf\u001b[0m\u001b[0;34m.\u001b[0m\u001b[0mhead\u001b[0m\u001b[0;34m(\u001b[0m\u001b[0;34m)\u001b[0m\u001b[0;34m\u001b[0m\u001b[0m\n\u001b[0m",
      "\u001b[0;31mNameError\u001b[0m: name 'df' is not defined"
     ]
    }
   ],
   "source": [
    "df.head()"
   ]
  },
  {
   "cell_type": "code",
   "execution_count": 207,
   "metadata": {
    "ExecuteTime": {
     "end_time": "2018-06-08T00:50:59.256774Z",
     "start_time": "2018-06-08T00:50:59.251422Z"
    },
    "hidden": true
   },
   "outputs": [
    {
     "ename": "KeyError",
     "evalue": "'Date Local'",
     "output_type": "error",
     "traceback": [
      "\u001b[0;31m---------------------------------------------------------------------------\u001b[0m",
      "\u001b[0;31mKeyError\u001b[0m                                  Traceback (most recent call last)",
      "\u001b[0;32m~/anaconda3/lib/python3.6/site-packages/pandas/core/indexes/base.py\u001b[0m in \u001b[0;36mget_loc\u001b[0;34m(self, key, method, tolerance)\u001b[0m\n\u001b[1;32m   2524\u001b[0m             \u001b[0;32mtry\u001b[0m\u001b[0;34m:\u001b[0m\u001b[0;34m\u001b[0m\u001b[0m\n\u001b[0;32m-> 2525\u001b[0;31m                 \u001b[0;32mreturn\u001b[0m \u001b[0mself\u001b[0m\u001b[0;34m.\u001b[0m\u001b[0m_engine\u001b[0m\u001b[0;34m.\u001b[0m\u001b[0mget_loc\u001b[0m\u001b[0;34m(\u001b[0m\u001b[0mkey\u001b[0m\u001b[0;34m)\u001b[0m\u001b[0;34m\u001b[0m\u001b[0m\n\u001b[0m\u001b[1;32m   2526\u001b[0m             \u001b[0;32mexcept\u001b[0m \u001b[0mKeyError\u001b[0m\u001b[0;34m:\u001b[0m\u001b[0;34m\u001b[0m\u001b[0m\n",
      "\u001b[0;32mpandas/_libs/index.pyx\u001b[0m in \u001b[0;36mpandas._libs.index.IndexEngine.get_loc\u001b[0;34m()\u001b[0m\n",
      "\u001b[0;32mpandas/_libs/index.pyx\u001b[0m in \u001b[0;36mpandas._libs.index.IndexEngine.get_loc\u001b[0;34m()\u001b[0m\n",
      "\u001b[0;32mpandas/_libs/hashtable_class_helper.pxi\u001b[0m in \u001b[0;36mpandas._libs.hashtable.PyObjectHashTable.get_item\u001b[0;34m()\u001b[0m\n",
      "\u001b[0;32mpandas/_libs/hashtable_class_helper.pxi\u001b[0m in \u001b[0;36mpandas._libs.hashtable.PyObjectHashTable.get_item\u001b[0;34m()\u001b[0m\n",
      "\u001b[0;31mKeyError\u001b[0m: 'Date Local'",
      "\nDuring handling of the above exception, another exception occurred:\n",
      "\u001b[0;31mKeyError\u001b[0m                                  Traceback (most recent call last)",
      "\u001b[0;32m<ipython-input-207-3fecd4abc310>\u001b[0m in \u001b[0;36m<module>\u001b[0;34m()\u001b[0m\n\u001b[0;32m----> 1\u001b[0;31m \u001b[0maq\u001b[0m\u001b[0;34m[\u001b[0m\u001b[0;34m'Date Local'\u001b[0m\u001b[0;34m]\u001b[0m\u001b[0;34m.\u001b[0m\u001b[0munique\u001b[0m\u001b[0;34m(\u001b[0m\u001b[0;34m)\u001b[0m\u001b[0;34m\u001b[0m\u001b[0m\n\u001b[0m",
      "\u001b[0;32m~/anaconda3/lib/python3.6/site-packages/pandas/core/frame.py\u001b[0m in \u001b[0;36m__getitem__\u001b[0;34m(self, key)\u001b[0m\n\u001b[1;32m   2137\u001b[0m             \u001b[0;32mreturn\u001b[0m \u001b[0mself\u001b[0m\u001b[0;34m.\u001b[0m\u001b[0m_getitem_multilevel\u001b[0m\u001b[0;34m(\u001b[0m\u001b[0mkey\u001b[0m\u001b[0;34m)\u001b[0m\u001b[0;34m\u001b[0m\u001b[0m\n\u001b[1;32m   2138\u001b[0m         \u001b[0;32melse\u001b[0m\u001b[0;34m:\u001b[0m\u001b[0;34m\u001b[0m\u001b[0m\n\u001b[0;32m-> 2139\u001b[0;31m             \u001b[0;32mreturn\u001b[0m \u001b[0mself\u001b[0m\u001b[0;34m.\u001b[0m\u001b[0m_getitem_column\u001b[0m\u001b[0;34m(\u001b[0m\u001b[0mkey\u001b[0m\u001b[0;34m)\u001b[0m\u001b[0;34m\u001b[0m\u001b[0m\n\u001b[0m\u001b[1;32m   2140\u001b[0m \u001b[0;34m\u001b[0m\u001b[0m\n\u001b[1;32m   2141\u001b[0m     \u001b[0;32mdef\u001b[0m \u001b[0m_getitem_column\u001b[0m\u001b[0;34m(\u001b[0m\u001b[0mself\u001b[0m\u001b[0;34m,\u001b[0m \u001b[0mkey\u001b[0m\u001b[0;34m)\u001b[0m\u001b[0;34m:\u001b[0m\u001b[0;34m\u001b[0m\u001b[0m\n",
      "\u001b[0;32m~/anaconda3/lib/python3.6/site-packages/pandas/core/frame.py\u001b[0m in \u001b[0;36m_getitem_column\u001b[0;34m(self, key)\u001b[0m\n\u001b[1;32m   2144\u001b[0m         \u001b[0;31m# get column\u001b[0m\u001b[0;34m\u001b[0m\u001b[0;34m\u001b[0m\u001b[0m\n\u001b[1;32m   2145\u001b[0m         \u001b[0;32mif\u001b[0m \u001b[0mself\u001b[0m\u001b[0;34m.\u001b[0m\u001b[0mcolumns\u001b[0m\u001b[0;34m.\u001b[0m\u001b[0mis_unique\u001b[0m\u001b[0;34m:\u001b[0m\u001b[0;34m\u001b[0m\u001b[0m\n\u001b[0;32m-> 2146\u001b[0;31m             \u001b[0;32mreturn\u001b[0m \u001b[0mself\u001b[0m\u001b[0;34m.\u001b[0m\u001b[0m_get_item_cache\u001b[0m\u001b[0;34m(\u001b[0m\u001b[0mkey\u001b[0m\u001b[0;34m)\u001b[0m\u001b[0;34m\u001b[0m\u001b[0m\n\u001b[0m\u001b[1;32m   2147\u001b[0m \u001b[0;34m\u001b[0m\u001b[0m\n\u001b[1;32m   2148\u001b[0m         \u001b[0;31m# duplicate columns & possible reduce dimensionality\u001b[0m\u001b[0;34m\u001b[0m\u001b[0;34m\u001b[0m\u001b[0m\n",
      "\u001b[0;32m~/anaconda3/lib/python3.6/site-packages/pandas/core/generic.py\u001b[0m in \u001b[0;36m_get_item_cache\u001b[0;34m(self, item)\u001b[0m\n\u001b[1;32m   1840\u001b[0m         \u001b[0mres\u001b[0m \u001b[0;34m=\u001b[0m \u001b[0mcache\u001b[0m\u001b[0;34m.\u001b[0m\u001b[0mget\u001b[0m\u001b[0;34m(\u001b[0m\u001b[0mitem\u001b[0m\u001b[0;34m)\u001b[0m\u001b[0;34m\u001b[0m\u001b[0m\n\u001b[1;32m   1841\u001b[0m         \u001b[0;32mif\u001b[0m \u001b[0mres\u001b[0m \u001b[0;32mis\u001b[0m \u001b[0;32mNone\u001b[0m\u001b[0;34m:\u001b[0m\u001b[0;34m\u001b[0m\u001b[0m\n\u001b[0;32m-> 1842\u001b[0;31m             \u001b[0mvalues\u001b[0m \u001b[0;34m=\u001b[0m \u001b[0mself\u001b[0m\u001b[0;34m.\u001b[0m\u001b[0m_data\u001b[0m\u001b[0;34m.\u001b[0m\u001b[0mget\u001b[0m\u001b[0;34m(\u001b[0m\u001b[0mitem\u001b[0m\u001b[0;34m)\u001b[0m\u001b[0;34m\u001b[0m\u001b[0m\n\u001b[0m\u001b[1;32m   1843\u001b[0m             \u001b[0mres\u001b[0m \u001b[0;34m=\u001b[0m \u001b[0mself\u001b[0m\u001b[0;34m.\u001b[0m\u001b[0m_box_item_values\u001b[0m\u001b[0;34m(\u001b[0m\u001b[0mitem\u001b[0m\u001b[0;34m,\u001b[0m \u001b[0mvalues\u001b[0m\u001b[0;34m)\u001b[0m\u001b[0;34m\u001b[0m\u001b[0m\n\u001b[1;32m   1844\u001b[0m             \u001b[0mcache\u001b[0m\u001b[0;34m[\u001b[0m\u001b[0mitem\u001b[0m\u001b[0;34m]\u001b[0m \u001b[0;34m=\u001b[0m \u001b[0mres\u001b[0m\u001b[0;34m\u001b[0m\u001b[0m\n",
      "\u001b[0;32m~/anaconda3/lib/python3.6/site-packages/pandas/core/internals.py\u001b[0m in \u001b[0;36mget\u001b[0;34m(self, item, fastpath)\u001b[0m\n\u001b[1;32m   3841\u001b[0m \u001b[0;34m\u001b[0m\u001b[0m\n\u001b[1;32m   3842\u001b[0m             \u001b[0;32mif\u001b[0m \u001b[0;32mnot\u001b[0m \u001b[0misna\u001b[0m\u001b[0;34m(\u001b[0m\u001b[0mitem\u001b[0m\u001b[0;34m)\u001b[0m\u001b[0;34m:\u001b[0m\u001b[0;34m\u001b[0m\u001b[0m\n\u001b[0;32m-> 3843\u001b[0;31m                 \u001b[0mloc\u001b[0m \u001b[0;34m=\u001b[0m \u001b[0mself\u001b[0m\u001b[0;34m.\u001b[0m\u001b[0mitems\u001b[0m\u001b[0;34m.\u001b[0m\u001b[0mget_loc\u001b[0m\u001b[0;34m(\u001b[0m\u001b[0mitem\u001b[0m\u001b[0;34m)\u001b[0m\u001b[0;34m\u001b[0m\u001b[0m\n\u001b[0m\u001b[1;32m   3844\u001b[0m             \u001b[0;32melse\u001b[0m\u001b[0;34m:\u001b[0m\u001b[0;34m\u001b[0m\u001b[0m\n\u001b[1;32m   3845\u001b[0m                 \u001b[0mindexer\u001b[0m \u001b[0;34m=\u001b[0m \u001b[0mnp\u001b[0m\u001b[0;34m.\u001b[0m\u001b[0marange\u001b[0m\u001b[0;34m(\u001b[0m\u001b[0mlen\u001b[0m\u001b[0;34m(\u001b[0m\u001b[0mself\u001b[0m\u001b[0;34m.\u001b[0m\u001b[0mitems\u001b[0m\u001b[0;34m)\u001b[0m\u001b[0;34m)\u001b[0m\u001b[0;34m[\u001b[0m\u001b[0misna\u001b[0m\u001b[0;34m(\u001b[0m\u001b[0mself\u001b[0m\u001b[0;34m.\u001b[0m\u001b[0mitems\u001b[0m\u001b[0;34m)\u001b[0m\u001b[0;34m]\u001b[0m\u001b[0;34m\u001b[0m\u001b[0m\n",
      "\u001b[0;32m~/anaconda3/lib/python3.6/site-packages/pandas/core/indexes/base.py\u001b[0m in \u001b[0;36mget_loc\u001b[0;34m(self, key, method, tolerance)\u001b[0m\n\u001b[1;32m   2525\u001b[0m                 \u001b[0;32mreturn\u001b[0m \u001b[0mself\u001b[0m\u001b[0;34m.\u001b[0m\u001b[0m_engine\u001b[0m\u001b[0;34m.\u001b[0m\u001b[0mget_loc\u001b[0m\u001b[0;34m(\u001b[0m\u001b[0mkey\u001b[0m\u001b[0;34m)\u001b[0m\u001b[0;34m\u001b[0m\u001b[0m\n\u001b[1;32m   2526\u001b[0m             \u001b[0;32mexcept\u001b[0m \u001b[0mKeyError\u001b[0m\u001b[0;34m:\u001b[0m\u001b[0;34m\u001b[0m\u001b[0m\n\u001b[0;32m-> 2527\u001b[0;31m                 \u001b[0;32mreturn\u001b[0m \u001b[0mself\u001b[0m\u001b[0;34m.\u001b[0m\u001b[0m_engine\u001b[0m\u001b[0;34m.\u001b[0m\u001b[0mget_loc\u001b[0m\u001b[0;34m(\u001b[0m\u001b[0mself\u001b[0m\u001b[0;34m.\u001b[0m\u001b[0m_maybe_cast_indexer\u001b[0m\u001b[0;34m(\u001b[0m\u001b[0mkey\u001b[0m\u001b[0;34m)\u001b[0m\u001b[0;34m)\u001b[0m\u001b[0;34m\u001b[0m\u001b[0m\n\u001b[0m\u001b[1;32m   2528\u001b[0m \u001b[0;34m\u001b[0m\u001b[0m\n\u001b[1;32m   2529\u001b[0m         \u001b[0mindexer\u001b[0m \u001b[0;34m=\u001b[0m \u001b[0mself\u001b[0m\u001b[0;34m.\u001b[0m\u001b[0mget_indexer\u001b[0m\u001b[0;34m(\u001b[0m\u001b[0;34m[\u001b[0m\u001b[0mkey\u001b[0m\u001b[0;34m]\u001b[0m\u001b[0;34m,\u001b[0m \u001b[0mmethod\u001b[0m\u001b[0;34m=\u001b[0m\u001b[0mmethod\u001b[0m\u001b[0;34m,\u001b[0m \u001b[0mtolerance\u001b[0m\u001b[0;34m=\u001b[0m\u001b[0mtolerance\u001b[0m\u001b[0;34m)\u001b[0m\u001b[0;34m\u001b[0m\u001b[0m\n",
      "\u001b[0;32mpandas/_libs/index.pyx\u001b[0m in \u001b[0;36mpandas._libs.index.IndexEngine.get_loc\u001b[0;34m()\u001b[0m\n",
      "\u001b[0;32mpandas/_libs/index.pyx\u001b[0m in \u001b[0;36mpandas._libs.index.IndexEngine.get_loc\u001b[0;34m()\u001b[0m\n",
      "\u001b[0;32mpandas/_libs/hashtable_class_helper.pxi\u001b[0m in \u001b[0;36mpandas._libs.hashtable.PyObjectHashTable.get_item\u001b[0;34m()\u001b[0m\n",
      "\u001b[0;32mpandas/_libs/hashtable_class_helper.pxi\u001b[0m in \u001b[0;36mpandas._libs.hashtable.PyObjectHashTable.get_item\u001b[0;34m()\u001b[0m\n",
      "\u001b[0;31mKeyError\u001b[0m: 'Date Local'"
     ]
    }
   ],
   "source": [
    "aq['Date Local'].unique()"
   ]
  },
  {
   "cell_type": "code",
   "execution_count": 208,
   "metadata": {
    "ExecuteTime": {
     "end_time": "2018-06-08T00:50:27.352407Z",
     "start_time": "2018-06-08T00:50:27.344125Z"
    },
    "hidden": true
   },
   "outputs": [
    {
     "ename": "NameError",
     "evalue": "name 'df' is not defined",
     "output_type": "error",
     "traceback": [
      "\u001b[0;31m---------------------------------------------------------------------------\u001b[0m",
      "\u001b[0;31mNameError\u001b[0m                                 Traceback (most recent call last)",
      "\u001b[0;32m<ipython-input-208-466e5cfcabb7>\u001b[0m in \u001b[0;36m<module>\u001b[0;34m()\u001b[0m\n\u001b[0;32m----> 1\u001b[0;31m \u001b[0mprint\u001b[0m\u001b[0;34m(\u001b[0m\u001b[0;34m'Max: '\u001b[0m\u001b[0;34m+\u001b[0m \u001b[0mstr\u001b[0m\u001b[0;34m(\u001b[0m\u001b[0mmax\u001b[0m\u001b[0;34m(\u001b[0m\u001b[0mdf\u001b[0m\u001b[0;34m[\u001b[0m\u001b[0;34m'co2_uncert'\u001b[0m\u001b[0;34m]\u001b[0m\u001b[0;34m)\u001b[0m\u001b[0;34m)\u001b[0m\u001b[0;34m)\u001b[0m\u001b[0;34m\u001b[0m\u001b[0m\n\u001b[0m\u001b[1;32m      2\u001b[0m \u001b[0mprint\u001b[0m\u001b[0;34m(\u001b[0m\u001b[0;34m'Min: '\u001b[0m \u001b[0;34m+\u001b[0m \u001b[0mstr\u001b[0m\u001b[0;34m(\u001b[0m\u001b[0mmin\u001b[0m\u001b[0;34m(\u001b[0m\u001b[0mdf\u001b[0m\u001b[0;34m[\u001b[0m\u001b[0;34m'co2_uncert'\u001b[0m\u001b[0;34m]\u001b[0m\u001b[0;34m)\u001b[0m\u001b[0;34m)\u001b[0m\u001b[0;34m)\u001b[0m\u001b[0;34m\u001b[0m\u001b[0m\n\u001b[1;32m      3\u001b[0m \u001b[0mprint\u001b[0m\u001b[0;34m(\u001b[0m\u001b[0;34m'Average: '\u001b[0m\u001b[0;34m+\u001b[0m \u001b[0mstr\u001b[0m\u001b[0;34m(\u001b[0m\u001b[0mnp\u001b[0m\u001b[0;34m.\u001b[0m\u001b[0maverage\u001b[0m\u001b[0;34m(\u001b[0m\u001b[0mdf\u001b[0m\u001b[0;34m[\u001b[0m\u001b[0;34m'co2_uncert'\u001b[0m\u001b[0;34m]\u001b[0m\u001b[0;34m)\u001b[0m\u001b[0;34m)\u001b[0m\u001b[0;34m)\u001b[0m\u001b[0;34m\u001b[0m\u001b[0m\n\u001b[1;32m      4\u001b[0m \u001b[0mprint\u001b[0m\u001b[0;34m(\u001b[0m\u001b[0;34m'Median: '\u001b[0m\u001b[0;34m+\u001b[0m \u001b[0mstr\u001b[0m\u001b[0;34m(\u001b[0m\u001b[0mnp\u001b[0m\u001b[0;34m.\u001b[0m\u001b[0mmedian\u001b[0m\u001b[0;34m(\u001b[0m\u001b[0mdf\u001b[0m\u001b[0;34m[\u001b[0m\u001b[0;34m'co2_uncert'\u001b[0m\u001b[0;34m]\u001b[0m\u001b[0;34m)\u001b[0m\u001b[0;34m)\u001b[0m\u001b[0;34m)\u001b[0m\u001b[0;34m\u001b[0m\u001b[0m\n",
      "\u001b[0;31mNameError\u001b[0m: name 'df' is not defined"
     ]
    }
   ],
   "source": [
    "print('Max: '+ str(max(df['co2_uncert'])))\n",
    "print('Min: ' + str(min(df['co2_uncert'])))\n",
    "print('Average: '+ str(np.average(df['co2_uncert'])))\n",
    "print('Median: '+ str(np.median(df['co2_uncert'])))"
   ]
  },
  {
   "cell_type": "code",
   "execution_count": 209,
   "metadata": {
    "ExecuteTime": {
     "end_time": "2018-06-08T01:07:09.019933Z",
     "start_time": "2018-06-08T01:07:09.013561Z"
    },
    "hidden": true
   },
   "outputs": [
    {
     "name": "stdout",
     "output_type": "stream",
     "text": [
      "Max: 49.916667\n",
      "Min: -3.583333\n",
      "Average: 8.690145392704697\n",
      "Median: 7.666666999999999\n"
     ]
    }
   ],
   "source": [
    "print('Max: '+ str(max(aq['Part Mean'])))\n",
    "print('Min: ' + str(min(aq['Part Mean'])))\n",
    "print('Average: '+ str(np.average(aq['Part Mean'])))\n",
    "print('Median: '+ str(np.median(aq['Part Mean'])))"
   ]
  },
  {
   "cell_type": "code",
   "execution_count": 210,
   "metadata": {
    "ExecuteTime": {
     "end_time": "2018-06-08T01:04:57.313597Z",
     "start_time": "2018-06-08T01:04:57.309237Z"
    },
    "hidden": true
   },
   "outputs": [
    {
     "ename": "KeyError",
     "evalue": "'SO Mean'",
     "output_type": "error",
     "traceback": [
      "\u001b[0;31m---------------------------------------------------------------------------\u001b[0m",
      "\u001b[0;31mKeyError\u001b[0m                                  Traceback (most recent call last)",
      "\u001b[0;32m~/anaconda3/lib/python3.6/site-packages/pandas/core/indexes/base.py\u001b[0m in \u001b[0;36mget_loc\u001b[0;34m(self, key, method, tolerance)\u001b[0m\n\u001b[1;32m   2524\u001b[0m             \u001b[0;32mtry\u001b[0m\u001b[0;34m:\u001b[0m\u001b[0;34m\u001b[0m\u001b[0m\n\u001b[0;32m-> 2525\u001b[0;31m                 \u001b[0;32mreturn\u001b[0m \u001b[0mself\u001b[0m\u001b[0;34m.\u001b[0m\u001b[0m_engine\u001b[0m\u001b[0;34m.\u001b[0m\u001b[0mget_loc\u001b[0m\u001b[0;34m(\u001b[0m\u001b[0mkey\u001b[0m\u001b[0;34m)\u001b[0m\u001b[0;34m\u001b[0m\u001b[0m\n\u001b[0m\u001b[1;32m   2526\u001b[0m             \u001b[0;32mexcept\u001b[0m \u001b[0mKeyError\u001b[0m\u001b[0;34m:\u001b[0m\u001b[0;34m\u001b[0m\u001b[0m\n",
      "\u001b[0;32mpandas/_libs/index.pyx\u001b[0m in \u001b[0;36mpandas._libs.index.IndexEngine.get_loc\u001b[0;34m()\u001b[0m\n",
      "\u001b[0;32mpandas/_libs/index.pyx\u001b[0m in \u001b[0;36mpandas._libs.index.IndexEngine.get_loc\u001b[0;34m()\u001b[0m\n",
      "\u001b[0;32mpandas/_libs/hashtable_class_helper.pxi\u001b[0m in \u001b[0;36mpandas._libs.hashtable.PyObjectHashTable.get_item\u001b[0;34m()\u001b[0m\n",
      "\u001b[0;32mpandas/_libs/hashtable_class_helper.pxi\u001b[0m in \u001b[0;36mpandas._libs.hashtable.PyObjectHashTable.get_item\u001b[0;34m()\u001b[0m\n",
      "\u001b[0;31mKeyError\u001b[0m: 'SO Mean'",
      "\nDuring handling of the above exception, another exception occurred:\n",
      "\u001b[0;31mKeyError\u001b[0m                                  Traceback (most recent call last)",
      "\u001b[0;32m<ipython-input-210-eda34177c158>\u001b[0m in \u001b[0;36m<module>\u001b[0;34m()\u001b[0m\n\u001b[0;32m----> 1\u001b[0;31m \u001b[0mnp\u001b[0m\u001b[0;34m.\u001b[0m\u001b[0mpercentile\u001b[0m\u001b[0;34m(\u001b[0m\u001b[0maq\u001b[0m\u001b[0;34m[\u001b[0m\u001b[0;34m'SO Mean'\u001b[0m\u001b[0;34m]\u001b[0m\u001b[0;34m,\u001b[0m \u001b[0;36m99\u001b[0m\u001b[0;34m)\u001b[0m\u001b[0;34m\u001b[0m\u001b[0m\n\u001b[0m",
      "\u001b[0;32m~/anaconda3/lib/python3.6/site-packages/pandas/core/frame.py\u001b[0m in \u001b[0;36m__getitem__\u001b[0;34m(self, key)\u001b[0m\n\u001b[1;32m   2137\u001b[0m             \u001b[0;32mreturn\u001b[0m \u001b[0mself\u001b[0m\u001b[0;34m.\u001b[0m\u001b[0m_getitem_multilevel\u001b[0m\u001b[0;34m(\u001b[0m\u001b[0mkey\u001b[0m\u001b[0;34m)\u001b[0m\u001b[0;34m\u001b[0m\u001b[0m\n\u001b[1;32m   2138\u001b[0m         \u001b[0;32melse\u001b[0m\u001b[0;34m:\u001b[0m\u001b[0;34m\u001b[0m\u001b[0m\n\u001b[0;32m-> 2139\u001b[0;31m             \u001b[0;32mreturn\u001b[0m \u001b[0mself\u001b[0m\u001b[0;34m.\u001b[0m\u001b[0m_getitem_column\u001b[0m\u001b[0;34m(\u001b[0m\u001b[0mkey\u001b[0m\u001b[0;34m)\u001b[0m\u001b[0;34m\u001b[0m\u001b[0m\n\u001b[0m\u001b[1;32m   2140\u001b[0m \u001b[0;34m\u001b[0m\u001b[0m\n\u001b[1;32m   2141\u001b[0m     \u001b[0;32mdef\u001b[0m \u001b[0m_getitem_column\u001b[0m\u001b[0;34m(\u001b[0m\u001b[0mself\u001b[0m\u001b[0;34m,\u001b[0m \u001b[0mkey\u001b[0m\u001b[0;34m)\u001b[0m\u001b[0;34m:\u001b[0m\u001b[0;34m\u001b[0m\u001b[0m\n",
      "\u001b[0;32m~/anaconda3/lib/python3.6/site-packages/pandas/core/frame.py\u001b[0m in \u001b[0;36m_getitem_column\u001b[0;34m(self, key)\u001b[0m\n\u001b[1;32m   2144\u001b[0m         \u001b[0;31m# get column\u001b[0m\u001b[0;34m\u001b[0m\u001b[0;34m\u001b[0m\u001b[0m\n\u001b[1;32m   2145\u001b[0m         \u001b[0;32mif\u001b[0m \u001b[0mself\u001b[0m\u001b[0;34m.\u001b[0m\u001b[0mcolumns\u001b[0m\u001b[0;34m.\u001b[0m\u001b[0mis_unique\u001b[0m\u001b[0;34m:\u001b[0m\u001b[0;34m\u001b[0m\u001b[0m\n\u001b[0;32m-> 2146\u001b[0;31m             \u001b[0;32mreturn\u001b[0m \u001b[0mself\u001b[0m\u001b[0;34m.\u001b[0m\u001b[0m_get_item_cache\u001b[0m\u001b[0;34m(\u001b[0m\u001b[0mkey\u001b[0m\u001b[0;34m)\u001b[0m\u001b[0;34m\u001b[0m\u001b[0m\n\u001b[0m\u001b[1;32m   2147\u001b[0m \u001b[0;34m\u001b[0m\u001b[0m\n\u001b[1;32m   2148\u001b[0m         \u001b[0;31m# duplicate columns & possible reduce dimensionality\u001b[0m\u001b[0;34m\u001b[0m\u001b[0;34m\u001b[0m\u001b[0m\n",
      "\u001b[0;32m~/anaconda3/lib/python3.6/site-packages/pandas/core/generic.py\u001b[0m in \u001b[0;36m_get_item_cache\u001b[0;34m(self, item)\u001b[0m\n\u001b[1;32m   1840\u001b[0m         \u001b[0mres\u001b[0m \u001b[0;34m=\u001b[0m \u001b[0mcache\u001b[0m\u001b[0;34m.\u001b[0m\u001b[0mget\u001b[0m\u001b[0;34m(\u001b[0m\u001b[0mitem\u001b[0m\u001b[0;34m)\u001b[0m\u001b[0;34m\u001b[0m\u001b[0m\n\u001b[1;32m   1841\u001b[0m         \u001b[0;32mif\u001b[0m \u001b[0mres\u001b[0m \u001b[0;32mis\u001b[0m \u001b[0;32mNone\u001b[0m\u001b[0;34m:\u001b[0m\u001b[0;34m\u001b[0m\u001b[0m\n\u001b[0;32m-> 1842\u001b[0;31m             \u001b[0mvalues\u001b[0m \u001b[0;34m=\u001b[0m \u001b[0mself\u001b[0m\u001b[0;34m.\u001b[0m\u001b[0m_data\u001b[0m\u001b[0;34m.\u001b[0m\u001b[0mget\u001b[0m\u001b[0;34m(\u001b[0m\u001b[0mitem\u001b[0m\u001b[0;34m)\u001b[0m\u001b[0;34m\u001b[0m\u001b[0m\n\u001b[0m\u001b[1;32m   1843\u001b[0m             \u001b[0mres\u001b[0m \u001b[0;34m=\u001b[0m \u001b[0mself\u001b[0m\u001b[0;34m.\u001b[0m\u001b[0m_box_item_values\u001b[0m\u001b[0;34m(\u001b[0m\u001b[0mitem\u001b[0m\u001b[0;34m,\u001b[0m \u001b[0mvalues\u001b[0m\u001b[0;34m)\u001b[0m\u001b[0;34m\u001b[0m\u001b[0m\n\u001b[1;32m   1844\u001b[0m             \u001b[0mcache\u001b[0m\u001b[0;34m[\u001b[0m\u001b[0mitem\u001b[0m\u001b[0;34m]\u001b[0m \u001b[0;34m=\u001b[0m \u001b[0mres\u001b[0m\u001b[0;34m\u001b[0m\u001b[0m\n",
      "\u001b[0;32m~/anaconda3/lib/python3.6/site-packages/pandas/core/internals.py\u001b[0m in \u001b[0;36mget\u001b[0;34m(self, item, fastpath)\u001b[0m\n\u001b[1;32m   3841\u001b[0m \u001b[0;34m\u001b[0m\u001b[0m\n\u001b[1;32m   3842\u001b[0m             \u001b[0;32mif\u001b[0m \u001b[0;32mnot\u001b[0m \u001b[0misna\u001b[0m\u001b[0;34m(\u001b[0m\u001b[0mitem\u001b[0m\u001b[0;34m)\u001b[0m\u001b[0;34m:\u001b[0m\u001b[0;34m\u001b[0m\u001b[0m\n\u001b[0;32m-> 3843\u001b[0;31m                 \u001b[0mloc\u001b[0m \u001b[0;34m=\u001b[0m \u001b[0mself\u001b[0m\u001b[0;34m.\u001b[0m\u001b[0mitems\u001b[0m\u001b[0;34m.\u001b[0m\u001b[0mget_loc\u001b[0m\u001b[0;34m(\u001b[0m\u001b[0mitem\u001b[0m\u001b[0;34m)\u001b[0m\u001b[0;34m\u001b[0m\u001b[0m\n\u001b[0m\u001b[1;32m   3844\u001b[0m             \u001b[0;32melse\u001b[0m\u001b[0;34m:\u001b[0m\u001b[0;34m\u001b[0m\u001b[0m\n\u001b[1;32m   3845\u001b[0m                 \u001b[0mindexer\u001b[0m \u001b[0;34m=\u001b[0m \u001b[0mnp\u001b[0m\u001b[0;34m.\u001b[0m\u001b[0marange\u001b[0m\u001b[0;34m(\u001b[0m\u001b[0mlen\u001b[0m\u001b[0;34m(\u001b[0m\u001b[0mself\u001b[0m\u001b[0;34m.\u001b[0m\u001b[0mitems\u001b[0m\u001b[0;34m)\u001b[0m\u001b[0;34m)\u001b[0m\u001b[0;34m[\u001b[0m\u001b[0misna\u001b[0m\u001b[0;34m(\u001b[0m\u001b[0mself\u001b[0m\u001b[0;34m.\u001b[0m\u001b[0mitems\u001b[0m\u001b[0;34m)\u001b[0m\u001b[0;34m]\u001b[0m\u001b[0;34m\u001b[0m\u001b[0m\n",
      "\u001b[0;32m~/anaconda3/lib/python3.6/site-packages/pandas/core/indexes/base.py\u001b[0m in \u001b[0;36mget_loc\u001b[0;34m(self, key, method, tolerance)\u001b[0m\n\u001b[1;32m   2525\u001b[0m                 \u001b[0;32mreturn\u001b[0m \u001b[0mself\u001b[0m\u001b[0;34m.\u001b[0m\u001b[0m_engine\u001b[0m\u001b[0;34m.\u001b[0m\u001b[0mget_loc\u001b[0m\u001b[0;34m(\u001b[0m\u001b[0mkey\u001b[0m\u001b[0;34m)\u001b[0m\u001b[0;34m\u001b[0m\u001b[0m\n\u001b[1;32m   2526\u001b[0m             \u001b[0;32mexcept\u001b[0m \u001b[0mKeyError\u001b[0m\u001b[0;34m:\u001b[0m\u001b[0;34m\u001b[0m\u001b[0m\n\u001b[0;32m-> 2527\u001b[0;31m                 \u001b[0;32mreturn\u001b[0m \u001b[0mself\u001b[0m\u001b[0;34m.\u001b[0m\u001b[0m_engine\u001b[0m\u001b[0;34m.\u001b[0m\u001b[0mget_loc\u001b[0m\u001b[0;34m(\u001b[0m\u001b[0mself\u001b[0m\u001b[0;34m.\u001b[0m\u001b[0m_maybe_cast_indexer\u001b[0m\u001b[0;34m(\u001b[0m\u001b[0mkey\u001b[0m\u001b[0;34m)\u001b[0m\u001b[0;34m)\u001b[0m\u001b[0;34m\u001b[0m\u001b[0m\n\u001b[0m\u001b[1;32m   2528\u001b[0m \u001b[0;34m\u001b[0m\u001b[0m\n\u001b[1;32m   2529\u001b[0m         \u001b[0mindexer\u001b[0m \u001b[0;34m=\u001b[0m \u001b[0mself\u001b[0m\u001b[0;34m.\u001b[0m\u001b[0mget_indexer\u001b[0m\u001b[0;34m(\u001b[0m\u001b[0;34m[\u001b[0m\u001b[0mkey\u001b[0m\u001b[0;34m]\u001b[0m\u001b[0;34m,\u001b[0m \u001b[0mmethod\u001b[0m\u001b[0;34m=\u001b[0m\u001b[0mmethod\u001b[0m\u001b[0;34m,\u001b[0m \u001b[0mtolerance\u001b[0m\u001b[0;34m=\u001b[0m\u001b[0mtolerance\u001b[0m\u001b[0;34m)\u001b[0m\u001b[0;34m\u001b[0m\u001b[0m\n",
      "\u001b[0;32mpandas/_libs/index.pyx\u001b[0m in \u001b[0;36mpandas._libs.index.IndexEngine.get_loc\u001b[0;34m()\u001b[0m\n",
      "\u001b[0;32mpandas/_libs/index.pyx\u001b[0m in \u001b[0;36mpandas._libs.index.IndexEngine.get_loc\u001b[0;34m()\u001b[0m\n",
      "\u001b[0;32mpandas/_libs/hashtable_class_helper.pxi\u001b[0m in \u001b[0;36mpandas._libs.hashtable.PyObjectHashTable.get_item\u001b[0;34m()\u001b[0m\n",
      "\u001b[0;32mpandas/_libs/hashtable_class_helper.pxi\u001b[0m in \u001b[0;36mpandas._libs.hashtable.PyObjectHashTable.get_item\u001b[0;34m()\u001b[0m\n",
      "\u001b[0;31mKeyError\u001b[0m: 'SO Mean'"
     ]
    }
   ],
   "source": [
    "np.percentile(aq['SO Mean'], 99)"
   ]
  },
  {
   "cell_type": "code",
   "execution_count": 211,
   "metadata": {
    "ExecuteTime": {
     "end_time": "2018-06-08T01:09:15.787380Z",
     "start_time": "2018-06-08T01:09:15.773735Z"
    },
    "hidden": true
   },
   "outputs": [
    {
     "data": {
      "text/plain": [
       "\"df= (df[df['co2_uncert']<1.04])\\naq = aq[(aq['CO Mean']>0.05)]\\naq = aq[(aq['Oz Mean']>0.001)]\\naq = aq[(aq['Part Mean']>0) & (aq['Part Mean']<40)]\\naq = aq[(aq['SO Mean']>0.03) & (aq['SO Mean']<1)]\""
      ]
     },
     "execution_count": 211,
     "metadata": {},
     "output_type": "execute_result"
    }
   ],
   "source": [
    "#Removing Outliers because of large error associated with the calculation\n",
    "#actually, you don't remove any data for a time series analysis\n",
    "\"\"\"df= (df[df['co2_uncert']<1.04])\n",
    "aq = aq[(aq['CO Mean']>0.05)]\n",
    "aq = aq[(aq['Oz Mean']>0.001)]\n",
    "aq = aq[(aq['Part Mean']>0) & (aq['Part Mean']<40)]\n",
    "aq = aq[(aq['SO Mean']>0.03) & (aq['SO Mean']<1)]\"\"\""
   ]
  },
  {
   "cell_type": "code",
   "execution_count": 212,
   "metadata": {
    "ExecuteTime": {
     "end_time": "2018-06-08T00:56:48.111045Z",
     "start_time": "2018-06-08T00:56:48.106907Z"
    },
    "hidden": true
   },
   "outputs": [
    {
     "ename": "NameError",
     "evalue": "name 'df' is not defined",
     "output_type": "error",
     "traceback": [
      "\u001b[0;31m---------------------------------------------------------------------------\u001b[0m",
      "\u001b[0;31mNameError\u001b[0m                                 Traceback (most recent call last)",
      "\u001b[0;32m<ipython-input-212-ec941054f957>\u001b[0m in \u001b[0;36m<module>\u001b[0;34m()\u001b[0m\n\u001b[0;32m----> 1\u001b[0;31m \u001b[0mdf\u001b[0m\u001b[0;34m[\u001b[0m\u001b[0;34m'date'\u001b[0m\u001b[0;34m]\u001b[0m\u001b[0;34m[\u001b[0m\u001b[0;36m0\u001b[0m\u001b[0;34m]\u001b[0m\u001b[0;34m\u001b[0m\u001b[0m\n\u001b[0m",
      "\u001b[0;31mNameError\u001b[0m: name 'df' is not defined"
     ]
    }
   ],
   "source": [
    "df['date'][0]"
   ]
  },
  {
   "cell_type": "code",
   "execution_count": 213,
   "metadata": {
    "ExecuteTime": {
     "end_time": "2018-06-08T00:57:36.489847Z",
     "start_time": "2018-06-08T00:57:36.190405Z"
    },
    "hidden": true
   },
   "outputs": [
    {
     "ename": "NameError",
     "evalue": "name 'df' is not defined",
     "output_type": "error",
     "traceback": [
      "\u001b[0;31m---------------------------------------------------------------------------\u001b[0m",
      "\u001b[0;31mNameError\u001b[0m                                 Traceback (most recent call last)",
      "\u001b[0;32m<ipython-input-213-d1dc46e6ffde>\u001b[0m in \u001b[0;36m<module>\u001b[0;34m()\u001b[0m\n\u001b[0;32m----> 1\u001b[0;31m \u001b[0mplt\u001b[0m\u001b[0;34m.\u001b[0m\u001b[0mscatter\u001b[0m\u001b[0;34m(\u001b[0m\u001b[0mdf\u001b[0m\u001b[0;34m.\u001b[0m\u001b[0mindex\u001b[0m\u001b[0;34m,\u001b[0m\u001b[0mdf\u001b[0m\u001b[0;34m[\u001b[0m\u001b[0;34m'co2ppm'\u001b[0m\u001b[0;34m]\u001b[0m\u001b[0;34m)\u001b[0m\u001b[0;34m\u001b[0m\u001b[0m\n\u001b[0m",
      "\u001b[0;31mNameError\u001b[0m: name 'df' is not defined"
     ]
    }
   ],
   "source": [
    "plt.scatter(df.index,df['co2ppm'])"
   ]
  },
  {
   "cell_type": "code",
   "execution_count": 214,
   "metadata": {
    "ExecuteTime": {
     "end_time": "2018-06-08T01:00:38.608582Z",
     "start_time": "2018-06-08T01:00:38.588287Z"
    },
    "hidden": true
   },
   "outputs": [
    {
     "data": {
      "text/html": [
       "<div>\n",
       "<style scoped>\n",
       "    .dataframe tbody tr th:only-of-type {\n",
       "        vertical-align: middle;\n",
       "    }\n",
       "\n",
       "    .dataframe tbody tr th {\n",
       "        vertical-align: top;\n",
       "    }\n",
       "\n",
       "    .dataframe thead th {\n",
       "        text-align: right;\n",
       "    }\n",
       "</style>\n",
       "<table border=\"1\" class=\"dataframe\">\n",
       "  <thead>\n",
       "    <tr style=\"text-align: right;\">\n",
       "      <th></th>\n",
       "      <th>Part Mean</th>\n",
       "      <th>Part Max Value</th>\n",
       "      <th>Part Max Hour</th>\n",
       "      <th>Latitude</th>\n",
       "      <th>Longitude</th>\n",
       "      <th>CO Mean</th>\n",
       "      <th>CO Max Value</th>\n",
       "      <th>CO Max Hour</th>\n",
       "      <th>Oz Mean</th>\n",
       "      <th>Oz Max Value</th>\n",
       "      <th>Oz Max Hour</th>\n",
       "      <th>AQI</th>\n",
       "      <th>Category</th>\n",
       "      <th>AQ Defining Parameter</th>\n",
       "    </tr>\n",
       "    <tr>\n",
       "      <th>Date Local</th>\n",
       "      <th></th>\n",
       "      <th></th>\n",
       "      <th></th>\n",
       "      <th></th>\n",
       "      <th></th>\n",
       "      <th></th>\n",
       "      <th></th>\n",
       "      <th></th>\n",
       "      <th></th>\n",
       "      <th></th>\n",
       "      <th></th>\n",
       "      <th></th>\n",
       "      <th></th>\n",
       "      <th></th>\n",
       "    </tr>\n",
       "  </thead>\n",
       "  <tbody>\n",
       "    <tr>\n",
       "      <th>2011-01-01</th>\n",
       "      <td>5.750000</td>\n",
       "      <td>17.0</td>\n",
       "      <td>17.0</td>\n",
       "      <td>37.765946</td>\n",
       "      <td>-122.399044</td>\n",
       "      <td>0.282609</td>\n",
       "      <td>0.4</td>\n",
       "      <td>15.0</td>\n",
       "      <td>0.015750</td>\n",
       "      <td>0.021</td>\n",
       "      <td>6.0</td>\n",
       "      <td>26.0</td>\n",
       "      <td>Good</td>\n",
       "      <td>NO2</td>\n",
       "    </tr>\n",
       "    <tr>\n",
       "      <th>2011-01-02</th>\n",
       "      <td>5.083333</td>\n",
       "      <td>10.0</td>\n",
       "      <td>14.0</td>\n",
       "      <td>37.765946</td>\n",
       "      <td>-122.399044</td>\n",
       "      <td>0.260870</td>\n",
       "      <td>0.3</td>\n",
       "      <td>0.0</td>\n",
       "      <td>0.020500</td>\n",
       "      <td>0.023</td>\n",
       "      <td>2.0</td>\n",
       "      <td>21.0</td>\n",
       "      <td>Good</td>\n",
       "      <td>Ozone</td>\n",
       "    </tr>\n",
       "    <tr>\n",
       "      <th>2011-01-03</th>\n",
       "      <td>12.541667</td>\n",
       "      <td>20.0</td>\n",
       "      <td>8.0</td>\n",
       "      <td>37.765946</td>\n",
       "      <td>-122.399044</td>\n",
       "      <td>0.404348</td>\n",
       "      <td>0.7</td>\n",
       "      <td>18.0</td>\n",
       "      <td>0.008000</td>\n",
       "      <td>0.014</td>\n",
       "      <td>0.0</td>\n",
       "      <td>52.0</td>\n",
       "      <td>Moderate</td>\n",
       "      <td>PM2.5</td>\n",
       "    </tr>\n",
       "    <tr>\n",
       "      <th>2011-01-04</th>\n",
       "      <td>11.130435</td>\n",
       "      <td>20.0</td>\n",
       "      <td>21.0</td>\n",
       "      <td>37.765946</td>\n",
       "      <td>-122.399044</td>\n",
       "      <td>0.441176</td>\n",
       "      <td>0.7</td>\n",
       "      <td>20.0</td>\n",
       "      <td>0.003143</td>\n",
       "      <td>0.012</td>\n",
       "      <td>11.0</td>\n",
       "      <td>46.0</td>\n",
       "      <td>Good</td>\n",
       "      <td>PM2.5</td>\n",
       "    </tr>\n",
       "    <tr>\n",
       "      <th>2011-01-05</th>\n",
       "      <td>10.541667</td>\n",
       "      <td>22.0</td>\n",
       "      <td>6.0</td>\n",
       "      <td>37.765946</td>\n",
       "      <td>-122.399044</td>\n",
       "      <td>0.421739</td>\n",
       "      <td>0.7</td>\n",
       "      <td>7.0</td>\n",
       "      <td>0.005292</td>\n",
       "      <td>0.014</td>\n",
       "      <td>9.0</td>\n",
       "      <td>44.0</td>\n",
       "      <td>Good</td>\n",
       "      <td>PM2.5</td>\n",
       "    </tr>\n",
       "  </tbody>\n",
       "</table>\n",
       "</div>"
      ],
      "text/plain": [
       "            Part Mean  Part Max Value  Part Max Hour   Latitude   Longitude  \\\n",
       "Date Local                                                                    \n",
       "2011-01-01   5.750000            17.0           17.0  37.765946 -122.399044   \n",
       "2011-01-02   5.083333            10.0           14.0  37.765946 -122.399044   \n",
       "2011-01-03  12.541667            20.0            8.0  37.765946 -122.399044   \n",
       "2011-01-04  11.130435            20.0           21.0  37.765946 -122.399044   \n",
       "2011-01-05  10.541667            22.0            6.0  37.765946 -122.399044   \n",
       "\n",
       "             CO Mean  CO Max Value  CO Max Hour   Oz Mean  Oz Max Value  \\\n",
       "Date Local                                                                \n",
       "2011-01-01  0.282609           0.4         15.0  0.015750         0.021   \n",
       "2011-01-02  0.260870           0.3          0.0  0.020500         0.023   \n",
       "2011-01-03  0.404348           0.7         18.0  0.008000         0.014   \n",
       "2011-01-04  0.441176           0.7         20.0  0.003143         0.012   \n",
       "2011-01-05  0.421739           0.7          7.0  0.005292         0.014   \n",
       "\n",
       "            Oz Max Hour   AQI  Category AQ Defining Parameter  \n",
       "Date Local                                                     \n",
       "2011-01-01          6.0  26.0      Good                   NO2  \n",
       "2011-01-02          2.0  21.0      Good                 Ozone  \n",
       "2011-01-03          0.0  52.0  Moderate                 PM2.5  \n",
       "2011-01-04         11.0  46.0      Good                 PM2.5  \n",
       "2011-01-05          9.0  44.0      Good                 PM2.5  "
      ]
     },
     "execution_count": 214,
     "metadata": {},
     "output_type": "execute_result"
    }
   ],
   "source": [
    "aq.head()\n"
   ]
  },
  {
   "cell_type": "code",
   "execution_count": 215,
   "metadata": {
    "hidden": true
   },
   "outputs": [],
   "source": [
    "aq['latlong'] = [(x,y) for x,y in zip(list(aq['Latitude']), list(aq['Longitude']))]"
   ]
  },
  {
   "cell_type": "code",
   "execution_count": 216,
   "metadata": {
    "ExecuteTime": {
     "end_time": "2018-06-08T01:09:02.442975Z",
     "start_time": "2018-06-08T01:09:02.225343Z"
    },
    "hidden": true
   },
   "outputs": [
    {
     "data": {
      "text/plain": [
       "<matplotlib.collections.PathCollection at 0x7f132190efd0>"
      ]
     },
     "execution_count": 216,
     "metadata": {},
     "output_type": "execute_result"
    },
    {
     "data": {
      "image/png": "[encoded data removed]",
      "text/plain": [
       "<Figure size 2400x1600 with 1 Axes>"
      ]
     },
     "metadata": {},
     "output_type": "display_data"
    }
   ],
   "source": [
    "plt.scatter(aq.index,aq['Part Mean'])"
   ]
  },
  {
   "cell_type": "code",
   "execution_count": 217,
   "metadata": {
    "ExecuteTime": {
     "end_time": "2018-06-08T14:22:21.431862Z",
     "start_time": "2018-06-08T14:22:21.061102Z"
    },
    "hidden": true
   },
   "outputs": [
    {
     "data": {
      "text/plain": [
       "<matplotlib.collections.PathCollection at 0x7f1320ed2e10>"
      ]
     },
     "execution_count": 217,
     "metadata": {},
     "output_type": "execute_result"
    },
    {
     "data": {
      "image/png": "[encoded data removed]",
      "text/plain": [
       "<Figure size 2400x1600 with 1 Axes>"
      ]
     },
     "metadata": {},
     "output_type": "display_data"
    }
   ],
   "source": [
    "plt.scatter(aq.index,aq['CO Mean'])"
   ]
  },
  {
   "cell_type": "code",
   "execution_count": 799,
   "metadata": {
    "ExecuteTime": {
     "end_time": "2018-06-10T22:31:29.084872Z",
     "start_time": "2018-06-10T22:31:29.055798Z"
    },
    "hidden": true
   },
   "outputs": [
    {
     "data": {
      "text/html": [
       "<div>\n",
       "<style scoped>\n",
       "    .dataframe tbody tr th:only-of-type {\n",
       "        vertical-align: middle;\n",
       "    }\n",
       "\n",
       "    .dataframe tbody tr th {\n",
       "        vertical-align: top;\n",
       "    }\n",
       "\n",
       "    .dataframe thead th {\n",
       "        text-align: right;\n",
       "    }\n",
       "</style>\n",
       "<table border=\"1\" class=\"dataframe\">\n",
       "  <thead>\n",
       "    <tr style=\"text-align: right;\">\n",
       "      <th></th>\n",
       "      <th>Latitude</th>\n",
       "      <th>Longitude</th>\n",
       "      <th>Date Local</th>\n",
       "      <th>CO Mean</th>\n",
       "      <th>CO Max Value</th>\n",
       "      <th>CO Max Hour</th>\n",
       "      <th>Oz Mean</th>\n",
       "      <th>Oz Max Value</th>\n",
       "      <th>Oz Max Hour</th>\n",
       "      <th>SO Mean</th>\n",
       "      <th>SO Max Value</th>\n",
       "      <th>SO Max Hour</th>\n",
       "      <th>Part Mean</th>\n",
       "      <th>Part Max Value</th>\n",
       "      <th>Part Max Hour</th>\n",
       "      <th>AQI</th>\n",
       "      <th>Category</th>\n",
       "      <th>AQ Defining Parameter</th>\n",
       "    </tr>\n",
       "  </thead>\n",
       "  <tbody>\n",
       "    <tr>\n",
       "      <th>72</th>\n",
       "      <td>37.814781</td>\n",
       "      <td>-122.282347</td>\n",
       "      <td>2015-01-10</td>\n",
       "      <td>0.565217</td>\n",
       "      <td>1.3</td>\n",
       "      <td>4</td>\n",
       "      <td>0.008118</td>\n",
       "      <td>0.016</td>\n",
       "      <td>9</td>\n",
       "      <td>0.913636</td>\n",
       "      <td>2.4</td>\n",
       "      <td>15</td>\n",
       "      <td>17.458333</td>\n",
       "      <td>25.0</td>\n",
       "      <td>2</td>\n",
       "      <td>72</td>\n",
       "      <td>Moderate</td>\n",
       "      <td>PM2.5</td>\n",
       "    </tr>\n",
       "    <tr>\n",
       "      <th>73</th>\n",
       "      <td>37.814781</td>\n",
       "      <td>-122.282347</td>\n",
       "      <td>2015-01-10</td>\n",
       "      <td>0.565217</td>\n",
       "      <td>1.3</td>\n",
       "      <td>4</td>\n",
       "      <td>0.008118</td>\n",
       "      <td>0.016</td>\n",
       "      <td>9</td>\n",
       "      <td>0.913636</td>\n",
       "      <td>2.4</td>\n",
       "      <td>15</td>\n",
       "      <td>17.400000</td>\n",
       "      <td>17.4</td>\n",
       "      <td>0</td>\n",
       "      <td>72</td>\n",
       "      <td>Moderate</td>\n",
       "      <td>PM2.5</td>\n",
       "    </tr>\n",
       "    <tr>\n",
       "      <th>74</th>\n",
       "      <td>37.814781</td>\n",
       "      <td>-122.282347</td>\n",
       "      <td>2015-01-10</td>\n",
       "      <td>0.565217</td>\n",
       "      <td>1.3</td>\n",
       "      <td>4</td>\n",
       "      <td>0.008118</td>\n",
       "      <td>0.016</td>\n",
       "      <td>9</td>\n",
       "      <td>0.866667</td>\n",
       "      <td>1.4</td>\n",
       "      <td>14</td>\n",
       "      <td>17.458333</td>\n",
       "      <td>25.0</td>\n",
       "      <td>2</td>\n",
       "      <td>72</td>\n",
       "      <td>Moderate</td>\n",
       "      <td>PM2.5</td>\n",
       "    </tr>\n",
       "    <tr>\n",
       "      <th>75</th>\n",
       "      <td>37.814781</td>\n",
       "      <td>-122.282347</td>\n",
       "      <td>2015-01-10</td>\n",
       "      <td>0.565217</td>\n",
       "      <td>1.3</td>\n",
       "      <td>4</td>\n",
       "      <td>0.008118</td>\n",
       "      <td>0.016</td>\n",
       "      <td>9</td>\n",
       "      <td>0.866667</td>\n",
       "      <td>1.4</td>\n",
       "      <td>14</td>\n",
       "      <td>17.400000</td>\n",
       "      <td>17.4</td>\n",
       "      <td>0</td>\n",
       "      <td>72</td>\n",
       "      <td>Moderate</td>\n",
       "      <td>PM2.5</td>\n",
       "    </tr>\n",
       "    <tr>\n",
       "      <th>76</th>\n",
       "      <td>37.814781</td>\n",
       "      <td>-122.282347</td>\n",
       "      <td>2015-01-10</td>\n",
       "      <td>0.579167</td>\n",
       "      <td>1.0</td>\n",
       "      <td>5</td>\n",
       "      <td>0.008118</td>\n",
       "      <td>0.016</td>\n",
       "      <td>9</td>\n",
       "      <td>0.913636</td>\n",
       "      <td>2.4</td>\n",
       "      <td>15</td>\n",
       "      <td>17.458333</td>\n",
       "      <td>25.0</td>\n",
       "      <td>2</td>\n",
       "      <td>72</td>\n",
       "      <td>Moderate</td>\n",
       "      <td>PM2.5</td>\n",
       "    </tr>\n",
       "  </tbody>\n",
       "</table>\n",
       "</div>"
      ],
      "text/plain": [
       "     Latitude   Longitude  Date Local   CO Mean  CO Max Value  CO Max Hour  \\\n",
       "72  37.814781 -122.282347  2015-01-10  0.565217           1.3            4   \n",
       "73  37.814781 -122.282347  2015-01-10  0.565217           1.3            4   \n",
       "74  37.814781 -122.282347  2015-01-10  0.565217           1.3            4   \n",
       "75  37.814781 -122.282347  2015-01-10  0.565217           1.3            4   \n",
       "76  37.814781 -122.282347  2015-01-10  0.579167           1.0            5   \n",
       "\n",
       "     Oz Mean  Oz Max Value  Oz Max Hour   SO Mean  SO Max Value  SO Max Hour  \\\n",
       "72  0.008118         0.016            9  0.913636           2.4           15   \n",
       "73  0.008118         0.016            9  0.913636           2.4           15   \n",
       "74  0.008118         0.016            9  0.866667           1.4           14   \n",
       "75  0.008118         0.016            9  0.866667           1.4           14   \n",
       "76  0.008118         0.016            9  0.913636           2.4           15   \n",
       "\n",
       "    Part Mean  Part Max Value  Part Max Hour  AQI  Category  \\\n",
       "72  17.458333            25.0              2   72  Moderate   \n",
       "73  17.400000            17.4              0   72  Moderate   \n",
       "74  17.458333            25.0              2   72  Moderate   \n",
       "75  17.400000            17.4              0   72  Moderate   \n",
       "76  17.458333            25.0              2   72  Moderate   \n",
       "\n",
       "   AQ Defining Parameter  \n",
       "72                 PM2.5  \n",
       "73                 PM2.5  \n",
       "74                 PM2.5  \n",
       "75                 PM2.5  \n",
       "76                 PM2.5  "
      ]
     },
     "execution_count": 799,
     "metadata": {},
     "output_type": "execute_result"
    }
   ],
   "source": [
    "          [(i,np.avg(aq[aq['Date Local']== x])) for x in aq['Date Local'].unique()]"
   ]
  },
  {
   "cell_type": "code",
   "execution_count": 798,
   "metadata": {
    "ExecuteTime": {
     "end_time": "2018-06-10T22:25:47.412980Z",
     "start_time": "2018-06-10T22:25:47.401981Z"
    },
    "hidden": true
   },
   "outputs": [
    {
     "data": {
      "text/plain": [
       "72            NaN\n",
       "73       0.000000\n",
       "74       0.000000\n",
       "75       0.000000\n",
       "76       0.013950\n",
       "77       0.000000\n",
       "78       0.000000\n",
       "79       0.000000\n",
       "80      -0.013950\n",
       "81       0.000000\n",
       "82       0.000000\n",
       "83       0.000000\n",
       "84       0.038950\n",
       "85       0.000000\n",
       "86       0.000000\n",
       "87       0.000000\n",
       "104      0.174094\n",
       "105      0.000000\n",
       "106      0.000000\n",
       "107      0.000000\n",
       "108      0.050906\n",
       "109      0.000000\n",
       "110      0.000000\n",
       "111      0.000000\n",
       "136     -0.376993\n",
       "137      0.000000\n",
       "138      0.000000\n",
       "139      0.000000\n",
       "140      0.026993\n",
       "141      0.000000\n",
       "           ...   \n",
       "17326    0.000000\n",
       "17327    0.000000\n",
       "17328   -0.005797\n",
       "17329    0.000000\n",
       "17330    0.000000\n",
       "17331    0.000000\n",
       "17348    0.079710\n",
       "17349    0.000000\n",
       "17350    0.000000\n",
       "17351    0.000000\n",
       "17352   -0.013043\n",
       "17353    0.000000\n",
       "17354    0.000000\n",
       "17355    0.000000\n",
       "17356    0.026087\n",
       "17357    0.000000\n",
       "17358    0.000000\n",
       "17359    0.000000\n",
       "17360   -0.005254\n",
       "17361    0.000000\n",
       "17362    0.000000\n",
       "17363    0.000000\n",
       "17364    0.044384\n",
       "17365    0.000000\n",
       "17366    0.000000\n",
       "17367    0.000000\n",
       "17368   -0.031884\n",
       "17369    0.000000\n",
       "17370    0.000000\n",
       "17371    0.000000\n",
       "Name: CO Mean, Length: 11742, dtype: float64"
      ]
     },
     "execution_count": 798,
     "metadata": {},
     "output_type": "execute_result"
    }
   ],
   "source": [
    "aq['CO Mean'].diff()"
   ]
  },
  {
   "cell_type": "code",
   "execution_count": null,
   "metadata": {
    "hidden": true
   },
   "outputs": [],
   "source": [
    "#creating a function to find out if the data is stationary\n",
    "import statsmodels.tsa.stattools as ts\n",
    "def dftest(timeseries):\n",
    "    dftest = ts.adfuller(timeseries, autolag='AIC')\n",
    "    dfoutput = pd.Series(dftest[0:4], index = ['Test Stat', 'p-value', 'Lags Used', 'Observations USed'])\n",
    "    for key, value in dftest[4].items():\n",
    "        dfoutput['Critical Value (%s)'%key]=value\n",
    "    print(dfoutput)\n",
    "    rolmean = pd.rolling_mean(timeseries, window = 12)\n",
    "    rolstd = rolling_std(timeseries, window=12)\n",
    "    \n",
    "    #Plotting the rolling statistics\n",
    "    orig = plt.plot(timeseries, color='black' label='Original')\n",
    "    mean = plt.plot(rolmean, color='blue', label='Rolling Mean')\n",
    "    std = plt.plot(rolstd, color='red', label = 'Rolling Std')\n",
    "    plt.legend()\n",
    "    plt.title('Rolling Mean and Standard Deviation')\n",
    "    plt.show(block=False);\n",
    "    "
   ]
  },
  {
   "cell_type": "code",
   "execution_count": null,
   "metadata": {
    "hidden": true
   },
   "outputs": [],
   "source": [
    "#helper function to visualize \n",
    "import statsmodels.tsa.api as smt\n",
    "\n",
    "def plots(data, lags= None):\n",
    "    layout =abs (1,3)\n",
    "    raw = plt.subplot2grid(layout, (0,0))\n",
    "    acf = plt.subplot2grid(layout, (0,1))\n",
    "    pacf = plt.subplot2grid(layout, (0,2))\n",
    "    \n",
    "    data.plot(ax=raw)\n",
    "    smt.graphics.plot(data, lags=lags, ax =acf)\n",
    "    smt.graphics.plot(data, lags=lags, ax =pacf)\n",
    "    sns.despine()\n",
    "    plt.tight_layout();"
   ]
  },
  {
   "cell_type": "code",
   "execution_count": null,
   "metadata": {
    "hidden": true
   },
   "outputs": [],
   "source": [
    "plots(aq['CO Mean', lags =75)"
   ]
  },
  {
   "cell_type": "code",
   "execution_count": 797,
   "metadata": {
    "ExecuteTime": {
     "end_time": "2018-06-10T22:25:24.975128Z",
     "start_time": "2018-06-10T22:25:24.817677Z"
    },
    "hidden": true
   },
   "outputs": [
    {
     "data": {
      "text/plain": [
       "[<matplotlib.lines.Line2D at 0x1056a5978>]"
      ]
     },
     "execution_count": 797,
     "metadata": {},
     "output_type": "execute_result"
    },
    {
     "data": {
      "image/png": "[encoded data removed]",
      "text/plain": [
       "<matplotlib.figure.Figure at 0x1a15129ef0>"
      ]
     },
     "metadata": {},
     "output_type": "display_data"
    }
   ],
   "source": [
    "\n",
    "plt.plot(aq['CO Mean']);"
   ]
  },
  {
   "cell_type": "markdown",
   "metadata": {
    "heading_collapsed": true
   },
   "source": [
    "# Distribution Prediction\n",
    "\n",
    "Training a model to predict the distribution of other AQ factors in the air.  I will then cluster it all together in the next section, to find large (or larger) concentrations of the factors."
   ]
  },
  {
   "cell_type": "code",
   "execution_count": null,
   "metadata": {
    "hidden": true
   },
   "outputs": [],
   "source": [
    "from sklearn.model_selection import train_test_split"
   ]
  },
  {
   "cell_type": "code",
   "execution_count": null,
   "metadata": {
    "hidden": true
   },
   "outputs": [],
   "source": [
    "X = aq[['Latitue', 'Longitude', 'CO Mean', 'SO Mean', 'Part Mean', 'Oz Mean']]\n",
    "y = df[df['latlong'].isin(list(aq['latlong']))]['co2ppm']"
   ]
  },
  {
   "cell_type": "code",
   "execution_count": null,
   "metadata": {
    "hidden": true
   },
   "outputs": [],
   "source": [
    "from sklearn.naive_bayes import GaussianNB\n",
    "gnb = GaussianNB()\n",
    "y_pred = gnb.fit(iris.data, iris.target)"
   ]
  },
  {
   "cell_type": "code",
   "execution_count": null,
   "metadata": {
    "hidden": true
   },
   "outputs": [],
   "source": []
  },
  {
   "cell_type": "code",
   "execution_count": null,
   "metadata": {
    "hidden": true
   },
   "outputs": [],
   "source": []
  },
  {
   "cell_type": "code",
   "execution_count": null,
   "metadata": {
    "hidden": true
   },
   "outputs": [],
   "source": []
  },
  {
   "cell_type": "code",
   "execution_count": null,
   "metadata": {
    "hidden": true
   },
   "outputs": [],
   "source": []
  },
  {
   "cell_type": "code",
   "execution_count": null,
   "metadata": {
    "hidden": true
   },
   "outputs": [],
   "source": []
  },
  {
   "cell_type": "code",
   "execution_count": null,
   "metadata": {
    "hidden": true
   },
   "outputs": [],
   "source": []
  },
  {
   "cell_type": "markdown",
   "metadata": {
    "heading_collapsed": true
   },
   "source": [
    "# Clustering\n",
    "\n",
    "Now that I am done with the EDA and data cleaning, I am goign to cluster the air quality data."
   ]
  },
  {
   "cell_type": "code",
   "execution_count": 759,
   "metadata": {
    "ExecuteTime": {
     "end_time": "2018-06-10T15:20:32.953371Z",
     "start_time": "2018-06-10T15:20:32.937090Z"
    },
    "hidden": true
   },
   "outputs": [],
   "source": [
    "from sklearn.cluster import KMeans, MiniBatchKMeans\n",
    "from sklearn.cluster import KMeans\n",
    "from sklearn.utils import shuffle\n",
    "from sklearn import preprocessing\n",
    "from sklearn import metrics\n",
    "from sklearn.metrics.pairwise import euclidean_distances\n",
    "from sklearn.metrics import pairwise_distances\n",
    "from sklearn.metrics import silhouette_score\n"
   ]
  },
  {
   "cell_type": "code",
   "execution_count": 761,
   "metadata": {
    "ExecuteTime": {
     "end_time": "2018-06-10T15:20:51.690863Z",
     "start_time": "2018-06-10T15:20:51.687015Z"
    },
    "hidden": true
   },
   "outputs": [],
   "source": [
    "clusterdf = aq[['CO Mean', 'SO Mean', 'Part Mean', 'Oz Mean']]"
   ]
  },
  {
   "cell_type": "code",
   "execution_count": 766,
   "metadata": {
    "ExecuteTime": {
     "end_time": "2018-06-10T15:25:43.951611Z",
     "start_time": "2018-06-10T15:25:43.945516Z"
    },
    "hidden": true
   },
   "outputs": [
    {
     "data": {
      "text/plain": [
       "2751.600271664947"
      ]
     },
     "execution_count": 766,
     "metadata": {},
     "output_type": "execute_result"
    }
   ],
   "source": [
    "km.inertia_"
   ]
  },
  {
   "cell_type": "code",
   "execution_count": 795,
   "metadata": {
    "ExecuteTime": {
     "end_time": "2018-06-10T22:24:20.956764Z",
     "start_time": "2018-06-10T22:22:24.337937Z"
    },
    "hidden": true
   },
   "outputs": [
    {
     "data": {
      "image/png": "[encoded data removed]",
      "text/plain": [
       "<matplotlib.figure.Figure at 0x108dfb2b0>"
      ]
     },
     "metadata": {},
     "output_type": "display_data"
    }
   ],
   "source": [
    "Sil_coefs = []\n",
    "inertia = []\n",
    "for k in range(2,20):\n",
    "    km = KMeans(n_clusters = k)\n",
    "    km.fit(clusterdf)\n",
    "    labels = km.labels_\n",
    "    Sil_coefs.append(metrics.silhouette_score(clusterdf, labels, metric='euclidean'))\n",
    "    inertia.append(km.inertia_)\n",
    "fig, ax1 = plt.subplots(1,1, figsize=(15,5), sharex=True)\n",
    "k_clusters = range(2,20)\n",
    "ax1.plot(k_clusters, Sil_coefs)\n",
    "#inertia says 4 clusters, silhouette is about .51\n",
    "ax1.set_title('KMeans')\n",
    "ax1.set_xlabel('Number of clusters')\n",
    "ax1.set_ylabel('silhouette coefficient')\n",
    "plt.xticks(np.arange(2, 20, step=2));"
   ]
  },
  {
   "cell_type": "code",
   "execution_count": 783,
   "metadata": {
    "ExecuteTime": {
     "end_time": "2018-06-10T18:06:39.391052Z",
     "start_time": "2018-06-10T18:06:39.202505Z"
    },
    "hidden": true
   },
   "outputs": [
    {
     "data": {
      "text/plain": [
       "KMeans(algorithm='auto', copy_x=True, init='k-means++', max_iter=300,\n",
       "    n_clusters=4, n_init=10, n_jobs=1, precompute_distances='auto',\n",
       "    random_state=None, tol=0.0001, verbose=0)"
      ]
     },
     "execution_count": 783,
     "metadata": {},
     "output_type": "execute_result"
    }
   ],
   "source": [
    "km = KMeans(n_clusters = 4)\n",
    "km.fit(clusterdf)"
   ]
  },
  {
   "cell_type": "code",
   "execution_count": 784,
   "metadata": {
    "ExecuteTime": {
     "end_time": "2018-06-10T18:06:44.765472Z",
     "start_time": "2018-06-10T18:06:44.759507Z"
    },
    "hidden": true
   },
   "outputs": [],
   "source": [
    "mu_digits = km.cluster_centers_\n",
    "kmlabels = km.labels_"
   ]
  },
  {
   "cell_type": "code",
   "execution_count": 787,
   "metadata": {
    "ExecuteTime": {
     "end_time": "2018-06-10T18:07:43.865554Z",
     "start_time": "2018-06-10T18:07:43.860661Z"
    },
    "hidden": true
   },
   "outputs": [
    {
     "name": "stdout",
     "output_type": "stream",
     "text": [
      "11742\n",
      "11742\n"
     ]
    }
   ],
   "source": [
    "print(len(kmlabels))\n",
    "print(len(clusterdf))"
   ]
  },
  {
   "cell_type": "markdown",
   "metadata": {},
   "source": [
    "# Time Series Exploration\n",
    "\n",
    "Starting on time series items.  Checking for stationarity, ploting concentrations vs time."
   ]
  },
  {
   "cell_type": "code",
   "execution_count": 83,
   "metadata": {
    "ExecuteTime": {
     "end_time": "2018-06-14T17:14:39.409827Z",
     "start_time": "2018-06-14T17:14:39.403792Z"
    }
   },
   "outputs": [
    {
     "data": {
      "text/plain": [
       "\"plotly.tools.set_credentials_file(username='djmorcode', api_key='g4D9PR85TaaUkKlH8CWZ')\\ndata = [go.Scatter(x=annual_temp.index, y=annual_temp.temp)]\\npy.iplot(data)\""
      ]
     },
     "execution_count": 83,
     "metadata": {},
     "output_type": "execute_result"
    }
   ],
   "source": [
    "import plotly.plotly as py\n",
    "import plotly.graph_objs as go\n",
    "import plotly\n",
    "import statsmodels.tsa.api as smt\n",
    "import statsmodels.api as sm\n",
    "import statsmodels.tsa.stattools as ts\n",
    "\"\"\"plotly.tools.set_credentials_file(username='djmorcode', api_key='g4D9PR85TaaUkKlH8CWZ')\n",
    "data = [go.Scatter(x=annual_temp.index, y=annual_temp.temp)]\n",
    "py.iplot(data)\"\"\""
   ]
  },
  {
   "cell_type": "code",
   "execution_count": 41,
   "metadata": {
    "ExecuteTime": {
     "end_time": "2018-06-14T16:54:01.012760Z",
     "start_time": "2018-06-14T16:54:01.008673Z"
    }
   },
   "outputs": [
    {
     "data": {
      "text/plain": [
       "\"#pulling in climate data\\nwith open('climate_data.pkl', 'rb') as picklefile:\\n    aq = pickle.load(picklefile)\\n\""
      ]
     },
     "execution_count": 41,
     "metadata": {},
     "output_type": "execute_result"
    }
   ],
   "source": [
    "\"\"\"#pulling in climate data\n",
    "with open('climate_data.pkl', 'rb') as picklefile:\n",
    "    aq = pickle.load(picklefile)\n",
    "\"\"\""
   ]
  },
  {
   "cell_type": "code",
   "execution_count": 84,
   "metadata": {
    "ExecuteTime": {
     "end_time": "2018-06-14T17:14:48.761352Z",
     "start_time": "2018-06-14T17:14:48.746760Z"
    }
   },
   "outputs": [
    {
     "data": {
      "text/html": [
       "<div>\n",
       "<style scoped>\n",
       "    .dataframe tbody tr th:only-of-type {\n",
       "        vertical-align: middle;\n",
       "    }\n",
       "\n",
       "    .dataframe tbody tr th {\n",
       "        vertical-align: top;\n",
       "    }\n",
       "\n",
       "    .dataframe thead th {\n",
       "        text-align: right;\n",
       "    }\n",
       "</style>\n",
       "<table border=\"1\" class=\"dataframe\">\n",
       "  <thead>\n",
       "    <tr style=\"text-align: right;\">\n",
       "      <th></th>\n",
       "      <th>State Name</th>\n",
       "      <th>county Name</th>\n",
       "      <th>State Code</th>\n",
       "      <th>County Code</th>\n",
       "      <th>Date</th>\n",
       "      <th>AQI</th>\n",
       "      <th>Category</th>\n",
       "      <th>Defining Parameter</th>\n",
       "      <th>Defining Site</th>\n",
       "      <th>Number of Sites Reporting</th>\n",
       "    </tr>\n",
       "  </thead>\n",
       "  <tbody>\n",
       "    <tr>\n",
       "      <th>0</th>\n",
       "      <td>Alabama</td>\n",
       "      <td>Baldwin</td>\n",
       "      <td>1</td>\n",
       "      <td>3</td>\n",
       "      <td>2008-01-04</td>\n",
       "      <td>38</td>\n",
       "      <td>Good</td>\n",
       "      <td>PM2.5</td>\n",
       "      <td>01-003-0010</td>\n",
       "      <td>1</td>\n",
       "    </tr>\n",
       "    <tr>\n",
       "      <th>1</th>\n",
       "      <td>Alabama</td>\n",
       "      <td>Baldwin</td>\n",
       "      <td>1</td>\n",
       "      <td>3</td>\n",
       "      <td>2008-01-07</td>\n",
       "      <td>15</td>\n",
       "      <td>Good</td>\n",
       "      <td>PM2.5</td>\n",
       "      <td>01-003-0010</td>\n",
       "      <td>1</td>\n",
       "    </tr>\n",
       "    <tr>\n",
       "      <th>2</th>\n",
       "      <td>Alabama</td>\n",
       "      <td>Baldwin</td>\n",
       "      <td>1</td>\n",
       "      <td>3</td>\n",
       "      <td>2008-01-10</td>\n",
       "      <td>15</td>\n",
       "      <td>Good</td>\n",
       "      <td>PM2.5</td>\n",
       "      <td>01-003-0010</td>\n",
       "      <td>1</td>\n",
       "    </tr>\n",
       "    <tr>\n",
       "      <th>3</th>\n",
       "      <td>Alabama</td>\n",
       "      <td>Baldwin</td>\n",
       "      <td>1</td>\n",
       "      <td>3</td>\n",
       "      <td>2008-01-13</td>\n",
       "      <td>38</td>\n",
       "      <td>Good</td>\n",
       "      <td>PM2.5</td>\n",
       "      <td>01-003-0010</td>\n",
       "      <td>1</td>\n",
       "    </tr>\n",
       "    <tr>\n",
       "      <th>4</th>\n",
       "      <td>Alabama</td>\n",
       "      <td>Baldwin</td>\n",
       "      <td>1</td>\n",
       "      <td>3</td>\n",
       "      <td>2008-01-16</td>\n",
       "      <td>31</td>\n",
       "      <td>Good</td>\n",
       "      <td>PM2.5</td>\n",
       "      <td>01-003-0010</td>\n",
       "      <td>1</td>\n",
       "    </tr>\n",
       "  </tbody>\n",
       "</table>\n",
       "</div>"
      ],
      "text/plain": [
       "  State Name county Name  State Code  County Code       Date  AQI Category  \\\n",
       "0    Alabama     Baldwin           1            3 2008-01-04   38     Good   \n",
       "1    Alabama     Baldwin           1            3 2008-01-07   15     Good   \n",
       "2    Alabama     Baldwin           1            3 2008-01-10   15     Good   \n",
       "3    Alabama     Baldwin           1            3 2008-01-13   38     Good   \n",
       "4    Alabama     Baldwin           1            3 2008-01-16   31     Good   \n",
       "\n",
       "  Defining Parameter Defining Site  Number of Sites Reporting  \n",
       "0              PM2.5   01-003-0010                          1  \n",
       "1              PM2.5   01-003-0010                          1  \n",
       "2              PM2.5   01-003-0010                          1  \n",
       "3              PM2.5   01-003-0010                          1  \n",
       "4              PM2.5   01-003-0010                          1  "
      ]
     },
     "execution_count": 84,
     "metadata": {},
     "output_type": "execute_result"
    }
   ],
   "source": [
    "aq2.head()"
   ]
  },
  {
   "cell_type": "code",
   "execution_count": 94,
   "metadata": {
    "ExecuteTime": {
     "end_time": "2018-06-14T17:16:17.978656Z",
     "start_time": "2018-06-14T17:16:17.913527Z"
    }
   },
   "outputs": [],
   "source": [
    "aq2.reset_index(level=0, inplace=True, drop=True)\n",
    "aq2.drop_duplicates('Date Local',inplace=True)\n",
    "aq2['Date Local'] = pd.to_datetime(aq2['Date Local'])\n",
    "aq = aq2[['AQI', 'Date Local']].copy()"
   ]
  },
  {
   "cell_type": "code",
   "execution_count": 95,
   "metadata": {
    "ExecuteTime": {
     "end_time": "2018-06-14T17:16:22.215047Z",
     "start_time": "2018-06-14T17:16:22.204689Z"
    }
   },
   "outputs": [
    {
     "data": {
      "text/html": [
       "<div>\n",
       "<style scoped>\n",
       "    .dataframe tbody tr th:only-of-type {\n",
       "        vertical-align: middle;\n",
       "    }\n",
       "\n",
       "    .dataframe tbody tr th {\n",
       "        vertical-align: top;\n",
       "    }\n",
       "\n",
       "    .dataframe thead th {\n",
       "        text-align: right;\n",
       "    }\n",
       "</style>\n",
       "<table border=\"1\" class=\"dataframe\">\n",
       "  <thead>\n",
       "    <tr style=\"text-align: right;\">\n",
       "      <th></th>\n",
       "      <th>County Name</th>\n",
       "      <th>Date Local</th>\n",
       "      <th>AQI</th>\n",
       "      <th>Category</th>\n",
       "      <th>AQ Defining Parameter</th>\n",
       "    </tr>\n",
       "  </thead>\n",
       "  <tbody>\n",
       "    <tr>\n",
       "      <th>0</th>\n",
       "      <td>San Francisco</td>\n",
       "      <td>2008-01-01</td>\n",
       "      <td>66</td>\n",
       "      <td>Moderate</td>\n",
       "      <td>PM2.5</td>\n",
       "    </tr>\n",
       "    <tr>\n",
       "      <th>1</th>\n",
       "      <td>San Francisco</td>\n",
       "      <td>2008-01-02</td>\n",
       "      <td>69</td>\n",
       "      <td>Moderate</td>\n",
       "      <td>PM2.5</td>\n",
       "    </tr>\n",
       "    <tr>\n",
       "      <th>2</th>\n",
       "      <td>San Francisco</td>\n",
       "      <td>2008-01-03</td>\n",
       "      <td>36</td>\n",
       "      <td>Good</td>\n",
       "      <td>PM2.5</td>\n",
       "    </tr>\n",
       "    <tr>\n",
       "      <th>3</th>\n",
       "      <td>San Francisco</td>\n",
       "      <td>2008-01-04</td>\n",
       "      <td>33</td>\n",
       "      <td>Good</td>\n",
       "      <td>Ozone</td>\n",
       "    </tr>\n",
       "    <tr>\n",
       "      <th>4</th>\n",
       "      <td>San Francisco</td>\n",
       "      <td>2008-01-05</td>\n",
       "      <td>32</td>\n",
       "      <td>Good</td>\n",
       "      <td>PM2.5</td>\n",
       "    </tr>\n",
       "  </tbody>\n",
       "</table>\n",
       "</div>"
      ],
      "text/plain": [
       "     County Name Date Local  AQI  Category AQ Defining Parameter\n",
       "0  San Francisco 2008-01-01   66  Moderate                 PM2.5\n",
       "1  San Francisco 2008-01-02   69  Moderate                 PM2.5\n",
       "2  San Francisco 2008-01-03   36      Good                 PM2.5\n",
       "3  San Francisco 2008-01-04   33      Good                 Ozone\n",
       "4  San Francisco 2008-01-05   32      Good                 PM2.5"
      ]
     },
     "execution_count": 95,
     "metadata": {},
     "output_type": "execute_result"
    }
   ],
   "source": [
    "#aq2.set_index('Date Local', inplace=True)\n",
    "aq2.head()"
   ]
  },
  {
   "cell_type": "code",
   "execution_count": 96,
   "metadata": {
    "ExecuteTime": {
     "end_time": "2018-06-14T17:16:46.614874Z",
     "start_time": "2018-06-14T17:16:46.610742Z"
    }
   },
   "outputs": [],
   "source": [
    "sfc.set_index('Date', inplace=True)\n",
    "aq2 = aq2.set_index(pd.DatetimeIndex(aq2['Date Local']))"
   ]
  },
  {
   "cell_type": "code",
   "execution_count": 97,
   "metadata": {
    "ExecuteTime": {
     "end_time": "2018-06-14T17:16:48.013956Z",
     "start_time": "2018-06-14T17:16:48.004215Z"
    }
   },
   "outputs": [
    {
     "data": {
      "text/plain": [
       "0.7441516138584543"
      ]
     },
     "execution_count": 97,
     "metadata": {},
     "output_type": "execute_result"
    }
   ],
   "source": [
    "len(sfc)/len(sfc['CO2 ppm'].resample('D').mean())"
   ]
  },
  {
   "cell_type": "code",
   "execution_count": 262,
   "metadata": {
    "ExecuteTime": {
     "end_time": "2018-06-14T15:34:36.983975Z",
     "start_time": "2018-06-14T15:34:36.979166Z"
    }
   },
   "outputs": [],
   "source": [
    "cc = sfc['CO2 ppm'].resample('D').mean()\n",
    "aqi"
   ]
  },
  {
   "cell_type": "code",
   "execution_count": 264,
   "metadata": {
    "ExecuteTime": {
     "end_time": "2018-06-14T15:34:58.316881Z",
     "start_time": "2018-06-14T15:34:58.313174Z"
    }
   },
   "outputs": [
    {
     "data": {
      "text/plain": [
       "True"
      ]
     },
     "execution_count": 264,
     "metadata": {},
     "output_type": "execute_result"
    }
   ],
   "source": [
    "cc.isnull().values.any()"
   ]
  },
  {
   "cell_type": "code",
   "execution_count": 71,
   "metadata": {
    "ExecuteTime": {
     "end_time": "2018-06-14T17:09:59.083102Z",
     "start_time": "2018-06-14T17:09:59.065603Z"
    }
   },
   "outputs": [
    {
     "ename": "TypeError",
     "evalue": "Only valid with DatetimeIndex, TimedeltaIndex or PeriodIndex, but got an instance of 'Int64Index'",
     "output_type": "error",
     "traceback": [
      "\u001b[0;31m---------------------------------------------------------------------------\u001b[0m",
      "\u001b[0;31mTypeError\u001b[0m                                 Traceback (most recent call last)",
      "\u001b[0;32m<ipython-input-71-fe2afd80f9fd>\u001b[0m in \u001b[0;36m<module>\u001b[0;34m()\u001b[0m\n\u001b[0;32m----> 1\u001b[0;31m \u001b[0mcc\u001b[0m \u001b[0;34m=\u001b[0m \u001b[0msfc\u001b[0m\u001b[0;34m[\u001b[0m\u001b[0;34m'CO2 ppm'\u001b[0m\u001b[0;34m]\u001b[0m\u001b[0;34m.\u001b[0m\u001b[0mresample\u001b[0m\u001b[0;34m(\u001b[0m\u001b[0;34m'W'\u001b[0m\u001b[0;34m)\u001b[0m\u001b[0;34m.\u001b[0m\u001b[0mmean\u001b[0m\u001b[0;34m(\u001b[0m\u001b[0;34m)\u001b[0m\u001b[0;34m\u001b[0m\u001b[0m\n\u001b[0m\u001b[1;32m      2\u001b[0m \u001b[0maqi\u001b[0m \u001b[0;34m=\u001b[0m \u001b[0maq\u001b[0m\u001b[0;34m[\u001b[0m\u001b[0;34m'AQI'\u001b[0m\u001b[0;34m]\u001b[0m\u001b[0;34m.\u001b[0m\u001b[0mresample\u001b[0m\u001b[0;34m(\u001b[0m\u001b[0;34m'W'\u001b[0m\u001b[0;34m)\u001b[0m\u001b[0;34m.\u001b[0m\u001b[0mmean\u001b[0m\u001b[0;34m(\u001b[0m\u001b[0;34m)\u001b[0m\u001b[0;34m\u001b[0m\u001b[0m\n",
      "\u001b[0;32m/anaconda3/lib/python3.6/site-packages/pandas/core/generic.py\u001b[0m in \u001b[0;36mresample\u001b[0;34m(self, rule, how, axis, fill_method, closed, label, convention, kind, loffset, limit, base, on, level)\u001b[0m\n\u001b[1;32m   5520\u001b[0m                      \u001b[0maxis\u001b[0m\u001b[0;34m=\u001b[0m\u001b[0maxis\u001b[0m\u001b[0;34m,\u001b[0m \u001b[0mkind\u001b[0m\u001b[0;34m=\u001b[0m\u001b[0mkind\u001b[0m\u001b[0;34m,\u001b[0m \u001b[0mloffset\u001b[0m\u001b[0;34m=\u001b[0m\u001b[0mloffset\u001b[0m\u001b[0;34m,\u001b[0m\u001b[0;34m\u001b[0m\u001b[0m\n\u001b[1;32m   5521\u001b[0m                      \u001b[0mconvention\u001b[0m\u001b[0;34m=\u001b[0m\u001b[0mconvention\u001b[0m\u001b[0;34m,\u001b[0m\u001b[0;34m\u001b[0m\u001b[0m\n\u001b[0;32m-> 5522\u001b[0;31m                      base=base, key=on, level=level)\n\u001b[0m\u001b[1;32m   5523\u001b[0m         return _maybe_process_deprecations(r,\n\u001b[1;32m   5524\u001b[0m                                            \u001b[0mhow\u001b[0m\u001b[0;34m=\u001b[0m\u001b[0mhow\u001b[0m\u001b[0;34m,\u001b[0m\u001b[0;34m\u001b[0m\u001b[0m\n",
      "\u001b[0;32m/anaconda3/lib/python3.6/site-packages/pandas/core/resample.py\u001b[0m in \u001b[0;36mresample\u001b[0;34m(obj, kind, **kwds)\u001b[0m\n\u001b[1;32m    997\u001b[0m     \u001b[0;34m\"\"\" create a TimeGrouper and return our resampler \"\"\"\u001b[0m\u001b[0;34m\u001b[0m\u001b[0m\n\u001b[1;32m    998\u001b[0m     \u001b[0mtg\u001b[0m \u001b[0;34m=\u001b[0m \u001b[0mTimeGrouper\u001b[0m\u001b[0;34m(\u001b[0m\u001b[0;34m**\u001b[0m\u001b[0mkwds\u001b[0m\u001b[0;34m)\u001b[0m\u001b[0;34m\u001b[0m\u001b[0m\n\u001b[0;32m--> 999\u001b[0;31m     \u001b[0;32mreturn\u001b[0m \u001b[0mtg\u001b[0m\u001b[0;34m.\u001b[0m\u001b[0m_get_resampler\u001b[0m\u001b[0;34m(\u001b[0m\u001b[0mobj\u001b[0m\u001b[0;34m,\u001b[0m \u001b[0mkind\u001b[0m\u001b[0;34m=\u001b[0m\u001b[0mkind\u001b[0m\u001b[0;34m)\u001b[0m\u001b[0;34m\u001b[0m\u001b[0m\n\u001b[0m\u001b[1;32m   1000\u001b[0m \u001b[0;34m\u001b[0m\u001b[0m\n\u001b[1;32m   1001\u001b[0m \u001b[0;34m\u001b[0m\u001b[0m\n",
      "\u001b[0;32m/anaconda3/lib/python3.6/site-packages/pandas/core/resample.py\u001b[0m in \u001b[0;36m_get_resampler\u001b[0;34m(self, obj, kind)\u001b[0m\n\u001b[1;32m   1114\u001b[0m         raise TypeError(\"Only valid with DatetimeIndex, \"\n\u001b[1;32m   1115\u001b[0m                         \u001b[0;34m\"TimedeltaIndex or PeriodIndex, \"\u001b[0m\u001b[0;34m\u001b[0m\u001b[0m\n\u001b[0;32m-> 1116\u001b[0;31m                         \"but got an instance of %r\" % type(ax).__name__)\n\u001b[0m\u001b[1;32m   1117\u001b[0m \u001b[0;34m\u001b[0m\u001b[0m\n\u001b[1;32m   1118\u001b[0m     \u001b[0;32mdef\u001b[0m \u001b[0m_get_grouper\u001b[0m\u001b[0;34m(\u001b[0m\u001b[0mself\u001b[0m\u001b[0;34m,\u001b[0m \u001b[0mobj\u001b[0m\u001b[0;34m,\u001b[0m \u001b[0mvalidate\u001b[0m\u001b[0;34m=\u001b[0m\u001b[0;32mTrue\u001b[0m\u001b[0;34m)\u001b[0m\u001b[0;34m:\u001b[0m\u001b[0;34m\u001b[0m\u001b[0m\n",
      "\u001b[0;31mTypeError\u001b[0m: Only valid with DatetimeIndex, TimedeltaIndex or PeriodIndex, but got an instance of 'Int64Index'"
     ]
    }
   ],
   "source": [
    "cc = sfc['CO2 ppm'].resample('W').mean()\n",
    "aqi = aq2['AQI'].resample('W').mean()"
   ]
  },
  {
   "cell_type": "code",
   "execution_count": 244,
   "metadata": {
    "ExecuteTime": {
     "end_time": "2018-06-14T15:28:54.390174Z",
     "start_time": "2018-06-14T15:28:54.382019Z"
    }
   },
   "outputs": [
    {
     "data": {
      "text/html": [
       "<div>\n",
       "<style scoped>\n",
       "    .dataframe tbody tr th:only-of-type {\n",
       "        vertical-align: middle;\n",
       "    }\n",
       "\n",
       "    .dataframe tbody tr th {\n",
       "        vertical-align: top;\n",
       "    }\n",
       "\n",
       "    .dataframe thead th {\n",
       "        text-align: right;\n",
       "    }\n",
       "</style>\n",
       "<table border=\"1\" class=\"dataframe\">\n",
       "  <thead>\n",
       "    <tr style=\"text-align: right;\">\n",
       "      <th></th>\n",
       "      <th>CO2 ppm</th>\n",
       "      <th>latlong</th>\n",
       "    </tr>\n",
       "    <tr>\n",
       "      <th>Date</th>\n",
       "      <th></th>\n",
       "      <th></th>\n",
       "    </tr>\n",
       "  </thead>\n",
       "  <tbody>\n",
       "    <tr>\n",
       "      <th>2008-01-02</th>\n",
       "      <td>397.260010</td>\n",
       "      <td>(37.76, -122.45)</td>\n",
       "    </tr>\n",
       "    <tr>\n",
       "      <th>2008-01-03</th>\n",
       "      <td>390.620000</td>\n",
       "      <td>(37.76, -122.45)</td>\n",
       "    </tr>\n",
       "    <tr>\n",
       "      <th>2008-01-04</th>\n",
       "      <td>390.169997</td>\n",
       "      <td>(37.76, -122.45)</td>\n",
       "    </tr>\n",
       "    <tr>\n",
       "      <th>2008-01-05</th>\n",
       "      <td>388.109998</td>\n",
       "      <td>(37.76, -122.45)</td>\n",
       "    </tr>\n",
       "    <tr>\n",
       "      <th>2008-01-06</th>\n",
       "      <td>388.410001</td>\n",
       "      <td>(37.76, -122.45)</td>\n",
       "    </tr>\n",
       "  </tbody>\n",
       "</table>\n",
       "</div>"
      ],
      "text/plain": [
       "               CO2 ppm           latlong\n",
       "Date                                    \n",
       "2008-01-02  397.260010  (37.76, -122.45)\n",
       "2008-01-03  390.620000  (37.76, -122.45)\n",
       "2008-01-04  390.169997  (37.76, -122.45)\n",
       "2008-01-05  388.109998  (37.76, -122.45)\n",
       "2008-01-06  388.410001  (37.76, -122.45)"
      ]
     },
     "execution_count": 244,
     "metadata": {},
     "output_type": "execute_result"
    }
   ],
   "source": [
    "sfc.head()"
   ]
  },
  {
   "cell_type": "code",
   "execution_count": 316,
   "metadata": {
    "ExecuteTime": {
     "end_time": "2018-06-14T15:49:13.095259Z",
     "start_time": "2018-06-14T15:49:13.073780Z"
    }
   },
   "outputs": [],
   "source": [
    "def missVal(colname,df1):\n",
    "    dates = df1.resample('D').asfreq().index\n",
    "    coppm = list(np.arange(len(dates)))\n",
    "\n",
    "\n",
    "    df = pd.DataFrame({'dates':list(dates),\n",
    "                   colname:coppm}, columns=['dates',colname])\n",
    "\n",
    "    for i in range(len(df)):\n",
    "        if df.dates.values[i] in df1.index.values:\n",
    "            cd =df.dates[i]\n",
    "            last_val = df1.loc[cd,colname]\n",
    "            df.loc[i,colname] = last_val\n",
    "        elif df.dates.values[i+1] in df1.index.values:\n",
    "            nday = df.dates[i]+datetime.timedelta(days = 1)\n",
    "            avalue = df1.loc[nday,colname]\n",
    "            df.loc[i,colname] =(avalue+last_val)/2\n",
    "        else:\n",
    "            df.loc[i,colname] =last_val\n",
    "    return df"
   ]
  },
  {
   "cell_type": "code",
   "execution_count": 317,
   "metadata": {
    "ExecuteTime": {
     "end_time": "2018-06-14T15:49:13.575726Z",
     "start_time": "2018-06-14T15:49:13.572713Z"
    }
   },
   "outputs": [],
   "source": [
    "aq.index = pd.to_datetime(aq.index)\n",
    "sfc.index = pd.to_datetime(sfc.index)"
   ]
  },
  {
   "cell_type": "code",
   "execution_count": 320,
   "metadata": {
    "ExecuteTime": {
     "end_time": "2018-06-14T15:49:44.527585Z",
     "start_time": "2018-06-14T15:49:41.269419Z"
    }
   },
   "outputs": [],
   "source": [
    "#no longer have missing values\n",
    "cdf = missVal('CO2 ppm', sfc)\n",
    "aqidf = missVal('AQI', aq)\n",
    "cdf.set_index('dates',inplace=True)\n",
    "aqidf.set_index('dates',inplace=True)"
   ]
  },
  {
   "cell_type": "code",
   "execution_count": 321,
   "metadata": {
    "ExecuteTime": {
     "end_time": "2018-06-14T15:49:44.541518Z",
     "start_time": "2018-06-14T15:49:44.530078Z"
    }
   },
   "outputs": [
    {
     "data": {
      "text/html": [
       "<div>\n",
       "<style scoped>\n",
       "    .dataframe tbody tr th:only-of-type {\n",
       "        vertical-align: middle;\n",
       "    }\n",
       "\n",
       "    .dataframe tbody tr th {\n",
       "        vertical-align: top;\n",
       "    }\n",
       "\n",
       "    .dataframe thead th {\n",
       "        text-align: right;\n",
       "    }\n",
       "</style>\n",
       "<table border=\"1\" class=\"dataframe\">\n",
       "  <thead>\n",
       "    <tr style=\"text-align: right;\">\n",
       "      <th></th>\n",
       "      <th>CO2 ppm</th>\n",
       "    </tr>\n",
       "    <tr>\n",
       "      <th>dates</th>\n",
       "      <th></th>\n",
       "    </tr>\n",
       "  </thead>\n",
       "  <tbody>\n",
       "    <tr>\n",
       "      <th>2008-01-02</th>\n",
       "      <td>397.260010</td>\n",
       "    </tr>\n",
       "    <tr>\n",
       "      <th>2008-01-03</th>\n",
       "      <td>390.620000</td>\n",
       "    </tr>\n",
       "    <tr>\n",
       "      <th>2008-01-04</th>\n",
       "      <td>390.169997</td>\n",
       "    </tr>\n",
       "    <tr>\n",
       "      <th>2008-01-05</th>\n",
       "      <td>388.109998</td>\n",
       "    </tr>\n",
       "    <tr>\n",
       "      <th>2008-01-06</th>\n",
       "      <td>388.410001</td>\n",
       "    </tr>\n",
       "    <tr>\n",
       "      <th>2008-01-07</th>\n",
       "      <td>388.059998</td>\n",
       "    </tr>\n",
       "    <tr>\n",
       "      <th>2008-01-08</th>\n",
       "      <td>387.940003</td>\n",
       "    </tr>\n",
       "    <tr>\n",
       "      <th>2008-01-09</th>\n",
       "      <td>388.470013</td>\n",
       "    </tr>\n",
       "    <tr>\n",
       "      <th>2008-01-10</th>\n",
       "      <td>397.310010</td>\n",
       "    </tr>\n",
       "    <tr>\n",
       "      <th>2008-01-11</th>\n",
       "      <td>386.189990</td>\n",
       "    </tr>\n",
       "    <tr>\n",
       "      <th>2008-01-12</th>\n",
       "      <td>400.010002</td>\n",
       "    </tr>\n",
       "    <tr>\n",
       "      <th>2008-01-13</th>\n",
       "      <td>399.699988</td>\n",
       "    </tr>\n",
       "    <tr>\n",
       "      <th>2008-01-14</th>\n",
       "      <td>391.189998</td>\n",
       "    </tr>\n",
       "    <tr>\n",
       "      <th>2008-01-15</th>\n",
       "      <td>404.999999</td>\n",
       "    </tr>\n",
       "    <tr>\n",
       "      <th>2008-01-16</th>\n",
       "      <td>388.599990</td>\n",
       "    </tr>\n",
       "    <tr>\n",
       "      <th>2008-01-17</th>\n",
       "      <td>393.489987</td>\n",
       "    </tr>\n",
       "    <tr>\n",
       "      <th>2008-01-18</th>\n",
       "      <td>395.949988</td>\n",
       "    </tr>\n",
       "    <tr>\n",
       "      <th>2008-01-19</th>\n",
       "      <td>396.079995</td>\n",
       "    </tr>\n",
       "    <tr>\n",
       "      <th>2008-01-20</th>\n",
       "      <td>392.020011</td>\n",
       "    </tr>\n",
       "    <tr>\n",
       "      <th>2008-01-21</th>\n",
       "      <td>388.420012</td>\n",
       "    </tr>\n",
       "    <tr>\n",
       "      <th>2008-01-22</th>\n",
       "      <td>401.310012</td>\n",
       "    </tr>\n",
       "    <tr>\n",
       "      <th>2008-01-23</th>\n",
       "      <td>393.880007</td>\n",
       "    </tr>\n",
       "    <tr>\n",
       "      <th>2008-01-24</th>\n",
       "      <td>395.829993</td>\n",
       "    </tr>\n",
       "    <tr>\n",
       "      <th>2008-01-25</th>\n",
       "      <td>392.129994</td>\n",
       "    </tr>\n",
       "    <tr>\n",
       "      <th>2008-01-26</th>\n",
       "      <td>389.680004</td>\n",
       "    </tr>\n",
       "    <tr>\n",
       "      <th>2008-01-27</th>\n",
       "      <td>393.610011</td>\n",
       "    </tr>\n",
       "    <tr>\n",
       "      <th>2008-01-28</th>\n",
       "      <td>390.880014</td>\n",
       "    </tr>\n",
       "    <tr>\n",
       "      <th>2008-01-29</th>\n",
       "      <td>390.880014</td>\n",
       "    </tr>\n",
       "    <tr>\n",
       "      <th>2008-01-30</th>\n",
       "      <td>390.880014</td>\n",
       "    </tr>\n",
       "    <tr>\n",
       "      <th>2008-01-31</th>\n",
       "      <td>390.880014</td>\n",
       "    </tr>\n",
       "    <tr>\n",
       "      <th>...</th>\n",
       "      <td>...</td>\n",
       "    </tr>\n",
       "    <tr>\n",
       "      <th>2017-03-02</th>\n",
       "      <td>409.459986</td>\n",
       "    </tr>\n",
       "    <tr>\n",
       "      <th>2017-03-03</th>\n",
       "      <td>407.299987</td>\n",
       "    </tr>\n",
       "    <tr>\n",
       "      <th>2017-03-04</th>\n",
       "      <td>411.290006</td>\n",
       "    </tr>\n",
       "    <tr>\n",
       "      <th>2017-03-05</th>\n",
       "      <td>410.629989</td>\n",
       "    </tr>\n",
       "    <tr>\n",
       "      <th>2017-03-06</th>\n",
       "      <td>410.629989</td>\n",
       "    </tr>\n",
       "    <tr>\n",
       "      <th>2017-03-07</th>\n",
       "      <td>408.874999</td>\n",
       "    </tr>\n",
       "    <tr>\n",
       "      <th>2017-03-08</th>\n",
       "      <td>407.120009</td>\n",
       "    </tr>\n",
       "    <tr>\n",
       "      <th>2017-03-09</th>\n",
       "      <td>409.859989</td>\n",
       "    </tr>\n",
       "    <tr>\n",
       "      <th>2017-03-10</th>\n",
       "      <td>407.429994</td>\n",
       "    </tr>\n",
       "    <tr>\n",
       "      <th>2017-03-11</th>\n",
       "      <td>403.479993</td>\n",
       "    </tr>\n",
       "    <tr>\n",
       "      <th>2017-03-12</th>\n",
       "      <td>408.430002</td>\n",
       "    </tr>\n",
       "    <tr>\n",
       "      <th>2017-03-13</th>\n",
       "      <td>407.949992</td>\n",
       "    </tr>\n",
       "    <tr>\n",
       "      <th>2017-03-14</th>\n",
       "      <td>408.794993</td>\n",
       "    </tr>\n",
       "    <tr>\n",
       "      <th>2017-03-15</th>\n",
       "      <td>409.639993</td>\n",
       "    </tr>\n",
       "    <tr>\n",
       "      <th>2017-03-16</th>\n",
       "      <td>409.839995</td>\n",
       "    </tr>\n",
       "    <tr>\n",
       "      <th>2017-03-17</th>\n",
       "      <td>409.080007</td>\n",
       "    </tr>\n",
       "    <tr>\n",
       "      <th>2017-03-18</th>\n",
       "      <td>410.829991</td>\n",
       "    </tr>\n",
       "    <tr>\n",
       "      <th>2017-03-19</th>\n",
       "      <td>409.050001</td>\n",
       "    </tr>\n",
       "    <tr>\n",
       "      <th>2017-03-20</th>\n",
       "      <td>412.530004</td>\n",
       "    </tr>\n",
       "    <tr>\n",
       "      <th>2017-03-21</th>\n",
       "      <td>410.550012</td>\n",
       "    </tr>\n",
       "    <tr>\n",
       "      <th>2017-03-22</th>\n",
       "      <td>410.779990</td>\n",
       "    </tr>\n",
       "    <tr>\n",
       "      <th>2017-03-23</th>\n",
       "      <td>410.979992</td>\n",
       "    </tr>\n",
       "    <tr>\n",
       "      <th>2017-03-24</th>\n",
       "      <td>411.320012</td>\n",
       "    </tr>\n",
       "    <tr>\n",
       "      <th>2017-03-25</th>\n",
       "      <td>410.929992</td>\n",
       "    </tr>\n",
       "    <tr>\n",
       "      <th>2017-03-26</th>\n",
       "      <td>411.170011</td>\n",
       "    </tr>\n",
       "    <tr>\n",
       "      <th>2017-03-27</th>\n",
       "      <td>410.805005</td>\n",
       "    </tr>\n",
       "    <tr>\n",
       "      <th>2017-03-28</th>\n",
       "      <td>410.440000</td>\n",
       "    </tr>\n",
       "    <tr>\n",
       "      <th>2017-03-29</th>\n",
       "      <td>410.559995</td>\n",
       "    </tr>\n",
       "    <tr>\n",
       "      <th>2017-03-30</th>\n",
       "      <td>410.559995</td>\n",
       "    </tr>\n",
       "    <tr>\n",
       "      <th>2017-03-31</th>\n",
       "      <td>411.249988</td>\n",
       "    </tr>\n",
       "  </tbody>\n",
       "</table>\n",
       "<p>3377 rows × 1 columns</p>\n",
       "</div>"
      ],
      "text/plain": [
       "               CO2 ppm\n",
       "dates                 \n",
       "2008-01-02  397.260010\n",
       "2008-01-03  390.620000\n",
       "2008-01-04  390.169997\n",
       "2008-01-05  388.109998\n",
       "2008-01-06  388.410001\n",
       "2008-01-07  388.059998\n",
       "2008-01-08  387.940003\n",
       "2008-01-09  388.470013\n",
       "2008-01-10  397.310010\n",
       "2008-01-11  386.189990\n",
       "2008-01-12  400.010002\n",
       "2008-01-13  399.699988\n",
       "2008-01-14  391.189998\n",
       "2008-01-15  404.999999\n",
       "2008-01-16  388.599990\n",
       "2008-01-17  393.489987\n",
       "2008-01-18  395.949988\n",
       "2008-01-19  396.079995\n",
       "2008-01-20  392.020011\n",
       "2008-01-21  388.420012\n",
       "2008-01-22  401.310012\n",
       "2008-01-23  393.880007\n",
       "2008-01-24  395.829993\n",
       "2008-01-25  392.129994\n",
       "2008-01-26  389.680004\n",
       "2008-01-27  393.610011\n",
       "2008-01-28  390.880014\n",
       "2008-01-29  390.880014\n",
       "2008-01-30  390.880014\n",
       "2008-01-31  390.880014\n",
       "...                ...\n",
       "2017-03-02  409.459986\n",
       "2017-03-03  407.299987\n",
       "2017-03-04  411.290006\n",
       "2017-03-05  410.629989\n",
       "2017-03-06  410.629989\n",
       "2017-03-07  408.874999\n",
       "2017-03-08  407.120009\n",
       "2017-03-09  409.859989\n",
       "2017-03-10  407.429994\n",
       "2017-03-11  403.479993\n",
       "2017-03-12  408.430002\n",
       "2017-03-13  407.949992\n",
       "2017-03-14  408.794993\n",
       "2017-03-15  409.639993\n",
       "2017-03-16  409.839995\n",
       "2017-03-17  409.080007\n",
       "2017-03-18  410.829991\n",
       "2017-03-19  409.050001\n",
       "2017-03-20  412.530004\n",
       "2017-03-21  410.550012\n",
       "2017-03-22  410.779990\n",
       "2017-03-23  410.979992\n",
       "2017-03-24  411.320012\n",
       "2017-03-25  410.929992\n",
       "2017-03-26  411.170011\n",
       "2017-03-27  410.805005\n",
       "2017-03-28  410.440000\n",
       "2017-03-29  410.559995\n",
       "2017-03-30  410.559995\n",
       "2017-03-31  411.249988\n",
       "\n",
       "[3377 rows x 1 columns]"
      ]
     },
     "execution_count": 321,
     "metadata": {},
     "output_type": "execute_result"
    }
   ],
   "source": [
    "cdf"
   ]
  },
  {
   "cell_type": "code",
   "execution_count": 311,
   "metadata": {
    "ExecuteTime": {
     "end_time": "2018-06-14T15:46:29.435901Z",
     "start_time": "2018-06-14T15:46:29.430940Z"
    }
   },
   "outputs": [],
   "source": [
    "cdf.reset_index(inplace=True)\n",
    "cdf.drop(['index', 'level_0'], axis=1, inplace=True)\n",
    "cdf.set_index('dates', inplace=True)"
   ]
  },
  {
   "cell_type": "code",
   "execution_count": 281,
   "metadata": {
    "ExecuteTime": {
     "end_time": "2018-06-14T15:41:22.349104Z",
     "start_time": "2018-06-14T15:41:22.345275Z"
    }
   },
   "outputs": [
    {
     "data": {
      "text/plain": [
       "True"
      ]
     },
     "execution_count": 281,
     "metadata": {},
     "output_type": "execute_result"
    }
   ],
   "source": [
    "aqidf.isnull().values.any()"
   ]
  },
  {
   "cell_type": "code",
   "execution_count": 282,
   "metadata": {
    "ExecuteTime": {
     "end_time": "2018-06-14T15:41:22.354369Z",
     "start_time": "2018-06-14T15:41:22.351066Z"
    }
   },
   "outputs": [],
   "source": [
    "nulls = aqidf[aqidf.isnull().values].copy()"
   ]
  },
  {
   "cell_type": "code",
   "execution_count": 303,
   "metadata": {
    "ExecuteTime": {
     "end_time": "2018-06-14T15:45:08.976360Z",
     "start_time": "2018-06-14T15:45:08.970364Z"
    }
   },
   "outputs": [],
   "source": []
  },
  {
   "cell_type": "code",
   "execution_count": 293,
   "metadata": {
    "ExecuteTime": {
     "end_time": "2018-06-14T15:42:45.527946Z",
     "start_time": "2018-06-14T15:42:45.521356Z"
    }
   },
   "outputs": [],
   "source": [
    "#For nulls, if any are in dataset\n",
    "for i in nulls.index:\n",
    "    prevdate = i-datetime.timedelta(days = 2)\n",
    "    postdate = i+datetime.timedelta(days = 5)\n",
    "    fill = (aq.loc[prevdate,'AQI']+aq.loc[postdate,'AQI'])/2\n",
    "    aqidf.loc[i,'AQI'] = fill"
   ]
  },
  {
   "cell_type": "code",
   "execution_count": 294,
   "metadata": {
    "ExecuteTime": {
     "end_time": "2018-06-14T15:43:09.124921Z",
     "start_time": "2018-06-14T15:43:09.122287Z"
    }
   },
   "outputs": [],
   "source": [
    "# plot binned yearly segments using resample method, capital A for annual\n",
    "#monthly_temp.resample('A').temp.plot();"
   ]
  },
  {
   "cell_type": "code",
   "execution_count": 295,
   "metadata": {
    "ExecuteTime": {
     "end_time": "2018-06-14T15:43:09.554855Z",
     "start_time": "2018-06-14T15:43:09.552694Z"
    }
   },
   "outputs": [],
   "source": [
    "# violinplot months to determine variance and range\n",
    "#sns.violinplot(x=monthly_temp.index.month, y=monthly_temp.temp);"
   ]
  },
  {
   "cell_type": "markdown",
   "metadata": {},
   "source": [
    "## Time Series with Prophet\n",
    "\n",
    "Facebooks Prophet package is better atm with my data because it is incomplete and it allows for specifying change points in the trend to give an idea of how an event will affect forecasting into the future."
   ]
  },
  {
   "cell_type": "markdown",
   "metadata": {},
   "source": [
    "## Time Series with SARIMAX\n",
    "\n",
    "Below is the start of the time series predictions.  I will actually start with Prophet since my data is incomplete, then check how it looks with sarmiax after predicting the missing data."
   ]
  },
  {
   "cell_type": "code",
   "execution_count": 304,
   "metadata": {
    "ExecuteTime": {
     "end_time": "2018-06-14T15:45:22.575201Z",
     "start_time": "2018-06-14T15:45:22.558980Z"
    }
   },
   "outputs": [
    {
     "ename": "ValueError",
     "evalue": "operands could not be broadcast together with shapes (3377,2) (3377,) ",
     "output_type": "error",
     "traceback": [
      "\u001b[0;31m---------------------------------------------------------------------------\u001b[0m",
      "\u001b[0;31mValueError\u001b[0m                                Traceback (most recent call last)",
      "\u001b[0;32m<ipython-input-304-924094330760>\u001b[0m in \u001b[0;36m<module>\u001b[0;34m()\u001b[0m\n\u001b[1;32m      1\u001b[0m \u001b[0;31m# decompose data into trend, seasonal, and residual\u001b[0m\u001b[0;34m\u001b[0m\u001b[0;34m\u001b[0m\u001b[0m\n\u001b[0;32m----> 2\u001b[0;31m \u001b[0mdecomposition\u001b[0m \u001b[0;34m=\u001b[0m \u001b[0msm\u001b[0m\u001b[0;34m.\u001b[0m\u001b[0mtsa\u001b[0m\u001b[0;34m.\u001b[0m\u001b[0mseasonal_decompose\u001b[0m\u001b[0;34m(\u001b[0m\u001b[0mcdf\u001b[0m\u001b[0;34m,\u001b[0m \u001b[0mmodel\u001b[0m\u001b[0;34m=\u001b[0m\u001b[0;34m'additive'\u001b[0m\u001b[0;34m)\u001b[0m\u001b[0;34m\u001b[0m\u001b[0m\n\u001b[0m\u001b[1;32m      3\u001b[0m \u001b[0mfig\u001b[0m \u001b[0;34m=\u001b[0m \u001b[0mdecomposition\u001b[0m\u001b[0;34m.\u001b[0m\u001b[0mplot\u001b[0m\u001b[0;34m(\u001b[0m\u001b[0;34m)\u001b[0m\u001b[0;34m\u001b[0m\u001b[0m\n\u001b[1;32m      4\u001b[0m \u001b[0mplt\u001b[0m\u001b[0;34m.\u001b[0m\u001b[0mshow\u001b[0m\u001b[0;34m(\u001b[0m\u001b[0;34m)\u001b[0m\u001b[0;34m\u001b[0m\u001b[0m\n",
      "\u001b[0;32m/anaconda3/lib/python3.6/site-packages/statsmodels/tsa/seasonal.py\u001b[0m in \u001b[0;36mseasonal_decompose\u001b[0;34m(x, model, filt, freq, two_sided)\u001b[0m\n\u001b[1;32m    113\u001b[0m         \u001b[0mresid\u001b[0m \u001b[0;34m=\u001b[0m \u001b[0mx\u001b[0m \u001b[0;34m/\u001b[0m \u001b[0mseasonal\u001b[0m \u001b[0;34m/\u001b[0m \u001b[0mtrend\u001b[0m\u001b[0;34m\u001b[0m\u001b[0m\n\u001b[1;32m    114\u001b[0m     \u001b[0;32melse\u001b[0m\u001b[0;34m:\u001b[0m\u001b[0;34m\u001b[0m\u001b[0m\n\u001b[0;32m--> 115\u001b[0;31m         \u001b[0mresid\u001b[0m \u001b[0;34m=\u001b[0m \u001b[0mdetrended\u001b[0m \u001b[0;34m-\u001b[0m \u001b[0mseasonal\u001b[0m\u001b[0;34m\u001b[0m\u001b[0m\n\u001b[0m\u001b[1;32m    116\u001b[0m \u001b[0;34m\u001b[0m\u001b[0m\n\u001b[1;32m    117\u001b[0m     \u001b[0mresults\u001b[0m \u001b[0;34m=\u001b[0m \u001b[0mlmap\u001b[0m\u001b[0;34m(\u001b[0m\u001b[0m_pandas_wrapper\u001b[0m\u001b[0;34m,\u001b[0m \u001b[0;34m[\u001b[0m\u001b[0mseasonal\u001b[0m\u001b[0;34m,\u001b[0m \u001b[0mtrend\u001b[0m\u001b[0;34m,\u001b[0m \u001b[0mresid\u001b[0m\u001b[0;34m,\u001b[0m \u001b[0mx\u001b[0m\u001b[0;34m]\u001b[0m\u001b[0;34m)\u001b[0m\u001b[0;34m\u001b[0m\u001b[0m\n",
      "\u001b[0;31mValueError\u001b[0m: operands could not be broadcast together with shapes (3377,2) (3377,) "
     ]
    }
   ],
   "source": [
    "# decompose data into trend, seasonal, and residual\n",
    "decomposition = sm.tsa.seasonal_decompose(cdf, model='additive')\n",
    "fig = decomposition.plot()\n",
    "plt.show()"
   ]
  },
  {
   "cell_type": "code",
   "execution_count": 209,
   "metadata": {
    "ExecuteTime": {
     "end_time": "2018-06-14T15:23:49.132598Z",
     "start_time": "2018-06-14T15:23:49.113699Z"
    }
   },
   "outputs": [],
   "source": [
    "# define Dickey-Fuller Test (DFT) function\n",
    "import statsmodels.tsa.stattools as ts\n",
    "def dftest(timeseries):\n",
    "    dftest = ts.adfuller(timeseries, autolag='AIC')\n",
    "    dfoutput = pd.Series(dftest[0:4], index=['Test Statistic','p-value','Lags Used','Observations Used'])\n",
    "    for key,value in dftest[4].items():\n",
    "        dfoutput['Critical Value (%s)'%key] = value\n",
    "    print(dfoutput)\n",
    "    #Determing rolling statistics\n",
    "    rolmean = pd.rolling_mean(timeseries, window=7)\n",
    "    rolstd = pd.rolling_std(timeseries, window=7)\n",
    "\n",
    "    #Plot rolling statistics:\n",
    "    orig = plt.plot(timeseries, color='blue',label='Original')\n",
    "    mean = plt.plot(rolmean, color='red', label='Rolling Mean')\n",
    "    #std = plt.plot(rolstd, color='black', label = 'Rolling Std')\n",
    "    plt.legend(loc='best')\n",
    "    plt.title('Rolling Mean and Standard Deviation')\n",
    "    plt.show(block=False)"
   ]
  },
  {
   "cell_type": "code",
   "execution_count": 299,
   "metadata": {
    "ExecuteTime": {
     "end_time": "2018-06-14T15:43:50.407170Z",
     "start_time": "2018-06-14T15:43:50.388683Z"
    }
   },
   "outputs": [
    {
     "ename": "ValueError",
     "evalue": "too many values to unpack (expected 2)",
     "output_type": "error",
     "traceback": [
      "\u001b[0;31m---------------------------------------------------------------------------\u001b[0m",
      "\u001b[0;31mValueError\u001b[0m                                Traceback (most recent call last)",
      "\u001b[0;32m<ipython-input-299-84a24eff14a3>\u001b[0m in \u001b[0;36m<module>\u001b[0;34m()\u001b[0m\n\u001b[1;32m      1\u001b[0m \u001b[0;31m# run DFT on monthly, how many lags back that are used to determine if thereis an underlying trend\u001b[0m\u001b[0;34m\u001b[0m\u001b[0;34m\u001b[0m\u001b[0m\n\u001b[0;32m----> 2\u001b[0;31m \u001b[0mdftest\u001b[0m\u001b[0;34m(\u001b[0m\u001b[0mcdf\u001b[0m\u001b[0;34m)\u001b[0m\u001b[0;34m\u001b[0m\u001b[0m\n\u001b[0m",
      "\u001b[0;32m<ipython-input-209-20762aed9ffb>\u001b[0m in \u001b[0;36mdftest\u001b[0;34m(timeseries)\u001b[0m\n\u001b[1;32m      2\u001b[0m \u001b[0;32mimport\u001b[0m \u001b[0mstatsmodels\u001b[0m\u001b[0;34m.\u001b[0m\u001b[0mtsa\u001b[0m\u001b[0;34m.\u001b[0m\u001b[0mstattools\u001b[0m \u001b[0;32mas\u001b[0m \u001b[0mts\u001b[0m\u001b[0;34m\u001b[0m\u001b[0m\n\u001b[1;32m      3\u001b[0m \u001b[0;32mdef\u001b[0m \u001b[0mdftest\u001b[0m\u001b[0;34m(\u001b[0m\u001b[0mtimeseries\u001b[0m\u001b[0;34m)\u001b[0m\u001b[0;34m:\u001b[0m\u001b[0;34m\u001b[0m\u001b[0m\n\u001b[0;32m----> 4\u001b[0;31m     \u001b[0mdftest\u001b[0m \u001b[0;34m=\u001b[0m \u001b[0mts\u001b[0m\u001b[0;34m.\u001b[0m\u001b[0madfuller\u001b[0m\u001b[0;34m(\u001b[0m\u001b[0mtimeseries\u001b[0m\u001b[0;34m,\u001b[0m \u001b[0mautolag\u001b[0m\u001b[0;34m=\u001b[0m\u001b[0;34m'AIC'\u001b[0m\u001b[0;34m)\u001b[0m\u001b[0;34m\u001b[0m\u001b[0m\n\u001b[0m\u001b[1;32m      5\u001b[0m     \u001b[0mdfoutput\u001b[0m \u001b[0;34m=\u001b[0m \u001b[0mpd\u001b[0m\u001b[0;34m.\u001b[0m\u001b[0mSeries\u001b[0m\u001b[0;34m(\u001b[0m\u001b[0mdftest\u001b[0m\u001b[0;34m[\u001b[0m\u001b[0;36m0\u001b[0m\u001b[0;34m:\u001b[0m\u001b[0;36m4\u001b[0m\u001b[0;34m]\u001b[0m\u001b[0;34m,\u001b[0m \u001b[0mindex\u001b[0m\u001b[0;34m=\u001b[0m\u001b[0;34m[\u001b[0m\u001b[0;34m'Test Statistic'\u001b[0m\u001b[0;34m,\u001b[0m\u001b[0;34m'p-value'\u001b[0m\u001b[0;34m,\u001b[0m\u001b[0;34m'Lags Used'\u001b[0m\u001b[0;34m,\u001b[0m\u001b[0;34m'Observations Used'\u001b[0m\u001b[0;34m]\u001b[0m\u001b[0;34m)\u001b[0m\u001b[0;34m\u001b[0m\u001b[0m\n\u001b[1;32m      6\u001b[0m     \u001b[0;32mfor\u001b[0m \u001b[0mkey\u001b[0m\u001b[0;34m,\u001b[0m\u001b[0mvalue\u001b[0m \u001b[0;32min\u001b[0m \u001b[0mdftest\u001b[0m\u001b[0;34m[\u001b[0m\u001b[0;36m4\u001b[0m\u001b[0;34m]\u001b[0m\u001b[0;34m.\u001b[0m\u001b[0mitems\u001b[0m\u001b[0;34m(\u001b[0m\u001b[0;34m)\u001b[0m\u001b[0;34m:\u001b[0m\u001b[0;34m\u001b[0m\u001b[0m\n",
      "\u001b[0;32m/anaconda3/lib/python3.6/site-packages/statsmodels/tsa/stattools.py\u001b[0m in \u001b[0;36madfuller\u001b[0;34m(x, maxlag, regression, autolag, store, regresults)\u001b[0m\n\u001b[1;32m    218\u001b[0m \u001b[0;34m\u001b[0m\u001b[0m\n\u001b[1;32m    219\u001b[0m     \u001b[0mxdiff\u001b[0m \u001b[0;34m=\u001b[0m \u001b[0mnp\u001b[0m\u001b[0;34m.\u001b[0m\u001b[0mdiff\u001b[0m\u001b[0;34m(\u001b[0m\u001b[0mx\u001b[0m\u001b[0;34m)\u001b[0m\u001b[0;34m\u001b[0m\u001b[0m\n\u001b[0;32m--> 220\u001b[0;31m     \u001b[0mxdall\u001b[0m \u001b[0;34m=\u001b[0m \u001b[0mlagmat\u001b[0m\u001b[0;34m(\u001b[0m\u001b[0mxdiff\u001b[0m\u001b[0;34m[\u001b[0m\u001b[0;34m:\u001b[0m\u001b[0;34m,\u001b[0m \u001b[0;32mNone\u001b[0m\u001b[0;34m]\u001b[0m\u001b[0;34m,\u001b[0m \u001b[0mmaxlag\u001b[0m\u001b[0;34m,\u001b[0m \u001b[0mtrim\u001b[0m\u001b[0;34m=\u001b[0m\u001b[0;34m'both'\u001b[0m\u001b[0;34m,\u001b[0m \u001b[0moriginal\u001b[0m\u001b[0;34m=\u001b[0m\u001b[0;34m'in'\u001b[0m\u001b[0;34m)\u001b[0m\u001b[0;34m\u001b[0m\u001b[0m\n\u001b[0m\u001b[1;32m    221\u001b[0m     \u001b[0mnobs\u001b[0m \u001b[0;34m=\u001b[0m \u001b[0mxdall\u001b[0m\u001b[0;34m.\u001b[0m\u001b[0mshape\u001b[0m\u001b[0;34m[\u001b[0m\u001b[0;36m0\u001b[0m\u001b[0;34m]\u001b[0m  \u001b[0;31m# pylint: disable=E1103\u001b[0m\u001b[0;34m\u001b[0m\u001b[0m\n\u001b[1;32m    222\u001b[0m \u001b[0;34m\u001b[0m\u001b[0m\n",
      "\u001b[0;32m/anaconda3/lib/python3.6/site-packages/statsmodels/tsa/tsatools.py\u001b[0m in \u001b[0;36mlagmat\u001b[0;34m(x, maxlag, trim, original, use_pandas)\u001b[0m\n\u001b[1;32m    373\u001b[0m     \u001b[0;32mif\u001b[0m \u001b[0mxa\u001b[0m\u001b[0;34m.\u001b[0m\u001b[0mndim\u001b[0m \u001b[0;34m==\u001b[0m \u001b[0;36m1\u001b[0m\u001b[0;34m:\u001b[0m\u001b[0;34m\u001b[0m\u001b[0m\n\u001b[1;32m    374\u001b[0m         \u001b[0mxa\u001b[0m \u001b[0;34m=\u001b[0m \u001b[0mxa\u001b[0m\u001b[0;34m[\u001b[0m\u001b[0;34m:\u001b[0m\u001b[0;34m,\u001b[0m \u001b[0;32mNone\u001b[0m\u001b[0;34m]\u001b[0m\u001b[0;34m\u001b[0m\u001b[0m\n\u001b[0;32m--> 375\u001b[0;31m     \u001b[0mnobs\u001b[0m\u001b[0;34m,\u001b[0m \u001b[0mnvar\u001b[0m \u001b[0;34m=\u001b[0m \u001b[0mxa\u001b[0m\u001b[0;34m.\u001b[0m\u001b[0mshape\u001b[0m\u001b[0;34m\u001b[0m\u001b[0m\n\u001b[0m\u001b[1;32m    376\u001b[0m     \u001b[0;32mif\u001b[0m \u001b[0moriginal\u001b[0m \u001b[0;32min\u001b[0m \u001b[0;34m[\u001b[0m\u001b[0;34m'ex'\u001b[0m\u001b[0;34m,\u001b[0m \u001b[0;34m'sep'\u001b[0m\u001b[0;34m]\u001b[0m\u001b[0;34m:\u001b[0m\u001b[0;34m\u001b[0m\u001b[0m\n\u001b[1;32m    377\u001b[0m         \u001b[0mdropidx\u001b[0m \u001b[0;34m=\u001b[0m \u001b[0mnvar\u001b[0m\u001b[0;34m\u001b[0m\u001b[0m\n",
      "\u001b[0;31mValueError\u001b[0m: too many values to unpack (expected 2)"
     ]
    }
   ],
   "source": [
    "# run DFT on monthly, how many lags back that are used to determine if thereis an underlying trend\n",
    "dftest(cdf)"
   ]
  },
  {
   "cell_type": "code",
   "execution_count": 211,
   "metadata": {
    "ExecuteTime": {
     "end_time": "2018-06-14T15:23:57.573209Z",
     "start_time": "2018-06-14T15:23:57.361526Z"
    }
   },
   "outputs": [
    {
     "name": "stdout",
     "output_type": "stream",
     "text": [
      "Test Statistic         -7.323486e+00\n",
      "p-value                 1.177434e-10\n",
      "Lags Used               1.000000e+00\n",
      "Observations Used       3.730000e+02\n",
      "Critical Value (1%)    -3.448004e+00\n",
      "Critical Value (5%)    -2.869320e+00\n",
      "Critical Value (10%)   -2.570915e+00\n",
      "dtype: float64\n"
     ]
    },
    {
     "name": "stderr",
     "output_type": "stream",
     "text": [
      "/anaconda3/lib/python3.6/site-packages/ipykernel_launcher.py:10: FutureWarning:\n",
      "\n",
      "pd.rolling_mean is deprecated for Series and will be removed in a future version, replace with \n",
      "\tSeries.rolling(window=7,center=False).mean()\n",
      "\n",
      "/anaconda3/lib/python3.6/site-packages/ipykernel_launcher.py:11: FutureWarning:\n",
      "\n",
      "pd.rolling_std is deprecated for Series and will be removed in a future version, replace with \n",
      "\tSeries.rolling(window=7,center=False).std()\n",
      "\n"
     ]
    },
    {
     "data": {
      "image/png": "[encoded data removed]",
      "text/plain": [
       "<matplotlib.figure.Figure at 0x1c2bb3ac50>"
      ]
     },
     "metadata": {},
     "output_type": "display_data"
    }
   ],
   "source": [
    "dftest(aqi)"
   ]
  },
  {
   "cell_type": "code",
   "execution_count": 35,
   "metadata": {},
   "outputs": [
    {
     "data": {
      "image/png": "[encoded data removed]",
      "text/plain": [
       "<Figure size 432x288 with 4 Axes>"
      ]
     },
     "metadata": {},
     "output_type": "display_data"
    }
   ],
   "source": [
    "# decompose data into trend, seasonal, and residual\n",
    "decomposition = sm.tsa.seasonal_decompose(aqidf.AQI)\n",
    "fig = decomposition.plot()\n",
    "plt.show()"
   ]
  },
  {
   "cell_type": "code",
   "execution_count": 36,
   "metadata": {},
   "outputs": [],
   "source": [
    "# define helper plot function for visualization\n",
    "import statsmodels.tsa.api as smt\n",
    "def plots(data, lags=None):\n",
    "    layout = (3, 1)\n",
    "    raw  = plt.subplot2grid(layout, (0, 0))\n",
    "    acf  = plt.subplot2grid(layout, (1, 0))\n",
    "    pacf = plt.subplot2grid(layout, (2, 0))\n",
    "    \n",
    "    data.plot(ax=raw)\n",
    "    smt.graphics.plot_acf(data, lags=lags, ax=acf)\n",
    "    smt.graphics.plot_pacf(data, lags=lags, ax=pacf)\n",
    "    sns.despine()\n",
    "    plt.tight_layout()"
   ]
  },
  {
   "cell_type": "code",
   "execution_count": 37,
   "metadata": {},
   "outputs": [
    {
     "data": {
      "text/html": [
       "<table class=\"simpletable\">\n",
       "<caption>Statespace Model Results</caption>\n",
       "<tr>\n",
       "  <th>Dep. Variable:</th>         <td>CO2 ppm</td>       <th>  No. Observations:  </th>   <td>2274</td>   \n",
       "</tr>\n",
       "<tr>\n",
       "  <th>Model:</th>           <td>SARIMAX(1, 1, 1, 7)</td> <th>  Log Likelihood     </th> <td>-7958.364</td>\n",
       "</tr>\n",
       "<tr>\n",
       "  <th>Date:</th>             <td>Wed, 13 Jun 2018</td>   <th>  AIC                </th> <td>15922.728</td>\n",
       "</tr>\n",
       "<tr>\n",
       "  <th>Time:</th>                 <td>22:44:04</td>       <th>  BIC                </th> <td>15939.916</td>\n",
       "</tr>\n",
       "<tr>\n",
       "  <th>Sample:</th>              <td>01-06-2011</td>      <th>  HQIC               </th> <td>15928.999</td>\n",
       "</tr>\n",
       "<tr>\n",
       "  <th></th>                    <td>- 03-28-2017</td>     <th>                     </th>     <td> </td>    \n",
       "</tr>\n",
       "<tr>\n",
       "  <th>Covariance Type:</th>         <td>opg</td>         <th>                     </th>     <td> </td>    \n",
       "</tr>\n",
       "</table>\n",
       "<table class=\"simpletable\">\n",
       "<tr>\n",
       "     <td></td>        <th>coef</th>     <th>std err</th>      <th>z</th>      <th>P>|z|</th>  <th>[0.025</th>    <th>0.975]</th>  \n",
       "</tr>\n",
       "<tr>\n",
       "  <th>ar.S.L7</th> <td>   -0.1348</td> <td>    0.026</td> <td>   -5.100</td> <td> 0.000</td> <td>   -0.187</td> <td>   -0.083</td>\n",
       "</tr>\n",
       "<tr>\n",
       "  <th>ma.S.L7</th> <td>   -0.5169</td> <td>    0.024</td> <td>  -21.253</td> <td> 0.000</td> <td>   -0.565</td> <td>   -0.469</td>\n",
       "</tr>\n",
       "<tr>\n",
       "  <th>sigma2</th>  <td>   67.1678</td> <td>    0.926</td> <td>   72.542</td> <td> 0.000</td> <td>   65.353</td> <td>   68.983</td>\n",
       "</tr>\n",
       "</table>\n",
       "<table class=\"simpletable\">\n",
       "<tr>\n",
       "  <th>Ljung-Box (Q):</th>          <td>2917.06</td> <th>  Jarque-Bera (JB):  </th> <td>6442.86</td>\n",
       "</tr>\n",
       "<tr>\n",
       "  <th>Prob(Q):</th>                 <td>0.00</td>   <th>  Prob(JB):          </th>  <td>0.00</td>  \n",
       "</tr>\n",
       "<tr>\n",
       "  <th>Heteroskedasticity (H):</th>  <td>0.80</td>   <th>  Skew:              </th>  <td>1.53</td>  \n",
       "</tr>\n",
       "<tr>\n",
       "  <th>Prob(H) (two-sided):</th>     <td>0.00</td>   <th>  Kurtosis:          </th>  <td>10.69</td> \n",
       "</tr>\n",
       "</table>"
      ],
      "text/plain": [
       "<class 'statsmodels.iolib.summary.Summary'>\n",
       "\"\"\"\n",
       "                            Statespace Model Results                           \n",
       "===============================================================================\n",
       "Dep. Variable:                 CO2 ppm   No. Observations:                 2274\n",
       "Model:             SARIMAX(1, 1, 1, 7)   Log Likelihood               -7958.364\n",
       "Date:                 Wed, 13 Jun 2018   AIC                          15922.728\n",
       "Time:                         22:44:04   BIC                          15939.916\n",
       "Sample:                     01-06-2011   HQIC                         15928.999\n",
       "                          - 03-28-2017                                         \n",
       "Covariance Type:                   opg                                         \n",
       "==============================================================================\n",
       "                 coef    std err          z      P>|z|      [0.025      0.975]\n",
       "------------------------------------------------------------------------------\n",
       "ar.S.L7       -0.1348      0.026     -5.100      0.000      -0.187      -0.083\n",
       "ma.S.L7       -0.5169      0.024    -21.253      0.000      -0.565      -0.469\n",
       "sigma2        67.1678      0.926     72.542      0.000      65.353      68.983\n",
       "===================================================================================\n",
       "Ljung-Box (Q):                     2917.06   Jarque-Bera (JB):              6442.86\n",
       "Prob(Q):                              0.00   Prob(JB):                         0.00\n",
       "Heteroskedasticity (H):               0.80   Skew:                             1.53\n",
       "Prob(H) (two-sided):                  0.00   Kurtosis:                        10.69\n",
       "===================================================================================\n",
       "\n",
       "Warnings:\n",
       "[1] Covariance matrix calculated using the outer product of gradients (complex-step).\n",
       "\"\"\""
      ]
     },
     "execution_count": 37,
     "metadata": {},
     "output_type": "execute_result"
    }
   ],
   "source": [
    "import statsmodels.api as sm\n",
    "\n",
    "# fit SARIMA monthly based on helper plots\n",
    "#order=(p,d,q), seasonal_order=(P,D,Q,m), each variable has a line in above box\n",
    "sar = sm.tsa.statespace.SARIMAX(co2, order=(0,0,0), seasonal_order=(1,1,1,7), \n",
    "                                enforce_stationarity=False,\n",
    "                                enforce_invertibility=False).fit()\n",
    "sar.summary()"
   ]
  },
  {
   "cell_type": "code",
   "execution_count": 38,
   "metadata": {},
   "outputs": [
    {
     "data": {
      "image/png": "[encoded data removed]",
      "text/plain": [
       "<Figure size 432x288 with 3 Axes>"
      ]
     },
     "metadata": {},
     "output_type": "display_data"
    }
   ],
   "source": [
    "# helper plot for monthly temps\n",
    "plots(co2, lags=40);"
   ]
  },
  {
   "cell_type": "code",
   "execution_count": null,
   "metadata": {},
   "outputs": [],
   "source": []
  },
  {
   "cell_type": "code",
   "execution_count": 40,
   "metadata": {},
   "outputs": [
    {
     "name": "stdout",
     "output_type": "stream",
     "text": [
      "SARIMAX: (0, 0, 1) , (0, 0, 1, 365)\n",
      "SARIMAX: (0, 0, 1) , (0, 0, 2, 365)\n",
      "SARIMAX: (0, 0, 2) , (0, 1, 0, 365)\n",
      "SARIMAX: (0, 0, 2) , (0, 1, 1, 365)\n"
     ]
    }
   ],
   "source": [
    "# using itertools to gridsearch solutions\n",
    "import itertools\n",
    "import itertools\n",
    "\n",
    "#set parameter range; UPDATE THESE!\n",
    "p = q = range(0, 3)\n",
    "d = range(0, 2)\n",
    "season = 365\n",
    "\n",
    "# list of all parameter combos\n",
    "pdq = list(itertools.product(p, d, q))\n",
    "# same for seasonal variant\n",
    "seasonal_pdq = [(x[0], x[1], x[2], season) for x in list(itertools.product(p, d, q))]\n",
    "\n",
    "print('SARIMAX: {} , {}'.format(pdq[1], seasonal_pdq[1]))\n",
    "print('SARIMAX: {} , {}'.format(pdq[1], seasonal_pdq[2]))\n",
    "print('SARIMAX: {} , {}'.format(pdq[2], seasonal_pdq[3]))\n",
    "print('SARIMAX: {} , {}'.format(pdq[2], seasonal_pdq[4]))"
   ]
  },
  {
   "cell_type": "code",
   "execution_count": null,
   "metadata": {},
   "outputs": [
    {
     "name": "stdout",
     "output_type": "stream",
     "text": [
      "ARIMA(0, 0, 0),(0, 0, 1, 365) - AIC:28366.24491044973\n"
     ]
    }
   ],
   "source": [
    "import warnings\n",
    "warnings.filterwarnings(\"ignore\") # specify to ignore warning messages\n",
    "for param in pdq:\n",
    "    for param_seasonal in seasonal_pdq:\n",
    "        try:\n",
    "            model = sm.tsa.statespace.SARIMAX(co2, order=param,\n",
    "                        seasonal_order=param_seasonal, enforce_stationarity=False, enforce_invertibility=False).fit()\n",
    "\n",
    "            print('ARIMA{},{} - AIC:{}'.format(param, param_seasonal, model.aic))\n",
    "        except:\n",
    "            continue"
   ]
  },
  {
   "cell_type": "markdown",
   "metadata": {},
   "source": [
    "# optimize our SARIMAX model using itertools: CAREFUL, this can take a while\n",
    "warnings.filterwarnings(\"ignore\") # specify to ignore warning messages\n",
    "\n",
    "for param in pdq:\n",
    "    for param_seasonal in seasonal_pdq:\n",
    "        try:\n",
    "            model = sm.tsa.statespace.SARIMAX(co2, order=param,\n",
    "                        seasonal_order=param_seasonal, enforce_stationarity=False, enforce_invertibility=False).fit()\n",
    "\n",
    "            print('ARIMA{},{} - AIC:{}'.format(param, param_seasonal, model.aic))\n",
    "        except:\n",
    "            continue"
   ]
  },
  {
   "cell_type": "code",
   "execution_count": null,
   "metadata": {},
   "outputs": [],
   "source": [
    "\n",
    "import warnings\n",
    "warnings.filterwarnings(\"ignore\") # specify to ignore warning messages\n",
    "for param in pdq:\n",
    "    for param_seasonal in seasonal_pdq:\n",
    "        try:\n",
    "            model = sm.tsa.statespace.SARIMAX(aqi, order=param,\n",
    "                        seasonal_order=param_seasonal, enforce_stationarity=False, enforce_invertibility=False).fit()\n",
    "\n",
    "            print('ARIMA{},{} - AIC:{}'.format(param, param_seasonal, model.aic))\n",
    "        except:\n",
    "            continue"
   ]
  },
  {
   "cell_type": "code",
   "execution_count": null,
   "metadata": {},
   "outputs": [],
   "source": [
    "#ARIMA(2, 1, 2),(2, 0, 2, 12) - AIC:12042.917228602186"
   ]
  },
  {
   "cell_type": "code",
   "execution_count": null,
   "metadata": {},
   "outputs": [],
   "source": []
  },
  {
   "cell_type": "code",
   "execution_count": 76,
   "metadata": {},
   "outputs": [
    {
     "data": {
      "text/html": [
       "<table class=\"simpletable\">\n",
       "<caption>Statespace Model Results</caption>\n",
       "<tr>\n",
       "  <th>Dep. Variable:</th>               <td>CO2 ppm</td>            <th>  No. Observations:  </th>   <td>2274</td>   \n",
       "</tr>\n",
       "<tr>\n",
       "  <th>Model:</th>           <td>SARIMAX(1, 1, 1)x(1, 1, 1, 12)</td> <th>  Log Likelihood     </th> <td>-6236.622</td>\n",
       "</tr>\n",
       "<tr>\n",
       "  <th>Date:</th>                   <td>Wed, 13 Jun 2018</td>        <th>  AIC                </th> <td>12483.244</td>\n",
       "</tr>\n",
       "<tr>\n",
       "  <th>Time:</th>                       <td>20:19:16</td>            <th>  BIC                </th> <td>12511.890</td>\n",
       "</tr>\n",
       "<tr>\n",
       "  <th>Sample:</th>                    <td>01-06-2011</td>           <th>  HQIC               </th> <td>12493.694</td>\n",
       "</tr>\n",
       "<tr>\n",
       "  <th></th>                          <td>- 03-28-2017</td>          <th>                     </th>     <td> </td>    \n",
       "</tr>\n",
       "<tr>\n",
       "  <th>Covariance Type:</th>               <td>opg</td>              <th>                     </th>     <td> </td>    \n",
       "</tr>\n",
       "</table>\n",
       "<table class=\"simpletable\">\n",
       "<tr>\n",
       "      <td></td>        <th>coef</th>     <th>std err</th>      <th>z</th>      <th>P>|z|</th>  <th>[0.025</th>    <th>0.975]</th>  \n",
       "</tr>\n",
       "<tr>\n",
       "  <th>ar.L1</th>    <td>   -0.2414</td> <td>    0.014</td> <td>  -16.955</td> <td> 0.000</td> <td>   -0.269</td> <td>   -0.213</td>\n",
       "</tr>\n",
       "<tr>\n",
       "  <th>ma.L1</th>    <td>    0.7712</td> <td>    0.010</td> <td>   78.776</td> <td> 0.000</td> <td>    0.752</td> <td>    0.790</td>\n",
       "</tr>\n",
       "<tr>\n",
       "  <th>ar.S.L12</th> <td>    0.0028</td> <td>    0.000</td> <td>    7.082</td> <td> 0.000</td> <td>    0.002</td> <td>    0.004</td>\n",
       "</tr>\n",
       "<tr>\n",
       "  <th>ma.S.L12</th> <td>   -0.9842</td> <td>    0.006</td> <td> -176.513</td> <td> 0.000</td> <td>   -0.995</td> <td>   -0.973</td>\n",
       "</tr>\n",
       "<tr>\n",
       "  <th>sigma2</th>   <td>   14.8467</td> <td>    0.148</td> <td>  100.512</td> <td> 0.000</td> <td>   14.557</td> <td>   15.136</td>\n",
       "</tr>\n",
       "</table>\n",
       "<table class=\"simpletable\">\n",
       "<tr>\n",
       "  <th>Ljung-Box (Q):</th>          <td>291.94</td> <th>  Jarque-Bera (JB):  </th> <td>36592.62</td>\n",
       "</tr>\n",
       "<tr>\n",
       "  <th>Prob(Q):</th>                 <td>0.00</td>  <th>  Prob(JB):          </th>   <td>0.00</td>  \n",
       "</tr>\n",
       "<tr>\n",
       "  <th>Heteroskedasticity (H):</th>  <td>0.89</td>  <th>  Skew:              </th>   <td>-0.72</td> \n",
       "</tr>\n",
       "<tr>\n",
       "  <th>Prob(H) (two-sided):</th>     <td>0.10</td>  <th>  Kurtosis:          </th>   <td>22.72</td> \n",
       "</tr>\n",
       "</table>"
      ],
      "text/plain": [
       "<class 'statsmodels.iolib.summary.Summary'>\n",
       "\"\"\"\n",
       "                                 Statespace Model Results                                 \n",
       "==========================================================================================\n",
       "Dep. Variable:                            CO2 ppm   No. Observations:                 2274\n",
       "Model:             SARIMAX(1, 1, 1)x(1, 1, 1, 12)   Log Likelihood               -6236.622\n",
       "Date:                            Wed, 13 Jun 2018   AIC                          12483.244\n",
       "Time:                                    20:19:16   BIC                          12511.890\n",
       "Sample:                                01-06-2011   HQIC                         12493.694\n",
       "                                     - 03-28-2017                                         \n",
       "Covariance Type:                              opg                                         \n",
       "==============================================================================\n",
       "                 coef    std err          z      P>|z|      [0.025      0.975]\n",
       "------------------------------------------------------------------------------\n",
       "ar.L1         -0.2414      0.014    -16.955      0.000      -0.269      -0.213\n",
       "ma.L1          0.7712      0.010     78.776      0.000       0.752       0.790\n",
       "ar.S.L12       0.0028      0.000      7.082      0.000       0.002       0.004\n",
       "ma.S.L12      -0.9842      0.006   -176.513      0.000      -0.995      -0.973\n",
       "sigma2        14.8467      0.148    100.512      0.000      14.557      15.136\n",
       "===================================================================================\n",
       "Ljung-Box (Q):                      291.94   Jarque-Bera (JB):             36592.62\n",
       "Prob(Q):                              0.00   Prob(JB):                         0.00\n",
       "Heteroskedasticity (H):               0.89   Skew:                            -0.72\n",
       "Prob(H) (two-sided):                  0.10   Kurtosis:                        22.72\n",
       "===================================================================================\n",
       "\n",
       "Warnings:\n",
       "[1] Covariance matrix calculated using the outer product of gradients (complex-step).\n",
       "\"\"\""
      ]
     },
     "execution_count": 76,
     "metadata": {},
     "output_type": "execute_result"
    }
   ],
   "source": [
    "# build model\n",
    "co2sar = sm.tsa.statespace.SARIMAX(co2, order=(1, 1, 1),\n",
    "                                seasonal_order=(1, 1, 1, 12),\n",
    "                                enforce_stationarity=False,\n",
    "                                enforce_invertibility=False).fit()\n",
    "co2sar.summary()"
   ]
  },
  {
   "cell_type": "code",
   "execution_count": null,
   "metadata": {},
   "outputs": [],
   "source": [
    "# create predictions and confidence intervals\n",
    "pred = co2sar.get_prediction(start=pd.to_datetime('1998-01-01'), dynamic=False) # we use as many true values as possible to predict\n",
    "pred_ci = pred.conf_int()"
   ]
  },
  {
   "cell_type": "code",
   "execution_count": null,
   "metadata": {},
   "outputs": [],
   "source": [
    "# plot predictions\n",
    "ax = co2['1993':].plot(label='Observed CO2 Levels')\n",
    "pred.predicted_mean.plot(ax=ax, label='Forecast', alpha=.8) # this is using all available info\n",
    "\n",
    "ax.fill_between(pred_ci.index, pred_ci.iloc[:, 0], pred_ci.iloc[:, 1], color='k', alpha=.1)\n",
    "\n",
    "ax.set_xlabel('Year')\n",
    "ax.set_ylabel('CO2')\n",
    "plt.legend()\n",
    "\n",
    "plt.show();"
   ]
  },
  {
   "cell_type": "code",
   "execution_count": null,
   "metadata": {},
   "outputs": [],
   "source": [
    "# compute mean square error\n",
    "fcast = pred.predicted_mean\n",
    "true = co2['1998-01-01':]\n",
    "\n",
    "mse = ((fcast - true) ** 2).mean()\n",
    "print('MSE of our forecasts is {}'.format(round(mse, 3)))"
   ]
  },
  {
   "cell_type": "code",
   "execution_count": null,
   "metadata": {},
   "outputs": [],
   "source": [
    "# dynamic forecast\n",
    "fcast = co2sar.get_prediction(start=pd.to_datetime('1998-01-01'), dynamic=True, full_results=True)\n",
    "fcast_ci = fcast.conf_int()\n",
    "\n",
    "# caution: this is modeling assumptions on top of assumptions"
   ]
  }
 ],
 "metadata": {
  "kernelspec": {
   "display_name": "Python 3",
   "language": "python",
   "name": "python3"
  },
  "language_info": {
   "codemirror_mode": {
    "name": "ipython",
    "version": 3
   },
   "file_extension": ".py",
   "mimetype": "text/x-python",
   "name": "python",
   "nbconvert_exporter": "python",
   "pygments_lexer": "ipython3",
   "version": "3.6.4"
  }
 },
 "nbformat": 4,
 "nbformat_minor": 2
}
