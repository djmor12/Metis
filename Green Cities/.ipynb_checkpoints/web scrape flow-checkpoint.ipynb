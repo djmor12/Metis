{
 "cells": [
  {
   "cell_type": "code",
   "execution_count": 92,
   "metadata": {
    "ExecuteTime": {
     "end_time": "2018-06-06T22:05:56.100724Z",
     "start_time": "2018-06-06T22:05:56.098021Z"
    }
   },
   "outputs": [],
   "source": [
    "from bs4 import BeautifulSoup as soup\n",
    "import requests as rq\n",
    "import time"
   ]
  },
  {
   "cell_type": "code",
   "execution_count": 133,
   "metadata": {
    "ExecuteTime": {
     "end_time": "2018-06-07T01:05:11.275384Z",
     "start_time": "2018-06-07T01:05:11.270380Z"
    }
   },
   "outputs": [],
   "source": [
    "#Proxies need to be changed each run until data is collected!\n",
    "\"\"\"proxies = {\n",
    "    \"http\": 'http://71.13.112.152:3128', \n",
    "    \"https\": 'http://71.13.112.152:3128'\n",
    "}\"\"\"\n",
    "prox2 = {\n",
    "    \"http\": 'http://54.39.40.100:3128', \n",
    "    \"https\": 'http://54.39.40.100:3128'\n",
    "}\n",
    "prox3 = {\n",
    "    \"http\": 'http://192.81.213.68:8080', \n",
    "    \"https\": 'http://192.81.213.68:8080'\n",
    "}\n",
    "prox4 = {\n",
    "    \"http\": 'http://174.138.57.86:80', \n",
    "    \"https\": 'http://174.138.57.86:80'\n",
    "}"
   ]
  },
  {
   "cell_type": "code",
   "execution_count": 101,
   "metadata": {
    "ExecuteTime": {
     "end_time": "2018-06-06T22:18:46.078366Z",
     "start_time": "2018-06-06T22:18:46.073889Z"
    }
   },
   "outputs": [],
   "source": [
    "land = 'http://www.loopnet.com/california/san-francisco_land-for-sale/'\n",
    "apts = 'http://www.loopnet.com/california/san-francisco_apartment-buildings-for-sale/'\n",
    "apts2 = 'http://www.loopnet.com/california/san-francisco_apartment-buildings-for-sale/2'\n",
    "apts3 = 'http://www.loopnet.com/california/san-francisco_apartment-buildings-for-sale/3'\n",
    "apts4 = 'http://www.loopnet.com/california/san-francisco_apartment-buildings-for-sale/4'\n",
    "pulllist = [land, apts, apts2, apts4, apts3]\n",
    "base = 'http://www.loopnet.com'"
   ]
  },
  {
   "cell_type": "code",
   "execution_count": 3,
   "metadata": {
    "ExecuteTime": {
     "end_time": "2018-06-06T21:05:16.562039Z",
     "start_time": "2018-06-06T21:05:16.104306Z"
    }
   },
   "outputs": [],
   "source": [
    "response = rq.get(land)\n",
    "page = response.text\n",
    "reviewp = soup(page,\"lxml\")"
   ]
  },
  {
   "cell_type": "code",
   "execution_count": 11,
   "metadata": {
    "ExecuteTime": {
     "end_time": "2018-06-06T21:17:06.223134Z",
     "start_time": "2018-06-06T21:17:05.741718Z"
    }
   },
   "outputs": [],
   "source": [
    "response = rq.get(land)\n",
    "page = response.text\n",
    "reviewp = soup(page,\"lxml\")\n"
   ]
  },
  {
   "cell_type": "code",
   "execution_count": 24,
   "metadata": {
    "ExecuteTime": {
     "end_time": "2018-06-06T21:28:07.694612Z",
     "start_time": "2018-06-06T21:28:07.679068Z"
    },
    "scrolled": true
   },
   "outputs": [],
   "source": [
    "ldesc = reviewp.find_all(class_='listingDescription')"
   ]
  },
  {
   "cell_type": "code",
   "execution_count": 29,
   "metadata": {
    "ExecuteTime": {
     "end_time": "2018-06-06T21:30:49.709700Z",
     "start_time": "2018-06-06T21:30:49.704528Z"
    }
   },
   "outputs": [
    {
     "data": {
      "text/plain": [
       "<div class=\"listingDescription\"><a href=\"/Listing/1228-Folsom-St-San-Francisco-CA/11384175/\"><span class=\"listingTitle\">1228 Folsom Street</span></a><br/><b>San Francisco,  California</b><br/><span class=\"propertyDescription\">Coldwell Banker Real Estate is pleased to present this opportunity to acquire the property at 1228 Folsom Street, San Francisco, and the...</span></div>"
      ]
     },
     "execution_count": 29,
     "metadata": {},
     "output_type": "execute_result"
    }
   ],
   "source": [
    "ldesc[1]"
   ]
  },
  {
   "cell_type": "code",
   "execution_count": 32,
   "metadata": {
    "ExecuteTime": {
     "end_time": "2018-06-06T21:32:34.497463Z",
     "start_time": "2018-06-06T21:32:34.493512Z"
    }
   },
   "outputs": [
    {
     "data": {
      "text/plain": [
       "'/Listing/1228-Folsom-St-San-Francisco-CA/11384175/'"
      ]
     },
     "execution_count": 32,
     "metadata": {},
     "output_type": "execute_result"
    }
   ],
   "source": [
    "ldesc[1].find_all('a')[0].attrs['href']"
   ]
  },
  {
   "cell_type": "code",
   "execution_count": 102,
   "metadata": {
    "ExecuteTime": {
     "end_time": "2018-06-06T22:18:55.848848Z",
     "start_time": "2018-06-06T22:18:49.311398Z"
    }
   },
   "outputs": [],
   "source": [
    "webpages = []\n",
    "for i in pulllist:\n",
    "    response = rq.get(i)\n",
    "    page = response.text\n",
    "    reviewp = soup(page,\"lxml\")\n",
    "    ldesc = reviewp.find_all(class_='listingDescription')\n",
    "    time.sleep(0.5)\n",
    "    for k in ldesc:\n",
    "        j = k.find_all('a')[0]\n",
    "        webpages.append(base+j.attrs['href'])"
   ]
  },
  {
   "cell_type": "code",
   "execution_count": null,
   "metadata": {},
   "outputs": [],
   "source": [
    "#removing an entry for multiple sites\n",
    "del webpages[8]"
   ]
  },
  {
   "cell_type": "code",
   "execution_count": 134,
   "metadata": {
    "ExecuteTime": {
     "end_time": "2018-06-07T01:05:19.444749Z",
     "start_time": "2018-06-07T01:05:19.317743Z"
    }
   },
   "outputs": [
    {
     "name": "stdout",
     "output_type": "stream",
     "text": [
      "http://www.loopnet.com/Listing/475-Minna-St-San-Francisco-CA/12576988/\n"
     ]
    },
    {
     "ename": "IndexError",
     "evalue": "list index out of range",
     "output_type": "error",
     "traceback": [
      "\u001b[0;31m---------------------------------------------------------------------------\u001b[0m",
      "\u001b[0;31mIndexError\u001b[0m                                Traceback (most recent call last)",
      "\u001b[0;32m<ipython-input-134-f811f9033074>\u001b[0m in \u001b[0;36m<module>\u001b[0;34m()\u001b[0m\n\u001b[1;32m      8\u001b[0m     \u001b[0mpage2\u001b[0m \u001b[0;34m=\u001b[0m \u001b[0mresponse2\u001b[0m\u001b[0;34m.\u001b[0m\u001b[0mtext\u001b[0m\u001b[0;34m\u001b[0m\u001b[0m\n\u001b[1;32m      9\u001b[0m     \u001b[0mreviewp2\u001b[0m \u001b[0;34m=\u001b[0m \u001b[0msoup\u001b[0m\u001b[0;34m(\u001b[0m\u001b[0mpage2\u001b[0m\u001b[0;34m,\u001b[0m\u001b[0;34m\"lxml\"\u001b[0m\u001b[0;34m)\u001b[0m\u001b[0;34m\u001b[0m\u001b[0m\n\u001b[0;32m---> 10\u001b[0;31m     \u001b[0mlat\u001b[0m \u001b[0;34m=\u001b[0m \u001b[0mfloat\u001b[0m\u001b[0;34m(\u001b[0m\u001b[0mstr\u001b[0m\u001b[0;34m(\u001b[0m\u001b[0mreviewp2\u001b[0m\u001b[0;34m.\u001b[0m\u001b[0mfind_all\u001b[0m\u001b[0;34m(\u001b[0m\u001b[0mclass_\u001b[0m\u001b[0;34m=\u001b[0m\u001b[0;34m'map static'\u001b[0m\u001b[0;34m)\u001b[0m\u001b[0;34m)\u001b[0m\u001b[0;34m.\u001b[0m\u001b[0msplit\u001b[0m\u001b[0;34m(\u001b[0m\u001b[0;34m'\\\"'\u001b[0m\u001b[0;34m)\u001b[0m\u001b[0;34m[\u001b[0m\u001b[0;34m-\u001b[0m\u001b[0;36m8\u001b[0m\u001b[0;34m:\u001b[0m\u001b[0;34m-\u001b[0m\u001b[0;36m7\u001b[0m\u001b[0;34m]\u001b[0m\u001b[0;34m[\u001b[0m\u001b[0;36m0\u001b[0m\u001b[0;34m]\u001b[0m\u001b[0;34m)\u001b[0m\u001b[0;34m\u001b[0m\u001b[0m\n\u001b[0m\u001b[1;32m     11\u001b[0m     \u001b[0mlong\u001b[0m \u001b[0;34m=\u001b[0m \u001b[0mfloat\u001b[0m\u001b[0;34m(\u001b[0m\u001b[0mstr\u001b[0m\u001b[0;34m(\u001b[0m\u001b[0mreviewp2\u001b[0m\u001b[0;34m.\u001b[0m\u001b[0mfind_all\u001b[0m\u001b[0;34m(\u001b[0m\u001b[0mclass_\u001b[0m\u001b[0;34m=\u001b[0m\u001b[0;34m'map static'\u001b[0m\u001b[0;34m)\u001b[0m\u001b[0;34m)\u001b[0m\u001b[0;34m.\u001b[0m\u001b[0msplit\u001b[0m\u001b[0;34m(\u001b[0m\u001b[0;34m'\\\"'\u001b[0m\u001b[0;34m)\u001b[0m\u001b[0;34m[\u001b[0m\u001b[0;34m-\u001b[0m\u001b[0;36m6\u001b[0m\u001b[0;34m:\u001b[0m\u001b[0;34m-\u001b[0m\u001b[0;36m5\u001b[0m\u001b[0;34m]\u001b[0m\u001b[0;34m[\u001b[0m\u001b[0;36m0\u001b[0m\u001b[0;34m]\u001b[0m\u001b[0;34m)\u001b[0m\u001b[0;34m\u001b[0m\u001b[0m\n\u001b[1;32m     12\u001b[0m     \u001b[0mproperdict\u001b[0m\u001b[0;34m[\u001b[0m\u001b[0;34m'latlong'\u001b[0m\u001b[0;34m]\u001b[0m \u001b[0;34m=\u001b[0m \u001b[0;34m(\u001b[0m\u001b[0mlat\u001b[0m\u001b[0;34m,\u001b[0m\u001b[0mlong\u001b[0m\u001b[0;34m)\u001b[0m\u001b[0;34m\u001b[0m\u001b[0m\n",
      "\u001b[0;31mIndexError\u001b[0m: list index out of range"
     ]
    }
   ],
   "source": [
    "listd=[]\n",
    "proxy=prox3\n",
    "count=0\n",
    "for i in webpages:\n",
    "    print(i)\n",
    "    properdict = {}\n",
    "    response2 = rq.get(i)\n",
    "    page2 = response2.text\n",
    "    reviewp2 = soup(page2,\"lxml\")\n",
    "    lat = float(str(reviewp2.find_all(class_='map static')).split('\\\"')[-8:-7][0])\n",
    "    long = float(str(reviewp2.find_all(class_='map static')).split('\\\"')[-6:-5][0])\n",
    "    properdict['latlong'] = (lat,long)\n",
    "    q = reviewp2.find_all(class_='column-08')[0].text.replace('\\n', '').split('\\r')\n",
    "    for i in range(len(q)):\n",
    "        q[i]= q[i].strip()\n",
    "    properdict['location'] = q[4]+ ' ' +q[5]\n",
    "    properdict['price'] = q[24]\n",
    "    properdict['ptype'] = q[29]\n",
    "    properdict['subtype'] = q[34]\n",
    "    properdict['zone'] = q[36]\n",
    "    listd.append(properdict)\n",
    "    time.sleep(60)\n",
    "    count+=1\n",
    "    "
   ]
  },
  {
   "cell_type": "code",
   "execution_count": 135,
   "metadata": {
    "ExecuteTime": {
     "end_time": "2018-06-07T01:05:20.880968Z",
     "start_time": "2018-06-07T01:05:20.877517Z"
    }
   },
   "outputs": [
    {
     "data": {
      "text/plain": [
       "{}"
      ]
     },
     "execution_count": 135,
     "metadata": {},
     "output_type": "execute_result"
    }
   ],
   "source": [
    "properdict"
   ]
  },
  {
   "cell_type": "code",
   "execution_count": 137,
   "metadata": {
    "ExecuteTime": {
     "end_time": "2018-06-07T01:05:40.186472Z",
     "start_time": "2018-06-07T01:05:40.183033Z"
    }
   },
   "outputs": [
    {
     "data": {
      "text/plain": [
       "[]"
      ]
     },
     "execution_count": 137,
     "metadata": {},
     "output_type": "execute_result"
    }
   ],
   "source": [
    "listd"
   ]
  },
  {
   "cell_type": "code",
   "execution_count": 118,
   "metadata": {
    "ExecuteTime": {
     "end_time": "2018-06-07T00:24:45.774408Z",
     "start_time": "2018-06-07T00:24:45.764824Z"
    }
   },
   "outputs": [
    {
     "data": {
      "text/plain": [
       "<!DOCTYPE html>\n",
       "<html>\n",
       "<head>\n",
       "<meta charset=\"utf-8\"/>\n",
       "<meta content=\"width=device-width, initial-scale=1.0\" name=\"viewport\"/>\n",
       "<title>500 Page Error</title>\n",
       "<style>\n",
       "        @font-face {\n",
       "            font-family: 'CostarBrownLight';\n",
       "            src: url('/Content/fonts/CoStarBrown/lineto-costar-brown-light.eot');\n",
       "            src: url('/Content/fonts/CoStarBrown/lineto-costar-brown-light.eot?#iefix') format('embedded-opentype'), url('/Content/fonts/CoStarBrown/lineto-costar-brown-light.woff') format('woff'), url('/Content/fonts/CoStarBrown/lineto-costar-brown-light.ttf') format('truetype'), url('/Content/fonts/CoStarBrown/lineto-costar-brown-light.svg#CostarBrownLight') format('svg');\n",
       "            font-weight: normal;\n",
       "            font-style: normal;\n",
       "        }\n",
       "\n",
       "        *, *:before, *:after {\n",
       "            -moz-box-sizing: border-box;\n",
       "            -webkit-box-sizing: border-box;\n",
       "            box-sizing: border-box;\n",
       "            margin: 0;\n",
       "            padding: 0;\n",
       "        }\n",
       "\n",
       "        html {\n",
       "            font-family: 'CostarBrownLight', sans-serif;\n",
       "            background-color: #FFF;\n",
       "        }\n",
       "\n",
       "        body {\n",
       "            min-width: 0;\n",
       "            overflow-x: hidden;\n",
       "        }\n",
       "\n",
       "        @media (max-width: 600px)\n",
       "        {\n",
       "            body {\n",
       "                font-size: 12px;\n",
       "            }\n",
       "\n",
       "            main{\n",
       "                margin: 0;\n",
       "                top: 0;\n",
       "                left: 0;\n",
       "                width: 100%;\n",
       "                text-align: center;\n",
       "                padding: 1em;\n",
       "            }\n",
       "        }\n",
       "\n",
       "\n",
       "        .button {\n",
       "  font-size: 1rem;\n",
       "  line-height: 1.2rem;\n",
       "  padding: 0.435rem 1rem;\n",
       "  display: inline-block;\n",
       "  text-decoration: none;\n",
       "  font-weight: 100;\n",
       "  text-align: center;\n",
       "  border: 1px solid transparent;\n",
       "  -webkit-transition: all 0.13s ease-in-out;\n",
       "  -moz-transition: all 0.13s ease-in-out;\n",
       "  -o-transition: all 0.13s ease-in-out;\n",
       "  transition: all 0.13s ease-in-out;\n",
       "  /* color */\n",
       "  /* color any icons the color of the text */ }\n",
       "  .button.arrow-prev:before {\n",
       "    font-family: icon-font-loopnet;\n",
       "    font-size: 0.75rem;\n",
       "    position: relative;\n",
       "    right: 0.5rem; }\n",
       "  .button.arrow-down:after, .button.arrow-up:after, .button.arrow-next:after {\n",
       "    font-family: icon-font-loopnet;\n",
       "    font-size: 0.75rem;\n",
       "    position: relative;\n",
       "    right: -0.5rem; }\n",
       "  .button:focus {\n",
       "    outline: 0;\n",
       "    box-shadow: 0 0 8px #0888ba; }\n",
       "  .button.disabled, .button[disabled], fieldset[disabled] .button {\n",
       "    cursor: not-allowed;\n",
       "    pointer-events: none;\n",
       "    opacity: 0.4;\n",
       "    filter: alpha(opacity=40); }\n",
       "  .button.primary {\n",
       "    background-color: #cf0000;\n",
       "    color: #fff; }\n",
       "    .button.primary:hover, .button.primary.hover {\n",
       "      background-color: #961e00; }\n",
       "    .button.primary:active, .button.primary.active {\n",
       "      background-color: #721700; }\n",
       "    .button.primary.punchout {\n",
       "      border: 1px solid #cf0000;\n",
       "      color: #cf0000;\n",
       "      background-color: transparent; }\n",
       "      .button.primary.punchout:hover, .button.primary.punchout.hover {\n",
       "        border-color: #961e00; }\n",
       "      .button.primary.punchout:active, .button.primary.punchout.active {\n",
       "        border-color: #721700; }\n",
       "    .button.primary.punchout.inverted {\n",
       "      border: 1px solid #cccccc;\n",
       "      color: #fff;\n",
       "      background-color: transparent; }\n",
       "      .button.primary.punchout.inverted:hover, .button.primary.punchout.inverted.hover {\n",
       "        border-color: #fff; }\n",
       "    .button.primary.punchout.inverted.masked {\n",
       "      background-color: rgba(74, 76, 79, 0.6);\n",
       "      -webkit-transition: background-color 0.15s ease-in-out;\n",
       "      -moz-transition: background-color 0.15s ease-in-out;\n",
       "      -ms-transition: background-color 0.15s ease-in-out;\n",
       "      -o-transition: background-color 0.15s ease-in-out;\n",
       "      transition: background-color 0.15s ease-in-out; }\n",
       "      .button.primary.punchout.inverted.masked:hover, .button.primary.punchout.inverted.masked.hover {\n",
       "        background-color: rgba(74, 76, 79, 0.75);\n",
       "        border-color: #fff; }\n",
       "  .button.primary:before {\n",
       "    color: #fff; }\n",
       "  .button.inverted {\n",
       "    background-color: #63666a;\n",
       "    color: #fff;\n",
       "    border: 1px solid rgba(255, 255, 255, 0.7); }\n",
       "    .button.inverted:hover, .button.inverted:active {\n",
       "      border-color: #fff; }\n",
       "    .button.inverted:focus {\n",
       "      box-shadow: 0 0 8px #fff; }\n",
       "    .button.inverted.disabled {\n",
       "      border-color: #fff; }\n",
       "  .button.large {\n",
       "    font-size: 1.875rem;\n",
       "    line-height: 2.25rem;\n",
       "    padding: 0.81563rem 1.875rem; }\n",
       "    .button.large.arrow-prev:before {\n",
       "      font-family: icon-font-loopnet;\n",
       "      font-size: 1.40625rem;\n",
       "      position: relative;\n",
       "      right: 0.9375rem; }\n",
       "    .button.large.arrow-down:after, .button.large.arrow-up:after, .button.large.arrow-next:after {\n",
       "      font-family: icon-font-loopnet;\n",
       "      font-size: 1.40625rem;\n",
       "      position: relative;\n",
       "      right: -0.9375rem; }\n",
       "  .button.medium {\n",
       "    font-size: 1.375rem;\n",
       "    line-height: 1.65rem;\n",
       "    padding: 0.59813rem 1.375rem; }\n",
       "    .button.medium.arrow-prev:before {\n",
       "      font-family: icon-font-loopnet;\n",
       "      font-size: 1.03125rem;\n",
       "      position: relative;\n",
       "      right: 0.6875rem; }\n",
       "    .button.medium.arrow-down:after, .button.medium.arrow-up:after, .button.medium.arrow-next:after {\n",
       "      font-family: icon-font-loopnet;\n",
       "      font-size: 1.03125rem;\n",
       "      position: relative;\n",
       "      right: -0.6875rem; }\n",
       "  .button.text {\n",
       "    color: #0888ba;\n",
       "    border: 0 none;\n",
       "    background-color: transparent;\n",
       "    box-shadow: none; }\n",
       "    .button.text.inverted {\n",
       "      border: 0 none;\n",
       "      color: #fff; }\n",
       "      .button.text.inverted:focus {\n",
       "        box-shadow: none; }\n",
       "  .button.fluid {\n",
       "    display: block;\n",
       "    text-align: center;\n",
       "    width: 100%; }\n",
       "  .button.transparent {\n",
       "    background-color: transparent; }\n",
       "\n",
       "\n",
       "        \n",
       "\n",
       "        .main-image {\n",
       "            position: relative;\n",
       "            max-width: 540px;\n",
       "            height: 350px;\n",
       "        }\n",
       "\n",
       "        .main-image img {\n",
       "            width: 100%;\n",
       "        }\n",
       "\n",
       "        .main-content {\n",
       "            max-width: 560px;\n",
       "            margin: 36px auto;\n",
       "            text-align: center;\n",
       "        }\n",
       "        h1, h2 {\n",
       "          color: #63666a;\n",
       "          font-weight: 100;\n",
       "        }\n",
       "        h1 {\n",
       "            font-size: 36px;\n",
       "            margin-bottom: 10px;\n",
       "        }\n",
       "        h2 {\n",
       "            font-size: 22px;\n",
       "            margin-bottom: 24px;\n",
       "            padding-bottom: 20px;\n",
       "            border-bottom: 1px solid #DDD;\n",
       "        }\n",
       "        p {\n",
       "            margin-bottom: 24px;\n",
       "        }\n",
       "        a {\n",
       "            text-decoration: none;\n",
       "            color: #0888BA;\n",
       "        }\n",
       "        .debug h2 {\n",
       "            border-top: 1px solid #ddd;\n",
       "            padding-top: 24px;\n",
       "            color: #000;\n",
       "        }\n",
       "        .debug{\n",
       "            text-align: left;\n",
       "            width: 100%;\n",
       "            -ms-word-wrap: break-word;\n",
       "            word-wrap: break-word;\n",
       "        }\n",
       "\n",
       "        .message {\n",
       "            margin: 0 0 24px 0;\n",
       "            font-size: 20px;\n",
       "        } \n",
       "        .main-content footer {\n",
       "            margin-top: 32px;\n",
       "        }\n",
       "        .main-content .button {\n",
       "            padding: 0.7rem 1.875rem 0.8rem 1.875rem;\n",
       "        }\n",
       "        @keyframes flickerAnimation { \n",
       "          0%   { opacity:1; }\n",
       "          50%  { opacity:.3; }\n",
       "          100% { opacity:1; }\n",
       "        }\n",
       "        @-o-keyframes flickerAnimation{\n",
       "          0%   { opacity:1; }\n",
       "          50%  { opacity:.3; }\n",
       "          100% { opacity:1; }\n",
       "        }\n",
       "        @-moz-keyframes flickerAnimation{\n",
       "          0%   { opacity:1; }\n",
       "          50%  {opacity:.3; }\n",
       "          100% { opacity:1; }\n",
       "        }\n",
       "        @-webkit-keyframes flickerAnimation{\n",
       "          0%   { opacity:1; }\n",
       "          50%  { opacity:.3; }\n",
       "          100% { opacity:1; }\n",
       "        }\n",
       "\n",
       "\n",
       "    @media (max-width: 500px) {\n",
       "\n",
       "            .main-content {\n",
       "                padding: 0 5px;\n",
       "            }\n",
       "\n",
       "            .main-image {\n",
       "                height: 250px;\n",
       "            }\n",
       "\n",
       "\n",
       "\n",
       "            h1 {\n",
       "                font-size: 22px;\n",
       "\n",
       "            }\n",
       "            h2 {\n",
       "                font-size: 18px;\n",
       "            }\n",
       "        }\n",
       "\n",
       "     @media (max-width: 320px) {\n",
       "\n",
       "            .main-content {\n",
       "                padding: 0 5px;\n",
       "            }\n",
       "\n",
       "            .main-image {\n",
       "                height: 221px;\n",
       "            }\n",
       "\n",
       "\n",
       "\n",
       "            h1 {\n",
       "                font-size: 22px;\n",
       "\n",
       "            }\n",
       "            h2 {\n",
       "                font-size: 18px;\n",
       "            }\n",
       "        }\n",
       "\n",
       "    </style>\n",
       "</head>\n",
       "<body>\n",
       "<main class=\"main-content\">\n",
       "<section class=\"wrap\">\n",
       "<figure class=\"main-image\">\n",
       "<img alt=\"\" class=\"plug\" src=\"data:image/png;base64,iVBORw0KGgoAAAANSUhEUgAAAh8AAAFPCAYAAADtO6y7AAAABGdBTUEAALGPC/xhBQAAQABJREFUeAHtnQfcHkW1/8+bN72SEMAQQgsBQgtKEzF0hNBUEIF75QpYUa9ey1UEgpEmNlRQr91ruX7EAiJdmqLgXwFB6Uio0ksChJD+/M/Jk8Mz776z+8zus2Vm9zcfXnZ35szMme9snj07c2aWCAEEQAAEmkbgpFYrVZPTyqcqHMIg0DwCQ5rXZLQYBEAABEAABECgSgIwPqqkj7pBAARAAARAoIEEYHw0sNPRZBAAARAAARCokgCMjyrpo24QAAEQAAEQaCABGB8N7HQ0GQRAAARAAASqJADjo0r6qBsEQAAEQAAEGkgAxkcDOx1NBgEQAAEQAIEqCcD4qJI+6gYBEAABEACBBhKA8dHATkeTQQAEQAAEQKBKAjA+qqSPukEABEAABECggQRgfDSw09FkEAABEAABEKiSAIyPKumjbhAAARAAARBoIAEYHw3sdDQZBEAABEAABKokAOOjSvqoGwRAAARAAAQaSKCvgW1Gk0EABJpO4KRW61UEZ/V1/x1MK/9q4TgBARCwEcDIh40K4kAABGpP4Pm56ZqYVj5d6ZAGgWYRgPHRrP5Ga0EABEAABECgcgIwPirvAigAAiAAAiAAAs0iAOOjWf2N1oIACIAACIBA5QRgfFTeBVAABEAABEAABJpFAMZHs/obrQUBEAABEACBygnA+Ki8C6AACIAACIAACDSLAIyPZvU3WgsCIAACIAAClROA8VF5F0ABEAABEAABEGgWARgfzepvtBYEQAAEQAAEKicA46PyLoACIAACIAACINAsAjA+mtXfaC0IgAAIgAAIVE4AxkflXQAFQAAEQAAEQKBZBGB8NKu/0VoQAAEQAAEQqJwAjI/KuwAKgAAIgAAIgECzCMD4aFZ/o7UgAAIgAAIgUDkBGB+VdwEUAAEQAAEQAIFmEYDx0az+RmtBAARAAARAoHICMD4q7wIoAAIgAAIgAALNIgDjo1n9jdaCAAiAAAiAQOUEYHxU3gVQAARAAARAAASaRQDGR7P6G60FARAAARAAgcoJwPiovAugAAiAAAiAAAg0i0Bfs5qL1oIACNSWwEmtlndtO6sPv7HedQoU8oHAUB+UgA4gAAIgkAeB5+fmUUo+ZUw6PZ9yUAoI1JEApl3q2KtoEwiAAAiAAAh4TAAjHx53DlQDARBIT+D8fwzMc+R27esy47XOgZrgCgRAQAlg5ENJ4AgCIAACIAACIFAKARgfpWBGJSAAAiAAAiAAAkoAxoeSwBEEQAAEQAAEQKAUAvD5KAUzKgEBjwnMa00aupIeXLGSxheqJZadFooXhYNASARgfITUW9AVBAog0L+SPn/sa2n4F+YUUPiaIrHstDi2KBkEQiQA4yPEXoPOIJATgWHzWq8b0Uf/dvJeNDKnIlEMCIAACHQlAOOjKyIIgEB9CfSvom+ddSCNnBAxPcxlqbZlo7KV6O1PEj3+ItHOGxBNGk20bAXRcPyi1PdmQctAIEcC+KnIESaKAoGQCPTPbf3HxhNp5r/PolSO5y8vJ/rzw0TPLW639ur7iWZvQvTIQqIxw4m2Xo8Ie4qHdCdAVxAon0CqH53y1UONIAAChRCY1xo7rI/OOfcQGpvGUFjKoxs3PNQxPES38Txqsu5Yon4u6M6niK6dT7R4WSFao1AQAIGaEMDIR006Es0AgTQEhq6ieYdsRaN2nGrPZZtqEcl+fl1540ZEMu3y5EtETy1qj3SI4TF0zavMsy8TXf8Q0QGbSw4EEAABEBhMAMbHYCaIAYF6E5jX2nxYi044fV9iTw338NLS9qiHzKnsN4No+trtPy2hv1/P2AdkVOe87LM4w6mq+LLbj/pAIAQCMD5C6CXoCAI5Ehixir55yt40Yt0x7UJtzqW2uN8/2JlOEWfT7acMVGrGpPbox2MvEK1f7I4hAys2rky9jWicggAIeEYAxodnHQJ1QKBIAsNPbb2VjY5d3rMTGeMUbjVO5nGSR9b4coxlx9JoGDmMaOY67T+Zjqli9Uvc6EZU1zKuT7iojFpQBwiESQDGR5j9Bq1BID2Bea3hQ1bR17/GTqbqn5GmkA14NENWtKzDzqWb8ZRLNCxiw+TBBUQP89+KVURv3ioqgWsQAAEQaBOA8YE7AQQaQoC3UD9x9+k0Yc9NBjbYNlpgi5vCxofs4yH7eqxkj1NxOJUREN0j5Hf3ES1no0PCdJ6CYdeQ0gOmXUpHjgpBIBMBGB+ZsCETCARG4OTWtKF99Mkv7k9rPD3S6y+jJXtvSvTSEqIr2dCQ0Y3RbHy8aTOiEfxLIitgNGywlp6Ve7QZTeVq0KkN0y4dFjgDgSgBGB9RIrgGgRoSGN5PX/vPN9DwaRajwBwt0Ie3LU6wyCjHMPYWEcNDguznccMjRHuxUSJpYoCM4PT1eGqmqmDqnqSDtLUo2aR6kQYCIMDO6YAAAiBQbwJDT23tNWEEvem/diN2Ce09jOZSXjOuPe0ipT3DzqV/f5xoXx4BQQABEAABFwIwPlwoQQYEQiUwrzWENxT79pcPpDGjcvzXvkfEb8QnPDp646JTUbIudUMGBJpMIMefoyZjRNtBwE8CQ1bQf86aSlMO3jJeP9sD2BYXXwJSQAAEQCAdARgf6XhBGgTCITCvNXnYKjrtqwdThR4Y5eP6xzNudW7He5IUJeumAaRAoLkEYHw0t+/R8poTYMPjC8fuQCO2mNxpqOlgqaMbZcR1NMAZCIAACMDhFPcACNSSwLC5rZ1GD6UjP70HjahlAxMaJSMarqEoWdf6IQcCTSXAK/cRQAAE6kZgSB99+3P706jxjTM96taTaA8I1JMApl3q2a9oVYMJ9J/SOo63P5/B0yqDNhnVqRYTTxlxZn1Fnxflx5Gm3KLbiPJBIHQCGPkIvQehPwiYBD7fGsebgH3pXHYyHWR5mHI4BwEQAIEKCWDko0L4qBoE8iYwdBGd9pZtaNRr1x+4e6eObpThXGqrI+92JpVXlB9HmnKT9EMaCIAAEUY+cBeAQF0InNKaOXwIvfe0fWlUXZqEdoAACNSTAEY+6tmvaFUDCYzoo2/O3ZtGTB7dwMYbTU7jm1GUrKEOTkEABCwEYHxYoCAKBEIjMPzU1uH8vZUd37Uj8Wfd2kGnWvRajlXFmTrgHARqQ2Bea/iIVbQff2jxzSOH0m4rV9GUpStpQquVbVahr49W8YcZX+gfQk8sWUk38peof7N0CF1F8/r4E471CjA+6tWfaE1DCfD86XnnHUJj5bP3TQ9pfDOKkm16H9S+/fzNJP50wXuGr6Izt1iHhh6xHY3bdQMaMoU/uLgO7yfcn9HbeyUbLfyhxolPvEQT//wv2vKXt9MR9z5DK5fNbZ28alv6Lr29b2Vd2ML4qEtPoh2NJrBkBU157IWBTqYCZCX/CPbLd+5jQlnpvO8IrYrRAdEgEBSBk1vTeLTjiu2n0oafP4DGbvea/LQXo0W+GC1/7DQ+5AM704R/PEl04hX0xVvvoA8vPbm1P53Z92h+NVZXEoyP6tijZhDIlYBMqchKk/fv3C72W38l2nEDos0ndqqpKv2Eizo6FH1WlB9HmnKLbiPKr4bAsHmtndmYv5x9q8afsDOV8vwU4+ayY2ks/3uecdo19PeVc1tzlp/e95dqCORXaynw8lMXJYEACIAACIBABQR4xEMMjx8cRpMO2Hxg/ezzQZfcw0bCvUS3Pk705CKil1N6aYwZziMePGUjy+QP3IJIvkRtTqPyS8XQTSbSxON+RZcvP7k1K/QREBgfA+8hXIEACAROoCg/jjTlBo4Q6kcJsI+HTLXIiEfU8BCj49SriTacQPTWbYj+e3ci8f0Yy8ZEmrCIjRX29aAbHyH60d+ITruW//ZtGyFazv4zuK59aNxnr6Erlv6itV3IPiAwPrRXcQQBEAABEAABCwFxLhUfD3OqRVyp5l3DIx53E517CNEbN7JkTBElxsqMtdt/73wt0Q0PE33kEqKbHuN69qFXv5UgIyC/vYs2/Ovt9B4ecPlWiiq8EoXx4VV3QBkQAIFeCaTxzShKttc2IL9HBHg5raxqOXt/4kmRTuDRB7rpX0TXvJtorZGd+LzOdmNj5up3Ef3b+W0j57NsgGg4mx1dD/hfOnPJvNYPQl2GC+NDexNHEAicgG5rLo6mGm5lv3j5M0MV6VjtYvYAzkMiIPt4yHLaWVM6WstUy8U84hE1PHipLP3qdqLL7yN6ZCHRSzyVwnt+rA6r1hw7pbTPhvNTWIyXLSa3p1ikngn8NeoRa+J/diTRPt8j2mlqZwpGnFBZp/57nqb9lhJdGi0zhGsYHyH0EnQEAQcCtg3EHLKVIlLmapc0vhlFyZYCFZWUQkA2EJN9PLQycS4VHw+ZajFHPH53P9GnLm8vkz1iW6KZ63A6f+iANw5LDMtXtH09rn+IV6r9hmjnDYg+uRfR+mOI1uWxFqnja1zXhy8mEn8TdULlOsZ95ip6MxcO4yORMBJBAARAAARAIDACsnOpbCCmasuohziXmj4e3+aFr2dfT/QZnho59nUq6X7clkcy3sTOpB96PdF/sSnxnl/xroFsVixjQ2eD8e26pE6p+y1btcsVnUS3l92r8UoSIx9edQeUAYHsBHTaJXsJyAkCIBAlIFumy+oVDbKcVla1aLhuPtGZf2j7Z2zODqO9BNlc7OdH8aZiVxJ9mkdR/ucwoqd52e56PAIidUrdanyITqJbL/VVmfdVa65KJVA3CIAACIAACPhIQL7VIluma5B9PN6wYftK3Dg+xYbCXJ4miTM8xKlZ/7QMvY5zeJbVLa8sJ7qQ/UcWst/IUp6akTqlbg2ik+im16EdMfIRWo9BXxCIIQCfjxgwiAaBHgjIR+J4hIGufZAdSXnk4VH+jIGMUEi4jB1LZXOwd+/Uvs7r/zydQl88kOgTlxEdti3RC0vbdUrdH+NpmTm8Cdmem652Zg12ACFYxfPqZJQDAiAAAiAAAlYCv2it/kbc9ucRffVGouk8rbKMP+02jg0OCZfyipc3z+zswdGOzef/4lOycAnRUy/ybqk8CiJ1St2ig+gy69w19fIGaPnUWG4pGPkolzdqA4HCCMDno402big7Cl5WuhQlG60L1wESkA/I3UFXbMerT744h0g/IDf3qk5b/vUS0aFsfCQF24oqW1y0DFmevhkbGo+w8THFmFz5IDulyt/fn+DdVK8guv1Jup0/OHdAaNutB2kxRTsJ1yAAAiAAAiCQF4Fhc1u7jOynv/Pqlc2vPK5jeETLX8TTIeZy22h6r9dS9gs8+mHbI0T2A/kd68bbrW/O0zS3yUfveq2vzPwY+SiTNuoCgQIJwOejDdflrVK7oShZLR/HAAnIB+T66PIfvo0myrdU0gRzJE3vrV7iXOqWLd83WYsmHX/B6g/ObR/KCAhGPlx6FzIgAAIgAAL1J8A+HiP66Qr5eFtaw6NKOLL5mHz0TnSnQHxAMPJR5R2DukEgRwLw+WjDNN80k/DKm2lRskn1Is1fAkP4Y238SfsN5eNteWm5nJ1El/FSWVkxI1uuS3jxFXYW5Vf/4f3tKRXx7+g1yAiIfHCOP0QnH5z7dq/lFZ0fIx9FE0b5IAACIAAC/hOQD8gN4Q/I8UfbsiorBq38TeWt0f/yL6Jf30H0JBscK9j4GM4GxpPsoCp/cj6EjZIFvIHYhXfyMt757DsyjGjbNfmz1v951l3awKMfa9bjZC2p+Hy5WXfFq4oaQAAEkgjA56NNR+fak1hpWlGyWj6O4RBY/QG5dalfV7Vk0VyWxP71Ed4gjI0N+bbLbrwxmIxuJAXZqOxRNlDuerq9gmUnXl2j+4gk5bOlrfng3NB7nvH/g3MY+bD1IOJAAARAAAQaRWD1B+T4Y21ZG/3wAqIredOxjSYSvY23Qt96ve6Gh9QlMy4brtX+aNwemxDdxCMmf3uMNxDLqIh8BE/akjF7adkw8lEaalQEAsUSgM9Hm29Rfhxpyi22p1F6EQSiH5BLU4cYHnc8RXTIlkQTeHls1iAjHoex4fJ7noa56dFspYTywTkYH9n6F7lAAARAAATqQOAk3kCdw8v8DZV9vu/WoEmnd+SW8BTLbU8SHcgrTkzDQ7ZEv5xHQmQ05MHn2deD/Tvkey1DeRpm8uj2x+JeP6094iG7lo5mn49hPBchf3tv1t7KXaZuTv1d+09rNOvWOMtxK1rTLjqrTwZXvAswPrzrEigEAtkIwOejza0oP4405WbrQeSqisDzc7PVzNMbdAUbF3ts3DE8nuOVLGddR/STW9nng+NlGew7tmdjg0c1RvETd8VK3jL9ZaJ/8Xdarn2AR0t+TLTNa/ibLbOJtuepmolsmLDTKO3LBshLbMDM/wTHjcqmn6Ohkq3wHnPB+OgRILKDAAiAAAg0k4BscT51PNH6/CdBPnn/3gvbUye3fIhobTYkbGEa+3jsOJXoLVsRLT+Q6Ie3EL3rl0RHziL60K7tXVMn8vTNzjwyIj4gb0q52ZmtTt/iYHz41iPQBwQyEoDPRxtcGt+MomQzdiGyVUwg6d+QjiyaMrypF71t27bSX/9/ROf8iejnRxO9bn33hsg0y3t3InorGyLH/ILoo88RfekgNkp4Omf6JCJeuUJmnVqyTZ9oml77eORmI4AACIAACIAACKQhIJ+7nb1xe0XLBXcSnXtj+1srpuGxmH087nuWHUh5esUM180nupeNCknXsM4Yot/+B29Gxh4oMm3zMhsfzy4m2n1jov4aPqkx8qE9jyMIBE5A34R8bMYJF5WnVRrfjKJktbWzv9d2ZtRrOf4x8iAy07qee+o82FXvQARc/g2JzD94ukUcTWX6ZD47k374YqIL3tGZfpEPwd3zdHvvDjEmouFp9vmQP/4iLW25LtFW/Ce7nMqeIN87jKdZfkB0yT1EB2/JfiKjiXjXVXqMfUR256W40eCiczSPD9cwPnzoBegAAiBQSwLn8PB5NEznB1aW4LPzYJb2hJpnATuUPsBLaw/but2CU68i+sDr2WmUnUU1iGHyIMuI4SF7eMifGWZvTPTwwvZ267L9urm9+jjem/S8Q4je+au2r8dz/FXbrdk4eYCnYx7hMjfkfUTqEGB81KEX0QYQYAK2eWGAAQEQcCeQ9G9IRhhkEOOa+9urWHhfkNW7kt7wCE+5HDqwDlk2u9d0Hh3haZVJPHIRDeKgKn/b8iqXsWxsRIM4o+7Af7+4vb1SZtEyrnMjdmi9j+jPj7aldcTDprOmRcv16bqGM0k+4YUuIAACTSfwGH/LQ/+UhTi66p9LnMrgWC2Bu3kjsXXGth1BRRPx9ZDdTGUJrQT5bosGMUBshoemy9E0PJ7laZi7+b7QcMz27EPCxoYE2YNk8hiiGWu3d0Rtx4b9f4x8hN1/9ddeN8rRlmLOW0kMOvr8tlOmz8cgMIgAAUcCSf+GXuQ9N/7JUx+HzuwUdikvrT1zv/a1fLn2hod5e3WeYtlxg46My5nsF3L9g23J6TytMpyfzOLf8e4LiGSzMhrRnsKR7748wr4fu/ASXA1JOquMj0eMfPjYK9BpAIE7PspbF/MfAgiAAAhURUD22xDHzzHGNMk/eSXL1jx1IkEcT8WIWMo+HGnDUH4SyyZkyzm/lCNBlvFuykttH2U/DwmyOZnI7caGx8089SJOrSEHjHyE3HvQHQQMAra5XyO5MadF7d2RplwT9lR+qESDbZWNa1y0LFznR+Bx3gLdFh7n0QZZ7rrlOp1U8cOQ5784iEqQaRMJm05sH9P+f2POJ7ueyvJaDa/hKR5ZFSNhBVfGAyC0AY+sTOIRmDt5Nc227ORq03l9zud7gPHhew9BPxAAgWAJfOzSwar3tNR2cHGIKZiArFyRqY5DedmrGV7gVSjjR3ZiFvC1hAkZt0KXHU0lLOTVNBqkfNliXcIqHhXRsOuGRL+5i1e+TNCY8I4wPsLrM2gMAlYCPs/9lunzYRtBsALjyKJktT4stVUSfh7XPqc19TmeOkkK89kJdDueWhkvww4JwfQFSRCLTRrNIyiu/4ZHsTPr63g1zM2PEc00lvjaCt//F63Nrnx73/22tCrj4PNRJX3UDQIgAAIgUAmBHb7dGjZhFd2ZVPlTa1avyPSGb2GLye39QR5/MVkzdhv527E/bBljNMnyZaVi5KMs0qgHBECgFAJpfDOKktWGYtpFSfh3XLqUfsoOnRMeWOPgGdVwGTt4PsRpc7ZwW94a9bmSUYxe4qL62K7fuFF7J1RZhiu7o9rCRhNp3D0r6Becdqgtvao4GB9VkUe9IJCFQHTpsVGG9ztgxule4+XTmHYxblCPTqd+ubU571J6xHfeSnR1zITEfJ6Omck7i07K6MNRRnMn8HiGbM2+WteY0ZndNl7ts3KwtPmxj/fdV4ZeLnXA+HChBBkQ8IjA83Pbyuhblc4Th3hdhC9IUX4cacr16HaBKhYC44fQxXvNpL4teerCDOYqEXEMPohHPVyD/js05XuJM8tJOp81hei2J3jH1JgVLmuz8TRzHeq79VG6mF1EUrQoqdbe0+Dz0TtDlAACIAACsQR0d1M5apDpHv1ziVMZHHsnwCMAsx5+gWacuEf3ssxvrnSXrkbCRcddeHMyabO0vRotB9eKkY/BTBADAiAQMIGi/DjSlBswvtqrvtYw+tERO1OffFslGmx7Zty/ZpOvqOxTkT1BoveHjJT1Eif1yT4iL/F+Is/w3h+T10z/RPXZjPcHkWDqHh0FGTuC6L3c5qvupx/x6Adv3F59wMhH9X3QTA1k/t/8ayYFtBoEQKBEApM/2RrHX4bd7kOvL7FST6qSNkvbhYEPKmHkw4deaKgOumX6Nl9pKAA0uxACaXwzipI1G4YdTk0a1Z6vN4U+teEk6kvjRKojC1HNR0VWl9jupV7ipL4+/pMdVNcxvowbp09Uv+i1tHn2xtT38PP0KfalPSWaXvY1Rj7KJo76QAAEQAAEKiGwvEXvOnLbSqr2otK3c9uFgQ/KYOTDh16ADiAAArkRiM6zxxUsb6VFyZp1mo6mOgpi1qtvx0lxKmOWi/N0BGRTsXueoPX23DRdvqiPheb2zedD9Uo6Sts/+FtaT1jc8r6+5UmyRadh5KNowigfBEAABECgcgILXqJDtuAlp922Sa9c0QIVkLYLA2FRYDVORWPkwwkThEAABEIhkGaUoCjZUFg1Sc/Rw+itr+fP0SeF6CoRkY3zsfDN58Omu62twuD6B4m3V6MLbOllxcH4KIs06gEBEGgkAZ1qMRtvM3pc48xycO5OoNVH224e2VTMPXd9JIXBHx6iyj1fYHzU555CS0AABEAgHwJxW+FnLP3gmW4ZLzmmTxZ4FBKWLKONZqydXLS5V4ZKhuLzYeqeNAoiDISFtq+qI4yPqsijXhAAgUYQCNXhVLfxz6OTnn2leym2j/B1z+UusWgFjZk6wV2+rpLCQFhU3T4YH1X3AOoHARAAARAonAC/7feP5T0z0gb1+fj2Te2cS1a0jy+wQSU7kGpwnTZzlZNyZRjozieJ+vnkev7WzDBjb5F38D6lw3jJCG/XmCoIA2GRKlMBwjA+CoCKIkEABEAABPwisHg59WUxPrQVH7mY6PgdBhocR22nqcUc99yE6GbeD/3RhQPL/8mtRPtMJxrDhkTaNom8sBhYYvlXMD7KZ44aQQAECiRg7peRVI28gRYla9YLh1OTRnXny1dS3/AM7/umz8eXDixX/6NnEclfNPzidiKZylrMozAb8TRKmiAMhEWaPEXIwvgogirKBAEQAAGfCTg4lE46vZgGHBLjfCpPw0N+kjyJcHGBDqnFtBalxhGA8RFHBvEgAAJBErDNqcc1pChZsz5fHU7zdCg129vt/DkH51NbGUU7pEqdtlUi6vNh06nKOPnKrUy7aLDprmk+HrHDqY+9Ap1AAARAAARAoMYEMPJR485F00CgiQSK8uNIU24TudehzeZeGdoe0+dD43w4Rn0+TN1DGAWB8eHDXQQdQAAEaknANlXwR14yiQACTScA46PpdwDaDwI1I1CUH0eachXpOQfpWec4fa3OeZqzohxA0+jQRNlQfD5C6xsYH6H1GPQFARAAgRwInP+PwYUcGdm3wiYzOFe6mLXYUbIOIToNp8Zp0fF1YCdtgPFRl55EO0AABFYTiP74x2GRh0VRslonpl2URLjHUHw+QiMM4yO0HoO+IAACwRCQaZfoUluZdjGNHtsbczROrvOedomOctigusjY8iXFZV1q+7O/J5WKtNAIwPgIrcegLwiAQCIBfXAnCq1JLErWrBs7nJo0/D63rRIJxefDprvPtGF8+Nw70A0EQAAEQMBLAnGGa9HxXsLIoBSMjwzQkAUEQMBfAuaURpKW8pAoStasNzrtImlmvfqwSopTGbNcnOdPwNwrQ0sPxefD1D2EURAYH3qH4QgCgRCIrkAwr1fyBzLMa2mSee1jeiDYa6emeV9o46I+HjYZlc16rMtql6ztR742ARgfuBNAIDAC5gNCHg7v37ndgG/9lWjHDYg2n9hpkO/pJ1zU0TWvszSjBEXJ5tUWlFM9gVB8PqonlU4DGB/peEEaBEAABFIR8NXh1DRi4xrkIhOXNy4eq13iyDQrHsZHs/obrQUBEAABEEhBIBSfjxRN8kIUxocX3QAlQAAE6koADqd17Vm0qxcCMD56oYe8IAACIAACtSFgWyUSis+HTXefOwbGh8+9A91AAARAoCACtpUsUR8Pm0yv6tRltYu5NFqYqPNy0fG98vclf2OMj+/e0tpu1Sq6nv8m5AG/r4+W3/8Mve9LN9H5NK9vcR5logwQAIHeCUR//ONKlIdFUbJmnb46nJo64rxNwNwrQ5mE4vNh6h7CKEgjjI/v3dR6LRsd1+25CY3fKOPnrPVG1OMzL9OwK/ro65/YhYZ86ROtn9OX+l7WtNodT2q1imjTNl8xSk2ow1XOKC3/07PY3EQAgRoRiI5y2JrmImPLlxSH1S5JdJqTVnvj4zt/be20kujqvdjw2DAnw0Nuj3XGEB2wOY3mp/J5J+5H/Wev1/o/+u/6GiB3fLQ5/yiiLR1g/EQTce0dAR3+dlGsKFmzbjicmjTCOw/F5yM0srU2Pniq5fWtVfS7vTehcdNyNDy0k8UAOXBzGnXFffSVE2fRkLO/2PpJnQ0QbTeOIAACINB0AnGGa9HxdeFeW+ODp1p2W7WSLt9nOo2bmouXh73LJ7MBMmcLGn3ZvXTOiduwATKv9WP2AVlkl0YsCPROIOoEKDubarj5X0S3PqpX7aPv6QO17f2qKD+ONOX23gqU4AuBUHw+fOHlqketjI+hp7bOXrGCPrX5ZKJXVvCoxBZEU8e7osgut/ZoooO2oFG/WUnf2HEd+sbNJ7Vo6FD6/IrT+k7MXqo/OccMJ/rjA/7o03RNjnktkTig/O1x/h/P+71uapvILY+1jzvwtTjp3MKGiIQdeMt1CX9+mOj+54l0Hv82zj+sn/Ov307/G+eXfJJfws1GeauvtTxOX76q882YNPpI+bIFvIQbHlp9qP3/fHU4jRqx0hF6b2in2GQ0LesRq13a5HSEJGrUdovPyt23fLUxPvrntr6x2ST6jx8fQXTHk0R7bUo0ZVx5uCexAfLWrYlGDiOS809eQR+cP7c1buXpfR8sT4tianp5WftHSX6IZk7p1PHtG4lO3qdzHT078xqi095EtPaodkqo+aPtqvpa3H/F/XWoWCDytyYMG6Jn7ejhbFhIUBExGMzwynKiUcYvwFAjv8gNX3Ot+UesKc8sQ86z6rMsok+03KzX+uPtkr8oWZe6IeMfAdsqkVB8Pmy6+0e4o5Hx09OJDOpsXmvIsJX0w63XpcO/fziN+fsTRHuz4fGaEg0P5TWRH7LsA0KX3Uf05Tk09qQr6Z33zG2NXd5Px/FUTEE/tVo7jk0hsIqNjyFqEaRo9EtLBwovYqNy0hrDcGBK8pXUb4as+iyK6GOWWadzXx1Oo6McNuYuMrZ8SXFY7ZJEpzlpYRsf81pDh6+k83lYef9vHkJjbmXDg308aL2x1XWgDCmKAXI5GyCf25/GnPZ7Ovy2x2jssnmtI9kA4ckgBBDojUD04e9amhgbZohem2lJ59H6o9dJec20rPWbZdjOo8PYNhmJk1GPomTj6kS83wTMvTJU01B8PkzdQxgFCdf4OLc1YvizdNHum9IbvzSHxsh89X6btZfA6k1T1XG1AcL+JuyESvP2pjFf+BPtf+NDdMmyc1tvpg/3NeR9ryr69a83MvDg1GDJs4zXnJtBrtNOfYh8tP7otVlH3LnkWdGAscCPXTqYAPynBjMJMSZuyq7o+BBZ2XQO0/j4YmvMiGfpiv1n0A6n7UejxPB4ExsesvLElzBh5Gon1NUGyCffSGPO66fdr51PVy/9YusALMf1pZfC1SPtaEOcfNqpj+jUjRKMK1/To8e08tH8SddxP/62PEXJal3nHKRnneP0jMv+J53eKQNn5REIxeejPCL51BSe8XF2a8KIRXTt27ahrT45m0aK4cFGCMmKE9/CeDZAZMWN+IB8+A00atxw2vGie+j6pWe39qYT+17wTV/oEw6BtA/vOPm0Ux9xxkpc+XFE08rHlYP47ARsK1miPh42mew1tnNitUubgxq+0am/bvG98vclf1jGx7zW5BGL6fpjd6BNT9iZRvyNfTz2Z/8Km9PchXcSHX1+uZjPO3T1rqerK5UVHqOHEb1qgPAUzHE70MgxI2jrn91Gf146r7U7+4A8W66GqK0uBNI+vOPk0xofL0X8RpRnXPmaHj2mlY/mT7qO/pjHycqPfFGyWiemXZREuMdQfD5CIxyO8TGvtf7IVfSnD+5KU4+ZRcNvY8NjDo942KzohUuIPnoZ0a/f0dnDoOiOkT0XTvgN0Rs2YoNjBJHoMJLpyqoEuZYRkMvZAHn7NjRizDCa/r2b6K9L5rXeyAYI50QAgXQExGdC/C90OWxS7iSfDPH7kHSXxTNLWDbOT0PKWMn/63coqJgvBSURqC5Npl2iq11k2sU0emxvutE4uc572iU6ymGj5CJjy5cUh9UuSXSakxaG8XFKa5ORLfrTiXvSuoduSUNv43085vCIh/hV2MIn2PCQdN08ySaTd5zUxRuN0RnXEn1hTvuHWAwQHZVZbYBsyQbIPasNkeFjR9K0r/6JblpyChsgZ/Q9mLc+KK/+BGQKRO+vpNZ2G2WQdBejIW7KReuWUZQJbGh3C0X7meqDu5sekl6UrEvdkPGPgG2VSCg+Hzbd/SPc0ch/42Nea0se8bj+zP1o0p6bUv/tbHjIUlaZzrCFq+4n+j0/yq883pZabNwndmfH1+/zbqAPEc3emOhl2cSJp150Iyf2+aA5awyQ3TekoWP3ovXYWPkLj4DIFAybJQgg4E5ApkDKND7iplxUY2fjg42dJgVfdzhtUh8U0dY4w7Xo+CLaUkWZfhsfJ7W2Z8Pj2q8eShNeN4WG3PEUP7x5dEFGEWxBHvYf+C3RWQe0/S1sMkXGiY/H53jU48QreITj2LYOC14hGsH7juimUGKAHMgGiCzDfe0U6j9rDq190uV045KT2An1rL7bitQPZdeLQLeRCG2ty8iHyiYdu9Xn4j8idkc3fZJ0cEkzpzSS5OUhUZRsUr1I85eAuVeGahmKz4epewijIN4aH0PntnbtH0JXfPetNG6LydR379PtEY9xMYaH3Cin/I5o1w151GEjvW3KP0rdu/HfF68n+sw+7emXF3l4fC1jpGYsGyAyRSMGyBaTaMhXD6G1PnIJ/WHl3NYBK07v+3P5WqPGEAnIdunRvTui7VjsuK2dGAVJQfw0xKcjKch27d1kFrNM00LU50Pabxo9+qacFKcyebKzrWSJ+njYZHrVwean12uZVeQ3+0vq1z4qOr6KthZRp5fGB38gbh9W7Dc/OYLGTuMv0t77THvEQx7aceHGR4gu4BUuv6tguiWq0yl78oZnPyA6mEc45CNdMlwt0y/mtzHkY20yAiI+IBuMp75vHUrjT7iIfkentt7CH6S7JlomrkHARqDrVAgbvi6h22gE2zlOodvoR7d0p0q6COlDoIvY6uSiZF3qhkwYBELx+QiDZkdL74yP/lNaB/MHsn7+y6NojHyg7f7n+CHNowTysI4L8vb3Pl5p8tl9431B4vIWES/+KKexLp++kuiSd/KKBP4g14Il/L2ZyCZovOrl1SmYdTjtfw+nscddSBe1TmkdtfKMvkuK0A1l1otAt4d5N+NEaXQ1PrqMemg53fTpNnWj5dTluNN5ObfkpJRrhc6STxDaQ3SUwyblImPLlxSH1S5JdJqT5pXx0X9q68jR/fT9C99BY0azZg/w57/Fx0Me0knh9OuINp/c3vMjSa7MNNl/5Lc8qnHujUSfmM2fIGcDSaZfov4q4ieiy3DFaPnZkTTmP35BP198autdK0/rO79MnVFXeASSHuZiL8gXiV1CGcaHjJ6IX1bRITrsHVefjHoUJat1Pj9Xz8o/5r00t/wW+FFjKD4fftBy18Ib46N/buv4sUPpvEvfSaNl44EHF7QfyvJwTgqy38cPb2H/ieOSpKpJm8ejH3N4+kUMKP7qLr24ZvrF/PS5aLbaAFkzBcNLcOn8o2kMb5D2/UVzW2NWnt7HJSCAgJ2A+H2IkWF7vRX/im5GhVnqUjaQzalBTUvzri1+H3FhMd//afSJKyeEePWV0GOczjKy0E1G86aV1Xw4FkMgbsqu6PhiWlN+qUPKr3JwjUPmtj7MDpnnXv0uGr0VP6Rv51UtB/HDuJvhIc5tMt3y6T35g3Iebq8uOp20F//x6hfRVX7En1vcPkYpyHJc8QF5jDddl6/yXn08jREmwiYqi2sQMAnEPdDjvsNi5jXP46ZM4so385rncfKuU0BmWTgHgTIJyCoR/dN6xefDR7+PyaMGPvdU7xBWugjbykc+hp7SOpkf0p++8jgaswE7l2qQ3UG7hS//sb3D6WFbd5OsLl10u+guou/+lej9u/D0C7+pygiIbTMms83TJxFd9y4as/8P6axnTmmNW3FG35nVtQI1+0xAHva2TcLijIm4tsgUjnwWIBrijImonF6LvC4t1zg5Jk0RmXK9nse9edrKLUpWRinYgZxcfCZcZFT3NLKaJ+5oG3GJlm+TiSvPNR6rXdqk9N6LTv11i3fl7Ltc5SMfvF3zGde+e6Dh4QLtPv4qylfZn+LMN7lIVytz1v5EP7i57cMimojvh/iAdAtijAkbYdRNFunNJRBnHLj6eyg5m7HCtjLJX5oQp08Tl9mm4QbZ6gnIXhn6p9qIz4ePfh/P8h5Sz/BIugbV29zvQ9N8PDqMLxSvtkwzpA3v5emW/9qNaOr4tDnLlxcdP/rG9uoX9udYHWT1y7qR1S82zbKwsZWDuHoT4MGGAUEMgGjcAAHLhYzKid+HGdIaMJLXVm8WfUw90pxH3yTj8sobZtGy3covUoe4dmt8dJRD482ji4wp73KO1S4ulOov44XxkRbzN//Cb2P8Q/mO1w7OecW9g+MOYIdPCWWntWtt/190vfhuop/cSnQMn8uPvMyBy46nCCDQK4HoaEP02rX8qF9GWr8RrSdaf/Ra5XAEAd8J+OjvIczE5yNpCwrfuXphfKSZV3x4IX+87TqiX/673cPfV+CyGuHsOURv+ynR3tPbIzYy/SJOtdH5+kt5ie46DqMivrYVepVPIPpwj167ahT1y7BNxbiUFa0/eu1SRlYZnTN3yV+0rEv5LjLaljSymgfHYgjE9UXR8cW0pvxSK/f5SNvkD7AT17t3Itp0Ytqc1cuLzu/Zub0NvGgjP8jP87wdAgj0SiD6cLdNfbjUYRobskIrq59GXvq46AwZECiSQCg+H0UyKKJsL0Y+XBv2Y56yeOplovfyAzwu6BSLLb3sNJsO72HD6VKeGvr1HUSHb0O0hL+9IT/4SVvH28pBHAhECSzhqbyRvJtu9MEflUu6ZufmV/cNMQ2RpDy2NDF+xHiRUb1e9LGV3S2um5+F5pc31KJlu5VfpA7azrijbcQ56uNhk4krzzW+LqtdXNsLOTsBL4wPlxtejA7ZrvzHbx88TWFvmp+xQ3ms6QsHsN/H+UR7bMrzdrwXyAs8/SLfftHpF9njZBNjZEeW7CGAQDcCMmUyku+nXh/2kl/uxV6MD9FV8suS8l716dZupINAXgRse2SE4vNh0z0vLkWU44Xx4dIw/uorHT2LSDYhSwplO5Um1Renp7Th6O2J5l1N9PVD2z/OC3n1i22PhbgyEA8CUQLysBdjtteHvRofWZ1NVS9ZKVOF8SGjCa6haFmX8l1ktD1pZDVP3DH60meTc5Gx5UuKw2qXJDrNSQvG+PjNnUT3fLw+HfOfbyDa8sud9sjcOoyPDg+cpScgxodOm6TP3cmhxotMCfYSZOXMCh5FkSkYBBAIgYBtjwwf9/gQlrLPx2L+N7rRhDZZU/cQRkG8MD5c5xVt350I4Ya26ZjUFqx2sRFDXDcCYng8u7iblFu6lNVrkO+8vMAjemWHbn4Wqo+MIhQt2638InXQduIIAj4S8ML4yBNM2U6lSfXl2S6zrIN/4vapr0t4X5G8gnwh8xtvae9NomVO4CH+52MeLmO7fBBQy8DRQqDLZ9OjXys1fYLEqI1uFGamS20u12Y5LvJmK0x5/j4RyZSiGcz01fFJ7U34JLxZJs5BoCgCofh8FNX+osqtnfFRFCjfyj3noO4a/fht3WVcJaIPPNd8kMtGoMpPsWfTOP9cWe+5NH4RRcu6lO8io3TTyGqeuKNtxDnq42GTiSvPNb4uq12io1raN0XHu3L2Xc4L46OMG973jjD1w2oXkwbOQQAEQKA6AqH4fFRHKFvNXhgfWVSPrjIxpz9CScvS7irz3PkUkfxpkC+X/vw2vRp4fIWdDft5WfFneUWPGW54uHMl6Wdf17mOnvmYP6pj0de2N0811uuelpVt9M0zrhx5Uy1atlv5ReoQ126N1/tIr21HFxlbvqQ4rHZJotOctGCNj+Z0kT8t/eCu7rpM5P0dRtbk7vppjIHlTgOSIAACIRCwrRIJxefDprvPzL14PNje4HyGVrRuttUuh0ScTD9+qV0L+XhdUWHrc5JL/oBhnMjIx/LIF1KTcyMVBPIhoHPvLqUVLetSvouMtiWNrObBsRgCcX1RdHwxrSm/VC+Mj/KbHV6NLg6m0qof5ehkmoaSOAemGRmZEtCH8zDykeZOgCwIhEvA3CtDWxGKz4epewijIMEaH6aPh94kegwlTfXFEQRAID8C3fwstCZ5Qy1atlv5Reqg7Yw72kacoz4eNpm48lzjsdqlTUpHSKL3SLd4V86+y3lhfJRxw/veEaZ+WO1i0mj2efTfhkmj7mlmW3EOAlURCMXnoyo+Wev1wvjIonwoK1qS9MzSbt/z/P6BjoZ78ofzokHTh/Ce27aHp/mm5WN6tD249o+Avjm6aFa0rEv5LjLaljSymifuaPv3FZV1kYnm6XaN1S7dCDUjPVjjoxndg1Y2nUB0SFZ46AOo7mlN73u03w8Cofh8+EHLXQsvjA/zbddd9fpK2la73Pwvt/Yu5I8N5R2ibz/or7wJo7w8CdiMMlv5YsQVLdut/CJ1sLUZcfkR0JeAaIlFx0frC/XaC+MjVHjQGwRAAARAoD4EbKtEQvH5sOnuc88Ea3yEsqIlSc80N8aOG7hJrz3KTa4XqehIiJQ16GNhvVSAvCCwhsDs7w3+iOIfDb8iE9QI/jWbdS7RljyisTv7G20wnkhzr2Qfo5W87wwfXg13P/HqadeTrLJxb8FmhS4yKp9GVvPEHW0jmNF/2zaZuPJc47HapU1K+zI6OtYt3pWz73JeGB9l3PC+d4SpH1a7mDRw3mQCtv1tpq9lJ7KIN7Z7aAHRZfcSfeEPRPLv6JN7EA3jbfw1jOVfvPFsoPOXAQoPMMgLR5x7BeZeGVp4KD4fpu4hjIJ4YXxoJ6c5Jq0iCSUtTXsh20wC+hZka33d02xtToobO5xom/Xaf0dvx5veXcwjchcS/c9bOwbIohVEKxYTTRpdjgESfauN6i992E1G86SV1Xxxx+hLn03ORcaWLykOq12S6DQnzXgnaE6j0VIQAIF6E5jGoyMXHcNGR397FMRs7RKefnmxAMdssw6c14eA+Hz46PcxmUfw1mEjOtTgxchHEfOKoXaI6I3VLiH3Xr66296KdcSj7mkmycde6ly9vLxzbp4pF42TqZVvHEL0xu+095TZbG1NIZIRkNFshIhxUmSI6mSry0VG86WRlTy7fVe9XrSEzlE+iZBX+NMJnZK2mtw5r/NZXF8UHV8Xpl4YH3WBiXYQ2TYWM7loety3XboN81adbrbFen5Sa0p/P+3X30cHDOmj/fkB+OzSlXTh8GF05ZIW/ZHm9fFjD6EsAjIC8sHXE/36DqJPsf+HGcSIWatg48Osr4pzm8+M6jGD3+jzCHkaMXnok3cZofh85N3uossL1vhIWkUSSlqazsVqlzS0SpSd1xo9YhXtxV/w3XdEPx1CQ2jq7I1o+QGb0zgxtJ5eRJOumk8fv/guev+Dz9PwIZ9pXcOyl6waSpezIfJIiZo2tqo5mxMdf8Hg5i8twQy0jU6ZmshbcjcZlU8rq/nKON7yWKeW2x/vnNvOsNqlTUVHSKL93y3exjTEOC+Mj+jbbNOnYbDaxd9/Sq1Wq2/Hb9J+Q/rp0NHDaZ8bH6RNtlqPlhy4JY3daxPqf936RAuX0MhF/Fa9wTiipauIjtuBhp68B014jh0dr51PB196L+117QP0lZWfaT0loyLDeFRkaYuuY2OE12sg5E1g40lETxjTNlq+LL9tSjCnrabyfSnBfOjZHngucSrTLjH8/9tWifjo7yGkxedjDDtZa7Dprmk+Hr0wPrKACWVFS5KeWdrtc55v/Nldu9Ac/l7/7dY8njrZb7//pR02W4dWbbUuDdtiMg39yeFEvMpihCxzk6WeEh5Z86BbbXywX8FSdm6UH4Yn2PjYcUOiI7alMeL0ePdTtPHV8+nDF99Dx689hkYt+07r71zG5d3eHNu1NOv/+sCUVscttY0jMo5/oBdz39h2CV4S4z8SV1baeJeHs4uM1ptGVvOUcdxhaqeWbj4fWO3SYdXks2CNjyZ3mq9t/+Cu7prF+Xy4l1Ce5E9vY6fFjelENjhGbM7OdMP5Xw1PsdAzbEw88EL7WyvPOqyeWMVv2i+tMVDue55o1Aii/55N/e/bhSY8yQbLvc/RTnc9RbNM4yPpYVP3tLx72DZ1aRo1edeHfT7yJlp8eeZeGVpbKD4fpu4hjIJ4YXw0fZpFb3I9hrrapc4jH8e8lkbItMlL/KbcYgNCHlrLePRiaA+L1ZfxlIyEh9iAWSzTNBOItp9Cwz//+9XR+J9BwJw2iFvtYoi/emoaaGYZIiB9aE49vJrJciLlZJHtlidruRYVB0SZ7ZYEm5EVlRG5XuIkf5OCjZW0v+j4ujD2wvioC8ymt6POIx/St2tH1tTLD/q0NfPn5g9OlvNHLT4JUqft4aXl1z1N2o/QG4GPXRqf/4YH49OQ0iEQis9HR+MwzoI1PkJZ0ZKkZ5pbxDZkbMtf5bddHlg4UKNNeZmjGcx0mbLQh6jKRB+mvqWrnjiGScD17T+uddH7MU5O4lVWjy6ySTKa5lKeysqxrKW2WO3S6fO437G84s3+DfncC+MDq10G3kJY7TKQhy9X5rC9PMjkesGS9o+O/rDIwyHLuUy7SLA9INsp+D8IgEAVBELx+aiCTS91emF8ZGlA0iqSUNKytBt5qiMQNQzkuuhpl+pa61fNJvu0q120JabxKHFSphqKKhN3NI3KOBmNN2W7lW/Kav64Y1pZKaesaResdonrNcTHEQjW+IhrEOJBoAgCcT/i1/wzn9r2mZFPOSgFBEwCZU27mHWGfG5bJRKKz4dNd5/7wgvjA6tdBt4ioa52GdiKel3F/YjryEevrTUdTmd9tVOavO3GhbqnxbU7a7w5eqJlJDFUGT1mkXXJ4yKTRQfNg2MxBOL6rej4YlpTfqleGB/lNxs1ggAIhETAnDLJutQ2pPbmravJT40wc0pIH5hp4zRf3vpWVZ65V4bqEIrPh6l7CKMgwRofSatIQknTm9vlGMJqF5d2QCYdAfNhoDn1B7/uadrevI7mA1jKbILPR17supWD1S5Y7dLtHomme2F8YLXLwG4JdbVLdGntwFYRmem2HU71oRrNp9dVpsPnQ3sBRxBoFoFQfD5C6xUvjI8s0EJZ0ZKkZ5Z2I081BKry+aimtfWsVacbzNZ1M2h7lXUp30VG9Ugjq3nk6Np2W/kucVjtYtLGuQuBYI0Pl8ZBplwC5iZiUrM50iHXZnqIm4zZPkw2baa0jMjmNK0jei5p/NE6hAQC5sMz61LbhOKRBAKxBELx+YhtgKcJXhgfth9nT3mVohZWu5SCGZU0jECTfT7MtqshZ/oM6ehG2jjN17BbaXVz49pedHxdWHthfNQFJtpRbwJJTr86ymEj4JJmLrU1y7j7CfOqfW6LU6k6pMX9eGsbQzi+smbH2qT+kHZ0SzfbWpSsWUfTz22rRELx+bDp7nN/Bmt8hLKiJUnPNDdG0oPPLKfKb7uYetTtXN8c5a3RPNc3RXlg9nJulmmySzJcTLm6nysfaWfWpbb6xm+ySmPopJHdZf12LVX23wkXmS0t9hyrXbDaJe0d5oXxEf0H2vRpmFBXu6S9+SAPAiBQDgFXw8tmYLnGldOSYmsx98rQmkLx+TB1D2EUxAvjQzs5zTFpFUkoaWnaC1kQAIHeCJijJ1KSPJB1tKpbyfIALkK2W72hpGO1Syg95Y+ewRof/iCEJiAAAiDgNwHT8NJRENOY0tGNtHGaz+/W96ZdKD4fvbWy/NxeGB9Nn2aJdjtWu0SJ4LrpBPSBKRyyLrU1y1CeaR6eRcmqLjiGRSDufig6PixK8dp6YXzEq4eUkAhE9/WI6m6mh7bDabQtuAYBEGgGgVB8PkLrjWCNj6RVJKGkpblZsNolDa38Zc23ZvPcfMvp5dwsM3/tUaIQMKce5FqYm9MMEhcXpG+LkI2rL+942/1l3q9aX9a4Jq52UWY4ZiPghfGB1S4DOy/U1S7mDqbSInOkQ67N9NB2OLXtbiptunHNfg5y3kuI2+G0iVOS0d8D4WoaDlmX2vbSP2nz6j4fTey/tKx8kretEgnF58Omu09so7p4YXxElXK5DmVFS5KeLu2EjB8E4kaepvHbcx4hbpOxmVMGl65vp7Y38TqkDW5xPjGub/9xtSnbuHQz3rd9PkzjTTmY94+2LW2c5sNqF7P3ce5CIFjjw6VxkAGBvAhUNfKRl/4oBwRAoDsBc68MlQ7F58PUPYRREC+MDwxN6m3ePmK1y0AePlxVNfLhQ9vrooP59i9tKsPnwxxJsHGUkYNuMpovrazmwxEEfCTghfHhIxjoBAImAX1w6ZC1pEncgiWdbZUlTh8kOhydJk7rkDwIAwmY3LMutR1YYjOuPnZpfDtveDA+DSkdAqH4fHQ0DuMsWOMjlBUtSXqmuUXi3ryjZeDbLlEiuAaBNgHTgFEmppGocXHHLLIueVxkVKc0spLnnIM05+DjjImD47LETDqdKM/VLi8uJRo/Iosm5ebRFw2tVfum6HitL/SjF8ZH1Lu96dMwoa52Cf0fg4/66w+aTbe6p9najLh6E1jII4mfuZpoj02IDtvaj7aG4vPhBy13LbwwPtzV7UgmrSIJJa3TGpyBAAgkETCnpLIutTXLkLqa4PNR1rRLHqtdFi0jOvrn/DeL6KK7iLZaj+gd23fuip/9vXOOs/AJBGt8hI++fi2I7usRbaGZjh1Oo3Ts19EhXJHSEY+6p9mJIDYNAZ12MQ0vnX56ZUWnJNs95RInMjLt0mtYvorohAuJZm/EIx97Ex23A9GcHxJN4OmXQ2b2WvchdV4AABxzSURBVLp7ftsqkVB8Pmy6u7e8fEkvjI+mT7NEux2rXaJEcA0CvRPQh65Zkj5gzbi48yyyLnlcZFSnNLKaR46ubbeV7xpn1pf2/L8vI1pnLNHn9m/n3HAC0a/+nejNP277f+yxadoSi5e3cZFai44vvmXl1OCF8VFOU1FL0QTMHUylLnOkQ67N9NB2OBX9EUAABPIncOZ1RM8vJrrgHURD+jrlz+RRlZ8dRXQUT8V8882d+CLPzL0ytJ5QfD5M3UMYBQnW+EhaRRJKmt7cLkesdnGhBJm6EjDf3LMutTWnHoSTlGmburIxlLfZLLLd8mQt16ajGRd9+zbbrixN3VQ+bZzmy7ra5eK7eaXM40RXHkc0ot9sQft8x6lE3z2M6F2/Jppl2e13cI7yYkxWUquyKDq+vBYWW5MXxgdWuwzsZKx2GcjDhyv9wTZ1kbjo9ur6A2TKucbZ6jDLwTkI1InADQ8TXfcA0VXHJy+t3YtXvnyFlwz/58Xc+lNa0+mMvvllcgjF56NMJnnU5YXxkaUhoaxoSdIzS7uRp1kEbIaLEqh7mrYzr6PNuEtiGK03i6xLHhcZ1SWNrOYp45h2tcuf2PD4+p/bmm3zNXcNRw6j65ec1NqRzup7wj0XJH0kEKzx4SNM6AQCIFAMAXPaIOtS22I0C6NUV8PLZty4xrmSuPNpoo9fQnTZsUSvn+aaqy331RtpnS/8gf6wZF5rZ5rXtzBd7mzSofh8ZGtddbm8MD6w2mXgDYDVLgN5NPkqOn8sLPRhUPe0vPvdNGCkbHkg2xja6hXmWWS75clark1HM07vETPOh/OH2Vx4zwVEXzskveEh+v/XG2jYs4tpw+/fTNcsndeazQYIu6pWE+IYFx1fTWvzr9UL4yP/ZqFEEAABEAABJWAaXjoKYhpG+sBMG6f5tJ6k4/OvEB3+f0Sf2p3ooC2SJJPTztiXRvDqmJkX3kmXLP12a396X9/y5BzuqbZVIqH4fNh0d295+ZLBGh+hrGhJ0jNNd2O1Sxpa+cvqj7f+cEsNEocPy+XPuqgSzb7TOtI8PLPIuuRxkcmir+Yp49httcuylTzacSPv27EV0fG8gZiEtIaO5FFW5x1CoxYspl2ue5DOX9ZqHU59fS1JLzOY+ku9qlvR8WW2sci6vDA+sNplYBeHutoluq/HwFYN3PcDO5xG6eA6iYBpOGRdaptUPtKKI7CKzYLv3Uy0M/t3zN0rn3r6+4h+dASNfvNP6U1/+wx9l4c+3p1HyeZeGVpeKD4fpu4hjIJ4YXxoJ6c5Jq0iCSUtTXshCwIg0BsBHb3SUsSgib6lalr0KG+1WWS75clablS/6LW+hWu8abxpXFRG4rPGJa12+dBviaYw63MP1przOQ7nfUF+eTSNOeB/6cj75raeW3F636fyKRmllEEgWOOjDDioIx0BcwdTyRkdCTHTscOpG1vbw0Bz1j1N25nX8YkXBpYk10scvQXuTrGwM43sQI3qd3XG74nufZY/FHcM0dAhA9tnu39d47SkscOJfnsMjd37e/TBx9sGyBc0La9jKD4febW3rHK8MD6w2mVgd2O1y0AeuAIBc9Qi61Jbm9+UbUQgL9onXGQfSYiWb3vgRmX0Oo2s5pGjyU/bbI7KaLlp4zSfWZee/+AWNjruJLriOKLRwzQ2/+OkUbxs9500Zs/v0WcWnNJ6buUZfd/Pv5bBJca1vej4wZqEGeOF8REmOmgNAsUTMB8GWpv+uNU9TduLY3gELrmH6Et/JLr8WKK1Rw+csrLdv73GrT9+dV2j9/0+nfvKqa2Fy07r+3Ve1ELx+cirvWWVE6zxkbSKJJS0NJ1se2uz5V+b3wKKDlEHYalP3vIQQAAEBhKwGYimhDx0u8mofFpZzVfG0VztcuHtbQdTmWrZaK0yam/XMX3S6imY0XN+TD9axQbIitP6rimy9mi/2QwoqT/v+CLbVGbZXhgf0YdZ06dhQl3tUuaNi7pAAATcCehUi5lDH4p5xUk5Ty5qGx4/fBs/dF9jllzO+bZc5y+PojG8n8hv+ua19lk+r++vaWq2rRIJxefDpnuatpct64XxkaXRoaxoSdIzS7uRBwSaSMB8eIa01Nb2gI/2n4uM5kkjq3nKOMpql2dfJvrcdURfnEO05yYDa7XpnXec1rjrhkRs/Iw99ld0JX+I7g38ITr+di6CbwSCNT58Awl9QAAEQMBXAmU4nH72aiLeeZS+zL4e8hcXsu4GtmQF0apV9GJcudF4rmfs0D66jrM5j8GYe2VoeaH4fJi6hzAK4oXx0fRpFr3J9YjVLkoCR9vboVKpe5q2M+Rj1C8g2hbpw24ymietrOYr63gbL0e+4f2F18aupe5ht2/Reu7S6STj/v0VHZ9OS3+lvTA+/MUDzdIQiO7rEc1rpmOH0ygdXCcRMN/csy61vflfg2v4k+M+H4NzhhHzsUvj9bzhwfi0LCktHmrYcnKWnMXlEZ16DaH4fPTazrLzB2t8hLKiJUnPNJ2N1S5paNVH1vZWrG9WdU/Luxdt/4ZMX5K86/Nhn49zDopv1YyJ8WlJKfOND9nvdF5b8o3/0z5OOj0pZ0VpJ3VMkEeNSZtpqcZQBuse/fcX9+8y7/jBmoQZ44XxgdUuA2+eUFe7mDuYSovMkQ65NtOxw6kQQQCB8Ak8PzeMNmQ1jELx+QijFzpaemF8dNRxP0taRRJKmntrIQkCINArAXPqRsqSUY/o22tcHfL2mkW2W56s5cbpqfH6tl3EtMvsTbUWHEEgO4FgjY/sTUZOEACB0AiY0yMhLbWtmrNOu5iGl7J8hZeBaFBjxTSW4uJk2kXL++MDWgKRbeGAjmpXmaY6dDSNP7OtEgnF58Ome3xLq0/xwviw3ZjVo6lOA6x2qY49aq4vAX3omi3UB6wZF3eeRdYlj4uM6pRGVvPgWAyBuL4oOr6Y1pRfqhfGR/nNRo0gEAaBuB8y0b7uaWH0UBhauhpetnvKFmcrLwwSyVqae2WoZCg+H6buIYyCBGt8JK0iCSVNb26Xo81T35YP33axUUFc6AR0mF/akXWprVmGlCMPUHOaQeLigjyAs8h2y5O13Dg9Nd5mMGgajvkQiPatMi86Ph/tqy/FC+MjOifX9GmYUFe7VH87F6eB7U1P4qbxnxn0ByhLnK2O6A+ZlKt11D3NZIjz3giYhpfeZ+b9Y7unkuLM8lSz6O+4xsvRpzRTL5fzUHw+XNrik4wXxkcWIKGsaEnSM0u7kQcEQCAbAX3omrn1AWvGxZ1nkXXJ4yKjOqWR1Tw4goCPBII1PnyE2XSdovt6RHmY6djhNEoH13Ui8Bx/40RCk0ZxTZ+DduuJ1PegyjTVQXVKewzF5yNtu6qW98L4aNI/UJcOx2oXF0qQaRIBc9Qi61Lb6FSBlGlOPSTxlBGHNLKPvdwuLWm6Iam+PNJkh1UNJj+Ns42iuMbZytNym3K0sZK2Fx1fF75eGB91gdn0dpg7mAoLc6RDrs107HAqRBBAAAR8ImAbJQnF58Omu09so7oEa3yEsqIlSc9oZyRdY7VLEp3i0/St2Xzjk7gFSwa+6ejbsfn24xqndZitMcsx4+W87mnR9vZ6bfadlpXEUGX0WJSsll/k0by3lIPel1Kvts01ziyvSL19LttkFcewiHifmaTRzQvjIzo02fRpGKx2SXMLQ7YJBMyHXdaltk3gVEUbQ/m9HunwtLP5poTi82HqHsIoiEN3VHE7d68zaRVJKGndWwmJphOIvl0JD9tbqnKqU5q2Ka+jacBImTICYONrq0+4FiFrqyu0uOjLo6/6mz4wvurYJL2CNT6a1EloKwiAAAj0QkCnWswy1FDNEmcrzyynTueh+HyExtwL4yOUYbuyOherXcoijXqaRMD2wLQ9gOOYFCUbVx/i/SYQdz8UHe83FXftvDA+3NWFJAiAQBMJmIZD1qW2ZXLzbZ8Pc8pJWZrTSPrAdI0zyyuTaxV1heLzUQWbXuoM1vhIWkUSSlqajsNqlzS0IAsCgwlEH5jyEDYftoNzdGLk4ZxGVvf5mDmlU4btLG25aXSAj4ONeH5x0b6wGXBSW97x+bWg2pK8MD6iDktNn4YJdbVLdF+P6K1tpmOH0ygd+/XdTwyOt8WpVB3S9Mda24QjCJRFwLZKJBSfD5vuZXHLUo8XxkcWxUNZ0ZKkZ5Z2I0+zCEQN82a1vtNac9Qi61JbnW7olNp5KzXj4s7TGEUqq8e4MiXeRUbzp5HVPHJ0bbutfFucWV4oL4suS21NZjgvlkCwxkexWFB6FgLmDqaS3xzpkGszHTucChEEEAifgBrI5j4T2ip9G68yTXVwmYay6RmKz4epu7ZZ+8HHoxfGRyiWc1kdiNUuZZFGPU0iYI6eSLuL9PlQfwA9xnGWUYVuMpo3razmk6PZdh21MOvV0Q3XOLM8s54mnSuzaJuLjo/WF+q1F8ZHqPCgNwiAAAj4TOBjl8Zrd8OD8WlJKbM3TUqtX1ooPh+hkQ/W+AhlRUuSnmluFqx2SUMLsnUjoG/r0q6sS23NMpRP3FuqppvHLLIueVxkVI80spLnnIM05+DjjImD41xi5i/sSO10Xue8aWfmKJG0Xfum6Pi6cPbC+NA5Q4Xa9GmYUFe7aP/hCAIg0DwCSX4GPqWl7ZlQfD7StqtqeS+MjywQklaRhJKWpd3IAwIgkI1A1E+hCT4fmHbJdq8gV/EEgjU+0qC5bj7RVf+057g+Yd6zW1ofF7nLRkRDhxDxfwggkDuBJo4CRkdCBappOGRdapt75wRQoE67mPx0+umVFZ0G2KYM4uJk2kXL++MDnTLM1RYaqyMeVaapDqpT0tEmG4rPh033pLZWneaF8VHUD+yqVUT3Pks0bS2iufsSDevPF/eylUS/up3/Ib5AtNW6RCNyKh+rXfLtp5BLs+2QaXsoaBvrkKZtyfuoD12zXOVlxsWdZ5F1yeMiozqlkdU8OBZDIK4vio4vpjXll+qF8VFEs5exVX/n0+wEtD7RfjN4ZEKGKXIOw9nYOHoW0aX3Et32ONFMNkDGD8+5koCKi+7rEVXdTMcOp1E6uAYBEKiagG2EJhSfD1P3EEZBgjU+klaRbP0aop/dSvS27Yg2mVTs7dzHRs3BW7brufgOogNnDqwvSc+BkslXWO2SzAepINCNgE4VqFwTfD7Mtuq5Hm1v6K5xtlEkLRdHEHAh4IXxEZ3j7WUaRkYgrr6f6LidiCaNdkGQj8zWPOqx9s5EP7mF6OlF7dGW/oyjLaGudjF3MBWq5kiHXJvp2OFUiCC4EjAfdlmX2rrWBblsBJLetn1KS9u6UHw+0rarankvjI8sEKIrWvbfguh39xE9soDonTsSTRyVpdTe8rxmLNG72QA5/zaiZ18mOoJHXq5jQ8gMeY2EmGXiHARAoDsB04BRadubvqZFj1lkXfK4yKguaWQ1jxzNUR/lYO5HoeW6xpnl9fKyaOpY9Dm+7VI04XTlB2t8mM1cyY6lMuKwFhscx/CIx9CMIw5mmVnPxeh51y5Ev72L6Dt/4S2cxxONHpa1NORrOgF9KNg41D3N1mbE+UcgOnLtn4ZtjVy+7WLTPRSfD5vuPsd5YXz0ajnfylMtB7DfxSx2Lq3Q7ni1n4fxutvDtiH688NE1/AS3+2nEo1KsRIGq11eRYkTEFhNwHzTzrrU1ixDCpURAPNNPwm1GHpZZLvlyVpukq6SlmSYdsuLdBAog4AXxkevDV28nB/wbHj4FMQIegPvAXLFPUSyJDeN8eFTO6BLtQRsDy99sNQ9rVry9apdp1rMVul9lCXOVp5ZTqjnNt+UUHw+bLr73A/BGh+m74RsBnY1+3v4GnZlI2RDnn7pJWC1Sy/0kBcE2iMdUQ62B3BURq+zyLrkcZHJooPmwbEYAlHjX/ux6PhiWlN+qV4YH9E5wyzTMO9nR08fQ9IuqXH6hrraJa49iAcBEKiWgDnlpKMW5kPS9uBMijPLq7Zl+dZu7pWhJYfi82HqHsIoiBfGh3ZymmN0tcu3/pomd7my4vtx15rNx8wRm3K1QG0gEC4BfWBKC7IutY0+MKVM8wGcREcexFlku+XJWm6SrpKmhkM3OaSDQFUEgjU+osDqNPIRbVso19F9PaJ6m+nY4TRKB9cgECaBLCPVVbQ061LbUHw+qmDaS51eGB953Lw+j3yk7SCsdklLrL7ySW+wdU/Lu1fN0RMtO4mhyugxi6xLHheZLDpoHjm6tt2miy3OLE+nzc1hf61bh/+rTFMdsi611bZEjzYuIlN0fFSPUK+9MD7ygKf/APIoK88ysvh85Fl/mWWZO5hKveZIh1yb6aHtcGr+2EpbJEjcNP4zg+2HxzXOVodZdpPPzSmTrEttm8wPbc9OIBSfj+wtrCZnsMaH+E48+RLRP/mrtSGEjSYSbT45u6ZY7ZKdXcg5bT4DaszUPS3vfjMNGClbjD0bQ1u9wjyLbLc8Wcu16WjG6T2icWbb1cg1dVN51zizPK2jaUeTlbTdxrCI+Lpw9sL4iI5adJuGeW4x0X3PEMlXZfeZTnQ5f1XW53AIb4D21ItEf3qo/eXbdXkb9qSA1S5JdJAGAiDgIwGd3rDp5lOaTT+Ns+kZis+HTXdtl49HL4yPtGBuepRo/xn8JVkeTQghiJG016ZET/BIzUV3826sPGqDAAIgUC4BfeM3a9W3VTMu7jyLrEseFxnVKY2s5sERBHwkEKTxISCjhkfcaMlE/rLtAh4psYWy06ZE/ANsOiEOBEBgMAHTcMi61HZwqc2JMflpq22GjGucrTzbb7COaleZpjpou5OONsfYUHw+TN1DGAXxwviw3ZhJN4gtzbzBpDxZeisrYLZ7DZF8bVZD2WlZHE6x2kV7y5+jznGbP7oSt2BJZ65XtNV5YPNH3DVO6/Cn1fXSJMpX+lL7pltLpT+zyHbLk7VcF327ySC9NwLmv3GzpKLjzbpCPvfC+AgZIHQHgSIJxP2QSZ11TyuSa1PK/til8S29gT9LkSXM5inkJoVQfD5C6xMYH4H0GFa7BNJRULMQAuaoRdaltuaolSqZZMCpjB6zyLrkcZHJooPkOecgzTn4OCOjz9z8hZ2ydjqvc960s+iolvZj0fF14eyF8WFOmQjYPKZhQu6gUFe7RPf1iPaBmY4dTqN07NfRHzKRivuRq1uanQhifSUQ/R039fQpzdTL5TwUnw+Xtvgk44Xx4RMQ6AICIFBPAuboibSwCT4fmHap571ch1bB+KhDL3rSBnMHU1HJHOmQazM9tB1ORX8EEAiNQBnTLqGMVLt828W2SiQUnw+b7j7fr14YH6HcvGV1JFa7lEUa9YRCwPTXyLrU1ixD261TWHqddMwi65LHRUb1SiOreeRojvooB3NKT8t1jTPLS5pSMXWo+hzfdqm6BwbW74XxMVAlXIEACIAACIBA+QTMvTK09lB8PkzdQxgFgfGhd5jnR6x28byDClJP30htxdc9zdbmXuLMt3Uppwk+H73wQt5kAuYokUjqv8ei45O1CifVC+MjOmzX9GmYUFe7hHPbQ9PQCJiGQ9altqG1OU99darFLFMfllnibOWZ5dTpPBSfj9CYe2F8hAYN+oJAWQSib1FSrz406p6WN2PbA1NZutSVRdYlj4uM6pdGVvPgCAI+EqiN8REdLZGt1SX840miP0S+7VJ2WlsT/B8EQAAEqiFgjhypEWYar2rUuMaZ5VXTovJqDcXnozwi+dTkhfERNRyyNC06dZOljCLy4NsuRVBFmSCQnkD0gSkPYfNhm1SiPJyzyHbLk7XcJF0lTY2JbnJ5pOfx+52HHt3KcFlq260MMz2OcdHxpg4hn3thfIQMELp3CET39eiktM/MdOxwGqWD6yQC+rYuMlmX2iaVj7TsBPTFz1xtoaXpqosq01QHl6W2Kqv6yzEUnw+b7mY7fDuH8eFbj8Tog9UuMWAQDQKOBEwDRrPEvaVqunnMIuuSx0VG9Ugjq3nk6Np2W/m2OFt5Zn1NOI+OaimnouPrwtYL40MtZ4UayjCe6pv3MdTVLuYOpsLEHOmQazM9tB1ObT+2EjeN/8ygP0BZ4mx12MrTsuuepu3EMQwCSW/ePqUl0bSN0ITi82HqnsQ7qf1lpnlhfJTZ4DwMm6ixVKb+qAsEmkjA9NfIutTWLEMYirEXfUuNYyuGXhbZbnmylhunp8ZHDVOz7WrkmrqpvGucWZ7W6XpcvJxo1rlEz0UWArjkX3s00e0fIcrbf8OlbsjkS6Bxxofge//O2SHqSpnsJSAnCLgTMB8Gmsv2oKhjmrYJxzAImG/eqrG+gZtp3+WViLtMIzp7jkq5Hz9yMdHP/k50/A5EZplagq0+jVOZtMdQfD7StqtqeS+MjzxGI9KA9N2AwLdd0vQmZEHAjYC+8ZvSasiZcXHnWWRd8rjIqE5pZDWPT0cZtfrx34h+dGQ2rY5jo2PuVURyrDrE9UXR8VW3O6/6vTA+8mqMazkY+XAlBTkQAIE6EHA1vGwPTlucrTwXTj+6mWg4P3UuuiNBuo/TWvHpz77M+e8i2nnDeJk8U0Lx+cizzWWU1UjjQ8D+4dH0ePfgocKqAla7VEW+Xa/OcZs/uhK3YMnAPRV0msT8wXaN0zqqbamftZvcsy61jfKVMrVvurVa+jOLbLc8Wct10bebTBXpE9ln4+3bEp13I9HJe9o1uP0pom3Xs6ed+ft2viFD7Ollxkb7Vv/NFx1fZhuLrMsL4yPqwFnWNIzNmBCjJC6+yI4wyw51tYvZBpyDAAj4Q8A0vNSQMx+StgdnUpxZnrYyybdC0z6+W1tajI+Pz9acA4/y+x99JqiEGB9x+VRGjlqfGedybssXis+HTXeXNlcl44XxUVXjUS8I+E5AHwA2PeueZmtzL3H60DXLSGJoysl5FlmXPC4yqksaWc2DIwj4SADGh4+9EqhO0X09os0w07HDaZQOrpMImG/aWZfaJpWPtN4JuK4+6b2mdgmu9aUZEbCVGYrPh6l7mjbn1R9py/HC+ChrmiUtnKrksdqlKvL+1WsOjat2+vZb9zRtb15H04CRMpvk8+E66qP3lsncFmcrz8zThHMbF2l30fF1YeuF8VEXmE1vh7mDqbAwRzrk2kwPbYdT0R8BBEIj8LFL4zW+4cH4tKSU2ZsmpdYvLRSfj9DIw/gIpMew2iWQjoKa3hKwva3HvaXaGpFF1iWPi4zqk0ZW8pxzkOYcfJwxcXCcS8z8hR2pnc7rnDftLDryqH1TdHxdOHthfEQ9m5s+DYPVLnX554V25EXANByyLrXNSxeUYyeQ5GeQlGYvrXtsUplJad1LHigRis/HQK39v/LC+PAfEzQEARAInUATfT4w7RL6XVtf/WF81Ldv0bIaENChXFtT6p5mazPi0hEoc9rFXG2hWuoIhC1NZbIebWXa6tM4l3pssqH4fNh0d2lzVTJeGB9Nn2aJdr5ttUtUBtcgAALpCJhTN5ozyYBTGT1mkXXJ4yKTRQfNg2MxBOL6rej4YlpTfqleGB/lNxs1FkEgurolWoeZjn0+onRwDQJhE0h6805Ky9rqpDKT0pLqs42mhOLzYeqetf1JbPJOa7TxEfd9l7j4vOGjvHAI2N6aJW4a/5nB9tbjGmerwywb5yAAAr0RaBkfrFtpnGcptehVLXHlp9V11Zp29tretPV2k++jk8zu6CaOdBAAARAAARAAARDojYB8vBgBBECgYgI/v6t1VDcVjtqq7+fdZJAOAiAAAiEQ+P+SfCbTLHeXegAAAABJRU5ErkJggg==\" title=\"\"/>\n",
       "</figure>\n",
       "<h1>Hold tight, the system is down while we make improvements.</h1>\n",
       "<h2>(Reorganizing 6.3 billion square feet of commercial real estate might take a few minutes).</h2>\n",
       "<p><a class=\"button primary medium\" href=\"http://www.loopnet.com/\"> Return to Homepage </a></p>\n",
       "<footer>\n",
       "<p>\n",
       "                        If you need assistance, contact <a href=\"http://www.loopnet.com/xNet/MainSite/Marketing/Contact/\">Client Services</a>\n",
       "                            and include ticket AID0-Scdc07363-1b17-45e8-a1d3-8bdfa0a85a20\n",
       "                    </p>\n",
       "</footer>\n",
       "</section>\n",
       "</main>\n",
       "</body>\n",
       "<!--\n",
       "        Could not find file &#39;E:\\Loopnet\\Modules\\_ListingAnalytics\\Scripts\\ListingAnalyticsService.js&#39;.\n",
       "        ------------------\n",
       "        { Message = Could not find file &#39;E:\\Loopnet\\Modules\\_ListingAnalytics\\Scripts\\ListingAnalyticsService.js&#39;., StackTrace =    at System.IO.__Error.WinIOError(Int32 errorCode, String maybeFullPath)\n",
       "   at System.IO.FileStream.Init(String path, FileMode mode, FileAccess access, Int32 rights, Boolean useRights, FileShare share, Int32 bufferSize, FileOptions options, SECURITY_ATTRIBUTES secAttrs, String msgPath, Boolean bFromProxy, Boolean useLongPath, Boolean checkHost)\n",
       "   at System.IO.FileStream..ctor(String path, FileMode mode, FileAccess access, FileShare share, Int32 bufferSize, FileOptions options, String msgPath, Boolean bFromProxy, Boolean useLongPath, Boolean checkHost)\n",
       "   at System.IO.StreamReader..ctor(String path, Encoding encoding, Boolean detectEncodingFromByteOrderMarks, Int32 bufferSize, Boolean checkHost)\n",
       "   at System.IO.FileInfo.OpenText()\n",
       "   at Nexus.Web.Resourcing.FileProvider.VirtualFileInfo.Nexus.Web.Resourcing.IFileInfo.ReadAllText() in c:\\Builds\\52\\Nexus\\Nexus-Maint\\src\\Web\\Resourcing\\FileProvider.cs:line 148\n",
       "   at Nexus.Web.Resourcing.FileResource.GenerateOutput(IFileProvider fileProvider, OutputOptions outputOptions) in c:\\Builds\\52\\Nexus\\Nexus-Maint\\src\\Web\\Resourcing\\FileResource.cs:line 50\n",
       "   at Nexus.Web.Resourcing.Bundle.GenerateOutput(IFileProvider fileProvider, OutputOptions outputOptions) in c:\\Builds\\52\\Nexus\\Nexus-Maint\\src\\Web\\Resourcing\\Bundle.cs:line 80\n",
       "   at Nexus.Web.Resourcing.ResourcingService.GetResourceResponse(Resource resource, OutputOptions outputOptions) in c:\\Builds\\52\\Nexus\\Nexus-Maint\\src\\Web\\Resourcing\\ResourcingService.cs:line 333\n",
       "   at Nexus.Web.Resourcing.ResourcingService.GetResourceRequest(Resource resource, OutputOptions outputOptions) in c:\\Builds\\52\\Nexus\\Nexus-Maint\\src\\Web\\Resourcing\\ResourcingService.cs:line 392\n",
       "   at Nexus.Web.Resourcing.ResourcingService.RenderHtmlTag(Resource resource, OutputOptions outputOptions) in c:\\Builds\\52\\Nexus\\Nexus-Maint\\src\\Web\\Resourcing\\ResourcingService.cs:line 433\n",
       "   at Nexus.Web.Resourcing.ServicedResource.RenderHtmlTag(OutputOptions outputOptions) in c:\\Builds\\52\\Nexus\\Nexus-Maint\\src\\Web\\Resourcing\\ServicedResource.cs:line 83\n",
       "   at LNWeb.HtmlExtensions.RenderTag(HtmlHelper helper, String path) in E:\\Agent4Work\\65\\s\\LNWeb\\Code\\Extensions\\HtmlHelperExtensions.cs:line 90\n",
       "   at ASP._Page_Modules_profile_Views_Listing_cshtml.&lt;Execute&gt;b__2b() in e:\\Loopnet\\Modules\\Profile\\Views\\Listing.cshtml:line 60\n",
       "   at System.Web.WebPages.WebPageBase.&lt;&gt;c__DisplayClass7.&lt;RenderSection&gt;b__5(TextWriter tw)\n",
       "   at System.Web.WebPages.HelperResult.WriteTo(TextWriter writer)\n",
       "   at System.Web.WebPages.WebPageExecutingBase.WriteTo(TextWriter writer, HelperResult content)\n",
       "   at System.Web.WebPages.WebPageBase.Write(HelperResult result)\n",
       "   at ASP._Page_Modules_Common_Views_Layout_cshtml.&lt;Execute&gt;b__10() in e:\\Loopnet\\Modules\\Common\\Views\\Layout.cshtml:line 27\n",
       "   at System.Web.WebPages.WebPageBase.&lt;&gt;c__DisplayClass7.&lt;RenderSection&gt;b__5(TextWriter tw)\n",
       "   at System.Web.WebPages.HelperResult.WriteTo(TextWriter writer)\n",
       "   at System.Web.WebPages.WebPageExecutingBase.WriteTo(TextWriter writer, HelperResult content)\n",
       "   at System.Web.WebPages.WebPageBase.Write(HelperResult result)\n",
       "   at ASP._Page_Modules_Common_Views_Master_Layout_cshtml.Execute() in e:\\Loopnet\\Modules\\Common\\Views\\Master.Layout.cshtml:line 90\n",
       "   at System.Web.WebPages.WebPageBase.ExecutePageHierarchy()\n",
       "   at System.Web.Mvc.WebViewPage.ExecutePageHierarchy()\n",
       "   at System.Web.WebPages.WebPageBase.ExecutePageHierarchy(WebPageContext pageContext, TextWriter writer, WebPageRenderingBase startPage)\n",
       "   at System.Web.WebPages.WebPageBase.ExecutePageHierarchy(WebPageContext pageContext, TextWriter writer)\n",
       "   at System.Web.WebPages.WebPageBase.&lt;&gt;c__DisplayClass3.&lt;RenderPageCore&gt;b__2(TextWriter writer)\n",
       "   at System.Web.WebPages.HelperResult.WriteTo(TextWriter writer)\n",
       "   at System.Web.WebPages.WebPageExecutingBase.WriteTo(TextWriter writer, HelperResult content)\n",
       "   at System.Web.WebPages.WebPageBase.Write(HelperResult result)\n",
       "   at System.Web.WebPages.WebPageBase.RenderSurrounding(String partialViewName, Action`1 body)\n",
       "   at System.Web.WebPages.WebPageBase.PopContext()\n",
       "   at System.Web.WebPages.WebPageBase.ExecutePageHierarchy(WebPageContext pageContext, TextWriter writer, WebPageRenderingBase startPage)\n",
       "   at System.Web.WebPages.WebPageBase.ExecutePageHierarchy(WebPageContext pageContext, TextWriter writer)\n",
       "   at System.Web.WebPages.WebPageBase.&lt;&gt;c__DisplayClass3.&lt;RenderPageCore&gt;b__2(TextWriter writer)\n",
       "   at System.Web.WebPages.HelperResult.WriteTo(TextWriter writer)\n",
       "   at System.Web.WebPages.WebPageExecutingBase.WriteTo(TextWriter writer, HelperResult content)\n",
       "   at System.Web.WebPages.WebPageBase.Write(HelperResult result)\n",
       "   at System.Web.WebPages.WebPageBase.RenderSurrounding(String partialViewName, Action`1 body)\n",
       "   at System.Web.WebPages.WebPageBase.PopContext()\n",
       "   at System.Web.WebPages.WebPageBase.ExecutePageHierarchy(WebPageContext pageContext, TextWriter writer, WebPageRenderingBase startPage)\n",
       "   at System.Web.Mvc.RazorView.RenderView(ViewContext viewContext, TextWriter writer, Object instance)\n",
       "   at System.Web.Mvc.BuildManagerCompiledView.Render(ViewContext viewContext, TextWriter writer)\n",
       "   at System.Web.Mvc.ViewResultBase.ExecuteResult(ControllerContext context)\n",
       "   at System.Web.Mvc.ControllerActionInvoker.InvokeActionResult(ControllerContext controllerContext, ActionResult actionResult)\n",
       "   at System.Web.Mvc.ControllerActionInvoker.InvokeActionResultFilterRecursive(IList`1 filters, Int32 filterIndex, ResultExecutingContext preContext, ControllerContext controllerContext, ActionResult actionResult)\n",
       "   at System.Web.Mvc.ControllerActionInvoker.InvokeActionResultFilterRecursive(IList`1 filters, Int32 filterIndex, ResultExecutingContext preContext, ControllerContext controllerContext, ActionResult actionResult)\n",
       "   at System.Web.Mvc.ControllerActionInvoker.InvokeActionResultFilterRecursive(IList`1 filters, Int32 filterIndex, ResultExecutingContext preContext, ControllerContext controllerContext, ActionResult actionResult)\n",
       "   at System.Web.Mvc.ControllerActionInvoker.InvokeActionResultFilterRecursive(IList`1 filters, Int32 filterIndex, ResultExecutingContext preContext, ControllerContext controllerContext, ActionResult actionResult)\n",
       "   at System.Web.Mvc.ControllerActionInvoker.InvokeActionResultFilterRecursive(IList`1 filters, Int32 filterIndex, ResultExecutingContext preContext, ControllerContext controllerContext, ActionResult actionResult)\n",
       "   at System.Web.Mvc.ControllerActionInvoker.InvokeActionResultFilterRecursive(IList`1 filters, Int32 filterIndex, ResultExecutingContext preContext, ControllerContext controllerContext, ActionResult actionResult)\n",
       "   at System.Web.Mvc.ControllerActionInvoker.InvokeActionResultWithFilters(ControllerContext controllerContext, IList`1 filters, ActionResult actionResult)\n",
       "   at System.Web.Mvc.Async.AsyncControllerActionInvoker.&lt;&gt;c__DisplayClass21.&lt;&gt;c__DisplayClass2b.&lt;BeginInvokeAction&gt;b__1c()\n",
       "   at System.Web.Mvc.Async.AsyncControllerActionInvoker.&lt;&gt;c__DisplayClass21.&lt;BeginInvokeAction&gt;b__1e(IAsyncResult asyncResult)\n",
       "   at System.Web.Mvc.Async.AsyncResultWrapper.WrappedAsyncResult`1.CallEndDelegate(IAsyncResult asyncResult)\n",
       "   at System.Web.Mvc.Async.AsyncResultWrapper.WrappedAsyncResultBase`1.End()\n",
       "   at System.Web.Mvc.Async.AsyncResultWrapper.End[TResult](IAsyncResult asyncResult, Object tag)\n",
       "   at System.Web.Mvc.Async.AsyncControllerActionInvoker.EndInvokeAction(IAsyncResult asyncResult)\n",
       "   at System.Web.Mvc.Controller.&lt;BeginExecuteCore&gt;b__1d(IAsyncResult asyncResult, ExecuteCoreState innerState)\n",
       "   at System.Web.Mvc.Async.AsyncResultWrapper.WrappedAsyncVoid`1.CallEndDelegate(IAsyncResult asyncResult)\n",
       "   at System.Web.Mvc.Async.AsyncResultWrapper.WrappedAsyncResultBase`1.End()\n",
       "   at System.Web.Mvc.Async.AsyncResultWrapper.End[TResult](IAsyncResult asyncResult, Object tag)\n",
       "   at System.Web.Mvc.Async.AsyncResultWrapper.End(IAsyncResult asyncResult, Object tag)\n",
       "   at System.Web.Mvc.Controller.EndExecuteCore(IAsyncResult asyncResult)\n",
       "   at System.Web.Mvc.Controller.&lt;BeginExecute&gt;b__15(IAsyncResult asyncResult, Controller controller)\n",
       "   at System.Web.Mvc.Async.AsyncResultWrapper.WrappedAsyncVoid`1.CallEndDelegate(IAsyncResult asyncResult)\n",
       "   at System.Web.Mvc.Async.AsyncResultWrapper.WrappedAsyncResultBase`1.End()\n",
       "   at System.Web.Mvc.Async.AsyncResultWrapper.End[TResult](IAsyncResult asyncResult, Object tag)\n",
       "   at System.Web.Mvc.Async.AsyncResultWrapper.End(IAsyncResult asyncResult, Object tag)\n",
       "   at System.Web.Mvc.Controller.EndExecute(IAsyncResult asyncResult)\n",
       "   at System.Web.Mvc.Controller.System.Web.Mvc.Async.IAsyncController.EndExecute(IAsyncResult asyncResult)\n",
       "   at System.Web.Mvc.MvcHandler.&lt;BeginProcessRequest&gt;b__5(IAsyncResult asyncResult, ProcessRequestState innerState)\n",
       "   at System.Web.Mvc.Async.AsyncResultWrapper.WrappedAsyncVoid`1.CallEndDelegate(IAsyncResult asyncResult)\n",
       "   at System.Web.Mvc.Async.AsyncResultWrapper.WrappedAsyncResultBase`1.End()\n",
       "   at System.Web.Mvc.Async.AsyncResultWrapper.End[TResult](IAsyncResult asyncResult, Object tag)\n",
       "   at System.Web.Mvc.Async.AsyncResultWrapper.End(IAsyncResult asyncResult, Object tag)\n",
       "   at System.Web.Mvc.MvcHandler.EndProcessRequest(IAsyncResult asyncResult)\n",
       "   at System.Web.Mvc.MvcHandler.System.Web.IHttpAsyncHandler.EndProcessRequest(IAsyncResult result)\n",
       "   at System.Web.HttpApplication.CallHandlerExecutionStep.OnAsyncHandlerCompletion(IAsyncResult ar) }\n",
       "    -->\n",
       "</html>"
      ]
     },
     "execution_count": 118,
     "metadata": {},
     "output_type": "execute_result"
    }
   ],
   "source": [
    "reviewp2"
   ]
  },
  {
   "cell_type": "code",
   "execution_count": null,
   "metadata": {
    "ExecuteTime": {
     "end_time": "2018-06-06T22:13:49.389026Z",
     "start_time": "2018-06-06T22:09:01.484Z"
    },
    "code_folding": []
   },
   "outputs": [],
   "source": [
    "#Writing a pickle file to save data\n",
    "import pickle\n",
    "with open('housing_data.pkl', 'wb') as picklefile:\n",
    "    pickle.dump(listd, picklefile)"
   ]
  },
  {
   "cell_type": "code",
   "execution_count": 59,
   "metadata": {
    "ExecuteTime": {
     "end_time": "2018-06-06T21:48:38.170198Z",
     "start_time": "2018-06-06T21:48:38.166383Z"
    }
   },
   "outputs": [
    {
     "data": {
      "text/plain": [
       "(37.780916, -122.407377)"
      ]
     },
     "execution_count": 59,
     "metadata": {},
     "output_type": "execute_result"
    }
   ],
   "source": [
    "latlong"
   ]
  },
  {
   "cell_type": "code",
   "execution_count": 83,
   "metadata": {
    "ExecuteTime": {
     "end_time": "2018-06-06T21:53:06.698663Z",
     "start_time": "2018-06-06T21:53:06.678940Z"
    }
   },
   "outputs": [],
   "source": [
    "q = reviewp2.find_all(class_='column-08')[0].text.replace('\\n', '').split('\\r')"
   ]
  },
  {
   "cell_type": "code",
   "execution_count": 84,
   "metadata": {
    "ExecuteTime": {
     "end_time": "2018-06-06T21:53:07.242718Z",
     "start_time": "2018-06-06T21:53:07.239368Z"
    }
   },
   "outputs": [],
   "source": [
    "for i in range(len(q)):\n",
    "    q[i]= q[i].strip()"
   ]
  },
  {
   "cell_type": "code",
   "execution_count": 86,
   "metadata": {
    "ExecuteTime": {
     "end_time": "2018-06-06T21:55:58.654649Z",
     "start_time": "2018-06-06T21:55:58.650490Z"
    }
   },
   "outputs": [],
   "source": [
    "location = q[4]+ ' ' +q[5]\n",
    "price = q[24]\n",
    "ptype = q[29]\n",
    "subtype = q[34]\n",
    "zone = q[36]"
   ]
  },
  {
   "cell_type": "code",
   "execution_count": null,
   "metadata": {},
   "outputs": [],
   "source": [
    "len(listd)"
   ]
  }
 ],
 "metadata": {
  "kernelspec": {
   "display_name": "Python 3",
   "language": "python",
   "name": "python3"
  },
  "language_info": {
   "codemirror_mode": {
    "name": "ipython",
    "version": 3
   },
   "file_extension": ".py",
   "mimetype": "text/x-python",
   "name": "python",
   "nbconvert_exporter": "python",
   "pygments_lexer": "ipython3",
   "version": "3.6.4"
  }
 },
 "nbformat": 4,
 "nbformat_minor": 2
}
