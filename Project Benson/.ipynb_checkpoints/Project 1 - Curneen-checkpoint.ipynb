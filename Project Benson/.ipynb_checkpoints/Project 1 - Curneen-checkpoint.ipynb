{
 "cells": [
  {
   "cell_type": "markdown",
   "metadata": {},
   "source": [
    "Topic: Challenge Set 1 Subject: Explore MTA turnstile data Date: 04/13/2018 Name: student name Worked with: other students' name Location: sea18_ds10/student_submissions/challenges/01-mta/shaikh_reshama/challenge_set_1_reshama.ipynb"
   ]
  },
  {
   "cell_type": "code",
   "execution_count": 54,
   "metadata": {},
   "outputs": [],
   "source": [
    "import sys"
   ]
  },
  {
   "cell_type": "code",
   "execution_count": 55,
   "metadata": {},
   "outputs": [],
   "source": [
    "# imports a library 'pandas', names it as 'pd'\n",
    "import pandas as pd\n",
    "import numpy as np\n",
    "import matplotlib.pyplot as plt\n",
    "\n",
    "from IPython.display import Image\n",
    "\n",
    "import pprint\n",
    "\n",
    "# enables inline plots, without it plots don't show up in the notebook\n",
    "%matplotlib inline\n",
    "\n",
    "import dateutil.parser\n",
    "from datetime import *"
   ]
  },
  {
   "cell_type": "code",
   "execution_count": 56,
   "metadata": {},
   "outputs": [],
   "source": [
    "# various options in pandas\n",
    "pd.set_option('display.max_columns', None)\n",
    "pd.set_option('display.max_rows', 500)\n",
    "pd.set_option('display.precision', 3)"
   ]
  },
  {
   "cell_type": "code",
   "execution_count": 57,
   "metadata": {},
   "outputs": [],
   "source": [
    "#read data from this folder\n",
    "df1 = pd.read_csv('turnstile_171007.csv')\n",
    "df2 = pd.read_csv('turnstile_170902.csv')\n",
    "df3 = pd.read_csv('turnstile_171021.csv')"
   ]
  },
  {
   "cell_type": "code",
   "execution_count": 58,
   "metadata": {},
   "outputs": [],
   "source": [
    "#Work with turnstile name as combo\n",
    "def Col_Con(mta):\n",
    "    mta['TURNSTILE'] = mta['C/A'] + mta['UNIT'] + mta['SCP']\n",
    "    mta.drop('C/A', axis=1, inplace = True)\n",
    "    mta.drop('UNIT', axis=1,inplace = True)\n",
    "    mta.drop('SCP', axis=1, inplace = True)\n",
    "    mta = mta.drop('LINENAME', axis=1)\n",
    "    mta = mta.drop('DIVISION', axis=1)\n",
    "    mta = mta.drop('DESC', axis=1)\n",
    "    mta.columns = mta.columns.str.strip()\n",
    "    return mta"
   ]
  },
  {
   "cell_type": "code",
   "execution_count": 59,
   "metadata": {},
   "outputs": [],
   "source": [
    "mta1 = Col_Con(df1)\n",
    "mta2 = Col_Con(df2)\n",
    "mta3 = Col_Con(df3)"
   ]
  },
  {
   "cell_type": "code",
   "execution_count": 60,
   "metadata": {},
   "outputs": [],
   "source": [
    "leng = len(mta1.index)"
   ]
  },
  {
   "cell_type": "code",
   "execution_count": 61,
   "metadata": {},
   "outputs": [],
   "source": [
    "# make new columns, blank\n",
    "#Only use if we are using turnstiles as data 'mta['Cu_ENT'] = [0] * leng'\n",
    "def new_cols(mta):\n",
    "    leng = len(mta.index)\n",
    "    mta['ENT_COUNT'] = [0] * leng\n",
    "    mta['EXT_COUNT'] = [0] * leng\n",
    "    mta['DATE_TIME'] = [''] * leng\n",
    "    mta['DATE_TIME_WD'] = [''] * leng\n",
    "    return mta"
   ]
  },
  {
   "cell_type": "code",
   "execution_count": 62,
   "metadata": {},
   "outputs": [],
   "source": [
    "mta1 = new_cols(mta1)\n",
    "mta2 = new_cols(mta2)\n",
    "mta3 = new_cols(mta3)"
   ]
  },
  {
   "cell_type": "code",
   "execution_count": null,
   "metadata": {},
   "outputs": [],
   "source": [
    "# Fill empty date time column with formula\n",
    "# I dont think we will use this...\n",
    "def date_time(df):\n",
    "    week   = ['Monday', 'Tuesday', 'Wednesday', 'Thursday', 'Friday', 'Saturday','Sunday']\n",
    "    for i in range(leng):\n",
    "        datetime = df.DATE[i]+ ' ' + df.TIME[i]      \n",
    "        value = dateutil.parser.parse(datetime)\n",
    "        df.at[i,'DATE_TIME'] = value\n",
    "        df.at[i,'DATE_TIME_WD'] = int(value.weekday())\n",
    "    return df"
   ]
  },
  {
   "cell_type": "code",
   "execution_count": null,
   "metadata": {},
   "outputs": [],
   "source": [
    "mta1 = date_time(mta1)\n",
    "mta2 = date_time(mta2)\n",
    "mta3 = date_time(mta3)"
   ]
  },
  {
   "cell_type": "code",
   "execution_count": null,
   "metadata": {},
   "outputs": [],
   "source": [
    "from datetime import datetime as dt\n",
    "noon = dateutil.parser.parse('12:00:00')\n",
    "mask = (mta1[\"DATE_TIME\"].dt.time >= noon.time())\n",
    "\n",
    "no_morn = mta1[mask]\n",
    "no_morn"
   ]
  },
  {
   "cell_type": "code",
   "execution_count": null,
   "metadata": {},
   "outputs": [],
   "source": [
    "#fill empty ent_count with formula\n",
    "def coun_ent(mta):\n",
    "    for i in range(leng):\n",
    "        if i == 0: \n",
    "            mta.at[i,'ENT_COUNT'] = 0\n",
    "        else:\n",
    "            if mta.TURNSTILE[i] == mta.TURNSTILE[i-1]:\n",
    "                diff = mta.ENTRIES[i] - mta.ENTRIES[i-1]\n",
    "                # ignore any negative entry count or very large entry counts, turnstile malfunction\n",
    "                # we should discuss a better \n",
    "                if diff < 0: diff = 0\n",
    "                if diff > 10000: diff = 0\n",
    "                mta.at[i,'ENT_COUNT'] = diff\n",
    "            else:\n",
    "                mta.at[i,'ENT_COUNT'] = 0\n",
    "    return mta"
   ]
  },
  {
   "cell_type": "code",
   "execution_count": null,
   "metadata": {},
   "outputs": [],
   "source": [
    "mta1 = coun_ent(mta1)\n",
    "mta2 = coun_ent(mta2)\n",
    "mta3 = coun_ent(mta3)\n",
    "no_morn = coun_ent(no_morn)"
   ]
  },
  {
   "cell_type": "code",
   "execution_count": null,
   "metadata": {},
   "outputs": [],
   "source": [
    "#fill in new exit counts\n",
    "def coun_ext(mta):\n",
    "    for i in range(leng):\n",
    "        if i == 0: \n",
    "            mta.at[i,'EXT_COUNT'] = 0\n",
    "        else:\n",
    "            if mta.TURNSTILE[i] == mta.TURNSTILE[i-1]:\n",
    "                diff = mta.EXITS[i] - mta.EXITS[i-1]\n",
    "                # ignore any negative entry count or very large entry counts, turnstile malfunction\n",
    "                # we should discuss a better \n",
    "                if diff < 0: diff = 0\n",
    "                if diff > 10000: diff = 0\n",
    "                mta.at[i,'EXT_COUNT'] = diff\n",
    "            else:\n",
    "                mta.at[i,'EXT_COUNT'] = 0\n",
    "                \n",
    "    return mta"
   ]
  },
  {
   "cell_type": "code",
   "execution_count": null,
   "metadata": {},
   "outputs": [],
   "source": [
    "mta1 = coun_ext(mta1)\n",
    "mta2 = coun_ext(mta2)\n",
    "mta3 = coun_ext(mta3)\n",
    "no_morn = coun_ext(no_morn)"
   ]
  },
  {
   "cell_type": "code",
   "execution_count": null,
   "metadata": {},
   "outputs": [],
   "source": [
    "def mor_cln(mta):   \n",
    "    mta = mta.drop('TIME', axis=1)\n",
    "    mta = mta.drop('ENTRIES', axis=1)\n",
    "    mta = mta.drop('EXITS', axis=1)\n",
    "    return mta"
   ]
  },
  {
   "cell_type": "code",
   "execution_count": null,
   "metadata": {},
   "outputs": [],
   "source": [
    "mta1 = mor_cln(mta1)\n",
    "mta2 = mor_cln(mta2)\n",
    "mta3 = mor_cln(mta3)\n",
    "no_morn = mor_cln(no_morn)"
   ]
  },
  {
   "cell_type": "code",
   "execution_count": null,
   "metadata": {},
   "outputs": [],
   "source": [
    "# Check all negative and large numbers have been removed\n",
    "\n",
    "mta1.describe()\n",
    "mta2.describe()\n",
    "mta3.describe()"
   ]
  },
  {
   "cell_type": "code",
   "execution_count": null,
   "metadata": {},
   "outputs": [],
   "source": [
    "#tur_uni = mta.TURNSTILE.unique()"
   ]
  },
  {
   "cell_type": "code",
   "execution_count": null,
   "metadata": {},
   "outputs": [],
   "source": [
    "\"\"\"# Find some time of day trend?\n",
    "turn = ''\n",
    "date = ''\n",
    "sum_ent = 0\n",
    "cu_list = []\n",
    "for i in range(leng):\n",
    "    #Initialing complex if, goal is to have the cumulative for each day \n",
    "    if turn != mta.TURNSTILE[i] and i==0:\n",
    "        turn = mta.TURNSTILE[i]\n",
    "        date = mta.DATE[i]\n",
    "        beg_in = i\n",
    "        sum_ent= 0\n",
    "    #if the turnstile and date are the same, sum up the ent_count\n",
    "    elif (turn == mta.TURNSTILE[i] and date == mta.DATE[i]):\n",
    "        sum_ent += mta['ENT_COUNT'][i]\n",
    "    #if either the turnstile number changes, or the date changes, dump the sum of entries, \n",
    "    #and store in a new column across multpile indexes\n",
    "    elif turn != mta.TURNSTILE[i] or date != df.DATE[i]:\n",
    "        for j in range(i-beg_in):\n",
    "            j +=beg_in\n",
    "            mta.at[j, 'Cu_ENT'] = sum_ent \n",
    "        turn = mta.TURNSTILE[i]\n",
    "        date = mta.DATE[i]\n",
    "        beg_in = i\n",
    "        sum_ent = mta['ENT_COUNT'][i]\n",
    "mta\"\"\""
   ]
  },
  {
   "cell_type": "code",
   "execution_count": null,
   "metadata": {},
   "outputs": [],
   "source": [
    "def merge_agg(ent_agg, ext_agg):\n",
    "    ent_agg.columns = ent_agg.columns.droplevel(level=1)\n",
    "    ext_agg.columns = ext_agg.columns.droplevel(level=1)\n",
    "    #Creating a new data frame removing repeted values\n",
    "    q_mta = pd.merge(ent_agg, ext_agg, on=['STATION','DATE_TIME_WD'], how='left')\n",
    "    return q_mta"
   ]
  },
  {
   "cell_type": "code",
   "execution_count": null,
   "metadata": {},
   "outputs": [],
   "source": [
    "def get_agg(mta):\n",
    "    mt = mta.groupby(['STATION','DATE_TIME_WD'])\n",
    "    ent_agg = mt.agg({'ENT_COUNT':['sum']})\n",
    "    ent_agg.reset_index(inplace=True)\n",
    "    ext_agg = mt.agg({'EXT_COUNT':['sum']})\n",
    "    #returns \"index\" as columns .reset_index()\n",
    "    ext_agg.reset_index(inplace=True)\n",
    "    fin_agg = merge_agg(ent_agg, ext_agg)\n",
    "    return fin_agg"
   ]
  },
  {
   "cell_type": "code",
   "execution_count": null,
   "metadata": {},
   "outputs": [],
   "source": [
    "def get_agg_mean(mta):\n",
    "    mt = mta.groupby(['STATION','DATE_TIME_WD'])\n",
    "    ent_agg = mt.agg({'ENT_COUNT':['mean']})\n",
    "    ent_agg.reset_index(inplace=True)\n",
    "    ext_agg = mt.agg({'EXT_COUNT':['mean']})\n",
    "    #returns \"index\" as columns .reset_index()\n",
    "    ext_agg.reset_index(inplace=True)\n",
    "    fin_agg = merge_agg(ent_agg, ext_agg)\n",
    "    return fin_agg"
   ]
  },
  {
   "cell_type": "code",
   "execution_count": null,
   "metadata": {},
   "outputs": [],
   "source": [
    "mta1 = get_agg(mta1)\n",
    "mta2 = get_agg(mta2)\n",
    "mta3 = get_agg(mta3)\n",
    "no_morn = get_agg(no_morn)"
   ]
  },
  {
   "cell_type": "code",
   "execution_count": null,
   "metadata": {},
   "outputs": [],
   "source": [
    "def super_merge(a,b,c):\n",
    "    new_df = pd.concat([a, b])\n",
    "    q_mta = pd.concat([new_df, c])\n",
    "    q_mta=get_agg_mean(q_mta)\n",
    "    return q_mta\n",
    "#, on=['STATION','DATE_TIME'], how='left'\n",
    "#, on=['STATION','DATE_TIME'], how='left')"
   ]
  },
  {
   "cell_type": "code",
   "execution_count": null,
   "metadata": {},
   "outputs": [],
   "source": [
    "super_df = super_merge(mta1,mta2,mta3)\n",
    "super_df"
   ]
  },
  {
   "cell_type": "code",
   "execution_count": null,
   "metadata": {},
   "outputs": [],
   "source": [
    "super_df.sort_values(by=['ENT_COUNT'], ascending = 0, inplace = True)\n",
    "uni_stations = list(super_df.STATION.unique())[:30]\n",
    "leng = len(super_df.index)\n",
    "est_donors = []\n",
    "for i in range(leng):\n",
    "    est_donors.append(round(super_df['ENT_COUNT'][i]*.0005))\n",
    "super_df['Donor Est.'] = est_donors"
   ]
  },
  {
   "cell_type": "code",
   "execution_count": null,
   "metadata": {},
   "outputs": [],
   "source": [
    "uni_df = super_df[super_df['STATION'].isin(uni_stations)]\n",
    "uni_dt = super_df.DATE_TIME_WD.unique()\n",
    "print(uni_df)\n",
    "uni_dt.sort()\n",
    "uni_dt"
   ]
  },
  {
   "cell_type": "code",
   "execution_count": null,
   "metadata": {
    "scrolled": true
   },
   "outputs": [],
   "source": [
    "# Next step! Combine days together and analyze what locations are the most popular and one what days\n",
    "import seaborn as sns\n",
    "import matplotlib.dates as mdates\n",
    "\n",
    "# build the figure\n",
    "#fig, ax = plt.subplots(figsize=(11,12))\n",
    "#sns.barplot('DATE_TIME', 'ENT_COUNT', data=uni_df, hue='STATION', ax=ax)\n",
    "\n"
   ]
  },
  {
   "cell_type": "code",
   "execution_count": null,
   "metadata": {
    "scrolled": false
   },
   "outputs": [],
   "source": [
    "fig, ax = plt.subplots(figsize=(15,12))\n",
    "sns.pointplot(y=\"ENT_COUNT\", x=\"DATE_TIME\", data=uni_df, join=True, hue='STATION', ax=ax, linestyles='-', order= uni_dt)"
   ]
  },
  {
   "cell_type": "markdown",
   "metadata": {},
   "source": [
    "#### Challenge 1   \n",
    "  \n",
    "- Open up a new IPython notebook\n",
    "- Download a few MTA turnstile data files\n",
    "- Open up a file, use csv reader to read it, make a python dict where\n",
    "  there is a key for each (C/A, UNIT, SCP, STATION). These are the\n",
    "  first four columns. The value for this key should be a list of\n",
    "  lists. Each list in the list is the rest of the columns in a\n",
    "  row. For example, one key-value pair should look like\n",
    "\n",
    "\n",
    "{    ('A002','R051','02-00-00','LEXINGTON AVE'):\n",
    "[\n",
    "['NQR456', 'BMT', '01/03/2015', '03:00:00', 'REGULAR', '0004945474', '0001675324'],\n",
    "['NQR456', 'BMT', '01/03/2015', '07:00:00', 'REGULAR', '0004945478', '0001675333'],\n",
    "['NQR456', 'BMT', '01/03/2015', '11:00:00', 'REGULAR', '0004945515', '0001675364'],\n",
    "...\n",
    "]\n",
    "}"
   ]
  },
  {
   "cell_type": "code",
   "execution_count": null,
   "metadata": {},
   "outputs": [],
   "source": []
  },
  {
   "cell_type": "markdown",
   "metadata": {},
   "source": [
    "#### Challenge 2\n",
    "\n",
    "- Let's turn this into a time series.\n",
    "\n",
    " For each key (basically the control area, unit, device address and\n",
    " station of a specific turnstile), have a list again, but let the list\n",
    " be comprised of just the point in time and the count of entries.\n",
    "\n",
    "This basically means keeping only the date, time, and entries fields\n",
    "in each list. You can convert the date and time into datetime objects\n",
    "-- That is a python class that represents a point in time. You can\n",
    "combine the date and time fields into a string and use the\n",
    "[dateutil](https://labix.org/python-dateutil) module to convert it\n",
    "into a datetime object. For an example check\n",
    "[this StackOverflow question](http://stackoverflow.com/questions/23385003/attributeerror-when-using-import-dateutil-and-dateutil-parser-parse-but-no).\n",
    "\n",
    "Your new dict should look something like\n",
    "\n",
    "{    ('A002','R051','02-00-00','LEXINGTON AVE'):\n",
    "[\n",
    "[datetime.datetime(2013, 3, 2, 3, 0), 3788],\n",
    "[datetime.datetime(2013, 3, 2, 7, 0), 2585],\n",
    "[datetime.datetime(2013, 3, 2, 12, 0), 10653],\n",
    "[datetime.datetime(2013, 3, 2, 17, 0), 11016],\n",
    "[datetime.datetime(2013, 3, 2, 23, 0), 10666],\n",
    "[datetime.datetime(2013, 3, 3, 3, 0), 10814],\n",
    "[datetime.datetime(2013, 3, 3, 7, 0), 10229],\n",
    "...\n",
    "],\n",
    "....\n",
    "}\n",
    "\n"
   ]
  },
  {
   "cell_type": "code",
   "execution_count": null,
   "metadata": {},
   "outputs": [],
   "source": []
  },
  {
   "cell_type": "markdown",
   "metadata": {},
   "source": [
    "#### Challenge 3\n",
    "\n",
    "- These counts are for every n hours. (What is n?) We want total daily\n",
    "  entries.\n",
    "\n",
    "Now make it that we again have the same keys, but now we have a single\n",
    "value for a single day, which is the total number of passengers that\n",
    "entered through this turnstile on this day.\n"
   ]
  },
  {
   "cell_type": "code",
   "execution_count": null,
   "metadata": {},
   "outputs": [],
   "source": []
  },
  {
   "cell_type": "markdown",
   "metadata": {},
   "source": [
    "#### Challenge 4\n",
    "\n",
    "We will plot the daily time series for a turnstile.\n",
    "\n",
    "In ipython notebook, add this to the beginning of your next cell:\n",
    "\n",
    "    %matplotlib inline\n",
    "\n",
    "This will make your matplotlib graphs integrate nicely with the\n",
    "notebook. To plot the time series, import matplotlib with\n",
    "\n",
    "    import matplotlib.pyplot as plt\n",
    "\n",
    "Take the list of [(date1, count1), (date2, count2), ...], for the\n",
    "turnstile and turn it into two lists:\n",
    "dates and counts. This should plot it:\n",
    "\n",
    "    plt.figure(figsize=(10,3))\n",
    "    plt.plot(dates,counts)\n",
    "    "
   ]
  },
  {
   "cell_type": "code",
   "execution_count": null,
   "metadata": {},
   "outputs": [],
   "source": [
    "%matplotlib inline\n",
    "import matplotlib.pyplot as plt"
   ]
  },
  {
   "cell_type": "markdown",
   "metadata": {},
   "source": [
    "#### Challenge 5\n",
    "\n",
    "- So far we've been operating on a single turnstile level, let's\n",
    "  combine turnstiles in the same ControlArea/Unit/Station combo. There\n",
    "  are some ControlArea/Unit/Station groups that have a single\n",
    "  turnstile, but most have multiple turnstilea-- same value for the\n",
    "  C/A, UNIT and STATION columns, different values for the SCP column.\n",
    "\n",
    "We want to combine the numbers together -- for each\n",
    "ControlArea/UNIT/STATION combo, for each day, add the counts from each\n",
    "turnstile belonging to that combo."
   ]
  },
  {
   "cell_type": "code",
   "execution_count": null,
   "metadata": {},
   "outputs": [],
   "source": []
  },
  {
   "cell_type": "markdown",
   "metadata": {},
   "source": [
    "#### Challenge 6\n",
    "\n",
    "Similarly, combine everything in each station, and come up with a time\n",
    "series of `[(date1, count1),(date2,count2),...]` type of time series\n",
    "for each STATION, by adding up all the turnstiles in a station."
   ]
  },
  {
   "cell_type": "code",
   "execution_count": null,
   "metadata": {},
   "outputs": [],
   "source": []
  },
  {
   "cell_type": "markdown",
   "metadata": {},
   "source": [
    "#### Challenge 7\n",
    "\n",
    "Plot the time series for a station."
   ]
  },
  {
   "cell_type": "code",
   "execution_count": null,
   "metadata": {},
   "outputs": [],
   "source": []
  },
  {
   "cell_type": "markdown",
   "metadata": {},
   "source": [
    "#### Challenge 8\n",
    "\n",
    "- Make one list of counts for **one** week for one station. Monday's\n",
    "count, Tuesday's count, etc. so it's a list of 7 counts.\n",
    "Make the same list for another week, and another week, and another\n",
    "week.\n",
    "`plt.plot(week_count_list)` for every `week_count_list` you created\n",
    "this way. You should get a rainbow plot of weekly commute numbers on\n",
    "top of each other."
   ]
  },
  {
   "cell_type": "code",
   "execution_count": null,
   "metadata": {},
   "outputs": [],
   "source": []
  },
  {
   "cell_type": "markdown",
   "metadata": {},
   "source": [
    "#### Challenge 9\n",
    "\n",
    "- Over multiple weeks, sum total ridership for each station and sort\n",
    "  them, so you can find out the stations with the highest traffic\n",
    "  during the time you investigate"
   ]
  },
  {
   "cell_type": "code",
   "execution_count": null,
   "metadata": {},
   "outputs": [],
   "source": []
  },
  {
   "cell_type": "markdown",
   "metadata": {},
   "source": [
    "#### Challenge 10\n",
    "\n",
    "- Make a single list of these total ridership values and plot it with\n",
    "\n",
    "    plt.hist(total_ridership_counts)\n",
    "\n",
    "to get an idea about the distribution of total ridership among\n",
    "different stations.\n",
    "\n",
    "This should show you that most stations have a small traffic, and the\n",
    "histogram bins for large traffic volumes have small bars.\n",
    "\n",
    "*Additional Hint*:\n",
    "\n",
    "If you want to see which stations take the meat of the traffic, you\n",
    "can sort the total ridership counts and make a `plt.bar` graph. For\n",
    "this, you want to have two lists: the indices of each bar, and the\n",
    "values. The indices can just be `0,1,2,3,...`, so you can do\n",
    "\n",
    "    indices = range(len(total_ridership_values))\n",
    "    plt.bar(indices, total_ridership_values)"
   ]
  }
 ],
 "metadata": {
  "kernelspec": {
   "display_name": "Python 3",
   "language": "python",
   "name": "python3"
  },
  "language_info": {
   "codemirror_mode": {
    "name": "ipython",
    "version": 3
   },
   "file_extension": ".py",
   "mimetype": "text/x-python",
   "name": "python",
   "nbconvert_exporter": "python",
   "pygments_lexer": "ipython3",
   "version": "3.6.4"
  }
 },
 "nbformat": 4,
 "nbformat_minor": 2
}
