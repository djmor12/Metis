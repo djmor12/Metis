{
 "cells": [
  {
   "cell_type": "markdown",
   "metadata": {},
   "source": [
    "Topic: Challenge Set 1 Subject: Explore MTA turnstile data Date: 04/13/2018 Name: student name Worked with: other students' name Location: sea18_ds10/student_submissions/challenges/01-mta/shaikh_reshama/challenge_set_1_reshama.ipynb"
   ]
  },
  {
   "cell_type": "code",
   "execution_count": 20,
   "metadata": {},
   "outputs": [],
   "source": [
    "import sys"
   ]
  },
  {
   "cell_type": "code",
   "execution_count": 21,
   "metadata": {},
   "outputs": [],
   "source": [
    "# imports a library 'pandas', names it as 'pd'\n",
    "import pandas as pd\n",
    "import numpy as np\n",
    "import matplotlib.pyplot as plt\n",
    "\n",
    "from IPython.display import Image\n",
    "\n",
    "import pprint\n",
    "\n",
    "# enables inline plots, without it plots don't show up in the notebook\n",
    "%matplotlib inline\n",
    "\n",
    "import dateutil.parser\n",
    "from datetime import *"
   ]
  },
  {
   "cell_type": "code",
   "execution_count": 22,
   "metadata": {},
   "outputs": [],
   "source": [
    "# various options in pandas\n",
    "pd.set_option('display.max_columns', None)\n",
    "pd.set_option('display.max_rows', 500)\n",
    "pd.set_option('display.precision', 3)"
   ]
  },
  {
   "cell_type": "code",
   "execution_count": 23,
   "metadata": {},
   "outputs": [],
   "source": [
    "#read data from this folder\n",
    "df = pd.read_csv('turnstile_171007.csv')\n",
    "mta = df.copy()"
   ]
  },
  {
   "cell_type": "code",
   "execution_count": 24,
   "metadata": {},
   "outputs": [],
   "source": [
    "#Work with turnstile name as combo\n",
    "\n",
    "mta['TURNSTILE'] = mta['C/A'] + mta['UNIT'] + mta['SCP']\n",
    "mta.drop('C/A', axis=1, inplace = True)\n",
    "mta.drop('UNIT', axis=1,inplace = True)\n",
    "mta.drop('SCP', axis=1, inplace = True)\n"
   ]
  },
  {
   "cell_type": "code",
   "execution_count": 25,
   "metadata": {},
   "outputs": [],
   "source": [
    "#re-order cols\n",
    "\n",
    "cols = mta.columns.tolist()\n",
    "cols.insert(0, cols.pop(cols.index('TURNSTILE')))\n",
    "mta = mta.reindex(columns= cols)\n"
   ]
  },
  {
   "cell_type": "code",
   "execution_count": 26,
   "metadata": {},
   "outputs": [],
   "source": [
    "#drop useless data\n",
    "\n",
    "mta = mta.drop('LINENAME', axis=1)\n",
    "mta = mta.drop('DIVISION', axis=1)\n",
    "mta = mta.drop('DESC', axis=1)"
   ]
  },
  {
   "cell_type": "code",
   "execution_count": 27,
   "metadata": {},
   "outputs": [],
   "source": [
    "#remove exit as well\n",
    "\n",
    "mta.columns = mta.columns.str.strip()"
   ]
  },
  {
   "cell_type": "code",
   "execution_count": 28,
   "metadata": {},
   "outputs": [],
   "source": [
    "# make new columns, blank\n",
    "\n",
    "leng = len(mta.index)\n",
    "\n",
    "mta['ENT_COUNT'] = [0] * leng\n",
    "mta['EXT_COUNT'] = [0] * leng\n",
    "mta['DATE_TIME'] = [0] * leng\n",
    "mta['Cu_ENT'] = [0] * leng"
   ]
  },
  {
   "cell_type": "code",
   "execution_count": 29,
   "metadata": {},
   "outputs": [],
   "source": [
    "#reorder the date time column\n",
    "\n",
    "cols = mta.columns.tolist()\n",
    "cols.insert(4, cols.pop(cols.index('DATE_TIME')))\n",
    "mta = mta.reindex(columns= cols)"
   ]
  },
  {
   "cell_type": "code",
   "execution_count": 30,
   "metadata": {},
   "outputs": [],
   "source": [
    "# Fill empty date time column with formula\n",
    "# I dont think we will use this...\n",
    "\n",
    "for i in range(leng):\n",
    "    datetime = df.DATE[i]+ ' ' + df.TIME[i]      \n",
    "    value = dateutil.parser.parse(datetime)\n",
    "     \n",
    "    mta.at[i,'DATE_TIME'] = value"
   ]
  },
  {
   "cell_type": "code",
   "execution_count": 31,
   "metadata": {},
   "outputs": [],
   "source": [
    "#fill empty ent_count with formula\n",
    "\n",
    "for i in range(leng):\n",
    "    if i == 0: \n",
    "        mta.at[i,'ENT_COUNT'] = 0\n",
    "    else:\n",
    "        if mta.TURNSTILE[i] == mta.TURNSTILE[i-1]:\n",
    "            diff = mta.ENTRIES[i] - mta.ENTRIES[i-1]\n",
    "            # ignore any negative entry count or very large entry counts, turnstile malfunction\n",
    "            # we should discuss a better \n",
    "            if diff < 0: diff = 0\n",
    "            if diff > 10000: diff = 0\n",
    "            mta.at[i,'ENT_COUNT'] = diff\n",
    "        else:\n",
    "            mta.at[i,'ENT_COUNT'] = 0"
   ]
  },
  {
   "cell_type": "code",
   "execution_count": 32,
   "metadata": {},
   "outputs": [],
   "source": [
    "#fill in new exit counts\n",
    "for i in range(leng):\n",
    "    if i == 0: \n",
    "        mta.at[i,'EXT_COUNT'] = 0\n",
    "    else:\n",
    "        if mta.TURNSTILE[i] == mta.TURNSTILE[i-1]:\n",
    "            diff = mta.EXITS[i] - mta.EXITS[i-1]\n",
    "            # ignore any negative entry count or very large entry counts, turnstile malfunction\n",
    "            # we should discuss a better \n",
    "            if diff < 0: diff = 0\n",
    "            if diff > 10000: diff = 0\n",
    "            mta.at[i,'EXT_COUNT'] = diff\n",
    "        else:\n",
    "            mta.at[i,'EXT_COUNT'] = 0"
   ]
  },
  {
   "cell_type": "code",
   "execution_count": 33,
   "metadata": {},
   "outputs": [],
   "source": [
    "# mta = mta.drop('DATE', axis=1)\n",
    "# mta = mta.drop('TIME', axis=1)\n",
    "# mta = mta.drop('ENTRIES', axis=1)"
   ]
  },
  {
   "cell_type": "code",
   "execution_count": 34,
   "metadata": {},
   "outputs": [
    {
     "data": {
      "text/html": [
       "<div>\n",
       "<style scoped>\n",
       "    .dataframe tbody tr th:only-of-type {\n",
       "        vertical-align: middle;\n",
       "    }\n",
       "\n",
       "    .dataframe tbody tr th {\n",
       "        vertical-align: top;\n",
       "    }\n",
       "\n",
       "    .dataframe thead th {\n",
       "        text-align: right;\n",
       "    }\n",
       "</style>\n",
       "<table border=\"1\" class=\"dataframe\">\n",
       "  <thead>\n",
       "    <tr style=\"text-align: right;\">\n",
       "      <th></th>\n",
       "      <th>TURNSTILE</th>\n",
       "      <th>STATION</th>\n",
       "      <th>DATE</th>\n",
       "      <th>TIME</th>\n",
       "      <th>DATE_TIME</th>\n",
       "      <th>ENTRIES</th>\n",
       "      <th>EXITS</th>\n",
       "      <th>ENT_COUNT</th>\n",
       "      <th>EXT_COUNT</th>\n",
       "      <th>Cu_ENT</th>\n",
       "    </tr>\n",
       "  </thead>\n",
       "  <tbody>\n",
       "    <tr>\n",
       "      <th>0</th>\n",
       "      <td>A002R05102-00-00</td>\n",
       "      <td>59 ST</td>\n",
       "      <td>09/30/2017</td>\n",
       "      <td>00:00:00</td>\n",
       "      <td>2017-09-30 00:00:00</td>\n",
       "      <td>6346858</td>\n",
       "      <td>2147624</td>\n",
       "      <td>0</td>\n",
       "      <td>0</td>\n",
       "      <td>0</td>\n",
       "    </tr>\n",
       "    <tr>\n",
       "      <th>1</th>\n",
       "      <td>A002R05102-00-00</td>\n",
       "      <td>59 ST</td>\n",
       "      <td>09/30/2017</td>\n",
       "      <td>04:00:00</td>\n",
       "      <td>2017-09-30 04:00:00</td>\n",
       "      <td>6346893</td>\n",
       "      <td>2147630</td>\n",
       "      <td>35</td>\n",
       "      <td>6</td>\n",
       "      <td>0</td>\n",
       "    </tr>\n",
       "    <tr>\n",
       "      <th>2</th>\n",
       "      <td>A002R05102-00-00</td>\n",
       "      <td>59 ST</td>\n",
       "      <td>09/30/2017</td>\n",
       "      <td>08:00:00</td>\n",
       "      <td>2017-09-30 08:00:00</td>\n",
       "      <td>6346912</td>\n",
       "      <td>2147655</td>\n",
       "      <td>19</td>\n",
       "      <td>25</td>\n",
       "      <td>0</td>\n",
       "    </tr>\n",
       "    <tr>\n",
       "      <th>3</th>\n",
       "      <td>A002R05102-00-00</td>\n",
       "      <td>59 ST</td>\n",
       "      <td>09/30/2017</td>\n",
       "      <td>12:00:00</td>\n",
       "      <td>2017-09-30 12:00:00</td>\n",
       "      <td>6347003</td>\n",
       "      <td>2147741</td>\n",
       "      <td>91</td>\n",
       "      <td>86</td>\n",
       "      <td>0</td>\n",
       "    </tr>\n",
       "    <tr>\n",
       "      <th>4</th>\n",
       "      <td>A002R05102-00-00</td>\n",
       "      <td>59 ST</td>\n",
       "      <td>09/30/2017</td>\n",
       "      <td>16:00:00</td>\n",
       "      <td>2017-09-30 16:00:00</td>\n",
       "      <td>6347270</td>\n",
       "      <td>2147801</td>\n",
       "      <td>267</td>\n",
       "      <td>60</td>\n",
       "      <td>0</td>\n",
       "    </tr>\n",
       "  </tbody>\n",
       "</table>\n",
       "</div>"
      ],
      "text/plain": [
       "          TURNSTILE STATION        DATE      TIME            DATE_TIME  \\\n",
       "0  A002R05102-00-00   59 ST  09/30/2017  00:00:00  2017-09-30 00:00:00   \n",
       "1  A002R05102-00-00   59 ST  09/30/2017  04:00:00  2017-09-30 04:00:00   \n",
       "2  A002R05102-00-00   59 ST  09/30/2017  08:00:00  2017-09-30 08:00:00   \n",
       "3  A002R05102-00-00   59 ST  09/30/2017  12:00:00  2017-09-30 12:00:00   \n",
       "4  A002R05102-00-00   59 ST  09/30/2017  16:00:00  2017-09-30 16:00:00   \n",
       "\n",
       "   ENTRIES    EXITS  ENT_COUNT  EXT_COUNT  Cu_ENT  \n",
       "0  6346858  2147624          0          0       0  \n",
       "1  6346893  2147630         35          6       0  \n",
       "2  6346912  2147655         19         25       0  \n",
       "3  6347003  2147741         91         86       0  \n",
       "4  6347270  2147801        267         60       0  "
      ]
     },
     "execution_count": 34,
     "metadata": {},
     "output_type": "execute_result"
    }
   ],
   "source": [
    "mta.head()"
   ]
  },
  {
   "cell_type": "code",
   "execution_count": 35,
   "metadata": {},
   "outputs": [
    {
     "data": {
      "text/html": [
       "<div>\n",
       "<style scoped>\n",
       "    .dataframe tbody tr th:only-of-type {\n",
       "        vertical-align: middle;\n",
       "    }\n",
       "\n",
       "    .dataframe tbody tr th {\n",
       "        vertical-align: top;\n",
       "    }\n",
       "\n",
       "    .dataframe thead th {\n",
       "        text-align: right;\n",
       "    }\n",
       "</style>\n",
       "<table border=\"1\" class=\"dataframe\">\n",
       "  <thead>\n",
       "    <tr style=\"text-align: right;\">\n",
       "      <th></th>\n",
       "      <th>ENTRIES</th>\n",
       "      <th>EXITS</th>\n",
       "      <th>ENT_COUNT</th>\n",
       "      <th>EXT_COUNT</th>\n",
       "      <th>Cu_ENT</th>\n",
       "    </tr>\n",
       "  </thead>\n",
       "  <tbody>\n",
       "    <tr>\n",
       "      <th>count</th>\n",
       "      <td>1.967e+05</td>\n",
       "      <td>1.967e+05</td>\n",
       "      <td>196663.000</td>\n",
       "      <td>196663.000</td>\n",
       "      <td>196663.0</td>\n",
       "    </tr>\n",
       "    <tr>\n",
       "      <th>mean</th>\n",
       "      <td>4.003e+07</td>\n",
       "      <td>3.241e+07</td>\n",
       "      <td>181.638</td>\n",
       "      <td>138.153</td>\n",
       "      <td>0.0</td>\n",
       "    </tr>\n",
       "    <tr>\n",
       "      <th>std</th>\n",
       "      <td>2.080e+08</td>\n",
       "      <td>1.901e+08</td>\n",
       "      <td>265.700</td>\n",
       "      <td>233.081</td>\n",
       "      <td>0.0</td>\n",
       "    </tr>\n",
       "    <tr>\n",
       "      <th>min</th>\n",
       "      <td>0.000e+00</td>\n",
       "      <td>0.000e+00</td>\n",
       "      <td>0.000</td>\n",
       "      <td>0.000</td>\n",
       "      <td>0.0</td>\n",
       "    </tr>\n",
       "    <tr>\n",
       "      <th>25%</th>\n",
       "      <td>5.243e+05</td>\n",
       "      <td>2.643e+05</td>\n",
       "      <td>8.000</td>\n",
       "      <td>6.000</td>\n",
       "      <td>0.0</td>\n",
       "    </tr>\n",
       "    <tr>\n",
       "      <th>50%</th>\n",
       "      <td>2.707e+06</td>\n",
       "      <td>1.510e+06</td>\n",
       "      <td>73.000</td>\n",
       "      <td>51.000</td>\n",
       "      <td>0.0</td>\n",
       "    </tr>\n",
       "    <tr>\n",
       "      <th>75%</th>\n",
       "      <td>6.954e+06</td>\n",
       "      <td>4.840e+06</td>\n",
       "      <td>251.000</td>\n",
       "      <td>168.000</td>\n",
       "      <td>0.0</td>\n",
       "    </tr>\n",
       "    <tr>\n",
       "      <th>max</th>\n",
       "      <td>2.130e+09</td>\n",
       "      <td>2.097e+09</td>\n",
       "      <td>4241.000</td>\n",
       "      <td>4329.000</td>\n",
       "      <td>0.0</td>\n",
       "    </tr>\n",
       "  </tbody>\n",
       "</table>\n",
       "</div>"
      ],
      "text/plain": [
       "         ENTRIES      EXITS   ENT_COUNT   EXT_COUNT    Cu_ENT\n",
       "count  1.967e+05  1.967e+05  196663.000  196663.000  196663.0\n",
       "mean   4.003e+07  3.241e+07     181.638     138.153       0.0\n",
       "std    2.080e+08  1.901e+08     265.700     233.081       0.0\n",
       "min    0.000e+00  0.000e+00       0.000       0.000       0.0\n",
       "25%    5.243e+05  2.643e+05       8.000       6.000       0.0\n",
       "50%    2.707e+06  1.510e+06      73.000      51.000       0.0\n",
       "75%    6.954e+06  4.840e+06     251.000     168.000       0.0\n",
       "max    2.130e+09  2.097e+09    4241.000    4329.000       0.0"
      ]
     },
     "execution_count": 35,
     "metadata": {},
     "output_type": "execute_result"
    }
   ],
   "source": [
    "# Check all negative and large numbers have been removed\n",
    "\n",
    "mta.describe()"
   ]
  },
  {
   "cell_type": "code",
   "execution_count": 36,
   "metadata": {},
   "outputs": [],
   "source": [
    "tur_uni = mta.TURNSTILE.unique()"
   ]
  },
  {
   "cell_type": "code",
   "execution_count": 37,
   "metadata": {},
   "outputs": [
    {
     "data": {
      "text/plain": [
       "\"# Find some time of day trend?\\nturn = ''\\ndate = ''\\nsum_ent = 0\\ncu_list = []\\nfor i in range(leng):\\n    #Initialing complex if, goal is to have the cumulative for each day \\n    if turn != mta.TURNSTILE[i] and i==0:\\n        turn = mta.TURNSTILE[i]\\n        date = mta.DATE[i]\\n        beg_in = i\\n        sum_ent= 0\\n    #if the turnstile and date are the same, sum up the ent_count\\n    elif (turn == mta.TURNSTILE[i] and date == mta.DATE[i]):\\n        sum_ent += mta['ENT_COUNT'][i]\\n    #if either the turnstile number changes, or the date changes, dump the sum of entries, \\n    #and store in a new column across multpile indexes\\n    elif turn != mta.TURNSTILE[i] or date != df.DATE[i]:\\n        for j in range(i-beg_in):\\n            j +=beg_in\\n            mta.at[j, 'Cu_ENT'] = sum_ent \\n        turn = mta.TURNSTILE[i]\\n        date = mta.DATE[i]\\n        beg_in = i\\n        sum_ent = mta['ENT_COUNT'][i]\\nmta\""
      ]
     },
     "execution_count": 37,
     "metadata": {},
     "output_type": "execute_result"
    }
   ],
   "source": [
    "\"\"\"# Find some time of day trend?\n",
    "turn = ''\n",
    "date = ''\n",
    "sum_ent = 0\n",
    "cu_list = []\n",
    "for i in range(leng):\n",
    "    #Initialing complex if, goal is to have the cumulative for each day \n",
    "    if turn != mta.TURNSTILE[i] and i==0:\n",
    "        turn = mta.TURNSTILE[i]\n",
    "        date = mta.DATE[i]\n",
    "        beg_in = i\n",
    "        sum_ent= 0\n",
    "    #if the turnstile and date are the same, sum up the ent_count\n",
    "    elif (turn == mta.TURNSTILE[i] and date == mta.DATE[i]):\n",
    "        sum_ent += mta['ENT_COUNT'][i]\n",
    "    #if either the turnstile number changes, or the date changes, dump the sum of entries, \n",
    "    #and store in a new column across multpile indexes\n",
    "    elif turn != mta.TURNSTILE[i] or date != df.DATE[i]:\n",
    "        for j in range(i-beg_in):\n",
    "            j +=beg_in\n",
    "            mta.at[j, 'Cu_ENT'] = sum_ent \n",
    "        turn = mta.TURNSTILE[i]\n",
    "        date = mta.DATE[i]\n",
    "        beg_in = i\n",
    "        sum_ent = mta['ENT_COUNT'][i]\n",
    "mta\"\"\""
   ]
  },
  {
   "cell_type": "code",
   "execution_count": 38,
   "metadata": {},
   "outputs": [
    {
     "ename": "NameError",
     "evalue": "name 'mt_agg' is not defined",
     "output_type": "error",
     "traceback": [
      "\u001b[0;31m---------------------------------------------------------------------------\u001b[0m",
      "\u001b[0;31mNameError\u001b[0m                                 Traceback (most recent call last)",
      "\u001b[0;32m<ipython-input-38-289c568013bd>\u001b[0m in \u001b[0;36m<module>\u001b[0;34m()\u001b[0m\n\u001b[1;32m      1\u001b[0m \u001b[0mmt\u001b[0m \u001b[0;34m=\u001b[0m \u001b[0mmta\u001b[0m\u001b[0;34m.\u001b[0m\u001b[0mgroupby\u001b[0m\u001b[0;34m(\u001b[0m\u001b[0;34m[\u001b[0m\u001b[0;34m'STATION'\u001b[0m\u001b[0;34m,\u001b[0m\u001b[0;34m'DATE'\u001b[0m\u001b[0;34m]\u001b[0m\u001b[0;34m)\u001b[0m\u001b[0;34m\u001b[0m\u001b[0m\n\u001b[1;32m      2\u001b[0m \u001b[0ment_agg\u001b[0m \u001b[0;34m=\u001b[0m \u001b[0mmt\u001b[0m\u001b[0;34m.\u001b[0m\u001b[0magg\u001b[0m\u001b[0;34m(\u001b[0m\u001b[0;34m{\u001b[0m\u001b[0;34m'ENT_COUNT'\u001b[0m\u001b[0;34m:\u001b[0m\u001b[0;34m[\u001b[0m\u001b[0;34m'sum'\u001b[0m\u001b[0;34m]\u001b[0m\u001b[0;34m}\u001b[0m\u001b[0;34m)\u001b[0m\u001b[0;34m\u001b[0m\u001b[0m\n\u001b[0;32m----> 3\u001b[0;31m \u001b[0mmt_agg\u001b[0m\u001b[0;34m.\u001b[0m\u001b[0mreset_index\u001b[0m\u001b[0;34m(\u001b[0m\u001b[0minplace\u001b[0m\u001b[0;34m=\u001b[0m\u001b[0;32mTrue\u001b[0m\u001b[0;34m)\u001b[0m\u001b[0;34m\u001b[0m\u001b[0m\n\u001b[0m\u001b[1;32m      4\u001b[0m \u001b[0mext_agg\u001b[0m \u001b[0;34m=\u001b[0m \u001b[0mmt\u001b[0m\u001b[0;34m.\u001b[0m\u001b[0magg\u001b[0m\u001b[0;34m(\u001b[0m\u001b[0;34m{\u001b[0m\u001b[0;34m'EXT_COUNT'\u001b[0m\u001b[0;34m:\u001b[0m\u001b[0;34m[\u001b[0m\u001b[0;34m'sum'\u001b[0m\u001b[0;34m]\u001b[0m\u001b[0;34m}\u001b[0m\u001b[0;34m)\u001b[0m\u001b[0;34m\u001b[0m\u001b[0m\n\u001b[1;32m      5\u001b[0m \u001b[0;31m#returns \"index\" as columns .reset_index()\u001b[0m\u001b[0;34m\u001b[0m\u001b[0;34m\u001b[0m\u001b[0m\n",
      "\u001b[0;31mNameError\u001b[0m: name 'mt_agg' is not defined"
     ]
    }
   ],
   "source": [
    "mt = mta.groupby(['STATION','DATE'])\n",
    "ent_agg = mt.agg({'ENT_COUNT':['sum']})\n",
    "mt_agg.reset_index(inplace=True)\n",
    "ext_agg = mt.agg({'EXT_COUNT':['sum']})\n",
    "#returns \"index\" as columns .reset_index()\n",
    "ext_agg.reset_index(inplace=True)\n"
   ]
  },
  {
   "cell_type": "code",
   "execution_count": null,
   "metadata": {},
   "outputs": [],
   "source": [
    "#Creating a new data frame removing repeted values\n",
    "s_mta = mta.copy()\n",
    "s_mta.drop('ENT_COUNT', axis = 1, inplace = True)\n",
    "s_mta = s_mta.drop('DATE_TIME', axis=1)\n",
    "s_mta = s_mta.drop('TIME', axis=1)\n",
    "s_mta = s_mta.drop('ENTRIES', axis=1)\n",
    "s_mta.drop('EXT_COUNT', axis = 1, inplace = True)\n",
    "s_mta"
   ]
  },
  {
   "cell_type": "code",
   "execution_count": null,
   "metadata": {},
   "outputs": [],
   "source": [
    "# Next step! Combine days together and analyze what locations are the most popular and one what days\n",
    "import seaborn as sns\n",
    "g = sns.FacetGrid(mta, row='STATION', col='TURNSTILE', sharex=True, sharey=True)\n",
    "g.map(plt.hist, \"Cu_ENT\")\n"
   ]
  },
  {
   "cell_type": "markdown",
   "metadata": {},
   "source": [
    "#### Challenge 1   \n",
    "  \n",
    "- Open up a new IPython notebook\n",
    "- Download a few MTA turnstile data files\n",
    "- Open up a file, use csv reader to read it, make a python dict where\n",
    "  there is a key for each (C/A, UNIT, SCP, STATION). These are the\n",
    "  first four columns. The value for this key should be a list of\n",
    "  lists. Each list in the list is the rest of the columns in a\n",
    "  row. For example, one key-value pair should look like\n",
    "\n",
    "\n",
    "{    ('A002','R051','02-00-00','LEXINGTON AVE'):\n",
    "[\n",
    "['NQR456', 'BMT', '01/03/2015', '03:00:00', 'REGULAR', '0004945474', '0001675324'],\n",
    "['NQR456', 'BMT', '01/03/2015', '07:00:00', 'REGULAR', '0004945478', '0001675333'],\n",
    "['NQR456', 'BMT', '01/03/2015', '11:00:00', 'REGULAR', '0004945515', '0001675364'],\n",
    "...\n",
    "]\n",
    "}"
   ]
  },
  {
   "cell_type": "code",
   "execution_count": null,
   "metadata": {},
   "outputs": [],
   "source": []
  },
  {
   "cell_type": "markdown",
   "metadata": {},
   "source": [
    "#### Challenge 2\n",
    "\n",
    "- Let's turn this into a time series.\n",
    "\n",
    " For each key (basically the control area, unit, device address and\n",
    " station of a specific turnstile), have a list again, but let the list\n",
    " be comprised of just the point in time and the count of entries.\n",
    "\n",
    "This basically means keeping only the date, time, and entries fields\n",
    "in each list. You can convert the date and time into datetime objects\n",
    "-- That is a python class that represents a point in time. You can\n",
    "combine the date and time fields into a string and use the\n",
    "[dateutil](https://labix.org/python-dateutil) module to convert it\n",
    "into a datetime object. For an example check\n",
    "[this StackOverflow question](http://stackoverflow.com/questions/23385003/attributeerror-when-using-import-dateutil-and-dateutil-parser-parse-but-no).\n",
    "\n",
    "Your new dict should look something like\n",
    "\n",
    "{    ('A002','R051','02-00-00','LEXINGTON AVE'):\n",
    "[\n",
    "[datetime.datetime(2013, 3, 2, 3, 0), 3788],\n",
    "[datetime.datetime(2013, 3, 2, 7, 0), 2585],\n",
    "[datetime.datetime(2013, 3, 2, 12, 0), 10653],\n",
    "[datetime.datetime(2013, 3, 2, 17, 0), 11016],\n",
    "[datetime.datetime(2013, 3, 2, 23, 0), 10666],\n",
    "[datetime.datetime(2013, 3, 3, 3, 0), 10814],\n",
    "[datetime.datetime(2013, 3, 3, 7, 0), 10229],\n",
    "...\n",
    "],\n",
    "....\n",
    "}\n",
    "\n"
   ]
  },
  {
   "cell_type": "code",
   "execution_count": null,
   "metadata": {},
   "outputs": [],
   "source": []
  },
  {
   "cell_type": "markdown",
   "metadata": {},
   "source": [
    "#### Challenge 3\n",
    "\n",
    "- These counts are for every n hours. (What is n?) We want total daily\n",
    "  entries.\n",
    "\n",
    "Now make it that we again have the same keys, but now we have a single\n",
    "value for a single day, which is the total number of passengers that\n",
    "entered through this turnstile on this day.\n"
   ]
  },
  {
   "cell_type": "code",
   "execution_count": null,
   "metadata": {},
   "outputs": [],
   "source": []
  },
  {
   "cell_type": "markdown",
   "metadata": {},
   "source": [
    "#### Challenge 4\n",
    "\n",
    "We will plot the daily time series for a turnstile.\n",
    "\n",
    "In ipython notebook, add this to the beginning of your next cell:\n",
    "\n",
    "    %matplotlib inline\n",
    "\n",
    "This will make your matplotlib graphs integrate nicely with the\n",
    "notebook. To plot the time series, import matplotlib with\n",
    "\n",
    "    import matplotlib.pyplot as plt\n",
    "\n",
    "Take the list of [(date1, count1), (date2, count2), ...], for the\n",
    "turnstile and turn it into two lists:\n",
    "dates and counts. This should plot it:\n",
    "\n",
    "    plt.figure(figsize=(10,3))\n",
    "    plt.plot(dates,counts)\n",
    "    "
   ]
  },
  {
   "cell_type": "code",
   "execution_count": null,
   "metadata": {},
   "outputs": [],
   "source": [
    "%matplotlib inline\n",
    "import matplotlib.pyplot as plt"
   ]
  },
  {
   "cell_type": "markdown",
   "metadata": {},
   "source": [
    "#### Challenge 5\n",
    "\n",
    "- So far we've been operating on a single turnstile level, let's\n",
    "  combine turnstiles in the same ControlArea/Unit/Station combo. There\n",
    "  are some ControlArea/Unit/Station groups that have a single\n",
    "  turnstile, but most have multiple turnstilea-- same value for the\n",
    "  C/A, UNIT and STATION columns, different values for the SCP column.\n",
    "\n",
    "We want to combine the numbers together -- for each\n",
    "ControlArea/UNIT/STATION combo, for each day, add the counts from each\n",
    "turnstile belonging to that combo."
   ]
  },
  {
   "cell_type": "code",
   "execution_count": null,
   "metadata": {},
   "outputs": [],
   "source": []
  },
  {
   "cell_type": "markdown",
   "metadata": {},
   "source": [
    "#### Challenge 6\n",
    "\n",
    "Similarly, combine everything in each station, and come up with a time\n",
    "series of `[(date1, count1),(date2,count2),...]` type of time series\n",
    "for each STATION, by adding up all the turnstiles in a station."
   ]
  },
  {
   "cell_type": "code",
   "execution_count": null,
   "metadata": {},
   "outputs": [],
   "source": []
  },
  {
   "cell_type": "markdown",
   "metadata": {},
   "source": [
    "#### Challenge 7\n",
    "\n",
    "Plot the time series for a station."
   ]
  },
  {
   "cell_type": "code",
   "execution_count": null,
   "metadata": {},
   "outputs": [],
   "source": []
  },
  {
   "cell_type": "markdown",
   "metadata": {},
   "source": [
    "#### Challenge 8\n",
    "\n",
    "- Make one list of counts for **one** week for one station. Monday's\n",
    "count, Tuesday's count, etc. so it's a list of 7 counts.\n",
    "Make the same list for another week, and another week, and another\n",
    "week.\n",
    "`plt.plot(week_count_list)` for every `week_count_list` you created\n",
    "this way. You should get a rainbow plot of weekly commute numbers on\n",
    "top of each other."
   ]
  },
  {
   "cell_type": "code",
   "execution_count": null,
   "metadata": {},
   "outputs": [],
   "source": []
  },
  {
   "cell_type": "markdown",
   "metadata": {},
   "source": [
    "#### Challenge 9\n",
    "\n",
    "- Over multiple weeks, sum total ridership for each station and sort\n",
    "  them, so you can find out the stations with the highest traffic\n",
    "  during the time you investigate"
   ]
  },
  {
   "cell_type": "code",
   "execution_count": null,
   "metadata": {},
   "outputs": [],
   "source": []
  },
  {
   "cell_type": "markdown",
   "metadata": {},
   "source": [
    "#### Challenge 10\n",
    "\n",
    "- Make a single list of these total ridership values and plot it with\n",
    "\n",
    "    plt.hist(total_ridership_counts)\n",
    "\n",
    "to get an idea about the distribution of total ridership among\n",
    "different stations.\n",
    "\n",
    "This should show you that most stations have a small traffic, and the\n",
    "histogram bins for large traffic volumes have small bars.\n",
    "\n",
    "*Additional Hint*:\n",
    "\n",
    "If you want to see which stations take the meat of the traffic, you\n",
    "can sort the total ridership counts and make a `plt.bar` graph. For\n",
    "this, you want to have two lists: the indices of each bar, and the\n",
    "values. The indices can just be `0,1,2,3,...`, so you can do\n",
    "\n",
    "    indices = range(len(total_ridership_values))\n",
    "    plt.bar(indices, total_ridership_values)"
   ]
  }
 ],
 "metadata": {
  "kernelspec": {
   "display_name": "Python 3",
   "language": "python",
   "name": "python3"
  },
  "language_info": {
   "codemirror_mode": {
    "name": "ipython",
    "version": 3
   },
   "file_extension": ".py",
   "mimetype": "text/x-python",
   "name": "python",
   "nbconvert_exporter": "python",
   "pygments_lexer": "ipython3",
   "version": "3.6.4"
  }
 },
 "nbformat": 4,
 "nbformat_minor": 2
}
