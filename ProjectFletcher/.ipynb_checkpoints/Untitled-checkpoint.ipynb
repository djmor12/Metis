{
 "cells": [
  {
   "cell_type": "code",
   "execution_count": 24,
   "metadata": {
    "ExecuteTime": {
     "end_time": "2018-05-31T21:01:23.462445Z",
     "start_time": "2018-05-31T20:59:14.955168Z"
    }
   },
   "outputs": [],
   "source": [
    "import pandas as pd\n",
    "import gensim\n",
    "import os\n",
    "import collections\n",
    "import smart_open\n",
    "import flask\n",
    "from flask import Flask\n",
    "import pickle\n",
    "import random\n",
    "from surprise import SVDpp,SVD\n",
    "from surprise import Dataset\n",
    "from surprise import Reader\n",
    "import nltk\n",
    "import re\n",
    "from nltk.corpus import stopwords\n",
    "from nltk.tokenize import word_tokenize\n",
    "from sklearn.metrics.pairwise import euclidean_distances\n",
    "\n",
    "app = flask.Flask(__name__)\n",
    "\n",
    "#pulling in dataset, item list\n",
    "with open('/Users/deven/Documents/pickleddata/projectfletcher/newdatalist.pkl', 'rb') as picklefile:\n",
    "    itemdf = pickle.load(picklefile)\n",
    "with open('/Users/deven/Documents/GitHub/Metis/ProjectFletcher/surprise_data.pkl', 'rb') as picklefile:\n",
    "    newdf = pickle.load(picklefile)\n",
    "with open('/Users/deven/Documents/pickleddata/projectfletcher/btrain.pkl', 'rb') as picklefile:\n",
    "    btrain = pickle.load(picklefile)"
   ]
  },
  {
   "cell_type": "code",
   "execution_count": 62,
   "metadata": {
    "ExecuteTime": {
     "end_time": "2018-05-31T21:51:58.589777Z",
     "start_time": "2018-05-31T21:51:58.167981Z"
    }
   },
   "outputs": [],
   "source": [
    "#changing some tea names for easier calls\n",
    "itemdf = pd.DataFrame(itemdf)\n",
    "newname=[]\n",
    "import re\n",
    "\n",
    "for i in itemdf['Tea Name']:\n",
    "    line = re.sub('[!@#$\\'\\\",]', '', i)\n",
    "    newname.append(line)\n",
    "itemdf['Tea Name'] = newname\n",
    "\n",
    "#initializing book list\n",
    "bookt = ['Emma by Jane Austen', 'Persuassion by Jane Austen', 'Sense and Sensibility by Jane Austen',\\\n",
    "        'Poems by William Blake', 'The Little People of the Snow by William Bryant', 'The Adventures of Buster Bear by Thornton Burgress'\\\n",
    "        'Alice in Wonderland by Lewis Carroll','The Ball and the Cross by G.K. Chesterton','The Wisdom of Father Brown by G.K. Chesterton'\\\n",
    "        'The Ball and the Cross by G.K. Chesterton', 'The Parents Assistant by Maria Edgeworth','Moby Dick by Herman Melville',\\\n",
    "        'Paradise Lost by John Milton', 'Shakespeares Works','Shakespeares Works','Shakespeares Works', 'Leaves of Grass by Walt Whitman']\n",
    "\n",
    "imagelocs = {'Emma by Jane Austen':'static/emma.jpg','Persuassion by Jane Austen':'static/persuassion.jpg','Sense and Sensibility by Jane Austen':'static/sense.jpg',\\\n",
    "'Poems by William Blake':'static/blake.jpg','The Little People of the Snow by William Bryant':'static/bryant.jpg','The Adventures of Buster Bear by Thornton Burgress':'static/the-adventures-of-buster-bear.jpg',\\\n",
    "'Alice in Wonderland by Lewis Carroll':'static/alice.jpg', 'The Ball and the Cross by G.K. Chesterton':'static/ball.jpg','The Wisdom of Father Brown by G.K. Chesterton':'static/fatherbrown.jpg',\\\n",
    "'The Parents Assistant by Maria Edgeworth':'static/edge.jpg','Moby Dick by Herman Melville':'static/moby.jpg','Paradise Lost by John Milton':'static/paradise.jpg',\\\n",
    "'Shakespeares Works':'static/shake.jpg','Shakespeares Works':'static/shake.jpg','Shakespeares Works':'static/shake.jpg','Leaves of Grass by Walt Whitman':'static/leaves.jpg'}\n",
    "\n"
   ]
  },
  {
   "cell_type": "code",
   "execution_count": 63,
   "metadata": {
    "ExecuteTime": {
     "end_time": "2018-05-31T21:52:09.297463Z",
     "start_time": "2018-05-31T21:52:09.273325Z"
    }
   },
   "outputs": [
    {
     "data": {
      "text/html": [
       "<div>\n",
       "<style scoped>\n",
       "    .dataframe tbody tr th:only-of-type {\n",
       "        vertical-align: middle;\n",
       "    }\n",
       "\n",
       "    .dataframe tbody tr th {\n",
       "        vertical-align: top;\n",
       "    }\n",
       "\n",
       "    .dataframe thead th {\n",
       "        text-align: right;\n",
       "    }\n",
       "</style>\n",
       "<table border=\"1\" class=\"dataframe\">\n",
       "  <thead>\n",
       "    <tr style=\"text-align: right;\">\n",
       "      <th></th>\n",
       "      <th>Flavor Profile Cust</th>\n",
       "      <th>Flavor Profile Reviews</th>\n",
       "      <th>Mouthfeel</th>\n",
       "      <th>Review Adj</th>\n",
       "      <th>Reviews Supertext</th>\n",
       "      <th>Tea Name</th>\n",
       "    </tr>\n",
       "  </thead>\n",
       "  <tbody>\n",
       "    <tr>\n",
       "      <th>0</th>\n",
       "      <td>0</td>\n",
       "      <td>{'Spicy': 0.0, 'Char': 0.0, 'Sweet': 0.0, 'Nut...</td>\n",
       "      <td>[]</td>\n",
       "      <td>[rich, pu, erh, teaopias, little, selection, p...</td>\n",
       "      <td>A very rich tasting pu erh  Teaopias little s...</td>\n",
       "      <td>Tuo Cha Pu-erh</td>\n",
       "    </tr>\n",
       "    <tr>\n",
       "      <th>1</th>\n",
       "      <td>0</td>\n",
       "      <td>{'Spicy': 0, 'Char': 0, 'Sweet': 0, 'Nutty': 0...</td>\n",
       "      <td>[]</td>\n",
       "      <td>[smooth, nice, nutty, taste, aroma, great, din...</td>\n",
       "      <td>Smooth with a nice nutty taste and aroma  Gre...</td>\n",
       "      <td>Genmaicha Brown Rice Tea</td>\n",
       "    </tr>\n",
       "    <tr>\n",
       "      <th>2</th>\n",
       "      <td>0</td>\n",
       "      <td>{'Spicy': 0, 'Char': 0, 'Sweet': 0, 'Nutty': 0...</td>\n",
       "      <td>[]</td>\n",
       "      <td>[grand]</td>\n",
       "      <td>Grand</td>\n",
       "      <td>Lapsang Souchong</td>\n",
       "    </tr>\n",
       "    <tr>\n",
       "      <th>3</th>\n",
       "      <td>0</td>\n",
       "      <td>{'Spicy': 0, 'Char': 0, 'Sweet': 0, 'Nutty': 0...</td>\n",
       "      <td>[]</td>\n",
       "      <td>[ive, first, zingermans, product, fair, right,...</td>\n",
       "      <td>Sadly I think Ive just encountered the first ...</td>\n",
       "      <td>Moonlight White</td>\n",
       "    </tr>\n",
       "    <tr>\n",
       "      <th>4</th>\n",
       "      <td>0</td>\n",
       "      <td>{'Spicy': 0, 'Char': 0, 'Sweet': 0, 'Nutty': 0...</td>\n",
       "      <td>[]</td>\n",
       "      <td>[cest, effectivement, un, bon, puerh, velouté,...</td>\n",
       "      <td>Cest effectivement un bon Puerh velouté gras ...</td>\n",
       "      <td>Pu Er Vrac 28 (1998)</td>\n",
       "    </tr>\n",
       "  </tbody>\n",
       "</table>\n",
       "</div>"
      ],
      "text/plain": [
       "  Flavor Profile Cust                             Flavor Profile Reviews  \\\n",
       "0                   0  {'Spicy': 0.0, 'Char': 0.0, 'Sweet': 0.0, 'Nut...   \n",
       "1                   0  {'Spicy': 0, 'Char': 0, 'Sweet': 0, 'Nutty': 0...   \n",
       "2                   0  {'Spicy': 0, 'Char': 0, 'Sweet': 0, 'Nutty': 0...   \n",
       "3                   0  {'Spicy': 0, 'Char': 0, 'Sweet': 0, 'Nutty': 0...   \n",
       "4                   0  {'Spicy': 0, 'Char': 0, 'Sweet': 0, 'Nutty': 0...   \n",
       "\n",
       "  Mouthfeel                                         Review Adj  \\\n",
       "0        []  [rich, pu, erh, teaopias, little, selection, p...   \n",
       "1        []  [smooth, nice, nutty, taste, aroma, great, din...   \n",
       "2        []                                            [grand]   \n",
       "3        []  [ive, first, zingermans, product, fair, right,...   \n",
       "4        []  [cest, effectivement, un, bon, puerh, velouté,...   \n",
       "\n",
       "                                   Reviews Supertext                  Tea Name  \n",
       "0   A very rich tasting pu erh  Teaopias little s...            Tuo Cha Pu-erh  \n",
       "1   Smooth with a nice nutty taste and aroma  Gre...  Genmaicha Brown Rice Tea  \n",
       "2                                             Grand           Lapsang Souchong  \n",
       "3   Sadly I think Ive just encountered the first ...           Moonlight White  \n",
       "4   Cest effectivement un bon Puerh velouté gras ...      Pu Er Vrac 28 (1998)  "
      ]
     },
     "execution_count": 63,
     "metadata": {},
     "output_type": "execute_result"
    }
   ],
   "source": [
    "itemdf.head()"
   ]
  },
  {
   "cell_type": "code",
   "execution_count": 93,
   "metadata": {
    "ExecuteTime": {
     "end_time": "2018-06-01T01:13:15.247700Z",
     "start_time": "2018-06-01T01:13:15.235704Z"
    }
   },
   "outputs": [],
   "source": [
    "newdf = pd.concat([newdf,pd.DataFrame([[x[2],x[0], 'user1']], columns = ['Score', 'Tea Name', 'User Name'])], ignore_index=True)\n",
    "reader = Reader(rating_scale=(0, 100))\n",
    "algo=SVD()\n",
    " "
   ]
  },
  {
   "cell_type": "code",
   "execution_count": null,
   "metadata": {
    "ExecuteTime": {
     "start_time": "2018-06-01T01:13:15.765Z"
    }
   },
   "outputs": [],
   "source": [
    "data = Dataset.load_from_df(newdf[['User Name', 'Tea Name', 'Score']], reader)\n",
    "trainset = data.build_full_trainset()\n",
    "algo.fit(trainset)\n",
    "\n",
    "testset = trainset.build_anti_testset()\n",
    "predictions = algo.test(testset)"
   ]
  },
  {
   "cell_type": "code",
   "execution_count": 79,
   "metadata": {
    "ExecuteTime": {
     "end_time": "2018-05-31T21:59:06.513020Z",
     "start_time": "2018-05-31T21:59:06.509662Z"
    }
   },
   "outputs": [
    {
     "data": {
      "text/plain": [
       "11797"
      ]
     },
     "execution_count": 79,
     "metadata": {},
     "output_type": "execute_result"
    }
   ],
   "source": [
    "len(itemdf['Flavor Profile Reviews'])"
   ]
  },
  {
   "cell_type": "code",
   "execution_count": 81,
   "metadata": {
    "ExecuteTime": {
     "end_time": "2018-06-01T00:38:42.950352Z",
     "start_time": "2018-06-01T00:38:42.288242Z"
    }
   },
   "outputs": [],
   "source": [
    "alist= []\n",
    "for i in itemdf['Flavor Profile Reviews']:\n",
    "        alist.append(i)\n",
    "teadf = pd.DataFrame(alist)"
   ]
  },
  {
   "cell_type": "code",
   "execution_count": 82,
   "metadata": {
    "ExecuteTime": {
     "end_time": "2018-06-01T00:38:46.825463Z",
     "start_time": "2018-06-01T00:38:46.710591Z"
    }
   },
   "outputs": [
    {
     "data": {
      "text/html": [
       "<div>\n",
       "<style scoped>\n",
       "    .dataframe tbody tr th:only-of-type {\n",
       "        vertical-align: middle;\n",
       "    }\n",
       "\n",
       "    .dataframe tbody tr th {\n",
       "        vertical-align: top;\n",
       "    }\n",
       "\n",
       "    .dataframe thead th {\n",
       "        text-align: right;\n",
       "    }\n",
       "</style>\n",
       "<table border=\"1\" class=\"dataframe\">\n",
       "  <thead>\n",
       "    <tr style=\"text-align: right;\">\n",
       "      <th></th>\n",
       "      <th>Berry</th>\n",
       "      <th>Char</th>\n",
       "      <th>Citrus</th>\n",
       "      <th>Earth</th>\n",
       "      <th>Floral</th>\n",
       "      <th>Grass</th>\n",
       "      <th>Herbs</th>\n",
       "      <th>Malolactic</th>\n",
       "      <th>Marine</th>\n",
       "      <th>Mineral</th>\n",
       "      <th>Nutty</th>\n",
       "      <th>Spicy</th>\n",
       "      <th>Sweet</th>\n",
       "      <th>Tree Fruit</th>\n",
       "      <th>Tropical</th>\n",
       "      <th>Vegetables</th>\n",
       "      <th>Wood</th>\n",
       "    </tr>\n",
       "  </thead>\n",
       "  <tbody>\n",
       "    <tr>\n",
       "      <th>0</th>\n",
       "      <td>0.0</td>\n",
       "      <td>0.0</td>\n",
       "      <td>1.0</td>\n",
       "      <td>0.0</td>\n",
       "      <td>0.0</td>\n",
       "      <td>0.0</td>\n",
       "      <td>0.0</td>\n",
       "      <td>0.0</td>\n",
       "      <td>0.0</td>\n",
       "      <td>0.0</td>\n",
       "      <td>0.0</td>\n",
       "      <td>0.0</td>\n",
       "      <td>0.0</td>\n",
       "      <td>0.0</td>\n",
       "      <td>0.0</td>\n",
       "      <td>0.0</td>\n",
       "      <td>0.0</td>\n",
       "    </tr>\n",
       "    <tr>\n",
       "      <th>1</th>\n",
       "      <td>0.0</td>\n",
       "      <td>0.0</td>\n",
       "      <td>0.0</td>\n",
       "      <td>0.0</td>\n",
       "      <td>0.0</td>\n",
       "      <td>0.0</td>\n",
       "      <td>0.0</td>\n",
       "      <td>0.0</td>\n",
       "      <td>0.0</td>\n",
       "      <td>0.0</td>\n",
       "      <td>0.0</td>\n",
       "      <td>0.0</td>\n",
       "      <td>0.0</td>\n",
       "      <td>0.0</td>\n",
       "      <td>0.0</td>\n",
       "      <td>0.0</td>\n",
       "      <td>0.0</td>\n",
       "    </tr>\n",
       "    <tr>\n",
       "      <th>2</th>\n",
       "      <td>0.0</td>\n",
       "      <td>0.0</td>\n",
       "      <td>0.0</td>\n",
       "      <td>0.0</td>\n",
       "      <td>0.0</td>\n",
       "      <td>0.0</td>\n",
       "      <td>0.0</td>\n",
       "      <td>0.0</td>\n",
       "      <td>0.0</td>\n",
       "      <td>0.0</td>\n",
       "      <td>0.0</td>\n",
       "      <td>0.0</td>\n",
       "      <td>0.0</td>\n",
       "      <td>0.0</td>\n",
       "      <td>0.0</td>\n",
       "      <td>0.0</td>\n",
       "      <td>0.0</td>\n",
       "    </tr>\n",
       "    <tr>\n",
       "      <th>3</th>\n",
       "      <td>0.0</td>\n",
       "      <td>0.0</td>\n",
       "      <td>0.0</td>\n",
       "      <td>0.0</td>\n",
       "      <td>0.0</td>\n",
       "      <td>0.0</td>\n",
       "      <td>0.0</td>\n",
       "      <td>0.0</td>\n",
       "      <td>0.0</td>\n",
       "      <td>0.0</td>\n",
       "      <td>0.0</td>\n",
       "      <td>0.0</td>\n",
       "      <td>0.0</td>\n",
       "      <td>0.0</td>\n",
       "      <td>0.0</td>\n",
       "      <td>0.0</td>\n",
       "      <td>0.0</td>\n",
       "    </tr>\n",
       "    <tr>\n",
       "      <th>4</th>\n",
       "      <td>0.0</td>\n",
       "      <td>0.0</td>\n",
       "      <td>0.0</td>\n",
       "      <td>0.0</td>\n",
       "      <td>0.0</td>\n",
       "      <td>0.0</td>\n",
       "      <td>0.0</td>\n",
       "      <td>0.0</td>\n",
       "      <td>0.0</td>\n",
       "      <td>0.0</td>\n",
       "      <td>0.0</td>\n",
       "      <td>0.0</td>\n",
       "      <td>0.0</td>\n",
       "      <td>0.0</td>\n",
       "      <td>0.0</td>\n",
       "      <td>0.0</td>\n",
       "      <td>0.0</td>\n",
       "    </tr>\n",
       "  </tbody>\n",
       "</table>\n",
       "</div>"
      ],
      "text/plain": [
       "   Berry  Char  Citrus  Earth  Floral  Grass  Herbs  Malolactic  Marine  \\\n",
       "0    0.0   0.0     1.0    0.0     0.0    0.0    0.0         0.0     0.0   \n",
       "1    0.0   0.0     0.0    0.0     0.0    0.0    0.0         0.0     0.0   \n",
       "2    0.0   0.0     0.0    0.0     0.0    0.0    0.0         0.0     0.0   \n",
       "3    0.0   0.0     0.0    0.0     0.0    0.0    0.0         0.0     0.0   \n",
       "4    0.0   0.0     0.0    0.0     0.0    0.0    0.0         0.0     0.0   \n",
       "\n",
       "   Mineral  Nutty  Spicy  Sweet  Tree Fruit  Tropical  Vegetables  Wood  \n",
       "0      0.0    0.0    0.0    0.0         0.0       0.0         0.0   0.0  \n",
       "1      0.0    0.0    0.0    0.0         0.0       0.0         0.0   0.0  \n",
       "2      0.0    0.0    0.0    0.0         0.0       0.0         0.0   0.0  \n",
       "3      0.0    0.0    0.0    0.0         0.0       0.0         0.0   0.0  \n",
       "4      0.0    0.0    0.0    0.0         0.0       0.0         0.0   0.0  "
      ]
     },
     "execution_count": 82,
     "metadata": {},
     "output_type": "execute_result"
    }
   ],
   "source": [
    "teadf.head()"
   ]
  },
  {
   "cell_type": "code",
   "execution_count": 46,
   "metadata": {
    "ExecuteTime": {
     "end_time": "2018-05-31T21:47:32.496133Z",
     "start_time": "2018-05-31T21:47:32.449208Z"
    }
   },
   "outputs": [],
   "source": [
    "top_n = defaultdict(list)\n",
    "for uid, iid, true_r, est, _ in want:\n",
    "    top_n[uid].append((iid, est))\n",
    "\n",
    "    # Then sort the predictions for each user and retrieve the k highest ones.\n",
    "for uid, user_ratings in top_n.items():\n",
    "    user_ratings.sort(key=lambda x: x[1], reverse=True)\n",
    "    top_n[uid] = user_ratings[:n]"
   ]
  },
  {
   "cell_type": "code",
   "execution_count": null,
   "metadata": {
    "ExecuteTime": {
     "end_time": "2018-05-31T22:54:57.856662Z",
     "start_time": "2018-05-31T22:44:33.757Z"
    }
   },
   "outputs": [],
   "source": [
    "itemdf[itemdf['Tea Name']==x[0]]"
   ]
  },
  {
   "cell_type": "code",
   "execution_count": 54,
   "metadata": {
    "ExecuteTime": {
     "end_time": "2018-05-31T21:50:11.913128Z",
     "start_time": "2018-05-31T21:50:11.909545Z"
    }
   },
   "outputs": [
    {
     "data": {
      "text/plain": [
       "'Love Tea 7'"
      ]
     },
     "execution_count": 54,
     "metadata": {},
     "output_type": "execute_result"
    }
   ],
   "source": [
    "top_n['user1'][0][0]"
   ]
  },
  {
   "cell_type": "code",
   "execution_count": 87,
   "metadata": {
    "ExecuteTime": {
     "end_time": "2018-06-01T01:09:57.406514Z",
     "start_time": "2018-06-01T01:09:57.380035Z"
    }
   },
   "outputs": [],
   "source": [
    "teadist = []\n",
    "mindist = []\n",
    "eudist=0\n",
    "for i in top_n['user1']:\n",
    "    eudis=(euclidean_distances(teadf.iloc[itemdf[itemdf['Tea Name']==x[0]].index,:], \\\n",
    "        teadf.iloc[itemdf[itemdf['Tea Name']==i[0]].index,:]))\n",
    "    teadist.append((i[0],eudist))\n",
    "    mindist = sorted(teadist, key=lambda x:x[1])"
   ]
  },
  {
   "cell_type": "code",
   "execution_count": 88,
   "metadata": {
    "ExecuteTime": {
     "end_time": "2018-06-01T01:09:59.092011Z",
     "start_time": "2018-06-01T01:09:59.088643Z"
    }
   },
   "outputs": [
    {
     "data": {
      "text/plain": [
       "[('Love Tea 7', 0), ('Black Matcha', 0), ('MateVana', 0)]"
      ]
     },
     "execution_count": 88,
     "metadata": {},
     "output_type": "execute_result"
    }
   ],
   "source": [
    "mindist"
   ]
  },
  {
   "cell_type": "code",
   "execution_count": null,
   "metadata": {
    "ExecuteTime": {
     "start_time": "2018-06-01T01:13:43.725Z"
    }
   },
   "outputs": [],
   "source": [
    "#Call function for top ratings\n",
    "from collections import defaultdict\n",
    "def get_top_n(teaid,score,qq, n=3):\n",
    "    # A reader is still needed but only the rating_scale param is requiered.\n",
    "    qq = pd.concat([qq,pd.DataFrame([[score,teaid, 'user1']], columns = ['Score', 'Tea Name', 'User Name'])], ignore_index=True)\n",
    "    reader = Reader(rating_scale=(0, 100))\n",
    "    algo=SVD()\n",
    "    # The columns must correspond to user id, item id and ratings (in that order).\n",
    "    data = Dataset.load_from_df(newdf[['User Name', 'Tea Name', 'Score']], reader)\n",
    "    trainset = data.build_full_trainset()\n",
    "    algo.fit(trainset)\n",
    "\n",
    "    testset = trainset.build_anti_testset()\n",
    "    predictions = algo.test(testset)\n",
    "\n",
    "\n",
    "    '''Return the top-N recommendation for each user from a set of predictions.\n",
    "\n",
    "    Args:\n",
    "        predictions(list of Prediction objects): The list of predictions, as\n",
    "            returned by the test method of an algorithm.\n",
    "        n(int): The number of recommendation to output for each user. Default\n",
    "            is 10.\n",
    "\n",
    "    Returns:\n",
    "    A dict where keys are user (raw) ids and values are lists of tuples:\n",
    "        [(raw item id, rating estimation), ...] of size n.\n",
    "    '''\n",
    "    want= []\n",
    "    for i in predictions:\n",
    "        if i[0]== 'user1':\n",
    "            want.append(i)\n",
    "    # First map the predictions to each user.\n",
    "    top_n = defaultdict(list)\n",
    "    for uid, iid, true_r, est, _ in want:\n",
    "        top_n[uid].append((iid, est))\n",
    "\n",
    "    # Then sort the predictions for each user and retrieve the k highest ones.\n",
    "    for uid, user_ratings in top_n.items():\n",
    "        user_ratings.sort(key=lambda x: x[1], reverse=True)\n",
    "        top_n[uid] = user_ratings[:n]\n",
    "    teadist = []\n",
    "    mindist = []\n",
    "    eudist=0\n",
    "    for i in top_n['user1']:\n",
    "        eudis=(euclidean_distances(teadf.iloc[itemdf[itemdf['Tea Name']==x[0]].index,:], \\\n",
    "            teadf.iloc[itemdf[itemdf['Tea Name']==i[0]].index,:]))\n",
    "        teadist.append((i[0],eudist))\n",
    "    mindist = sorted(teadist, key=lambda x:x[1])\n",
    "\n",
    "    return mindist[0],mindist[1],mindist[2]\n",
    "\n"
   ]
  },
  {
   "cell_type": "code",
   "execution_count": null,
   "metadata": {
    "ExecuteTime": {
     "start_time": "2018-06-01T01:13:44.085Z"
    }
   },
   "outputs": [],
   "source": [
    "def getBookrec(iid):\n",
    "    test_corpus = itemdf[itemdf['Tea Name']==iid]['Review Adj'].values\n",
    "    bookrec = gensim.models.doc2vec.Doc2Vec.load('Users/deven/Documents/pickleddata/projectfletcher/bookrec.bin')\n",
    "    inferred_vector = bookrec.infer_vector(test_corpus)\n",
    "    sims = bookrec.docvecs.most_similar([inferred_vector])\n",
    "    rec=''\n",
    "    tot=0\n",
    "    for ind, i in enumerate(doclen):\n",
    "        tot+=i\n",
    "        if sims[0][0]==btrain[ind][1]:\n",
    "            rec = bookt[ind-1]\n",
    "            break\n",
    "    return rec"
   ]
  },
  {
   "cell_type": "code",
   "execution_count": null,
   "metadata": {
    "ExecuteTime": {
     "start_time": "2018-06-01T01:13:46.202Z"
    }
   },
   "outputs": [],
   "source": [
    "data = {'example':['Chai Matcha','green','83']}"
   ]
  },
  {
   "cell_type": "code",
   "execution_count": null,
   "metadata": {
    "ExecuteTime": {
     "start_time": "2018-06-01T01:13:46.876Z"
    }
   },
   "outputs": [],
   "source": [
    "x = data[\"example\"]\n",
    "rec1,rec2,rec3 = get_top_n(x[0],x[2], newdf)\n",
    "bookrec= getBookrec(x[0])\n",
    "imgrec = imageloc[bookrec]\n",
    "# Put the result in a nice dict so we can send it as json\n",
    "results = {\"tearec1\":rec1,\"tearec2\":rec2,\"tearec3\":rec3,\"bookrec\":bookrec, 'img':img}\n",
    "#return flask.jsonify(results)\n",
    "\n",
    "#--------- RUN WEB APP SERVER ------------#\n",
    "\n",
    "# Start the app server on port 80\n",
    "# (The default website port)\n",
    "#app.run(host='0.0.0.0')\n",
    "# app.run(debug=True)"
   ]
  },
  {
   "cell_type": "code",
   "execution_count": null,
   "metadata": {
    "ExecuteTime": {
     "end_time": "2018-06-01T01:11:41.039188Z",
     "start_time": "2018-06-01T01:11:21.759Z"
    }
   },
   "outputs": [],
   "source": [
    "print(results)"
   ]
  },
  {
   "cell_type": "code",
   "execution_count": null,
   "metadata": {},
   "outputs": [],
   "source": []
  }
 ],
 "metadata": {
  "kernelspec": {
   "display_name": "Python 3",
   "language": "python",
   "name": "python3"
  },
  "language_info": {
   "codemirror_mode": {
    "name": "ipython",
    "version": 3
   },
   "file_extension": ".py",
   "mimetype": "text/x-python",
   "name": "python",
   "nbconvert_exporter": "python",
   "pygments_lexer": "ipython3",
   "version": "3.6.4"
  }
 },
 "nbformat": 4,
 "nbformat_minor": 2
}
