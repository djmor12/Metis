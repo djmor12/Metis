{
 "cells": [
  {
   "cell_type": "code",
   "execution_count": 2,
   "metadata": {
    "ExecuteTime": {
     "end_time": "2018-06-11T16:07:19.935524Z",
     "start_time": "2018-06-11T16:07:19.826588Z"
    }
   },
   "outputs": [
    {
     "name": "stderr",
     "output_type": "stream",
     "text": [
      "E\n",
      "======================================================================\n",
      "ERROR: /Users/deven/Library/Jupyter/runtime/kernel-cf3c223b-9df8-42c1-9b87-eca4e4cea19d (unittest.loader._FailedTest)\n",
      "----------------------------------------------------------------------\n",
      "AttributeError: module '__main__' has no attribute '/Users/deven/Library/Jupyter/runtime/kernel-cf3c223b-9df8-42c1-9b87-eca4e4cea19d'\n",
      "\n",
      "----------------------------------------------------------------------\n",
      "Ran 1 test in 0.001s\n",
      "\n",
      "FAILED (errors=1)\n"
     ]
    },
    {
     "ename": "SystemExit",
     "evalue": "True",
     "output_type": "error",
     "traceback": [
      "An exception has occurred, use %tb to see the full traceback.\n",
      "\u001b[0;31mSystemExit\u001b[0m\u001b[0;31m:\u001b[0m True\n"
     ]
    },
    {
     "name": "stderr",
     "output_type": "stream",
     "text": [
      "/anaconda3/lib/python3.6/site-packages/IPython/core/interactiveshell.py:2918: UserWarning: To exit: use 'exit', 'quit', or Ctrl-D.\n",
      "  warn(\"To exit: use 'exit', 'quit', or Ctrl-D.\", stacklevel=1)\n"
     ]
    }
   ],
   "source": [
    "from __future__ import division\n",
    "import unittest\n",
    "from scipy.spatial.distance import jaccard as j\n",
    "from sklearn.metrics import jaccard_similarity_score\n",
    "\n",
    "\n",
    "class TestJ(unittest.TestCase):\n",
    "\n",
    "    def test_fails_on_no_args(self):\n",
    "        with self.assertRaises(TypeError):\n",
    "            j()\n",
    "\n",
    "    def test_fails_on_one_arg(self):\n",
    "        with self.assertRaises(TypeError):\n",
    "            j(1)\n",
    "\n",
    "    def test_fails_on_three_args(self):\n",
    "        with self.assertRaises(TypeError):\n",
    "            j(1, 2, 3)\n",
    "\n",
    "    def test_one_for_same(self):\n",
    "        result = j([1, 2, 3], [1, 2, 3])\n",
    "        self.assertEqual(result, 1)\n",
    "\n",
    "    def test_result_is_float(self):\n",
    "        result = j([1, 2, 3], [1, 2, 3])\n",
    "        self.assertIs(type(result), type(1.0))\n",
    "\n",
    "    def test_order_not_important(self):\n",
    "        result = j([3, 2, 1], [1, 3, 2])\n",
    "        self.assertEqual(result, 1)\n",
    "\n",
    "    def test_zero_for_different(self):\n",
    "        result = j([1, 2, 3], [4, 5, 6])\n",
    "        self.assertEqual(result, 0)\n",
    "\n",
    "    def test_half_for_double(self):\n",
    "        result = j(['cow'], ['dog', 'cow'])\n",
    "        self.assertEqual(result, 0.5)\n",
    "\n",
    "    def test_third_for_half_same(self):\n",
    "        result = j([1, 2], [2, 3])\n",
    "        self.assertEqual(result, 1/3)\n",
    "\n",
    "    def test_half_for_two_thirds_same(self):\n",
    "        result = j([1, 2, 3], [2, 3, 4])\n",
    "        self.assertEqual(result, 0.5)\n",
    "\n",
    "    def test_immune_to_duplicates(self):\n",
    "        result = j([1, 1, 2], [3, 3, 3, 2, 2])\n",
    "        self.assertEqual(result, 1/3)\n",
    "\n",
    "    def test_larger_lists(self):\n",
    "        result = j(range(1, 10), [10, 9, 8, 7, 6])\n",
    "        self.assertEqual(result, 2/5)\n",
    "\n",
    "if __name__ == '__main__':\n",
    "    unittest.main()\n",
    "\n"
   ]
  },
  {
   "cell_type": "code",
   "execution_count": null,
   "metadata": {},
   "outputs": [],
   "source": []
  }
 ],
 "metadata": {
  "kernelspec": {
   "display_name": "Python 3",
   "language": "python",
   "name": "python3"
  },
  "language_info": {
   "codemirror_mode": {
    "name": "ipython",
    "version": 3
   },
   "file_extension": ".py",
   "mimetype": "text/x-python",
   "name": "python",
   "nbconvert_exporter": "python",
   "pygments_lexer": "ipython3",
   "version": "3.6.4"
  }
 },
 "nbformat": 4,
 "nbformat_minor": 2
}
