{
 "cells": [
  {
   "cell_type": "code",
   "execution_count": 111,
   "metadata": {
    "ExecuteTime": {
     "end_time": "2018-06-01T01:58:04.178772Z",
     "start_time": "2018-06-01T01:56:22.004993Z"
    }
   },
   "outputs": [],
   "source": [
    "import pandas as pd\n",
    "import gensim\n",
    "import os\n",
    "import collections\n",
    "import smart_open\n",
    "import flask\n",
    "from flask import Flask\n",
    "import pickle\n",
    "import random\n",
    "from surprise import SVDpp,SVD\n",
    "from surprise import Dataset\n",
    "from surprise import Reader\n",
    "import nltk\n",
    "import re\n",
    "from nltk.corpus import stopwords\n",
    "from nltk.tokenize import word_tokenize\n",
    "from sklearn.metrics.pairwise import euclidean_distances\n",
    "\n",
    "app = flask.Flask(__name__)\n",
    "\n",
    "#pulling in dataset, item list\n",
    "with open('/Users/deven/Documents/pickleddata/projectfletcher/newdatalist.pkl', 'rb') as picklefile:\n",
    "    itemdf = pickle.load(picklefile)\n",
    "with open('/Users/deven/Documents/GitHub/Metis/ProjectFletcher/surprise_data.pkl', 'rb') as picklefile:\n",
    "    newdf = pickle.load(picklefile)\n",
    "with open('/Users/deven/Documents/pickleddata/projectfletcher/btrain.pkl', 'rb') as picklefile:\n",
    "    btrain = pickle.load(picklefile)\n",
    "with open('doclen.pkl', 'rb') as picklefile:\n",
    "    doclen = pickle.load(picklefile)"
   ]
  },
  {
   "cell_type": "code",
   "execution_count": 124,
   "metadata": {
    "ExecuteTime": {
     "end_time": "2018-06-01T03:04:03.817954Z",
     "start_time": "2018-06-01T03:04:03.738990Z"
    }
   },
   "outputs": [],
   "source": [
    "#changing some tea names for easier calls\n",
    "itemdf = pd.DataFrame(itemdf)\n",
    "newname=[]\n",
    "import re\n",
    "\n",
    "for i in itemdf['Tea Name']:\n",
    "    line = re.sub('[!@#$\\'\\\",]', '', i)\n",
    "    newname.append(line)\n",
    "itemdf['Tea Name'] = newname\n",
    "\n",
    "#initializing book list\n",
    "bookt = ['Emma by Jane Austen', 'Persuassion by Jane Austen', 'Sense and Sensibility by Jane Austen',\\\n",
    "        'Poems by William Blake', 'The Little People of the Snow by William Bryant', 'The Adventures of Buster Bear by Thornton Burgress'\\\n",
    "        'Alice in Wonderland by Lewis Carroll','The Ball and the Cross by G.K. Chesterton','The Wisdom of Father Brown by G.K. Chesterton'\\\n",
    "        'The Ball and the Cross by G.K. Chesterton', 'The Parents Assistant by Maria Edgeworth','Moby Dick by Herman Melville',\\\n",
    "        'Paradise Lost by John Milton', 'Shakespeares Works','Shakespeares Works','Shakespeares Works', 'Leaves of Grass by Walt Whitman']\n",
    "\n",
    "imagelocs = {'Emma by Jane Austen':'static/emma.jpg','Persuassion by Jane Austen':'static/persuassion.jpg','Sense and Sensibility by Jane Austen':'static/sense.jpg',\\\n",
    "'Poems by William Blake':'static/blake.jpg','The Little People of the Snow by William Bryant':'static/bryant.jpg','The Adventures of Buster Bear by Thornton Burgress':'static/the-adventures-of-buster-bear.jpg',\\\n",
    "'The Adventures of Buster Bear by Thornton BurgressAlice in Wonderland by Lewis Carroll':'static/alice.jpg', 'The Ball and the Cross by G.K. Chesterton':'static/ball.jpg','The Wisdom of Father Brown by G.K. Chesterton':'static/fatherbrown.jpg',\\\n",
    "'The Parents Assistant by Maria Edgeworth':'static/edge.jpg','Moby Dick by Herman Melville':'static/moby.jpg','Paradise Lost by John Milton':'static/paradise.jpg',\\\n",
    "'Shakespeares Works':'static/shake.jpg','Shakespeares Works':'static/shake.jpg','Shakespeares Works':'static/shake.jpg','Leaves of Grass by Walt Whitman':'static/leaves.jpg'}\n",
    "\n"
   ]
  },
  {
   "cell_type": "code",
   "execution_count": 144,
   "metadata": {
    "ExecuteTime": {
     "end_time": "2018-06-01T03:32:52.171968Z",
     "start_time": "2018-06-01T03:32:52.155141Z"
    }
   },
   "outputs": [
    {
     "data": {
      "text/html": [
       "<div>\n",
       "<style scoped>\n",
       "    .dataframe tbody tr th:only-of-type {\n",
       "        vertical-align: middle;\n",
       "    }\n",
       "\n",
       "    .dataframe tbody tr th {\n",
       "        vertical-align: top;\n",
       "    }\n",
       "\n",
       "    .dataframe thead th {\n",
       "        text-align: right;\n",
       "    }\n",
       "</style>\n",
       "<table border=\"1\" class=\"dataframe\">\n",
       "  <thead>\n",
       "    <tr style=\"text-align: right;\">\n",
       "      <th></th>\n",
       "      <th>Flavor Profile Cust</th>\n",
       "      <th>Flavor Profile Reviews</th>\n",
       "      <th>Mouthfeel</th>\n",
       "      <th>Review Adj</th>\n",
       "      <th>Reviews Supertext</th>\n",
       "      <th>Tea Name</th>\n",
       "    </tr>\n",
       "  </thead>\n",
       "  <tbody>\n",
       "    <tr>\n",
       "      <th>0</th>\n",
       "      <td>0</td>\n",
       "      <td>{'Spicy': 0.0, 'Char': 0.0, 'Sweet': 0.0, 'Nut...</td>\n",
       "      <td>[]</td>\n",
       "      <td>[rich, pu, erh, teaopias, little, selection, p...</td>\n",
       "      <td>A very rich tasting pu erh  Teaopias little s...</td>\n",
       "      <td>Tuo Cha Pu-erh</td>\n",
       "    </tr>\n",
       "    <tr>\n",
       "      <th>1</th>\n",
       "      <td>0</td>\n",
       "      <td>{'Spicy': 0, 'Char': 0, 'Sweet': 0, 'Nutty': 0...</td>\n",
       "      <td>[]</td>\n",
       "      <td>[smooth, nice, nutty, taste, aroma, great, din...</td>\n",
       "      <td>Smooth with a nice nutty taste and aroma  Gre...</td>\n",
       "      <td>Genmaicha Brown Rice Tea</td>\n",
       "    </tr>\n",
       "    <tr>\n",
       "      <th>2</th>\n",
       "      <td>0</td>\n",
       "      <td>{'Spicy': 0, 'Char': 0, 'Sweet': 0, 'Nutty': 0...</td>\n",
       "      <td>[]</td>\n",
       "      <td>[grand]</td>\n",
       "      <td>Grand</td>\n",
       "      <td>Lapsang Souchong</td>\n",
       "    </tr>\n",
       "    <tr>\n",
       "      <th>3</th>\n",
       "      <td>0</td>\n",
       "      <td>{'Spicy': 0, 'Char': 0, 'Sweet': 0, 'Nutty': 0...</td>\n",
       "      <td>[]</td>\n",
       "      <td>[ive, first, zingermans, product, fair, right,...</td>\n",
       "      <td>Sadly I think Ive just encountered the first ...</td>\n",
       "      <td>Moonlight White</td>\n",
       "    </tr>\n",
       "    <tr>\n",
       "      <th>4</th>\n",
       "      <td>0</td>\n",
       "      <td>{'Spicy': 0, 'Char': 0, 'Sweet': 0, 'Nutty': 0...</td>\n",
       "      <td>[]</td>\n",
       "      <td>[cest, effectivement, un, bon, puerh, velouté,...</td>\n",
       "      <td>Cest effectivement un bon Puerh velouté gras ...</td>\n",
       "      <td>Pu Er Vrac 28 (1998)</td>\n",
       "    </tr>\n",
       "  </tbody>\n",
       "</table>\n",
       "</div>"
      ],
      "text/plain": [
       "  Flavor Profile Cust                             Flavor Profile Reviews  \\\n",
       "0                   0  {'Spicy': 0.0, 'Char': 0.0, 'Sweet': 0.0, 'Nut...   \n",
       "1                   0  {'Spicy': 0, 'Char': 0, 'Sweet': 0, 'Nutty': 0...   \n",
       "2                   0  {'Spicy': 0, 'Char': 0, 'Sweet': 0, 'Nutty': 0...   \n",
       "3                   0  {'Spicy': 0, 'Char': 0, 'Sweet': 0, 'Nutty': 0...   \n",
       "4                   0  {'Spicy': 0, 'Char': 0, 'Sweet': 0, 'Nutty': 0...   \n",
       "\n",
       "  Mouthfeel                                         Review Adj  \\\n",
       "0        []  [rich, pu, erh, teaopias, little, selection, p...   \n",
       "1        []  [smooth, nice, nutty, taste, aroma, great, din...   \n",
       "2        []                                            [grand]   \n",
       "3        []  [ive, first, zingermans, product, fair, right,...   \n",
       "4        []  [cest, effectivement, un, bon, puerh, velouté,...   \n",
       "\n",
       "                                   Reviews Supertext                  Tea Name  \n",
       "0   A very rich tasting pu erh  Teaopias little s...            Tuo Cha Pu-erh  \n",
       "1   Smooth with a nice nutty taste and aroma  Gre...  Genmaicha Brown Rice Tea  \n",
       "2                                             Grand           Lapsang Souchong  \n",
       "3   Sadly I think Ive just encountered the first ...           Moonlight White  \n",
       "4   Cest effectivement un bon Puerh velouté gras ...      Pu Er Vrac 28 (1998)  "
      ]
     },
     "execution_count": 144,
     "metadata": {},
     "output_type": "execute_result"
    }
   ],
   "source": [
    "itemdf.head()"
   ]
  },
  {
   "cell_type": "code",
   "execution_count": 165,
   "metadata": {
    "ExecuteTime": {
     "end_time": "2018-06-01T04:02:12.497561Z",
     "start_time": "2018-06-01T04:02:12.403112Z"
    }
   },
   "outputs": [],
   "source": [
    "#Call function for top ratings\n",
    "from collections import defaultdict\n",
    "def get_top_n(teaid,score,qq, n=10):\n",
    "    # A reader is still needed but only the rating_scale param is requiered.\n",
    "    qq = pd.concat([qq,pd.DataFrame([[score,teaid, 'user1']], columns = ['Score', 'Tea Name', 'User Name'])], ignore_index=True)\n",
    "    reader = Reader(rating_scale=(0, 100))\n",
    "    algo=SVD()\n",
    "    # The columns must correspond to user id, item id and ratings (in that order).\n",
    "    data = Dataset.load_from_df(qq[['User Name', 'Tea Name', 'Score']], reader)\n",
    "    trainset = data.build_full_trainset()\n",
    "    algo.fit(trainset)\n",
    "\n",
    "    testset = trainset.build_anti_testset()\n",
    "    predictions = algo.test(testset)\n",
    "\n",
    "\n",
    "    '''Return the top-N recommendation for each user from a set of predictions.\n",
    "\n",
    "    Args:\n",
    "        predictions(list of Prediction objects): The list of predictions, as\n",
    "            returned by the test method of an algorithm.\n",
    "        n(int): The number of recommendation to output for each user. Default\n",
    "            is 10.\n",
    "\n",
    "    Returns:\n",
    "    A dict where keys are user (raw) ids and values are lists of tuples:\n",
    "        [(raw item id, rating estimation), ...] of size n.\n",
    "    '''\n",
    "    want= []\n",
    "    for i in predictions:\n",
    "        if i[0]== 'user1':\n",
    "            want.append(i)\n",
    "    # First map the predictions to each user.\n",
    "    top_n = defaultdict(list)\n",
    "    for uid, iid, true_r, est, _ in want:\n",
    "        top_n[uid].append((iid, est))\n",
    "    print(want)\n",
    "    # Then sort the predictions for each user and retrieve the k highest ones.\n",
    "    for uid, user_ratings in top_n.items():\n",
    "        user_ratings.sort(key=lambda x: x[1], reverse=True)\n",
    "        top_n[uid] = user_ratings[:n]\n",
    "    teadist = []\n",
    "    mindist = []\n",
    "    eudist=0\n",
    "    for i in top_n['user1']:\n",
    "        eudis=(euclidean_distances(teadf.iloc[itemdf[itemdf['Tea Name']==teaid].index,:], \\\n",
    "            teadf.iloc[(itemdf[itemdf['Tea Name']==i[0]].index),:]))\n",
    "        teadist.append((i[0],eudist))\n",
    "    mindist = sorted(teadist, key=lambda x:x[1])\n",
    "    print(teadist)\n",
    "    print(mindist)\n",
    "    return mindist[:3]\n",
    "\n"
   ]
  },
  {
   "cell_type": "code",
   "execution_count": 166,
   "metadata": {
    "ExecuteTime": {
     "end_time": "2018-06-01T04:02:13.001583Z",
     "start_time": "2018-06-01T04:02:12.983942Z"
    }
   },
   "outputs": [],
   "source": [
    "def getBookrec(iid):\n",
    "    bookrec = gensim.models.doc2vec.Doc2Vec.load('/Users/deven/Documents/pickleddata/projectfletcher/bookrec.bin')\n",
    "    test_corpus = itemdf[itemdf['Tea Name']==iid]['Review Adj'].values[0]\n",
    "    inferred_vector = bookrec.infer_vector(test_corpus)\n",
    "    sims = bookrec.docvecs.most_similar([inferred_vector])\n",
    "    rec=''\n",
    "    tot=0\n",
    "    for ind, i in enumerate(doclen):\n",
    "        tot+=i\n",
    "        if sims[0][0]<tot:\n",
    "            rec = bookt[ind-1]\n",
    "            break\n",
    "    print(rec)\n",
    "    return rec"
   ]
  },
  {
   "cell_type": "code",
   "execution_count": 167,
   "metadata": {
    "ExecuteTime": {
     "end_time": "2018-06-01T04:02:14.538526Z",
     "start_time": "2018-06-01T04:02:14.507068Z"
    }
   },
   "outputs": [
    {
     "data": {
      "text/html": [
       "<div>\n",
       "<style scoped>\n",
       "    .dataframe tbody tr th:only-of-type {\n",
       "        vertical-align: middle;\n",
       "    }\n",
       "\n",
       "    .dataframe tbody tr th {\n",
       "        vertical-align: top;\n",
       "    }\n",
       "\n",
       "    .dataframe thead th {\n",
       "        text-align: right;\n",
       "    }\n",
       "</style>\n",
       "<table border=\"1\" class=\"dataframe\">\n",
       "  <thead>\n",
       "    <tr style=\"text-align: right;\">\n",
       "      <th></th>\n",
       "      <th>Berry</th>\n",
       "      <th>Char</th>\n",
       "      <th>Citrus</th>\n",
       "      <th>Earth</th>\n",
       "      <th>Floral</th>\n",
       "      <th>Grass</th>\n",
       "      <th>Herbs</th>\n",
       "      <th>Malolactic</th>\n",
       "      <th>Marine</th>\n",
       "      <th>Mineral</th>\n",
       "      <th>Nutty</th>\n",
       "      <th>Spicy</th>\n",
       "      <th>Sweet</th>\n",
       "      <th>Tree Fruit</th>\n",
       "      <th>Tropical</th>\n",
       "      <th>Vegetables</th>\n",
       "      <th>Wood</th>\n",
       "    </tr>\n",
       "  </thead>\n",
       "  <tbody>\n",
       "    <tr>\n",
       "      <th>6</th>\n",
       "      <td>0.0</td>\n",
       "      <td>0.0</td>\n",
       "      <td>0.0</td>\n",
       "      <td>0.0</td>\n",
       "      <td>0.0</td>\n",
       "      <td>0.0</td>\n",
       "      <td>0.0</td>\n",
       "      <td>0.0</td>\n",
       "      <td>0.0</td>\n",
       "      <td>0.0</td>\n",
       "      <td>0.1</td>\n",
       "      <td>0.8</td>\n",
       "      <td>0.1</td>\n",
       "      <td>0.0</td>\n",
       "      <td>0.0</td>\n",
       "      <td>0.0</td>\n",
       "      <td>0.0</td>\n",
       "    </tr>\n",
       "  </tbody>\n",
       "</table>\n",
       "</div>"
      ],
      "text/plain": [
       "   Berry  Char  Citrus  Earth  Floral  Grass  Herbs  Malolactic  Marine  \\\n",
       "6    0.0   0.0     0.0    0.0     0.0    0.0    0.0         0.0     0.0   \n",
       "\n",
       "   Mineral  Nutty  Spicy  Sweet  Tree Fruit  Tropical  Vegetables  Wood  \n",
       "6      0.0    0.1    0.8    0.1         0.0       0.0         0.0   0.0  "
      ]
     },
     "execution_count": 167,
     "metadata": {},
     "output_type": "execute_result"
    }
   ],
   "source": [
    "teadf.iloc[itemdf[itemdf['Tea Name']=='Chai Matcha'].index,:]"
   ]
  },
  {
   "cell_type": "code",
   "execution_count": 168,
   "metadata": {
    "ExecuteTime": {
     "end_time": "2018-06-01T04:02:15.188025Z",
     "start_time": "2018-06-01T04:02:15.184788Z"
    }
   },
   "outputs": [],
   "source": [
    "data = {'example':['Chai Matcha','green','83']}"
   ]
  },
  {
   "cell_type": "code",
   "execution_count": 169,
   "metadata": {
    "ExecuteTime": {
     "end_time": "2018-06-01T04:02:20.742971Z",
     "start_time": "2018-06-01T04:02:15.757555Z"
    }
   },
   "outputs": [
    {
     "ename": "KeyboardInterrupt",
     "evalue": "",
     "output_type": "error",
     "traceback": [
      "\u001b[0;31m---------------------------------------------------------------------------\u001b[0m",
      "\u001b[0;31mKeyboardInterrupt\u001b[0m                         Traceback (most recent call last)",
      "\u001b[0;32m<ipython-input-169-0f36629a162b>\u001b[0m in \u001b[0;36m<module>\u001b[0;34m()\u001b[0m\n\u001b[1;32m      1\u001b[0m \u001b[0mx\u001b[0m \u001b[0;34m=\u001b[0m \u001b[0mdata\u001b[0m\u001b[0;34m[\u001b[0m\u001b[0;34m\"example\"\u001b[0m\u001b[0;34m]\u001b[0m\u001b[0;34m\u001b[0m\u001b[0m\n\u001b[0;32m----> 2\u001b[0;31m \u001b[0mrec1\u001b[0m \u001b[0;34m=\u001b[0m \u001b[0mget_top_n\u001b[0m\u001b[0;34m(\u001b[0m\u001b[0mx\u001b[0m\u001b[0;34m[\u001b[0m\u001b[0;36m0\u001b[0m\u001b[0;34m]\u001b[0m\u001b[0;34m,\u001b[0m\u001b[0mx\u001b[0m\u001b[0;34m[\u001b[0m\u001b[0;36m2\u001b[0m\u001b[0;34m]\u001b[0m\u001b[0;34m,\u001b[0m \u001b[0mnewdf\u001b[0m\u001b[0;34m)\u001b[0m\u001b[0;34m\u001b[0m\u001b[0m\n\u001b[0m\u001b[1;32m      3\u001b[0m \u001b[0mbookrec\u001b[0m\u001b[0;34m=\u001b[0m \u001b[0mgetBookrec\u001b[0m\u001b[0;34m(\u001b[0m\u001b[0mx\u001b[0m\u001b[0;34m[\u001b[0m\u001b[0;36m0\u001b[0m\u001b[0;34m]\u001b[0m\u001b[0;34m)\u001b[0m\u001b[0;34m\u001b[0m\u001b[0m\n\u001b[1;32m      4\u001b[0m \u001b[0mimgrec\u001b[0m \u001b[0;34m=\u001b[0m \u001b[0mimagelocs\u001b[0m\u001b[0;34m[\u001b[0m\u001b[0mbookrec\u001b[0m\u001b[0;34m]\u001b[0m\u001b[0;34m\u001b[0m\u001b[0m\n\u001b[1;32m      5\u001b[0m \u001b[0;31m# Put the result in a nice dict so we can send it as json\u001b[0m\u001b[0;34m\u001b[0m\u001b[0;34m\u001b[0m\u001b[0m\n",
      "\u001b[0;32m<ipython-input-165-9272060ebd40>\u001b[0m in \u001b[0;36mget_top_n\u001b[0;34m(teaid, score, qq, n)\u001b[0m\n\u001b[1;32m     11\u001b[0m     \u001b[0malgo\u001b[0m\u001b[0;34m.\u001b[0m\u001b[0mfit\u001b[0m\u001b[0;34m(\u001b[0m\u001b[0mtrainset\u001b[0m\u001b[0;34m)\u001b[0m\u001b[0;34m\u001b[0m\u001b[0m\n\u001b[1;32m     12\u001b[0m \u001b[0;34m\u001b[0m\u001b[0m\n\u001b[0;32m---> 13\u001b[0;31m     \u001b[0mtestset\u001b[0m \u001b[0;34m=\u001b[0m \u001b[0mtrainset\u001b[0m\u001b[0;34m.\u001b[0m\u001b[0mbuild_anti_testset\u001b[0m\u001b[0;34m(\u001b[0m\u001b[0;34m)\u001b[0m\u001b[0;34m\u001b[0m\u001b[0m\n\u001b[0m\u001b[1;32m     14\u001b[0m     \u001b[0mpredictions\u001b[0m \u001b[0;34m=\u001b[0m \u001b[0malgo\u001b[0m\u001b[0;34m.\u001b[0m\u001b[0mtest\u001b[0m\u001b[0;34m(\u001b[0m\u001b[0mtestset\u001b[0m\u001b[0;34m)\u001b[0m\u001b[0;34m\u001b[0m\u001b[0m\n\u001b[1;32m     15\u001b[0m \u001b[0;34m\u001b[0m\u001b[0m\n",
      "\u001b[0;32m/anaconda3/lib/python3.6/site-packages/surprise/trainset.py\u001b[0m in \u001b[0;36mbuild_anti_testset\u001b[0;34m(self, fill)\u001b[0m\n\u001b[1;32m    230\u001b[0m             \u001b[0muser_items\u001b[0m \u001b[0;34m=\u001b[0m \u001b[0mset\u001b[0m\u001b[0;34m(\u001b[0m\u001b[0;34m[\u001b[0m\u001b[0mj\u001b[0m \u001b[0;32mfor\u001b[0m \u001b[0;34m(\u001b[0m\u001b[0mj\u001b[0m\u001b[0;34m,\u001b[0m \u001b[0m_\u001b[0m\u001b[0;34m)\u001b[0m \u001b[0;32min\u001b[0m \u001b[0mself\u001b[0m\u001b[0;34m.\u001b[0m\u001b[0mur\u001b[0m\u001b[0;34m[\u001b[0m\u001b[0mu\u001b[0m\u001b[0;34m]\u001b[0m\u001b[0;34m]\u001b[0m\u001b[0;34m)\u001b[0m\u001b[0;34m\u001b[0m\u001b[0m\n\u001b[1;32m    231\u001b[0m             anti_testset += [(self.to_raw_uid(u), self.to_raw_iid(i), fill) for\n\u001b[0;32m--> 232\u001b[0;31m                              \u001b[0mi\u001b[0m \u001b[0;32min\u001b[0m \u001b[0mself\u001b[0m\u001b[0;34m.\u001b[0m\u001b[0mall_items\u001b[0m\u001b[0;34m(\u001b[0m\u001b[0;34m)\u001b[0m \u001b[0;32mif\u001b[0m\u001b[0;34m\u001b[0m\u001b[0m\n\u001b[0m\u001b[1;32m    233\u001b[0m                              i not in user_items]\n\u001b[1;32m    234\u001b[0m         \u001b[0;32mreturn\u001b[0m \u001b[0manti_testset\u001b[0m\u001b[0;34m\u001b[0m\u001b[0m\n",
      "\u001b[0;32m/anaconda3/lib/python3.6/site-packages/surprise/trainset.py\u001b[0m in \u001b[0;36m<listcomp>\u001b[0;34m(.0)\u001b[0m\n\u001b[1;32m    231\u001b[0m             anti_testset += [(self.to_raw_uid(u), self.to_raw_iid(i), fill) for\n\u001b[1;32m    232\u001b[0m                              \u001b[0mi\u001b[0m \u001b[0;32min\u001b[0m \u001b[0mself\u001b[0m\u001b[0;34m.\u001b[0m\u001b[0mall_items\u001b[0m\u001b[0;34m(\u001b[0m\u001b[0;34m)\u001b[0m \u001b[0;32mif\u001b[0m\u001b[0;34m\u001b[0m\u001b[0m\n\u001b[0;32m--> 233\u001b[0;31m                              i not in user_items]\n\u001b[0m\u001b[1;32m    234\u001b[0m         \u001b[0;32mreturn\u001b[0m \u001b[0manti_testset\u001b[0m\u001b[0;34m\u001b[0m\u001b[0m\n\u001b[1;32m    235\u001b[0m \u001b[0;34m\u001b[0m\u001b[0m\n",
      "\u001b[0;32m/anaconda3/lib/python3.6/site-packages/surprise/trainset.py\u001b[0m in \u001b[0;36mto_raw_iid\u001b[0;34m(self, iiid)\u001b[0m\n\u001b[1;32m    174\u001b[0m \u001b[0;34m\u001b[0m\u001b[0m\n\u001b[1;32m    175\u001b[0m         \u001b[0;32mtry\u001b[0m\u001b[0;34m:\u001b[0m\u001b[0;34m\u001b[0m\u001b[0m\n\u001b[0;32m--> 176\u001b[0;31m             \u001b[0;32mreturn\u001b[0m \u001b[0mself\u001b[0m\u001b[0;34m.\u001b[0m\u001b[0m_inner2raw_id_items\u001b[0m\u001b[0;34m[\u001b[0m\u001b[0miiid\u001b[0m\u001b[0;34m]\u001b[0m\u001b[0;34m\u001b[0m\u001b[0m\n\u001b[0m\u001b[1;32m    177\u001b[0m         \u001b[0;32mexcept\u001b[0m \u001b[0mKeyError\u001b[0m\u001b[0;34m:\u001b[0m\u001b[0;34m\u001b[0m\u001b[0m\n\u001b[1;32m    178\u001b[0m             \u001b[0;32mraise\u001b[0m \u001b[0mValueError\u001b[0m\u001b[0;34m(\u001b[0m\u001b[0mstr\u001b[0m\u001b[0;34m(\u001b[0m\u001b[0miiid\u001b[0m\u001b[0;34m)\u001b[0m \u001b[0;34m+\u001b[0m \u001b[0;34m' is not a valid inner id.'\u001b[0m\u001b[0;34m)\u001b[0m\u001b[0;34m\u001b[0m\u001b[0m\n",
      "\u001b[0;31mKeyboardInterrupt\u001b[0m: "
     ]
    }
   ],
   "source": [
    "x = data[\"example\"]\n",
    "rec1 = get_top_n(x[0],x[2], newdf)\n",
    "bookrec= getBookrec(x[0])\n",
    "imgrec = imagelocs[bookrec]\n",
    "# Put the result in a nice dict so we can send it as json\n",
    "results = {\"tearec1\":rec1,\"tearec2\":rec2,\"tearec3\":rec3,\"bookrec\":bookrec, 'img':imgrec}\n",
    "#return flask.jsonify(results)\n",
    "\n",
    "#--------- RUN WEB APP SERVER ------------#\n",
    "\n",
    "# Start the app server on port 80\n",
    "# (The default website port)\n",
    "#app.run(host='0.0.0.0')\n",
    "# app.run(debug=True)"
   ]
  },
  {
   "cell_type": "code",
   "execution_count": null,
   "metadata": {
    "ExecuteTime": {
     "end_time": "2018-06-01T04:02:20.743878Z",
     "start_time": "2018-06-01T04:02:16.305Z"
    }
   },
   "outputs": [],
   "source": [
    "print(rec1)\n",
    "print(results)"
   ]
  },
  {
   "cell_type": "code",
   "execution_count": null,
   "metadata": {},
   "outputs": [],
   "source": []
  }
 ],
 "metadata": {
  "kernelspec": {
   "display_name": "Python 3",
   "language": "python",
   "name": "python3"
  },
  "language_info": {
   "codemirror_mode": {
    "name": "ipython",
    "version": 3
   },
   "file_extension": ".py",
   "mimetype": "text/x-python",
   "name": "python",
   "nbconvert_exporter": "python",
   "pygments_lexer": "ipython3",
   "version": "3.6.4"
  }
 },
 "nbformat": 4,
 "nbformat_minor": 2
}
