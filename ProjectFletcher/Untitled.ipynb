{
 "cells": [
  {
   "cell_type": "code",
   "execution_count": null,
   "metadata": {},
   "outputs": [],
   "source": [
    "```Prob(line lives forever) = Prob(line lives forever|first amoeba splits) x Prob(first amoeba splits) \n",
    "                           + Prob(line lives forever|first amoeba dies) x Prob(first amoeba dies)\n",
    "                         = Prob(line lives forever|first amoeba splits) x Prob(first amoeba splits) + 0```"
   ]
  }
 ],
 "metadata": {
  "kernelspec": {
   "display_name": "Python 3",
   "language": "python",
   "name": "python3"
  },
  "language_info": {
   "codemirror_mode": {
    "name": "ipython",
    "version": 3
   },
   "file_extension": ".py",
   "mimetype": "text/x-python",
   "name": "python",
   "nbconvert_exporter": "python",
   "pygments_lexer": "ipython3",
   "version": "3.6.4"
  }
 },
 "nbformat": 4,
 "nbformat_minor": 2
}
