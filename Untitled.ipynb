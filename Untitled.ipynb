{
 "cells": [
  {
   "cell_type": "code",
   "execution_count": 1,
   "metadata": {
    "ExecuteTime": {
     "end_time": "2018-06-18T19:44:18.977309Z",
     "start_time": "2018-06-18T19:44:18.862268Z"
    }
   },
   "outputs": [],
   "source": [
    "import numpy as np"
   ]
  },
  {
   "cell_type": "code",
   "execution_count": null,
   "metadata": {},
   "outputs": [],
   "source": [
    "class KNearestNeighbors():\n",
    "    import numpy as np\n",
    "    from scipy.spatial import distance as d\n",
    "    def __init__(self):\n",
    "        self.x=0\n",
    "        self.y=0\n",
    "    \n",
    "    def getDistEu(self,a,b):\n",
    "        dist = np.linalg.norm(a-b)\n",
    "        \n",
    "        \n",
    "    def getDistM(self,a,b):\n",
    "        d.cityblock(a,b)\n",
    "        \n",
    "    def fit(self, X,y, k=4):\n",
    "        \n",
    "    def predict(self, distance = 'euclidean'):\n",
    "        if distance == 'euclidean':\n",
    "        getDistEu()\n",
    "        elif distance == 'manhattan':\n",
    "        getDistM()\n",
    "        return\n",
    "        "
   ]
  }
 ],
 "metadata": {
  "kernelspec": {
   "display_name": "Python 3",
   "language": "python",
   "name": "python3"
  },
  "language_info": {
   "codemirror_mode": {
    "name": "ipython",
    "version": 3
   },
   "file_extension": ".py",
   "mimetype": "text/x-python",
   "name": "python",
   "nbconvert_exporter": "python",
   "pygments_lexer": "ipython3",
   "version": "3.6.4"
  }
 },
 "nbformat": 4,
 "nbformat_minor": 2
}
